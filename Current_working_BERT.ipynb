{
  "nbformat": 4,
  "nbformat_minor": 0,
  "metadata": {
    "colab": {
      "name": "Current_working_BERT.ipynb",
      "provenance": [],
      "collapsed_sections": []
    },
    "kernelspec": {
      "name": "python3",
      "display_name": "Python 3"
    },
    "accelerator": "GPU"
  },
  "cells": [
    {
      "cell_type": "markdown",
      "metadata": {
        "id": "vMQHdNYOgpbX"
      },
      "source": [
        "Importing Libraries"
      ]
    },
    {
      "cell_type": "code",
      "metadata": {
        "colab": {
          "base_uri": "https://localhost:8080/"
        },
        "id": "iq0G0tWy0onc",
        "outputId": "ddb7f0d2-abdf-419a-cdf6-bd2f1ca7223b"
      },
      "source": [
        "from google.colab import drive\n",
        "drive.mount('/content/drive')"
      ],
      "execution_count": null,
      "outputs": [
        {
          "output_type": "stream",
          "text": [
            "Drive already mounted at /content/drive; to attempt to forcibly remount, call drive.mount(\"/content/drive\", force_remount=True).\n"
          ],
          "name": "stdout"
        }
      ]
    },
    {
      "cell_type": "markdown",
      "metadata": {
        "id": "3Jm8hSURgvvC"
      },
      "source": [
        "Loading the Dataset"
      ]
    },
    {
      "cell_type": "code",
      "metadata": {
        "colab": {
          "base_uri": "https://localhost:8080/"
        },
        "id": "XScRipbyf_Yp",
        "outputId": "0c5707ab-26e1-4f4d-c3bf-b3542f6aeccf"
      },
      "source": [
        "import pandas as pd \n",
        "import numpy as np\n",
        "import scipy\n",
        "import math\n",
        "from math import sqrt\n",
        "import os\n",
        "import tensorflow as ts\n",
        "import matplotlib.pyplot as plt\n",
        "import seaborn as sns\n",
        "from numpy import array \n",
        "from collections import Counter\n",
        "import string\n",
        "import re\n",
        "import nltk\n",
        "from nltk.corpus import stopwords\n",
        "from nltk.stem import PorterStemmer\n",
        "from nltk.stem import WordNetLemmatizer\n",
        "from nltk.tokenize import word_tokenize\n",
        "from nltk import pos_tag\n",
        "nltk.download('punkt')\n",
        "nltk.download('stopwords')\n",
        "nltk.download('wordnet')\n",
        "import math\n",
        "from collections import Counter\n",
        "import numpy as np\n",
        "from sklearn.metrics.pairwise import cosine_similarity\n",
        "from nltk.probability import FreqDist\n",
        "from sklearn.metrics import mean_squared_error"
      ],
      "execution_count": null,
      "outputs": [
        {
          "output_type": "stream",
          "text": [
            "[nltk_data] Downloading package punkt to /root/nltk_data...\n",
            "[nltk_data]   Unzipping tokenizers/punkt.zip.\n",
            "[nltk_data] Downloading package stopwords to /root/nltk_data...\n",
            "[nltk_data]   Unzipping corpora/stopwords.zip.\n",
            "[nltk_data] Downloading package wordnet to /root/nltk_data...\n",
            "[nltk_data]   Unzipping corpora/wordnet.zip.\n"
          ],
          "name": "stdout"
        }
      ]
    },
    {
      "cell_type": "code",
      "metadata": {
        "id": "jdaA6Z3WgQmQ"
      },
      "source": [
        "import requests\n",
        "\n",
        "def download_sick(f): \n",
        "\n",
        "    response = requests.get(f).text\n",
        "\n",
        "    lines = response.split(\"\\n\")[1:]\n",
        "    lines = [l.split(\"\\t\") for l in lines if len(l) > 0]\n",
        "    lines = [l for l in lines if len(l) == 5]\n",
        "\n",
        "    df = pd.DataFrame(lines, columns=[\"idx\", \"sent_1\", \"sent_2\", \"sim\", \"label\"])\n",
        "    df['sim'] = pd.to_numeric(df['sim'])\n",
        "    return df\n",
        "    \n",
        "sick_train = download_sick(\"https://raw.githubusercontent.com/alvations/stasis/master/SICK-data/SICK_train.txt\")\n",
        "sick_dev = download_sick(\"https://raw.githubusercontent.com/alvations/stasis/master/SICK-data/SICK_trial.txt\")\n",
        "sick_test = download_sick(\"https://raw.githubusercontent.com/alvations/stasis/master/SICK-data/SICK_test_annotated.txt\")\n",
        "sick_all = sick_train.append(sick_test).append(sick_dev)"
      ],
      "execution_count": null,
      "outputs": []
    },
    {
      "cell_type": "code",
      "metadata": {
        "id": "2b0JnRnLT43p"
      },
      "source": [
        "def normalize(df, feature_names):\n",
        "    result = df.copy()\n",
        "    for feature_name in feature_names:\n",
        "        max_value = df[feature_name].max()\n",
        "        min_value = df[feature_name].min()\n",
        "        result[feature_name] = (df[feature_name] - min_value) / (max_value - min_value)\n",
        "    return result"
      ],
      "execution_count": null,
      "outputs": []
    },
    {
      "cell_type": "code",
      "metadata": {
        "id": "w6OnpKKbT8wC"
      },
      "source": [
        "sick_all = normalize(sick_all,['sim'])\n",
        "sick_test = normalize(sick_test,['sim'])\n",
        "sick_train = normalize(sick_train,['sim'])\n",
        "sick_dev = normalize(sick_dev,['sim'])"
      ],
      "execution_count": null,
      "outputs": []
    },
    {
      "cell_type": "code",
      "metadata": {
        "colab": {
          "base_uri": "https://localhost:8080/",
          "height": 237
        },
        "id": "atxjTD-vTKqP",
        "outputId": "75cdad2d-0138-4bda-8f51-107c5bd133ac"
      },
      "source": [
        "display(sick_train['sim'])\n"
      ],
      "execution_count": null,
      "outputs": [
        {
          "output_type": "display_data",
          "data": {
            "text/plain": [
              "0       0.875\n",
              "1       0.550\n",
              "2       0.925\n",
              "3       0.600\n",
              "4       0.675\n",
              "        ...  \n",
              "4495    0.025\n",
              "4496    0.000\n",
              "4497    0.000\n",
              "4498    0.050\n",
              "4499    0.000\n",
              "Name: sim, Length: 4500, dtype: float64"
            ]
          },
          "metadata": {
            "tags": []
          }
        }
      ]
    },
    {
      "cell_type": "code",
      "metadata": {
        "colab": {
          "base_uri": "https://localhost:8080/"
        },
        "id": "tNsNkkDPRCFq",
        "outputId": "058215ca-1e65-41e9-ac79-8f10f4e27caa"
      },
      "source": [
        "df1 = sick_train['sent_1'].values\n",
        "len(df1)\n",
        "df1\n"
      ],
      "execution_count": null,
      "outputs": [
        {
          "output_type": "execute_result",
          "data": {
            "text/plain": [
              "array(['A group of kids is playing in a yard and an old man is standing in the background',\n",
              "       'A group of children is playing in the house and there is no man standing in the background',\n",
              "       'The young boys are playing outdoors and the man is smiling nearby',\n",
              "       ..., 'The man is singing heartily and playing the guitar',\n",
              "       'A man in blue has a yellow ball in the mitt',\n",
              "       'Three dogs are resting on a sidewalk'], dtype=object)"
            ]
          },
          "metadata": {
            "tags": []
          },
          "execution_count": 20
        }
      ]
    },
    {
      "cell_type": "code",
      "metadata": {
        "colab": {
          "base_uri": "https://localhost:8080/"
        },
        "id": "tq3I-DMc4r_N",
        "outputId": "b8fa7911-e3d5-4090-a178-5bc94cd5a6ab"
      },
      "source": [
        "df2 = sick_train['sent_2'].values\n",
        "len(df2)\n",
        "df2"
      ],
      "execution_count": null,
      "outputs": [
        {
          "output_type": "execute_result",
          "data": {
            "text/plain": [
              "array(['A group of boys in a yard is playing and a man is standing in the background',\n",
              "       'A group of kids is playing in a yard and an old man is standing in the background',\n",
              "       'The kids are playing outdoors near a man with a smile', ...,\n",
              "       'A bicyclist is holding a bike over his head in a group of people',\n",
              "       'A man is jumping rope outside',\n",
              "       'The woman with a knife is slicing a pepper'], dtype=object)"
            ]
          },
          "metadata": {
            "tags": []
          },
          "execution_count": 21
        }
      ]
    },
    {
      "cell_type": "code",
      "metadata": {
        "colab": {
          "base_uri": "https://localhost:8080/"
        },
        "id": "NAYefNcDO1Pu",
        "outputId": "967b307e-234f-4cfc-ec96-1209d11d9e06"
      },
      "source": [
        "pip install -U sentence-transformers"
      ],
      "execution_count": null,
      "outputs": [
        {
          "output_type": "stream",
          "text": [
            "Collecting sentence-transformers\n",
            "\u001b[?25l  Downloading https://files.pythonhosted.org/packages/6a/e2/84d6acfcee2d83164149778a33b6bdd1a74e1bcb59b2b2cd1b861359b339/sentence-transformers-0.4.1.2.tar.gz (64kB)\n",
            "\u001b[K     |████████████████████████████████| 71kB 3.6MB/s \n",
            "\u001b[?25hCollecting transformers<5.0.0,>=3.1.0\n",
            "\u001b[?25l  Downloading https://files.pythonhosted.org/packages/88/b1/41130a228dd656a1a31ba281598a968320283f48d42782845f6ba567f00b/transformers-4.2.2-py3-none-any.whl (1.8MB)\n",
            "\u001b[K     |████████████████████████████████| 1.8MB 7.9MB/s \n",
            "\u001b[?25hRequirement already satisfied, skipping upgrade: tqdm in /usr/local/lib/python3.6/dist-packages (from sentence-transformers) (4.41.1)\n",
            "Requirement already satisfied, skipping upgrade: torch>=1.6.0 in /usr/local/lib/python3.6/dist-packages (from sentence-transformers) (1.7.0+cu101)\n",
            "Requirement already satisfied, skipping upgrade: numpy in /usr/local/lib/python3.6/dist-packages (from sentence-transformers) (1.19.5)\n",
            "Requirement already satisfied, skipping upgrade: scikit-learn in /usr/local/lib/python3.6/dist-packages (from sentence-transformers) (0.22.2.post1)\n",
            "Requirement already satisfied, skipping upgrade: scipy in /usr/local/lib/python3.6/dist-packages (from sentence-transformers) (1.4.1)\n",
            "Requirement already satisfied, skipping upgrade: nltk in /usr/local/lib/python3.6/dist-packages (from sentence-transformers) (3.2.5)\n",
            "Collecting sentencepiece\n",
            "\u001b[?25l  Downloading https://files.pythonhosted.org/packages/14/67/e42bd1181472c95c8cda79305df848264f2a7f62740995a46945d9797b67/sentencepiece-0.1.95-cp36-cp36m-manylinux2014_x86_64.whl (1.2MB)\n",
            "\u001b[K     |████████████████████████████████| 1.2MB 40.6MB/s \n",
            "\u001b[?25hRequirement already satisfied, skipping upgrade: dataclasses; python_version < \"3.7\" in /usr/local/lib/python3.6/dist-packages (from transformers<5.0.0,>=3.1.0->sentence-transformers) (0.8)\n",
            "Requirement already satisfied, skipping upgrade: requests in /usr/local/lib/python3.6/dist-packages (from transformers<5.0.0,>=3.1.0->sentence-transformers) (2.23.0)\n",
            "Collecting sacremoses\n",
            "\u001b[?25l  Downloading https://files.pythonhosted.org/packages/7d/34/09d19aff26edcc8eb2a01bed8e98f13a1537005d31e95233fd48216eed10/sacremoses-0.0.43.tar.gz (883kB)\n",
            "\u001b[K     |████████████████████████████████| 890kB 40.2MB/s \n",
            "\u001b[?25hRequirement already satisfied, skipping upgrade: packaging in /usr/local/lib/python3.6/dist-packages (from transformers<5.0.0,>=3.1.0->sentence-transformers) (20.9)\n",
            "Requirement already satisfied, skipping upgrade: filelock in /usr/local/lib/python3.6/dist-packages (from transformers<5.0.0,>=3.1.0->sentence-transformers) (3.0.12)\n",
            "Requirement already satisfied, skipping upgrade: importlib-metadata; python_version < \"3.8\" in /usr/local/lib/python3.6/dist-packages (from transformers<5.0.0,>=3.1.0->sentence-transformers) (3.4.0)\n",
            "Collecting tokenizers==0.9.4\n",
            "\u001b[?25l  Downloading https://files.pythonhosted.org/packages/0f/1c/e789a8b12e28be5bc1ce2156cf87cb522b379be9cadc7ad8091a4cc107c4/tokenizers-0.9.4-cp36-cp36m-manylinux2010_x86_64.whl (2.9MB)\n",
            "\u001b[K     |████████████████████████████████| 2.9MB 37.1MB/s \n",
            "\u001b[?25hRequirement already satisfied, skipping upgrade: regex!=2019.12.17 in /usr/local/lib/python3.6/dist-packages (from transformers<5.0.0,>=3.1.0->sentence-transformers) (2019.12.20)\n",
            "Requirement already satisfied, skipping upgrade: future in /usr/local/lib/python3.6/dist-packages (from torch>=1.6.0->sentence-transformers) (0.16.0)\n",
            "Requirement already satisfied, skipping upgrade: typing-extensions in /usr/local/lib/python3.6/dist-packages (from torch>=1.6.0->sentence-transformers) (3.7.4.3)\n",
            "Requirement already satisfied, skipping upgrade: joblib>=0.11 in /usr/local/lib/python3.6/dist-packages (from scikit-learn->sentence-transformers) (1.0.0)\n",
            "Requirement already satisfied, skipping upgrade: six in /usr/local/lib/python3.6/dist-packages (from nltk->sentence-transformers) (1.15.0)\n",
            "Requirement already satisfied, skipping upgrade: certifi>=2017.4.17 in /usr/local/lib/python3.6/dist-packages (from requests->transformers<5.0.0,>=3.1.0->sentence-transformers) (2020.12.5)\n",
            "Requirement already satisfied, skipping upgrade: urllib3!=1.25.0,!=1.25.1,<1.26,>=1.21.1 in /usr/local/lib/python3.6/dist-packages (from requests->transformers<5.0.0,>=3.1.0->sentence-transformers) (1.24.3)\n",
            "Requirement already satisfied, skipping upgrade: chardet<4,>=3.0.2 in /usr/local/lib/python3.6/dist-packages (from requests->transformers<5.0.0,>=3.1.0->sentence-transformers) (3.0.4)\n",
            "Requirement already satisfied, skipping upgrade: idna<3,>=2.5 in /usr/local/lib/python3.6/dist-packages (from requests->transformers<5.0.0,>=3.1.0->sentence-transformers) (2.10)\n",
            "Requirement already satisfied, skipping upgrade: click in /usr/local/lib/python3.6/dist-packages (from sacremoses->transformers<5.0.0,>=3.1.0->sentence-transformers) (7.1.2)\n",
            "Requirement already satisfied, skipping upgrade: pyparsing>=2.0.2 in /usr/local/lib/python3.6/dist-packages (from packaging->transformers<5.0.0,>=3.1.0->sentence-transformers) (2.4.7)\n",
            "Requirement already satisfied, skipping upgrade: zipp>=0.5 in /usr/local/lib/python3.6/dist-packages (from importlib-metadata; python_version < \"3.8\"->transformers<5.0.0,>=3.1.0->sentence-transformers) (3.4.0)\n",
            "Building wheels for collected packages: sentence-transformers, sacremoses\n",
            "  Building wheel for sentence-transformers (setup.py) ... \u001b[?25l\u001b[?25hdone\n",
            "  Created wheel for sentence-transformers: filename=sentence_transformers-0.4.1.2-cp36-none-any.whl size=103068 sha256=6358520f3678984907a45fb4fe5ebb8f0686abdcda4f8b1491c18198d35a0ae9\n",
            "  Stored in directory: /root/.cache/pip/wheels/3d/33/d1/5703dd56199c09d4a1b41e0c07fb4e7765a84d787cbdc48ac3\n",
            "  Building wheel for sacremoses (setup.py) ... \u001b[?25l\u001b[?25hdone\n",
            "  Created wheel for sacremoses: filename=sacremoses-0.0.43-cp36-none-any.whl size=893261 sha256=638909aa36d6b178fdcfc2022717745496e0cbc4ec162110b19b5a94e4bc1918\n",
            "  Stored in directory: /root/.cache/pip/wheels/29/3c/fd/7ce5c3f0666dab31a50123635e6fb5e19ceb42ce38d4e58f45\n",
            "Successfully built sentence-transformers sacremoses\n",
            "Installing collected packages: sacremoses, tokenizers, transformers, sentencepiece, sentence-transformers\n",
            "Successfully installed sacremoses-0.0.43 sentence-transformers-0.4.1.2 sentencepiece-0.1.95 tokenizers-0.9.4 transformers-4.2.2\n"
          ],
          "name": "stdout"
        }
      ]
    },
    {
      "cell_type": "code",
      "metadata": {
        "id": "A6P6IXmPOlhJ",
        "colab": {
          "base_uri": "https://localhost:8080/"
        },
        "outputId": "5aeb7bc1-a383-49e0-b4c5-670d77f8a4bf"
      },
      "source": [
        "from sentence_transformers import SentenceTransformer, util\n",
        "bert_model = SentenceTransformer('bert-base-nli-stsb-mean-tokens')"
      ],
      "execution_count": null,
      "outputs": [
        {
          "output_type": "stream",
          "text": [
            "100%|██████████| 405M/405M [00:45<00:00, 8.99MB/s]\n"
          ],
          "name": "stderr"
        }
      ]
    },
    {
      "cell_type": "code",
      "metadata": {
        "id": "CT2FYMNnPAm4"
      },
      "source": [
        "#Compute embedding for both lists\n",
        "embedd_1 = bert_model.encode(df1, convert_to_tensor=True)\n",
        "embedd_2 = bert_model.encode(df2, convert_to_tensor=True)"
      ],
      "execution_count": null,
      "outputs": []
    },
    {
      "cell_type": "code",
      "metadata": {
        "id": "H0Eem4n26Z81"
      },
      "source": [
        "embedd_1 = bert_model.encode(df1, convert_to_tensor=False)\n",
        "embedd_2 = bert_model.encode(df2, convert_to_tensor=False)"
      ],
      "execution_count": null,
      "outputs": []
    },
    {
      "cell_type": "code",
      "metadata": {
        "colab": {
          "base_uri": "https://localhost:8080/"
        },
        "id": "oBAhZBEy6jx6",
        "outputId": "65aa7799-aa18-4d4e-fd53-855848b40441"
      },
      "source": [
        "embedd_1"
      ],
      "execution_count": null,
      "outputs": [
        {
          "output_type": "execute_result",
          "data": {
            "text/plain": [
              "array([[ 0.17168102, -0.4885451 ,  0.6845204 , ...,  1.0796766 ,\n",
              "         0.14897749,  0.3299666 ],\n",
              "       [ 0.261238  ,  0.37181664,  0.8782345 , ...,  0.33737692,\n",
              "         0.51571053,  0.6526496 ],\n",
              "       [ 0.15208407, -0.40777782,  1.593268  , ...,  1.5211514 ,\n",
              "        -0.0061184 ,  0.12791802],\n",
              "       ...,\n",
              "       [-0.07930363, -0.03636825,  0.35931805, ...,  0.9103331 ,\n",
              "         0.33178034, -0.90336496],\n",
              "       [-0.28406098,  0.49280742, -0.8320779 , ...,  0.25748107,\n",
              "         0.20045336, -0.5763138 ],\n",
              "       [ 0.26633155,  0.6992114 ,  0.24496923, ..., -0.04675953,\n",
              "         0.05139665, -0.234953  ]], dtype=float32)"
            ]
          },
          "metadata": {
            "tags": []
          },
          "execution_count": 23
        }
      ]
    },
    {
      "cell_type": "code",
      "metadata": {
        "id": "ASFglwI28tvH"
      },
      "source": [
        "from scipy.spatial.distance import cosine\n",
        "sims=[]\n",
        "for i in range(0,len(embedd_2)):\n",
        "  sim=(1-cosine(embedd_1[i],embedd_2[i]))\n",
        "  sims.append(sim)"
      ],
      "execution_count": null,
      "outputs": []
    },
    {
      "cell_type": "code",
      "metadata": {
        "id": "tjreheCLPgoj"
      },
      "source": [
        "# #Output the pairs with their score\n",
        "# for i in range(len(df1)):\n",
        "#     print(\"{} \\t\\t {} \\t\\t Score: {:.4f}\".format(df1[i], df2[i], cosine_scores[i][i]))"
      ],
      "execution_count": null,
      "outputs": []
    },
    {
      "cell_type": "markdown",
      "metadata": {
        "id": "mCKrMyCUt4dj"
      },
      "source": [
        ""
      ]
    },
    {
      "cell_type": "code",
      "metadata": {
        "id": "ymLvnpFzX3oe"
      },
      "source": [
        "sick_train[\"predicted_sim\"] = pd.Series(sims).values\n",
        "sick_train[\"diff\"] = np.sqrt((sick_train[\"predicted_sim\"] - sick_train[\"sim\"])**2)\n",
        "# sick_train = sick_train.sort_values(\"diff\", ascending=False)\n",
        "pearson_correlation = scipy.stats.pearsonr(sims, sick_train['sim'])[0]\n",
        "spearman_correlation = scipy.stats.spearmanr(sims, sick_train['sim'])[0]\n",
        "rmse = sqrt(mean_squared_error(sims, sick_train['sim']))\n",
        "textstr = 'RMSE=%.3f\\nPearson Correlation=%.3f\\nSpearman Correlation=%.3f'%(rmse, pearson_correlation, spearman_correlation)\n",
        "sick_train['predicted_sim'] = pd.Series(sims).values\n",
        "sick_train = sick_train.sort_values('sim')\n",
        "id = list(range(0, len(sick_train.index)))\n",
        "sick_train['id'] = pd.Series(id).values"
      ],
      "execution_count": null,
      "outputs": []
    },
    {
      "cell_type": "code",
      "metadata": {
        "id": "4ejugn72X7J7",
        "colab": {
          "base_uri": "https://localhost:8080/"
        },
        "outputId": "556e8bc8-6150-448e-a972-8880c19a7436"
      },
      "source": [
        "print(textstr)"
      ],
      "execution_count": null,
      "outputs": [
        {
          "output_type": "stream",
          "text": [
            "RMSE=0.160\n",
            "Pearson Correlation=0.826\n",
            "Spearman Correlation=0.790\n"
          ],
          "name": "stdout"
        }
      ]
    },
    {
      "cell_type": "code",
      "metadata": {
        "colab": {
          "base_uri": "https://localhost:8080/"
        },
        "id": "8PyA66rpZ9P_",
        "outputId": "bedac9fa-9b14-4989-f6e8-852dd21d3635"
      },
      "source": [
        "print(textstr)"
      ],
      "execution_count": null,
      "outputs": [
        {
          "output_type": "stream",
          "text": [
            "RMSE=0.160\n",
            "Pearson Correlation=0.826\n",
            "Spearman Correlation=0.790\n"
          ],
          "name": "stdout"
        }
      ]
    },
    {
      "cell_type": "code",
      "metadata": {
        "colab": {
          "base_uri": "https://localhost:8080/",
          "height": 433
        },
        "id": "kaTtgR6Icrk3",
        "outputId": "9ce2cad8-360e-4d55-e481-7ae2dabd351b"
      },
      "source": [
        "sick_train"
      ],
      "execution_count": null,
      "outputs": [
        {
          "output_type": "execute_result",
          "data": {
            "text/html": [
              "<div>\n",
              "<style scoped>\n",
              "    .dataframe tbody tr th:only-of-type {\n",
              "        vertical-align: middle;\n",
              "    }\n",
              "\n",
              "    .dataframe tbody tr th {\n",
              "        vertical-align: top;\n",
              "    }\n",
              "\n",
              "    .dataframe thead th {\n",
              "        text-align: right;\n",
              "    }\n",
              "</style>\n",
              "<table border=\"1\" class=\"dataframe\">\n",
              "  <thead>\n",
              "    <tr style=\"text-align: right;\">\n",
              "      <th></th>\n",
              "      <th>idx</th>\n",
              "      <th>sent_1</th>\n",
              "      <th>sent_2</th>\n",
              "      <th>sim</th>\n",
              "      <th>label</th>\n",
              "      <th>predicted_sim</th>\n",
              "      <th>diff</th>\n",
              "      <th>id</th>\n",
              "    </tr>\n",
              "  </thead>\n",
              "  <tbody>\n",
              "    <tr>\n",
              "      <th>4499</th>\n",
              "      <td>10000</td>\n",
              "      <td>Three dogs are resting on a sidewalk</td>\n",
              "      <td>The woman with a knife is slicing a pepper</td>\n",
              "      <td>0.0</td>\n",
              "      <td>NEUTRAL</td>\n",
              "      <td>-0.013866</td>\n",
              "      <td>0.013866</td>\n",
              "      <td>0</td>\n",
              "    </tr>\n",
              "    <tr>\n",
              "      <th>2110</th>\n",
              "      <td>4763</td>\n",
              "      <td>A person is dancing in the rain</td>\n",
              "      <td>A man is singing into a microphone</td>\n",
              "      <td>0.0</td>\n",
              "      <td>NEUTRAL</td>\n",
              "      <td>-0.084116</td>\n",
              "      <td>0.084116</td>\n",
              "      <td>1</td>\n",
              "    </tr>\n",
              "    <tr>\n",
              "      <th>2119</th>\n",
              "      <td>4788</td>\n",
              "      <td>An elephant is being ridden by a woman</td>\n",
              "      <td>A woman is opening a soda and drinking it</td>\n",
              "      <td>0.0</td>\n",
              "      <td>NEUTRAL</td>\n",
              "      <td>0.057927</td>\n",
              "      <td>0.057927</td>\n",
              "      <td>2</td>\n",
              "    </tr>\n",
              "    <tr>\n",
              "      <th>4422</th>\n",
              "      <td>9825</td>\n",
              "      <td>The girl is carrying a sign and a group of peo...</td>\n",
              "      <td>A woman is cleaning a man's face</td>\n",
              "      <td>0.0</td>\n",
              "      <td>NEUTRAL</td>\n",
              "      <td>0.060484</td>\n",
              "      <td>0.060484</td>\n",
              "      <td>3</td>\n",
              "    </tr>\n",
              "    <tr>\n",
              "      <th>573</th>\n",
              "      <td>1317</td>\n",
              "      <td>A person is performing a card trick</td>\n",
              "      <td>A man is frying a tortilla</td>\n",
              "      <td>0.0</td>\n",
              "      <td>NEUTRAL</td>\n",
              "      <td>-0.000300</td>\n",
              "      <td>0.000300</td>\n",
              "      <td>4</td>\n",
              "    </tr>\n",
              "    <tr>\n",
              "      <th>...</th>\n",
              "      <td>...</td>\n",
              "      <td>...</td>\n",
              "      <td>...</td>\n",
              "      <td>...</td>\n",
              "      <td>...</td>\n",
              "      <td>...</td>\n",
              "      <td>...</td>\n",
              "      <td>...</td>\n",
              "    </tr>\n",
              "    <tr>\n",
              "      <th>1426</th>\n",
              "      <td>3257</td>\n",
              "      <td>A man is playing the guitar</td>\n",
              "      <td>The man is playing the guitar</td>\n",
              "      <td>1.0</td>\n",
              "      <td>ENTAILMENT</td>\n",
              "      <td>0.990731</td>\n",
              "      <td>0.009269</td>\n",
              "      <td>4495</td>\n",
              "    </tr>\n",
              "    <tr>\n",
              "      <th>1428</th>\n",
              "      <td>3261</td>\n",
              "      <td>A man is playing the guitar</td>\n",
              "      <td>A guitar is being played by a man</td>\n",
              "      <td>1.0</td>\n",
              "      <td>ENTAILMENT</td>\n",
              "      <td>0.925870</td>\n",
              "      <td>0.074130</td>\n",
              "      <td>4496</td>\n",
              "    </tr>\n",
              "    <tr>\n",
              "      <th>1435</th>\n",
              "      <td>3277</td>\n",
              "      <td>The boy, who is young, is running through the ...</td>\n",
              "      <td>The young boy is running through the ocean waves</td>\n",
              "      <td>1.0</td>\n",
              "      <td>ENTAILMENT</td>\n",
              "      <td>0.956792</td>\n",
              "      <td>0.043208</td>\n",
              "      <td>4497</td>\n",
              "    </tr>\n",
              "    <tr>\n",
              "      <th>2900</th>\n",
              "      <td>6397</td>\n",
              "      <td>A sheepdog is grouping a herd of sheep</td>\n",
              "      <td>The sheepdog is grouping a herd of sheep</td>\n",
              "      <td>1.0</td>\n",
              "      <td>ENTAILMENT</td>\n",
              "      <td>0.996279</td>\n",
              "      <td>0.003721</td>\n",
              "      <td>4498</td>\n",
              "    </tr>\n",
              "    <tr>\n",
              "      <th>4089</th>\n",
              "      <td>9085</td>\n",
              "      <td>A large man is sitting in a military accessori...</td>\n",
              "      <td>A large man is sitting in a military accessori...</td>\n",
              "      <td>1.0</td>\n",
              "      <td>ENTAILMENT</td>\n",
              "      <td>0.969479</td>\n",
              "      <td>0.030521</td>\n",
              "      <td>4499</td>\n",
              "    </tr>\n",
              "  </tbody>\n",
              "</table>\n",
              "<p>4500 rows × 8 columns</p>\n",
              "</div>"
            ],
            "text/plain": [
              "        idx                                             sent_1  ...      diff    id\n",
              "4499  10000               Three dogs are resting on a sidewalk  ...  0.013866     0\n",
              "2110   4763                    A person is dancing in the rain  ...  0.084116     1\n",
              "2119   4788             An elephant is being ridden by a woman  ...  0.057927     2\n",
              "4422   9825  The girl is carrying a sign and a group of peo...  ...  0.060484     3\n",
              "573    1317                A person is performing a card trick  ...  0.000300     4\n",
              "...     ...                                                ...  ...       ...   ...\n",
              "1426   3257                        A man is playing the guitar  ...  0.009269  4495\n",
              "1428   3261                        A man is playing the guitar  ...  0.074130  4496\n",
              "1435   3277  The boy, who is young, is running through the ...  ...  0.043208  4497\n",
              "2900   6397             A sheepdog is grouping a herd of sheep  ...  0.003721  4498\n",
              "4089   9085  A large man is sitting in a military accessori...  ...  0.030521  4499\n",
              "\n",
              "[4500 rows x 8 columns]"
            ]
          },
          "metadata": {
            "tags": []
          },
          "execution_count": 125
        }
      ]
    },
    {
      "cell_type": "code",
      "metadata": {
        "id": "xDqW3haoedxH"
      },
      "source": [
        ""
      ],
      "execution_count": null,
      "outputs": []
    },
    {
      "cell_type": "code",
      "metadata": {
        "colab": {
          "base_uri": "https://localhost:8080/",
          "height": 246
        },
        "id": "jB8oJqGe17Qn",
        "outputId": "798789d3-c5ee-493b-c0c6-75b1d0c196ac"
      },
      "source": [
        "from sentence_transformers import SentenceTransformer, util\n",
        "from wmd import WMD\n",
        "model = SentenceTransformer('stsb-distilbert-base')\n",
        "\n",
        "# Two lists of sentences\n",
        "sentences1 = ['The cat sits outside',\n",
        "             'A man is playing guitar',\n",
        "             'The new movie is awesome']\n",
        "\n",
        "sentences2 = ['The dog plays in the garden',\n",
        "              'A woman watches TV',\n",
        "              'The new movie is so great']\n",
        "\n",
        "#Compute embedding for both lists\n",
        "embeddings1 = model.encode(sentences1, convert_to_tensor=True)\n",
        "embeddings2 = model.encode(sentences2, convert_to_tensor=True)\n",
        "\n",
        "#Compute cosine-similarits\n",
        "cosine_scores = util.pytorch_cos_sim(embeddings1, embeddings2)\n",
        "wmdistance=WMD(embeddings1)\n",
        "#Output the pairs with their score\n",
        "for i in range(len(sentences1)):\n",
        "  print(\"{} \\t\\t {} \\t\\t Score: {:.4f}\".format(sentences1[i], sentences2[i], cosine_scores[i][i]))"
      ],
      "execution_count": null,
      "outputs": [
        {
          "output_type": "error",
          "ename": "TypeError",
          "evalue": "ignored",
          "traceback": [
            "\u001b[0;31m---------------------------------------------------------------------------\u001b[0m",
            "\u001b[0;31mTypeError\u001b[0m                                 Traceback (most recent call last)",
            "\u001b[0;32m<ipython-input-10-76d05f0a7269>\u001b[0m in \u001b[0;36m<module>\u001b[0;34m()\u001b[0m\n\u001b[1;32m     18\u001b[0m \u001b[0;31m#Compute cosine-similarits\u001b[0m\u001b[0;34m\u001b[0m\u001b[0;34m\u001b[0m\u001b[0;34m\u001b[0m\u001b[0m\n\u001b[1;32m     19\u001b[0m \u001b[0mcosine_scores\u001b[0m \u001b[0;34m=\u001b[0m \u001b[0mutil\u001b[0m\u001b[0;34m.\u001b[0m\u001b[0mpytorch_cos_sim\u001b[0m\u001b[0;34m(\u001b[0m\u001b[0membeddings1\u001b[0m\u001b[0;34m,\u001b[0m \u001b[0membeddings2\u001b[0m\u001b[0;34m)\u001b[0m\u001b[0;34m\u001b[0m\u001b[0;34m\u001b[0m\u001b[0m\n\u001b[0;32m---> 20\u001b[0;31m \u001b[0mwmdistance\u001b[0m\u001b[0;34m=\u001b[0m\u001b[0mWMD\u001b[0m\u001b[0;34m(\u001b[0m\u001b[0membeddings1\u001b[0m\u001b[0;34m)\u001b[0m\u001b[0;34m\u001b[0m\u001b[0;34m\u001b[0m\u001b[0m\n\u001b[0m\u001b[1;32m     21\u001b[0m \u001b[0;31m#Output the pairs with their score\u001b[0m\u001b[0;34m\u001b[0m\u001b[0;34m\u001b[0m\u001b[0;34m\u001b[0m\u001b[0m\n\u001b[1;32m     22\u001b[0m \u001b[0;32mfor\u001b[0m \u001b[0mi\u001b[0m \u001b[0;32min\u001b[0m \u001b[0mrange\u001b[0m\u001b[0;34m(\u001b[0m\u001b[0mlen\u001b[0m\u001b[0;34m(\u001b[0m\u001b[0msentences1\u001b[0m\u001b[0;34m)\u001b[0m\u001b[0;34m)\u001b[0m\u001b[0;34m:\u001b[0m\u001b[0;34m\u001b[0m\u001b[0;34m\u001b[0m\u001b[0m\n",
            "\u001b[0;31mTypeError\u001b[0m: __init__() missing 1 required positional argument: 'nbow'"
          ]
        }
      ]
    },
    {
      "cell_type": "code",
      "metadata": {
        "id": "AejQVnDF7n1M",
        "colab": {
          "base_uri": "https://localhost:8080/",
          "height": 319
        },
        "outputId": "8453f49d-93bd-4203-ce94-6294d8972a82"
      },
      "source": [
        "import _embedding.model as model"
      ],
      "execution_count": null,
      "outputs": [
        {
          "output_type": "error",
          "ename": "ModuleNotFoundError",
          "evalue": "ignored",
          "traceback": [
            "\u001b[0;31m---------------------------------------------------------------------------\u001b[0m",
            "\u001b[0;31mModuleNotFoundError\u001b[0m                       Traceback (most recent call last)",
            "\u001b[0;32m<ipython-input-25-92dc635dd0df>\u001b[0m in \u001b[0;36m<module>\u001b[0;34m()\u001b[0m\n\u001b[0;32m----> 1\u001b[0;31m \u001b[0;32mimport\u001b[0m \u001b[0msentence_embedding\u001b[0m\u001b[0;34m.\u001b[0m\u001b[0mmodel\u001b[0m \u001b[0;32mas\u001b[0m \u001b[0mmodel\u001b[0m\u001b[0;34m\u001b[0m\u001b[0;34m\u001b[0m\u001b[0m\n\u001b[0m",
            "\u001b[0;31mModuleNotFoundError\u001b[0m: No module named 'sentence_embedding'",
            "",
            "\u001b[0;31m---------------------------------------------------------------------------\u001b[0;32m\nNOTE: If your import is failing due to a missing package, you can\nmanually install dependencies using either !pip or !apt.\n\nTo view examples of installing some common dependencies, click the\n\"Open Examples\" button below.\n\u001b[0;31m---------------------------------------------------------------------------\u001b[0m\n"
          ]
        }
      ]
    },
    {
      "cell_type": "code",
      "metadata": {
        "colab": {
          "base_uri": "https://localhost:8080/"
        },
        "id": "ULSb7E925FbL",
        "outputId": "fbba93f4-316c-40ef-f56d-2cc178167032"
      },
      "source": [
        "import numpy\n",
        "embeddings = numpy.array([[0.1, 1], [1, 0.1]], dtype=numpy.float32)\n",
        "nbow = {\"first\":  (\"#1\", [0, 1], numpy.array([1.5, 0.5], dtype=numpy.float32)),\n",
        "        \"second\": (\"#2\", [0, 1], numpy.array([0.75, 0.15], dtype=numpy.float32))}\n",
        "nbow"
      ],
      "execution_count": null,
      "outputs": [
        {
          "output_type": "execute_result",
          "data": {
            "text/plain": [
              "{'first': ('#1', [0, 1], array([1.5, 0.5], dtype=float32)),\n",
              " 'second': ('#2', [0, 1], array([0.75, 0.15], dtype=float32))}"
            ]
          },
          "metadata": {
            "tags": []
          },
          "execution_count": 13
        }
      ]
    },
    {
      "cell_type": "code",
      "metadata": {
        "colab": {
          "base_uri": "https://localhost:8080/"
        },
        "id": "g_DyFbaL1nXq",
        "outputId": "f776c6bc-0528-4772-fff6-471f3f7aca0a"
      },
      "source": [
        "pip install wmd"
      ],
      "execution_count": null,
      "outputs": [
        {
          "output_type": "stream",
          "text": [
            "Collecting wmd\n",
            "\u001b[?25l  Downloading https://files.pythonhosted.org/packages/e5/14/e1d122e56607ae49999041f372fa14166eb1e3b838122118d706f9bf1620/wmd-1.3.2.tar.gz (104kB)\n",
            "\r\u001b[K     |███▏                            | 10kB 11.4MB/s eta 0:00:01\r\u001b[K     |██████▎                         | 20kB 14.3MB/s eta 0:00:01\r\u001b[K     |█████████▍                      | 30kB 10.6MB/s eta 0:00:01\r\u001b[K     |████████████▌                   | 40kB 8.3MB/s eta 0:00:01\r\u001b[K     |███████████████▊                | 51kB 4.4MB/s eta 0:00:01\r\u001b[K     |██████████████████▉             | 61kB 4.9MB/s eta 0:00:01\r\u001b[K     |██████████████████████          | 71kB 4.9MB/s eta 0:00:01\r\u001b[K     |█████████████████████████       | 81kB 5.2MB/s eta 0:00:01\r\u001b[K     |████████████████████████████▏   | 92kB 5.3MB/s eta 0:00:01\r\u001b[K     |███████████████████████████████▍| 102kB 4.3MB/s eta 0:00:01\r\u001b[K     |████████████████████████████████| 112kB 4.3MB/s \n",
            "\u001b[?25hRequirement already satisfied: numpy in /usr/local/lib/python3.6/dist-packages (from wmd) (1.19.5)\n",
            "Building wheels for collected packages: wmd\n",
            "  Building wheel for wmd (setup.py) ... \u001b[?25l\u001b[?25hdone\n",
            "  Created wheel for wmd: filename=wmd-1.3.2-cp36-cp36m-linux_x86_64.whl size=629328 sha256=88c329c415a46c114e91f127b1dc9aaf51f1d181fdc256d2d5ae22a2533950a3\n",
            "  Stored in directory: /root/.cache/pip/wheels/a6/4d/7a/fc3fdbc12e33c0551301543e4441fb4783c809a30451387ffd\n",
            "Successfully built wmd\n",
            "Installing collected packages: wmd\n",
            "Successfully installed wmd-1.3.2\n"
          ],
          "name": "stdout"
        }
      ]
    },
    {
      "cell_type": "code",
      "metadata": {
        "colab": {
          "base_uri": "https://localhost:8080/"
        },
        "id": "TbXwhynk17Ns",
        "outputId": "9fa71362-d1c5-4cfd-ecbb-a912514de82c"
      },
      "source": [
        "cosine_scores"
      ],
      "execution_count": null,
      "outputs": [
        {
          "output_type": "execute_result",
          "data": {
            "text/plain": [
              "tensor([[ 0.2166,  0.1837, -0.0393],\n",
              "        [-0.2488, -0.0146,  0.0590],\n",
              "        [-0.1100,  0.0797,  0.9816]])"
            ]
          },
          "metadata": {
            "tags": []
          },
          "execution_count": 127
        }
      ]
    },
    {
      "cell_type": "code",
      "metadata": {
        "colab": {
          "base_uri": "https://localhost:8080/"
        },
        "id": "BLmJL1mp17KB",
        "outputId": "35a67eb2-b5a5-46f5-ac5a-77697c62bb20"
      },
      "source": [
        "embeddings1"
      ],
      "execution_count": null,
      "outputs": [
        {
          "output_type": "execute_result",
          "data": {
            "text/plain": [
              "tensor([[ 0.5530, -0.0816,  0.2483,  ..., -0.2009, -0.5957, -0.8301],\n",
              "        [-0.5679, -0.6925, -0.1982,  ...,  1.0700, -0.6926, -1.2325],\n",
              "        [ 0.4037,  0.1574,  0.3715,  ...,  0.2966,  0.2992, -0.4972]])"
            ]
          },
          "metadata": {
            "tags": []
          },
          "execution_count": 128
        }
      ]
    },
    {
      "cell_type": "code",
      "metadata": {
        "colab": {
          "base_uri": "https://localhost:8080/",
          "height": 319
        },
        "id": "lRTmNxwY0olE",
        "outputId": "8b90ba58-b603-4b98-e9cf-36d66304bfee"
      },
      "source": [
        "from wmd import WMD"
      ],
      "execution_count": null,
      "outputs": [
        {
          "output_type": "error",
          "ename": "ModuleNotFoundError",
          "evalue": "ignored",
          "traceback": [
            "\u001b[0;31m---------------------------------------------------------------------------\u001b[0m",
            "\u001b[0;31mModuleNotFoundError\u001b[0m                       Traceback (most recent call last)",
            "\u001b[0;32m<ipython-input-1-dbe146b679a0>\u001b[0m in \u001b[0;36m<module>\u001b[0;34m()\u001b[0m\n\u001b[0;32m----> 1\u001b[0;31m \u001b[0;32mfrom\u001b[0m \u001b[0mwmd\u001b[0m \u001b[0;32mimport\u001b[0m \u001b[0mWMD\u001b[0m\u001b[0;34m\u001b[0m\u001b[0;34m\u001b[0m\u001b[0m\n\u001b[0m",
            "\u001b[0;31mModuleNotFoundError\u001b[0m: No module named 'wmd'",
            "",
            "\u001b[0;31m---------------------------------------------------------------------------\u001b[0;32m\nNOTE: If your import is failing due to a missing package, you can\nmanually install dependencies using either !pip or !apt.\n\nTo view examples of installing some common dependencies, click the\n\"Open Examples\" button below.\n\u001b[0;31m---------------------------------------------------------------------------\u001b[0m\n"
          ]
        }
      ]
    },
    {
      "cell_type": "code",
      "metadata": {
        "id": "w7s6AZwn0oaq"
      },
      "source": [
        ""
      ],
      "execution_count": null,
      "outputs": []
    }
  ]
}