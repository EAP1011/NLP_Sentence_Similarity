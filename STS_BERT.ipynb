{
  "nbformat": 4,
  "nbformat_minor": 0,
  "metadata": {
    "colab": {
      "name": "STS_BERT.ipynb",
      "provenance": []
    },
    "kernelspec": {
      "name": "python3",
      "display_name": "Python 3"
    }
  },
  "cells": [
    {
      "cell_type": "code",
      "metadata": {
        "colab": {
          "base_uri": "https://localhost:8080/"
        },
        "id": "d8d1jnOTIy5e",
        "outputId": "5743f955-22d6-422e-a0df-93f89dac1f3c"
      },
      "source": [
        "import pandas as pd \n",
        "import numpy as np\n",
        "from numpy import array \n",
        "import string\n",
        "import re\n",
        "import nltk\n",
        "from nltk.corpus import stopwords\n",
        "from nltk.stem import PorterStemmer\n",
        "from nltk.stem import WordNetLemmatizer\n",
        "from nltk.tokenize import word_tokenize\n",
        "from nltk import pos_tag\n",
        "nltk.download('punkt')\n",
        "nltk.download('stopwords')\n",
        "nltk.download('wordnet')"
      ],
      "execution_count": null,
      "outputs": [
        {
          "output_type": "stream",
          "text": [
            "[nltk_data] Downloading package punkt to /root/nltk_data...\n",
            "[nltk_data]   Package punkt is already up-to-date!\n",
            "[nltk_data] Downloading package stopwords to /root/nltk_data...\n",
            "[nltk_data]   Package stopwords is already up-to-date!\n",
            "[nltk_data] Downloading package wordnet to /root/nltk_data...\n",
            "[nltk_data]   Package wordnet is already up-to-date!\n"
          ],
          "name": "stdout"
        },
        {
          "output_type": "execute_result",
          "data": {
            "text/plain": [
              "True"
            ]
          },
          "metadata": {
            "tags": []
          },
          "execution_count": 1
        }
      ]
    },
    {
      "cell_type": "code",
      "metadata": {
        "id": "owoZq1vTJGN4"
      },
      "source": [
        "# constants for test / train / trial data\n",
        "TEST = 'TEST'\n",
        "TRAIN = 'TRAIN'\n",
        "TRIAL = 'TRIAL'"
      ],
      "execution_count": null,
      "outputs": []
    },
    {
      "cell_type": "code",
      "metadata": {
        "id": "pdbGHrjyJJc6"
      },
      "source": [
        "train_data = []\n",
        "test_data = []\n",
        "trial_data = []\n",
        "data=[]"
      ],
      "execution_count": null,
      "outputs": []
    },
    {
      "cell_type": "code",
      "metadata": {
        "colab": {
          "base_uri": "https://localhost:8080/"
        },
        "id": "ma2g0lZIJLsB",
        "outputId": "a82f65a7-e297-4d63-a239-27f73a6b52d0"
      },
      "source": [
        "df_dev=pd.read_csv('sts_dev.csv',error_bad_lines=False,header=None)\n",
        "for j in range(len(df_dev)):\n",
        "  arr=[]\n",
        "  for i in range(len(df_dev.iloc[1,:].str.split(\"\\t\").to_list()[0])):\n",
        "    if i>=4:\n",
        "      arr.append(df_dev.iloc[j,:].str.split(\"\\t\").to_list()[0][i])\n",
        "  trial_data.append(arr)\n",
        "for i in range(5):\n",
        "  print(trial_data[i])"
      ],
      "execution_count": null,
      "outputs": [
        {
          "output_type": "stream",
          "text": [
            "['5.000', 'A man with a hard hat is dancing.', 'A man wearing a hard hat is dancing.']\n",
            "['4.750', 'A young child is riding a horse.', 'A child is riding a horse.']\n",
            "['5.000', 'A man is feeding a mouse to a snake.', 'The man is feeding a mouse to the snake.']\n",
            "['2.400', 'A woman is playing the guitar.', 'A man is playing guitar.']\n",
            "['2.750', 'A woman is playing the flute.', 'A man is playing a flute.']\n"
          ],
          "name": "stdout"
        },
        {
          "output_type": "stream",
          "text": [
            "b'Skipping line 104: expected 1 fields, saw 2\\nSkipping line 276: expected 1 fields, saw 3\\nSkipping line 290: expected 1 fields, saw 3\\nSkipping line 323: expected 1 fields, saw 2\\nSkipping line 329: expected 1 fields, saw 2\\nSkipping line 338: expected 1 fields, saw 3\\nSkipping line 376: expected 1 fields, saw 2\\nSkipping line 384: expected 1 fields, saw 3\\nSkipping line 403: expected 1 fields, saw 2\\nSkipping line 448: expected 1 fields, saw 2\\nSkipping line 450: expected 1 fields, saw 2\\nSkipping line 456: expected 1 fields, saw 2\\nSkipping line 462: expected 1 fields, saw 2\\nSkipping line 464: expected 1 fields, saw 3\\nSkipping line 503: expected 1 fields, saw 3\\nSkipping line 531: expected 1 fields, saw 2\\nSkipping line 568: expected 1 fields, saw 2\\nSkipping line 569: expected 1 fields, saw 2\\nSkipping line 597: expected 1 fields, saw 2\\nSkipping line 601: expected 1 fields, saw 2\\nSkipping line 627: expected 1 fields, saw 2\\nSkipping line 628: expected 1 fields, saw 3\\nSkipping line 629: expected 1 fields, saw 2\\nSkipping line 630: expected 1 fields, saw 4\\nSkipping line 631: expected 1 fields, saw 2\\nSkipping line 633: expected 1 fields, saw 3\\nSkipping line 634: expected 1 fields, saw 2\\nSkipping line 635: expected 1 fields, saw 2\\nSkipping line 636: expected 1 fields, saw 2\\nSkipping line 637: expected 1 fields, saw 2\\nSkipping line 638: expected 1 fields, saw 3\\nSkipping line 639: expected 1 fields, saw 2\\nSkipping line 641: expected 1 fields, saw 5\\nSkipping line 642: expected 1 fields, saw 4\\nSkipping line 643: expected 1 fields, saw 2\\nSkipping line 644: expected 1 fields, saw 2\\nSkipping line 645: expected 1 fields, saw 2\\nSkipping line 648: expected 1 fields, saw 3\\nSkipping line 649: expected 1 fields, saw 2\\nSkipping line 652: expected 1 fields, saw 3\\nSkipping line 654: expected 1 fields, saw 6\\nSkipping line 655: expected 1 fields, saw 2\\nSkipping line 657: expected 1 fields, saw 2\\nSkipping line 658: expected 1 fields, saw 2\\nSkipping line 659: expected 1 fields, saw 3\\nSkipping line 660: expected 1 fields, saw 2\\nSkipping line 662: expected 1 fields, saw 2\\nSkipping line 663: expected 1 fields, saw 2\\nSkipping line 664: expected 1 fields, saw 4\\nSkipping line 665: expected 1 fields, saw 2\\nSkipping line 666: expected 1 fields, saw 2\\nSkipping line 667: expected 1 fields, saw 3\\nSkipping line 668: expected 1 fields, saw 2\\nSkipping line 670: expected 1 fields, saw 2\\nSkipping line 672: expected 1 fields, saw 3\\nSkipping line 673: expected 1 fields, saw 4\\nSkipping line 674: expected 1 fields, saw 4\\nSkipping line 675: expected 1 fields, saw 3\\nSkipping line 676: expected 1 fields, saw 2\\nSkipping line 678: expected 1 fields, saw 2\\nSkipping line 679: expected 1 fields, saw 3\\nSkipping line 683: expected 1 fields, saw 2\\nSkipping line 685: expected 1 fields, saw 2\\nSkipping line 686: expected 1 fields, saw 3\\nSkipping line 687: expected 1 fields, saw 3\\nSkipping line 689: expected 1 fields, saw 3\\nSkipping line 690: expected 1 fields, saw 3\\nSkipping line 691: expected 1 fields, saw 2\\nSkipping line 693: expected 1 fields, saw 3\\nSkipping line 694: expected 1 fields, saw 4\\nSkipping line 695: expected 1 fields, saw 4\\nSkipping line 696: expected 1 fields, saw 2\\nSkipping line 699: expected 1 fields, saw 3\\nSkipping line 700: expected 1 fields, saw 2\\nSkipping line 701: expected 1 fields, saw 2\\nSkipping line 702: expected 1 fields, saw 2\\nSkipping line 703: expected 1 fields, saw 3\\nSkipping line 704: expected 1 fields, saw 3\\nSkipping line 705: expected 1 fields, saw 2\\nSkipping line 706: expected 1 fields, saw 2\\nSkipping line 707: expected 1 fields, saw 3\\nSkipping line 708: expected 1 fields, saw 3\\nSkipping line 710: expected 1 fields, saw 4\\nSkipping line 711: expected 1 fields, saw 2\\nSkipping line 712: expected 1 fields, saw 3\\nSkipping line 713: expected 1 fields, saw 2\\nSkipping line 715: expected 1 fields, saw 3\\nSkipping line 716: expected 1 fields, saw 3\\nSkipping line 717: expected 1 fields, saw 2\\nSkipping line 719: expected 1 fields, saw 2\\nSkipping line 720: expected 1 fields, saw 3\\nSkipping line 721: expected 1 fields, saw 3\\nSkipping line 722: expected 1 fields, saw 3\\nSkipping line 724: expected 1 fields, saw 6\\nSkipping line 725: expected 1 fields, saw 2\\nSkipping line 727: expected 1 fields, saw 2\\nSkipping line 728: expected 1 fields, saw 3\\nSkipping line 729: expected 1 fields, saw 4\\nSkipping line 730: expected 1 fields, saw 3\\nSkipping line 731: expected 1 fields, saw 2\\nSkipping line 733: expected 1 fields, saw 2\\nSkipping line 736: expected 1 fields, saw 2\\nSkipping line 737: expected 1 fields, saw 2\\nSkipping line 738: expected 1 fields, saw 3\\nSkipping line 741: expected 1 fields, saw 3\\nSkipping line 742: expected 1 fields, saw 2\\nSkipping line 745: expected 1 fields, saw 2\\nSkipping line 746: expected 1 fields, saw 2\\nSkipping line 747: expected 1 fields, saw 2\\nSkipping line 748: expected 1 fields, saw 2\\nSkipping line 751: expected 1 fields, saw 2\\nSkipping line 752: expected 1 fields, saw 2\\nSkipping line 753: expected 1 fields, saw 3\\nSkipping line 754: expected 1 fields, saw 2\\nSkipping line 758: expected 1 fields, saw 2\\nSkipping line 759: expected 1 fields, saw 3\\nSkipping line 760: expected 1 fields, saw 2\\nSkipping line 761: expected 1 fields, saw 2\\nSkipping line 763: expected 1 fields, saw 9\\nSkipping line 764: expected 1 fields, saw 5\\nSkipping line 765: expected 1 fields, saw 5\\nSkipping line 766: expected 1 fields, saw 2\\nSkipping line 767: expected 1 fields, saw 3\\nSkipping line 769: expected 1 fields, saw 3\\nSkipping line 771: expected 1 fields, saw 2\\nSkipping line 772: expected 1 fields, saw 5\\nSkipping line 774: expected 1 fields, saw 2\\nSkipping line 775: expected 1 fields, saw 4\\nSkipping line 776: expected 1 fields, saw 2\\nSkipping line 777: expected 1 fields, saw 5\\nSkipping line 779: expected 1 fields, saw 3\\nSkipping line 781: expected 1 fields, saw 3\\nSkipping line 783: expected 1 fields, saw 5\\nSkipping line 784: expected 1 fields, saw 3\\nSkipping line 785: expected 1 fields, saw 3\\nSkipping line 787: expected 1 fields, saw 3\\nSkipping line 788: expected 1 fields, saw 2\\nSkipping line 791: expected 1 fields, saw 4\\nSkipping line 792: expected 1 fields, saw 3\\nSkipping line 793: expected 1 fields, saw 3\\nSkipping line 794: expected 1 fields, saw 2\\nSkipping line 795: expected 1 fields, saw 3\\nSkipping line 796: expected 1 fields, saw 3\\nSkipping line 801: expected 1 fields, saw 4\\nSkipping line 802: expected 1 fields, saw 3\\nSkipping line 803: expected 1 fields, saw 2\\nSkipping line 804: expected 1 fields, saw 2\\nSkipping line 805: expected 1 fields, saw 2\\nSkipping line 809: expected 1 fields, saw 4\\nSkipping line 810: expected 1 fields, saw 2\\nSkipping line 814: expected 1 fields, saw 2\\nSkipping line 815: expected 1 fields, saw 2\\nSkipping line 817: expected 1 fields, saw 2\\nSkipping line 818: expected 1 fields, saw 3\\nSkipping line 819: expected 1 fields, saw 2\\nSkipping line 820: expected 1 fields, saw 2\\nSkipping line 821: expected 1 fields, saw 3\\nSkipping line 822: expected 1 fields, saw 2\\nSkipping line 823: expected 1 fields, saw 2\\nSkipping line 826: expected 1 fields, saw 2\\nSkipping line 828: expected 1 fields, saw 3\\nSkipping line 829: expected 1 fields, saw 3\\nSkipping line 830: expected 1 fields, saw 2\\nSkipping line 833: expected 1 fields, saw 2\\nSkipping line 834: expected 1 fields, saw 2\\nSkipping line 835: expected 1 fields, saw 3\\nSkipping line 839: expected 1 fields, saw 2\\nSkipping line 840: expected 1 fields, saw 2\\nSkipping line 841: expected 1 fields, saw 3\\nSkipping line 842: expected 1 fields, saw 2\\nSkipping line 846: expected 1 fields, saw 2\\nSkipping line 848: expected 1 fields, saw 2\\nSkipping line 849: expected 1 fields, saw 3\\nSkipping line 850: expected 1 fields, saw 3\\nSkipping line 851: expected 1 fields, saw 2\\nSkipping line 854: expected 1 fields, saw 2\\nSkipping line 855: expected 1 fields, saw 2\\nSkipping line 856: expected 1 fields, saw 4\\nSkipping line 858: expected 1 fields, saw 3\\nSkipping line 860: expected 1 fields, saw 2\\nSkipping line 862: expected 1 fields, saw 2\\nSkipping line 863: expected 1 fields, saw 3\\nSkipping line 865: expected 1 fields, saw 4\\nSkipping line 866: expected 1 fields, saw 4\\nSkipping line 868: expected 1 fields, saw 2\\nSkipping line 869: expected 1 fields, saw 2\\nSkipping line 870: expected 1 fields, saw 3\\nSkipping line 871: expected 1 fields, saw 4\\nSkipping line 872: expected 1 fields, saw 3\\nSkipping line 873: expected 1 fields, saw 3\\nSkipping line 875: expected 1 fields, saw 3\\nSkipping line 876: expected 1 fields, saw 3\\nSkipping line 877: expected 1 fields, saw 4\\nSkipping line 878: expected 1 fields, saw 5\\nSkipping line 882: expected 1 fields, saw 2\\nSkipping line 884: expected 1 fields, saw 3\\nSkipping line 886: expected 1 fields, saw 3\\nSkipping line 887: expected 1 fields, saw 5\\nSkipping line 888: expected 1 fields, saw 2\\nSkipping line 889: expected 1 fields, saw 2\\nSkipping line 890: expected 1 fields, saw 3\\nSkipping line 891: expected 1 fields, saw 2\\nSkipping line 892: expected 1 fields, saw 2\\nSkipping line 894: expected 1 fields, saw 4\\nSkipping line 895: expected 1 fields, saw 2\\nSkipping line 896: expected 1 fields, saw 2\\nSkipping line 897: expected 1 fields, saw 3\\nSkipping line 898: expected 1 fields, saw 2\\nSkipping line 899: expected 1 fields, saw 2\\nSkipping line 902: expected 1 fields, saw 2\\nSkipping line 904: expected 1 fields, saw 2\\nSkipping line 905: expected 1 fields, saw 2\\nSkipping line 909: expected 1 fields, saw 2\\nSkipping line 914: expected 1 fields, saw 2\\nSkipping line 917: expected 1 fields, saw 2\\nSkipping line 918: expected 1 fields, saw 2\\nSkipping line 921: expected 1 fields, saw 2\\nSkipping line 922: expected 1 fields, saw 2\\nSkipping line 923: expected 1 fields, saw 2\\nSkipping line 925: expected 1 fields, saw 2\\nSkipping line 926: expected 1 fields, saw 2\\nSkipping line 927: expected 1 fields, saw 3\\nSkipping line 928: expected 1 fields, saw 2\\nSkipping line 930: expected 1 fields, saw 2\\nSkipping line 931: expected 1 fields, saw 4\\nSkipping line 932: expected 1 fields, saw 5\\nSkipping line 934: expected 1 fields, saw 2\\nSkipping line 935: expected 1 fields, saw 3\\nSkipping line 936: expected 1 fields, saw 5\\nSkipping line 938: expected 1 fields, saw 2\\nSkipping line 941: expected 1 fields, saw 5\\nSkipping line 942: expected 1 fields, saw 2\\nSkipping line 944: expected 1 fields, saw 7\\nSkipping line 945: expected 1 fields, saw 2\\nSkipping line 946: expected 1 fields, saw 3\\nSkipping line 947: expected 1 fields, saw 2\\nSkipping line 948: expected 1 fields, saw 2\\nSkipping line 950: expected 1 fields, saw 5\\nSkipping line 951: expected 1 fields, saw 2\\nSkipping line 954: expected 1 fields, saw 3\\nSkipping line 956: expected 1 fields, saw 3\\nSkipping line 957: expected 1 fields, saw 3\\nSkipping line 958: expected 1 fields, saw 4\\nSkipping line 959: expected 1 fields, saw 2\\nSkipping line 961: expected 1 fields, saw 2\\nSkipping line 963: expected 1 fields, saw 3\\nSkipping line 964: expected 1 fields, saw 2\\nSkipping line 965: expected 1 fields, saw 3\\nSkipping line 968: expected 1 fields, saw 2\\nSkipping line 969: expected 1 fields, saw 3\\nSkipping line 970: expected 1 fields, saw 2\\nSkipping line 971: expected 1 fields, saw 2\\nSkipping line 972: expected 1 fields, saw 4\\nSkipping line 974: expected 1 fields, saw 2\\nSkipping line 975: expected 1 fields, saw 2\\nSkipping line 976: expected 1 fields, saw 2\\nSkipping line 980: expected 1 fields, saw 2\\nSkipping line 981: expected 1 fields, saw 4\\nSkipping line 982: expected 1 fields, saw 4\\nSkipping line 984: expected 1 fields, saw 2\\nSkipping line 986: expected 1 fields, saw 2\\nSkipping line 987: expected 1 fields, saw 3\\nSkipping line 988: expected 1 fields, saw 4\\nSkipping line 989: expected 1 fields, saw 4\\nSkipping line 990: expected 1 fields, saw 2\\nSkipping line 991: expected 1 fields, saw 2\\nSkipping line 992: expected 1 fields, saw 2\\nSkipping line 993: expected 1 fields, saw 2\\nSkipping line 995: expected 1 fields, saw 3\\nSkipping line 997: expected 1 fields, saw 6\\nSkipping line 998: expected 1 fields, saw 6\\nSkipping line 1001: expected 1 fields, saw 6\\nSkipping line 1002: expected 1 fields, saw 6\\nSkipping line 1004: expected 1 fields, saw 2\\nSkipping line 1005: expected 1 fields, saw 2\\nSkipping line 1006: expected 1 fields, saw 2\\nSkipping line 1007: expected 1 fields, saw 2\\nSkipping line 1008: expected 1 fields, saw 5\\nSkipping line 1009: expected 1 fields, saw 6\\nSkipping line 1010: expected 1 fields, saw 2\\nSkipping line 1011: expected 1 fields, saw 6\\nSkipping line 1012: expected 1 fields, saw 2\\nSkipping line 1013: expected 1 fields, saw 7\\nSkipping line 1015: expected 1 fields, saw 2\\nSkipping line 1016: expected 1 fields, saw 5\\nSkipping line 1017: expected 1 fields, saw 10\\nSkipping line 1019: expected 1 fields, saw 6\\nSkipping line 1020: expected 1 fields, saw 6\\nSkipping line 1021: expected 1 fields, saw 3\\nSkipping line 1022: expected 1 fields, saw 3\\nSkipping line 1023: expected 1 fields, saw 2\\nSkipping line 1024: expected 1 fields, saw 6\\nSkipping line 1025: expected 1 fields, saw 3\\nSkipping line 1027: expected 1 fields, saw 2\\nSkipping line 1028: expected 1 fields, saw 5\\nSkipping line 1029: expected 1 fields, saw 2\\nSkipping line 1030: expected 1 fields, saw 4\\nSkipping line 1031: expected 1 fields, saw 2\\nSkipping line 1032: expected 1 fields, saw 3\\nSkipping line 1033: expected 1 fields, saw 3\\nSkipping line 1035: expected 1 fields, saw 2\\nSkipping line 1036: expected 1 fields, saw 3\\nSkipping line 1037: expected 1 fields, saw 2\\nSkipping line 1038: expected 1 fields, saw 3\\nSkipping line 1039: expected 1 fields, saw 5\\nSkipping line 1041: expected 1 fields, saw 2\\nSkipping line 1042: expected 1 fields, saw 4\\nSkipping line 1043: expected 1 fields, saw 4\\nSkipping line 1044: expected 1 fields, saw 2\\nSkipping line 1045: expected 1 fields, saw 2\\nSkipping line 1046: expected 1 fields, saw 2\\nSkipping line 1047: expected 1 fields, saw 3\\nSkipping line 1048: expected 1 fields, saw 2\\nSkipping line 1050: expected 1 fields, saw 5\\nSkipping line 1051: expected 1 fields, saw 5\\nSkipping line 1052: expected 1 fields, saw 2\\nSkipping line 1053: expected 1 fields, saw 3\\nSkipping line 1055: expected 1 fields, saw 2\\nSkipping line 1056: expected 1 fields, saw 3\\nSkipping line 1057: expected 1 fields, saw 3\\nSkipping line 1058: expected 1 fields, saw 6\\nSkipping line 1059: expected 1 fields, saw 5\\nSkipping line 1060: expected 1 fields, saw 6\\nSkipping line 1061: expected 1 fields, saw 7\\nSkipping line 1062: expected 1 fields, saw 6\\nSkipping line 1063: expected 1 fields, saw 2\\nSkipping line 1064: expected 1 fields, saw 4\\nSkipping line 1065: expected 1 fields, saw 5\\nSkipping line 1067: expected 1 fields, saw 2\\nSkipping line 1068: expected 1 fields, saw 4\\nSkipping line 1070: expected 1 fields, saw 8\\nSkipping line 1071: expected 1 fields, saw 2\\nSkipping line 1072: expected 1 fields, saw 3\\nSkipping line 1073: expected 1 fields, saw 3\\nSkipping line 1074: expected 1 fields, saw 4\\nSkipping line 1075: expected 1 fields, saw 4\\nSkipping line 1076: expected 1 fields, saw 5\\nSkipping line 1077: expected 1 fields, saw 6\\nSkipping line 1079: expected 1 fields, saw 3\\nSkipping line 1081: expected 1 fields, saw 2\\nSkipping line 1082: expected 1 fields, saw 5\\nSkipping line 1083: expected 1 fields, saw 6\\nSkipping line 1084: expected 1 fields, saw 4\\nSkipping line 1086: expected 1 fields, saw 4\\nSkipping line 1087: expected 1 fields, saw 4\\nSkipping line 1088: expected 1 fields, saw 3\\nSkipping line 1089: expected 1 fields, saw 3\\nSkipping line 1091: expected 1 fields, saw 2\\nSkipping line 1093: expected 1 fields, saw 2\\nSkipping line 1094: expected 1 fields, saw 6\\nSkipping line 1095: expected 1 fields, saw 4\\nSkipping line 1096: expected 1 fields, saw 10\\nSkipping line 1097: expected 1 fields, saw 3\\nSkipping line 1098: expected 1 fields, saw 2\\nSkipping line 1099: expected 1 fields, saw 3\\nSkipping line 1100: expected 1 fields, saw 2\\nSkipping line 1101: expected 1 fields, saw 4\\nSkipping line 1102: expected 1 fields, saw 4\\nSkipping line 1103: expected 1 fields, saw 2\\nSkipping line 1104: expected 1 fields, saw 4\\nSkipping line 1105: expected 1 fields, saw 3\\nSkipping line 1106: expected 1 fields, saw 4\\nSkipping line 1107: expected 1 fields, saw 3\\nSkipping line 1108: expected 1 fields, saw 3\\nSkipping line 1109: expected 1 fields, saw 2\\nSkipping line 1110: expected 1 fields, saw 3\\nSkipping line 1111: expected 1 fields, saw 5\\nSkipping line 1112: expected 1 fields, saw 8\\nSkipping line 1113: expected 1 fields, saw 4\\nSkipping line 1114: expected 1 fields, saw 2\\nSkipping line 1115: expected 1 fields, saw 2\\nSkipping line 1116: expected 1 fields, saw 5\\nSkipping line 1117: expected 1 fields, saw 7\\nSkipping line 1118: expected 1 fields, saw 4\\nSkipping line 1119: expected 1 fields, saw 2\\nSkipping line 1120: expected 1 fields, saw 3\\nSkipping line 1121: expected 1 fields, saw 3\\nSkipping line 1122: expected 1 fields, saw 4\\nSkipping line 1124: expected 1 fields, saw 2\\nSkipping line 1125: expected 1 fields, saw 3\\nSkipping line 1126: expected 1 fields, saw 2\\nSkipping line 1128: expected 1 fields, saw 3\\nSkipping line 1129: expected 1 fields, saw 2\\nSkipping line 1130: expected 1 fields, saw 6\\nSkipping line 1131: expected 1 fields, saw 3\\nSkipping line 1133: expected 1 fields, saw 3\\nSkipping line 1134: expected 1 fields, saw 2\\nSkipping line 1135: expected 1 fields, saw 8\\nSkipping line 1136: expected 1 fields, saw 5\\nSkipping line 1137: expected 1 fields, saw 2\\nSkipping line 1138: expected 1 fields, saw 2\\nSkipping line 1139: expected 1 fields, saw 3\\nSkipping line 1141: expected 1 fields, saw 3\\nSkipping line 1142: expected 1 fields, saw 7\\nSkipping line 1143: expected 1 fields, saw 3\\nSkipping line 1144: expected 1 fields, saw 7\\nSkipping line 1146: expected 1 fields, saw 3\\nSkipping line 1148: expected 1 fields, saw 2\\nSkipping line 1149: expected 1 fields, saw 5\\nSkipping line 1154: expected 1 fields, saw 3\\nSkipping line 1160: expected 1 fields, saw 3\\nSkipping line 1162: expected 1 fields, saw 2\\nSkipping line 1169: expected 1 fields, saw 3\\nSkipping line 1171: expected 1 fields, saw 5\\nSkipping line 1180: expected 1 fields, saw 2\\nSkipping line 1183: expected 1 fields, saw 5\\nSkipping line 1202: expected 1 fields, saw 2\\nSkipping line 1203: expected 1 fields, saw 2\\nSkipping line 1204: expected 1 fields, saw 2\\nSkipping line 1206: expected 1 fields, saw 2\\nSkipping line 1209: expected 1 fields, saw 2\\nSkipping line 1211: expected 1 fields, saw 2\\nSkipping line 1214: expected 1 fields, saw 2\\nSkipping line 1215: expected 1 fields, saw 3\\nSkipping line 1219: expected 1 fields, saw 2\\nSkipping line 1222: expected 1 fields, saw 2\\nSkipping line 1226: expected 1 fields, saw 2\\nSkipping line 1235: expected 1 fields, saw 2\\nSkipping line 1237: expected 1 fields, saw 3\\nSkipping line 1238: expected 1 fields, saw 3\\nSkipping line 1242: expected 1 fields, saw 2\\nSkipping line 1259: expected 1 fields, saw 2\\nSkipping line 1266: expected 1 fields, saw 2\\nSkipping line 1274: expected 1 fields, saw 3\\nSkipping line 1275: expected 1 fields, saw 3\\nSkipping line 1282: expected 1 fields, saw 2\\nSkipping line 1283: expected 1 fields, saw 3\\nSkipping line 1287: expected 1 fields, saw 2\\nSkipping line 1296: expected 1 fields, saw 3\\nSkipping line 1298: expected 1 fields, saw 2\\nSkipping line 1300: expected 1 fields, saw 3\\nSkipping line 1303: expected 1 fields, saw 2\\nSkipping line 1304: expected 1 fields, saw 3\\nSkipping line 1311: expected 1 fields, saw 2\\n'\n"
          ],
          "name": "stderr"
        }
      ]
    },
    {
      "cell_type": "code",
      "metadata": {
        "colab": {
          "base_uri": "https://localhost:8080/"
        },
        "id": "OAsnWFJQJNUX",
        "outputId": "5ecfcb60-411d-4078-91f6-6a5f3bca12c6"
      },
      "source": [
        "df_test=pd.read_csv('sts_test.csv',error_bad_lines=False,header=None)\n",
        "for j in range(len(df_test)):\n",
        "  arr=[]\n",
        "  for i in range(len(df_test.iloc[1,:].str.split(\"\\t\").to_list()[0])):\n",
        "    if i>=4:\n",
        "      arr.append(df_test.iloc[j,:].str.split(\"\\t\").to_list()[0][i])\n",
        "  test_data.append(arr)\n",
        "for i in range(5):\n",
        "  print(test_data[i])"
      ],
      "execution_count": null,
      "outputs": [
        {
          "output_type": "stream",
          "text": [
            "['2.500', 'A girl is styling her hair.', 'A girl is brushing her hair.']\n",
            "['3.600', 'A group of men play soccer on the beach.', 'A group of boys are playing soccer on the beach.']\n",
            "['5.000', \"One woman is measuring another woman's ankle.\", \"A woman measures another woman's ankle.\"]\n",
            "['4.200', 'A man is cutting up a cucumber.', 'A man is slicing a cucumber.']\n",
            "['1.500', 'A man is playing a harp.', 'A man is playing a keyboard.']\n"
          ],
          "name": "stdout"
        },
        {
          "output_type": "stream",
          "text": [
            "b'Skipping line 99: expected 1 fields, saw 3\\nSkipping line 240: expected 1 fields, saw 2\\nSkipping line 280: expected 1 fields, saw 3\\nSkipping line 297: expected 1 fields, saw 2\\nSkipping line 326: expected 1 fields, saw 2\\nSkipping line 336: expected 1 fields, saw 3\\nSkipping line 371: expected 1 fields, saw 4\\nSkipping line 405: expected 1 fields, saw 2\\nSkipping line 414: expected 1 fields, saw 3\\nSkipping line 429: expected 1 fields, saw 3\\nSkipping line 442: expected 1 fields, saw 2\\nSkipping line 489: expected 1 fields, saw 2\\nSkipping line 521: expected 1 fields, saw 2\\nSkipping line 626: expected 1 fields, saw 3\\nSkipping line 627: expected 1 fields, saw 2\\nSkipping line 629: expected 1 fields, saw 2\\nSkipping line 631: expected 1 fields, saw 3\\nSkipping line 634: expected 1 fields, saw 2\\nSkipping line 635: expected 1 fields, saw 2\\nSkipping line 637: expected 1 fields, saw 3\\nSkipping line 638: expected 1 fields, saw 2\\nSkipping line 641: expected 1 fields, saw 2\\nSkipping line 642: expected 1 fields, saw 2\\nSkipping line 645: expected 1 fields, saw 3\\nSkipping line 648: expected 1 fields, saw 2\\nSkipping line 649: expected 1 fields, saw 2\\nSkipping line 651: expected 1 fields, saw 2\\nSkipping line 655: expected 1 fields, saw 3\\nSkipping line 662: expected 1 fields, saw 2\\nSkipping line 666: expected 1 fields, saw 3\\nSkipping line 667: expected 1 fields, saw 3\\nSkipping line 673: expected 1 fields, saw 3\\nSkipping line 678: expected 1 fields, saw 4\\nSkipping line 679: expected 1 fields, saw 2\\nSkipping line 681: expected 1 fields, saw 2\\nSkipping line 682: expected 1 fields, saw 2\\nSkipping line 683: expected 1 fields, saw 2\\nSkipping line 691: expected 1 fields, saw 2\\nSkipping line 694: expected 1 fields, saw 2\\nSkipping line 696: expected 1 fields, saw 2\\nSkipping line 702: expected 1 fields, saw 2\\nSkipping line 705: expected 1 fields, saw 2\\nSkipping line 709: expected 1 fields, saw 2\\nSkipping line 710: expected 1 fields, saw 2\\nSkipping line 712: expected 1 fields, saw 2\\nSkipping line 715: expected 1 fields, saw 2\\nSkipping line 716: expected 1 fields, saw 2\\nSkipping line 720: expected 1 fields, saw 2\\nSkipping line 722: expected 1 fields, saw 2\\nSkipping line 723: expected 1 fields, saw 3\\nSkipping line 732: expected 1 fields, saw 2\\nSkipping line 733: expected 1 fields, saw 3\\nSkipping line 735: expected 1 fields, saw 3\\nSkipping line 737: expected 1 fields, saw 3\\nSkipping line 739: expected 1 fields, saw 2\\nSkipping line 740: expected 1 fields, saw 3\\nSkipping line 743: expected 1 fields, saw 3\\nSkipping line 745: expected 1 fields, saw 3\\nSkipping line 753: expected 1 fields, saw 2\\nSkipping line 759: expected 1 fields, saw 3\\nSkipping line 764: expected 1 fields, saw 2\\nSkipping line 765: expected 1 fields, saw 2\\nSkipping line 768: expected 1 fields, saw 2\\nSkipping line 769: expected 1 fields, saw 2\\nSkipping line 772: expected 1 fields, saw 3\\nSkipping line 774: expected 1 fields, saw 2\\nSkipping line 777: expected 1 fields, saw 3\\nSkipping line 781: expected 1 fields, saw 2\\nSkipping line 782: expected 1 fields, saw 2\\nSkipping line 786: expected 1 fields, saw 3\\nSkipping line 787: expected 1 fields, saw 3\\nSkipping line 790: expected 1 fields, saw 3\\nSkipping line 794: expected 1 fields, saw 3\\nSkipping line 795: expected 1 fields, saw 2\\nSkipping line 796: expected 1 fields, saw 3\\nSkipping line 799: expected 1 fields, saw 2\\nSkipping line 800: expected 1 fields, saw 3\\nSkipping line 801: expected 1 fields, saw 3\\nSkipping line 802: expected 1 fields, saw 3\\nSkipping line 805: expected 1 fields, saw 2\\nSkipping line 808: expected 1 fields, saw 3\\nSkipping line 821: expected 1 fields, saw 3\\nSkipping line 829: expected 1 fields, saw 2\\nSkipping line 831: expected 1 fields, saw 2\\nSkipping line 833: expected 1 fields, saw 2\\nSkipping line 834: expected 1 fields, saw 2\\nSkipping line 851: expected 1 fields, saw 2\\nSkipping line 856: expected 1 fields, saw 3\\nSkipping line 858: expected 1 fields, saw 2\\nSkipping line 859: expected 1 fields, saw 2\\nSkipping line 864: expected 1 fields, saw 3\\nSkipping line 865: expected 1 fields, saw 3\\nSkipping line 868: expected 1 fields, saw 3\\nSkipping line 874: expected 1 fields, saw 3\\nSkipping line 877: expected 1 fields, saw 2\\nSkipping line 880: expected 1 fields, saw 2\\nSkipping line 881: expected 1 fields, saw 2\\nSkipping line 883: expected 1 fields, saw 2\\nSkipping line 884: expected 1 fields, saw 6\\nSkipping line 886: expected 1 fields, saw 5\\nSkipping line 887: expected 1 fields, saw 2\\nSkipping line 889: expected 1 fields, saw 5\\nSkipping line 892: expected 1 fields, saw 7\\nSkipping line 895: expected 1 fields, saw 3\\nSkipping line 896: expected 1 fields, saw 2\\nSkipping line 897: expected 1 fields, saw 5\\nSkipping line 899: expected 1 fields, saw 3\\nSkipping line 900: expected 1 fields, saw 4\\nSkipping line 902: expected 1 fields, saw 7\\nSkipping line 903: expected 1 fields, saw 3\\nSkipping line 904: expected 1 fields, saw 2\\nSkipping line 905: expected 1 fields, saw 2\\nSkipping line 906: expected 1 fields, saw 3\\nSkipping line 907: expected 1 fields, saw 4\\nSkipping line 909: expected 1 fields, saw 2\\nSkipping line 910: expected 1 fields, saw 2\\nSkipping line 911: expected 1 fields, saw 4\\nSkipping line 912: expected 1 fields, saw 2\\nSkipping line 913: expected 1 fields, saw 4\\nSkipping line 914: expected 1 fields, saw 7\\nSkipping line 915: expected 1 fields, saw 3\\nSkipping line 916: expected 1 fields, saw 5\\nSkipping line 917: expected 1 fields, saw 11\\nSkipping line 918: expected 1 fields, saw 3\\nSkipping line 919: expected 1 fields, saw 3\\nSkipping line 920: expected 1 fields, saw 6\\nSkipping line 921: expected 1 fields, saw 3\\nSkipping line 922: expected 1 fields, saw 2\\nSkipping line 923: expected 1 fields, saw 6\\nSkipping line 925: expected 1 fields, saw 3\\nSkipping line 927: expected 1 fields, saw 3\\nSkipping line 928: expected 1 fields, saw 4\\nSkipping line 930: expected 1 fields, saw 4\\nSkipping line 931: expected 1 fields, saw 2\\nSkipping line 932: expected 1 fields, saw 3\\nSkipping line 934: expected 1 fields, saw 2\\nSkipping line 935: expected 1 fields, saw 5\\nSkipping line 936: expected 1 fields, saw 2\\nSkipping line 937: expected 1 fields, saw 2\\nSkipping line 938: expected 1 fields, saw 4\\nSkipping line 940: expected 1 fields, saw 2\\nSkipping line 941: expected 1 fields, saw 2\\nSkipping line 943: expected 1 fields, saw 7\\nSkipping line 945: expected 1 fields, saw 2\\nSkipping line 946: expected 1 fields, saw 10\\nSkipping line 947: expected 1 fields, saw 3\\nSkipping line 948: expected 1 fields, saw 3\\nSkipping line 949: expected 1 fields, saw 2\\nSkipping line 950: expected 1 fields, saw 5\\nSkipping line 951: expected 1 fields, saw 2\\nSkipping line 952: expected 1 fields, saw 3\\nSkipping line 954: expected 1 fields, saw 2\\nSkipping line 955: expected 1 fields, saw 6\\nSkipping line 956: expected 1 fields, saw 2\\nSkipping line 959: expected 1 fields, saw 2\\nSkipping line 960: expected 1 fields, saw 6\\nSkipping line 961: expected 1 fields, saw 2\\nSkipping line 963: expected 1 fields, saw 2\\nSkipping line 964: expected 1 fields, saw 4\\nSkipping line 965: expected 1 fields, saw 4\\nSkipping line 966: expected 1 fields, saw 4\\nSkipping line 967: expected 1 fields, saw 8\\nSkipping line 969: expected 1 fields, saw 11\\nSkipping line 970: expected 1 fields, saw 7\\nSkipping line 971: expected 1 fields, saw 5\\nSkipping line 972: expected 1 fields, saw 5\\nSkipping line 973: expected 1 fields, saw 2\\nSkipping line 974: expected 1 fields, saw 3\\nSkipping line 977: expected 1 fields, saw 3\\nSkipping line 978: expected 1 fields, saw 4\\nSkipping line 979: expected 1 fields, saw 5\\nSkipping line 980: expected 1 fields, saw 2\\nSkipping line 981: expected 1 fields, saw 4\\nSkipping line 982: expected 1 fields, saw 6\\nSkipping line 985: expected 1 fields, saw 2\\nSkipping line 986: expected 1 fields, saw 5\\nSkipping line 987: expected 1 fields, saw 2\\nSkipping line 988: expected 1 fields, saw 4\\nSkipping line 991: expected 1 fields, saw 3\\nSkipping line 993: expected 1 fields, saw 2\\nSkipping line 994: expected 1 fields, saw 4\\nSkipping line 995: expected 1 fields, saw 3\\nSkipping line 996: expected 1 fields, saw 6\\nSkipping line 997: expected 1 fields, saw 3\\nSkipping line 998: expected 1 fields, saw 2\\nSkipping line 999: expected 1 fields, saw 4\\nSkipping line 1000: expected 1 fields, saw 3\\nSkipping line 1002: expected 1 fields, saw 2\\nSkipping line 1004: expected 1 fields, saw 8\\nSkipping line 1006: expected 1 fields, saw 2\\nSkipping line 1007: expected 1 fields, saw 2\\nSkipping line 1008: expected 1 fields, saw 7\\nSkipping line 1009: expected 1 fields, saw 2\\nSkipping line 1012: expected 1 fields, saw 4\\nSkipping line 1013: expected 1 fields, saw 3\\nSkipping line 1015: expected 1 fields, saw 4\\nSkipping line 1016: expected 1 fields, saw 6\\nSkipping line 1017: expected 1 fields, saw 3\\nSkipping line 1018: expected 1 fields, saw 7\\nSkipping line 1020: expected 1 fields, saw 4\\nSkipping line 1021: expected 1 fields, saw 4\\nSkipping line 1022: expected 1 fields, saw 3\\nSkipping line 1023: expected 1 fields, saw 4\\nSkipping line 1033: expected 1 fields, saw 3\\nSkipping line 1039: expected 1 fields, saw 3\\nSkipping line 1041: expected 1 fields, saw 3\\nSkipping line 1043: expected 1 fields, saw 2\\nSkipping line 1053: expected 1 fields, saw 2\\nSkipping line 1056: expected 1 fields, saw 2\\nSkipping line 1057: expected 1 fields, saw 2\\nSkipping line 1061: expected 1 fields, saw 2\\nSkipping line 1076: expected 1 fields, saw 2\\nSkipping line 1088: expected 1 fields, saw 3\\nSkipping line 1092: expected 1 fields, saw 2\\nSkipping line 1100: expected 1 fields, saw 5\\nSkipping line 1117: expected 1 fields, saw 3\\nSkipping line 1123: expected 1 fields, saw 3\\nSkipping line 1130: expected 1 fields, saw 2\\nSkipping line 1138: expected 1 fields, saw 2\\nSkipping line 1147: expected 1 fields, saw 3\\nSkipping line 1151: expected 1 fields, saw 2\\nSkipping line 1153: expected 1 fields, saw 2\\nSkipping line 1155: expected 1 fields, saw 2\\nSkipping line 1159: expected 1 fields, saw 2\\nSkipping line 1164: expected 1 fields, saw 2\\nSkipping line 1165: expected 1 fields, saw 3\\nSkipping line 1166: expected 1 fields, saw 2\\nSkipping line 1169: expected 1 fields, saw 3\\nSkipping line 1175: expected 1 fields, saw 2\\nSkipping line 1177: expected 1 fields, saw 3\\nSkipping line 1186: expected 1 fields, saw 2\\nSkipping line 1201: expected 1 fields, saw 2\\nSkipping line 1204: expected 1 fields, saw 2\\nSkipping line 1208: expected 1 fields, saw 2\\nSkipping line 1209: expected 1 fields, saw 2\\nSkipping line 1213: expected 1 fields, saw 5\\nSkipping line 1215: expected 1 fields, saw 3\\nSkipping line 1220: expected 1 fields, saw 4\\nSkipping line 1225: expected 1 fields, saw 2\\nSkipping line 1227: expected 1 fields, saw 2\\nSkipping line 1232: expected 1 fields, saw 3\\nSkipping line 1234: expected 1 fields, saw 2\\nSkipping line 1238: expected 1 fields, saw 3\\nSkipping line 1239: expected 1 fields, saw 2\\nSkipping line 1248: expected 1 fields, saw 2\\nSkipping line 1252: expected 1 fields, saw 3\\nSkipping line 1258: expected 1 fields, saw 2\\nSkipping line 1262: expected 1 fields, saw 2\\nSkipping line 1269: expected 1 fields, saw 2\\nSkipping line 1270: expected 1 fields, saw 2\\n'\n"
          ],
          "name": "stderr"
        }
      ]
    },
    {
      "cell_type": "code",
      "metadata": {
        "colab": {
          "base_uri": "https://localhost:8080/"
        },
        "id": "BeRgcPjlJPKb",
        "outputId": "28b64628-becb-44a7-8057-4608399c4a58"
      },
      "source": [
        "df_train=pd.read_csv('sts_train.csv',error_bad_lines=False,header=None)\n",
        "for j in range(len(df_train)):\n",
        "  arr=[]\n",
        "  for i in range(len(df_train.iloc[1,:].str.split(\"\\t\").to_list()[0])):\n",
        "    if i>=4:\n",
        "      arr.append(df_train.iloc[j,:].str.split(\"\\t\").to_list()[0][i])\n",
        "  train_data.append(arr)\n",
        "for i in range(5):\n",
        "  print(train_data[i])"
      ],
      "execution_count": null,
      "outputs": [
        {
          "output_type": "stream",
          "text": [
            "b'Skipping line 441: expected 1 fields, saw 2\\nSkipping line 741: expected 1 fields, saw 2\\nSkipping line 772: expected 1 fields, saw 3\\nSkipping line 779: expected 1 fields, saw 3\\nSkipping line 1035: expected 1 fields, saw 2\\nSkipping line 1081: expected 1 fields, saw 2\\nSkipping line 1086: expected 1 fields, saw 2\\nSkipping line 1099: expected 1 fields, saw 3\\nSkipping line 1107: expected 1 fields, saw 2\\nSkipping line 1160: expected 1 fields, saw 2\\nSkipping line 1173: expected 1 fields, saw 2\\nSkipping line 1196: expected 1 fields, saw 2\\nSkipping line 1201: expected 1 fields, saw 3\\nSkipping line 1211: expected 1 fields, saw 3\\nSkipping line 1235: expected 1 fields, saw 4\\nSkipping line 1247: expected 1 fields, saw 2\\nSkipping line 1252: expected 1 fields, saw 3\\nSkipping line 1260: expected 1 fields, saw 2\\nSkipping line 1286: expected 1 fields, saw 5\\nSkipping line 1298: expected 1 fields, saw 3\\nSkipping line 1309: expected 1 fields, saw 2\\nSkipping line 1341: expected 1 fields, saw 3\\nSkipping line 1362: expected 1 fields, saw 2\\nSkipping line 1454: expected 1 fields, saw 3\\nSkipping line 1463: expected 1 fields, saw 2\\nSkipping line 1485: expected 1 fields, saw 2\\nSkipping line 1522: expected 1 fields, saw 2\\nSkipping line 1553: expected 1 fields, saw 2\\nSkipping line 1556: expected 1 fields, saw 3\\nSkipping line 1557: expected 1 fields, saw 3\\nSkipping line 1673: expected 1 fields, saw 2\\nSkipping line 1704: expected 1 fields, saw 2\\nSkipping line 1706: expected 1 fields, saw 3\\nSkipping line 1736: expected 1 fields, saw 2\\nSkipping line 1762: expected 1 fields, saw 2\\nSkipping line 1790: expected 1 fields, saw 3\\nSkipping line 1831: expected 1 fields, saw 4\\nSkipping line 1839: expected 1 fields, saw 2\\nSkipping line 1869: expected 1 fields, saw 2\\nSkipping line 1899: expected 1 fields, saw 3\\nSkipping line 1902: expected 1 fields, saw 2\\nSkipping line 1905: expected 1 fields, saw 2\\nSkipping line 1911: expected 1 fields, saw 3\\nSkipping line 1922: expected 1 fields, saw 2\\nSkipping line 1942: expected 1 fields, saw 2\\nSkipping line 1994: expected 1 fields, saw 2\\nSkipping line 2001: expected 1 fields, saw 2\\nSkipping line 2005: expected 1 fields, saw 4\\nSkipping line 2017: expected 1 fields, saw 2\\nSkipping line 2018: expected 1 fields, saw 5\\nSkipping line 2020: expected 1 fields, saw 2\\nSkipping line 2024: expected 1 fields, saw 5\\nSkipping line 2025: expected 1 fields, saw 5\\nSkipping line 2026: expected 1 fields, saw 2\\nSkipping line 2028: expected 1 fields, saw 2\\nSkipping line 2034: expected 1 fields, saw 3\\nSkipping line 2039: expected 1 fields, saw 5\\nSkipping line 2043: expected 1 fields, saw 2\\nSkipping line 2045: expected 1 fields, saw 2\\nSkipping line 2047: expected 1 fields, saw 3\\nSkipping line 2048: expected 1 fields, saw 3\\nSkipping line 2052: expected 1 fields, saw 3\\nSkipping line 2056: expected 1 fields, saw 2\\nSkipping line 2057: expected 1 fields, saw 10\\nSkipping line 2059: expected 1 fields, saw 3\\nSkipping line 2062: expected 1 fields, saw 3\\nSkipping line 2064: expected 1 fields, saw 2\\nSkipping line 2067: expected 1 fields, saw 2\\nSkipping line 2070: expected 1 fields, saw 3\\nSkipping line 2074: expected 1 fields, saw 5\\nSkipping line 2081: expected 1 fields, saw 2\\nSkipping line 2086: expected 1 fields, saw 3\\nSkipping line 2087: expected 1 fields, saw 2\\nSkipping line 2091: expected 1 fields, saw 3\\nSkipping line 2092: expected 1 fields, saw 2\\nSkipping line 2097: expected 1 fields, saw 2\\nSkipping line 2099: expected 1 fields, saw 2\\nSkipping line 2100: expected 1 fields, saw 2\\nSkipping line 2104: expected 1 fields, saw 2\\nSkipping line 2119: expected 1 fields, saw 3\\nSkipping line 2120: expected 1 fields, saw 2\\nSkipping line 2124: expected 1 fields, saw 3\\nSkipping line 2132: expected 1 fields, saw 4\\nSkipping line 2133: expected 1 fields, saw 2\\nSkipping line 2137: expected 1 fields, saw 2\\nSkipping line 2138: expected 1 fields, saw 2\\nSkipping line 2142: expected 1 fields, saw 2\\nSkipping line 2148: expected 1 fields, saw 2\\nSkipping line 2149: expected 1 fields, saw 2\\nSkipping line 2154: expected 1 fields, saw 2\\nSkipping line 2156: expected 1 fields, saw 3\\nSkipping line 2158: expected 1 fields, saw 3\\nSkipping line 2166: expected 1 fields, saw 3\\nSkipping line 2167: expected 1 fields, saw 2\\nSkipping line 2168: expected 1 fields, saw 4\\nSkipping line 2173: expected 1 fields, saw 2\\nSkipping line 2174: expected 1 fields, saw 3\\nSkipping line 2175: expected 1 fields, saw 2\\nSkipping line 2180: expected 1 fields, saw 4\\nSkipping line 2187: expected 1 fields, saw 2\\nSkipping line 2188: expected 1 fields, saw 2\\nSkipping line 2189: expected 1 fields, saw 3\\nSkipping line 2193: expected 1 fields, saw 2\\nSkipping line 2194: expected 1 fields, saw 3\\nSkipping line 2197: expected 1 fields, saw 3\\nSkipping line 2200: expected 1 fields, saw 3\\nSkipping line 2209: expected 1 fields, saw 3\\nSkipping line 2210: expected 1 fields, saw 3\\nSkipping line 2211: expected 1 fields, saw 4\\nSkipping line 2214: expected 1 fields, saw 2\\nSkipping line 2220: expected 1 fields, saw 2\\nSkipping line 2226: expected 1 fields, saw 2\\nSkipping line 2232: expected 1 fields, saw 3\\nSkipping line 2234: expected 1 fields, saw 3\\nSkipping line 2235: expected 1 fields, saw 4\\nSkipping line 2238: expected 1 fields, saw 3\\nSkipping line 2244: expected 1 fields, saw 2\\nSkipping line 2248: expected 1 fields, saw 2\\nSkipping line 2257: expected 1 fields, saw 2\\nSkipping line 2258: expected 1 fields, saw 2\\nSkipping line 2260: expected 1 fields, saw 5\\nSkipping line 2262: expected 1 fields, saw 3\\nSkipping line 2263: expected 1 fields, saw 3\\nSkipping line 2266: expected 1 fields, saw 2\\nSkipping line 2267: expected 1 fields, saw 5\\nSkipping line 2270: expected 1 fields, saw 3\\nSkipping line 2278: expected 1 fields, saw 2\\nSkipping line 2280: expected 1 fields, saw 3\\nSkipping line 2281: expected 1 fields, saw 2\\nSkipping line 2298: expected 1 fields, saw 3\\nSkipping line 2300: expected 1 fields, saw 2\\nSkipping line 2307: expected 1 fields, saw 3\\nSkipping line 2309: expected 1 fields, saw 2\\nSkipping line 2313: expected 1 fields, saw 2\\nSkipping line 2315: expected 1 fields, saw 3\\nSkipping line 2320: expected 1 fields, saw 2\\nSkipping line 2324: expected 1 fields, saw 3\\nSkipping line 2325: expected 1 fields, saw 2\\nSkipping line 2329: expected 1 fields, saw 3\\nSkipping line 2331: expected 1 fields, saw 3\\nSkipping line 2335: expected 1 fields, saw 5\\nSkipping line 2336: expected 1 fields, saw 3\\nSkipping line 2339: expected 1 fields, saw 2\\nSkipping line 2341: expected 1 fields, saw 5\\nSkipping line 2344: expected 1 fields, saw 10\\nSkipping line 2351: expected 1 fields, saw 2\\nSkipping line 2361: expected 1 fields, saw 3\\nSkipping line 2364: expected 1 fields, saw 4\\nSkipping line 2368: expected 1 fields, saw 10\\nSkipping line 2372: expected 1 fields, saw 3\\nSkipping line 2379: expected 1 fields, saw 3\\nSkipping line 2388: expected 1 fields, saw 2\\nSkipping line 2394: expected 1 fields, saw 3\\nSkipping line 2396: expected 1 fields, saw 3\\nSkipping line 2404: expected 1 fields, saw 3\\nSkipping line 2408: expected 1 fields, saw 2\\nSkipping line 2422: expected 1 fields, saw 4\\nSkipping line 2425: expected 1 fields, saw 2\\nSkipping line 2427: expected 1 fields, saw 2\\nSkipping line 2432: expected 1 fields, saw 2\\nSkipping line 2437: expected 1 fields, saw 3\\nSkipping line 2440: expected 1 fields, saw 2\\nSkipping line 2448: expected 1 fields, saw 2\\nSkipping line 2449: expected 1 fields, saw 2\\nSkipping line 2453: expected 1 fields, saw 3\\nSkipping line 2454: expected 1 fields, saw 5\\nSkipping line 2455: expected 1 fields, saw 5\\nSkipping line 2459: expected 1 fields, saw 5\\nSkipping line 2460: expected 1 fields, saw 2\\nSkipping line 2461: expected 1 fields, saw 3\\nSkipping line 2462: expected 1 fields, saw 5\\nSkipping line 2463: expected 1 fields, saw 3\\nSkipping line 2464: expected 1 fields, saw 3\\nSkipping line 2465: expected 1 fields, saw 2\\nSkipping line 2466: expected 1 fields, saw 3\\nSkipping line 2467: expected 1 fields, saw 4\\nSkipping line 2469: expected 1 fields, saw 3\\nSkipping line 2470: expected 1 fields, saw 2\\nSkipping line 2471: expected 1 fields, saw 4\\nSkipping line 2472: expected 1 fields, saw 9\\nSkipping line 2473: expected 1 fields, saw 2\\nSkipping line 2475: expected 1 fields, saw 2\\nSkipping line 2476: expected 1 fields, saw 5\\nSkipping line 2477: expected 1 fields, saw 3\\nSkipping line 2478: expected 1 fields, saw 6\\nSkipping line 2479: expected 1 fields, saw 3\\nSkipping line 2480: expected 1 fields, saw 5\\nSkipping line 2481: expected 1 fields, saw 3\\nSkipping line 2482: expected 1 fields, saw 3\\nSkipping line 2483: expected 1 fields, saw 3\\nSkipping line 2484: expected 1 fields, saw 8\\nSkipping line 2485: expected 1 fields, saw 3\\nSkipping line 2486: expected 1 fields, saw 2\\nSkipping line 2487: expected 1 fields, saw 2\\nSkipping line 2488: expected 1 fields, saw 3\\nSkipping line 2489: expected 1 fields, saw 2\\nSkipping line 2490: expected 1 fields, saw 2\\nSkipping line 2492: expected 1 fields, saw 5\\nSkipping line 2493: expected 1 fields, saw 3\\nSkipping line 2495: expected 1 fields, saw 3\\nSkipping line 2496: expected 1 fields, saw 3\\nSkipping line 2497: expected 1 fields, saw 6\\nSkipping line 2498: expected 1 fields, saw 4\\nSkipping line 2499: expected 1 fields, saw 2\\nSkipping line 2500: expected 1 fields, saw 3\\nSkipping line 2501: expected 1 fields, saw 5\\nSkipping line 2502: expected 1 fields, saw 2\\nSkipping line 2503: expected 1 fields, saw 4\\nSkipping line 2504: expected 1 fields, saw 4\\nSkipping line 2506: expected 1 fields, saw 4\\nSkipping line 2507: expected 1 fields, saw 4\\nSkipping line 2508: expected 1 fields, saw 4\\nSkipping line 2509: expected 1 fields, saw 6\\nSkipping line 2510: expected 1 fields, saw 4\\nSkipping line 2511: expected 1 fields, saw 6\\nSkipping line 2512: expected 1 fields, saw 2\\nSkipping line 2513: expected 1 fields, saw 5\\nSkipping line 2515: expected 1 fields, saw 6\\nSkipping line 2516: expected 1 fields, saw 7\\nSkipping line 2517: expected 1 fields, saw 10\\nSkipping line 2518: expected 1 fields, saw 4\\nSkipping line 2519: expected 1 fields, saw 5\\nSkipping line 2520: expected 1 fields, saw 3\\nSkipping line 2521: expected 1 fields, saw 2\\nSkipping line 2522: expected 1 fields, saw 4\\nSkipping line 2523: expected 1 fields, saw 3\\nSkipping line 2524: expected 1 fields, saw 6\\nSkipping line 2525: expected 1 fields, saw 6\\nSkipping line 2527: expected 1 fields, saw 4\\nSkipping line 2528: expected 1 fields, saw 3\\nSkipping line 2529: expected 1 fields, saw 2\\nSkipping line 2531: expected 1 fields, saw 3\\nSkipping line 2532: expected 1 fields, saw 4\\nSkipping line 2533: expected 1 fields, saw 5\\nSkipping line 2534: expected 1 fields, saw 3\\nSkipping line 2535: expected 1 fields, saw 2\\nSkipping line 2536: expected 1 fields, saw 3\\nSkipping line 2537: expected 1 fields, saw 7\\nSkipping line 2538: expected 1 fields, saw 6\\nSkipping line 2539: expected 1 fields, saw 2\\nSkipping line 2540: expected 1 fields, saw 4\\nSkipping line 2541: expected 1 fields, saw 5\\nSkipping line 2544: expected 1 fields, saw 5\\nSkipping line 2545: expected 1 fields, saw 3\\nSkipping line 2546: expected 1 fields, saw 3\\nSkipping line 2547: expected 1 fields, saw 2\\nSkipping line 2548: expected 1 fields, saw 6\\nSkipping line 2549: expected 1 fields, saw 2\\nSkipping line 2550: expected 1 fields, saw 7\\nSkipping line 2551: expected 1 fields, saw 2\\nSkipping line 2552: expected 1 fields, saw 3\\nSkipping line 2553: expected 1 fields, saw 3\\nSkipping line 2555: expected 1 fields, saw 8\\nSkipping line 2556: expected 1 fields, saw 3\\nSkipping line 2557: expected 1 fields, saw 8\\nSkipping line 2558: expected 1 fields, saw 5\\nSkipping line 2559: expected 1 fields, saw 3\\nSkipping line 2562: expected 1 fields, saw 2\\nSkipping line 2563: expected 1 fields, saw 3\\nSkipping line 2565: expected 1 fields, saw 3\\nSkipping line 2568: expected 1 fields, saw 3\\nSkipping line 2569: expected 1 fields, saw 7\\nSkipping line 2572: expected 1 fields, saw 2\\nSkipping line 2576: expected 1 fields, saw 5\\nSkipping line 2578: expected 1 fields, saw 5\\nSkipping line 2579: expected 1 fields, saw 6\\nSkipping line 2580: expected 1 fields, saw 3\\nSkipping line 2584: expected 1 fields, saw 2\\nSkipping line 2589: expected 1 fields, saw 3\\nSkipping line 2590: expected 1 fields, saw 6\\nSkipping line 2591: expected 1 fields, saw 3\\nSkipping line 2595: expected 1 fields, saw 4\\nSkipping line 2597: expected 1 fields, saw 2\\nSkipping line 2598: expected 1 fields, saw 3\\nSkipping line 2599: expected 1 fields, saw 2\\nSkipping line 2601: expected 1 fields, saw 9\\nSkipping line 2602: expected 1 fields, saw 2\\nSkipping line 2603: expected 1 fields, saw 5\\nSkipping line 2604: expected 1 fields, saw 4\\nSkipping line 2605: expected 1 fields, saw 4\\nSkipping line 2606: expected 1 fields, saw 11\\nSkipping line 2607: expected 1 fields, saw 3\\nSkipping line 2608: expected 1 fields, saw 3\\nSkipping line 2609: expected 1 fields, saw 2\\nSkipping line 2610: expected 1 fields, saw 4\\nSkipping line 2611: expected 1 fields, saw 5\\nSkipping line 2612: expected 1 fields, saw 3\\nSkipping line 2613: expected 1 fields, saw 3\\nSkipping line 2614: expected 1 fields, saw 3\\nSkipping line 2615: expected 1 fields, saw 3\\nSkipping line 2617: expected 1 fields, saw 4\\nSkipping line 2618: expected 1 fields, saw 4\\nSkipping line 2620: expected 1 fields, saw 7\\nSkipping line 2622: expected 1 fields, saw 2\\nSkipping line 2624: expected 1 fields, saw 4\\nSkipping line 2625: expected 1 fields, saw 3\\nSkipping line 2626: expected 1 fields, saw 5\\nSkipping line 2627: expected 1 fields, saw 5\\nSkipping line 2628: expected 1 fields, saw 4\\nSkipping line 2629: expected 1 fields, saw 9\\nSkipping line 2630: expected 1 fields, saw 2\\nSkipping line 2632: expected 1 fields, saw 5\\nSkipping line 2633: expected 1 fields, saw 2\\nSkipping line 2634: expected 1 fields, saw 2\\nSkipping line 2635: expected 1 fields, saw 5\\nSkipping line 2637: expected 1 fields, saw 7\\nSkipping line 2638: expected 1 fields, saw 4\\nSkipping line 2639: expected 1 fields, saw 7\\nSkipping line 2640: expected 1 fields, saw 2\\nSkipping line 2642: expected 1 fields, saw 2\\nSkipping line 2643: expected 1 fields, saw 5\\nSkipping line 2644: expected 1 fields, saw 3\\nSkipping line 2646: expected 1 fields, saw 4\\nSkipping line 2647: expected 1 fields, saw 2\\nSkipping line 2648: expected 1 fields, saw 2\\nSkipping line 2649: expected 1 fields, saw 3\\nSkipping line 2650: expected 1 fields, saw 2\\nSkipping line 2651: expected 1 fields, saw 5\\nSkipping line 2652: expected 1 fields, saw 2\\nSkipping line 2654: expected 1 fields, saw 4\\nSkipping line 2655: expected 1 fields, saw 3\\nSkipping line 2656: expected 1 fields, saw 3\\nSkipping line 2657: expected 1 fields, saw 2\\nSkipping line 2658: expected 1 fields, saw 5\\nSkipping line 2659: expected 1 fields, saw 3\\nSkipping line 2660: expected 1 fields, saw 3\\nSkipping line 2662: expected 1 fields, saw 3\\nSkipping line 2663: expected 1 fields, saw 4\\nSkipping line 2664: expected 1 fields, saw 3\\nSkipping line 2665: expected 1 fields, saw 5\\nSkipping line 2666: expected 1 fields, saw 4\\nSkipping line 2667: expected 1 fields, saw 4\\nSkipping line 2668: expected 1 fields, saw 5\\nSkipping line 2669: expected 1 fields, saw 2\\nSkipping line 2670: expected 1 fields, saw 4\\nSkipping line 2671: expected 1 fields, saw 4\\nSkipping line 2672: expected 1 fields, saw 2\\nSkipping line 2674: expected 1 fields, saw 8\\nSkipping line 2675: expected 1 fields, saw 7\\nSkipping line 2676: expected 1 fields, saw 5\\nSkipping line 2677: expected 1 fields, saw 2\\nSkipping line 2678: expected 1 fields, saw 3\\nSkipping line 2680: expected 1 fields, saw 7\\nSkipping line 2683: expected 1 fields, saw 5\\nSkipping line 2684: expected 1 fields, saw 16\\nSkipping line 2685: expected 1 fields, saw 2\\nSkipping line 2686: expected 1 fields, saw 3\\nSkipping line 2688: expected 1 fields, saw 3\\nSkipping line 2691: expected 1 fields, saw 2\\nSkipping line 2692: expected 1 fields, saw 2\\nSkipping line 2693: expected 1 fields, saw 8\\nSkipping line 2695: expected 1 fields, saw 11\\nSkipping line 2697: expected 1 fields, saw 4\\nSkipping line 2699: expected 1 fields, saw 5\\nSkipping line 2700: expected 1 fields, saw 2\\nSkipping line 2701: expected 1 fields, saw 5\\nSkipping line 2702: expected 1 fields, saw 3\\nSkipping line 2703: expected 1 fields, saw 3\\nSkipping line 2705: expected 1 fields, saw 7\\nSkipping line 2706: expected 1 fields, saw 3\\nSkipping line 2708: expected 1 fields, saw 2\\nSkipping line 2709: expected 1 fields, saw 8\\nSkipping line 2710: expected 1 fields, saw 4\\nSkipping line 2711: expected 1 fields, saw 4\\nSkipping line 2712: expected 1 fields, saw 3\\nSkipping line 2715: expected 1 fields, saw 2\\nSkipping line 2716: expected 1 fields, saw 6\\nSkipping line 2718: expected 1 fields, saw 2\\nSkipping line 2719: expected 1 fields, saw 2\\nSkipping line 2720: expected 1 fields, saw 7\\nSkipping line 2721: expected 1 fields, saw 2\\nSkipping line 2722: expected 1 fields, saw 5\\nSkipping line 2724: expected 1 fields, saw 5\\nSkipping line 2725: expected 1 fields, saw 2\\nSkipping line 2727: expected 1 fields, saw 2\\nSkipping line 2729: expected 1 fields, saw 8\\nSkipping line 2730: expected 1 fields, saw 4\\nSkipping line 2731: expected 1 fields, saw 7\\nSkipping line 2732: expected 1 fields, saw 3\\nSkipping line 2733: expected 1 fields, saw 3\\nSkipping line 2734: expected 1 fields, saw 3\\nSkipping line 2735: expected 1 fields, saw 5\\nSkipping line 2736: expected 1 fields, saw 7\\nSkipping line 2738: expected 1 fields, saw 2\\nSkipping line 2739: expected 1 fields, saw 5\\nSkipping line 2740: expected 1 fields, saw 2\\nSkipping line 2741: expected 1 fields, saw 5\\nSkipping line 2742: expected 1 fields, saw 2\\nSkipping line 2743: expected 1 fields, saw 2\\nSkipping line 2746: expected 1 fields, saw 3\\nSkipping line 2747: expected 1 fields, saw 5\\nSkipping line 2751: expected 1 fields, saw 7\\nSkipping line 2752: expected 1 fields, saw 3\\nSkipping line 2753: expected 1 fields, saw 7\\nSkipping line 2754: expected 1 fields, saw 3\\nSkipping line 2755: expected 1 fields, saw 4\\nSkipping line 2756: expected 1 fields, saw 2\\nSkipping line 2757: expected 1 fields, saw 3\\nSkipping line 2758: expected 1 fields, saw 2\\nSkipping line 2759: expected 1 fields, saw 2\\nSkipping line 2762: expected 1 fields, saw 3\\nSkipping line 2763: expected 1 fields, saw 3\\nSkipping line 2766: expected 1 fields, saw 3\\nSkipping line 2767: expected 1 fields, saw 8\\nSkipping line 2769: expected 1 fields, saw 3\\nSkipping line 2770: expected 1 fields, saw 3\\nSkipping line 2771: expected 1 fields, saw 6\\nSkipping line 2772: expected 1 fields, saw 5\\nSkipping line 2773: expected 1 fields, saw 10\\nSkipping line 2774: expected 1 fields, saw 4\\nSkipping line 2775: expected 1 fields, saw 2\\nSkipping line 2776: expected 1 fields, saw 2\\nSkipping line 2777: expected 1 fields, saw 4\\nSkipping line 2778: expected 1 fields, saw 4\\nSkipping line 2780: expected 1 fields, saw 3\\nSkipping line 2784: expected 1 fields, saw 3\\nSkipping line 2785: expected 1 fields, saw 2\\nSkipping line 2786: expected 1 fields, saw 6\\nSkipping line 2787: expected 1 fields, saw 4\\nSkipping line 2788: expected 1 fields, saw 4\\nSkipping line 2789: expected 1 fields, saw 3\\nSkipping line 2790: expected 1 fields, saw 3\\nSkipping line 2791: expected 1 fields, saw 2\\nSkipping line 2794: expected 1 fields, saw 5\\nSkipping line 2795: expected 1 fields, saw 2\\nSkipping line 2796: expected 1 fields, saw 5\\nSkipping line 2797: expected 1 fields, saw 2\\nSkipping line 2798: expected 1 fields, saw 2\\nSkipping line 2800: expected 1 fields, saw 4\\nSkipping line 2801: expected 1 fields, saw 7\\nSkipping line 2802: expected 1 fields, saw 5\\nSkipping line 2803: expected 1 fields, saw 4\\nSkipping line 2806: expected 1 fields, saw 3\\nSkipping line 2807: expected 1 fields, saw 4\\nSkipping line 2808: expected 1 fields, saw 6\\nSkipping line 2809: expected 1 fields, saw 2\\nSkipping line 2811: expected 1 fields, saw 4\\nSkipping line 2812: expected 1 fields, saw 5\\nSkipping line 2813: expected 1 fields, saw 7\\nSkipping line 2814: expected 1 fields, saw 5\\nSkipping line 2815: expected 1 fields, saw 4\\nSkipping line 2817: expected 1 fields, saw 3\\nSkipping line 2820: expected 1 fields, saw 4\\nSkipping line 2822: expected 1 fields, saw 2\\nSkipping line 2823: expected 1 fields, saw 3\\nSkipping line 2824: expected 1 fields, saw 2\\nSkipping line 2825: expected 1 fields, saw 4\\nSkipping line 2826: expected 1 fields, saw 2\\nSkipping line 2827: expected 1 fields, saw 6\\nSkipping line 2828: expected 1 fields, saw 2\\nSkipping line 2830: expected 1 fields, saw 3\\nSkipping line 2831: expected 1 fields, saw 2\\nSkipping line 2832: expected 1 fields, saw 5\\nSkipping line 2833: expected 1 fields, saw 3\\nSkipping line 2834: expected 1 fields, saw 3\\nSkipping line 2835: expected 1 fields, saw 2\\nSkipping line 2836: expected 1 fields, saw 7\\nSkipping line 2838: expected 1 fields, saw 2\\nSkipping line 2839: expected 1 fields, saw 3\\nSkipping line 2840: expected 1 fields, saw 10\\nSkipping line 2841: expected 1 fields, saw 6\\nSkipping line 2843: expected 1 fields, saw 6\\nSkipping line 2844: expected 1 fields, saw 7\\nSkipping line 2845: expected 1 fields, saw 3\\nSkipping line 2846: expected 1 fields, saw 2\\nSkipping line 2848: expected 1 fields, saw 2\\nSkipping line 2849: expected 1 fields, saw 7\\nSkipping line 2850: expected 1 fields, saw 3\\nSkipping line 2851: expected 1 fields, saw 2\\nSkipping line 2852: expected 1 fields, saw 4\\nSkipping line 2854: expected 1 fields, saw 4\\nSkipping line 2855: expected 1 fields, saw 5\\nSkipping line 2856: expected 1 fields, saw 3\\nSkipping line 2857: expected 1 fields, saw 2\\nSkipping line 2860: expected 1 fields, saw 4\\nSkipping line 2861: expected 1 fields, saw 4\\nSkipping line 2862: expected 1 fields, saw 2\\nSkipping line 2863: expected 1 fields, saw 2\\nSkipping line 2864: expected 1 fields, saw 5\\nSkipping line 2866: expected 1 fields, saw 2\\nSkipping line 2867: expected 1 fields, saw 2\\nSkipping line 2868: expected 1 fields, saw 4\\nSkipping line 2871: expected 1 fields, saw 3\\nSkipping line 2872: expected 1 fields, saw 5\\nSkipping line 2873: expected 1 fields, saw 7\\nSkipping line 2874: expected 1 fields, saw 14\\nSkipping line 2875: expected 1 fields, saw 3\\nSkipping line 2876: expected 1 fields, saw 4\\nSkipping line 2877: expected 1 fields, saw 2\\nSkipping line 2878: expected 1 fields, saw 3\\nSkipping line 2880: expected 1 fields, saw 2\\nSkipping line 2881: expected 1 fields, saw 3\\nSkipping line 2883: expected 1 fields, saw 3\\nSkipping line 2884: expected 1 fields, saw 12\\nSkipping line 2885: expected 1 fields, saw 6\\nSkipping line 2886: expected 1 fields, saw 3\\nSkipping line 2887: expected 1 fields, saw 2\\nSkipping line 2888: expected 1 fields, saw 7\\nSkipping line 2889: expected 1 fields, saw 10\\nSkipping line 2890: expected 1 fields, saw 5\\nSkipping line 2891: expected 1 fields, saw 3\\nSkipping line 2892: expected 1 fields, saw 4\\nSkipping line 2893: expected 1 fields, saw 5\\nSkipping line 2894: expected 1 fields, saw 5\\nSkipping line 2895: expected 1 fields, saw 13\\nSkipping line 2896: expected 1 fields, saw 5\\nSkipping line 2897: expected 1 fields, saw 6\\nSkipping line 2898: expected 1 fields, saw 3\\nSkipping line 2899: expected 1 fields, saw 3\\nSkipping line 2900: expected 1 fields, saw 3\\nSkipping line 2901: expected 1 fields, saw 3\\nSkipping line 2902: expected 1 fields, saw 4\\nSkipping line 2903: expected 1 fields, saw 4\\nSkipping line 2905: expected 1 fields, saw 2\\nSkipping line 2907: expected 1 fields, saw 4\\nSkipping line 2909: expected 1 fields, saw 3\\nSkipping line 2910: expected 1 fields, saw 6\\nSkipping line 2911: expected 1 fields, saw 4\\nSkipping line 2912: expected 1 fields, saw 4\\nSkipping line 2913: expected 1 fields, saw 5\\nSkipping line 2914: expected 1 fields, saw 2\\nSkipping line 2915: expected 1 fields, saw 3\\nSkipping line 2916: expected 1 fields, saw 3\\nSkipping line 2918: expected 1 fields, saw 4\\nSkipping line 2919: expected 1 fields, saw 6\\nSkipping line 2920: expected 1 fields, saw 2\\nSkipping line 2921: expected 1 fields, saw 3\\nSkipping line 2922: expected 1 fields, saw 5\\nSkipping line 2923: expected 1 fields, saw 4\\nSkipping line 2924: expected 1 fields, saw 2\\nSkipping line 2925: expected 1 fields, saw 6\\nSkipping line 2926: expected 1 fields, saw 4\\nSkipping line 2927: expected 1 fields, saw 2\\nSkipping line 2928: expected 1 fields, saw 4\\nSkipping line 2929: expected 1 fields, saw 3\\nSkipping line 2930: expected 1 fields, saw 3\\nSkipping line 2931: expected 1 fields, saw 2\\nSkipping line 2932: expected 1 fields, saw 6\\nSkipping line 2933: expected 1 fields, saw 7\\nSkipping line 2934: expected 1 fields, saw 3\\nSkipping line 2936: expected 1 fields, saw 3\\nSkipping line 2937: expected 1 fields, saw 7\\nSkipping line 2939: expected 1 fields, saw 7\\nSkipping line 2940: expected 1 fields, saw 4\\nSkipping line 2941: expected 1 fields, saw 2\\nSkipping line 2942: expected 1 fields, saw 2\\nSkipping line 2945: expected 1 fields, saw 4\\nSkipping line 2946: expected 1 fields, saw 6\\nSkipping line 2947: expected 1 fields, saw 5\\nSkipping line 2948: expected 1 fields, saw 3\\nSkipping line 2949: expected 1 fields, saw 2\\nSkipping line 2950: expected 1 fields, saw 4\\nSkipping line 2951: expected 1 fields, saw 6\\nSkipping line 2952: expected 1 fields, saw 2\\nSkipping line 2953: expected 1 fields, saw 2\\nSkipping line 2956: expected 1 fields, saw 4\\nSkipping line 2958: expected 1 fields, saw 4\\nSkipping line 2960: expected 1 fields, saw 5\\nSkipping line 2961: expected 1 fields, saw 3\\nSkipping line 2962: expected 1 fields, saw 4\\nSkipping line 2963: expected 1 fields, saw 5\\nSkipping line 2965: expected 1 fields, saw 3\\nSkipping line 2967: expected 1 fields, saw 8\\nSkipping line 2968: expected 1 fields, saw 3\\nSkipping line 2969: expected 1 fields, saw 4\\nSkipping line 2970: expected 1 fields, saw 3\\nSkipping line 2972: expected 1 fields, saw 2\\nSkipping line 2973: expected 1 fields, saw 3\\nSkipping line 2974: expected 1 fields, saw 2\\nSkipping line 2975: expected 1 fields, saw 5\\nSkipping line 2976: expected 1 fields, saw 4\\nSkipping line 2978: expected 1 fields, saw 4\\nSkipping line 2979: expected 1 fields, saw 5\\nSkipping line 2980: expected 1 fields, saw 2\\nSkipping line 2981: expected 1 fields, saw 3\\nSkipping line 2984: expected 1 fields, saw 6\\nSkipping line 2986: expected 1 fields, saw 2\\nSkipping line 2988: expected 1 fields, saw 2\\nSkipping line 2989: expected 1 fields, saw 3\\nSkipping line 2991: expected 1 fields, saw 5\\nSkipping line 2992: expected 1 fields, saw 2\\nSkipping line 2995: expected 1 fields, saw 6\\nSkipping line 2996: expected 1 fields, saw 2\\nSkipping line 2997: expected 1 fields, saw 3\\nSkipping line 2998: expected 1 fields, saw 5\\nSkipping line 3000: expected 1 fields, saw 3\\nSkipping line 3002: expected 1 fields, saw 7\\nSkipping line 3003: expected 1 fields, saw 4\\nSkipping line 3004: expected 1 fields, saw 3\\nSkipping line 3005: expected 1 fields, saw 2\\nSkipping line 3006: expected 1 fields, saw 2\\nSkipping line 3008: expected 1 fields, saw 3\\nSkipping line 3009: expected 1 fields, saw 4\\nSkipping line 3011: expected 1 fields, saw 2\\nSkipping line 3012: expected 1 fields, saw 3\\nSkipping line 3013: expected 1 fields, saw 3\\nSkipping line 3014: expected 1 fields, saw 3\\nSkipping line 3015: expected 1 fields, saw 2\\nSkipping line 3016: expected 1 fields, saw 6\\nSkipping line 3019: expected 1 fields, saw 5\\nSkipping line 3020: expected 1 fields, saw 2\\nSkipping line 3021: expected 1 fields, saw 7\\nSkipping line 3022: expected 1 fields, saw 2\\nSkipping line 3023: expected 1 fields, saw 2\\nSkipping line 3025: expected 1 fields, saw 2\\nSkipping line 3026: expected 1 fields, saw 3\\nSkipping line 3028: expected 1 fields, saw 5\\nSkipping line 3029: expected 1 fields, saw 3\\nSkipping line 3030: expected 1 fields, saw 3\\nSkipping line 3031: expected 1 fields, saw 3\\nSkipping line 3034: expected 1 fields, saw 3\\nSkipping line 3036: expected 1 fields, saw 4\\nSkipping line 3037: expected 1 fields, saw 4\\nSkipping line 3039: expected 1 fields, saw 6\\nSkipping line 3040: expected 1 fields, saw 2\\nSkipping line 3041: expected 1 fields, saw 2\\nSkipping line 3043: expected 1 fields, saw 2\\nSkipping line 3044: expected 1 fields, saw 4\\nSkipping line 3046: expected 1 fields, saw 3\\nSkipping line 3050: expected 1 fields, saw 2\\nSkipping line 3055: expected 1 fields, saw 7\\nSkipping line 3070: expected 1 fields, saw 7\\nSkipping line 3072: expected 1 fields, saw 3\\nSkipping line 3082: expected 1 fields, saw 3\\nSkipping line 3083: expected 1 fields, saw 8\\nSkipping line 3084: expected 1 fields, saw 8\\nSkipping line 3087: expected 1 fields, saw 2\\nSkipping line 3088: expected 1 fields, saw 13\\nSkipping line 3093: expected 1 fields, saw 3\\nSkipping line 3106: expected 1 fields, saw 2\\nSkipping line 3109: expected 1 fields, saw 2\\nSkipping line 3118: expected 1 fields, saw 2\\nSkipping line 3119: expected 1 fields, saw 2\\nSkipping line 3123: expected 1 fields, saw 2\\nSkipping line 3126: expected 1 fields, saw 2\\nSkipping line 3132: expected 1 fields, saw 2\\nSkipping line 3140: expected 1 fields, saw 2\\nSkipping line 3149: expected 1 fields, saw 2\\nSkipping line 3165: expected 1 fields, saw 2\\nSkipping line 3167: expected 1 fields, saw 3\\nSkipping line 3177: expected 1 fields, saw 2\\nSkipping line 3178: expected 1 fields, saw 3\\nSkipping line 3192: expected 1 fields, saw 2\\nSkipping line 3195: expected 1 fields, saw 2\\nSkipping line 3197: expected 1 fields, saw 4\\nSkipping line 3205: expected 1 fields, saw 3\\nSkipping line 3209: expected 1 fields, saw 2\\nSkipping line 3211: expected 1 fields, saw 2\\nSkipping line 3224: expected 1 fields, saw 3\\nSkipping line 3225: expected 1 fields, saw 3\\nSkipping line 3233: expected 1 fields, saw 3\\nSkipping line 3246: expected 1 fields, saw 4\\nSkipping line 3247: expected 1 fields, saw 2\\nSkipping line 3250: expected 1 fields, saw 3\\nSkipping line 3251: expected 1 fields, saw 3\\nSkipping line 3267: expected 1 fields, saw 3\\nSkipping line 3277: expected 1 fields, saw 2\\nSkipping line 3286: expected 1 fields, saw 3\\nSkipping line 3289: expected 1 fields, saw 2\\nSkipping line 3297: expected 1 fields, saw 2\\nSkipping line 3307: expected 1 fields, saw 2\\nSkipping line 3308: expected 1 fields, saw 3\\nSkipping line 3314: expected 1 fields, saw 2\\nSkipping line 3317: expected 1 fields, saw 2\\nSkipping line 3321: expected 1 fields, saw 3\\nSkipping line 3336: expected 1 fields, saw 4\\nSkipping line 3339: expected 1 fields, saw 2\\nSkipping line 3343: expected 1 fields, saw 3\\nSkipping line 3352: expected 1 fields, saw 3\\nSkipping line 3363: expected 1 fields, saw 3\\nSkipping line 3367: expected 1 fields, saw 2\\nSkipping line 3385: expected 1 fields, saw 2\\nSkipping line 3387: expected 1 fields, saw 2\\nSkipping line 3388: expected 1 fields, saw 2\\nSkipping line 3390: expected 1 fields, saw 2\\nSkipping line 3393: expected 1 fields, saw 3\\nSkipping line 3400: expected 1 fields, saw 2\\nSkipping line 3403: expected 1 fields, saw 2\\nSkipping line 3406: expected 1 fields, saw 3\\nSkipping line 3428: expected 1 fields, saw 2\\nSkipping line 3453: expected 1 fields, saw 3\\nSkipping line 3457: expected 1 fields, saw 3\\nSkipping line 3462: expected 1 fields, saw 2\\nSkipping line 3464: expected 1 fields, saw 4\\nSkipping line 3465: expected 1 fields, saw 2\\nSkipping line 3470: expected 1 fields, saw 2\\nSkipping line 3471: expected 1 fields, saw 2\\nSkipping line 3475: expected 1 fields, saw 2\\nSkipping line 3477: expected 1 fields, saw 2\\nSkipping line 3478: expected 1 fields, saw 6\\nSkipping line 3481: expected 1 fields, saw 3\\nSkipping line 3484: expected 1 fields, saw 2\\nSkipping line 3489: expected 1 fields, saw 3\\nSkipping line 3492: expected 1 fields, saw 4\\nSkipping line 3493: expected 1 fields, saw 2\\nSkipping line 3494: expected 1 fields, saw 3\\nSkipping line 3501: expected 1 fields, saw 2\\nSkipping line 3511: expected 1 fields, saw 3\\nSkipping line 3514: expected 1 fields, saw 3\\nSkipping line 3515: expected 1 fields, saw 2\\nSkipping line 3525: expected 1 fields, saw 2\\nSkipping line 3527: expected 1 fields, saw 2\\nSkipping line 3537: expected 1 fields, saw 3\\nSkipping line 3539: expected 1 fields, saw 2\\nSkipping line 3550: expected 1 fields, saw 2\\nSkipping line 3562: expected 1 fields, saw 3\\nSkipping line 3576: expected 1 fields, saw 3\\nSkipping line 3581: expected 1 fields, saw 2\\nSkipping line 3584: expected 1 fields, saw 2\\nSkipping line 3586: expected 1 fields, saw 2\\nSkipping line 3587: expected 1 fields, saw 2\\nSkipping line 3594: expected 1 fields, saw 2\\nSkipping line 3616: expected 1 fields, saw 3\\nSkipping line 3624: expected 1 fields, saw 2\\nSkipping line 3626: expected 1 fields, saw 2\\nSkipping line 3627: expected 1 fields, saw 2\\nSkipping line 3634: expected 1 fields, saw 2\\nSkipping line 3642: expected 1 fields, saw 3\\nSkipping line 3646: expected 1 fields, saw 2\\nSkipping line 3647: expected 1 fields, saw 3\\nSkipping line 3652: expected 1 fields, saw 3\\nSkipping line 3656: expected 1 fields, saw 2\\nSkipping line 3658: expected 1 fields, saw 3\\nSkipping line 3673: expected 1 fields, saw 2\\nSkipping line 3682: expected 1 fields, saw 3\\nSkipping line 3688: expected 1 fields, saw 2\\nSkipping line 3694: expected 1 fields, saw 2\\nSkipping line 3698: expected 1 fields, saw 2\\nSkipping line 3707: expected 1 fields, saw 2\\nSkipping line 3708: expected 1 fields, saw 2\\nSkipping line 3717: expected 1 fields, saw 2\\nSkipping line 3719: expected 1 fields, saw 3\\nSkipping line 3732: expected 1 fields, saw 3\\nSkipping line 3735: expected 1 fields, saw 2\\nSkipping line 3736: expected 1 fields, saw 2\\nSkipping line 3737: expected 1 fields, saw 2\\nSkipping line 3739: expected 1 fields, saw 2\\nSkipping line 3741: expected 1 fields, saw 2\\nSkipping line 3759: expected 1 fields, saw 3\\nSkipping line 3760: expected 1 fields, saw 2\\nSkipping line 3762: expected 1 fields, saw 2\\nSkipping line 3764: expected 1 fields, saw 3\\nSkipping line 3765: expected 1 fields, saw 2\\nSkipping line 3769: expected 1 fields, saw 2\\nSkipping line 3775: expected 1 fields, saw 2\\nSkipping line 3776: expected 1 fields, saw 3\\nSkipping line 3778: expected 1 fields, saw 3\\nSkipping line 3787: expected 1 fields, saw 2\\nSkipping line 3788: expected 1 fields, saw 3\\nSkipping line 3794: expected 1 fields, saw 3\\nSkipping line 3803: expected 1 fields, saw 3\\nSkipping line 3807: expected 1 fields, saw 2\\nSkipping line 3810: expected 1 fields, saw 2\\nSkipping line 3826: expected 1 fields, saw 2\\nSkipping line 3829: expected 1 fields, saw 3\\nSkipping line 3832: expected 1 fields, saw 2\\nSkipping line 3835: expected 1 fields, saw 2\\nSkipping line 3838: expected 1 fields, saw 2\\nSkipping line 3845: expected 1 fields, saw 3\\nSkipping line 3850: expected 1 fields, saw 3\\nSkipping line 3854: expected 1 fields, saw 2\\nSkipping line 3858: expected 1 fields, saw 3\\nSkipping line 3869: expected 1 fields, saw 3\\nSkipping line 3890: expected 1 fields, saw 2\\nSkipping line 3895: expected 1 fields, saw 3\\nSkipping line 3902: expected 1 fields, saw 2\\nSkipping line 3908: expected 1 fields, saw 3\\nSkipping line 3931: expected 1 fields, saw 2\\nSkipping line 3935: expected 1 fields, saw 3\\nSkipping line 3936: expected 1 fields, saw 2\\nSkipping line 3938: expected 1 fields, saw 2\\nSkipping line 3953: expected 1 fields, saw 2\\nSkipping line 3957: expected 1 fields, saw 3\\nSkipping line 3958: expected 1 fields, saw 2\\nSkipping line 3960: expected 1 fields, saw 2\\nSkipping line 3961: expected 1 fields, saw 2\\nSkipping line 3964: expected 1 fields, saw 2\\nSkipping line 3972: expected 1 fields, saw 3\\nSkipping line 3973: expected 1 fields, saw 2\\nSkipping line 3979: expected 1 fields, saw 2\\nSkipping line 3981: expected 1 fields, saw 2\\nSkipping line 3984: expected 1 fields, saw 2\\nSkipping line 3987: expected 1 fields, saw 2\\nSkipping line 3990: expected 1 fields, saw 2\\nSkipping line 3996: expected 1 fields, saw 2\\nSkipping line 3998: expected 1 fields, saw 2\\nSkipping line 4007: expected 1 fields, saw 2\\nSkipping line 4019: expected 1 fields, saw 2\\nSkipping line 4023: expected 1 fields, saw 4\\nSkipping line 4027: expected 1 fields, saw 2\\nSkipping line 4036: expected 1 fields, saw 2\\nSkipping line 4040: expected 1 fields, saw 2\\nSkipping line 4044: expected 1 fields, saw 2\\nSkipping line 4051: expected 1 fields, saw 2\\nSkipping line 4056: expected 1 fields, saw 4\\nSkipping line 4058: expected 1 fields, saw 2\\nSkipping line 4061: expected 1 fields, saw 2\\nSkipping line 4062: expected 1 fields, saw 2\\nSkipping line 4065: expected 1 fields, saw 2\\nSkipping line 4067: expected 1 fields, saw 5\\nSkipping line 4068: expected 1 fields, saw 2\\nSkipping line 4070: expected 1 fields, saw 2\\nSkipping line 4084: expected 1 fields, saw 2\\nSkipping line 4128: expected 1 fields, saw 3\\nSkipping line 4143: expected 1 fields, saw 2\\nSkipping line 4158: expected 1 fields, saw 2\\nSkipping line 4160: expected 1 fields, saw 2\\nSkipping line 4164: expected 1 fields, saw 3\\nSkipping line 4166: expected 1 fields, saw 3\\nSkipping line 4170: expected 1 fields, saw 2\\nSkipping line 4172: expected 1 fields, saw 2\\nSkipping line 4176: expected 1 fields, saw 3\\nSkipping line 4179: expected 1 fields, saw 4\\nSkipping line 4182: expected 1 fields, saw 3\\nSkipping line 4192: expected 1 fields, saw 2\\nSkipping line 4202: expected 1 fields, saw 3\\nSkipping line 4206: expected 1 fields, saw 2\\nSkipping line 4208: expected 1 fields, saw 3\\nSkipping line 4221: expected 1 fields, saw 2\\nSkipping line 4235: expected 1 fields, saw 2\\nSkipping line 4238: expected 1 fields, saw 3\\nSkipping line 4252: expected 1 fields, saw 2\\nSkipping line 4256: expected 1 fields, saw 3\\nSkipping line 4264: expected 1 fields, saw 2\\nSkipping line 4286: expected 1 fields, saw 2\\nSkipping line 4293: expected 1 fields, saw 2\\nSkipping line 4294: expected 1 fields, saw 2\\nSkipping line 4327: expected 1 fields, saw 2\\nSkipping line 4342: expected 1 fields, saw 2\\nSkipping line 4344: expected 1 fields, saw 3\\nSkipping line 4345: expected 1 fields, saw 2\\nSkipping line 4358: expected 1 fields, saw 3\\nSkipping line 4362: expected 1 fields, saw 2\\nSkipping line 4368: expected 1 fields, saw 2\\nSkipping line 4375: expected 1 fields, saw 2\\nSkipping line 4385: expected 1 fields, saw 2\\nSkipping line 4392: expected 1 fields, saw 2\\nSkipping line 4424: expected 1 fields, saw 2\\nSkipping line 4439: expected 1 fields, saw 2\\nSkipping line 4442: expected 1 fields, saw 3\\nSkipping line 4444: expected 1 fields, saw 2\\nSkipping line 4448: expected 1 fields, saw 2\\nSkipping line 4460: expected 1 fields, saw 2\\nSkipping line 4461: expected 1 fields, saw 3\\nSkipping line 4465: expected 1 fields, saw 3\\nSkipping line 4467: expected 1 fields, saw 2\\nSkipping line 4471: expected 1 fields, saw 2\\nSkipping line 4472: expected 1 fields, saw 3\\nSkipping line 4478: expected 1 fields, saw 3\\nSkipping line 4490: expected 1 fields, saw 2\\nSkipping line 4493: expected 1 fields, saw 3\\nSkipping line 4498: expected 1 fields, saw 2\\nSkipping line 4501: expected 1 fields, saw 2\\nSkipping line 4504: expected 1 fields, saw 2\\nSkipping line 4512: expected 1 fields, saw 3\\nSkipping line 4522: expected 1 fields, saw 2\\nSkipping line 4523: expected 1 fields, saw 3\\nSkipping line 4537: expected 1 fields, saw 2\\nSkipping line 4538: expected 1 fields, saw 2\\nSkipping line 4540: expected 1 fields, saw 5\\nSkipping line 4545: expected 1 fields, saw 2\\nSkipping line 4551: expected 1 fields, saw 2\\nSkipping line 4563: expected 1 fields, saw 2\\nSkipping line 4568: expected 1 fields, saw 2\\nSkipping line 4570: expected 1 fields, saw 2\\nSkipping line 4571: expected 1 fields, saw 5\\nSkipping line 4574: expected 1 fields, saw 2\\nSkipping line 4595: expected 1 fields, saw 5\\nSkipping line 4596: expected 1 fields, saw 3\\nSkipping line 4602: expected 1 fields, saw 3\\nSkipping line 4625: expected 1 fields, saw 2\\nSkipping line 4634: expected 1 fields, saw 2\\nSkipping line 4636: expected 1 fields, saw 2\\nSkipping line 4637: expected 1 fields, saw 2\\nSkipping line 4659: expected 1 fields, saw 3\\nSkipping line 4661: expected 1 fields, saw 2\\nSkipping line 4664: expected 1 fields, saw 5\\nSkipping line 4670: expected 1 fields, saw 2\\nSkipping line 4679: expected 1 fields, saw 3\\nSkipping line 4684: expected 1 fields, saw 3\\nSkipping line 4701: expected 1 fields, saw 2\\nSkipping line 4706: expected 1 fields, saw 4\\nSkipping line 4709: expected 1 fields, saw 2\\nSkipping line 4710: expected 1 fields, saw 2\\nSkipping line 4715: expected 1 fields, saw 2\\nSkipping line 4717: expected 1 fields, saw 2\\nSkipping line 4721: expected 1 fields, saw 2\\nSkipping line 4729: expected 1 fields, saw 2\\nSkipping line 4730: expected 1 fields, saw 2\\nSkipping line 4732: expected 1 fields, saw 3\\nSkipping line 4735: expected 1 fields, saw 2\\nSkipping line 4740: expected 1 fields, saw 2\\nSkipping line 4742: expected 1 fields, saw 2\\nSkipping line 4749: expected 1 fields, saw 2\\nSkipping line 4752: expected 1 fields, saw 2\\nSkipping line 4761: expected 1 fields, saw 4\\nSkipping line 4764: expected 1 fields, saw 5\\nSkipping line 4770: expected 1 fields, saw 2\\nSkipping line 4787: expected 1 fields, saw 2\\nSkipping line 4798: expected 1 fields, saw 3\\nSkipping line 4809: expected 1 fields, saw 3\\nSkipping line 4812: expected 1 fields, saw 3\\nSkipping line 4820: expected 1 fields, saw 3\\nSkipping line 4830: expected 1 fields, saw 3\\nSkipping line 4834: expected 1 fields, saw 2\\nSkipping line 4839: expected 1 fields, saw 2\\nSkipping line 4841: expected 1 fields, saw 2\\nSkipping line 4842: expected 1 fields, saw 3\\nSkipping line 4851: expected 1 fields, saw 2\\nSkipping line 4853: expected 1 fields, saw 2\\nSkipping line 4854: expected 1 fields, saw 2\\nSkipping line 4857: expected 1 fields, saw 2\\nSkipping line 4859: expected 1 fields, saw 3\\nSkipping line 4866: expected 1 fields, saw 3\\nSkipping line 4868: expected 1 fields, saw 3\\nSkipping line 4872: expected 1 fields, saw 2\\nSkipping line 4875: expected 1 fields, saw 2\\nSkipping line 4882: expected 1 fields, saw 2\\nSkipping line 4884: expected 1 fields, saw 2\\nSkipping line 4894: expected 1 fields, saw 2\\nSkipping line 4899: expected 1 fields, saw 3\\nSkipping line 4907: expected 1 fields, saw 3\\nSkipping line 4918: expected 1 fields, saw 3\\nSkipping line 4924: expected 1 fields, saw 2\\nSkipping line 4926: expected 1 fields, saw 2\\nSkipping line 4927: expected 1 fields, saw 3\\nSkipping line 4928: expected 1 fields, saw 2\\nSkipping line 4929: expected 1 fields, saw 3\\nSkipping line 4931: expected 1 fields, saw 2\\nSkipping line 4943: expected 1 fields, saw 2\\nSkipping line 4944: expected 1 fields, saw 2\\nSkipping line 4947: expected 1 fields, saw 2\\nSkipping line 4963: expected 1 fields, saw 2\\nSkipping line 4964: expected 1 fields, saw 3\\nSkipping line 4965: expected 1 fields, saw 2\\nSkipping line 4970: expected 1 fields, saw 2\\nSkipping line 4972: expected 1 fields, saw 2\\nSkipping line 4973: expected 1 fields, saw 2\\nSkipping line 4978: expected 1 fields, saw 2\\nSkipping line 4988: expected 1 fields, saw 2\\nSkipping line 5001: expected 1 fields, saw 3\\nSkipping line 5004: expected 1 fields, saw 2\\nSkipping line 5021: expected 1 fields, saw 3\\nSkipping line 5022: expected 1 fields, saw 3\\nSkipping line 5025: expected 1 fields, saw 2\\nSkipping line 5026: expected 1 fields, saw 3\\nSkipping line 5028: expected 1 fields, saw 2\\nSkipping line 5038: expected 1 fields, saw 2\\nSkipping line 5042: expected 1 fields, saw 2\\nSkipping line 5043: expected 1 fields, saw 2\\nSkipping line 5050: expected 1 fields, saw 2\\nSkipping line 5053: expected 1 fields, saw 3\\nSkipping line 5067: expected 1 fields, saw 2\\nSkipping line 5074: expected 1 fields, saw 2\\nSkipping line 5075: expected 1 fields, saw 2\\nSkipping line 5081: expected 1 fields, saw 3\\nSkipping line 5089: expected 1 fields, saw 2\\nSkipping line 5094: expected 1 fields, saw 2\\n'\n"
          ],
          "name": "stderr"
        },
        {
          "output_type": "stream",
          "text": [
            "['5.000', 'A plane is taking off.', 'An air plane is taking off.']\n",
            "['3.800', 'A man is playing a large flute.', 'A man is playing a flute.']\n",
            "['3.800', 'A man is spreading shreded cheese on a pizza.', 'A man is spreading shredded cheese on an uncooked pizza.']\n",
            "['2.600', 'Three men are playing chess.', 'Two men are playing chess.']\n",
            "['4.250', 'A man is playing the cello.', 'A man seated is playing the cello.']\n"
          ],
          "name": "stdout"
        }
      ]
    },
    {
      "cell_type": "code",
      "metadata": {
        "id": "PYNAOeUyJSfR"
      },
      "source": [
        "train_data=pd.DataFrame(train_data[:]) "
      ],
      "execution_count": null,
      "outputs": []
    },
    {
      "cell_type": "code",
      "metadata": {
        "id": "suAq9Jd683V7"
      },
      "source": [
        "test_data=pd.DataFrame(test_data[:])"
      ],
      "execution_count": null,
      "outputs": []
    },
    {
      "cell_type": "code",
      "metadata": {
        "colab": {
          "base_uri": "https://localhost:8080/",
          "height": 202
        },
        "id": "lx7JFcmfJUG0",
        "outputId": "75cbd690-577b-4666-aab4-24d70f23fa4f"
      },
      "source": [
        "train_data.head()"
      ],
      "execution_count": null,
      "outputs": [
        {
          "output_type": "execute_result",
          "data": {
            "text/html": [
              "<div>\n",
              "<style scoped>\n",
              "    .dataframe tbody tr th:only-of-type {\n",
              "        vertical-align: middle;\n",
              "    }\n",
              "\n",
              "    .dataframe tbody tr th {\n",
              "        vertical-align: top;\n",
              "    }\n",
              "\n",
              "    .dataframe thead th {\n",
              "        text-align: right;\n",
              "    }\n",
              "</style>\n",
              "<table border=\"1\" class=\"dataframe\">\n",
              "  <thead>\n",
              "    <tr style=\"text-align: right;\">\n",
              "      <th></th>\n",
              "      <th>0</th>\n",
              "      <th>1</th>\n",
              "      <th>2</th>\n",
              "    </tr>\n",
              "  </thead>\n",
              "  <tbody>\n",
              "    <tr>\n",
              "      <th>0</th>\n",
              "      <td>5.000</td>\n",
              "      <td>A plane is taking off.</td>\n",
              "      <td>An air plane is taking off.</td>\n",
              "    </tr>\n",
              "    <tr>\n",
              "      <th>1</th>\n",
              "      <td>3.800</td>\n",
              "      <td>A man is playing a large flute.</td>\n",
              "      <td>A man is playing a flute.</td>\n",
              "    </tr>\n",
              "    <tr>\n",
              "      <th>2</th>\n",
              "      <td>3.800</td>\n",
              "      <td>A man is spreading shreded cheese on a pizza.</td>\n",
              "      <td>A man is spreading shredded cheese on an uncoo...</td>\n",
              "    </tr>\n",
              "    <tr>\n",
              "      <th>3</th>\n",
              "      <td>2.600</td>\n",
              "      <td>Three men are playing chess.</td>\n",
              "      <td>Two men are playing chess.</td>\n",
              "    </tr>\n",
              "    <tr>\n",
              "      <th>4</th>\n",
              "      <td>4.250</td>\n",
              "      <td>A man is playing the cello.</td>\n",
              "      <td>A man seated is playing the cello.</td>\n",
              "    </tr>\n",
              "  </tbody>\n",
              "</table>\n",
              "</div>"
            ],
            "text/plain": [
              "       0  ...                                                  2\n",
              "0  5.000  ...                        An air plane is taking off.\n",
              "1  3.800  ...                          A man is playing a flute.\n",
              "2  3.800  ...  A man is spreading shredded cheese on an uncoo...\n",
              "3  2.600  ...                         Two men are playing chess.\n",
              "4  4.250  ...                 A man seated is playing the cello.\n",
              "\n",
              "[5 rows x 3 columns]"
            ]
          },
          "metadata": {
            "tags": []
          },
          "execution_count": 8
        }
      ]
    },
    {
      "cell_type": "code",
      "metadata": {
        "colab": {
          "base_uri": "https://localhost:8080/"
        },
        "id": "F-fCmb5iJWBr",
        "outputId": "c6657616-61e5-426e-b5b5-647e8030609d"
      },
      "source": [
        "train_data.shape"
      ],
      "execution_count": null,
      "outputs": [
        {
          "output_type": "execute_result",
          "data": {
            "text/plain": [
              "(4137, 3)"
            ]
          },
          "metadata": {
            "tags": []
          },
          "execution_count": 9
        }
      ]
    },
    {
      "cell_type": "code",
      "metadata": {
        "id": "r-eiNKXhJXzO"
      },
      "source": [
        "test_data=pd.DataFrame(test_data[:])\n",
        "trial_data=pd.DataFrame(trial_data[:])\n",
        "test_data.rename(columns={0:\"sim\",1:\"sent_1\",2:\"sent_2\"},inplace=True)\n",
        "trial_data.rename(columns={0:\"sim\",1:\"sent_1\",2:\"sent_2\"},inplace=True)\n",
        "train_data.rename(columns={0:\"sim\",1:\"sent_1\",2:\"sent_2\"},inplace=True)"
      ],
      "execution_count": null,
      "outputs": []
    },
    {
      "cell_type": "code",
      "metadata": {
        "colab": {
          "base_uri": "https://localhost:8080/",
          "height": 202
        },
        "id": "k_2BfI_RJZwv",
        "outputId": "c381b8a4-d2df-4003-9191-0f7f216630ee"
      },
      "source": [
        "test_data.head()"
      ],
      "execution_count": null,
      "outputs": [
        {
          "output_type": "execute_result",
          "data": {
            "text/html": [
              "<div>\n",
              "<style scoped>\n",
              "    .dataframe tbody tr th:only-of-type {\n",
              "        vertical-align: middle;\n",
              "    }\n",
              "\n",
              "    .dataframe tbody tr th {\n",
              "        vertical-align: top;\n",
              "    }\n",
              "\n",
              "    .dataframe thead th {\n",
              "        text-align: right;\n",
              "    }\n",
              "</style>\n",
              "<table border=\"1\" class=\"dataframe\">\n",
              "  <thead>\n",
              "    <tr style=\"text-align: right;\">\n",
              "      <th></th>\n",
              "      <th>sim</th>\n",
              "      <th>sent_1</th>\n",
              "      <th>sent_2</th>\n",
              "    </tr>\n",
              "  </thead>\n",
              "  <tbody>\n",
              "    <tr>\n",
              "      <th>0</th>\n",
              "      <td>0.50</td>\n",
              "      <td>A girl is styling her hair.</td>\n",
              "      <td>A girl is brushing her hair.</td>\n",
              "    </tr>\n",
              "    <tr>\n",
              "      <th>1</th>\n",
              "      <td>0.72</td>\n",
              "      <td>A group of men play soccer on the beach.</td>\n",
              "      <td>A group of boys are playing soccer on the beach.</td>\n",
              "    </tr>\n",
              "    <tr>\n",
              "      <th>2</th>\n",
              "      <td>1.00</td>\n",
              "      <td>One woman is measuring another woman's ankle.</td>\n",
              "      <td>A woman measures another woman's ankle.</td>\n",
              "    </tr>\n",
              "    <tr>\n",
              "      <th>3</th>\n",
              "      <td>0.84</td>\n",
              "      <td>A man is cutting up a cucumber.</td>\n",
              "      <td>A man is slicing a cucumber.</td>\n",
              "    </tr>\n",
              "    <tr>\n",
              "      <th>4</th>\n",
              "      <td>0.30</td>\n",
              "      <td>A man is playing a harp.</td>\n",
              "      <td>A man is playing a keyboard.</td>\n",
              "    </tr>\n",
              "  </tbody>\n",
              "</table>\n",
              "</div>"
            ],
            "text/plain": [
              "    sim  ...                                            sent_2\n",
              "0  0.50  ...                      A girl is brushing her hair.\n",
              "1  0.72  ...  A group of boys are playing soccer on the beach.\n",
              "2  1.00  ...           A woman measures another woman's ankle.\n",
              "3  0.84  ...                      A man is slicing a cucumber.\n",
              "4  0.30  ...                      A man is playing a keyboard.\n",
              "\n",
              "[5 rows x 3 columns]"
            ]
          },
          "metadata": {
            "tags": []
          },
          "execution_count": 40
        }
      ]
    },
    {
      "cell_type": "markdown",
      "metadata": {
        "id": "fi-UH-6RJd1F"
      },
      "source": [
        "##Normalization"
      ]
    },
    {
      "cell_type": "code",
      "metadata": {
        "id": "FKZx1-K3Jbfe"
      },
      "source": [
        "def normalize(df, feature_names):\n",
        "    result = df.copy()\n",
        "    for feature_name in feature_names:\n",
        "        max_value = df[feature_name].max()\n",
        "        min_value = df[feature_name].min()\n",
        "        result[feature_name] = (df[feature_name] - min_value) / (max_value - min_value)\n",
        "    return result"
      ],
      "execution_count": null,
      "outputs": []
    },
    {
      "cell_type": "code",
      "metadata": {
        "colab": {
          "base_uri": "https://localhost:8080/"
        },
        "id": "N0Ejzar7JdOg",
        "outputId": "c7c6cb5b-138d-4a7d-e587-3300dab4f11c"
      },
      "source": [
        "test_data.iloc[10,:]"
      ],
      "execution_count": null,
      "outputs": [
        {
          "output_type": "execute_result",
          "data": {
            "text/plain": [
              "sim                             1.714\n",
              "sent_1     A man is playing a guitar.\n",
              "sent_2    A man is playing a trumpet.\n",
              "Name: 10, dtype: object"
            ]
          },
          "metadata": {
            "tags": []
          },
          "execution_count": 13
        }
      ]
    },
    {
      "cell_type": "code",
      "metadata": {
        "id": "Luq4WSBEJgsc"
      },
      "source": [
        "test_data['sim'] = test_data['sim'].astype(float)\n",
        "train_data['sim']=train_data['sim'].astype(float)\n",
        "trial_data['sim']=trial_data['sim'].astype(float)"
      ],
      "execution_count": null,
      "outputs": []
    },
    {
      "cell_type": "code",
      "metadata": {
        "id": "M0Gsm4UkJiQK"
      },
      "source": [
        "test_data = normalize(test_data,['sim'])\n",
        "train_data = normalize(train_data,['sim'])\n",
        "trial_data = normalize(trial_data,['sim'])"
      ],
      "execution_count": null,
      "outputs": []
    },
    {
      "cell_type": "code",
      "metadata": {
        "colab": {
          "base_uri": "https://localhost:8080/",
          "height": 202
        },
        "id": "nhHRzB9gJj1d",
        "outputId": "926d764b-cac8-40aa-862c-87eecdb67bb0"
      },
      "source": [
        "train_data.head()"
      ],
      "execution_count": null,
      "outputs": [
        {
          "output_type": "execute_result",
          "data": {
            "text/html": [
              "<div>\n",
              "<style scoped>\n",
              "    .dataframe tbody tr th:only-of-type {\n",
              "        vertical-align: middle;\n",
              "    }\n",
              "\n",
              "    .dataframe tbody tr th {\n",
              "        vertical-align: top;\n",
              "    }\n",
              "\n",
              "    .dataframe thead th {\n",
              "        text-align: right;\n",
              "    }\n",
              "</style>\n",
              "<table border=\"1\" class=\"dataframe\">\n",
              "  <thead>\n",
              "    <tr style=\"text-align: right;\">\n",
              "      <th></th>\n",
              "      <th>sim</th>\n",
              "      <th>sent_1</th>\n",
              "      <th>sent_2</th>\n",
              "    </tr>\n",
              "  </thead>\n",
              "  <tbody>\n",
              "    <tr>\n",
              "      <th>0</th>\n",
              "      <td>1.00</td>\n",
              "      <td>A plane is taking off.</td>\n",
              "      <td>An air plane is taking off.</td>\n",
              "    </tr>\n",
              "    <tr>\n",
              "      <th>1</th>\n",
              "      <td>0.76</td>\n",
              "      <td>A man is playing a large flute.</td>\n",
              "      <td>A man is playing a flute.</td>\n",
              "    </tr>\n",
              "    <tr>\n",
              "      <th>2</th>\n",
              "      <td>0.76</td>\n",
              "      <td>A man is spreading shreded cheese on a pizza.</td>\n",
              "      <td>A man is spreading shredded cheese on an uncoo...</td>\n",
              "    </tr>\n",
              "    <tr>\n",
              "      <th>3</th>\n",
              "      <td>0.52</td>\n",
              "      <td>Three men are playing chess.</td>\n",
              "      <td>Two men are playing chess.</td>\n",
              "    </tr>\n",
              "    <tr>\n",
              "      <th>4</th>\n",
              "      <td>0.85</td>\n",
              "      <td>A man is playing the cello.</td>\n",
              "      <td>A man seated is playing the cello.</td>\n",
              "    </tr>\n",
              "  </tbody>\n",
              "</table>\n",
              "</div>"
            ],
            "text/plain": [
              "    sim  ...                                             sent_2\n",
              "0  1.00  ...                        An air plane is taking off.\n",
              "1  0.76  ...                          A man is playing a flute.\n",
              "2  0.76  ...  A man is spreading shredded cheese on an uncoo...\n",
              "3  0.52  ...                         Two men are playing chess.\n",
              "4  0.85  ...                 A man seated is playing the cello.\n",
              "\n",
              "[5 rows x 3 columns]"
            ]
          },
          "metadata": {
            "tags": []
          },
          "execution_count": 16
        }
      ]
    },
    {
      "cell_type": "code",
      "metadata": {
        "colab": {
          "base_uri": "https://localhost:8080/"
        },
        "id": "8O8KK6WAJs4j",
        "outputId": "c3c0bd54-45b4-47b7-f750-40990d13e930"
      },
      "source": [
        "df1 = train_data['sent_1'].values\n",
        "df1"
      ],
      "execution_count": null,
      "outputs": [
        {
          "output_type": "execute_result",
          "data": {
            "text/plain": [
              "array(['A plane is taking off.', 'A man is playing a large flute.',\n",
              "       'A man is spreading shreded cheese on a pizza.', ...,\n",
              "       'Dozens of Egyptians hostages taken by Libyan terrorists as revenge for airstrikes',\n",
              "       'President heading to Bahrain',\n",
              "       'Putin spokesman: Doping charges appear unfounded'], dtype=object)"
            ]
          },
          "metadata": {
            "tags": []
          },
          "execution_count": 17
        }
      ]
    },
    {
      "cell_type": "code",
      "metadata": {
        "colab": {
          "base_uri": "https://localhost:8080/"
        },
        "id": "PaCmvVJoJvNB",
        "outputId": "251da2fe-004d-4451-b020-78378b5d4ea3"
      },
      "source": [
        "df2 = train_data['sent_2'].values\n",
        "df2"
      ],
      "execution_count": null,
      "outputs": [
        {
          "output_type": "execute_result",
          "data": {
            "text/plain": [
              "array(['An air plane is taking off.', 'A man is playing a flute.',\n",
              "       'A man is spreading shredded cheese on an uncooked pizza.', ...,\n",
              "       'Egyptian boat crash death toll rises as more bodies found in Nile',\n",
              "       'President Xi: China to continue help to fight Ebola',\n",
              "       'The Latest on Severe Weather: 1 Dead in Texas After Tornado'],\n",
              "      dtype=object)"
            ]
          },
          "metadata": {
            "tags": []
          },
          "execution_count": 18
        }
      ]
    },
    {
      "cell_type": "code",
      "metadata": {
        "colab": {
          "base_uri": "https://localhost:8080/"
        },
        "id": "3_wGy9fiJxPa",
        "outputId": "1c6b833c-fd32-4433-f0cd-4ca13927a94f"
      },
      "source": [
        "df = np.concatenate((df1,df2), axis=0)\n",
        "len(df)"
      ],
      "execution_count": null,
      "outputs": [
        {
          "output_type": "execute_result",
          "data": {
            "text/plain": [
              "8274"
            ]
          },
          "metadata": {
            "tags": []
          },
          "execution_count": 19
        }
      ]
    },
    {
      "cell_type": "markdown",
      "metadata": {
        "id": "Meqmp5ahJnv1"
      },
      "source": [
        "##Tokenization"
      ]
    },
    {
      "cell_type": "code",
      "metadata": {
        "id": "XsCcvdQ5KE0h"
      },
      "source": [
        "import nltk\n",
        "class SentenceModel:\n",
        "\n",
        "    def __init__(self, sentence):\n",
        "        self.raw = sentence\n",
        "        normalized_sentence = sentence.replace(\"‘\", \"'\").replace(\"’\", \"'\")\n",
        "        self.tokens = [t.lower() for t in nltk.word_tokenize(normalized_sentence)]\n",
        "        self.tokens_without_stop = [t for t in self.tokens if t not in STOP]"
      ],
      "execution_count": null,
      "outputs": []
    },
    {
      "cell_type": "code",
      "metadata": {
        "id": "gl7LCfwsKGcV"
      },
      "source": [
        "import collections"
      ],
      "execution_count": null,
      "outputs": []
    },
    {
      "cell_type": "code",
      "metadata": {
        "id": "0uvxvxeAKIAb"
      },
      "source": [
        "def run_cosine_similarity(sentences1, sentences2, model=None, use_stoplist=False, doc_freqs=None):\n",
        "    if doc_freqs is not None:\n",
        "        N = doc_freqs[\"NUM_DOCS\"]\n",
        "\n",
        "    sims = []\n",
        "    for (sent1, sent2) in zip(sentences1, sentences2):\n",
        "\n",
        "        tokens1 = sent1.tokens_without_stop if use_stoplist else sent1.tokens\n",
        "        tokens2 = sent2.tokens_without_stop if use_stoplist else sent2.tokens\n",
        "        \n",
        "        tokens1 = [token for token in tokens1 if token in model]\n",
        "        tokens2 = [token for token in tokens2 if token in model]\n",
        "\n",
        "        if len(tokens1) == 0 or len(tokens2) == 0:\n",
        "            sims.append(0)\n",
        "            continue\n",
        "\n",
        "        tokfreqs1 = collections.Counter(tokens1)\n",
        "        tokfreqs2 = collections.Counter(tokens2)\n",
        "\n",
        "        weights1 = [tokfreqs1[token] * math.log(N / (doc_freqs.get(token, 0) + 1))\n",
        "                    for token in tokfreqs1] if doc_freqs else None\n",
        "        weights2 = [tokfreqs2[token] * math.log(N / (doc_freqs.get(token, 0) + 1))\n",
        "                    for token in tokfreqs2] if doc_freqs else None\n",
        "\n",
        "        embedding1 = np.average([model[token] for token in tokfreqs1], axis=0, weights=weights1).reshape(1, -1)\n",
        "        embedding2 = np.average([model[token] for token in tokfreqs2], axis=0, weights=weights2).reshape(1, -1)\n",
        "\n",
        "        sim = cosine_similarity(embedding1, embedding2)[0][0]\n",
        "        sims.append(sim)\n",
        "\n",
        "    return sims\n",
        "    "
      ],
      "execution_count": null,
      "outputs": []
    },
    {
      "cell_type": "code",
      "metadata": {
        "colab": {
          "base_uri": "https://localhost:8080/",
          "height": 225
        },
        "id": "ikONNSz8KJ68",
        "outputId": "0f9d466d-e299-4c36-e3bc-ff37b4c07ae4"
      },
      "source": [
        "display(train_data['sim'])"
      ],
      "execution_count": null,
      "outputs": [
        {
          "output_type": "display_data",
          "data": {
            "text/plain": [
              "0       1.00\n",
              "1       0.76\n",
              "2       0.76\n",
              "3       0.52\n",
              "4       0.85\n",
              "        ... \n",
              "4132    0.40\n",
              "4133    0.00\n",
              "4134    0.00\n",
              "4135    0.00\n",
              "4136    0.00\n",
              "Name: sim, Length: 4137, dtype: float64"
            ]
          },
          "metadata": {
            "tags": []
          }
        }
      ]
    },
    {
      "cell_type": "code",
      "metadata": {
        "colab": {
          "base_uri": "https://localhost:8080/"
        },
        "id": "Mn7MY4g5KOBd",
        "outputId": "7ff35e1f-a2c8-4fb2-e2ed-e23f63c9e066"
      },
      "source": [
        "df1 = train_data['sent_1'].values\n",
        "len(df1)\n",
        "df1"
      ],
      "execution_count": null,
      "outputs": [
        {
          "output_type": "execute_result",
          "data": {
            "text/plain": [
              "array(['A plane is taking off.', 'A man is playing a large flute.',\n",
              "       'A man is spreading shreded cheese on a pizza.', ...,\n",
              "       'Dozens of Egyptians hostages taken by Libyan terrorists as revenge for airstrikes',\n",
              "       'President heading to Bahrain',\n",
              "       'Putin spokesman: Doping charges appear unfounded'], dtype=object)"
            ]
          },
          "metadata": {
            "tags": []
          },
          "execution_count": 24
        }
      ]
    },
    {
      "cell_type": "code",
      "metadata": {
        "colab": {
          "base_uri": "https://localhost:8080/"
        },
        "id": "oJPvEvxpKQDZ",
        "outputId": "1c37e013-d37b-42b9-9564-2e08928cb7e1"
      },
      "source": [
        "df2 = train_data['sent_2'].values\n",
        "len(df2)\n",
        "df2"
      ],
      "execution_count": null,
      "outputs": [
        {
          "output_type": "execute_result",
          "data": {
            "text/plain": [
              "array(['An air plane is taking off.', 'A man is playing a flute.',\n",
              "       'A man is spreading shredded cheese on an uncooked pizza.', ...,\n",
              "       'Egyptian boat crash death toll rises as more bodies found in Nile',\n",
              "       'President Xi: China to continue help to fight Ebola',\n",
              "       'The Latest on Severe Weather: 1 Dead in Texas After Tornado'],\n",
              "      dtype=object)"
            ]
          },
          "metadata": {
            "tags": []
          },
          "execution_count": 25
        }
      ]
    },
    {
      "cell_type": "code",
      "metadata": {
        "colab": {
          "base_uri": "https://localhost:8080/"
        },
        "id": "Uloa4wz4KR1c",
        "outputId": "c23150c6-9e63-4934-8f40-eb1dfe0cc3ae"
      },
      "source": [
        "pip install -U sentence-transformers"
      ],
      "execution_count": null,
      "outputs": [
        {
          "output_type": "stream",
          "text": [
            "Requirement already up-to-date: sentence-transformers in /usr/local/lib/python3.6/dist-packages (0.4.1.2)\n",
            "Requirement already satisfied, skipping upgrade: sentencepiece in /usr/local/lib/python3.6/dist-packages (from sentence-transformers) (0.1.95)\n",
            "Requirement already satisfied, skipping upgrade: nltk in /usr/local/lib/python3.6/dist-packages (from sentence-transformers) (3.2.5)\n",
            "Requirement already satisfied, skipping upgrade: scikit-learn in /usr/local/lib/python3.6/dist-packages (from sentence-transformers) (0.22.2.post1)\n",
            "Requirement already satisfied, skipping upgrade: numpy in /usr/local/lib/python3.6/dist-packages (from sentence-transformers) (1.19.5)\n",
            "Requirement already satisfied, skipping upgrade: tqdm in /usr/local/lib/python3.6/dist-packages (from sentence-transformers) (4.41.1)\n",
            "Requirement already satisfied, skipping upgrade: torch>=1.6.0 in /usr/local/lib/python3.6/dist-packages (from sentence-transformers) (1.7.0+cu101)\n",
            "Requirement already satisfied, skipping upgrade: transformers<5.0.0,>=3.1.0 in /usr/local/lib/python3.6/dist-packages (from sentence-transformers) (4.2.2)\n",
            "Requirement already satisfied, skipping upgrade: scipy in /usr/local/lib/python3.6/dist-packages (from sentence-transformers) (1.4.1)\n",
            "Requirement already satisfied, skipping upgrade: six in /usr/local/lib/python3.6/dist-packages (from nltk->sentence-transformers) (1.15.0)\n",
            "Requirement already satisfied, skipping upgrade: joblib>=0.11 in /usr/local/lib/python3.6/dist-packages (from scikit-learn->sentence-transformers) (1.0.0)\n",
            "Requirement already satisfied, skipping upgrade: dataclasses in /usr/local/lib/python3.6/dist-packages (from torch>=1.6.0->sentence-transformers) (0.8)\n",
            "Requirement already satisfied, skipping upgrade: typing-extensions in /usr/local/lib/python3.6/dist-packages (from torch>=1.6.0->sentence-transformers) (3.7.4.3)\n",
            "Requirement already satisfied, skipping upgrade: future in /usr/local/lib/python3.6/dist-packages (from torch>=1.6.0->sentence-transformers) (0.16.0)\n",
            "Requirement already satisfied, skipping upgrade: sacremoses in /usr/local/lib/python3.6/dist-packages (from transformers<5.0.0,>=3.1.0->sentence-transformers) (0.0.43)\n",
            "Requirement already satisfied, skipping upgrade: requests in /usr/local/lib/python3.6/dist-packages (from transformers<5.0.0,>=3.1.0->sentence-transformers) (2.23.0)\n",
            "Requirement already satisfied, skipping upgrade: regex!=2019.12.17 in /usr/local/lib/python3.6/dist-packages (from transformers<5.0.0,>=3.1.0->sentence-transformers) (2019.12.20)\n",
            "Requirement already satisfied, skipping upgrade: tokenizers==0.9.4 in /usr/local/lib/python3.6/dist-packages (from transformers<5.0.0,>=3.1.0->sentence-transformers) (0.9.4)\n",
            "Requirement already satisfied, skipping upgrade: filelock in /usr/local/lib/python3.6/dist-packages (from transformers<5.0.0,>=3.1.0->sentence-transformers) (3.0.12)\n",
            "Requirement already satisfied, skipping upgrade: importlib-metadata; python_version < \"3.8\" in /usr/local/lib/python3.6/dist-packages (from transformers<5.0.0,>=3.1.0->sentence-transformers) (3.4.0)\n",
            "Requirement already satisfied, skipping upgrade: packaging in /usr/local/lib/python3.6/dist-packages (from transformers<5.0.0,>=3.1.0->sentence-transformers) (20.9)\n",
            "Requirement already satisfied, skipping upgrade: click in /usr/local/lib/python3.6/dist-packages (from sacremoses->transformers<5.0.0,>=3.1.0->sentence-transformers) (7.1.2)\n",
            "Requirement already satisfied, skipping upgrade: urllib3!=1.25.0,!=1.25.1,<1.26,>=1.21.1 in /usr/local/lib/python3.6/dist-packages (from requests->transformers<5.0.0,>=3.1.0->sentence-transformers) (1.24.3)\n",
            "Requirement already satisfied, skipping upgrade: idna<3,>=2.5 in /usr/local/lib/python3.6/dist-packages (from requests->transformers<5.0.0,>=3.1.0->sentence-transformers) (2.10)\n",
            "Requirement already satisfied, skipping upgrade: chardet<4,>=3.0.2 in /usr/local/lib/python3.6/dist-packages (from requests->transformers<5.0.0,>=3.1.0->sentence-transformers) (3.0.4)\n",
            "Requirement already satisfied, skipping upgrade: certifi>=2017.4.17 in /usr/local/lib/python3.6/dist-packages (from requests->transformers<5.0.0,>=3.1.0->sentence-transformers) (2020.12.5)\n",
            "Requirement already satisfied, skipping upgrade: zipp>=0.5 in /usr/local/lib/python3.6/dist-packages (from importlib-metadata; python_version < \"3.8\"->transformers<5.0.0,>=3.1.0->sentence-transformers) (3.4.0)\n",
            "Requirement already satisfied, skipping upgrade: pyparsing>=2.0.2 in /usr/local/lib/python3.6/dist-packages (from packaging->transformers<5.0.0,>=3.1.0->sentence-transformers) (2.4.7)\n"
          ],
          "name": "stdout"
        }
      ]
    },
    {
      "cell_type": "code",
      "metadata": {
        "id": "kDlZO7ZoKTVh"
      },
      "source": [
        "from sentence_transformers import SentenceTransformer, util\n",
        "bert_model = SentenceTransformer('bert-base-nli-stsb-mean-tokens')"
      ],
      "execution_count": null,
      "outputs": []
    },
    {
      "cell_type": "code",
      "metadata": {
        "id": "HhUltMoqKV7V"
      },
      "source": [
        "#Compute embedding for both lists\n",
        "embedd_1 = bert_model.encode(df1, convert_to_tensor=True,batch_size=64)\n",
        "embedd_2 = bert_model.encode(df2, convert_to_tensor=True,batch_size=64)"
      ],
      "execution_count": null,
      "outputs": []
    },
    {
      "cell_type": "code",
      "metadata": {
        "id": "fHqmazHsKXZ6"
      },
      "source": [
        "from scipy.spatial.distance import cosine\n",
        "sims=[]\n",
        "for i in range(0,len(embedd_2)):\n",
        "  sim=(1-cosine(embedd_1[i],embedd_2[i]))\n",
        "  sims.append(sim)"
      ],
      "execution_count": null,
      "outputs": []
    },
    {
      "cell_type": "code",
      "metadata": {
        "id": "9dUxtpp0KZHv"
      },
      "source": [
        "# #Output the pairs with their score\n",
        "# for i in range(len(df1)):\n",
        "#     print(\"{} \\t\\t {} \\t\\t Score: {:.4f}\".format(df1[i], df2[i], cosine_scores[i][i]))"
      ],
      "execution_count": null,
      "outputs": []
    },
    {
      "cell_type": "code",
      "metadata": {
        "id": "mQOABvRcKax9"
      },
      "source": [
        "import scipy,sklearn"
      ],
      "execution_count": null,
      "outputs": []
    },
    {
      "cell_type": "code",
      "metadata": {
        "id": "IgsHOINGKcT6"
      },
      "source": [
        "train_data[\"predicted_sim\"] = pd.Series(sims).values\n",
        "train_data[\"diff\"] = np.sqrt((train_data[\"predicted_sim\"] - train_data[\"sim\"])**2)\n",
        "# train_data = train_data.sort_values(\"diff\", ascending=False)\n",
        "pearson_correlation = scipy.stats.pearsonr(sims, train_data['sim'])[0]\n",
        "spearman_correlation = scipy.stats.spearmanr(sims, train_data['sim'])[0]\n",
        "rmse = np.sqrt(sklearn.metrics.mean_squared_error(sims, train_data['sim']))\n",
        "textstr = 'RMSE=%.3f\\nPearson Correlation=%.3f\\nSpearman Correlation=%.3f'%(rmse, pearson_correlation, spearman_correlation)\n",
        "train_data['predicted_sim'] = pd.Series(sims).values\n",
        "#train_data = train_data.sort_values('sim')\n",
        "id = list(range(0, len(train_data.index)))\n",
        "train_data['id'] = pd.Series(id).values"
      ],
      "execution_count": null,
      "outputs": []
    },
    {
      "cell_type": "code",
      "metadata": {
        "id": "n12AZYIF5MMY",
        "colab": {
          "base_uri": "https://localhost:8080/"
        },
        "outputId": "b9447894-2926-4058-e22f-623116d99c75"
      },
      "source": [
        "print(textstr)"
      ],
      "execution_count": null,
      "outputs": [
        {
          "output_type": "stream",
          "text": [
            "RMSE=0.055\n",
            "Pearson Correlation=0.990\n",
            "Spearman Correlation=0.990\n"
          ],
          "name": "stdout"
        }
      ]
    },
    {
      "cell_type": "markdown",
      "metadata": {
        "id": "jPHNxaH48t3I"
      },
      "source": [
        "##Testing this on the sts_test data"
      ]
    },
    {
      "cell_type": "code",
      "metadata": {
        "colab": {
          "base_uri": "https://localhost:8080/"
        },
        "id": "rNlSKuq18oN7",
        "outputId": "b5de51ba-1576-4690-d991-0acdd2389cee"
      },
      "source": [
        "df1 = test_data['sent_1'].values\n",
        "df1"
      ],
      "execution_count": null,
      "outputs": [
        {
          "output_type": "execute_result",
          "data": {
            "text/plain": [
              "array(['A girl is styling her hair.',\n",
              "       'A group of men play soccer on the beach.',\n",
              "       \"One woman is measuring another woman's ankle.\", ...,\n",
              "       'How much do you know about Secret Service?',\n",
              "       'Obama Struggles to Soothe Saudi Fears As Iran Talks Resume',\n",
              "       'South Korea declares end to MERS outbreak'], dtype=object)"
            ]
          },
          "metadata": {
            "tags": []
          },
          "execution_count": 43
        }
      ]
    },
    {
      "cell_type": "code",
      "metadata": {
        "colab": {
          "base_uri": "https://localhost:8080/"
        },
        "id": "UM6fR6lH9ISG",
        "outputId": "dcdf93cb-a26c-40c7-d78d-5059c2d2cf73"
      },
      "source": [
        "df2 = test_data['sent_2'].values\n",
        "len(df2)\n",
        "df2"
      ],
      "execution_count": null,
      "outputs": [
        {
          "output_type": "execute_result",
          "data": {
            "text/plain": [
              "array(['A girl is brushing her hair.',\n",
              "       'A group of boys are playing soccer on the beach.',\n",
              "       \"A woman measures another woman's ankle.\", ...,\n",
              "       'Lawmakers from both sides express outrage at Secret Service',\n",
              "       'Myanmar Struggles to Finalize Voter Lists for Sunday Polls',\n",
              "       'North Korea Delegation Meets With South Korean Officials'],\n",
              "      dtype=object)"
            ]
          },
          "metadata": {
            "tags": []
          },
          "execution_count": 44
        }
      ]
    },
    {
      "cell_type": "code",
      "metadata": {
        "id": "U16uoZ989M0f"
      },
      "source": [
        "from sentence_transformers import SentenceTransformer, util\n",
        "bert_model = SentenceTransformer('bert-base-nli-stsb-mean-tokens')"
      ],
      "execution_count": null,
      "outputs": []
    },
    {
      "cell_type": "code",
      "metadata": {
        "id": "dVB_Wdh19QER"
      },
      "source": [
        "#Compute embedding for both lists\n",
        "embedd_1 = bert_model.encode(df1, convert_to_tensor=True,batch_size=64)\n",
        "embedd_2 = bert_model.encode(df2, convert_to_tensor=True,batch_size=64)"
      ],
      "execution_count": null,
      "outputs": []
    },
    {
      "cell_type": "code",
      "metadata": {
        "id": "el4D2jp59TS9"
      },
      "source": [
        "from scipy.spatial.distance import cosine\n",
        "sims=[]\n",
        "for i in range(0,len(embedd_2)):\n",
        "  sim=(1-cosine(embedd_1[i],embedd_2[i]))\n",
        "  sims.append(sim)"
      ],
      "execution_count": null,
      "outputs": []
    },
    {
      "cell_type": "code",
      "metadata": {
        "id": "AYCS5h8Z9Xnu"
      },
      "source": [
        "import scipy,sklearn"
      ],
      "execution_count": null,
      "outputs": []
    },
    {
      "cell_type": "code",
      "metadata": {
        "id": "nMQ9Lpt59aOW"
      },
      "source": [
        "test_data[\"predicted_sim\"] = pd.Series(sims).values\n",
        "test_data[\"diff\"] = np.sqrt((test_data[\"predicted_sim\"] - test_data[\"sim\"])**2)\n",
        "# test_data = test_data.sort_values(\"diff\", ascending=False)\n",
        "pearson_correlation = scipy.stats.pearsonr(sims, test_data['sim'])[0]\n",
        "spearman_correlation = scipy.stats.spearmanr(sims, test_data['sim'])[0]\n",
        "rmse = np.sqrt(sklearn.metrics.mean_squared_error(sims, test_data['sim']))\n",
        "textstr = 'RMSE=%.3f\\nPearson Correlation=%.3f\\nSpearman Correlation=%.3f'%(rmse, pearson_correlation, spearman_correlation)\n",
        "test_data['predicted_sim'] = pd.Series(sims).values\n",
        "#test_data = test_data.sort_values('sim')\n",
        "id = list(range(0, len(test_data.index)))\n",
        "test_data['id'] = pd.Series(id).values"
      ],
      "execution_count": null,
      "outputs": []
    },
    {
      "cell_type": "code",
      "metadata": {
        "colab": {
          "base_uri": "https://localhost:8080/"
        },
        "id": "SMHfiK5W9xAO",
        "outputId": "4d10128b-2c6d-44d6-c419-f3e35a19083c"
      },
      "source": [
        "print(textstr)"
      ],
      "execution_count": null,
      "outputs": [
        {
          "output_type": "stream",
          "text": [
            "RMSE=0.173\n",
            "Pearson Correlation=0.863\n",
            "Spearman Correlation=0.873\n"
          ],
          "name": "stdout"
        }
      ]
    },
    {
      "cell_type": "code",
      "metadata": {
        "id": "HermdFNS9yuw"
      },
      "source": [
        ""
      ],
      "execution_count": null,
      "outputs": []
    }
  ]
}