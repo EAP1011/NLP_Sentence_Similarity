{
  "nbformat": 4,
  "nbformat_minor": 0,
  "metadata": {
    "colab": {
      "name": "STS_Dataset_.ipynb",
      "provenance": [],
      "collapsed_sections": []
    },
    "kernelspec": {
      "name": "python3",
      "display_name": "Python 3"
    },
    "accelerator": "GPU"
  },
  "cells": [
    {
      "cell_type": "markdown",
      "metadata": {
        "id": "5SIig1Lzk5Wn"
      },
      "source": [
        "##STS dataset Pre-processing"
      ]
    },
    {
      "cell_type": "code",
      "metadata": {
        "colab": {
          "base_uri": "https://localhost:8080/"
        },
        "id": "OT9m0eTTWEpR",
        "outputId": "f9090015-209c-4d3e-8407-16daefcd386a"
      },
      "source": [
        "import pandas as pd \n",
        "import numpy as np\n",
        "from numpy import array \n",
        "import string\n",
        "import re\n",
        "import nltk\n",
        "from nltk.corpus import stopwords\n",
        "from nltk.stem import PorterStemmer\n",
        "from nltk.stem import WordNetLemmatizer\n",
        "from nltk.tokenize import word_tokenize\n",
        "from nltk import pos_tag\n",
        "nltk.download('punkt')\n",
        "nltk.download('stopwords')\n",
        "nltk.download('wordnet')"
      ],
      "execution_count": null,
      "outputs": [
        {
          "output_type": "stream",
          "text": [
            "[nltk_data] Downloading package punkt to /root/nltk_data...\n",
            "[nltk_data]   Package punkt is already up-to-date!\n",
            "[nltk_data] Downloading package stopwords to /root/nltk_data...\n",
            "[nltk_data]   Package stopwords is already up-to-date!\n",
            "[nltk_data] Downloading package wordnet to /root/nltk_data...\n",
            "[nltk_data]   Package wordnet is already up-to-date!\n"
          ],
          "name": "stdout"
        },
        {
          "output_type": "execute_result",
          "data": {
            "text/plain": [
              "True"
            ]
          },
          "metadata": {
            "tags": []
          },
          "execution_count": 70
        }
      ]
    },
    {
      "cell_type": "code",
      "metadata": {
        "id": "v_ailmIdX_G1"
      },
      "source": [
        "# constants for test / train / trial data\n",
        "TEST = 'TEST'\n",
        "TRAIN = 'TRAIN'\n",
        "TRIAL = 'TRIAL'"
      ],
      "execution_count": null,
      "outputs": []
    },
    {
      "cell_type": "code",
      "metadata": {
        "id": "ktv6Goq3lDLn"
      },
      "source": [
        "train_data = []\n",
        "test_data = []\n",
        "trial_data = []\n",
        "data=[]"
      ],
      "execution_count": null,
      "outputs": []
    },
    {
      "cell_type": "code",
      "metadata": {
        "colab": {
          "base_uri": "https://localhost:8080/"
        },
        "id": "O8K7FfHElH4K",
        "outputId": "14fa1d65-93c9-4b82-abc9-c66d0bb51de4"
      },
      "source": [
        "df_dev=pd.read_csv('sts_dev.csv',error_bad_lines=False,header=None)\n",
        "for j in range(len(df_dev)):\n",
        "  arr=[]\n",
        "  for i in range(len(df_dev.iloc[1,:].str.split(\"\\t\").to_list()[0])):\n",
        "    if i>=4:\n",
        "      arr.append(df_dev.iloc[j,:].str.split(\"\\t\").to_list()[0][i])\n",
        "  trial_data.append(arr)\n",
        "for i in range(5):\n",
        "  print(trial_data[i])"
      ],
      "execution_count": null,
      "outputs": [
        {
          "output_type": "stream",
          "text": [
            "b'Skipping line 104: expected 1 fields, saw 2\\nSkipping line 276: expected 1 fields, saw 3\\nSkipping line 290: expected 1 fields, saw 3\\nSkipping line 323: expected 1 fields, saw 2\\nSkipping line 329: expected 1 fields, saw 2\\nSkipping line 338: expected 1 fields, saw 3\\nSkipping line 376: expected 1 fields, saw 2\\nSkipping line 384: expected 1 fields, saw 3\\nSkipping line 403: expected 1 fields, saw 2\\nSkipping line 448: expected 1 fields, saw 2\\nSkipping line 450: expected 1 fields, saw 2\\nSkipping line 456: expected 1 fields, saw 2\\nSkipping line 462: expected 1 fields, saw 2\\nSkipping line 464: expected 1 fields, saw 3\\nSkipping line 503: expected 1 fields, saw 3\\nSkipping line 531: expected 1 fields, saw 2\\nSkipping line 568: expected 1 fields, saw 2\\nSkipping line 569: expected 1 fields, saw 2\\nSkipping line 597: expected 1 fields, saw 2\\nSkipping line 601: expected 1 fields, saw 2\\nSkipping line 627: expected 1 fields, saw 2\\nSkipping line 628: expected 1 fields, saw 3\\nSkipping line 629: expected 1 fields, saw 2\\nSkipping line 630: expected 1 fields, saw 4\\nSkipping line 631: expected 1 fields, saw 2\\nSkipping line 633: expected 1 fields, saw 3\\nSkipping line 634: expected 1 fields, saw 2\\nSkipping line 635: expected 1 fields, saw 2\\nSkipping line 636: expected 1 fields, saw 2\\nSkipping line 637: expected 1 fields, saw 2\\nSkipping line 638: expected 1 fields, saw 3\\nSkipping line 639: expected 1 fields, saw 2\\nSkipping line 641: expected 1 fields, saw 5\\nSkipping line 642: expected 1 fields, saw 4\\nSkipping line 643: expected 1 fields, saw 2\\nSkipping line 644: expected 1 fields, saw 2\\nSkipping line 645: expected 1 fields, saw 2\\nSkipping line 648: expected 1 fields, saw 3\\nSkipping line 649: expected 1 fields, saw 2\\nSkipping line 652: expected 1 fields, saw 3\\nSkipping line 654: expected 1 fields, saw 6\\nSkipping line 655: expected 1 fields, saw 2\\nSkipping line 657: expected 1 fields, saw 2\\nSkipping line 658: expected 1 fields, saw 2\\nSkipping line 659: expected 1 fields, saw 3\\nSkipping line 660: expected 1 fields, saw 2\\nSkipping line 662: expected 1 fields, saw 2\\nSkipping line 663: expected 1 fields, saw 2\\nSkipping line 664: expected 1 fields, saw 4\\nSkipping line 665: expected 1 fields, saw 2\\nSkipping line 666: expected 1 fields, saw 2\\nSkipping line 667: expected 1 fields, saw 3\\nSkipping line 668: expected 1 fields, saw 2\\nSkipping line 670: expected 1 fields, saw 2\\nSkipping line 672: expected 1 fields, saw 3\\nSkipping line 673: expected 1 fields, saw 4\\nSkipping line 674: expected 1 fields, saw 4\\nSkipping line 675: expected 1 fields, saw 3\\nSkipping line 676: expected 1 fields, saw 2\\nSkipping line 678: expected 1 fields, saw 2\\nSkipping line 679: expected 1 fields, saw 3\\nSkipping line 683: expected 1 fields, saw 2\\nSkipping line 685: expected 1 fields, saw 2\\nSkipping line 686: expected 1 fields, saw 3\\nSkipping line 687: expected 1 fields, saw 3\\nSkipping line 689: expected 1 fields, saw 3\\nSkipping line 690: expected 1 fields, saw 3\\nSkipping line 691: expected 1 fields, saw 2\\nSkipping line 693: expected 1 fields, saw 3\\nSkipping line 694: expected 1 fields, saw 4\\nSkipping line 695: expected 1 fields, saw 4\\nSkipping line 696: expected 1 fields, saw 2\\nSkipping line 699: expected 1 fields, saw 3\\nSkipping line 700: expected 1 fields, saw 2\\nSkipping line 701: expected 1 fields, saw 2\\nSkipping line 702: expected 1 fields, saw 2\\nSkipping line 703: expected 1 fields, saw 3\\nSkipping line 704: expected 1 fields, saw 3\\nSkipping line 705: expected 1 fields, saw 2\\nSkipping line 706: expected 1 fields, saw 2\\nSkipping line 707: expected 1 fields, saw 3\\nSkipping line 708: expected 1 fields, saw 3\\nSkipping line 710: expected 1 fields, saw 4\\nSkipping line 711: expected 1 fields, saw 2\\nSkipping line 712: expected 1 fields, saw 3\\nSkipping line 713: expected 1 fields, saw 2\\nSkipping line 715: expected 1 fields, saw 3\\nSkipping line 716: expected 1 fields, saw 3\\nSkipping line 717: expected 1 fields, saw 2\\nSkipping line 719: expected 1 fields, saw 2\\nSkipping line 720: expected 1 fields, saw 3\\nSkipping line 721: expected 1 fields, saw 3\\nSkipping line 722: expected 1 fields, saw 3\\nSkipping line 724: expected 1 fields, saw 6\\nSkipping line 725: expected 1 fields, saw 2\\nSkipping line 727: expected 1 fields, saw 2\\nSkipping line 728: expected 1 fields, saw 3\\nSkipping line 729: expected 1 fields, saw 4\\nSkipping line 730: expected 1 fields, saw 3\\nSkipping line 731: expected 1 fields, saw 2\\nSkipping line 733: expected 1 fields, saw 2\\nSkipping line 736: expected 1 fields, saw 2\\nSkipping line 737: expected 1 fields, saw 2\\nSkipping line 738: expected 1 fields, saw 3\\nSkipping line 741: expected 1 fields, saw 3\\nSkipping line 742: expected 1 fields, saw 2\\nSkipping line 745: expected 1 fields, saw 2\\nSkipping line 746: expected 1 fields, saw 2\\nSkipping line 747: expected 1 fields, saw 2\\nSkipping line 748: expected 1 fields, saw 2\\nSkipping line 751: expected 1 fields, saw 2\\nSkipping line 752: expected 1 fields, saw 2\\nSkipping line 753: expected 1 fields, saw 3\\nSkipping line 754: expected 1 fields, saw 2\\nSkipping line 758: expected 1 fields, saw 2\\nSkipping line 759: expected 1 fields, saw 3\\nSkipping line 760: expected 1 fields, saw 2\\nSkipping line 761: expected 1 fields, saw 2\\nSkipping line 763: expected 1 fields, saw 9\\nSkipping line 764: expected 1 fields, saw 5\\nSkipping line 765: expected 1 fields, saw 5\\nSkipping line 766: expected 1 fields, saw 2\\nSkipping line 767: expected 1 fields, saw 3\\nSkipping line 769: expected 1 fields, saw 3\\nSkipping line 771: expected 1 fields, saw 2\\nSkipping line 772: expected 1 fields, saw 5\\nSkipping line 774: expected 1 fields, saw 2\\nSkipping line 775: expected 1 fields, saw 4\\nSkipping line 776: expected 1 fields, saw 2\\nSkipping line 777: expected 1 fields, saw 5\\nSkipping line 779: expected 1 fields, saw 3\\nSkipping line 781: expected 1 fields, saw 3\\nSkipping line 783: expected 1 fields, saw 5\\nSkipping line 784: expected 1 fields, saw 3\\nSkipping line 785: expected 1 fields, saw 3\\nSkipping line 787: expected 1 fields, saw 3\\nSkipping line 788: expected 1 fields, saw 2\\nSkipping line 791: expected 1 fields, saw 4\\nSkipping line 792: expected 1 fields, saw 3\\nSkipping line 793: expected 1 fields, saw 3\\nSkipping line 794: expected 1 fields, saw 2\\nSkipping line 795: expected 1 fields, saw 3\\nSkipping line 796: expected 1 fields, saw 3\\nSkipping line 801: expected 1 fields, saw 4\\nSkipping line 802: expected 1 fields, saw 3\\nSkipping line 803: expected 1 fields, saw 2\\nSkipping line 804: expected 1 fields, saw 2\\nSkipping line 805: expected 1 fields, saw 2\\nSkipping line 809: expected 1 fields, saw 4\\nSkipping line 810: expected 1 fields, saw 2\\nSkipping line 814: expected 1 fields, saw 2\\nSkipping line 815: expected 1 fields, saw 2\\nSkipping line 817: expected 1 fields, saw 2\\nSkipping line 818: expected 1 fields, saw 3\\nSkipping line 819: expected 1 fields, saw 2\\nSkipping line 820: expected 1 fields, saw 2\\nSkipping line 821: expected 1 fields, saw 3\\nSkipping line 822: expected 1 fields, saw 2\\nSkipping line 823: expected 1 fields, saw 2\\nSkipping line 826: expected 1 fields, saw 2\\nSkipping line 828: expected 1 fields, saw 3\\nSkipping line 829: expected 1 fields, saw 3\\nSkipping line 830: expected 1 fields, saw 2\\nSkipping line 833: expected 1 fields, saw 2\\nSkipping line 834: expected 1 fields, saw 2\\nSkipping line 835: expected 1 fields, saw 3\\nSkipping line 839: expected 1 fields, saw 2\\nSkipping line 840: expected 1 fields, saw 2\\nSkipping line 841: expected 1 fields, saw 3\\nSkipping line 842: expected 1 fields, saw 2\\nSkipping line 846: expected 1 fields, saw 2\\nSkipping line 848: expected 1 fields, saw 2\\nSkipping line 849: expected 1 fields, saw 3\\nSkipping line 850: expected 1 fields, saw 3\\nSkipping line 851: expected 1 fields, saw 2\\nSkipping line 854: expected 1 fields, saw 2\\nSkipping line 855: expected 1 fields, saw 2\\nSkipping line 856: expected 1 fields, saw 4\\nSkipping line 858: expected 1 fields, saw 3\\nSkipping line 860: expected 1 fields, saw 2\\nSkipping line 862: expected 1 fields, saw 2\\nSkipping line 863: expected 1 fields, saw 3\\nSkipping line 865: expected 1 fields, saw 4\\nSkipping line 866: expected 1 fields, saw 4\\nSkipping line 868: expected 1 fields, saw 2\\nSkipping line 869: expected 1 fields, saw 2\\nSkipping line 870: expected 1 fields, saw 3\\nSkipping line 871: expected 1 fields, saw 4\\nSkipping line 872: expected 1 fields, saw 3\\nSkipping line 873: expected 1 fields, saw 3\\nSkipping line 875: expected 1 fields, saw 3\\nSkipping line 876: expected 1 fields, saw 3\\nSkipping line 877: expected 1 fields, saw 4\\nSkipping line 878: expected 1 fields, saw 5\\nSkipping line 882: expected 1 fields, saw 2\\nSkipping line 884: expected 1 fields, saw 3\\nSkipping line 886: expected 1 fields, saw 3\\nSkipping line 887: expected 1 fields, saw 5\\nSkipping line 888: expected 1 fields, saw 2\\nSkipping line 889: expected 1 fields, saw 2\\nSkipping line 890: expected 1 fields, saw 3\\nSkipping line 891: expected 1 fields, saw 2\\nSkipping line 892: expected 1 fields, saw 2\\nSkipping line 894: expected 1 fields, saw 4\\nSkipping line 895: expected 1 fields, saw 2\\nSkipping line 896: expected 1 fields, saw 2\\nSkipping line 897: expected 1 fields, saw 3\\nSkipping line 898: expected 1 fields, saw 2\\nSkipping line 899: expected 1 fields, saw 2\\nSkipping line 902: expected 1 fields, saw 2\\nSkipping line 904: expected 1 fields, saw 2\\nSkipping line 905: expected 1 fields, saw 2\\nSkipping line 909: expected 1 fields, saw 2\\nSkipping line 914: expected 1 fields, saw 2\\nSkipping line 917: expected 1 fields, saw 2\\nSkipping line 918: expected 1 fields, saw 2\\nSkipping line 921: expected 1 fields, saw 2\\nSkipping line 922: expected 1 fields, saw 2\\nSkipping line 923: expected 1 fields, saw 2\\nSkipping line 925: expected 1 fields, saw 2\\nSkipping line 926: expected 1 fields, saw 2\\nSkipping line 927: expected 1 fields, saw 3\\nSkipping line 928: expected 1 fields, saw 2\\nSkipping line 930: expected 1 fields, saw 2\\nSkipping line 931: expected 1 fields, saw 4\\nSkipping line 932: expected 1 fields, saw 5\\nSkipping line 934: expected 1 fields, saw 2\\nSkipping line 935: expected 1 fields, saw 3\\nSkipping line 936: expected 1 fields, saw 5\\nSkipping line 938: expected 1 fields, saw 2\\nSkipping line 941: expected 1 fields, saw 5\\nSkipping line 942: expected 1 fields, saw 2\\nSkipping line 944: expected 1 fields, saw 7\\nSkipping line 945: expected 1 fields, saw 2\\nSkipping line 946: expected 1 fields, saw 3\\nSkipping line 947: expected 1 fields, saw 2\\nSkipping line 948: expected 1 fields, saw 2\\nSkipping line 950: expected 1 fields, saw 5\\nSkipping line 951: expected 1 fields, saw 2\\nSkipping line 954: expected 1 fields, saw 3\\nSkipping line 956: expected 1 fields, saw 3\\nSkipping line 957: expected 1 fields, saw 3\\nSkipping line 958: expected 1 fields, saw 4\\nSkipping line 959: expected 1 fields, saw 2\\nSkipping line 961: expected 1 fields, saw 2\\nSkipping line 963: expected 1 fields, saw 3\\nSkipping line 964: expected 1 fields, saw 2\\nSkipping line 965: expected 1 fields, saw 3\\nSkipping line 968: expected 1 fields, saw 2\\nSkipping line 969: expected 1 fields, saw 3\\nSkipping line 970: expected 1 fields, saw 2\\nSkipping line 971: expected 1 fields, saw 2\\nSkipping line 972: expected 1 fields, saw 4\\nSkipping line 974: expected 1 fields, saw 2\\nSkipping line 975: expected 1 fields, saw 2\\nSkipping line 976: expected 1 fields, saw 2\\nSkipping line 980: expected 1 fields, saw 2\\nSkipping line 981: expected 1 fields, saw 4\\nSkipping line 982: expected 1 fields, saw 4\\nSkipping line 984: expected 1 fields, saw 2\\nSkipping line 986: expected 1 fields, saw 2\\nSkipping line 987: expected 1 fields, saw 3\\nSkipping line 988: expected 1 fields, saw 4\\nSkipping line 989: expected 1 fields, saw 4\\nSkipping line 990: expected 1 fields, saw 2\\nSkipping line 991: expected 1 fields, saw 2\\nSkipping line 992: expected 1 fields, saw 2\\nSkipping line 993: expected 1 fields, saw 2\\nSkipping line 995: expected 1 fields, saw 3\\nSkipping line 997: expected 1 fields, saw 6\\nSkipping line 998: expected 1 fields, saw 6\\nSkipping line 1001: expected 1 fields, saw 6\\nSkipping line 1002: expected 1 fields, saw 6\\nSkipping line 1004: expected 1 fields, saw 2\\nSkipping line 1005: expected 1 fields, saw 2\\nSkipping line 1006: expected 1 fields, saw 2\\nSkipping line 1007: expected 1 fields, saw 2\\nSkipping line 1008: expected 1 fields, saw 5\\nSkipping line 1009: expected 1 fields, saw 6\\nSkipping line 1010: expected 1 fields, saw 2\\nSkipping line 1011: expected 1 fields, saw 6\\nSkipping line 1012: expected 1 fields, saw 2\\nSkipping line 1013: expected 1 fields, saw 7\\nSkipping line 1015: expected 1 fields, saw 2\\nSkipping line 1016: expected 1 fields, saw 5\\nSkipping line 1017: expected 1 fields, saw 10\\nSkipping line 1019: expected 1 fields, saw 6\\nSkipping line 1020: expected 1 fields, saw 6\\nSkipping line 1021: expected 1 fields, saw 3\\nSkipping line 1022: expected 1 fields, saw 3\\nSkipping line 1023: expected 1 fields, saw 2\\nSkipping line 1024: expected 1 fields, saw 6\\nSkipping line 1025: expected 1 fields, saw 3\\nSkipping line 1027: expected 1 fields, saw 2\\nSkipping line 1028: expected 1 fields, saw 5\\nSkipping line 1029: expected 1 fields, saw 2\\nSkipping line 1030: expected 1 fields, saw 4\\nSkipping line 1031: expected 1 fields, saw 2\\nSkipping line 1032: expected 1 fields, saw 3\\nSkipping line 1033: expected 1 fields, saw 3\\nSkipping line 1035: expected 1 fields, saw 2\\nSkipping line 1036: expected 1 fields, saw 3\\nSkipping line 1037: expected 1 fields, saw 2\\nSkipping line 1038: expected 1 fields, saw 3\\nSkipping line 1039: expected 1 fields, saw 5\\nSkipping line 1041: expected 1 fields, saw 2\\nSkipping line 1042: expected 1 fields, saw 4\\nSkipping line 1043: expected 1 fields, saw 4\\nSkipping line 1044: expected 1 fields, saw 2\\nSkipping line 1045: expected 1 fields, saw 2\\nSkipping line 1046: expected 1 fields, saw 2\\nSkipping line 1047: expected 1 fields, saw 3\\nSkipping line 1048: expected 1 fields, saw 2\\nSkipping line 1050: expected 1 fields, saw 5\\nSkipping line 1051: expected 1 fields, saw 5\\nSkipping line 1052: expected 1 fields, saw 2\\nSkipping line 1053: expected 1 fields, saw 3\\nSkipping line 1055: expected 1 fields, saw 2\\nSkipping line 1056: expected 1 fields, saw 3\\nSkipping line 1057: expected 1 fields, saw 3\\nSkipping line 1058: expected 1 fields, saw 6\\nSkipping line 1059: expected 1 fields, saw 5\\nSkipping line 1060: expected 1 fields, saw 6\\nSkipping line 1061: expected 1 fields, saw 7\\nSkipping line 1062: expected 1 fields, saw 6\\nSkipping line 1063: expected 1 fields, saw 2\\nSkipping line 1064: expected 1 fields, saw 4\\nSkipping line 1065: expected 1 fields, saw 5\\nSkipping line 1067: expected 1 fields, saw 2\\nSkipping line 1068: expected 1 fields, saw 4\\nSkipping line 1070: expected 1 fields, saw 8\\nSkipping line 1071: expected 1 fields, saw 2\\nSkipping line 1072: expected 1 fields, saw 3\\nSkipping line 1073: expected 1 fields, saw 3\\nSkipping line 1074: expected 1 fields, saw 4\\nSkipping line 1075: expected 1 fields, saw 4\\nSkipping line 1076: expected 1 fields, saw 5\\nSkipping line 1077: expected 1 fields, saw 6\\nSkipping line 1079: expected 1 fields, saw 3\\nSkipping line 1081: expected 1 fields, saw 2\\nSkipping line 1082: expected 1 fields, saw 5\\nSkipping line 1083: expected 1 fields, saw 6\\nSkipping line 1084: expected 1 fields, saw 4\\nSkipping line 1086: expected 1 fields, saw 4\\nSkipping line 1087: expected 1 fields, saw 4\\nSkipping line 1088: expected 1 fields, saw 3\\nSkipping line 1089: expected 1 fields, saw 3\\nSkipping line 1091: expected 1 fields, saw 2\\nSkipping line 1093: expected 1 fields, saw 2\\nSkipping line 1094: expected 1 fields, saw 6\\nSkipping line 1095: expected 1 fields, saw 4\\nSkipping line 1096: expected 1 fields, saw 10\\nSkipping line 1097: expected 1 fields, saw 3\\nSkipping line 1098: expected 1 fields, saw 2\\nSkipping line 1099: expected 1 fields, saw 3\\nSkipping line 1100: expected 1 fields, saw 2\\nSkipping line 1101: expected 1 fields, saw 4\\nSkipping line 1102: expected 1 fields, saw 4\\nSkipping line 1103: expected 1 fields, saw 2\\nSkipping line 1104: expected 1 fields, saw 4\\nSkipping line 1105: expected 1 fields, saw 3\\nSkipping line 1106: expected 1 fields, saw 4\\nSkipping line 1107: expected 1 fields, saw 3\\nSkipping line 1108: expected 1 fields, saw 3\\nSkipping line 1109: expected 1 fields, saw 2\\nSkipping line 1110: expected 1 fields, saw 3\\nSkipping line 1111: expected 1 fields, saw 5\\nSkipping line 1112: expected 1 fields, saw 8\\nSkipping line 1113: expected 1 fields, saw 4\\nSkipping line 1114: expected 1 fields, saw 2\\nSkipping line 1115: expected 1 fields, saw 2\\nSkipping line 1116: expected 1 fields, saw 5\\nSkipping line 1117: expected 1 fields, saw 7\\nSkipping line 1118: expected 1 fields, saw 4\\nSkipping line 1119: expected 1 fields, saw 2\\nSkipping line 1120: expected 1 fields, saw 3\\nSkipping line 1121: expected 1 fields, saw 3\\nSkipping line 1122: expected 1 fields, saw 4\\nSkipping line 1124: expected 1 fields, saw 2\\nSkipping line 1125: expected 1 fields, saw 3\\nSkipping line 1126: expected 1 fields, saw 2\\nSkipping line 1128: expected 1 fields, saw 3\\nSkipping line 1129: expected 1 fields, saw 2\\nSkipping line 1130: expected 1 fields, saw 6\\nSkipping line 1131: expected 1 fields, saw 3\\nSkipping line 1133: expected 1 fields, saw 3\\nSkipping line 1134: expected 1 fields, saw 2\\nSkipping line 1135: expected 1 fields, saw 8\\nSkipping line 1136: expected 1 fields, saw 5\\nSkipping line 1137: expected 1 fields, saw 2\\nSkipping line 1138: expected 1 fields, saw 2\\nSkipping line 1139: expected 1 fields, saw 3\\nSkipping line 1141: expected 1 fields, saw 3\\nSkipping line 1142: expected 1 fields, saw 7\\nSkipping line 1143: expected 1 fields, saw 3\\nSkipping line 1144: expected 1 fields, saw 7\\nSkipping line 1146: expected 1 fields, saw 3\\nSkipping line 1148: expected 1 fields, saw 2\\nSkipping line 1149: expected 1 fields, saw 5\\nSkipping line 1154: expected 1 fields, saw 3\\nSkipping line 1160: expected 1 fields, saw 3\\nSkipping line 1162: expected 1 fields, saw 2\\nSkipping line 1169: expected 1 fields, saw 3\\nSkipping line 1171: expected 1 fields, saw 5\\nSkipping line 1180: expected 1 fields, saw 2\\nSkipping line 1183: expected 1 fields, saw 5\\nSkipping line 1202: expected 1 fields, saw 2\\nSkipping line 1203: expected 1 fields, saw 2\\nSkipping line 1204: expected 1 fields, saw 2\\nSkipping line 1206: expected 1 fields, saw 2\\nSkipping line 1209: expected 1 fields, saw 2\\nSkipping line 1211: expected 1 fields, saw 2\\nSkipping line 1214: expected 1 fields, saw 2\\nSkipping line 1215: expected 1 fields, saw 3\\nSkipping line 1219: expected 1 fields, saw 2\\nSkipping line 1222: expected 1 fields, saw 2\\nSkipping line 1226: expected 1 fields, saw 2\\nSkipping line 1235: expected 1 fields, saw 2\\nSkipping line 1237: expected 1 fields, saw 3\\nSkipping line 1238: expected 1 fields, saw 3\\nSkipping line 1242: expected 1 fields, saw 2\\nSkipping line 1259: expected 1 fields, saw 2\\nSkipping line 1266: expected 1 fields, saw 2\\nSkipping line 1274: expected 1 fields, saw 3\\nSkipping line 1275: expected 1 fields, saw 3\\nSkipping line 1282: expected 1 fields, saw 2\\nSkipping line 1283: expected 1 fields, saw 3\\nSkipping line 1287: expected 1 fields, saw 2\\nSkipping line 1296: expected 1 fields, saw 3\\nSkipping line 1298: expected 1 fields, saw 2\\nSkipping line 1300: expected 1 fields, saw 3\\nSkipping line 1303: expected 1 fields, saw 2\\nSkipping line 1304: expected 1 fields, saw 3\\nSkipping line 1311: expected 1 fields, saw 2\\n'\n"
          ],
          "name": "stderr"
        },
        {
          "output_type": "stream",
          "text": [
            "['5.000', 'A man with a hard hat is dancing.', 'A man wearing a hard hat is dancing.']\n",
            "['4.750', 'A young child is riding a horse.', 'A child is riding a horse.']\n",
            "['5.000', 'A man is feeding a mouse to a snake.', 'The man is feeding a mouse to the snake.']\n",
            "['2.400', 'A woman is playing the guitar.', 'A man is playing guitar.']\n",
            "['2.750', 'A woman is playing the flute.', 'A man is playing a flute.']\n"
          ],
          "name": "stdout"
        }
      ]
    },
    {
      "cell_type": "code",
      "metadata": {
        "colab": {
          "base_uri": "https://localhost:8080/"
        },
        "id": "K4dYxaMDOSsl",
        "outputId": "22ed9910-7527-4c57-af1c-df69b5228b45"
      },
      "source": [
        "df_test=pd.read_csv('sts_test.csv',error_bad_lines=False,header=None)\n",
        "for j in range(len(df_test)):\n",
        "  arr=[]\n",
        "  for i in range(len(df_test.iloc[1,:].str.split(\"\\t\").to_list()[0])):\n",
        "    if i>=4:\n",
        "      arr.append(df_test.iloc[j,:].str.split(\"\\t\").to_list()[0][i])\n",
        "  test_data.append(arr)\n",
        "for i in range(5):\n",
        "  print(test_data[i])"
      ],
      "execution_count": null,
      "outputs": [
        {
          "output_type": "stream",
          "text": [
            "['2.500', 'A girl is styling her hair.', 'A girl is brushing her hair.']\n",
            "['3.600', 'A group of men play soccer on the beach.', 'A group of boys are playing soccer on the beach.']\n",
            "['5.000', \"One woman is measuring another woman's ankle.\", \"A woman measures another woman's ankle.\"]\n",
            "['4.200', 'A man is cutting up a cucumber.', 'A man is slicing a cucumber.']\n",
            "['1.500', 'A man is playing a harp.', 'A man is playing a keyboard.']\n"
          ],
          "name": "stdout"
        },
        {
          "output_type": "stream",
          "text": [
            "b'Skipping line 99: expected 1 fields, saw 3\\nSkipping line 240: expected 1 fields, saw 2\\nSkipping line 280: expected 1 fields, saw 3\\nSkipping line 297: expected 1 fields, saw 2\\nSkipping line 326: expected 1 fields, saw 2\\nSkipping line 336: expected 1 fields, saw 3\\nSkipping line 371: expected 1 fields, saw 4\\nSkipping line 405: expected 1 fields, saw 2\\nSkipping line 414: expected 1 fields, saw 3\\nSkipping line 429: expected 1 fields, saw 3\\nSkipping line 442: expected 1 fields, saw 2\\nSkipping line 489: expected 1 fields, saw 2\\nSkipping line 521: expected 1 fields, saw 2\\nSkipping line 626: expected 1 fields, saw 3\\nSkipping line 627: expected 1 fields, saw 2\\nSkipping line 629: expected 1 fields, saw 2\\nSkipping line 631: expected 1 fields, saw 3\\nSkipping line 634: expected 1 fields, saw 2\\nSkipping line 635: expected 1 fields, saw 2\\nSkipping line 637: expected 1 fields, saw 3\\nSkipping line 638: expected 1 fields, saw 2\\nSkipping line 641: expected 1 fields, saw 2\\nSkipping line 642: expected 1 fields, saw 2\\nSkipping line 645: expected 1 fields, saw 3\\nSkipping line 648: expected 1 fields, saw 2\\nSkipping line 649: expected 1 fields, saw 2\\nSkipping line 651: expected 1 fields, saw 2\\nSkipping line 655: expected 1 fields, saw 3\\nSkipping line 662: expected 1 fields, saw 2\\nSkipping line 666: expected 1 fields, saw 3\\nSkipping line 667: expected 1 fields, saw 3\\nSkipping line 673: expected 1 fields, saw 3\\nSkipping line 678: expected 1 fields, saw 4\\nSkipping line 679: expected 1 fields, saw 2\\nSkipping line 681: expected 1 fields, saw 2\\nSkipping line 682: expected 1 fields, saw 2\\nSkipping line 683: expected 1 fields, saw 2\\nSkipping line 691: expected 1 fields, saw 2\\nSkipping line 694: expected 1 fields, saw 2\\nSkipping line 696: expected 1 fields, saw 2\\nSkipping line 702: expected 1 fields, saw 2\\nSkipping line 705: expected 1 fields, saw 2\\nSkipping line 709: expected 1 fields, saw 2\\nSkipping line 710: expected 1 fields, saw 2\\nSkipping line 712: expected 1 fields, saw 2\\nSkipping line 715: expected 1 fields, saw 2\\nSkipping line 716: expected 1 fields, saw 2\\nSkipping line 720: expected 1 fields, saw 2\\nSkipping line 722: expected 1 fields, saw 2\\nSkipping line 723: expected 1 fields, saw 3\\nSkipping line 732: expected 1 fields, saw 2\\nSkipping line 733: expected 1 fields, saw 3\\nSkipping line 735: expected 1 fields, saw 3\\nSkipping line 737: expected 1 fields, saw 3\\nSkipping line 739: expected 1 fields, saw 2\\nSkipping line 740: expected 1 fields, saw 3\\nSkipping line 743: expected 1 fields, saw 3\\nSkipping line 745: expected 1 fields, saw 3\\nSkipping line 753: expected 1 fields, saw 2\\nSkipping line 759: expected 1 fields, saw 3\\nSkipping line 764: expected 1 fields, saw 2\\nSkipping line 765: expected 1 fields, saw 2\\nSkipping line 768: expected 1 fields, saw 2\\nSkipping line 769: expected 1 fields, saw 2\\nSkipping line 772: expected 1 fields, saw 3\\nSkipping line 774: expected 1 fields, saw 2\\nSkipping line 777: expected 1 fields, saw 3\\nSkipping line 781: expected 1 fields, saw 2\\nSkipping line 782: expected 1 fields, saw 2\\nSkipping line 786: expected 1 fields, saw 3\\nSkipping line 787: expected 1 fields, saw 3\\nSkipping line 790: expected 1 fields, saw 3\\nSkipping line 794: expected 1 fields, saw 3\\nSkipping line 795: expected 1 fields, saw 2\\nSkipping line 796: expected 1 fields, saw 3\\nSkipping line 799: expected 1 fields, saw 2\\nSkipping line 800: expected 1 fields, saw 3\\nSkipping line 801: expected 1 fields, saw 3\\nSkipping line 802: expected 1 fields, saw 3\\nSkipping line 805: expected 1 fields, saw 2\\nSkipping line 808: expected 1 fields, saw 3\\nSkipping line 821: expected 1 fields, saw 3\\nSkipping line 829: expected 1 fields, saw 2\\nSkipping line 831: expected 1 fields, saw 2\\nSkipping line 833: expected 1 fields, saw 2\\nSkipping line 834: expected 1 fields, saw 2\\nSkipping line 851: expected 1 fields, saw 2\\nSkipping line 856: expected 1 fields, saw 3\\nSkipping line 858: expected 1 fields, saw 2\\nSkipping line 859: expected 1 fields, saw 2\\nSkipping line 864: expected 1 fields, saw 3\\nSkipping line 865: expected 1 fields, saw 3\\nSkipping line 868: expected 1 fields, saw 3\\nSkipping line 874: expected 1 fields, saw 3\\nSkipping line 877: expected 1 fields, saw 2\\nSkipping line 880: expected 1 fields, saw 2\\nSkipping line 881: expected 1 fields, saw 2\\nSkipping line 883: expected 1 fields, saw 2\\nSkipping line 884: expected 1 fields, saw 6\\nSkipping line 886: expected 1 fields, saw 5\\nSkipping line 887: expected 1 fields, saw 2\\nSkipping line 889: expected 1 fields, saw 5\\nSkipping line 892: expected 1 fields, saw 7\\nSkipping line 895: expected 1 fields, saw 3\\nSkipping line 896: expected 1 fields, saw 2\\nSkipping line 897: expected 1 fields, saw 5\\nSkipping line 899: expected 1 fields, saw 3\\nSkipping line 900: expected 1 fields, saw 4\\nSkipping line 902: expected 1 fields, saw 7\\nSkipping line 903: expected 1 fields, saw 3\\nSkipping line 904: expected 1 fields, saw 2\\nSkipping line 905: expected 1 fields, saw 2\\nSkipping line 906: expected 1 fields, saw 3\\nSkipping line 907: expected 1 fields, saw 4\\nSkipping line 909: expected 1 fields, saw 2\\nSkipping line 910: expected 1 fields, saw 2\\nSkipping line 911: expected 1 fields, saw 4\\nSkipping line 912: expected 1 fields, saw 2\\nSkipping line 913: expected 1 fields, saw 4\\nSkipping line 914: expected 1 fields, saw 7\\nSkipping line 915: expected 1 fields, saw 3\\nSkipping line 916: expected 1 fields, saw 5\\nSkipping line 917: expected 1 fields, saw 11\\nSkipping line 918: expected 1 fields, saw 3\\nSkipping line 919: expected 1 fields, saw 3\\nSkipping line 920: expected 1 fields, saw 6\\nSkipping line 921: expected 1 fields, saw 3\\nSkipping line 922: expected 1 fields, saw 2\\nSkipping line 923: expected 1 fields, saw 6\\nSkipping line 925: expected 1 fields, saw 3\\nSkipping line 927: expected 1 fields, saw 3\\nSkipping line 928: expected 1 fields, saw 4\\nSkipping line 930: expected 1 fields, saw 4\\nSkipping line 931: expected 1 fields, saw 2\\nSkipping line 932: expected 1 fields, saw 3\\nSkipping line 934: expected 1 fields, saw 2\\nSkipping line 935: expected 1 fields, saw 5\\nSkipping line 936: expected 1 fields, saw 2\\nSkipping line 937: expected 1 fields, saw 2\\nSkipping line 938: expected 1 fields, saw 4\\nSkipping line 940: expected 1 fields, saw 2\\nSkipping line 941: expected 1 fields, saw 2\\nSkipping line 943: expected 1 fields, saw 7\\nSkipping line 945: expected 1 fields, saw 2\\nSkipping line 946: expected 1 fields, saw 10\\nSkipping line 947: expected 1 fields, saw 3\\nSkipping line 948: expected 1 fields, saw 3\\nSkipping line 949: expected 1 fields, saw 2\\nSkipping line 950: expected 1 fields, saw 5\\nSkipping line 951: expected 1 fields, saw 2\\nSkipping line 952: expected 1 fields, saw 3\\nSkipping line 954: expected 1 fields, saw 2\\nSkipping line 955: expected 1 fields, saw 6\\nSkipping line 956: expected 1 fields, saw 2\\nSkipping line 959: expected 1 fields, saw 2\\nSkipping line 960: expected 1 fields, saw 6\\nSkipping line 961: expected 1 fields, saw 2\\nSkipping line 963: expected 1 fields, saw 2\\nSkipping line 964: expected 1 fields, saw 4\\nSkipping line 965: expected 1 fields, saw 4\\nSkipping line 966: expected 1 fields, saw 4\\nSkipping line 967: expected 1 fields, saw 8\\nSkipping line 969: expected 1 fields, saw 11\\nSkipping line 970: expected 1 fields, saw 7\\nSkipping line 971: expected 1 fields, saw 5\\nSkipping line 972: expected 1 fields, saw 5\\nSkipping line 973: expected 1 fields, saw 2\\nSkipping line 974: expected 1 fields, saw 3\\nSkipping line 977: expected 1 fields, saw 3\\nSkipping line 978: expected 1 fields, saw 4\\nSkipping line 979: expected 1 fields, saw 5\\nSkipping line 980: expected 1 fields, saw 2\\nSkipping line 981: expected 1 fields, saw 4\\nSkipping line 982: expected 1 fields, saw 6\\nSkipping line 985: expected 1 fields, saw 2\\nSkipping line 986: expected 1 fields, saw 5\\nSkipping line 987: expected 1 fields, saw 2\\nSkipping line 988: expected 1 fields, saw 4\\nSkipping line 991: expected 1 fields, saw 3\\nSkipping line 993: expected 1 fields, saw 2\\nSkipping line 994: expected 1 fields, saw 4\\nSkipping line 995: expected 1 fields, saw 3\\nSkipping line 996: expected 1 fields, saw 6\\nSkipping line 997: expected 1 fields, saw 3\\nSkipping line 998: expected 1 fields, saw 2\\nSkipping line 999: expected 1 fields, saw 4\\nSkipping line 1000: expected 1 fields, saw 3\\nSkipping line 1002: expected 1 fields, saw 2\\nSkipping line 1004: expected 1 fields, saw 8\\nSkipping line 1006: expected 1 fields, saw 2\\nSkipping line 1007: expected 1 fields, saw 2\\nSkipping line 1008: expected 1 fields, saw 7\\nSkipping line 1009: expected 1 fields, saw 2\\nSkipping line 1012: expected 1 fields, saw 4\\nSkipping line 1013: expected 1 fields, saw 3\\nSkipping line 1015: expected 1 fields, saw 4\\nSkipping line 1016: expected 1 fields, saw 6\\nSkipping line 1017: expected 1 fields, saw 3\\nSkipping line 1018: expected 1 fields, saw 7\\nSkipping line 1020: expected 1 fields, saw 4\\nSkipping line 1021: expected 1 fields, saw 4\\nSkipping line 1022: expected 1 fields, saw 3\\nSkipping line 1023: expected 1 fields, saw 4\\nSkipping line 1033: expected 1 fields, saw 3\\nSkipping line 1039: expected 1 fields, saw 3\\nSkipping line 1041: expected 1 fields, saw 3\\nSkipping line 1043: expected 1 fields, saw 2\\nSkipping line 1053: expected 1 fields, saw 2\\nSkipping line 1056: expected 1 fields, saw 2\\nSkipping line 1057: expected 1 fields, saw 2\\nSkipping line 1061: expected 1 fields, saw 2\\nSkipping line 1076: expected 1 fields, saw 2\\nSkipping line 1088: expected 1 fields, saw 3\\nSkipping line 1092: expected 1 fields, saw 2\\nSkipping line 1100: expected 1 fields, saw 5\\nSkipping line 1117: expected 1 fields, saw 3\\nSkipping line 1123: expected 1 fields, saw 3\\nSkipping line 1130: expected 1 fields, saw 2\\nSkipping line 1138: expected 1 fields, saw 2\\nSkipping line 1147: expected 1 fields, saw 3\\nSkipping line 1151: expected 1 fields, saw 2\\nSkipping line 1153: expected 1 fields, saw 2\\nSkipping line 1155: expected 1 fields, saw 2\\nSkipping line 1159: expected 1 fields, saw 2\\nSkipping line 1164: expected 1 fields, saw 2\\nSkipping line 1165: expected 1 fields, saw 3\\nSkipping line 1166: expected 1 fields, saw 2\\nSkipping line 1169: expected 1 fields, saw 3\\nSkipping line 1175: expected 1 fields, saw 2\\nSkipping line 1177: expected 1 fields, saw 3\\nSkipping line 1186: expected 1 fields, saw 2\\nSkipping line 1201: expected 1 fields, saw 2\\nSkipping line 1204: expected 1 fields, saw 2\\nSkipping line 1208: expected 1 fields, saw 2\\nSkipping line 1209: expected 1 fields, saw 2\\nSkipping line 1213: expected 1 fields, saw 5\\nSkipping line 1215: expected 1 fields, saw 3\\nSkipping line 1220: expected 1 fields, saw 4\\nSkipping line 1225: expected 1 fields, saw 2\\nSkipping line 1227: expected 1 fields, saw 2\\nSkipping line 1232: expected 1 fields, saw 3\\nSkipping line 1234: expected 1 fields, saw 2\\nSkipping line 1238: expected 1 fields, saw 3\\nSkipping line 1239: expected 1 fields, saw 2\\nSkipping line 1248: expected 1 fields, saw 2\\nSkipping line 1252: expected 1 fields, saw 3\\nSkipping line 1258: expected 1 fields, saw 2\\nSkipping line 1262: expected 1 fields, saw 2\\nSkipping line 1269: expected 1 fields, saw 2\\nSkipping line 1270: expected 1 fields, saw 2\\n'\n"
          ],
          "name": "stderr"
        }
      ]
    },
    {
      "cell_type": "code",
      "metadata": {
        "colab": {
          "base_uri": "https://localhost:8080/"
        },
        "id": "jxMWNLUCOiAx",
        "outputId": "cc43c09c-057a-4c72-a492-8bfb3f216277"
      },
      "source": [
        "df_train=pd.read_csv('sts_train.csv',error_bad_lines=False,header=None)\n",
        "for j in range(len(df_train)):\n",
        "  arr=[]\n",
        "  for i in range(len(df_train.iloc[1,:].str.split(\"\\t\").to_list()[0])):\n",
        "    if i>=4:\n",
        "      arr.append(df_train.iloc[j,:].str.split(\"\\t\").to_list()[0][i])\n",
        "  train_data.append(arr)\n",
        "for i in range(5):\n",
        "  print(train_data[i])"
      ],
      "execution_count": null,
      "outputs": [
        {
          "output_type": "stream",
          "text": [
            "b'Skipping line 441: expected 1 fields, saw 2\\nSkipping line 741: expected 1 fields, saw 2\\nSkipping line 772: expected 1 fields, saw 3\\nSkipping line 779: expected 1 fields, saw 3\\nSkipping line 1035: expected 1 fields, saw 2\\nSkipping line 1081: expected 1 fields, saw 2\\nSkipping line 1086: expected 1 fields, saw 2\\nSkipping line 1099: expected 1 fields, saw 3\\nSkipping line 1107: expected 1 fields, saw 2\\nSkipping line 1160: expected 1 fields, saw 2\\nSkipping line 1173: expected 1 fields, saw 2\\nSkipping line 1196: expected 1 fields, saw 2\\nSkipping line 1201: expected 1 fields, saw 3\\nSkipping line 1211: expected 1 fields, saw 3\\nSkipping line 1235: expected 1 fields, saw 4\\nSkipping line 1247: expected 1 fields, saw 2\\nSkipping line 1252: expected 1 fields, saw 3\\nSkipping line 1260: expected 1 fields, saw 2\\nSkipping line 1286: expected 1 fields, saw 5\\nSkipping line 1298: expected 1 fields, saw 3\\nSkipping line 1309: expected 1 fields, saw 2\\nSkipping line 1341: expected 1 fields, saw 3\\nSkipping line 1362: expected 1 fields, saw 2\\nSkipping line 1454: expected 1 fields, saw 3\\nSkipping line 1463: expected 1 fields, saw 2\\nSkipping line 1485: expected 1 fields, saw 2\\nSkipping line 1522: expected 1 fields, saw 2\\nSkipping line 1553: expected 1 fields, saw 2\\nSkipping line 1556: expected 1 fields, saw 3\\nSkipping line 1557: expected 1 fields, saw 3\\nSkipping line 1673: expected 1 fields, saw 2\\nSkipping line 1704: expected 1 fields, saw 2\\nSkipping line 1706: expected 1 fields, saw 3\\nSkipping line 1736: expected 1 fields, saw 2\\nSkipping line 1762: expected 1 fields, saw 2\\nSkipping line 1790: expected 1 fields, saw 3\\nSkipping line 1831: expected 1 fields, saw 4\\nSkipping line 1839: expected 1 fields, saw 2\\nSkipping line 1869: expected 1 fields, saw 2\\nSkipping line 1899: expected 1 fields, saw 3\\nSkipping line 1902: expected 1 fields, saw 2\\nSkipping line 1905: expected 1 fields, saw 2\\nSkipping line 1911: expected 1 fields, saw 3\\nSkipping line 1922: expected 1 fields, saw 2\\nSkipping line 1942: expected 1 fields, saw 2\\nSkipping line 1994: expected 1 fields, saw 2\\nSkipping line 2001: expected 1 fields, saw 2\\nSkipping line 2005: expected 1 fields, saw 4\\nSkipping line 2017: expected 1 fields, saw 2\\nSkipping line 2018: expected 1 fields, saw 5\\nSkipping line 2020: expected 1 fields, saw 2\\nSkipping line 2024: expected 1 fields, saw 5\\nSkipping line 2025: expected 1 fields, saw 5\\nSkipping line 2026: expected 1 fields, saw 2\\nSkipping line 2028: expected 1 fields, saw 2\\nSkipping line 2034: expected 1 fields, saw 3\\nSkipping line 2039: expected 1 fields, saw 5\\nSkipping line 2043: expected 1 fields, saw 2\\nSkipping line 2045: expected 1 fields, saw 2\\nSkipping line 2047: expected 1 fields, saw 3\\nSkipping line 2048: expected 1 fields, saw 3\\nSkipping line 2052: expected 1 fields, saw 3\\nSkipping line 2056: expected 1 fields, saw 2\\nSkipping line 2057: expected 1 fields, saw 10\\nSkipping line 2059: expected 1 fields, saw 3\\nSkipping line 2062: expected 1 fields, saw 3\\nSkipping line 2064: expected 1 fields, saw 2\\nSkipping line 2067: expected 1 fields, saw 2\\nSkipping line 2070: expected 1 fields, saw 3\\nSkipping line 2074: expected 1 fields, saw 5\\nSkipping line 2081: expected 1 fields, saw 2\\nSkipping line 2086: expected 1 fields, saw 3\\nSkipping line 2087: expected 1 fields, saw 2\\nSkipping line 2091: expected 1 fields, saw 3\\nSkipping line 2092: expected 1 fields, saw 2\\nSkipping line 2097: expected 1 fields, saw 2\\nSkipping line 2099: expected 1 fields, saw 2\\nSkipping line 2100: expected 1 fields, saw 2\\nSkipping line 2104: expected 1 fields, saw 2\\nSkipping line 2119: expected 1 fields, saw 3\\nSkipping line 2120: expected 1 fields, saw 2\\nSkipping line 2124: expected 1 fields, saw 3\\nSkipping line 2132: expected 1 fields, saw 4\\nSkipping line 2133: expected 1 fields, saw 2\\nSkipping line 2137: expected 1 fields, saw 2\\nSkipping line 2138: expected 1 fields, saw 2\\nSkipping line 2142: expected 1 fields, saw 2\\nSkipping line 2148: expected 1 fields, saw 2\\nSkipping line 2149: expected 1 fields, saw 2\\nSkipping line 2154: expected 1 fields, saw 2\\nSkipping line 2156: expected 1 fields, saw 3\\nSkipping line 2158: expected 1 fields, saw 3\\nSkipping line 2166: expected 1 fields, saw 3\\nSkipping line 2167: expected 1 fields, saw 2\\nSkipping line 2168: expected 1 fields, saw 4\\nSkipping line 2173: expected 1 fields, saw 2\\nSkipping line 2174: expected 1 fields, saw 3\\nSkipping line 2175: expected 1 fields, saw 2\\nSkipping line 2180: expected 1 fields, saw 4\\nSkipping line 2187: expected 1 fields, saw 2\\nSkipping line 2188: expected 1 fields, saw 2\\nSkipping line 2189: expected 1 fields, saw 3\\nSkipping line 2193: expected 1 fields, saw 2\\nSkipping line 2194: expected 1 fields, saw 3\\nSkipping line 2197: expected 1 fields, saw 3\\nSkipping line 2200: expected 1 fields, saw 3\\nSkipping line 2209: expected 1 fields, saw 3\\nSkipping line 2210: expected 1 fields, saw 3\\nSkipping line 2211: expected 1 fields, saw 4\\nSkipping line 2214: expected 1 fields, saw 2\\nSkipping line 2220: expected 1 fields, saw 2\\nSkipping line 2226: expected 1 fields, saw 2\\nSkipping line 2232: expected 1 fields, saw 3\\nSkipping line 2234: expected 1 fields, saw 3\\nSkipping line 2235: expected 1 fields, saw 4\\nSkipping line 2238: expected 1 fields, saw 3\\nSkipping line 2244: expected 1 fields, saw 2\\nSkipping line 2248: expected 1 fields, saw 2\\nSkipping line 2257: expected 1 fields, saw 2\\nSkipping line 2258: expected 1 fields, saw 2\\nSkipping line 2260: expected 1 fields, saw 5\\nSkipping line 2262: expected 1 fields, saw 3\\nSkipping line 2263: expected 1 fields, saw 3\\nSkipping line 2266: expected 1 fields, saw 2\\nSkipping line 2267: expected 1 fields, saw 5\\nSkipping line 2270: expected 1 fields, saw 3\\nSkipping line 2278: expected 1 fields, saw 2\\nSkipping line 2280: expected 1 fields, saw 3\\nSkipping line 2281: expected 1 fields, saw 2\\nSkipping line 2298: expected 1 fields, saw 3\\nSkipping line 2300: expected 1 fields, saw 2\\nSkipping line 2307: expected 1 fields, saw 3\\nSkipping line 2309: expected 1 fields, saw 2\\nSkipping line 2313: expected 1 fields, saw 2\\nSkipping line 2315: expected 1 fields, saw 3\\nSkipping line 2320: expected 1 fields, saw 2\\nSkipping line 2324: expected 1 fields, saw 3\\nSkipping line 2325: expected 1 fields, saw 2\\nSkipping line 2329: expected 1 fields, saw 3\\nSkipping line 2331: expected 1 fields, saw 3\\nSkipping line 2335: expected 1 fields, saw 5\\nSkipping line 2336: expected 1 fields, saw 3\\nSkipping line 2339: expected 1 fields, saw 2\\nSkipping line 2341: expected 1 fields, saw 5\\nSkipping line 2344: expected 1 fields, saw 10\\nSkipping line 2351: expected 1 fields, saw 2\\nSkipping line 2361: expected 1 fields, saw 3\\nSkipping line 2364: expected 1 fields, saw 4\\nSkipping line 2368: expected 1 fields, saw 10\\nSkipping line 2372: expected 1 fields, saw 3\\nSkipping line 2379: expected 1 fields, saw 3\\nSkipping line 2388: expected 1 fields, saw 2\\nSkipping line 2394: expected 1 fields, saw 3\\nSkipping line 2396: expected 1 fields, saw 3\\nSkipping line 2404: expected 1 fields, saw 3\\nSkipping line 2408: expected 1 fields, saw 2\\nSkipping line 2422: expected 1 fields, saw 4\\nSkipping line 2425: expected 1 fields, saw 2\\nSkipping line 2427: expected 1 fields, saw 2\\nSkipping line 2432: expected 1 fields, saw 2\\nSkipping line 2437: expected 1 fields, saw 3\\nSkipping line 2440: expected 1 fields, saw 2\\nSkipping line 2448: expected 1 fields, saw 2\\nSkipping line 2449: expected 1 fields, saw 2\\nSkipping line 2453: expected 1 fields, saw 3\\nSkipping line 2454: expected 1 fields, saw 5\\nSkipping line 2455: expected 1 fields, saw 5\\nSkipping line 2459: expected 1 fields, saw 5\\nSkipping line 2460: expected 1 fields, saw 2\\nSkipping line 2461: expected 1 fields, saw 3\\nSkipping line 2462: expected 1 fields, saw 5\\nSkipping line 2463: expected 1 fields, saw 3\\nSkipping line 2464: expected 1 fields, saw 3\\nSkipping line 2465: expected 1 fields, saw 2\\nSkipping line 2466: expected 1 fields, saw 3\\nSkipping line 2467: expected 1 fields, saw 4\\nSkipping line 2469: expected 1 fields, saw 3\\nSkipping line 2470: expected 1 fields, saw 2\\nSkipping line 2471: expected 1 fields, saw 4\\nSkipping line 2472: expected 1 fields, saw 9\\nSkipping line 2473: expected 1 fields, saw 2\\nSkipping line 2475: expected 1 fields, saw 2\\nSkipping line 2476: expected 1 fields, saw 5\\nSkipping line 2477: expected 1 fields, saw 3\\nSkipping line 2478: expected 1 fields, saw 6\\nSkipping line 2479: expected 1 fields, saw 3\\nSkipping line 2480: expected 1 fields, saw 5\\nSkipping line 2481: expected 1 fields, saw 3\\nSkipping line 2482: expected 1 fields, saw 3\\nSkipping line 2483: expected 1 fields, saw 3\\nSkipping line 2484: expected 1 fields, saw 8\\nSkipping line 2485: expected 1 fields, saw 3\\nSkipping line 2486: expected 1 fields, saw 2\\nSkipping line 2487: expected 1 fields, saw 2\\nSkipping line 2488: expected 1 fields, saw 3\\nSkipping line 2489: expected 1 fields, saw 2\\nSkipping line 2490: expected 1 fields, saw 2\\nSkipping line 2492: expected 1 fields, saw 5\\nSkipping line 2493: expected 1 fields, saw 3\\nSkipping line 2495: expected 1 fields, saw 3\\nSkipping line 2496: expected 1 fields, saw 3\\nSkipping line 2497: expected 1 fields, saw 6\\nSkipping line 2498: expected 1 fields, saw 4\\nSkipping line 2499: expected 1 fields, saw 2\\nSkipping line 2500: expected 1 fields, saw 3\\nSkipping line 2501: expected 1 fields, saw 5\\nSkipping line 2502: expected 1 fields, saw 2\\nSkipping line 2503: expected 1 fields, saw 4\\nSkipping line 2504: expected 1 fields, saw 4\\nSkipping line 2506: expected 1 fields, saw 4\\nSkipping line 2507: expected 1 fields, saw 4\\nSkipping line 2508: expected 1 fields, saw 4\\nSkipping line 2509: expected 1 fields, saw 6\\nSkipping line 2510: expected 1 fields, saw 4\\nSkipping line 2511: expected 1 fields, saw 6\\nSkipping line 2512: expected 1 fields, saw 2\\nSkipping line 2513: expected 1 fields, saw 5\\nSkipping line 2515: expected 1 fields, saw 6\\nSkipping line 2516: expected 1 fields, saw 7\\nSkipping line 2517: expected 1 fields, saw 10\\nSkipping line 2518: expected 1 fields, saw 4\\nSkipping line 2519: expected 1 fields, saw 5\\nSkipping line 2520: expected 1 fields, saw 3\\nSkipping line 2521: expected 1 fields, saw 2\\nSkipping line 2522: expected 1 fields, saw 4\\nSkipping line 2523: expected 1 fields, saw 3\\nSkipping line 2524: expected 1 fields, saw 6\\nSkipping line 2525: expected 1 fields, saw 6\\nSkipping line 2527: expected 1 fields, saw 4\\nSkipping line 2528: expected 1 fields, saw 3\\nSkipping line 2529: expected 1 fields, saw 2\\nSkipping line 2531: expected 1 fields, saw 3\\nSkipping line 2532: expected 1 fields, saw 4\\nSkipping line 2533: expected 1 fields, saw 5\\nSkipping line 2534: expected 1 fields, saw 3\\nSkipping line 2535: expected 1 fields, saw 2\\nSkipping line 2536: expected 1 fields, saw 3\\nSkipping line 2537: expected 1 fields, saw 7\\nSkipping line 2538: expected 1 fields, saw 6\\nSkipping line 2539: expected 1 fields, saw 2\\nSkipping line 2540: expected 1 fields, saw 4\\nSkipping line 2541: expected 1 fields, saw 5\\nSkipping line 2544: expected 1 fields, saw 5\\nSkipping line 2545: expected 1 fields, saw 3\\nSkipping line 2546: expected 1 fields, saw 3\\nSkipping line 2547: expected 1 fields, saw 2\\nSkipping line 2548: expected 1 fields, saw 6\\nSkipping line 2549: expected 1 fields, saw 2\\nSkipping line 2550: expected 1 fields, saw 7\\nSkipping line 2551: expected 1 fields, saw 2\\nSkipping line 2552: expected 1 fields, saw 3\\nSkipping line 2553: expected 1 fields, saw 3\\nSkipping line 2555: expected 1 fields, saw 8\\nSkipping line 2556: expected 1 fields, saw 3\\nSkipping line 2557: expected 1 fields, saw 8\\nSkipping line 2558: expected 1 fields, saw 5\\nSkipping line 2559: expected 1 fields, saw 3\\nSkipping line 2562: expected 1 fields, saw 2\\nSkipping line 2563: expected 1 fields, saw 3\\nSkipping line 2565: expected 1 fields, saw 3\\nSkipping line 2568: expected 1 fields, saw 3\\nSkipping line 2569: expected 1 fields, saw 7\\nSkipping line 2572: expected 1 fields, saw 2\\nSkipping line 2576: expected 1 fields, saw 5\\nSkipping line 2578: expected 1 fields, saw 5\\nSkipping line 2579: expected 1 fields, saw 6\\nSkipping line 2580: expected 1 fields, saw 3\\nSkipping line 2584: expected 1 fields, saw 2\\nSkipping line 2589: expected 1 fields, saw 3\\nSkipping line 2590: expected 1 fields, saw 6\\nSkipping line 2591: expected 1 fields, saw 3\\nSkipping line 2595: expected 1 fields, saw 4\\nSkipping line 2597: expected 1 fields, saw 2\\nSkipping line 2598: expected 1 fields, saw 3\\nSkipping line 2599: expected 1 fields, saw 2\\nSkipping line 2601: expected 1 fields, saw 9\\nSkipping line 2602: expected 1 fields, saw 2\\nSkipping line 2603: expected 1 fields, saw 5\\nSkipping line 2604: expected 1 fields, saw 4\\nSkipping line 2605: expected 1 fields, saw 4\\nSkipping line 2606: expected 1 fields, saw 11\\nSkipping line 2607: expected 1 fields, saw 3\\nSkipping line 2608: expected 1 fields, saw 3\\nSkipping line 2609: expected 1 fields, saw 2\\nSkipping line 2610: expected 1 fields, saw 4\\nSkipping line 2611: expected 1 fields, saw 5\\nSkipping line 2612: expected 1 fields, saw 3\\nSkipping line 2613: expected 1 fields, saw 3\\nSkipping line 2614: expected 1 fields, saw 3\\nSkipping line 2615: expected 1 fields, saw 3\\nSkipping line 2617: expected 1 fields, saw 4\\nSkipping line 2618: expected 1 fields, saw 4\\nSkipping line 2620: expected 1 fields, saw 7\\nSkipping line 2622: expected 1 fields, saw 2\\nSkipping line 2624: expected 1 fields, saw 4\\nSkipping line 2625: expected 1 fields, saw 3\\nSkipping line 2626: expected 1 fields, saw 5\\nSkipping line 2627: expected 1 fields, saw 5\\nSkipping line 2628: expected 1 fields, saw 4\\nSkipping line 2629: expected 1 fields, saw 9\\nSkipping line 2630: expected 1 fields, saw 2\\nSkipping line 2632: expected 1 fields, saw 5\\nSkipping line 2633: expected 1 fields, saw 2\\nSkipping line 2634: expected 1 fields, saw 2\\nSkipping line 2635: expected 1 fields, saw 5\\nSkipping line 2637: expected 1 fields, saw 7\\nSkipping line 2638: expected 1 fields, saw 4\\nSkipping line 2639: expected 1 fields, saw 7\\nSkipping line 2640: expected 1 fields, saw 2\\nSkipping line 2642: expected 1 fields, saw 2\\nSkipping line 2643: expected 1 fields, saw 5\\nSkipping line 2644: expected 1 fields, saw 3\\nSkipping line 2646: expected 1 fields, saw 4\\nSkipping line 2647: expected 1 fields, saw 2\\nSkipping line 2648: expected 1 fields, saw 2\\nSkipping line 2649: expected 1 fields, saw 3\\nSkipping line 2650: expected 1 fields, saw 2\\nSkipping line 2651: expected 1 fields, saw 5\\nSkipping line 2652: expected 1 fields, saw 2\\nSkipping line 2654: expected 1 fields, saw 4\\nSkipping line 2655: expected 1 fields, saw 3\\nSkipping line 2656: expected 1 fields, saw 3\\nSkipping line 2657: expected 1 fields, saw 2\\nSkipping line 2658: expected 1 fields, saw 5\\nSkipping line 2659: expected 1 fields, saw 3\\nSkipping line 2660: expected 1 fields, saw 3\\nSkipping line 2662: expected 1 fields, saw 3\\nSkipping line 2663: expected 1 fields, saw 4\\nSkipping line 2664: expected 1 fields, saw 3\\nSkipping line 2665: expected 1 fields, saw 5\\nSkipping line 2666: expected 1 fields, saw 4\\nSkipping line 2667: expected 1 fields, saw 4\\nSkipping line 2668: expected 1 fields, saw 5\\nSkipping line 2669: expected 1 fields, saw 2\\nSkipping line 2670: expected 1 fields, saw 4\\nSkipping line 2671: expected 1 fields, saw 4\\nSkipping line 2672: expected 1 fields, saw 2\\nSkipping line 2674: expected 1 fields, saw 8\\nSkipping line 2675: expected 1 fields, saw 7\\nSkipping line 2676: expected 1 fields, saw 5\\nSkipping line 2677: expected 1 fields, saw 2\\nSkipping line 2678: expected 1 fields, saw 3\\nSkipping line 2680: expected 1 fields, saw 7\\nSkipping line 2683: expected 1 fields, saw 5\\nSkipping line 2684: expected 1 fields, saw 16\\nSkipping line 2685: expected 1 fields, saw 2\\nSkipping line 2686: expected 1 fields, saw 3\\nSkipping line 2688: expected 1 fields, saw 3\\nSkipping line 2691: expected 1 fields, saw 2\\nSkipping line 2692: expected 1 fields, saw 2\\nSkipping line 2693: expected 1 fields, saw 8\\nSkipping line 2695: expected 1 fields, saw 11\\nSkipping line 2697: expected 1 fields, saw 4\\nSkipping line 2699: expected 1 fields, saw 5\\nSkipping line 2700: expected 1 fields, saw 2\\nSkipping line 2701: expected 1 fields, saw 5\\nSkipping line 2702: expected 1 fields, saw 3\\nSkipping line 2703: expected 1 fields, saw 3\\nSkipping line 2705: expected 1 fields, saw 7\\nSkipping line 2706: expected 1 fields, saw 3\\nSkipping line 2708: expected 1 fields, saw 2\\nSkipping line 2709: expected 1 fields, saw 8\\nSkipping line 2710: expected 1 fields, saw 4\\nSkipping line 2711: expected 1 fields, saw 4\\nSkipping line 2712: expected 1 fields, saw 3\\nSkipping line 2715: expected 1 fields, saw 2\\nSkipping line 2716: expected 1 fields, saw 6\\nSkipping line 2718: expected 1 fields, saw 2\\nSkipping line 2719: expected 1 fields, saw 2\\nSkipping line 2720: expected 1 fields, saw 7\\nSkipping line 2721: expected 1 fields, saw 2\\nSkipping line 2722: expected 1 fields, saw 5\\nSkipping line 2724: expected 1 fields, saw 5\\nSkipping line 2725: expected 1 fields, saw 2\\nSkipping line 2727: expected 1 fields, saw 2\\nSkipping line 2729: expected 1 fields, saw 8\\nSkipping line 2730: expected 1 fields, saw 4\\nSkipping line 2731: expected 1 fields, saw 7\\nSkipping line 2732: expected 1 fields, saw 3\\nSkipping line 2733: expected 1 fields, saw 3\\nSkipping line 2734: expected 1 fields, saw 3\\nSkipping line 2735: expected 1 fields, saw 5\\nSkipping line 2736: expected 1 fields, saw 7\\nSkipping line 2738: expected 1 fields, saw 2\\nSkipping line 2739: expected 1 fields, saw 5\\nSkipping line 2740: expected 1 fields, saw 2\\nSkipping line 2741: expected 1 fields, saw 5\\nSkipping line 2742: expected 1 fields, saw 2\\nSkipping line 2743: expected 1 fields, saw 2\\nSkipping line 2746: expected 1 fields, saw 3\\nSkipping line 2747: expected 1 fields, saw 5\\nSkipping line 2751: expected 1 fields, saw 7\\nSkipping line 2752: expected 1 fields, saw 3\\nSkipping line 2753: expected 1 fields, saw 7\\nSkipping line 2754: expected 1 fields, saw 3\\nSkipping line 2755: expected 1 fields, saw 4\\nSkipping line 2756: expected 1 fields, saw 2\\nSkipping line 2757: expected 1 fields, saw 3\\nSkipping line 2758: expected 1 fields, saw 2\\nSkipping line 2759: expected 1 fields, saw 2\\nSkipping line 2762: expected 1 fields, saw 3\\nSkipping line 2763: expected 1 fields, saw 3\\nSkipping line 2766: expected 1 fields, saw 3\\nSkipping line 2767: expected 1 fields, saw 8\\nSkipping line 2769: expected 1 fields, saw 3\\nSkipping line 2770: expected 1 fields, saw 3\\nSkipping line 2771: expected 1 fields, saw 6\\nSkipping line 2772: expected 1 fields, saw 5\\nSkipping line 2773: expected 1 fields, saw 10\\nSkipping line 2774: expected 1 fields, saw 4\\nSkipping line 2775: expected 1 fields, saw 2\\nSkipping line 2776: expected 1 fields, saw 2\\nSkipping line 2777: expected 1 fields, saw 4\\nSkipping line 2778: expected 1 fields, saw 4\\nSkipping line 2780: expected 1 fields, saw 3\\nSkipping line 2784: expected 1 fields, saw 3\\nSkipping line 2785: expected 1 fields, saw 2\\nSkipping line 2786: expected 1 fields, saw 6\\nSkipping line 2787: expected 1 fields, saw 4\\nSkipping line 2788: expected 1 fields, saw 4\\nSkipping line 2789: expected 1 fields, saw 3\\nSkipping line 2790: expected 1 fields, saw 3\\nSkipping line 2791: expected 1 fields, saw 2\\nSkipping line 2794: expected 1 fields, saw 5\\nSkipping line 2795: expected 1 fields, saw 2\\nSkipping line 2796: expected 1 fields, saw 5\\nSkipping line 2797: expected 1 fields, saw 2\\nSkipping line 2798: expected 1 fields, saw 2\\nSkipping line 2800: expected 1 fields, saw 4\\nSkipping line 2801: expected 1 fields, saw 7\\nSkipping line 2802: expected 1 fields, saw 5\\nSkipping line 2803: expected 1 fields, saw 4\\nSkipping line 2806: expected 1 fields, saw 3\\nSkipping line 2807: expected 1 fields, saw 4\\nSkipping line 2808: expected 1 fields, saw 6\\nSkipping line 2809: expected 1 fields, saw 2\\nSkipping line 2811: expected 1 fields, saw 4\\nSkipping line 2812: expected 1 fields, saw 5\\nSkipping line 2813: expected 1 fields, saw 7\\nSkipping line 2814: expected 1 fields, saw 5\\nSkipping line 2815: expected 1 fields, saw 4\\nSkipping line 2817: expected 1 fields, saw 3\\nSkipping line 2820: expected 1 fields, saw 4\\nSkipping line 2822: expected 1 fields, saw 2\\nSkipping line 2823: expected 1 fields, saw 3\\nSkipping line 2824: expected 1 fields, saw 2\\nSkipping line 2825: expected 1 fields, saw 4\\nSkipping line 2826: expected 1 fields, saw 2\\nSkipping line 2827: expected 1 fields, saw 6\\nSkipping line 2828: expected 1 fields, saw 2\\nSkipping line 2830: expected 1 fields, saw 3\\nSkipping line 2831: expected 1 fields, saw 2\\nSkipping line 2832: expected 1 fields, saw 5\\nSkipping line 2833: expected 1 fields, saw 3\\nSkipping line 2834: expected 1 fields, saw 3\\nSkipping line 2835: expected 1 fields, saw 2\\nSkipping line 2836: expected 1 fields, saw 7\\nSkipping line 2838: expected 1 fields, saw 2\\nSkipping line 2839: expected 1 fields, saw 3\\nSkipping line 2840: expected 1 fields, saw 10\\nSkipping line 2841: expected 1 fields, saw 6\\nSkipping line 2843: expected 1 fields, saw 6\\nSkipping line 2844: expected 1 fields, saw 7\\nSkipping line 2845: expected 1 fields, saw 3\\nSkipping line 2846: expected 1 fields, saw 2\\nSkipping line 2848: expected 1 fields, saw 2\\nSkipping line 2849: expected 1 fields, saw 7\\nSkipping line 2850: expected 1 fields, saw 3\\nSkipping line 2851: expected 1 fields, saw 2\\nSkipping line 2852: expected 1 fields, saw 4\\nSkipping line 2854: expected 1 fields, saw 4\\nSkipping line 2855: expected 1 fields, saw 5\\nSkipping line 2856: expected 1 fields, saw 3\\nSkipping line 2857: expected 1 fields, saw 2\\nSkipping line 2860: expected 1 fields, saw 4\\nSkipping line 2861: expected 1 fields, saw 4\\nSkipping line 2862: expected 1 fields, saw 2\\nSkipping line 2863: expected 1 fields, saw 2\\nSkipping line 2864: expected 1 fields, saw 5\\nSkipping line 2866: expected 1 fields, saw 2\\nSkipping line 2867: expected 1 fields, saw 2\\nSkipping line 2868: expected 1 fields, saw 4\\nSkipping line 2871: expected 1 fields, saw 3\\nSkipping line 2872: expected 1 fields, saw 5\\nSkipping line 2873: expected 1 fields, saw 7\\nSkipping line 2874: expected 1 fields, saw 14\\nSkipping line 2875: expected 1 fields, saw 3\\nSkipping line 2876: expected 1 fields, saw 4\\nSkipping line 2877: expected 1 fields, saw 2\\nSkipping line 2878: expected 1 fields, saw 3\\nSkipping line 2880: expected 1 fields, saw 2\\nSkipping line 2881: expected 1 fields, saw 3\\nSkipping line 2883: expected 1 fields, saw 3\\nSkipping line 2884: expected 1 fields, saw 12\\nSkipping line 2885: expected 1 fields, saw 6\\nSkipping line 2886: expected 1 fields, saw 3\\nSkipping line 2887: expected 1 fields, saw 2\\nSkipping line 2888: expected 1 fields, saw 7\\nSkipping line 2889: expected 1 fields, saw 10\\nSkipping line 2890: expected 1 fields, saw 5\\nSkipping line 2891: expected 1 fields, saw 3\\nSkipping line 2892: expected 1 fields, saw 4\\nSkipping line 2893: expected 1 fields, saw 5\\nSkipping line 2894: expected 1 fields, saw 5\\nSkipping line 2895: expected 1 fields, saw 13\\nSkipping line 2896: expected 1 fields, saw 5\\nSkipping line 2897: expected 1 fields, saw 6\\nSkipping line 2898: expected 1 fields, saw 3\\nSkipping line 2899: expected 1 fields, saw 3\\nSkipping line 2900: expected 1 fields, saw 3\\nSkipping line 2901: expected 1 fields, saw 3\\nSkipping line 2902: expected 1 fields, saw 4\\nSkipping line 2903: expected 1 fields, saw 4\\nSkipping line 2905: expected 1 fields, saw 2\\nSkipping line 2907: expected 1 fields, saw 4\\nSkipping line 2909: expected 1 fields, saw 3\\nSkipping line 2910: expected 1 fields, saw 6\\nSkipping line 2911: expected 1 fields, saw 4\\nSkipping line 2912: expected 1 fields, saw 4\\nSkipping line 2913: expected 1 fields, saw 5\\nSkipping line 2914: expected 1 fields, saw 2\\nSkipping line 2915: expected 1 fields, saw 3\\nSkipping line 2916: expected 1 fields, saw 3\\nSkipping line 2918: expected 1 fields, saw 4\\nSkipping line 2919: expected 1 fields, saw 6\\nSkipping line 2920: expected 1 fields, saw 2\\nSkipping line 2921: expected 1 fields, saw 3\\nSkipping line 2922: expected 1 fields, saw 5\\nSkipping line 2923: expected 1 fields, saw 4\\nSkipping line 2924: expected 1 fields, saw 2\\nSkipping line 2925: expected 1 fields, saw 6\\nSkipping line 2926: expected 1 fields, saw 4\\nSkipping line 2927: expected 1 fields, saw 2\\nSkipping line 2928: expected 1 fields, saw 4\\nSkipping line 2929: expected 1 fields, saw 3\\nSkipping line 2930: expected 1 fields, saw 3\\nSkipping line 2931: expected 1 fields, saw 2\\nSkipping line 2932: expected 1 fields, saw 6\\nSkipping line 2933: expected 1 fields, saw 7\\nSkipping line 2934: expected 1 fields, saw 3\\nSkipping line 2936: expected 1 fields, saw 3\\nSkipping line 2937: expected 1 fields, saw 7\\nSkipping line 2939: expected 1 fields, saw 7\\nSkipping line 2940: expected 1 fields, saw 4\\nSkipping line 2941: expected 1 fields, saw 2\\nSkipping line 2942: expected 1 fields, saw 2\\nSkipping line 2945: expected 1 fields, saw 4\\nSkipping line 2946: expected 1 fields, saw 6\\nSkipping line 2947: expected 1 fields, saw 5\\nSkipping line 2948: expected 1 fields, saw 3\\nSkipping line 2949: expected 1 fields, saw 2\\nSkipping line 2950: expected 1 fields, saw 4\\nSkipping line 2951: expected 1 fields, saw 6\\nSkipping line 2952: expected 1 fields, saw 2\\nSkipping line 2953: expected 1 fields, saw 2\\nSkipping line 2956: expected 1 fields, saw 4\\nSkipping line 2958: expected 1 fields, saw 4\\nSkipping line 2960: expected 1 fields, saw 5\\nSkipping line 2961: expected 1 fields, saw 3\\nSkipping line 2962: expected 1 fields, saw 4\\nSkipping line 2963: expected 1 fields, saw 5\\nSkipping line 2965: expected 1 fields, saw 3\\nSkipping line 2967: expected 1 fields, saw 8\\nSkipping line 2968: expected 1 fields, saw 3\\nSkipping line 2969: expected 1 fields, saw 4\\nSkipping line 2970: expected 1 fields, saw 3\\nSkipping line 2972: expected 1 fields, saw 2\\nSkipping line 2973: expected 1 fields, saw 3\\nSkipping line 2974: expected 1 fields, saw 2\\nSkipping line 2975: expected 1 fields, saw 5\\nSkipping line 2976: expected 1 fields, saw 4\\nSkipping line 2978: expected 1 fields, saw 4\\nSkipping line 2979: expected 1 fields, saw 5\\nSkipping line 2980: expected 1 fields, saw 2\\nSkipping line 2981: expected 1 fields, saw 3\\nSkipping line 2984: expected 1 fields, saw 6\\nSkipping line 2986: expected 1 fields, saw 2\\nSkipping line 2988: expected 1 fields, saw 2\\nSkipping line 2989: expected 1 fields, saw 3\\nSkipping line 2991: expected 1 fields, saw 5\\nSkipping line 2992: expected 1 fields, saw 2\\nSkipping line 2995: expected 1 fields, saw 6\\nSkipping line 2996: expected 1 fields, saw 2\\nSkipping line 2997: expected 1 fields, saw 3\\nSkipping line 2998: expected 1 fields, saw 5\\nSkipping line 3000: expected 1 fields, saw 3\\nSkipping line 3002: expected 1 fields, saw 7\\nSkipping line 3003: expected 1 fields, saw 4\\nSkipping line 3004: expected 1 fields, saw 3\\nSkipping line 3005: expected 1 fields, saw 2\\nSkipping line 3006: expected 1 fields, saw 2\\nSkipping line 3008: expected 1 fields, saw 3\\nSkipping line 3009: expected 1 fields, saw 4\\nSkipping line 3011: expected 1 fields, saw 2\\nSkipping line 3012: expected 1 fields, saw 3\\nSkipping line 3013: expected 1 fields, saw 3\\nSkipping line 3014: expected 1 fields, saw 3\\nSkipping line 3015: expected 1 fields, saw 2\\nSkipping line 3016: expected 1 fields, saw 6\\nSkipping line 3019: expected 1 fields, saw 5\\nSkipping line 3020: expected 1 fields, saw 2\\nSkipping line 3021: expected 1 fields, saw 7\\nSkipping line 3022: expected 1 fields, saw 2\\nSkipping line 3023: expected 1 fields, saw 2\\nSkipping line 3025: expected 1 fields, saw 2\\nSkipping line 3026: expected 1 fields, saw 3\\nSkipping line 3028: expected 1 fields, saw 5\\nSkipping line 3029: expected 1 fields, saw 3\\nSkipping line 3030: expected 1 fields, saw 3\\nSkipping line 3031: expected 1 fields, saw 3\\nSkipping line 3034: expected 1 fields, saw 3\\nSkipping line 3036: expected 1 fields, saw 4\\nSkipping line 3037: expected 1 fields, saw 4\\nSkipping line 3039: expected 1 fields, saw 6\\nSkipping line 3040: expected 1 fields, saw 2\\nSkipping line 3041: expected 1 fields, saw 2\\nSkipping line 3043: expected 1 fields, saw 2\\nSkipping line 3044: expected 1 fields, saw 4\\nSkipping line 3046: expected 1 fields, saw 3\\nSkipping line 3050: expected 1 fields, saw 2\\nSkipping line 3055: expected 1 fields, saw 7\\nSkipping line 3070: expected 1 fields, saw 7\\nSkipping line 3072: expected 1 fields, saw 3\\nSkipping line 3082: expected 1 fields, saw 3\\nSkipping line 3083: expected 1 fields, saw 8\\nSkipping line 3084: expected 1 fields, saw 8\\nSkipping line 3087: expected 1 fields, saw 2\\nSkipping line 3088: expected 1 fields, saw 13\\nSkipping line 3093: expected 1 fields, saw 3\\nSkipping line 3106: expected 1 fields, saw 2\\nSkipping line 3109: expected 1 fields, saw 2\\nSkipping line 3118: expected 1 fields, saw 2\\nSkipping line 3119: expected 1 fields, saw 2\\nSkipping line 3123: expected 1 fields, saw 2\\nSkipping line 3126: expected 1 fields, saw 2\\nSkipping line 3132: expected 1 fields, saw 2\\nSkipping line 3140: expected 1 fields, saw 2\\nSkipping line 3149: expected 1 fields, saw 2\\nSkipping line 3165: expected 1 fields, saw 2\\nSkipping line 3167: expected 1 fields, saw 3\\nSkipping line 3177: expected 1 fields, saw 2\\nSkipping line 3178: expected 1 fields, saw 3\\nSkipping line 3192: expected 1 fields, saw 2\\nSkipping line 3195: expected 1 fields, saw 2\\nSkipping line 3197: expected 1 fields, saw 4\\nSkipping line 3205: expected 1 fields, saw 3\\nSkipping line 3209: expected 1 fields, saw 2\\nSkipping line 3211: expected 1 fields, saw 2\\nSkipping line 3224: expected 1 fields, saw 3\\nSkipping line 3225: expected 1 fields, saw 3\\nSkipping line 3233: expected 1 fields, saw 3\\nSkipping line 3246: expected 1 fields, saw 4\\nSkipping line 3247: expected 1 fields, saw 2\\nSkipping line 3250: expected 1 fields, saw 3\\nSkipping line 3251: expected 1 fields, saw 3\\nSkipping line 3267: expected 1 fields, saw 3\\nSkipping line 3277: expected 1 fields, saw 2\\nSkipping line 3286: expected 1 fields, saw 3\\nSkipping line 3289: expected 1 fields, saw 2\\nSkipping line 3297: expected 1 fields, saw 2\\nSkipping line 3307: expected 1 fields, saw 2\\nSkipping line 3308: expected 1 fields, saw 3\\nSkipping line 3314: expected 1 fields, saw 2\\nSkipping line 3317: expected 1 fields, saw 2\\nSkipping line 3321: expected 1 fields, saw 3\\nSkipping line 3336: expected 1 fields, saw 4\\nSkipping line 3339: expected 1 fields, saw 2\\nSkipping line 3343: expected 1 fields, saw 3\\nSkipping line 3352: expected 1 fields, saw 3\\nSkipping line 3363: expected 1 fields, saw 3\\nSkipping line 3367: expected 1 fields, saw 2\\nSkipping line 3385: expected 1 fields, saw 2\\nSkipping line 3387: expected 1 fields, saw 2\\nSkipping line 3388: expected 1 fields, saw 2\\nSkipping line 3390: expected 1 fields, saw 2\\nSkipping line 3393: expected 1 fields, saw 3\\nSkipping line 3400: expected 1 fields, saw 2\\nSkipping line 3403: expected 1 fields, saw 2\\nSkipping line 3406: expected 1 fields, saw 3\\nSkipping line 3428: expected 1 fields, saw 2\\nSkipping line 3453: expected 1 fields, saw 3\\nSkipping line 3457: expected 1 fields, saw 3\\nSkipping line 3462: expected 1 fields, saw 2\\nSkipping line 3464: expected 1 fields, saw 4\\nSkipping line 3465: expected 1 fields, saw 2\\nSkipping line 3470: expected 1 fields, saw 2\\nSkipping line 3471: expected 1 fields, saw 2\\nSkipping line 3475: expected 1 fields, saw 2\\nSkipping line 3477: expected 1 fields, saw 2\\nSkipping line 3478: expected 1 fields, saw 6\\nSkipping line 3481: expected 1 fields, saw 3\\nSkipping line 3484: expected 1 fields, saw 2\\nSkipping line 3489: expected 1 fields, saw 3\\nSkipping line 3492: expected 1 fields, saw 4\\nSkipping line 3493: expected 1 fields, saw 2\\nSkipping line 3494: expected 1 fields, saw 3\\nSkipping line 3501: expected 1 fields, saw 2\\nSkipping line 3511: expected 1 fields, saw 3\\nSkipping line 3514: expected 1 fields, saw 3\\nSkipping line 3515: expected 1 fields, saw 2\\nSkipping line 3525: expected 1 fields, saw 2\\nSkipping line 3527: expected 1 fields, saw 2\\nSkipping line 3537: expected 1 fields, saw 3\\nSkipping line 3539: expected 1 fields, saw 2\\nSkipping line 3550: expected 1 fields, saw 2\\nSkipping line 3562: expected 1 fields, saw 3\\nSkipping line 3576: expected 1 fields, saw 3\\nSkipping line 3581: expected 1 fields, saw 2\\nSkipping line 3584: expected 1 fields, saw 2\\nSkipping line 3586: expected 1 fields, saw 2\\nSkipping line 3587: expected 1 fields, saw 2\\nSkipping line 3594: expected 1 fields, saw 2\\nSkipping line 3616: expected 1 fields, saw 3\\nSkipping line 3624: expected 1 fields, saw 2\\nSkipping line 3626: expected 1 fields, saw 2\\nSkipping line 3627: expected 1 fields, saw 2\\nSkipping line 3634: expected 1 fields, saw 2\\nSkipping line 3642: expected 1 fields, saw 3\\nSkipping line 3646: expected 1 fields, saw 2\\nSkipping line 3647: expected 1 fields, saw 3\\nSkipping line 3652: expected 1 fields, saw 3\\nSkipping line 3656: expected 1 fields, saw 2\\nSkipping line 3658: expected 1 fields, saw 3\\nSkipping line 3673: expected 1 fields, saw 2\\nSkipping line 3682: expected 1 fields, saw 3\\nSkipping line 3688: expected 1 fields, saw 2\\nSkipping line 3694: expected 1 fields, saw 2\\nSkipping line 3698: expected 1 fields, saw 2\\nSkipping line 3707: expected 1 fields, saw 2\\nSkipping line 3708: expected 1 fields, saw 2\\nSkipping line 3717: expected 1 fields, saw 2\\nSkipping line 3719: expected 1 fields, saw 3\\nSkipping line 3732: expected 1 fields, saw 3\\nSkipping line 3735: expected 1 fields, saw 2\\nSkipping line 3736: expected 1 fields, saw 2\\nSkipping line 3737: expected 1 fields, saw 2\\nSkipping line 3739: expected 1 fields, saw 2\\nSkipping line 3741: expected 1 fields, saw 2\\nSkipping line 3759: expected 1 fields, saw 3\\nSkipping line 3760: expected 1 fields, saw 2\\nSkipping line 3762: expected 1 fields, saw 2\\nSkipping line 3764: expected 1 fields, saw 3\\nSkipping line 3765: expected 1 fields, saw 2\\nSkipping line 3769: expected 1 fields, saw 2\\nSkipping line 3775: expected 1 fields, saw 2\\nSkipping line 3776: expected 1 fields, saw 3\\nSkipping line 3778: expected 1 fields, saw 3\\nSkipping line 3787: expected 1 fields, saw 2\\nSkipping line 3788: expected 1 fields, saw 3\\nSkipping line 3794: expected 1 fields, saw 3\\nSkipping line 3803: expected 1 fields, saw 3\\nSkipping line 3807: expected 1 fields, saw 2\\nSkipping line 3810: expected 1 fields, saw 2\\nSkipping line 3826: expected 1 fields, saw 2\\nSkipping line 3829: expected 1 fields, saw 3\\nSkipping line 3832: expected 1 fields, saw 2\\nSkipping line 3835: expected 1 fields, saw 2\\nSkipping line 3838: expected 1 fields, saw 2\\nSkipping line 3845: expected 1 fields, saw 3\\nSkipping line 3850: expected 1 fields, saw 3\\nSkipping line 3854: expected 1 fields, saw 2\\nSkipping line 3858: expected 1 fields, saw 3\\nSkipping line 3869: expected 1 fields, saw 3\\nSkipping line 3890: expected 1 fields, saw 2\\nSkipping line 3895: expected 1 fields, saw 3\\nSkipping line 3902: expected 1 fields, saw 2\\nSkipping line 3908: expected 1 fields, saw 3\\nSkipping line 3931: expected 1 fields, saw 2\\nSkipping line 3935: expected 1 fields, saw 3\\nSkipping line 3936: expected 1 fields, saw 2\\nSkipping line 3938: expected 1 fields, saw 2\\nSkipping line 3953: expected 1 fields, saw 2\\nSkipping line 3957: expected 1 fields, saw 3\\nSkipping line 3958: expected 1 fields, saw 2\\nSkipping line 3960: expected 1 fields, saw 2\\nSkipping line 3961: expected 1 fields, saw 2\\nSkipping line 3964: expected 1 fields, saw 2\\nSkipping line 3972: expected 1 fields, saw 3\\nSkipping line 3973: expected 1 fields, saw 2\\nSkipping line 3979: expected 1 fields, saw 2\\nSkipping line 3981: expected 1 fields, saw 2\\nSkipping line 3984: expected 1 fields, saw 2\\nSkipping line 3987: expected 1 fields, saw 2\\nSkipping line 3990: expected 1 fields, saw 2\\nSkipping line 3996: expected 1 fields, saw 2\\nSkipping line 3998: expected 1 fields, saw 2\\nSkipping line 4007: expected 1 fields, saw 2\\nSkipping line 4019: expected 1 fields, saw 2\\nSkipping line 4023: expected 1 fields, saw 4\\nSkipping line 4027: expected 1 fields, saw 2\\nSkipping line 4036: expected 1 fields, saw 2\\nSkipping line 4040: expected 1 fields, saw 2\\nSkipping line 4044: expected 1 fields, saw 2\\nSkipping line 4051: expected 1 fields, saw 2\\nSkipping line 4056: expected 1 fields, saw 4\\nSkipping line 4058: expected 1 fields, saw 2\\nSkipping line 4061: expected 1 fields, saw 2\\nSkipping line 4062: expected 1 fields, saw 2\\nSkipping line 4065: expected 1 fields, saw 2\\nSkipping line 4067: expected 1 fields, saw 5\\nSkipping line 4068: expected 1 fields, saw 2\\nSkipping line 4070: expected 1 fields, saw 2\\nSkipping line 4084: expected 1 fields, saw 2\\nSkipping line 4128: expected 1 fields, saw 3\\nSkipping line 4143: expected 1 fields, saw 2\\nSkipping line 4158: expected 1 fields, saw 2\\nSkipping line 4160: expected 1 fields, saw 2\\nSkipping line 4164: expected 1 fields, saw 3\\nSkipping line 4166: expected 1 fields, saw 3\\nSkipping line 4170: expected 1 fields, saw 2\\nSkipping line 4172: expected 1 fields, saw 2\\nSkipping line 4176: expected 1 fields, saw 3\\nSkipping line 4179: expected 1 fields, saw 4\\nSkipping line 4182: expected 1 fields, saw 3\\nSkipping line 4192: expected 1 fields, saw 2\\nSkipping line 4202: expected 1 fields, saw 3\\nSkipping line 4206: expected 1 fields, saw 2\\nSkipping line 4208: expected 1 fields, saw 3\\nSkipping line 4221: expected 1 fields, saw 2\\nSkipping line 4235: expected 1 fields, saw 2\\nSkipping line 4238: expected 1 fields, saw 3\\nSkipping line 4252: expected 1 fields, saw 2\\nSkipping line 4256: expected 1 fields, saw 3\\nSkipping line 4264: expected 1 fields, saw 2\\nSkipping line 4286: expected 1 fields, saw 2\\nSkipping line 4293: expected 1 fields, saw 2\\nSkipping line 4294: expected 1 fields, saw 2\\nSkipping line 4327: expected 1 fields, saw 2\\nSkipping line 4342: expected 1 fields, saw 2\\nSkipping line 4344: expected 1 fields, saw 3\\nSkipping line 4345: expected 1 fields, saw 2\\nSkipping line 4358: expected 1 fields, saw 3\\nSkipping line 4362: expected 1 fields, saw 2\\nSkipping line 4368: expected 1 fields, saw 2\\nSkipping line 4375: expected 1 fields, saw 2\\nSkipping line 4385: expected 1 fields, saw 2\\nSkipping line 4392: expected 1 fields, saw 2\\nSkipping line 4424: expected 1 fields, saw 2\\nSkipping line 4439: expected 1 fields, saw 2\\nSkipping line 4442: expected 1 fields, saw 3\\nSkipping line 4444: expected 1 fields, saw 2\\nSkipping line 4448: expected 1 fields, saw 2\\nSkipping line 4460: expected 1 fields, saw 2\\nSkipping line 4461: expected 1 fields, saw 3\\nSkipping line 4465: expected 1 fields, saw 3\\nSkipping line 4467: expected 1 fields, saw 2\\nSkipping line 4471: expected 1 fields, saw 2\\nSkipping line 4472: expected 1 fields, saw 3\\nSkipping line 4478: expected 1 fields, saw 3\\nSkipping line 4490: expected 1 fields, saw 2\\nSkipping line 4493: expected 1 fields, saw 3\\nSkipping line 4498: expected 1 fields, saw 2\\nSkipping line 4501: expected 1 fields, saw 2\\nSkipping line 4504: expected 1 fields, saw 2\\nSkipping line 4512: expected 1 fields, saw 3\\nSkipping line 4522: expected 1 fields, saw 2\\nSkipping line 4523: expected 1 fields, saw 3\\nSkipping line 4537: expected 1 fields, saw 2\\nSkipping line 4538: expected 1 fields, saw 2\\nSkipping line 4540: expected 1 fields, saw 5\\nSkipping line 4545: expected 1 fields, saw 2\\nSkipping line 4551: expected 1 fields, saw 2\\nSkipping line 4563: expected 1 fields, saw 2\\nSkipping line 4568: expected 1 fields, saw 2\\nSkipping line 4570: expected 1 fields, saw 2\\nSkipping line 4571: expected 1 fields, saw 5\\nSkipping line 4574: expected 1 fields, saw 2\\nSkipping line 4595: expected 1 fields, saw 5\\nSkipping line 4596: expected 1 fields, saw 3\\nSkipping line 4602: expected 1 fields, saw 3\\nSkipping line 4625: expected 1 fields, saw 2\\nSkipping line 4634: expected 1 fields, saw 2\\nSkipping line 4636: expected 1 fields, saw 2\\nSkipping line 4637: expected 1 fields, saw 2\\nSkipping line 4659: expected 1 fields, saw 3\\nSkipping line 4661: expected 1 fields, saw 2\\nSkipping line 4664: expected 1 fields, saw 5\\nSkipping line 4670: expected 1 fields, saw 2\\nSkipping line 4679: expected 1 fields, saw 3\\nSkipping line 4684: expected 1 fields, saw 3\\nSkipping line 4701: expected 1 fields, saw 2\\nSkipping line 4706: expected 1 fields, saw 4\\nSkipping line 4709: expected 1 fields, saw 2\\nSkipping line 4710: expected 1 fields, saw 2\\nSkipping line 4715: expected 1 fields, saw 2\\nSkipping line 4717: expected 1 fields, saw 2\\nSkipping line 4721: expected 1 fields, saw 2\\nSkipping line 4729: expected 1 fields, saw 2\\nSkipping line 4730: expected 1 fields, saw 2\\nSkipping line 4732: expected 1 fields, saw 3\\nSkipping line 4735: expected 1 fields, saw 2\\nSkipping line 4740: expected 1 fields, saw 2\\nSkipping line 4742: expected 1 fields, saw 2\\nSkipping line 4749: expected 1 fields, saw 2\\nSkipping line 4752: expected 1 fields, saw 2\\nSkipping line 4761: expected 1 fields, saw 4\\nSkipping line 4764: expected 1 fields, saw 5\\nSkipping line 4770: expected 1 fields, saw 2\\nSkipping line 4787: expected 1 fields, saw 2\\nSkipping line 4798: expected 1 fields, saw 3\\nSkipping line 4809: expected 1 fields, saw 3\\nSkipping line 4812: expected 1 fields, saw 3\\nSkipping line 4820: expected 1 fields, saw 3\\nSkipping line 4830: expected 1 fields, saw 3\\nSkipping line 4834: expected 1 fields, saw 2\\nSkipping line 4839: expected 1 fields, saw 2\\nSkipping line 4841: expected 1 fields, saw 2\\nSkipping line 4842: expected 1 fields, saw 3\\nSkipping line 4851: expected 1 fields, saw 2\\nSkipping line 4853: expected 1 fields, saw 2\\nSkipping line 4854: expected 1 fields, saw 2\\nSkipping line 4857: expected 1 fields, saw 2\\nSkipping line 4859: expected 1 fields, saw 3\\nSkipping line 4866: expected 1 fields, saw 3\\nSkipping line 4868: expected 1 fields, saw 3\\nSkipping line 4872: expected 1 fields, saw 2\\nSkipping line 4875: expected 1 fields, saw 2\\nSkipping line 4882: expected 1 fields, saw 2\\nSkipping line 4884: expected 1 fields, saw 2\\nSkipping line 4894: expected 1 fields, saw 2\\nSkipping line 4899: expected 1 fields, saw 3\\nSkipping line 4907: expected 1 fields, saw 3\\nSkipping line 4918: expected 1 fields, saw 3\\nSkipping line 4924: expected 1 fields, saw 2\\nSkipping line 4926: expected 1 fields, saw 2\\nSkipping line 4927: expected 1 fields, saw 3\\nSkipping line 4928: expected 1 fields, saw 2\\nSkipping line 4929: expected 1 fields, saw 3\\nSkipping line 4931: expected 1 fields, saw 2\\nSkipping line 4943: expected 1 fields, saw 2\\nSkipping line 4944: expected 1 fields, saw 2\\nSkipping line 4947: expected 1 fields, saw 2\\nSkipping line 4963: expected 1 fields, saw 2\\nSkipping line 4964: expected 1 fields, saw 3\\nSkipping line 4965: expected 1 fields, saw 2\\nSkipping line 4970: expected 1 fields, saw 2\\nSkipping line 4972: expected 1 fields, saw 2\\nSkipping line 4973: expected 1 fields, saw 2\\nSkipping line 4978: expected 1 fields, saw 2\\nSkipping line 4988: expected 1 fields, saw 2\\nSkipping line 5001: expected 1 fields, saw 3\\nSkipping line 5004: expected 1 fields, saw 2\\nSkipping line 5021: expected 1 fields, saw 3\\nSkipping line 5022: expected 1 fields, saw 3\\nSkipping line 5025: expected 1 fields, saw 2\\nSkipping line 5026: expected 1 fields, saw 3\\nSkipping line 5028: expected 1 fields, saw 2\\nSkipping line 5038: expected 1 fields, saw 2\\nSkipping line 5042: expected 1 fields, saw 2\\nSkipping line 5043: expected 1 fields, saw 2\\nSkipping line 5050: expected 1 fields, saw 2\\nSkipping line 5053: expected 1 fields, saw 3\\nSkipping line 5067: expected 1 fields, saw 2\\nSkipping line 5074: expected 1 fields, saw 2\\nSkipping line 5075: expected 1 fields, saw 2\\nSkipping line 5081: expected 1 fields, saw 3\\nSkipping line 5089: expected 1 fields, saw 2\\nSkipping line 5094: expected 1 fields, saw 2\\n'\n"
          ],
          "name": "stderr"
        },
        {
          "output_type": "stream",
          "text": [
            "['5.000', 'A plane is taking off.', 'An air plane is taking off.']\n",
            "['3.800', 'A man is playing a large flute.', 'A man is playing a flute.']\n",
            "['3.800', 'A man is spreading shreded cheese on a pizza.', 'A man is spreading shredded cheese on an uncooked pizza.']\n",
            "['2.600', 'Three men are playing chess.', 'Two men are playing chess.']\n",
            "['4.250', 'A man is playing the cello.', 'A man seated is playing the cello.']\n"
          ],
          "name": "stdout"
        }
      ]
    },
    {
      "cell_type": "code",
      "metadata": {
        "id": "r22RWoZzvhTq"
      },
      "source": [
        "train_data=pd.DataFrame(train_data[:]) "
      ],
      "execution_count": null,
      "outputs": []
    },
    {
      "cell_type": "code",
      "metadata": {
        "colab": {
          "base_uri": "https://localhost:8080/",
          "height": 202
        },
        "id": "MqfHqx23KrEO",
        "outputId": "63a90a74-6d37-450b-e0bc-04161aee642c"
      },
      "source": [
        "train_data.head()"
      ],
      "execution_count": null,
      "outputs": [
        {
          "output_type": "execute_result",
          "data": {
            "text/html": [
              "<div>\n",
              "<style scoped>\n",
              "    .dataframe tbody tr th:only-of-type {\n",
              "        vertical-align: middle;\n",
              "    }\n",
              "\n",
              "    .dataframe tbody tr th {\n",
              "        vertical-align: top;\n",
              "    }\n",
              "\n",
              "    .dataframe thead th {\n",
              "        text-align: right;\n",
              "    }\n",
              "</style>\n",
              "<table border=\"1\" class=\"dataframe\">\n",
              "  <thead>\n",
              "    <tr style=\"text-align: right;\">\n",
              "      <th></th>\n",
              "      <th>0</th>\n",
              "      <th>1</th>\n",
              "      <th>2</th>\n",
              "    </tr>\n",
              "  </thead>\n",
              "  <tbody>\n",
              "    <tr>\n",
              "      <th>0</th>\n",
              "      <td>5.000</td>\n",
              "      <td>A plane is taking off.</td>\n",
              "      <td>An air plane is taking off.</td>\n",
              "    </tr>\n",
              "    <tr>\n",
              "      <th>1</th>\n",
              "      <td>3.800</td>\n",
              "      <td>A man is playing a large flute.</td>\n",
              "      <td>A man is playing a flute.</td>\n",
              "    </tr>\n",
              "    <tr>\n",
              "      <th>2</th>\n",
              "      <td>3.800</td>\n",
              "      <td>A man is spreading shreded cheese on a pizza.</td>\n",
              "      <td>A man is spreading shredded cheese on an uncoo...</td>\n",
              "    </tr>\n",
              "    <tr>\n",
              "      <th>3</th>\n",
              "      <td>2.600</td>\n",
              "      <td>Three men are playing chess.</td>\n",
              "      <td>Two men are playing chess.</td>\n",
              "    </tr>\n",
              "    <tr>\n",
              "      <th>4</th>\n",
              "      <td>4.250</td>\n",
              "      <td>A man is playing the cello.</td>\n",
              "      <td>A man seated is playing the cello.</td>\n",
              "    </tr>\n",
              "  </tbody>\n",
              "</table>\n",
              "</div>"
            ],
            "text/plain": [
              "       0  ...                                                  2\n",
              "0  5.000  ...                        An air plane is taking off.\n",
              "1  3.800  ...                          A man is playing a flute.\n",
              "2  3.800  ...  A man is spreading shredded cheese on an uncoo...\n",
              "3  2.600  ...                         Two men are playing chess.\n",
              "4  4.250  ...                 A man seated is playing the cello.\n",
              "\n",
              "[5 rows x 3 columns]"
            ]
          },
          "metadata": {
            "tags": []
          },
          "execution_count": 77
        }
      ]
    },
    {
      "cell_type": "code",
      "metadata": {
        "colab": {
          "base_uri": "https://localhost:8080/"
        },
        "id": "mqHqU4D7Pc9O",
        "outputId": "c52e4dda-336b-453f-eecd-04c9af4ab9a2"
      },
      "source": [
        "train_data.shape"
      ],
      "execution_count": null,
      "outputs": [
        {
          "output_type": "execute_result",
          "data": {
            "text/plain": [
              "(4137, 3)"
            ]
          },
          "metadata": {
            "tags": []
          },
          "execution_count": 78
        }
      ]
    },
    {
      "cell_type": "code",
      "metadata": {
        "colab": {
          "base_uri": "https://localhost:8080/"
        },
        "id": "AzqEQIK9Qk0D",
        "outputId": "8805187f-90ee-4bf5-c4ea-bea9db1030c7"
      },
      "source": [
        "len(trial_data)"
      ],
      "execution_count": null,
      "outputs": [
        {
          "output_type": "execute_result",
          "data": {
            "text/plain": [
              "882"
            ]
          },
          "metadata": {
            "tags": []
          },
          "execution_count": 79
        }
      ]
    },
    {
      "cell_type": "code",
      "metadata": {
        "id": "a18f9GHCPi_6"
      },
      "source": [
        "test_data=pd.DataFrame(test_data[:])\n",
        "trial_data=pd.DataFrame(trial_data[:])\n",
        "test_data.rename(columns={0:\"sim\",1:\"sent_1\",2:\"sent_2\"},inplace=True)\n",
        "trial_data.rename(columns={0:\"sim\",1:\"sent_1\",2:\"sent_2\"},inplace=True)\n",
        "train_data.rename(columns={0:\"sim\",1:\"sent_1\",2:\"sent_2\"},inplace=True)"
      ],
      "execution_count": null,
      "outputs": []
    },
    {
      "cell_type": "code",
      "metadata": {
        "colab": {
          "base_uri": "https://localhost:8080/",
          "height": 202
        },
        "id": "IY9ngYTWdrra",
        "outputId": "97d4e665-7510-4479-e89d-c038c4733766"
      },
      "source": [
        "test_data.head()"
      ],
      "execution_count": null,
      "outputs": [
        {
          "output_type": "execute_result",
          "data": {
            "text/html": [
              "<div>\n",
              "<style scoped>\n",
              "    .dataframe tbody tr th:only-of-type {\n",
              "        vertical-align: middle;\n",
              "    }\n",
              "\n",
              "    .dataframe tbody tr th {\n",
              "        vertical-align: top;\n",
              "    }\n",
              "\n",
              "    .dataframe thead th {\n",
              "        text-align: right;\n",
              "    }\n",
              "</style>\n",
              "<table border=\"1\" class=\"dataframe\">\n",
              "  <thead>\n",
              "    <tr style=\"text-align: right;\">\n",
              "      <th></th>\n",
              "      <th>sim</th>\n",
              "      <th>sent_1</th>\n",
              "      <th>sent_2</th>\n",
              "    </tr>\n",
              "  </thead>\n",
              "  <tbody>\n",
              "    <tr>\n",
              "      <th>0</th>\n",
              "      <td>2.500</td>\n",
              "      <td>A girl is styling her hair.</td>\n",
              "      <td>A girl is brushing her hair.</td>\n",
              "    </tr>\n",
              "    <tr>\n",
              "      <th>1</th>\n",
              "      <td>3.600</td>\n",
              "      <td>A group of men play soccer on the beach.</td>\n",
              "      <td>A group of boys are playing soccer on the beach.</td>\n",
              "    </tr>\n",
              "    <tr>\n",
              "      <th>2</th>\n",
              "      <td>5.000</td>\n",
              "      <td>One woman is measuring another woman's ankle.</td>\n",
              "      <td>A woman measures another woman's ankle.</td>\n",
              "    </tr>\n",
              "    <tr>\n",
              "      <th>3</th>\n",
              "      <td>4.200</td>\n",
              "      <td>A man is cutting up a cucumber.</td>\n",
              "      <td>A man is slicing a cucumber.</td>\n",
              "    </tr>\n",
              "    <tr>\n",
              "      <th>4</th>\n",
              "      <td>1.500</td>\n",
              "      <td>A man is playing a harp.</td>\n",
              "      <td>A man is playing a keyboard.</td>\n",
              "    </tr>\n",
              "  </tbody>\n",
              "</table>\n",
              "</div>"
            ],
            "text/plain": [
              "     sim  ...                                            sent_2\n",
              "0  2.500  ...                      A girl is brushing her hair.\n",
              "1  3.600  ...  A group of boys are playing soccer on the beach.\n",
              "2  5.000  ...           A woman measures another woman's ankle.\n",
              "3  4.200  ...                      A man is slicing a cucumber.\n",
              "4  1.500  ...                      A man is playing a keyboard.\n",
              "\n",
              "[5 rows x 3 columns]"
            ]
          },
          "metadata": {
            "tags": []
          },
          "execution_count": 81
        }
      ]
    },
    {
      "cell_type": "markdown",
      "metadata": {
        "id": "EwrDzzRwcw7b"
      },
      "source": [
        "#Normalization"
      ]
    },
    {
      "cell_type": "code",
      "metadata": {
        "id": "XC-ee9TmVg8Q"
      },
      "source": [
        "def normalize(df, feature_names):\n",
        "    result = df.copy()\n",
        "    for feature_name in feature_names:\n",
        "        max_value = df[feature_name].max()\n",
        "        min_value = df[feature_name].min()\n",
        "        result[feature_name] = (df[feature_name] - min_value) / (max_value - min_value)\n",
        "    return result"
      ],
      "execution_count": null,
      "outputs": []
    },
    {
      "cell_type": "code",
      "metadata": {
        "colab": {
          "base_uri": "https://localhost:8080/"
        },
        "id": "mAbmuSQEdQvT",
        "outputId": "7df737d2-d7a7-40cc-d6cb-72cbddb46cd6"
      },
      "source": [
        "test_data.iloc[10,:]"
      ],
      "execution_count": null,
      "outputs": [
        {
          "output_type": "execute_result",
          "data": {
            "text/plain": [
              "sim                             1.714\n",
              "sent_1     A man is playing a guitar.\n",
              "sent_2    A man is playing a trumpet.\n",
              "Name: 10, dtype: object"
            ]
          },
          "metadata": {
            "tags": []
          },
          "execution_count": 83
        }
      ]
    },
    {
      "cell_type": "code",
      "metadata": {
        "id": "bhQqjGeLd5lc"
      },
      "source": [
        "test_data['sim'] = test_data['sim'].astype(float)\n",
        "train_data['sim']=train_data['sim'].astype(float)\n",
        "trial_data['sim']=trial_data['sim'].astype(float)"
      ],
      "execution_count": null,
      "outputs": []
    },
    {
      "cell_type": "code",
      "metadata": {
        "id": "WAyO5FnHczvQ"
      },
      "source": [
        "test_data = normalize(test_data,['sim'])\n",
        "train_data = normalize(train_data,['sim'])\n",
        "trial_data = normalize(trial_data,['sim'])"
      ],
      "execution_count": null,
      "outputs": []
    },
    {
      "cell_type": "code",
      "metadata": {
        "colab": {
          "base_uri": "https://localhost:8080/",
          "height": 202
        },
        "id": "hd5_ZFaYRLFn",
        "outputId": "b0fc0a9b-2542-443b-9767-43ac1c7529ff"
      },
      "source": [
        "train_data.head()"
      ],
      "execution_count": null,
      "outputs": [
        {
          "output_type": "execute_result",
          "data": {
            "text/html": [
              "<div>\n",
              "<style scoped>\n",
              "    .dataframe tbody tr th:only-of-type {\n",
              "        vertical-align: middle;\n",
              "    }\n",
              "\n",
              "    .dataframe tbody tr th {\n",
              "        vertical-align: top;\n",
              "    }\n",
              "\n",
              "    .dataframe thead th {\n",
              "        text-align: right;\n",
              "    }\n",
              "</style>\n",
              "<table border=\"1\" class=\"dataframe\">\n",
              "  <thead>\n",
              "    <tr style=\"text-align: right;\">\n",
              "      <th></th>\n",
              "      <th>sim</th>\n",
              "      <th>sent_1</th>\n",
              "      <th>sent_2</th>\n",
              "    </tr>\n",
              "  </thead>\n",
              "  <tbody>\n",
              "    <tr>\n",
              "      <th>0</th>\n",
              "      <td>1.00</td>\n",
              "      <td>A plane is taking off.</td>\n",
              "      <td>An air plane is taking off.</td>\n",
              "    </tr>\n",
              "    <tr>\n",
              "      <th>1</th>\n",
              "      <td>0.76</td>\n",
              "      <td>A man is playing a large flute.</td>\n",
              "      <td>A man is playing a flute.</td>\n",
              "    </tr>\n",
              "    <tr>\n",
              "      <th>2</th>\n",
              "      <td>0.76</td>\n",
              "      <td>A man is spreading shreded cheese on a pizza.</td>\n",
              "      <td>A man is spreading shredded cheese on an uncoo...</td>\n",
              "    </tr>\n",
              "    <tr>\n",
              "      <th>3</th>\n",
              "      <td>0.52</td>\n",
              "      <td>Three men are playing chess.</td>\n",
              "      <td>Two men are playing chess.</td>\n",
              "    </tr>\n",
              "    <tr>\n",
              "      <th>4</th>\n",
              "      <td>0.85</td>\n",
              "      <td>A man is playing the cello.</td>\n",
              "      <td>A man seated is playing the cello.</td>\n",
              "    </tr>\n",
              "  </tbody>\n",
              "</table>\n",
              "</div>"
            ],
            "text/plain": [
              "    sim  ...                                             sent_2\n",
              "0  1.00  ...                        An air plane is taking off.\n",
              "1  0.76  ...                          A man is playing a flute.\n",
              "2  0.76  ...  A man is spreading shredded cheese on an uncoo...\n",
              "3  0.52  ...                         Two men are playing chess.\n",
              "4  0.85  ...                 A man seated is playing the cello.\n",
              "\n",
              "[5 rows x 3 columns]"
            ]
          },
          "metadata": {
            "tags": []
          },
          "execution_count": 86
        }
      ]
    },
    {
      "cell_type": "markdown",
      "metadata": {
        "id": "KyxLuyzKeTye"
      },
      "source": [
        "##Preprocessing of lower case"
      ]
    },
    {
      "cell_type": "code",
      "metadata": {
        "id": "-CBPvtUcdKky"
      },
      "source": [
        "train_data['sent_1'] = train_data['sent_1'].str.lower() # omit this\n",
        "train_data['sent_2'] = train_data['sent_2'].str.lower() # omit this for removin preprocessing"
      ],
      "execution_count": null,
      "outputs": []
    },
    {
      "cell_type": "code",
      "metadata": {
        "colab": {
          "base_uri": "https://localhost:8080/"
        },
        "id": "aJCTrVJ1ed8d",
        "outputId": "de25d1ef-1bcc-42ef-db6e-9efd0b137af3"
      },
      "source": [
        "df1 = train_data['sent_1'].values\n",
        "df1"
      ],
      "execution_count": null,
      "outputs": [
        {
          "output_type": "execute_result",
          "data": {
            "text/plain": [
              "array(['a plane is taking off.', 'a man is playing a large flute.',\n",
              "       'a man is spreading shreded cheese on a pizza.', ...,\n",
              "       'dozens of egyptians hostages taken by libyan terrorists as revenge for airstrikes',\n",
              "       'president heading to bahrain',\n",
              "       'putin spokesman: doping charges appear unfounded'], dtype=object)"
            ]
          },
          "metadata": {
            "tags": []
          },
          "execution_count": 88
        }
      ]
    },
    {
      "cell_type": "code",
      "metadata": {
        "colab": {
          "base_uri": "https://localhost:8080/"
        },
        "id": "6lIetlxlejuz",
        "outputId": "cf2248e3-ef5c-44c7-a027-adb19d48a110"
      },
      "source": [
        "df2 = train_data['sent_2'].values\n",
        "df2"
      ],
      "execution_count": null,
      "outputs": [
        {
          "output_type": "execute_result",
          "data": {
            "text/plain": [
              "array(['an air plane is taking off.', 'a man is playing a flute.',\n",
              "       'a man is spreading shredded cheese on an uncooked pizza.', ...,\n",
              "       'egyptian boat crash death toll rises as more bodies found in nile',\n",
              "       'president xi: china to continue help to fight ebola',\n",
              "       'the latest on severe weather: 1 dead in texas after tornado'],\n",
              "      dtype=object)"
            ]
          },
          "metadata": {
            "tags": []
          },
          "execution_count": 89
        }
      ]
    },
    {
      "cell_type": "code",
      "metadata": {
        "colab": {
          "base_uri": "https://localhost:8080/"
        },
        "id": "QH0eYwx0epTn",
        "outputId": "90034289-dc15-4808-a155-2372483062d4"
      },
      "source": [
        "print(\"{},{}\".format(len(df1),len(df2)))"
      ],
      "execution_count": null,
      "outputs": [
        {
          "output_type": "stream",
          "text": [
            "4137,4137\n"
          ],
          "name": "stdout"
        }
      ]
    },
    {
      "cell_type": "code",
      "metadata": {
        "colab": {
          "base_uri": "https://localhost:8080/"
        },
        "id": "WoDuhXGTewfC",
        "outputId": "3a403231-b29a-4994-954e-ba47e2e2b218"
      },
      "source": [
        "df = np.concatenate((df1,df2), axis=0)\n",
        "len(df)"
      ],
      "execution_count": null,
      "outputs": [
        {
          "output_type": "execute_result",
          "data": {
            "text/plain": [
              "8274"
            ]
          },
          "metadata": {
            "tags": []
          },
          "execution_count": 91
        }
      ]
    },
    {
      "cell_type": "code",
      "metadata": {
        "colab": {
          "base_uri": "https://localhost:8080/"
        },
        "id": "ImANKH1Le__c",
        "outputId": "c4f5357e-8152-4531-a76b-57a18d867403"
      },
      "source": [
        "df"
      ],
      "execution_count": null,
      "outputs": [
        {
          "output_type": "execute_result",
          "data": {
            "text/plain": [
              "array(['a plane is taking off.', 'a man is playing a large flute.',\n",
              "       'a man is spreading shreded cheese on a pizza.', ...,\n",
              "       'egyptian boat crash death toll rises as more bodies found in nile',\n",
              "       'president xi: china to continue help to fight ebola',\n",
              "       'the latest on severe weather: 1 dead in texas after tornado'],\n",
              "      dtype=object)"
            ]
          },
          "metadata": {
            "tags": []
          },
          "execution_count": 92
        }
      ]
    },
    {
      "cell_type": "code",
      "metadata": {
        "id": "GnkBSacCf5bu"
      },
      "source": [
        "d_string = ''\n",
        "for i in range(len(df)):\n",
        "  s1 = df[i]\n",
        "  d_string += ' '+(s1) \n",
        "#print(d1_string)"
      ],
      "execution_count": null,
      "outputs": []
    },
    {
      "cell_type": "code",
      "metadata": {
        "colab": {
          "base_uri": "https://localhost:8080/",
          "height": 139
        },
        "id": "7YYTUF6TgDHK",
        "outputId": "dc1c682c-d3c6-41dc-ac4c-939edb3e68b2"
      },
      "source": [
        "d_string"
      ],
      "execution_count": null,
      "outputs": [
        {
          "output_type": "execute_result",
          "data": {
            "application/vnd.google.colaboratory.intrinsic+json": {
              "type": "string"
            },
            "text/plain": [
              "' a plane is taking off. a man is playing a large flute. a man is spreading shreded cheese on a pizza. three men are playing chess. a man is playing the cello. some men are fighting. a man is smoking. the man is playing the piano. a man is playing on a guitar and singing. a person is throwing a cat on to the ceiling. the man hit the other man with a stick. a woman picks up and holds a baby kangaroo. a man is playing a flute. a person is folding a piece of paper. a man is running on the road. a dog is trying to get bacon off his back. the polar bear is sliding on the snow. a woman is writing. a cat is rubbing against baby\\'s face. the man is riding a horse. a man pours oil into a pot. a man is playing a guitar. a panda is sliding down a slide. a woman is eating something. a woman peels a potato. the boy fell off his bike. the woman is playing the flute. a rabbit is running from an eagle. the woman is frying a breaded pork chop. a girl is flying a kite. a man is riding a mechanical bull. the man is playing the guitar. a woman is dancing and singing with other women. a man is slicing a bun. a man is pouring oil into a pan. a lion is playing with people. a dog rides a skateboard. someone is carving a statue. a woman is slicing an onion. a woman peels shrimp. a woman is frying fish. a woman is playing an electric guitar. a baby tiger is playing with a ball. a person is slicing a tomato. a person cuts an onion. a man is playing the piano. a woman is playing the flute. a man is cutting up a potato. a kid is playing guitar. a boy is playing guitar. a man is playing guitar. a little boy is playing a keyboard. a man is playing a guitar. a dog licks a baby. a woman is slicing an onion. a man is playing the guitar. a woman is slicing a pepper. a man is playing the drums. a woman rides a horse. a man is eating a banana by a tree. a cat is playing a key board. a man chops down a tree with an axe. a kid plays with a toy phone. a man is riding a motorcycle. a man is riding a motorcycle. a squirrel is spinning around in circles. a man and a woman are kissing. a man is getting into a car. a man is dancing. a man is playing the guitar and singing. a person is cutting mushrooms. a tiger cub is making a sound. a person is slicing onions. a man is playing the piano. a woman is peeling a potato. a pankda is eating bamboo. a person is peeling an onion. a monkey pushes another monkey. a squirrel runs around in circles. a man is tying his shoe. a boy is singing and playing the piano. a dog is eating water melon. a woman is chopping broccoli. a man is peeling a potato. a woman is playing a guitar. a woman is slicing tomato. a man swims underwater. a man and woman are talking. a small dog is chasing a yoga ball. the men are playing cricket. a man rides off on a motorcycle. a man is playing a guitar. the man talked on the telephone. a man is fishing. a man is levitating. two boys are driving. a man is riding on a horse. a man is riding a bicycle. a man is slicing potatoes. a woman is peeling a potato. a man is playing a guitar. a woman is slicing a leek. the man cut a paper plate. the man is playing the guitar. a man is playing the piano. a woman is slicing up some meat. a man is playing on his keyboard. the lady chopped up the green onions. someone is sitring noodles in water. lionel richie is dancing on the ceiling. a man is playing a piano. a woman is playing flute. a boy is checking a calender. a woman is cutting an onion. a man is playing guitar. a woman is using a sewing machine. a woman is flipping pancakes. a man is running on the road. a man is riding on a horse. a man is riding a bike. a woman is dancing. a man is playing a piano. a man is playing a flute. a man is spinning. a monkey is swinging from limb to limb. the people got off the train. a dog is jumping on a trampoline. a boy is playing an instrument. a woman plays the guitar. a woman is picking a can. a man is climbing a rope. a man is lifting a car. a man and woman are driving down the street in a jeep. the shirtless man sat in a chair. two women are wrestling. the puppy played with a blue tennis ball. a kangroo is eating something. a cat is playing a piano. the man cut some carpet with a knife. a woman is riding a motorized scooter down a road. someone is slicing a vegetable. a woman is dancing. a dog licks up a baby\\'s drool. a man is rowing a boat. a man cuts up potatos. a woman is chopping up garlic. an animal run in circles. a man is walking slowly across a rope bridge. a man is playing the guitar. a man plays the flute. a woman cracks two eggs into a glass bowl. a man is cutting a fish. two men are packing suitcases into the trunk of a car. a man pours oil on some tomatos. a man is slicing something. a man is paddling a canoe. a man and woman are walking together through the woods. the woman picked up the kangaroo. fish are swimming. two women mix something in a food processor. a person is surfing a large wave. a man is playing a guitar. a man is playing a flute in a band. the man spread butter on the loaf of bread. a person is boiling noodles. a group of people dance on a hill. a man is dancing outside. a woman is feeding a man. a man is putting a pan into an oven. a woman is sitting at a desk. medics transport a patient on a stretcher. a woman is playing a flute on stage. two baby pandas are playing. a baby is laughing. a man is playing a guitar. a man is folding paper. three women are dancing. the cats are playing with each other. a person is writing. a man is running. the woman is rolling dough. a woman is adding spices on a meat. a woman is adding oil on fishes. a young boy is holding a guitar. a cheetah is running. the man is eating pizza. an orangutan is riding a bus. a man and a woman talk in a diner. a man is playing a guitar. a girl is singing and playing a guitar. a girl is communicating with sign language. a woman is doing weight exercises. a man is getting inside a car. a big green ball knocks a potato over. a cat is playing keyboards. two dogs swim in a pool. the man used a chopper to chop the onion. a woman slices tofu. a herd of deer are crossing the street. the person is riding the horse. someone is feeding a animal. someone is slicing tortila\\'s. someone is mixing ingrediants. a rooster pecks at a dead mouse. a woman holds a kangaroo. a man is playing with frogs two men are talking. a man spreads butter on a big piece of bread. a man is running across a high wire. a man is mowing a lawn. a man is opening a door. a man is slicing a potato into pieces. the woman is cutting cooked octopus. a man is punching through boards. a man is dancing. someone is playing a piano. two foxes are eating from a plate on a brick patio. a boy is playing a key-board. a person plays a keyboard. a man is shooting a gun. someone is slicing an onion. a man is swimming. a man is playing the guitar. a woman is slicing a pumpkin. a woman is dancing. a woman is cracking eggs into a bowl. a car is moving through a road. someone is greasing a pan. a man is playing guitar. a woman is drinking vodka. a woman is cutting meat into pieces. a man is rinsing a steak. a man is selling items. a man is jumping a wall. runners race around a track. a man is kicking a soccer ball. a woman is frying something. a cat is licking a sucker. a woman is dancing by a fire. the man is slicing a fish open. butter is melting in a pan. three boys are dancing. a woman is playing a game with a man. the man is driving a white car. a man drove his car. a car backs out of a space. a man puts some cheese on a pizza. the boy is playing the piano. the man played his guitar. a man is riding a horse. a man is walking on a rope. a girl is playing a flute. people step off a train. a woman is sewing on a machine. a dog is looking into swimming pool. a man is buttering a piece of bread. a man is cutting tomatoes into pieces. three teenage girls danced in the room. a lion is walking. a man shooting a car. a black horse is running around. a woman is deveining shrimp. a man is riding a horse. a man walks down a path. a man is slicing a potato. a dog is barking at a ball. a kid runs away from a fish swinging around on a fishing pole. a man is walking along a path through wilderness. an elderly man is speaking at a podium. a man riding a horse in slow motion. a person is cutting some burrata cheese. the man is shooting an automatic rifle. a man is crushing garlic with the back of a knife. a woman is filing her fingernails with an emery board. a man is riding a skateboard. a woman is taking a shower. a  man is dancing. a man is rowing a boat. a man is swinging from a rope attached to the ceiling. a woman is riding a horse on a beach. a man holds a small animal in one hand. a person is folding a square paper piece. a person is frying meat in a pan. a chimpanzee is hurting a woman. the woman is peeling shrimp. two zebras are playing. a woman is slicing butter. some men are playing guitars. the elephants sprayed water on themselves. a dog sat at the counter of a store. someone drills a hole in a strip of wood with a power drill. a woman is slicing some vegetables. a badger is burrowing a hole. a woman is water skiing on a lake. a girl is playing a violin. a helicopter is landing on a helipad. a woman is cutting up a chicken. a woman is cutting a cucumber. a woman rides an elephant in front of an adoring crowd. a puppy is sliding backwards along the floor. a woman splits garlic cloves. a dog is looking into swimming pool. a woman mixes a beauty treatment in a glass. a man is drawing a picture. a woman is picking tomatoes. a man is looking at a computer monitor. the boy is riding a tricycle. two men compete in a tire rolling race. a person is cutting a meat. a man is playing a violin. the baby crawled through the doorway. a man is playing keyboard. a man is smelling two pizzas. a monkey pulls the tail of a dog. a dog lies on his back on a wooden floor. a woman is frying something in the pan. a man puts seasoning in a bowl of water. an elderly woman is pouring oil into a frying pan. a woman is chopping an onion. the woman picked up the kangaroo. a dog biting on a can. a woman is deboning a fish. a man is mowing grass. a cat is watching a tv. the boy is stuck in the door of the doghouse. people flip into a swimming pool. a woman swims underwater. a man is playing a guitar. an airplane is flying in the air. a bear is running from two dogs. a woman is resting in a floating raft. a man is dieing in an operating room. a man is holding a leaf. a person is riding a horse. a woman is slicing octopus. a man is breaking water jugs. a man is playing a guitar. a girl is eating a cupcake. the little girl played on the grass with a dog and a ball. people ride and paddle a raft. the lady cut up a potatoe. the missile exploded. a dog is playing in the snow. a woman is dancing with other women. a boy is pushing a van. a boy is making some dance steps. a woman is opening a soda and drinking it. a man is assembling speaker parts. the dog walked along the edge of the pool. butter is being put into a bowl. raccoons are eating. someone fell off a horse. a woman peels an apple. a man is taking some math classes. animals are playing in water. a man is riding a horse and jumping over obstacles. a person is doing pencil tricks with his hand. the person lit the cameras on fire. the man is slicing the tape from the box. a man is fishing in the river. a man is riding a bike. a man is doing push-ups. a man is playing guitar. the little boy is singing and playing the guitar. a woman is powdering her face. a woman is peeling a potato. a woman is firing a rifle. a woman puts a garland over a man\\'s shoulders. an old woman is shaking hand with a man. the woman is waterskiing. trees are bending in storm. a man and woman is riding in a car. a man is moving a tree limb. a man plays a piano. a person pours oil on a skillet. the animal is eating. the woman is walking her dog. a group of people sing. the cat is drinking milk. a girl is making eyelid. two men are fighting. the military officer barked at the recruits. the man is putting chicken into the container. a man is tying on a stenographers machine. a woman is adding pasta to a pot of water. a woman is lying on a blanket on a rock and reading a book. two puppies are playing with each other. a man is running on a field. a man is hugging someone. someone is pouring ingrediants into a pot. a couple are walking. a person is playing a guitar. a person is adding food in a pan. a group of penguins is walking. a man is playing a guitar. a dog is jumping on a trampoline. a man is shaking a container over a kitchen sink. a man is walking with a horse. paper is being cut with scissors. a person peels shrimp. a man is playing a guitar. a man making a bed in a hotel. the dog pulled the dogs tail and then his leg. a woman beats two eggs in a bowl. a man is jumping rope outside. a person is slicing some onions. a woman holds a kangaroo. soccer players are kicking a soccer ball into the goal. a woman is cooking something. a woman is swimming in the beach. a man is carrying another man. the woman is putting paste into a dish. a man is holding up and talking about a gray you tube t-shirt. someone pours olive oil into a bowl of tomato wedges. a man is playing the guitar. someone is boiling okra in a pot. a person is peeling a potato. a cat is jumping into a box. the woman is seasoning the oil. a cat is sliding upside down under a couch. a woman dances while a man plays the keyboard. a chef is cleaning up a bowl of soup. an explosion is booming in the desert. a woman slices a lemon. an overweight man is skipping rope. the lady cracked two raw eggs. a man sharpens a pencil using a knife. plastic toys are floating in water. the turtle followed the fish. the woman is pencilling on eye shadow. a man is tying his shoe. a woman is slicing meat with a knife. a dog is running on the ground. a man is petting a tied up dog. a woman is walking on an open ground with a pet dog as some other dogs follow them. a woman is mincing some garlic. two teams are playing soccer. a rat like creature is smelling around. two sumo ringers are fighting each other. a man lays on the ground and aims a rifle. a woman is chopping a hard egg. two robots share a kiss. a cat is trying to touch a dog. the rhino grazed on the grass. the man drove his little red car around the traffic. a man is cutting bread. a cat rapidly swats a kid in the head. a cat is playing in a box. the couple danced in the church. a man is patting an alligator on the mouth. a person checks some rice pudding. a woman is stirring two eggs in a glass bowl. the man is playing the drums. a man is slicing a pepper. a woman is speaking in sign language. a boy is crawling into a dog house. the girl flew her kite while she ran up a hill. a woman is placing food in a pot of hot water. a small monkey walks through water. a man is riding a bike. a young man is singing and playing the piano. a boy takes off his sunglasses. a girl is playing a piano. the lady sliced a tomatoe. someone is holding a hedgehog. a woman peels a potato. a cat is drinking some water. a person is putting salt and pepper on a piece of pork. the man sat in his chair and stared. a woman is dicing a potato. a baby is crawling happily. a person is frying a meat in the pan. a man is looking out of a window. a man seated is playing the guitar. a woman is slicing an onion with a knife. a rider is running and jumping her horse. a boy is playing a key-board. two men are fighting. a man is playing a wooden flute while several other men play bongo drums. a person is petting a monkey. two cartoon rabbits are kissing. the hedgehog chewed on the towel. a cat is licking himself. a small guinea pig is gnawing and eating a piece of carrot on the floor. four boys are standing in front of the burning car. a man is smoking. a woman is adding sauce to some food. three children are eating their food. a submarine is going through water. a man is running on a street. a person is slicing an onion. a badger is digging in the dirt. a woman is slicing big pepper. a man is riding a bicycle. a man and a woman are kissing each other. a woman is slicing an onion. a small boy is playing with a dog. the man is drawing. a man is cutting a potato. a boy is playing a guitar. a woman is cutting an onion. a toy train is striking a toy car. a man is playing the guitar. a cat opens a drawer and climbs inside. a woman is frying a food. a man is dicing an onion. a girl is playing a guitar. a girl is singing on stage. a woman is riding a horse. a girl is playing a guitar. a woman is brushing some shrimp. a man is dancing on the ceiling. a woman thinly slices an onion with a large knife. a man is playing a keyboard. a man plays the guitar. a woman is peeling a potato. a woman is handling a frog. a man is playing a flute. a man is playing a guitar. a man is playing a piano. a man is playing a guitar. a man is playing a flute. a man is playing a flute. two women are on a couch. someone is slicing a cucumber. a kitten is playing with a blue rope toy. the dog is barking at the toy. a person folds a tortilla. a cat is drinking milk. a person is driving a car. a turtle is walking. a cow is eating grass. a woman is chopping broccoli. a man is crying. the man is playing the guitar. a man is cutting an onion. a man is slicing a potato. a woman is tapping her fingers on a table. someone is boiling okra in a pot. a man is smoking. the man is playing the drums. a man dives into a pool. a woman is cutting a leak. a little boy is playing a guitar. a woman is dancing. women are talking. a girl is putting gel in her hair. a kid is playing guitar. a group of people are marching in place. the woman is shooting a machine gun. a man played the piano. a woman is slicing an onion. a man is slicing a cucumber. a girl is eating a cupcake. a woman is cutting an onion. the man is playing a guitar. a man is playing the guitar. two little girls talk on the telephone. a man is chopping a log with an axe. a person is cutting a capsicum into pieces. a man is talking with a woman. the man is walking. someone is pouring oil into a skillet. a small kitten is playing a ball. a man is playing a guitar. a girl is playing a violin. a man is playing two pianos. a man is exercising. a person is slicing a scallop. a man and a woman are riding on their bicycles. two men are fighting in a cow pasture. a woman is adding oil to a pan. a girl makes up her bed. the cat played with a watermelon. a girl jumps on a car. a man is praying. a car is parking. a man is running. a man is singing. a man is carrying another man over his shoulder. a woman is peeling a potato. a woman is cutting a tomato. someone is peeling a potato. a woman is peeling a potato. two robots kiss. two boys on a couch are playing video games. a woman is squeezing a lemon. a woman is slicing an onion. a woman is slicing a carrot. a girl is styling her hair. a man walking down the stairs. two people are riding a motorcycle. a man is playing a guitar. a man is playing a guitar and singing. a man is walking in the rain. a kangaroo is eating. a man is fishing. a woman is swimming. a woman is eating. a boy and a girl is dancing in the rain. a man is driving a car. a woman is grating onion. two roosters are fighting. a man is riding a horse. a man is riding a horse. a man is shooting a gun. a woman is cutting an onion. the woman is slicing herbs. a boy is playing the piano. a baby elephant is eating. a woman is cracking eggs into a bowl. a person is playing the keyboard. a boy whacks a man with a sword. a person is slicing a carrot into pieces. a man sliced through a bunch of water bottles with a knife. a man is writing in a book. a woman is slicing a garlic. a person is making a bed. a man is playing keyboard. a man is playing a violin. the woman is smoking. the man erased what the other man had on the board. a man is riding a motorcycle. a man is riding a motorcycle on the highway. a woman is slicing up some meat. a woman cuts up broccoli. a man is playing a piano. someone is slicing a tomato. a woman is dancing in a cage. a woman is swimming. a man is running. the man is playing the guitar. a cat stares into the camera. the baby is laughing and crawling. a woman is shooting a gun. a woman is dancing in the rain. a woman is dancing. a kid is playing an instrument. someone slices a bottle with a sword. a woman is cutting an apple. the man is peeling an apple. the man is playing the guitar. an animal is walking on the ground. a little girl is playing a grand piano on stage. a group of people dancing a man plays a guitar. a cat swings on a ceiling fan. a woman is playing the flute. the woman is dicing onions. a monkey is brushing a bull dog. a woman is slicing a onion. a man is playing the piano. a woman is washing her hands. a woman fires a shotgun. a man is eating a bowl of cereal. a woman is bathing into bath-tub. a motorcyclist crashes on his motorcycle. a man is dangling a mouse near a snake. a man and a woman are walking in the woods. a person pours some rice pudding into a bowl. a man stares out a window. a woman is firing a rifle. a man is eating a banana. the men are performing on stage. a cartoon woman dives into a pool. the lady put the baby int a trashcan. someone is frying meat. a man is rapidly chopping some mushrooms using a knife. a woman is adding ingredients to a bowl. a skateboarder does tricks on a half-pipe. a man is speaking on a stage. a man is playing a guitar. a man is playing on his keyboard. a person is cutting a potato. a man is dancing on the ceiling of a room. two men are dancing. someone is seasoning eggs. a man is swinging in a rope. a man is cutting tomatoes. a woman is boiling shrimp. a man cuts a potato. a man is dancing on the road. the deer jumped over the fence. a girl dances in the rain. a woman is writing a letter. a gorilla is playing the drums. a woman is riding on a horse. the boy cut the grass by the curb with scissors. a man with glasses is talking. a woman is cutting some flowers. a person is walking down a stone path. a man plays the keyboard with his nose. a man is playing guitar. a animal is eating. a man is lifting weights. a man is running with a bus. a man is climbing a rope. a cat is playing the piano. a woman is dancing in the rain. men are running a race. a man is cutting tomatoes into pieces. a man is playing a flute. a woman is cutting potatoes. a chicken is pecking at a dead mouse. the woman is thinly slicing a cucumber. a person is slicing a bread pieces. a woman is cutting a squash. a woman is adding oil on fishes. a woman is grating carrots. someone is cleaning a animal. a man is talking on the phone. a woman is smoking. a man laying down and shooting a gun a man is being put into an abulance. a man is diving into a swimming pool. a man is firing a shot gun. a man playing the guitar. a man is peeling potato. the woman is riding a horse. an airplane moves along a runway. a woman is slipping in the water-tub. a man is mowing a lawn. a woman is peeling a potato. a man is playing piano. a woman is doing ballet. a woman is cutting an onion. a woman is stirring rice in a pot. a woman puts slabs of meat in a pan. the boy played his trumpet. a person is riding a horse. a woman is slicing an onion. a man is slicing vegetables. a cat is playing. a man is riding a bicycle. a band is performing on a stage. the woman is slicing fish cake. a man is eating bread. a woman is cooking shrimp. a woman is dancing. a big turtle is walking. a man is burning a flag. the man is pushing the van. a man is eating wood. a dog is speaking to the camera. a man is putting two paper towels on a paper plate. a man and woman are walking. a man is cutting a rope with a sword. the man is singing and playing the guitar. a man is cutting a paper. a man is dancing. two boys are talking on the phone. a man is playing guitar. a woman is slicing an onion. a woman is riding a horse. a man is playing soccer. a woman is peeling an orange. someone is cracking an egg open. a man is cutting a snake to cook. a woman is scraping a carrot. a man and woman are bollywood dancing. a woman is cutting flowers. the man danced in the diner. american flag is waving. a lion is walking in an enclosed area. a woman is slicing a lemon. a woman is playing the flute. the dog is barking at the toy. a woman is adding an egg and stirring. a woman covers a piece of meat with flour. a man does floor exercises. a man is slicing a potatoe. someone is playing piano. the woman is putting makeup on the man. the woman droppped eggplant into the pan. a man plays a trumpet. a tiger trys to climb the wall. a man is preparing a hanging rope. a woman dances on a stage. the girl is riding the horse. a person is frying. a man is shooting a pistol. a woman is swinging her arms. a man is walking outside. a man dries his hands. a soccer player is kicking the soccer ball into the goal from a long way down the field. a girl is playing the piano. a man is drawing some figures. the monkey is hanging from the trees. some children are jumping on trampoline. a woman with a knife is slicing a pepper. a man is adding oil to car. a man is slicing a carrot by a machine. a boy played a keyboard. a cat is playing with an antenna. a woman is slicing pumpkin. the people threw the dummy over the cliff edge. a gun is being fired. a woman is cutting a plastic sheet. a woman cuts a pineapple. a woman is adding spices on a meat. a person is adding oil in the pan. a cook seasons some dough. a boy is running on a beach. a baby monkey scratches itself. a boy is riding a bike on a gate. a man is doing a card trick. a man is playing the piano. a man is mowing grass. a person is mixing water and flour. the two dogs were in the pen. a man is riding on one wheel on a motorcycle. a cat opens a drawer and climbs inside. a man is opening a box using a knife. a man is kicking oots of water. a man is eating. a puppy is repeatedly rolling from side to side while on its back. a young boy sings and plays a guitar. the woman is peeling lemon. a man is playing the trumpet. a dog is looking around a woman is slicing an onion. the man drilled holes into the wood. someone is cutting a circle out of a pink sheet of paper. a man is playing flute. a man is placing meat in a bag. a girl is eating a cupcake. a rabbit is sniffing and pawing a stuffed rabbit. a man is buttering bread. a woman is squeezing some cucumber slices. a man is taking out the insides of a green pepper. a man takes a piece of pepperoni pizza out of a pizza box and puts it on the lid after he closes the box. the man added vegetables to the broth in the pot. the man ran and jumped against the wall. the man is seasoning the sausages. a clown is singing and people are dancing. a woman is feeding an aardvark. a person is rinsing a steak off with water. a boy rode his bike on top of a metal fence. a man is throwing knives at a tree. girls are walking on the stage. a woman is doing weight exercises. a man is peeling a potato. a large bird standing on a table picks up a plastic glass containing liquid and places it in a bowl of something. a woman is in the rain. a woman is hitting a man. a woman is riding an elephant. a man is lifting weights. a person is riding a jetski in the waves. a woman is wearing headphones. a kitten is eating its food from a plate. a woman is reading a lifestyle magazine. a man is pouring chili into a bowl. the bird ate the food in the tree from a bowl. a group of girls are exiting a taxi. a woman is seasoning a piece of meat. a man is chopping coriander leaf. a man takes a slice of pizza. a man is placing meat inside a plastic bag. a rabbi is talking. a man rides a horse. a man is playing guitar. a man is slicing a bun. a man  is driving a car. a dog is pawing at a fly in the carpet before it. a dog is barking. a monkey is walking on a bed. a woman is cooking broccoli. a man is frying a tortilla. a woman serving volleyballs over a net. a man is slicing cucumber with a knife. a man is playing an electronic keyboard. a man is playing a violin. a man severs the toe of an empty leather boot using a sword. the person is removing the scales from the fish. people are walking in the garden. a young child rides a horse. a person is cutting garlic into pieces with a knife. a man is folding a piece of paper. the man was pushed into the water. a boy is upset playing video games. a man makes a call on a cell phone. a man is speaking on a phone. a woman is applying cosmetics to her face. the man lifted barbells. a woman feeds an animal by hand. several ferrets climb out of their cage. a young woman is playing the flute. a woman shoots a shotgun. a person is adding chili powder to chili with beans. a woman rapidly fires a handgun. a person is slicing an onion. a dog is opening a fridge. a woman is holding a dancing baby up. a woman is doing a joker make up on a man. the lady added cheese to the sauce. a man is giving a lecture on a podium. the cat shimmied under the bed. a woman is chopping garlic. a man is cutting grass. a man is cutting grass. a boy runs away from his fishing line. the man played haki sak in the office. a man is carrying another man on his back. meat is dropped into a pan. a woman is cutting scallions. a man is slam dunking a ball. a machine is sharpening a pencil. a woman is brushing her feet. a man is cleaning the windows. a person is stirring rice. a man puts a knife in a vice. a boy plays violin on stage. a woman cuts a pink loaf with a knife. a man is adding pork chops to a pan. the men are fighting each other. a man is catching a ball. a girl is reading a newspaper. a slow loris bites a persons fingers. a man is walking along a path through wilderness. the man played his guitar. some men are skating on the road. a man pours liquid into a pan. a boy is playing piano and singing. a cat and a ferret are playing. a monkey is walking through the water. a woman is putting on makeup. a dog is driving a car. the man sang on stage into the microphone. a car backs out of a space. a man is holding a frog. a man is traveling in a boat. the man rode his motorcycle down the highway. a man is dicing an onion. a man performs on a stage. the women are sitiing down. a man removes a couple of toaster scrambles from a plastic packet. a woman is dancing by a fire. a man is meditating. a boy is cutting paper. the man talked on the telephone. a man is playing the guitar and singing. the soccer player kicked the ball side to side between his legs. an animal is walking. someone is scratching an animals belly. a man is lifting heavy weights. a boy is playing with a toy. a man dives off of a cliff. a man is coming out into the water. a man and woman dance. a man is sweeping the floor of a house using a long broom. a group of couples are dancing. a man is scaling a fish. the man set up his camera to take sunset pictures at the beach. someone is holding and petting a baby tiger. the man is playing the guitar. the man did pushups on a wall. a woman cuts up a vegetable. a person breaks an egg into a small bowl. a man is playing keyboards. a dog is running around a yard. a child is walking down the street as a jeep pulls up. a man is adding oil to a pot. the girl danced in front of the bonfire. a man is chopping butter into a container. a girl is dragged downhill by a dog. the man took off his sunglasses while talking. the two men did a funny skit with a boxer in front of a crowd of people. the girl is tiding up her bed. someoen is cooking onions. the man is using a sledghammer to break the concrete block that is on the other man. the lady put the dried noodles in the hot water to cook. the girls danced on the stage. a panda bear is laying down. two kids are playing in a swimming pool with a green colored crocodile float. a couple of policewomen are singing karaoke. a man is putting broccoli into water. the doctor was helping the patient. some is grating onion into water. a baby is talking. a woman boils eggs. a woman puts ingredients in a whisked egg. a woman is slicing mango. a girl is slicing a butter into two pieces. a man is playing the guitar. a man is opening a package containing headphones. a girl is playing a guitar. a little girl plays the violin on a beach. a monkey is karate kicking at someone\\'s gloved hand. a female applies something to he hair with her hands. a man is karate kicking at another man wearing protective boxing gloves. the man is playing the wooden flute. a young woman is playing a guitar. the men are playing soccer. a woman is running on the beach. a man is straining pasta. panda\\'s play on a swing. two green and white trains sitting on the tracks. a small white cat with glowing eyes standing underneath a chair. a large boat in the water at the marina. a bus driving in a street. a passenger train waiting in a station. a woman at a dinner table writing on her notebook. an apple computer sitting on the floor. a close-up of a brown horse\\'s head. a group of people eat at a table outside. a jockey riding a horse. the man is riding a motorcycle down the road. a woman riding a brown horse. a kid jumping a ledge with a bike. a black dog standing in front of yellow flowers. close up of a bottle of water. a close up of a brown faced cat. sheep standing in afield. a longed-haired cat with it\\'s eyes closed. a woman in a gray shirt smiles for the camera while the woman behind her makes a face. a silver and blue amtrak train on the tracks near a small train station. a person in a blue shirt reclines near a coffee table and television. a black and white photo of a woman showing a horse. a dark brown horse standing in a field. a pitched tent with a horse in the background. a group of people sitting around a table with food on it. a brown horse stands in a lush green field. a black and white cow in hay. an elderly woman stands in a kitchen with two cats at her feet. a school bus is driving uphill on a rural road. camouflage airplane sitting on grassy field. three young women standing in a room together. red double decker bus driving through the streets. a white sheep on a hillside looking at the camera. a group of sheep in a field. very crowded office desk with computer monitor on. a man sitting in a cluttered room. two white cows in a green pasture. black cow walking under trees in pasture. two people sitting at a table at a restaurant. a smiling woman with a beer sitting outside with another smiling woman. a bird holding on to a metal gate. the skinny cows are standing on the grass. a women laying across two men sitting on a sofa. a woman with a big necklace. brown cow with horns standing in a field. a cruise liner docked at the shoreline. black and white cat lying under bush. brown and white cow standing in grass at side of road. a small dog looking up at the camera while standing on grass. a tan calf with a yellow tag on his left ear looking at the camera. black and white photo of couch with purse at one end. two men on boat floating on the water. this is a rear view of a chevrolet sports car. a person wearing a helmet rides a bike near a white structure. a black and white photo of an old train station. a grey and white tabby cat is sleeping on purple fabric. a woman holding a small baby. group of horses grazing in grassy field. three men are sitting down at a table that has drinks on it. two people dressed in white standing on a grass field. an orange tabby cat sleeping on the sofa. two eagles perched on a branch. a striped cat laying down on a bag of cat litter. a man and small child in a living room posing for the camera. a home office with three computer monitors and other equipment on a desk. five birds stand on the snow. a black vehicle parked with a vies of low-lying mountains. a passenger train in the snow. the black bird is sitting on the ground. the black and white bull is looking at the camera. a young girl riding a white and grey horse. a black and white sheep is walking next to a white sheep. a living room with a dining table in the background. the dining room table gets some afternoon sun. a red moped parked on a sidewalk in front of graffiti. the seagull is floating on the water. a black dog stands next to materials at a construction site. a woman posing in front of an apartment building in the snow. five cows are grazing beside the road. black and white cows behind a fence. a passenger train waiting in a station. a white animal running through snow covered woods. a man sitting on the grass looking toward the sky. a silver bicycle is parked in a living room. black train on train tracks. black train on train tracks. an orange tabby cat sleeping on the sofa. the bald eagle is perched on a rope. a couple posing for a picture on a couch. the men are playing a guitar and having a drink. two cats sitting together on the sofa looking out the window. red double decker bus. a close-up of an animal with a long face standing on grass near a tree. a brown and white dog sits on a floral-patterned chair. a group of people sitting at a restaurant table. a black and white photo of an empty train station. a row of locomotives on a siding in a field. a white apple computer sits on the beige carpeting of a bedroom. a dog napping under a small table. a boat with four sails is sailing on water. red sports car racing down track. black bird sitting on a concrete slab. red double decker bus on side of street. a group of river barges with trees in the background. the seagull is floating on the water. a motorcycle parked next to a car. gray cat looking out the window. a black and white photo of a cow under a tree. a potted plant in sunlight from a window. four people are rowing a boat near the shore. a girl in a red shirt is riding a brown horse. there is a small desk and chair in front of the laundry room. an amtrak passenger train waiting at a station. a large jet on the ground at the airport. a young girl wearing a helmet riding a pony. people sitting on the porch. two horses standing in a pen. the red train and the yellow train on on the tracks. two people sitting at a table at a restaurant. a lamb stands near two tiny animals. a person riding a dirt bike in the outdoors. tan cow with ear tags on a grassy field. sail boat sailing on the water. a woman with a viking hat on. parked white double decker bus. a field of black faced sheep. two birds are perched on a metal band. table with blue table cloth in kitchen. a young woman with a bracelet is wearing a bikini top and jeans. a brown horse grazing in a field of green grass. a pot of liquid is at the center of a tinfoil covered plate. a black and white cow standing in a grassy field. a yellow and blue airplane is flying in the sky. a women sitting in a chair at christmas holding make up. four asian young people sitting in a den or living room. train going down the tracks. a young woman dressed in black. group of people sitting at table with drinks. a plane flying at a distance. a group of river barges with trees in the background. a living room with a dining table in the background. yellow striped cat resting on blue sofa. a passenger train coming into a station. two people paddling in a red canoe with trees in the background. a black train moves down the tracks. a white jeep parked in front of a store. two women standing in front of tour bus. a man rides a large black motorbike. a bicycle is parked outside a bookstore. plane in mid-flight at sunset. two red buses parked up with gardens in front of them. a yellow parrot clings to the side of its cage. couple sailing in a small sailboat. a silver and blue motorcycle sitting next to a car. feet standing on a pretty day with large building in background. a small white dog chews on a twig while lying on a wooden deck. man standing in front of silver train. a close-up of a sheep with its tongue hanging out. a black and white horned cow standing in a field. a man riding a white horse in an arena. a train sitting on the tracks near a field. a women and small child sitting at a dinner table smiling at the camera. a buddha statue sits on a table with a wooden table runner. two red buses driving in front of a garden. cows grazing in a snow covered field. a man riding a white horse. a girl in riding gear sits atop a brown horse. a clear plastic chair in front of a bookcase. a dog is wearing a gray jacket. a sheep stands on a hillside. a black and white cow standing in a grassy field. a woman in a black bikini top and jeans. a girl riding a brown horse. man standing in front of yellow corvette. a man sitting on the grass looking toward the sky. a man poses in front of a large fountain with a statue on top. a white cat standing on a carpet. a flat screen tv on the floor. two brown horses standing in grassy field. two sheep stand in a doorway. room with several computer monitors. a line outside of a bookstore on a street. a passenger jet sits on a runway. old green bottle sitting on a table. two white horses staring over a fence. the black and white cows pause in front of the gate. a black and white cow standing in a grassy field. a black and white photo of a cat lying down. a orange and white cat asleep on a leather chair. a white cat standing on a carpet. grey and white domestic kitten lying down on a desk. a woman posing in front of an apartment building in the snow. a table and chairs are in a room with a picture on the wall and a ceiling fan. a man sits crossed legged on a bed watching a small tv. the headlights on a blue car. a passenger train coming into a station. an airplane facing the camera. a woman riding a brown horse. a jockey riding a horse. the two dogs blend in with the stuff animals. a train is running on the tracks. a bird is flapping its wings in the water. a cruise liner docked at a port. a red double decker bus on a crowded street. a woman pets a dog in a fenced area. a black and white cat playing with a blanket. a man on a mountain bike going down an incline. a cat reclines on an office chair. a group of horses grazing in a field. a group of people having a drink. two dogs in a fenced kennel look ahead. three sheep on a dirt road viewed from a passenger vehicle. a yellow and blue airplane is flying in the sky. the train sits at the train station. a train sitting on the tracks near a field. red double decker bus taking on passengers. two guys sit on a couch holding beers with a girl lying on their laps. two women in the kitchen looking at a object. a race horse galloping without a rider. a steam engine and train moving toward the camera. a black and white photo of a glass bottle of coca cola. a small bird perched on an icy branch. boy with glasses typing on a computer. a red truck spins their tires while a black one leaves the frame. a smiling woman holding a small baby. an esso gas station with trees in the background. four blue and yellow planes flying over four boats. a horse standing near a gate with another horse in the background. three bottles are on a table. a steam engine comes down a train track near trees. a train is at a train station. a woman sitting on a sofa holding a baby. two birds flying towards water feeder. two cows standing in a large field. a group of sheep grazing on a hill. two women are posing for the camera and giving the thumbs up sign. a women holds a small baby while sitting on a sofa. a double decker red united bus on a city street. two women sitting on brown couch. the bird is sitting on the branch. group of people sitting at table of restaurant. a black and white cow stands on grass against a partly cloudy blue sky. a guy on a white horse. two dairy cows drinking from a pond. there are several sheared sheep in a pen. the black dog is lying in the grass. a man and a woman holding hands walking along the beach. ten sheep looking at the camera. a black and white dog looking at the camera. a black table with white fuzzy chair. red double decker bus taking on passengers. sail boat sailing on the water. a blue bird perches on the gloved hand of a person. a girl riding on a brown and white horse. a mostly black train on a track. a young boy coloring with a red and blue crayon. a group of people in a living room. a mallard and a tame white duck on the grass near water. the cat is sitting between two bicycles in front of a door. a girl with a red bag standing on the street. a horse rider is riding a white horse. a long train is on train tracks. a black and tan dog looks at a black sheep. a room with several computers and pictures on the wall. a black and white photo of a cow walking under a tree in a field. a silver areomexico jet liner sitting on the tarmac. a man on a dirt bike jumping very high. two people sailing a small white sail boat. a white airplane is parked on the cement. three cows grazing in a field. the man is sitting at a messy table and using a laptop. two people paddling a red canoe are reflected in the still water. a scantily clad woman is standing next to a car. red double decker bus taking on passengers. a buddha statue holding a candle is sitting on a table. three people sitting at dinner table smiling at camera. a multi-colored train on a track. a white and red bus traveling on the street. a red and blue plane flying with its landing gears down. small boat going down a creek. four women and two men sit at a long table in a restaurant. two goats standing in a field by a tree. close up of a brown horse with a blue halter. a large black bird is sitting in the water. a close-up of a cat on a cream sofa. a person is jumping a bicycle and performing a trick. a yellow school bus is parked in a rural area. a pug dog wits on a yellow chair next to a green dumpster. the woman is sitting on the red motorcycle. a sheep standing on a table at auction. a close-up of a black train engine. a orange and white cat asleep on a leather chair. black and white cow standing in grassy field. a double decker red united bus on a city street. the television and desk of hotel room with lamp lighting. a man riding a small bicycle. a woman wearing a navy dress is cutting a cake on a white table. a black train moves down the tracks. a close-up picture of a white and purple motorcycle. a young girl riding a brown horse. two women in the kitchen looking at a object. two women posing with a baby. a group of people sitting around a table containing food. a blue motorcycle is parked on the sidewalk. a red double decker bus on a city street. two trains inside a train station. a man riding a white horse. a man and two women smiling at the camera while sitting on a blue sofa. a large cruise ship in harbor with trees behind. two cows crossing a road intersection. several cows grazing on the median by the road. a black cow and a brown cow stands in a plain in front of an uprooted tree. red double decker bus driving down street. tan cow with ear tags on a grassy field. a close up of the front end of a purple and white motor cycle. two women shopping at a clothing store. a group of people sitting at a restaurant table. a close-up of a brown horse\\'s head. a person in a red cap standing next to a brick support beam. a bay foal is walking next to its mother in a grassy field. a women standing next to a brown cow. a dog peaks out the back of a truck. woman in blue shift dress cutting into food. two brunette girls sit atop a red an yellow motorcycle with a side car. a small white cat standing in a sink. a man on the back seat of a red tandem bicycle. a computer on a desk. a small child smiling at the camera. a little bird floating in the water. a white bus with the word julia is near water and a big ship. old blue and white train on tracks. yellow boat on a beach. a kitchendiner with papers laying on the blue clothed dining table. train in a station. a gray cat is sitting on the window ledge looking at the camera. man playing guitar while sitting down. red double decker bus driving down a street. three cows are grazing in a grassy field. the brown train is sitting on the railroad tracks. a black and white horned cow standing in a field. a tiny blonde child in a blue dress sits on a table near her mother. a group of people sitting at a restaurant table. a black and white cow in a pen with hay. a close-up view of a horse\\'s head. an old fashioned wooden sailing ship in the ocean. a sheep standing in a mountainous area. a white plane on the runway. a tan puppy being petted. elegant dining room with wood furniture. a women laying across two men sitting on a sofa. two motorbikes on a dirt track. the black and white cat is looking up at the camera. a gray cat with green eyes looks at the camera. two lambs stand on a grassy hill. a man in white with a wine bottle and a woman in a red turtleneck with a white vest. a lone cow sits in the cold of the yard. a double decker bus drives on a city street. large black and white cat resting on a windowsill. boy feeding a sheep. a girl in a black desktop holds up an open box of corn flakes and a carton of milk. a close up of a small cactus in a pot. the white sheep is standing on the green hill. a black and white bird on a body of water with grass in the background. a wooden bicycle with an awning. a black and white photo of a dilapidated wooden fence. two brown horses standing in a green meadow. two men wearing bike helmets. a man playing a video game in a store. a group of people sitting around a table on a porch. a young girl wearing a bike helmet with a bicycle in the background. the back of a stop sign with many stickers on it. a bicycle is parked outside a bookstore. a brown double decker tour bus on a street with a ferris wheel behind it. a black and white chair sitting in front of a brick wall and a window with a bamboo plant in a vase. a man in a black uniform on a white horse. two women stand in a living room with a black dog. two people paddling a red canoe are reflected in the still water. a close-up view of the headlights of a blue old-fashioned car. cars driving near a model building. a blue and orange airplane flying with its landing gear down. a black and white cat lying on a blanket. a building with a temporary sign over the entrance to its parking lot. a group of people sitting around a table containing food. a man and women sitting on a sofa holding a small baby. a black and white cat lying on a blanket. a black and white photo of a love seat. a living room with a dining table in the background. a red and gray train is going through a tunnel. red double decker bus with hood open. a man riding a white horse. view of a living room with a dining room in the background. an orange kitten lay on a leather couch. a person wearing a bike helmet talks on a cell phone. a subway train pulling into the station. a bicycle is parked by a shop. two men standing on beach. long-haired black dog standing in grassy field. a small desk with chair near a laundry closet. red double decker bus driving through the streets. a goose flapping its wings in a body of water. boy laying on couch with dog. a black and white image of a cat laying on a rug. a large jet on the ground at the airport. two women are sitting in a cafe. eight bottles of harp lager lined up on the floor. a small child smiling at the camera. a woman riding a brown horse. photo of a television screen showing a movie. a bird perched on a flowerpot. white cat sitting inside of a sink. young woman in riding gear on top of horse. two people are sailing a small boat. a small bird on a tiny branch. two animals sitting on a rock. two cats sit on the back of a couch looking out the window. two young women shear a sheep. the young rider takes a ride on the brown horse. six people are seated at a restaurant table and looking into the camera. little white lamb with nose to wood. a young girl riding a white and grey horse. a black dog stands next to materials at a construction site. a bird is flapping its wings in the water. a black and white cat lying on a blanket. young woman in riding gear on top of horse. a plane being readied for take-off. a white leather couch with a purse and throw blanket on it. a kitchen with wooden cabinets and furniture. the cat is attacking a corn husk broom. a couple holds a baby. a small bird eating from the feeder. close up of a white sheep with a black head. a young boy laying on a sofa with a dog. a red bird is perched in a tree. two buses parked on a street. a train is on the railroad tracks. large silver locomotive engine in a shed. a women sitting at a table drinking with a basketball picture in the background. a green steam engine traveling on the railroad tracks. a small red car on top of a semi truck. the man poses for a photo in front of the train. a bicyclist in black on a black and red racing bike. a kitchen sink and countertop with bowls on shelves. a black and white cat sleeping on its side on a purple blanket. a woman riding a bicycle on a large concrete area. two cows standing in a large field. a bald man touches the nose of a black horse on the other side of a fence. a man is standing next to a yellow sports car. a black and white photo of cows in their stalls. double decker bus with the london eye ferris wheel in background. a yellow and black bird eats from a bird feeder. a man stands in front of a train. a small plane parked at an airfield with a cloudy sky overhead. a boat is on the water near a small plane. a man riding a white horse in an arena. a macintosh computer sitting on the floor. a black and white cat is sitting on a brown chair looking up. sheep standing in afield. group of elderly people sitting around a table. three women with brown hair are smiling. a black and white photo of an empty train station. two dogs in a fenced kennel look ahead. a black and white cow looking through the fence. several people on motorcycles in a market square. domestic cat laying on back of cat litter. two green birds fly towards a wooden telephone pole. a person sitting on a motorcycle while a man stands by. three cows grazing in a field. a blue bird perched on a gloved hand. a baby holds a ketchup packet. a close-up view of a horse\\'s head. a train is at a train station. a dark brown horse standing in a field. a small cat laying on a wooden beam looking up at the camera. the black bird is sitting on the ground. a small brown birds is eating from a bird feeder hanging from a tree. a pair of dogs playing with a purple ball. a bird lands in the water. three children stand on or near a fence. a black dog emerges from the water with a white ball in its mouth. a girl in a purple shirt and pink headband posing a brown dog digging a hole in front of a plant the brown and white dog swims in a swimming pool. a boy in a red sled is riding down the hill. a black and brown dog runs through the woods. the two dogs are running on the grass. a young girl holds up a peace sign. a man is hanging by a line off a cliff above water. a man crouching and holding a camera. man riding a bicycle down a narrow path. a man wearing an orange coat speaks to another as they walk in the snow. a dog is jumping up in the air to catch a toy. a brown dog laying on a blue cover. the two boys play in the field. the two dogs are running through the grass. a boy with a broken arm is resting in a bed. boy doing tricks on a skateboard three dogs playing in the snow. a little girl with a ribbon in her hair is picking her nose. a young girl going down a tube slide. a group of people are wearing bunny ears. a dog in a \"superman\" shirt sleeps on a blanket. the white and brown dog runs across the grass. a brown dog is resting its paws on a laptop keyboard. a young girl with glasses sits and holds two american flags. a small white and brown dog is jumping over a horizontal pole. two dogs are running through a grassy area. a man is swinging on a rope above the water. two asian men and asian woman sit in black massage chairs. a girl playing is a pile of colorful balls. an older man is standing outside in front of a truck. smiling man with reflective classes. five people standing on a sidewalk the white dog runs across the snow. a young boy in a brown jacket playing with snow. a man picking up a big rock. a white and brown dog is running over grass. man is carrying a tool box down the sidewalk. a man wearing a t-shirt that says \"gigolo\" stands at the counter talking to someone. a tent and a campsite in a sunlit forest. two large dogs running in some grass. a dog swimming with a stick in it\\'s mouth. a man playing fetch with two brown dogs. a dog is running across the sand with a stick in it\\'s mouth. a man is standing in water near a waterfall. a tan dog jumps up to catch a tennis ball. the man is jumping into the water. a woman in a black shirt stands in front of bananas at a fruit stand. a child is jumping into a swimming pool. a little boy jumping from one chair to another. two dogs playing by the shore. a little girl walks on a boardwalk with blue domes in the background. a dog swimming with a stick in it\\'s mouth. a black poodle plays in the snow. two girls holding up a scary movie flyer three boys are running on the beach playing a game. a girl is wearing a purple sash and matching skirt. a man wearing a grey jacket standing on the side of a street. a brown and black dog is jumping to catch a red ball. the tan dog runs through the leaves. a white and black dog is jumping into a pool. a black and white dog is carrying a stick in its mouth. a deer jumps a fence. a little girl holds a wooden stick. a black dog jumps through the water. a group of people in front of a red fire truck. a boy jumps into the blue pool water. a blonde dog is catching a ball in its mouth in the snow. three children and playing and laughing on the floor. a man sits with fishing poles near a body of water. a woman and a dog standing in the grass. a man in a blue shirt is running in a stadium field. a black dog running through water. children jumping on a trampoline. a large brown dog is crouching in a grassy field. a dog runs through the grass. a skier speeds through the snow. two people are playing golf on a golf course. a boy and a girl playing on the beach. the child in the red coat laid in the red mat. two dogs play in the grass. a child in a blue and white team uniform chasing a soccer ball. a softball player swinging at a pitch. a man is kite surfing away from the camera. a black dog is running in the grass. a little boy and a little girl playing together outside. two people sit on the end of a dock. two dogs in a yard. a man chases a dog trying to pass the barrier to enter a play area. the large brown and white dog is running through the snow. a bloody man and woman pose for a picture. a yellow dog is playing in a grassy area near flowers. a boy plays with a noodle by the pool. two big brown dogs running through the snow. a young boy jumps into a pool with outstretched arms. a girl holds up a yellow balloon animal. two dogs share a toy in a field of vegetation. a blond haired lady in white poses for the camera. a dog runs through a field chasing a ball. two girls are sitting in front of a statue. a girl in orange lights a candle. a white dog runs through a field of yellow flowers. an infant sitting on a cot reaching over to touch the face of an older boy. a dog shaking off water. young boys running along the pavement. a young child slides down an orange slide. a black and white dog running through some red and white poles three individuals are posing on skis behind a \"no skiing\" sign. a man in a white suit walks down the street holding a newspaper. a black dog with a blue collar is running in the snow. a dog is running toward the camera. a boy swinging on a swing. a group of youngsters swim in lake water a blue and white soccer team playing against each other. a brown dog about to catch a green frisbee. a black and white dog is swimming in a large green lake. two large black dogs are playing in a grassy field. the brown and black dog sprints across the snow. the man in the backpack looks to his left. an elderly man in a blue shirt is holding up a piece of canvas art. two skinny young boys playing with sand in the water. a small dog runs through an obstacle course. a brown dog running through the woods. a group of people are standing by a window watching something. a dog is jumping over a barrier at a agility competition. three people racing on ice skates. two women contestants are walking their dogs in a dog show. two men on the side of a barge a brown dog in running on grass. a person is riding their bike on a trail next to the woods. a woman in a black dress smiles in front of a silver truck. a dog is on the beach near a ball. a dog bounds across the brown grass. a woman playing with two young boys at a park a dog emerges form the water with a stick in its mouth. three dogs playing in the snow. a dog carries a leash in its mouth. a man in jeans is playing with a ball while a woman in jeans stands nearby looking away. a skier is falling into the snow. a dog with a red toy in it\\'s mouth. two hockey players fighting on the ice. two terriers play on the wood floor of their home. two dogs running through a field. a man in a gray suit locking up a bicycle a man in a black leather jacket is sleeping in a subway car. a dog leaping over a hurdle. two men are setting up some electronic equpitment a black dog is walking on the grass with a stick in it\\'s mouth. a girl runs with dogs in a dry field. two dogs playing in the snow. a dog leaps off a dock and into the water. a group of old men walking down the street three dogs standing in snow next to a blue fence. a black and white dog is running through the field. a boy in black waves his arms while other people are behind him on a field. an elderly woman rides a bicycle along a city street. a young boy is punching a yellow ball. a group of young ballerinas are in a dance studio. a young boy in a white dress shirt is playing on a grassy plain. a man and a dog are playing tug of war. a wet child shivers under a towel at a pool. a white dog runs on a beach. six dogs running on the sandy beach. a man holds on to a handle in the water. a white dog walking in the snow. the white and brown dog runs across the grass. a boy goes down an inflatable slide. three dogs are playing in the water. two dogs playing in the snow. a girl does a back bend on the beach. the two dogs are playing fetch in the snow. two surfers on riding a small wave. two people walking on the beach at sunset. two puppies playing around in the grass a young girl is sitting on santa\\'s lap. a black and white dog runs with its mouth open. a young boy jumping in the air at the beach. five men in tuxedos are walking down steps. man in red shorts and white shirt kicking a soccer ball. a man and dog on a rocky seashore. brown dog splashing into the water. the smiling woman at the beach is buried in seaweed. a dog with big ears is holding a small stick in it\\'s mouth. the large brown dog is jumping through the tall grass. two dogs fighting in the snow. a brown dog is in the middle of a line of dogs chasing a dirty tennis ball over dirt. a grey hound is active in a grassy field. two people are racing a sidecar motorcycle in the mud. the man is sitting at the top of a rocky mountain. a man standing on a boat is pulling another boat close by with a bamboo stick. a man plays his white guitar. a person is skijoring with a dog in the mountains. two shirtless young people playing in the water. close-up of a hummingbird. woman in a black dress walking on the street. a man and a woman looking at the camera. a brown dog running through the dirty muddy grass a baby in a red hat sitting in a stroller is holding a doll. a climber is standing on the rock face next to the pink rope. a black dog wearing an orange collar is entangled with fishing wire. two dogs are playing around in the dirt. a golden dog is running on the grass. a dog runs through the grass. a man in red shorts is walking along rocks by a river carrying a stick. man rowing a boat. three dogs running on a racetrack. a black and brown dog walks through the snow near a building. a dog is jumping into a swimming pool after a duck. a dog running through a forest in the winter time the girl is playing along with the images on the big screen. many people run in a race on a street. a man in swimming trunks is standing against some rocks. two white dogs walking in the snow. a woman wearing a pink shirt jumps in the air with her arms and legs spread to her sides. a dog runs through the grass. a dog running across the sand a woman is attempting to ride a small wave. the black and white dog is swimming in the river. man standing on top of jagged rocks near the ocean. a girl in a black and blue wet suit is surfing. the woman is leading a dog through an obstacle course. two dogs on the beach. a young boy is standing on a gray tiled area. the dog is running with food in his mouth. two dogs running down a beach. a black and white dog swimming in the pool a dog has it\\'s head inside a red and green gift bag. a man is scalling a sheer rock face with a rope support. a child with his hands on his head. a man wearing a orange vest is canoeing in the blue water. an old man in a black trench coat standing in a marketplace. a man climbing a cliff face. two girls are in pajama pants and appear to be dancing. a white and brown dog playing with a black toy. a boy plays baseball. a boy wearing a red shirt runs across the grass with a furry dog. a black dog retrieves in the snow. a smiling man and a baby girl posing for photo. a dog jumping for a frisbee in the snow. a brown and white dog with a pink collar is barking at a brown dog with a blue collar in the snow. two brown dogs are biting each other. a skateboarder attempts a trick on the side of a low wall. a young girl doing a back flip in the water. a snowboarder rides a snowboard down a railing beside a flight of steps. a woman with two men in hats socializing outside. a small boy in a bathrobe is sitting in a metal chair. a black dog is running through the snow. a group of teenagers are dancing on a wooden floor. a young boy is riding a bike. a black dog running in the snow. three dogs in the snow by a fence. a girl runs along a river bank with two black dogs. a brown and white dog is walking next to a man on a skateboard. man riding a surfboard on a wave. the man in the red shirt is climbing the side of a mountain. a man riding a motorcycle while wearing a black uniform. a black dog swimming through a river. a man and a woman are smiling. a man is standing on top of a rock or mountain watching the sun set. two little girls are playing on a trampoline. two girls are jumping high in the air. the woman holding a black purse is smoking a cigarette. a dog is running along the grass. a man with long hair is looking through a camera. brown dog running on grass. two people wearing hats sit and look at the camera. two girls playing with people and flowers behind them. a girl in a pink shirt is sprawling her limbs out in midair. a little girl in a red shirt pulls a kite. child sliding in the snow. three dogs are playing in the water. a white dog running on sand. a little girl with her hands in the air is sitting on a man\\'s back while he is laying on a blanket. a red and white race car racing on a dirt racetrack. a black and white dog is running through a cow field. a man in a straw hat shades his phone while others walk on a busy sidewalk. a man with a messenger bag in front of a gray tile wall. a dog swims in the water. a little white curly haired dog runs across the pavement with a stick in its mouth. a person holding a net is standing in the water. a woman in an red tracksuit squeezing lemons in a press. a man walks two dogs on leashes down the street a dog is running in the snow. a small boy playing in the snow. a woman in a blue shirt and tan shorts sits at a table. a white dog running in the snow the black dog is running through the snow. a dog wearing a green sweater and a backpack walking on snow. a group of people sitting around a desk. three dogs are running in a field. a man and woman with their hands on their chins are standing next to a christmas tree. the black and white dog has a stick in his paws. a white dog running through the snow a man on skis on a snow-covered hill with mountains in the background a man on a bike nest to a river. a skier going down the snowy hill. two dogs are running on the grass. a man is spraying a fluid from a long hose at the beach. a person in a red vest is touching the blue ice skates on another person. a girl bounces upside down on her head on a trampoline. a woman standing in front of trees and smiling. a boy doing a back flip into a swimming pool. three little boys cover themselves with bubbles. the boy is looking up at the girl as another girl ignores them. a black dog with a blue collar is running in the snow. a bird sits in a tree. a brown dog chews on an orange ball. a brown dog jumping into the air to catch a ball. a child is walking from one picnic table to another. a dog in the snow. dalmation running along the beach. a dog running through snow. four black dogs run across the grass. a man in red and black is hitting a soccer ball with his head. a brown dog is walking on the grass. a woman placing a baby on a skateboard on the beach. a black dog is biting a light brown dogs ear in a playful manner. the beagle is walking on the beach at the waterline. the black and white dog runs through the grass. a black dog is walking on the grass with a stick in it\\'s mouth. a man walks toward a policeman standing in a crosswalk on a city street. a black dog and a white dog playing in the street. a large black and white dog is swimming in the water. a little boy clowns with a colander on his head. two constructions workers sit on a beam taking a break. a man and a woman laughing. children are playing in a swimming pool while two adult men watch them. two kids splashing in the water. the brown and white dog is walking in shallow waters. a woman reads while on public transportation. a bulldog is running through a grassy park while people stand in the background. a young boy riding a bike on a brick road the young man is skateboarding at a skate park. a girl jumping rope on a sidewalk near a parking garage. a person is out in the water at the beach while the sun sets. a dog jumps in midair to catch a frisbee. the dog returns the play toy to its master. two females jump off of swings. a woman with a young girl pose with bear statues in front of a store. a shirtless man playing football on a lawn. a girl wearing green twists something in her hands. a man in a red jacket holds his bike for the picture. a boy jumps into a not-so-crowded public pool. the clowns are striking a pose for the camera. four kids holding hands jump into a swimming pool. a boy pushes a wagon with two pumpkins. two soccer players battle for the ball during an intense match. the black dog is walking through the tall grass. two black dogs playing in the snow. a dog jumps over a chain. a girl with a black purse sitting on a wooden bench. a black and a yellow dog three children in a ball pit. a large white and grey dog runs through a yellow tunnel in an obstacle course. a swimmer is doing the backstroke in the swimming pool. a brown dog is running through green grass. a small white dog and large brown dog play on the grass. a woman holds a dog while another dog stands nearby in a field. a black dog walking through water. a black dog is running in snow. a woman dressed in green is playing with her tan dog. two homeless men stand outside with a cardboard sign. a brown dog wades in the water. one man in an orange shirt wearing a white helmet is riding a bike. a little boy is standing in front of a wedding party laughing. a person on a snowmobile. the man is standing on the shore hitting a ball with a paddle. this over the top photo shows two men taking a break. two brown dogs running together on sand a black dog is chasing after a red frisbee. two girls with ponytails ride an amusement park ride. a dog digging in the sand. two men sit on the sidewalk in front of stores. a black and white spotted dog jumps over a stream. a person on a bmx bike. two dogs running through tall grass. little white dog wearing a leash jumping after a red ball. a group of people standing outside of a building. a group of four children dancing in a backyard. a group of teenagers are jumping in the air on the beach. a boy waves around a sparkler. several people are sitting around a fire at night. two different breeds of brown and white dogs play on the beach. one man and two women dressed in vampire costumes two dogs playing in snow. a woman holds a baby while a man looks at it as another man holding a child watches. a woman holding a newspaper. a group of men playing brass instruments. a snowboarder jumps into the air. a white dog with red ears is running in the snow. a little girl and a little boy hold hands on a shiny slide. kids play soccer on a field. a man jumps off of one rooftop onto another. an owl has its wings up and widespread during the day. a man in a blue cap is sitting on a stool under a tree. a woman sings into a microphone by a guy playing a guitar. three sheep graze on the grassy field with a dog walking behind them. a cyclist is making his bike jump between two rocks. a young girl with a pink hat on with a yellow building in the background. a girl in a pink dress rides her bike along a white picket fence. a brown furry animal stands behind some plants. a child in a red shirt is using a black wake board to splash over a beach wave. the tan and white dog is running in the field. two birds interacting in the grass two hikers stand at the top of a snowy mountain. two children in a field of red flowers. a young men jumps off rocks into a lake. a small black dog is in the grass. a lady dressed in a kimono is looking at the camera. a group of people are firing up a hot air balloon. children play fight with swords. a man is wind sailing in the ocean. three dogs racing on a dirt track two people holding hands and walking in a field. a brown dog chases a frisbee woman in red overalls standing on the sidewalk. a dog is running through a backyard full of leaves. two puppies playing around in the grass two black and white dogs are playing together outside. three dogs running through water. a woman sits alone against a brick wall a brown dog carrying a stick in its mouth. a person climbs up a snowy hill while their dog follows. a brown dog sits on the beach. scuba diver submerged in water. the man is riding a bike down a dirt hill. a large gray dog is playing in the deep snow. a man riding his bike on the beach by the ocean. a dog in in a car. a dog with floppy ears walking towards the camera in the woods. a brown dog is splashing water everywhere by shaking the water off of itself. a black and white dog is running on the beach. many middle eastern people are sitting in the back of a blue truck. person with two ski poles skiing down a snowy hill. a woman is eating fish at a restaurant. a child and two dogs play in the water. a skateboarder doing a trick on a stone wall. people are standing on an escalator moving up. a lady is running her dog through an agility course. the white and brown dog is shaking its ears. some children are raising their hands and clapping. a man blowing a large bubble. two people sit on a dock near the water. hockey goal-keeper laying on the ice in front of net. a skier wearing blue snow pants is flying through the air near a jump. the brown dog is running along a grassy pathway. the girl is wearing a blue striped shirt and rollerblades. a tattooed man in black playing a white guitar and singing. a dog running along the beach. a young man and woman sitting on a bench outside are kissing. a brown dog is jumping up to catch a green strap in it\\'s mouth. a black dog is running in the grass. a woman is sitting on a sidewalk with a cell phone at her ear. three dogs play in a grassy field. a young boy plays in a red ball pit. a surfer on a wave. the skateboarder gets to the top of the ramp. two men in a running contest. two kids are walking on a path in the woods. a brown and white dog is running on the grass. two dogs run side-by-side on the grass. two dogs are peeing at a red fire hydrant. a rugby player in dark gear is carrying a light colored rugby ball with arm outstretched. two people are walking through some water. a dog splashing in the water. a group of people are walking down the sidewalk of a big city. the dog is in the air above the grass. a black dog is running through some water. girl stands in subway waiting on something. the man is sitting with a little girl in the park. a large tan dog is running with a green item in its mouth a group of people in boats racing towards the shore. a person is riding a skateboard in the air above a ramp. a person is squeezing through an opening in the rock face. dog running towards camera with a ball in its mouth. a young girl running on the beach. a baseball player throws the ball. a man is swinging on a rope over water. a young girl dressed in a minnie mouse outfit and an older woman walking down the sidewalk. \"then the captain was gone. the problem is simpler than that. negative reconnaissance requirements. go figure you\\'re asking me to prove a negative? i am ok with medical use! the prices for everything you need have gone up due to inflation. war in the middle east. originally posted by vienna how was it authoritarian? imagine a place that\\'s % white and % black. there\\'s no chance of a fair trial. nirvana is very different than oblivion. we in britain think differently to americans. if you answer yes to  and no to  you are probably straight. the whole earth combined produces enough food for  billion people. but in the news broadcasts i have seen they did call him white. my parents have told me it is bad for you. .nazi is a slang term for the nswp. i oppose the death penalty. people exploited the laws. i have  years of \"neener neener\" rights i use lettuce too. i don\\'t prefix or suffix everything with \"you hate jews.\" i wood have asked her if she is up for a treesome. it still makes no sense. more expensive homes. although satellite intensity estimates from tafb and sab are only t./ \"fairies don\\'t exist\" - fine. you wanna know what i find curious? when did i compare homo sexuaity with a developmental disorder? you didn\\'t mention pfa before that one post. ramblin\\' rose by nat king cole we are all vessels filled with many wonders. from the year prior. their vast properties are protected by the govt. how exactly is germany being \\'punished\\' for the stupidity of ww? we never got out of it in the first place! freedom of speech has consequences! my parents have told me it is bad for you. it\\'s not imposing morals. it depends how you define extreme. at least mexico had a presence in california. and that\\'s why you\\'re yelling at me and refusing to answer my questions? the human element you could sign lance berkman at the end of the year i guess? why was the book of thomas left out of the canon? we are meant to explore. we are all vessels filled with many wonders. slutstamp! a dear friend from ohio sent me this. can he really make mone from google ad sense. they know that the video doesn\\'t show a gas chamber. \"bright but scatterbrained\" becomes \"treat with drugs\". what is your definition of \"life\"? could be a lot of things. dr. neander\\'s revised version. should i just tell her how i feel? i. atlantic requirements . you have no remains of a missile at the pentagon. \"jane\" wants me to ask the helpful party guest to pay for it. any woman that wants birth control can get it. pressing one does not \"do\" english. what\\'s my opinion regarding the series? we are all vessels filled with many wonders. does he have supporters? the nazis increases the longevity of a handgun permit from  to  years. but we can\\'t do it without help. no healthy person needs gambling. \"leprechauns don\\'t exist\" - fine. got some heine and coors light i started it last night xanis. iran is also a signed of the npt and the iaea. \"gorgons don\\'t exist\" - fine. i have  years of \"neener neener\" rights usually i get pretty decent care. you are a christian. and the simple fact today? morals have absolutely nothing to do with it ! fern i think stories like this are stupid. cyclone formation is not expected during the next  hours. do you not understand what that string of words means? there is no freedom of religion. originally posted by solinvictus the messahe of all the scriptures is oneness. how long after the obliteration should the kid return to school? a man and a woman are different yes. double jeopardy actually enforces a jury nullification. facilitator : show me the smart child. religious fiction isn\\'t that redundant and repetetive? originally posted by anabelle what\\'s wrong with that? cracklin\\' rosie by neil diamond we are all vessels filled with many wonders. some people have complete confidence in the people running these institutions. loose change started out as a work of fiction. lets assume we have % white and % black. freedom of speech has consequences! \"fairies don\\'t exist\" - fine. -not- talking about it \\'and\\' -not- doing anything. \"being against nukes\" does not mean \"not wanting to use nukes\". my niece is married to a black man. the uk population is just over  million. i shot the sheriff we are all vessels filled with many wonders. i hope this is nothing. the money i spent adopting velociraptor. i know i\\'d hate to be him. there were no weapons. it\\'s so stupid that it just has to be true. i guess i pulled it out of the census\\'s rear end in a top hat. how is this slanted against bush?? if it wasn\\'t bollocks it wouldn\\'t be homeopathy. the bailout was bigger than tarp bloomberg news. my parents have told me it is bad for you. his position is that it is the individual\\'s risk to assume. i. atlantic requirements . read more: you have never met anyone that is pro-abortion? i don\\'t want a president who \\'cares\\'. it doesn\\'t have to be braindead. no missile evidence. my teachers have told me it is bad for you. then he is not omnipotent. like this  year old who was shot dead in a marijuana-related crime. all of the electrical energy comes from the battery. do you know how many passengers testified or what they said? imagine a place with % men and % women. scenario a assumes that the co growth rate accelerates by .%/yr. they have actually showed a cooling trend since  due to the recent decline. we are all vessels filled with many wonders. to repeat: they are not as sovereign as they were before. claims about trayvon\\'s character and when did i do that? % how much money does pp take in for abortion services? why did that transaction take place. there is no more egg cell post-fertilization. no thatcherite can ever call themselves a libertarian. the problem isn\\'t who has money. but do you actually believe there was an iceberg in those waters? not astros or orioles bad gameday for the orioles game is frozen for me. tell us what the charges were. those are partial psychopaths. those who ignore history are doomed to repeat it. this is not a war deployment. nutrax the plural of anecdote is not data did gentlemen need chaperones? alright just got in. you need to make up your mind. the one that has  walks home afterwards and goes to sleep. - admin drpizza and i\\'d forgotten what a whiny little bed wetter you are. bienging is unaccptable. he hasn\\'t been funny in years. what do we get in return for doing the fighting for them? it wouldn\\'t stop joke marriages. she was a great lady. he\\'s not wealthy because he\\'s successful. not as irritated as you. it\\'s a common sense/deductive reasoning thing. you already did that - we have a muslim in office right now. i said she has not ever had to be a part of any workforce. dreamtech never been ejaculated on as far as i know. i didn\\'t say we had gotten soft since / rand. the new study does not support your claim. he said at every level. i thought that was mostly just the dutch. toyland by johnny mathis we are all vessels filled with many wonders. let\\'s let this play out in court. being in a gang isnt a crime. i\\'d offer iran a deal. it\\'s not imposing morals. has annie ever used her sexuality like that? pure communism: you have two cows. you should put scientists on a pedestal. what are they trying to hide? \"would you like to pay for others health care?\" they are not as sovereign as they were before. i don\\'t see obama as the lesser of two evils. or this one by jim croce we are all vessels filled with many wonders. the point is an unarmed child was murdered. irreligion that does that i have a problem.  billion . everyone in the world at mexico\\'s current prosperity level. if you answer yes to  and no to  you are probably straight. my parents have told me it is bad for you. atlas shrugged it\\'s also a stellar performer in terms of blithering idiocy. how would martin not know that that was not the case? regulation get the government into everything. it\\'s a common sense/deductive reasoning thing. jury nullification does not mean that a law is unconstuitutional. it\\'s just a bunch of cells. mann\\'s work was all about math. i don\\'t like flavored beers. i hope everything is ok! any woman that wants birth control can get it. s as you wish: do you see hitler killing jews? and i\\'m your friend mitt. it means its an option. i think you need to reread what i wrote. lets assume we have % white and % black. holder filed a three-page letter. this eclipses the old record of  set in . council tax hasn\\'t council tax been frozen for most people? your schtick is getting stale. wait until they become more consistent and closer together. obama is extreme and leftwing. jury nullification has nothing to do with the constitutionality of laws. what conviction where you talking about before? so i actually read the op and guess what i found out. the government does not determine if you are married or not. democracy is a threat to liberty. hi pro and corn: how many threads do you plan on making? tell me exactly which system isn\\'t working right now? why are russians in damascus? operation chaos is merely people voting. originally posted by jond doubtful. classical gas we are all vessels filled with many wonders. to repeat: they are not as sovereign as they were before. morals have absolutely nothing to do with it ! i be having conversations will cornell west my dear brother. there is no war in the middle east. he had no intention of apprehending him. we are all vessels filled with many wonders. you\\'re \"a bunch of cells.\" what is a girl douche? jury nullification means a law isn\\'t constitutional? it\\'s definitely not what it used to be. the onus is on the manufacturer of a product to convince consumers it is safe. i think you are missing the point with entrepreneurs. \"cyclopes don\\'t exist\" - fine. landon and so this is christmas we are all vessels filled with many wonders. . sinful people do not get to heaven. how long after the obliteration should the kid return to school? holly holy we are all vessels filled with many wonders. what was the \"answer\" in chicago? the entire thing just makes no sense. who supposedly operated the homicidal gas chambers? genetic predisposition to cancer resistance is superior genetics. use of force in defense of person.-a that\\'s what the data available shows. joy to the world we are all vessels filled with many wonders. ive watched kids play. they\\'re looking at each other! are you driving one? religion that does that i have a problem with. i think he\\'d be better for american business interests overall. you fools..bought the  cover-up..hook.. \"what does pressing the number one do?\" what conviction would that be? charlie rangel censured did anyone see the footage of this? red october standing by. that\\'s just not how legal briefs are written. stone notified captain lord. are you driving one? and that is happening in gop controlled states. in  foxe basin was frozen. put a little love in your heart we are all vessels filled with many wonders. higher than  per cent but not very high. god definately does not exist. it is an excellent indicator of climate change. the great thing about living here is there\\'s space. i don\\'t understand how freedom of speech will be prohibited. the question needs to be asked. you purport to value life very heavily. the infestation posts. i don\\'t want a president who \\'cares\\'. do you have anything to make it less compelling or not? classical gas we are all vessels filled with many wonders. peeve so we agree that it came down essentially in freefall? pro-life people do not want a woman to be able to choose abortion for herself. so answer the question. haiti is a shithole. i absolutely do believe there was an iceberg in those waters. the face of the franchise: the worst part is that he\\'s not even a leafs fan! i agree completely i am hoping he is into a second term of office. jake with the assist. the people had awakened. umm the california was a cargo ship i dont care what the article says. florida the ignorance is yours! i\\'m going to shout for justice for trayvon. how do you know what\\'s right and wrong? and nugent was a complete fool to say what he said. it is all bush\\'s fault. you should stop prefixing or suffixing everything with you hate jews. yet you didn\\'t have to declare it. proverbs  john the baptist was a nazarite from birth. james : says faith without works is dead.  billion . everyone in the world at mexico\\'s current prosperity level. and videos seismic data does not equal duration of collapse. originally posted by lone fox you\\'ve said that multiple times now. but do you actually believe there was an iceberg in those waters? there is simply no winning for obama among conservatives. satan represents indulgence instead of abstinence! just so long as the tax on that sale is paid. fix?: islam itself is not political. march  is also the date for the uprising in china. i hope everything is ok! do you understand why it\\'s absurd to limit the question to us residents? depending on which action furthers their loony-tunes agenda of the moment. do you further agree that i have made no claim? zimmerman says that he was sucker punched by his car. there is no \"war\" in the middle east. part of pro-life is the opposition to legalized abortion. time of the season by the zombies we are all vessels filled with many wonders. we are all vessels filled with many wonders. the problem isn\\'t who has money. sadly ford did accept taxpayer money. the muslims would say the same thing about the qur\\'an. your confusion doesn\\'t make me a liar. when christians are extreme its just simply religion. some believe the \\'right\\' is most important. i am not the one claiming the right to decide over another woman\\'s body. where in the world is ron paul? you have no remains of a missile at the pentagon.  billion . everyone in the world at mexico\\'s current prosperity level. my hair is pretty thing tho :/ quote: ditto. it wouldn\\'t stop joke marriages. you seem to think that poor people are not responsible for their actions. why did that transaction take place. it\\'s about the baggage attached. we are all vessels filled with many wonders. the problem isn\\'t who has money. what makes you think the owl didn\\'t participate? lol looking forward to seeing your built-in\\'s! originally posted by jacko! thanks candy for starting the thread. except that it wasn\\'t. if evidence is not provided to support a position; then it should be rejected. everyone else at the current prosperity level of mexico. lol don\\'t you have to take a test to drive a vehicle in the us? if god does not exist can anything be morally wrong? a law is constitutional if it does not conflict with the constitution. originally posted by muslim girl ooops sorry! this is not your country. cone threw an  game. edited by lashl: edited to properly mask profanity. the jury is not told about juror nullification. runs victim down got any proof? i don\\'t think paul has a shot. time of the season by the zombies we are all vessels filled with many wonders. what if they messed up a study? specifically a baptist. and a large part of the east coast. why are you talking about women within the hebrew tribes? last night japanese forces attacked hong kong. . what is your definition of \"life force\"? that is not direct responsibilty to the constituents. my final word: ignoring has the effect of normalizing. the problem likely will mean corrective changes before the shuttle fleet starts flying again. sec chairman william donaldson said there is a \"building confidence out there that the cop is on the beat.\" sens. john kerry and bob graham declined invitations to speak. page said it\\'s also possible that genes on the y chromosome may influence gender-specific differences in disease susceptibility. one of the most well studied facets of temperament is how people respond to novelty. it\\'s the first such drill since the september 11 terrorist attacks on new york and washington. but it is clear that the joint intelligence committee was not involved. officials at brandeis said this was an \"extremely heartrending\" time for the campus. nterprise linux services is expected to be available before then end of this year. pines said he would convene the relevant party bodies within 10 days to discuss whether new elections would be held or whether a temporary leader would be appointed. mr. grassley and mr. baucus rejected any disparity in drug benefits. shares of guidant plummeted in trading both on and off the new york stock exchange before a news halt was imposed after midday. the judge also refused to postpone the trial date of sept. 29. glover spoke at a news conference that included about 20 relatives of the victims. four other men who were also charged in june have already pleaded guilty. but the justices ruled that the police supervisor who repeatedly questioned martinez did not violate his fifth amendment rights in doing so. microsoft has been awarded a patent for a feature in instant messaging that alerts a user when the person they are communicating with is inputting a message. the arrests revealed new details about the four-month investigation at selenski\\'s mount olivet road home. the transaction will expand callebaut\\'s sales revenues from its consumer products business to 45 percent from 23 percent. iraq\\'s economy was ravaged during years of u.n. sanctions over ex-president saddam hussein\\'s 1990 occupation of kuwait and by the u.s.-led war to oust him which ended in april. one had also pointed to the word refugee in an english/turkish dictionary. advancing issues outnumbered decliners about 8 to 5 on the new york stock exchange. a beauty contest to be held in italy next week may be the first for pixel-perfect pin-ups. boeing\\'s board is also expected to decide at its december meeting whether to offer the airplane for sale to airlines. bush said resistance forces hostile to the u.s. presence \"feel like ... the conditions are such that they can attack us there. defense lawyers had said a change of venue was needed because massive pretrial publicity had tainted the jury pool against their client. most taxpayers will get surprise tax cuts of between $4 and $11 a week from july 1. security lights have also been installed and police have swept the grounds for booby traps. but u.s. troops will not shrink from mounting raids and attacking their foes when their locations can be pinpointed. moore had no immediate comment tuesday. but white house spokesman ari fleischer said yesterday: \"the steps the iranians claim to have taken in terms of capturing al-qa\\'ida are insufficient.\" the results were released at tuesday\\'s meeting in seattle of the american thoracic society and will be published in thursday\\'s new england journal of medicine. his dissent was joined by chief justice william h. rehnquist and justice clarence thomas. united already has paid the city $34 million in penalties for not meeting the first round of employment targets. staff writers selwyn crawford and colleen mccain nelson and brian anderson of dallasnews.com contributed to this report. the commerce commission would have been a significant hurdle for such a deal. prosecutors filed a motion informing lee they intend to seek the death penalty. that package included increases to both the city\\'s sales and income taxes. tamil parties blame the liberation tigers of tamil eelam (ltte) for these killings. a lawsuit has been filed in an attempt to block the removal of the ten commandments monument from the building. chairman michael powell and fcc colleagues at the wednesday hearing. tehran has made clear it will only sign the additional protocol introducing such inspections if a ban on the import of civilian western nuclear technology is lifted. but i would rather be talking about high standards than low standards.\" the 2000 democratic platform supported \"the full inclusion of gay and lesbian families in the life of the nation.\" he was the ace of diamonds in a pack of cards depicting iraqi fugitives that has been issued to u.s. troops. half of the women were given a daily dose of the drug and half took a placebo. the blasts killed two people and injured more than 150 others. mailblocks was founded five years after webtv was acquired by microsoft for $425 million. general jeffrey said he would donate his military pension to charity for the period he was in office at yarralumla. long lines formed outside gas stations and people rushed to get money from cash machines sunday as israelis prepared to weather a strike that threatened to paralyze the country. nasa satellite images show that arctic ice has been shrinking at the rate of nearly 10 percent a decade. some women are also concerned that so many women are turning to cosmetic surgery in a quest for bodily perfection. the notification was first reported friday by msnbc. its legal representatives began meeting with plaintiffs\\' attorneys last week to discuss a settlement. the flamboyant entrepreneur flagged the plan after a meeting in london with australian tourism minister joe hockey. government bonds sold off sharply after greenspan told congress on tuesday that the u.s. economy \"could very well be embarking on a period of extended growth\". british police arrested 21 people early tuesday in connection with the suspected ritual murder of an african boy whose torso was found in the thames river. eric gagne pitched a perfect ninth for his 23rd save in as many opportunities. janice kelly said her husband had received assurances from senior mod officials that his name would not be made public. cooley said he expects muhammad will similarly be called as a witness at a pretrial hearing for malvo. the unions also staged a five-day strike in march that forced all but one of yale\\'s dining halls to close. the us senate judiciary committee overcame a significant hurdle yesterday in the battle to create a trust fund to pay victims of asbestos exposure. but she didn\\'t say whether she\\'ll certify the two-year $117.4 billion budget for 2004-05. michelle wie chips sunday during her 1-up victory over virada nirapathpongporn in the 27th u.s. women\\'s amateur public links championship. the ministry of defence is facing a 20m compensation claim from hundreds of kenyan women who claim they were raped by british soldiers. the show\\'s closure affected third-quarter earnings per share by a penny. blue chips edged lower by midday on wednesday as a wave of profit warnings drained some of the optimism that has driven a rally over the past three months. carlson on tuesday said he would not recuse himself from the case. but other sources close to the sale said vivendi was keeping the door open to further bids and hoped to see bidders interested in individual assets team up. micron has declared its first quarterly profit for three years. u.s. prosecutors have arrested more than 130 individuals and have seized more than $17 million in a continuing crackdown on internet fraud and abuse. chavez said investigators feel confident they\\'ve got \"at least one of the fires resolved in that regard.\" the man accused of using fake grenades to commandeer a cuban plane that landed in key west in april was sentenced friday to 20 years in prison. entrenched interests are positioning themselves to control the network\\'s chokepoints and they are lobbying the fcc to aid and abet them. but church members and observers say they expect that the decision could be problematic for many episcopalians. express scripts esrx.o shares fell 3.6 percent to close at $66.89 on the nasdaq. police launched an international hunt for shevaun pennington after she ran away with 31-year-old toby studabaker saturday. peace rules defeated funny cide in the louisiana derby. mr sahel said police had identified the bodies of seven of the 14-strong cell believed to have carried out the five almost simultaneous attacks on saturday. the university of michigan released today a new admissions policy after the u.s. supreme court struck down in june the way it previously admitted undergraduates. the audiotape aired last week by the arab al-jazeera television network appears to be an effort to incite attacks. the company didn\\'t detail the costs of the replacement and repairs. the bill says that a woman who undergoes such an abortion couldn\\'t be prosecuted. there are 103 democrats in the assembly and 47 republicans. july 1st is the sixth anniversary of hong kong\\'s return to chinese rule. israeli soldiers knocked down empty mobile homes and water towers in 10 tiny west bank settlement outposts overnight as part of a us-backed mideast peace plan. the union had not yet revealed which chain would be targeted. meningitis is an infection of the spinal cord fluid and the tissue around the brain. opec producers at a meeting on wednesday are set to pressure independent oil exporters to contribute to the cartel\\'s next supply cut to allow for the return of iraqi oil. a federal grand jury indicted them on tuesday; the document was sealed until yesterday to allow authorities to make arrests. people who have opposed these actions throughout are now trying to find fresh reasons to say this wasn\\'t the right thing to do.\" sequent representatives could not immediately be reached for comment on the sco announcement. amazon also reported that the new york attorney general\\'s office had settled civil fraud charges with one of the spoofers it identified. the british foreign office said monday that coalition authorities in iraq were pleased that the men were freed. ridge said no real explosives or harmful devices will be used in the exercise. she asked to be excused from last week\\'s cabinet session to prepare for a meeting with the presidents of rwanda and uganda. the launch coincides with the javaone developers\\' conference in san francisco this week. he had been arrested twice before for trespassing and barred from the complex - home to his mother and two children. oracle corp\\'s chairman and ceo larry ellison didn\\'t rule out sweetening the company\\'s unsolicited offer to acquire rival peoplesoft inc. agriculture ministers from more than one hundred nations are expected to attend the three-day ministerial conference and expo on agricultural science and technology sponsored by the u.s. department of agriculture. doctors have speculated that the body’s own estrogen protects against cell damage and improves blood flow. they also found shortness was associated with a family history of hearing loss. such a step could put the issue before the un security council. dealers said the single currency\\'s downward momentum against the dollar could pick up speed if it broke below $1.15. five-time tour de france winner and cancer survivor lance armstrong had a few words of advice for other cancer survivors in denver on friday. police using pepper spray arrested 12 people monday night at a march and rally by about 400 activists protesting an annual training seminar of the law enforcement intelligence unit. colgate shares closed monday at $56.30 on the new york stock exchange. russ britt is the los angeles bureau chief for cbs.marketwatch.com. perry has called lawmakers into two special sessions to address congressional redistricting. negotiators said friday they made good progress during their latest round of talks on creating a central american free trade agreement. veteran entertainer bob hope celebrates his 100th birthday - and many years in showbusiness - on thursday. declining issues outnumbered advancers nearly 2 to 1 on the new york stock exchange. dewhurst\\'s proposal calls for an abrupt end to the controversial \"robin hood\" plan for school finance. other countries and private creditors are owed at least $80 billion in addition. he explained that he found antetonitrus when he came to wits in 2001 as a post-doctoral research assistant at england\\'s university of bristol. the jury also found gonzales guilty of using excessive force by dousing olvera-carrera with pepper spray. bryant previously said that hike had a greater impact on demand than officials expected. a spokeswoman at strong memorial hospital said doud was in satisfactory condition tuesday night. us military officials say rotor wash from the helicopter might have blown down the banner. a key figure in former state treasurer paul silvester\\'s bribery scheme was accused wednesday of changing his story about silvester\\'s alleged corrupt dealings with a boston investment firm. he said the fda was hoping congress and the courts would bring clarity to the situation and some financial relief to consumers. ernst & young admitted no wrongdoing with the settlement. the differences between grassley and thomas on energy and medicare have become so pointed that other members say their angry personal relationship is embarrassing the party. he and his colleagues attributed some of the communication gap to doctors feeling pressed for time. congratulations on being named time magazine\\'s person of the year. texans saddled with skyrocketing homeowners premiums might finally be getting relief. six democrats are vying to succeed jacques and have qualified for the feb. 3 primary ballot. but they don’t realize that until it’s too late (of course) because they’re potential victims in a horror movie. the euro has slipped nearly four percent since matching a record peak of around $1.1935 only last week and hitting an all-time high of 140.90 yen in late may. he arrives later this week on the first state visit by a us president. more than 100 police officers were involved in the busts that were the culmination of a two-year operation investigating the cocaine importing and money laundering gang. but the cancer society said its study had been misused. both are being held in the armstrong county jail. the two democrats on the five-member fcc panel held a news conference to sway opinion against powell. stanford (51-17) and rice (57-12) will play for the national championship tonight. eric gagne earned his 17th save in as many opportunities as he struck out three in the ninth and allowed only an infield single by greg norton. blair\\'s government included the charge that saddam sought uranium from niger in a september 2002 dossier setting out the case for military action. the spacecraft is scheduled to blast off as early as tomorrow or as late as friday from the jiuquan launching site in the gobi desert. at least 11 more cases in indiana and three in illinois are suspected. semiconductor giant intel corp. said yesterday that its second-quarter profits doubled from a year ago as stronger-than-expected demand for computer microprocessors offset the weakness of its communications chip business. lurd\\'s ja\\'neh also called for an interim government and the deployment of a u.s.-led western peacekeeping force. japanese prime minister junichiro koizumi said the shift of the rods was proactive.  the opposition japanese communist party was against the new law and feared it would lead to a stronger military.  some asean officials stated such standardization would be difficult due to different countries\\' political systems.  a key european arms control treaty must be maintained.  the golden triangle region was 1 of the world\\'s biggest producers of opium.  the united states dismissed the action as nuclear blackmail.  the meeting was 3 days long.  china is a nuclear power and member of the u.n. security council.  north korean officials are suspected of building nuclear weapons.  australian television reporter peter lloyd faces 3 new drug charges in singapore.  president vladimir putin signed a decree suspending russia\\'s participation in the conventional forces in europe treaty.  the extradition conditions stipulate that the tunisian can only be prosecuted for the single charge of falsifying documents that italian authorities can provide sufficient evidence to prosecute.  the attacks are believed to have come from russian administration ip addresses in response to the relocation of a soviet statue in estonia.  india and pakistan remain outside the treaty.  china is a member of the ballistic missile club.  russia may pull out of the treaty if the us and other nato allies refuse to ratify the amended version.  this is particularly true in the poorest countries.  iran has noticeably increased the number of executions in recent months as officials enforce a campaign aimed at promoting virtue and boosting security in  a statement issued by the official spa news agency stated that-- al-dosari was convicted of drug trafficking.  both tajikistan and uzbekistan share a border with afghanistan and have experienced raids by taliban-backed islamic militants in recent years.  russia said the system is a clear threat to russian security.  at the state scientific center of applied microbiology there is every kind of deadly bacteria that was studied for use in the secret biological weapons program of the soviet union.  the book states that the drug conveys a completely positive image.  40 inmates are serving sentences for murder.  russia is fulfilling obligations and decreasing forces.  executive director of the arms control association in washington daryl kimball stated that-- the iaea report is 1 in a series of bad signs.  the cfe is 1 of several issues negatively impacting russia\\'s relations with the united states and europe.  korobeynichev\\'s laboratory worked with the u.s. lawrence livermore national laboratory.  lugar and nunn are senators.  officials state that decision about the treaty will depend on u.s. action on its plans to deploy missile defense systems in poland and the czech republic.  signing of the agreement is a peripheral issue of the meeting of chiefs of defense staff from the 26 ally countries of nato.  the international atomic energy association stated that jordan has agreed to the additional measures.  there is much concern over the drug.  saudi arabia is an absolute monarchy that has taken steps towards reform.  the spokesman said there will be an exchange of opinions on topical international and regional matters based on a joint working relationship at the heart of the u.n. kamynin said russia recognizes the participation of libya in the work of the u.n. security council.  shalgam\\'s visit to london is the first by a libyan foreign minister since 1969.  indian and pakistani governments nearly engaged in a fourth conflict in 1999.  3 suspected extremists were released on bail.  6 czech hospital employees are charged with human organ trafficking.  this further aggravated the situation.  drug lord captured by marines in mexico sc dismisses govt\\'s review plea in vodafone tax case explosion hits oil pipeline in syria\\'s homs nato soldier killed in afghan attack castro celebrates 86th birthday monday israel ex-spy warns against \\'messianic\\' iran war eye opener: supreme court rules on arizona immigration law nato traces path out of afghanistan syria says suicide bomber kills 10 in damascus australian pm gillard set to win leadership challenge obama backs philippines over south china sea syrian rebels move command from turkey to syria knesset speaker: obama reelection bad for israel greece bond exchange the largest debt restructuring in history putin \\'wins russian presidential election\\' indian finance minister quits to run for president jerry sandusky found guilty in child sex abuse trial three tibetans self-immolate in western china: report white house in damage control over obama supreme court remarks saudis to permit women to compete in olympics nigeria university mass attacked by gunmen china\\'s cabinet promises to boost economy freddie starr arrested in savile abuse probe romney announces paul ryan as running mate suicide bombing rocks elite yemen military camp nato: 2 international troops killed in afghanistan moscow protesters demand vladimir putin\\'s resignation french election turnout higher than expected australia to establish the world\\'s largest marine reserve italy soldiers die in afghanistan abbas to lead palestinian unity government egypt’s coptic church names new pope malawi officially confirms president\\'s death mali\\'s tuareg rebels declare independence lance armstrong stripped of tour de france titles egypt votes on final day of presidential election aussie surfers find stricken asylum seekers isaf: 4 coalition troops killed in attack involving afghan police un security council unanimous vote on syria gunman kills 6 in shooting at wisconsin sikh temple audi to buy motorcycle maker ducati china news agency: still hope for syria peace 22 dead in suicide attack on yemen police academy south korea orders immediate shutdown of 2 nuclear reactors aol says to sell 800 patents to microsoft for $1.0 bn thousands of troops to march for jubilee middle east: israel: hamas leader convicted navy jet crashes into apartment building woman dies after abortion refusal u.s. and turkey weigh no-fly zones for syria death toll rises to 236 after brazzaville blasts i\\'ll have another retired to stud syria journalists rescue bid fails new sex claim hits secret service rimsha masih released on bail 1 person killed in sectarian clashes in lebanon gains in financial stocks push up european equities turkey raises alarm over syrian refugees suspected al-qaeda financier arrested in france israeli air strikes kill 16 in gaza palestinian prisoner ending hunger strike after deal hezbollah confirms it sent drone downed over israel rebel fighters \\'capture\\' syrian soldiers colorado shooting suspect was under psychiatrist\\'s care 6.6 quake rocks indonesia\\'s papua: usgs what time is andy murray v roger federer in the wimbledon men\\'s final? all you need to know about the big game new jersey school bans hugging iran (islamic republic of): iran steps up relief efforts after quakes kill 227 tsunami warning issued for southern alaska two reported dead in shooting at empire state building in ny australian unemployment up to 5.1 percent shares move higher on wall street halliburton 1q income rises 23 pct 4 killed in shrine bombing in northwest pakistan china stocks close mixed friday india bans bulk texts after riots un monitors yet to reach site of syrian \\'massacre\\' – video yorkshire soldier killed in afghan bomb blast radical islamists in mali enlist new militia olympics opening ceremony a hit around globe man killed in french terror raid capello quits as england manager 2 palestinians killed in israeli airstrikes pakistan condemns u.s. drone strikes sarkozy to file complaint in gadhafi funding claim \\'iran will attack tel aviv if israel strikes\\' gusmao consolidates power in east timor elections pena nieto wins mexico presidential vote: exit polls syria tells russia some troops have pulled out of homs nigeria plane crash: no survivors explosion at venezuela refinery kills at least 39 strong earthquake hits mexico pakistani plane crashes with 127 on board un security council orders global sanctions against haqqani network in afghanistan erdogan and putin talked in raised voice hurricane sandy closes in on us east coast panetta says afghanistan role to shift from combat in 2013 four men admit london stock exchange bomb plot israel threatens action against gaza aid ship bodies found at russian jet crash in indonesia syria urges refugees to return us soldier kills up to 16 civilians in afghanistan rupert murdoch: i was the victim of a cover up barack obama\\'s bodyguards sent back to us after prostitution scandal china\\'s yuan rises to new high against usd wednesday nissan to sell steer-by-wire cars tibetan monk dies after setting himself on fire in protest against chinese rule mumbai is 2nd costliest indian city to live in gusmao consolidates power in east timor elections un monitors yet to reach site of syrian \\'massacre\\' – video nato condemns syria\\'s downing of turkish military jet syria rebels attack lebanese post near border: army five killed in china building collapse syrian forces launch new attacks gazans fire 2 rockets into israel; no injuries boris johnson re-elected london mayor breivik drops far-right salute in court second teenager charged with murder french fear new serial killer after murders us: madoff brother to plead guilty in ny in fraud hollande defeats sarkozy in french presidency vote libyan government retakes tripoli airport clinton warns kenya of cost of election violence arkansas supreme court strikes down execution law s. africa\\'s former president mandela discharged from hospital un envoy in turkey for talks on syria islamist morsi wins egypt\\'s presidential election u.s. drone kills five militants in pakistan mali future interim president readies to take office court in bahrain rejects medics\\' last rally appeal hurricane sandy powers toward eastern seaboard clinton calls for friends of syria to unite jk rowling launches her first adult novel algerian government parties dominate elections security official killed in yemen us stocks fall as greek talks lumber; apple falls romney picks ryan as vice presidential running mate: source nato sticks to transition roadmap in afghanistan: rasmussen mubarak faces verdict in murder trial no blocks to investment blast kills 11 in northwestern pakistan 5 aid workers freed in operation in afghanistan two nato soldiers killed in afghanistan nadal tumbles into french open final putin claims victory in russia\\'s presidential election remains of 167 bodies found in mexican cave orphaned alps massacre girl returns to uk obama team raises debate stakes two kenyan ministers among 6 killed in plane crash thousands gather for new russian anti-putin rally google names new motorola mobility ceo massive hurricane sandy bears down on u.s. east coast another rocket hits eshkol; no injuries assange appeals extradition to uk\\'s top court strong quake jolts most parts of pakistan lebanese gunmen clash over syria crisis mob kills man for burning quran us drone strike kills four in north waziristan salvador dali painting snatched from new york gallery putin claims victory in russia\\'s presidential election sarkozy announces re-election bid eurozone unemployment stays at record 11 percent french socialist party wins parliament victory strauss-kahn investigated in french prostitution ring romney wins florida republican primary us drone strike kills four in north waziristan 2 traffic accidents leave 47 dead in china head of cia resigns over affair france\\'s strauss-kahn charged with involvement in prostitution vice ring sony reports record annual loss 9 killed in attacks after deadly iraq day barclays hit by fresh u.s. investigations us closes embassy in syria (ap) eu heaps new sanctions on syria russians rally against putin\\'s rule bahrain grand prix underway amid protests china stocks open flat monday sheryl crow says has benign brain tumor afghan parliament approves u.s.-afghan security pact us astronaut neil armstrong dead at 82 amnesty: syria rebels also committing abuses mitt romney wins republican primary in indiana east german rights activist gauck elected president south africa starts investigating mine violence santorum romping to minnesota victory space legend neil armstrong dies man arrested over double murder florida counties extend early voting warship sets sail for falklands palestinian prisoners to end hunger strike police: four killed in german hostage taking incident egypt lets mubarak pm back in presidential race syrian journalists killed in capital gop candidate romney to call to arm syrian rebels u.n. observer patrol arrives at syria massacre site american airlines and pilots agree on a new contract greek pm to announce new election government of canada supports montréal women leading change no problem if mulayam forms third front: congress bradley triumphs at firestone as furyk fades plane crash in ghana kills at least 10 six us troops killed in afghan bomb attack syria forces launch aleppo attack bbc director general resigns over \\'shoddy journalism\\' rick santorum wins kansas caucuses us pledge to rebuild haiti not being met chinese stocks close higher thursday greece to vote on 2013 budget; protesters gather clinton warns kenya of cost of election violence anti-american protests over film expand to nearly 20 countries journalists hail london olympics opening aust stocks open lower wikileaks begins publishing two million syria emails palestinians: 2 gaza militants killed in israeli airstrike on coastal strip mali\\'s president hands in resignation three killed in nigeria suicide bombers attack hrw: jordan biased against palestinians from syria israel among top arms exporters in world: report egyptians to vote for new president federer wins 7th wimbledon title qaida leader calls for kidnap of westerners in egypt china stocks close mixed friday 43 killed in bus crash putin sworn in as russian president china trade returns to surplus in march highlights of the vice presidential debate syrian regime denies role in houla massacre south sudan accuses sudan of bombings ahead of talks nine killed in gun attack in pakistan minn. terminal reopens after evacuation golf: westwood takes lead in dubai desert classic sudan blocks youtube over anti-islam film polls open in russian presidential election chavez leaves again for cuba for radiotherapy romanian president declared victory russians rally support for orthodox church over pussy riot controversy clinton lands in india to breathe life into ties mali interim leader takes office putin declares victory in russian presidential vote al renews condemnation on syria\\'s violence eu slaps sanctions on assad family air force instructor faces sentencing for rape more than 30 striking miners killed iron dome intercepts 17 rockets mali islamists destroying \\'more timbuktu shrines\\' china stocks end higher on pmi at midday man convicted in vatican leaks case repsol blasts argentina over nationalization of ypf aung san suu kyi to address british mps sheriff: man recovers stolen car 42 years later iran may cut oil exports to more eu states factory fires kill at least 260 in pakistan australian among four on plane missing in indonesia romney vows to restore \\'promise of america\\' santorum\\'s 3-year-old daughter hospitalized mandela released from hospital hezbollah\\'s nasrallah warns us over anti-islam film nadal tops djokovic for 7th french open title obama urges decisive action on europe debt crisis beef burger mix recalled over salmonella concerns first significant gas found offshore kenya red cross worker killed in pakistan 8 rockets fired from gaza into southern israel; none hurt u.s. soldier killed in shooting incident in s. afghanistan polls close in egyptian presidential election police \\'did not link\\' savile claims eurozone unemployment stays at record 11 percent james murdoch quits bskyb iconic science fiction writer ray bradbury dies at 91 egypt presidential election may 23-24 four french soldiers killed in afghan suicide blast un observers find traces of syrian massacre ap poll: majority in us have prejudice against blacks ap source: redskins to trade for no. 2 pick china says defense budget to rise 11.2% in 2012 string of iraq blasts kills at least 32 ecuador president correa says no decision made on assange asylum us offers us$10 mil. for pakistan militant 6 nato troops killed in afghanistan ied attack osama bin laden wives to be jailed egyptians vote in landmark presidential election tsunami warning: no need for sa to panic us hands over bagram prison to afghan authorities jeremy hunt distances himself from adviser who \\'overstepped the mark\\' obama praises u.s.-latin america trade ties blitzbokke ousted by fiji obama and romney focus on swing-states \\'grenade attack\\' kills one and injures at least 11 \\'scores of bodies\\' found in syria shooter charged with murder of us black teen jonny bairstow and eoin morgan shine for england in mumbai how wind farm developers \\'use camera tricks to make turbines look smaller than they really are\\' us drone kills six militants in pakistan: officials nigeria: nigerian troops swarm after 40 killed in student massacre nerves calmed -- for now : markets jump on relief over spanish bank bailout heavy fighting reported in syria\\'s aleppo france says greece must show credibility for eurozone avengers sets box office record 4 french soldiers reported killed in afghanistan spanish bailout dilemma gets more acute nato soldier dies in afghanistan chinese stocks open lower wednesday palestinian leadership condemn israeli fm call to oust abbas mitt romney wins maryland gop primary man finds car on ebay 42 years after it was stolen nato: 4 aid workers rescued from afghan insurgents russia jails pussy riot protest punks for two years israel bars german writer grass from visiting over poem nato us troop detained over shooting of afghan civilians hollande wins french presidential election military: syria chemical stocks threaten israel fitch upgrades ford to investment grade clashes as greeks protest against more cutbacks china activist chen lands in us city room: empire state building shooting mohamed morsi sworn in as eygptian president attack on nato base in afghanistan kills 15 pakistan begins demolition of bin laden compound sudan blames israel for khartoum arms fire house-senate deal reached on payroll tax measure foreign pro-palestinian activists seek to enter west bank world stocks fall before greek debt deal deadline south africa police shot dead 30 miners britain reaches out to syria opposition obama relaxes deportation rules for young immigrants \\'whitey\\' bulger\\'s girlfriend gets 8 years mauritanian president shot by army unit man sets himself on fire at breivik trial u.s. drone strike kills 10 in northwest pakistan toys r us waives fee for layaway program iran expands nuclear enrichment activities: iaea report brazil\\'s \\'pop-star priest\\' gets mammoth new stage washington: more than 100 are charged in medicare fraud sweep putin claims victory in russia\\'s presidential election clinton ready to fight for obama romney announces paul ryan as running mate european markets rise on greek bailout hopes ukrainian weightlifter gets four-year doping ban gunman may have filmed school massacre hong kong stocks close down 0.28% suicide bomber attacks algerian security base thailand: iranians planned to attack israelis israeli military court rejects appeal of palestinian hunger striker avengers sets box office record putin \\'wins russian presidential election\\' putin casts ballot as russians vote libyans begin handing in weapons british archbishop of canterbury changes career to cambridge indian maoist rebels offer talks to free italian hostages two reported dead in shooting at empire state building in ny five dead in pakistan suicide blast penn state football players react to sanctions israel must release or try palestinian on prolonged hunger strike un report says both sides in syria abuse rights girl accused of burning koran goes into hiding france warns syria over chemical weapons use life-threatening midwest storms feared indonesian president to visit uk at least two nato killed in afghanistan helicopter crash: military president mills must quit - lecturer miami heat wins nba finals japan closes last nuclear reactor ryanair in new bid for aer lingus russian air force celebrates 100th anniversary 6 nato troops killed in afghanistan not so super tuesday for mitt romney putin sworn in as russian growth falters teenager and father killed in crash 2 americans killed as afghan unrest enters fifth day officials: romney to get secret service protection japan pm calls for quicker tsunami waste processing syrian fighter pilot defects to jordan syrian arab republic (the): syrian arab republic: syrian refugees (as of 28 june 2012) suicide bomber kills 16 in afghanistan airlines cancel \\'flytilla\\' activists\\' tickets to ta spain asks for bank rescue the murky waters of the south china sea sri lanka seek one-day revival against pakistan \\'million muppet march\\' to defend obama backing of pbs syrian opposition in reconciliation talks sensex down 193 points on budget blues facebook boosts size of ipo by 25pc to raise $15bn iran\\'s parliament questions a dismissive ahmadinejad yemen suicide attack kills 7 soldiers: officials presidential vote polarises egyptians three more us soldiers killed in afghanistan police raise death toll in bus accident to 8 four foreign soldiers killed in afghan east red cross worker killed in pakistan china mine accident kills 10 australia can eclipse england in windies protests at pussy riot verdict secret service sees its \\'biggest scandal\\' over prostitutes kuwait: activists storm syrian embassy; two injured details of aung san suu kyi\\'s visit to ireland key says marae visit a lost opportunity norway marks anniversary of massacre woman killed by falling debris aust shares up 1% after interest rate cut germany warns greece: no more money without reforms obama to meet families of shooting victims obama widens lead over romney despite jobs data: reuters/ipsos poll what the pope\\'s butler saw – aide arrested over vatican leaks anti-putin protesters form human chain in moscow washington\\'s acts of congress sells for $9.8m lakers fire coach mike brown after 1-4 start u.n. to take up syria resolution soldier \\'can\\'t recall\\' massacre 4 foreign soldiers killed in afghan east cause of whitney houston\\'s death could take weeks n korea warns of retaliation for south korea drill a tale of two passes: how the new york giants won the super bowl one dead in new israeli strike on gaza germany likely to press russia on syrian crisis four seriously injured in m23 motorway crash dozens killed in nigerian riots profiles of egypt\\'s main presidential candidates actor gazzara dead at 81 british gold rush silences gripes over cost avalanche buries at least 100 pakistani soldiers inflation falls to 15-month low: what the analysts say komen won\\'t cut planned parenthood funding forex &amp; gold 25 august 2012 iran says un nuclear talks will continue agribusiness: mad cow disease found in california bp sells some gulf of mexico assets for $5.55 bil 300 potential jimmy savile victims: police armstrong steps down from livestrong us drone strike kills 5 militants in pakistan syrian govt wont stop attacks chinese stocks close higher midday friday myanmar: opposition claims suu kyi win obama\\'s poll rating drops in boost for republican rivals two aust soldiers wounded in afghanistan new syria opposition chief wants no-strings aid south africa mine clash kills at least 30 egypt presidential election results delayed deadline passes with no new iran sanctions arrested russian killer denies ties to pussy riot norway memorial honours 77 massacre victims us afghanistan general linked to petraeus scandal chinese stocks fall after rrr cut - may 14 nkorea makes \"significant\" nuclear reactor progress - iaea nato strike \\'kills civilians\\' in afghanistan china stocks open higher wednesday idf to deploy iron dome in central israel 4 killed in us drone strike in pakistan us teen held in chicago \\'jihad\\' car bomb plot pc david rathband: twin brother\\'s fears for his \\'bestest mate\\' syrian forces move to retake aleppo wall street opens lower europe shares bounce as more china stimulus seen stock index futures point to lower start man charged after mp hurt in attack nokia apologises for \\'faked\\' ad us drone strike kills 5 militants in pakistan syria rebels leave besieged homs egypt\\'s mubarak critical assad says mercenaries are behind syria unrest japan pm dissolves lower house for election one nato soldier killed in s. afghanistan spain jobless rate hits new high turkey scrambles jets near border two die in syria violence after un monitors land taiwan rattled by strong earthquake bank of england\\'s paul tucker tainted by libor mess red cross says negotiating halt to fighting in syria to take aid german parliament overwhelmingly backs greek rescue deal burma\\'s reforms bring easing of u.s. sanctions usain bolt wins 200m – steven howard reaction dozens dead in taliban resort attack heavy fighting rocks eastern syria ahead of poll china yuan weakens to 6.3282 against usd monday 7 dead in christian school shooting indonesia anti-terror squad kills two suspected militants us election: mitt romney concedes defeat as barack obama wins second term armenians vote in parliamentary elections sachin tendulkar is sworn in as indian senator navy jet crashes into apartment building romney wins big in puerto rico primary yahoo! to name google\\'s mayer as ceo: report us soldier accused of afghan massacre hires prominent criminal lawyer us gov\\'t officially designates haqqani network as terrorists motor racing: button fastest in year\\'s first f1 practice rangers voted into division three newark mayor saves neighbor from fire f1 protests in bahrain new york stock exchange to reopen wednesday homs mortar fire kills 105 hundreds honor student killed in ohio shooting us lawmakers take next step on new iran sanctions barack obama admits us has \\'more nuclear weapons than we need\\' 2 rockets hit in the eshkol region; no injuries \\'betrayed\\' disabled workers protest against remploy closures dr congo rebels kill park rangers 74 dead in egypt soccer violence unrest in tense nigeria leaves at least 95 dead hurricane sandy makes landfall in southeastern jamaica: nhc remarks with prime minister elkeib after their meeting barrick in talks with china firm over african assets weak earnings drag stocks lower 6.8 quake strikes off solomon islands liquid ammonia leak kills 15 in shanghai weiner stays in nyc mayor\\'s race amid new sexting scandal death toll rises in russia plane crash indian media: commonwealth summit syria military police chief defects to opposition boeing 787 dreamliner catches fire; stock takes a beating yvette cooper backs gay marriage bill five killed in belgian coach crash gunmen abduct seven foreign workers in nigeria israel planes strike inside syria iranians vote in presidential election 100 killed in new darfur tribal clashes protest against us drone strikes in pak postponed 12 killed in bus accident in pakistan carney sets high bar to change at boe 8 arrested after deadly bangladesh building collapse suicide bomber kills 3 at us base in afghanistan north korea postpones family reunions with south gunmen kill 10 foreign tourists in northern pakistan david beckham announces retirement from soccer matt smith to leave doctor who after 4 years generations divided over gay marriage 23 killed in iraq car bombings man who set himself on fire on national mall dies of injuries taliban attacks kill 17 civilians in afghanistan egypt minister survives assassination attempt ex-first lady barbara bush leaves texas hospital schumacher in a coma after ski accident 11 killed in chinese police station attack bradley cooper and jj abrams in talks about filming a lance armstrong biopic eu ministers \\'determined\\' to resolve horsemeat scandal thai opposition party to boycott general election brazil tied 2-2 by england as maracana re-opens george w. bush warns against bitter immigration debate russia condemns north korean nuclear test hundreds of bangladesh clothes factory workers ill yemen suicide bombing kills soldiers 18 trapped in russian coal mine blast thai protesters break into army headquarters israel conducts airstrike on syria police fire tear gas to disperse protesters in tunis egypt\\'s main opposition rejects president\\'s call for dialogue tokyo to host 2020 olympic games housing starts up 6.8% in may &gt;cuba\\'s castro assumes celac presidency 6.9 magnitude earthquake hits new zealand dozens feared trapped in india building collapse daily press briefing: south sudan islamists attack north mali city after suicide bombings britain set to deport of abu qatada french parliament backs reform of law on prostitution north korea blocks kaesong access us senate approves fiscal cliff deal syria denies reports of deadly damascus nerve gas attack china stocks close higher after economic meeting russia unveils $30 billion oil link to pacific dolce and gabbana convicted of tax evasion 7.2-magnitude quake hits pakistan: cenc asteroid zips between earth and satellites fight for mali town reflects islamist tactics two santa trackers competing this christmas can the u.s. trust syria to hand over chemical weapons? bangladesh court sentences first lawmaker to death for war crimes mugabe declared winner of disputed elections death toll climbs to 15 in indonesia boat sinking egyptian court bans muslim brotherhood rouhani leads in iran presidential vote - preliminary results police attacked in belfast flag protests s.korea proposes \\'final\\' n.korea talks over kaesong india gang-rape victim \"struggling against the odds\" egypt increases security before pro-morsi protests yacimovich urges cabinet to approve palestinian prisoners release palestinians build another west bank tent protest bangladesh building collapse death toll hits 362 israeli envoys summoned over settlement plans hamas mixed sex schools ban takes effect man arrested after police officer shot in leeds ukrainian prime minister resigns amid protests obama to refocus on economy in state of the union google launches internet-beaming balloons iraq backs egypt crackdown on morsi supporters russia gives initial ok to american adoption ban five convicted in kosovo organ trafficking case gunman among 7 dead after florida apartment shooting obama lauds progress on gay rights in inaugural address wave of bombings kills 15 in iraq israel strikes syria as tensions rise on weapons gunmen kill nine people in northwest pakistan 8 arrested after deadly bangladesh building collapse x\\'mas cruise passengers hit by norovirus murder claim over diana\\'s death new information which has been passed to the police relating to the deaths of princess diana and dodi fayed is thought to include an allegation that they were murdered  snowden asks to stay in russia chinese shares close lower wednesday stomach bug to cause ailing nadal to miss australian open narendra modi pledges tough stand against pakistan egyptian court considers mubarak’s release boy scouts delay decision on admitting gays 2 car bombs kill 8 in southern iraq van der sloot to marry in prison tokyo stocks close down 0.26pc china stock index futures close higher -- dec. 4 pictures of the day: 7 august 2013 palestinians \\'hit\\' by israeli fire in gaza usa expels venezuela diplomats in row bbc veteran hall admits child sex abuse ryanair reports record profits but warns growth likely to slow this year stocks to watch at close on monday 6.3-magnitude earthquake hits taiwan books to help kids talk about boston marathon news profiles of kenya\\'s presidential candidates israel frees palestinian prisoners obama meets with mandela family u.s. senate sets off gun control debate car bombing kills 53 in damascus \\'friends of syria\\' in doha talks on arming rebels syria condemns israeli air strikes. egypt\\'s leader imposes state of emergency in 3 cities turkish pm urges to end protests in istanbul two men charged with terrorism offences eu receives nobel peace prize start of san fermin bull-running festival briefly delayed as view obstructed by basque flag former lapd officer sought in irvine slayings tokyo shares close 0.88pc lower pakistan court demands \\'blasphemy\\' rampage answers 4.1 magnitude quake strikes u.s bangladesh opposition leader sentenced to death for war crimes alleged cop killer died from shot to head musharraf arrested in lal masjid case iran hopes nuclear talks will yield \\'roadmap\\' 35 militants killed in afghan raids: official north korea reportedly test-fires short-range missiles thai protesters obstruct vote; 1 dead in violence venezuela\\'s hugo chavez dies of cancer north korea\\'s third test brings it closer to nuclear power status north korea conducts third nuclear test indian stocks open flat macau gambling revenue hits record $38 bn in 2012 nelson mandela memorial service nm county prepares for same-sex marriages hearing four u.s. air force helicopter crew members killed in uk crash tokyo to host 2020 olympic games malaysia detains australian senator at airport south korea says north fired missiles britain shuts down plants as horse meat scandal reaches france us warns syria on chemical weapons 37 killed in bus crash in italy china yuan strengthens to 6.2689 against usd u.s. recognizes syrian opposition egypt votes in new constitution preston and england legend tom finney dies at 91 car bomb kills one and wounds five in benghazi roadside bombs kill 5 in afghanistan sri lanka\\'s tamils vote for greater autonomy french-led troops close in on timbuktu nato airstrike kills two afghan kids gunmen kill 11 foreign tourists in pakistan n korea to halt work at joint industrial zone france pledges military aid in mali egyptians vote on divisive constitution reid cites \\'tremendous progress\\' in debt ceiling talks 6.2 magnitude quake jolts sarangani chairman of easyjet to step down obama renews offer to cut social safety net in big budget deal: aide suicide bomber kills 14 at afghan province council committee nears final big immigration decisions us troops killed in afghan insider attack mother arrested on suspicion of manslaughter after dog kills daughter tunisian opposition politician shot dead un presses need for major boost in syrian aid stocks soar on wall st lead george zimmerman found not guilty of trayvon martin murder whistleblower edward snowden flies to moscow insiders reveal 2012 election secrets royal sorrow over nurse\\'s death n korea says it may delay controversial rocket launch critical gates memoir rocks obama administration jeff bezos bets $250 million on reviving washington post brooks pleads not guilty to hacking charges purge sends chilling message to north korea\\'s elite south africans mark ailing mandela\\'s 95th birthday obama declares health care law is working heavy rain raises threat of christmas day flooding thousands protest gay marriage taiwan gang leader nabbed at airport after 17 years iran nuke talks begin amid hopes of progress thai political protests paralyse more ministries amazon\\'s bezos to buy the washington post for $250 million obama economic tour buffeted by low expectations israel vows to deny hezbollah after air strike france welcomes us-russia deal on syria more french soldiers to central african republic un resolution orders syria chemical arms destroyed exclusive-update 2-egypt pro-mursi alliance signals flexibility in talks david beckham to retire at end of season 6.0-magnitude quake hits greece -- usgs search after man swept into sea militants stage pakistan jailbreak nato protesters acquitted of terrorism charges taliban on agenda for us in pakistan egypt interior minister survives bomb china\\'s yuan weakens to 6.2767 against usd thursday obama holds talks over syria action egypt \\'freezes muslim brotherhood assets\\' zen report: ain\\'t easy being high maintenance tony abbott sworn in as new australian pm egypt army cracks down on brotherhood venezuela assembly meets amid chavez health crisis syria opposition threatens to quit talks suicide bomber kills policeman in pakistan anti-government protesters storm the streets of kyiv chicago man to be sentenced for terror convictions us drone strike kills three in northwest pakistan manning sentenced to 35 years for leaking government secrets uk police say no terrorism link to helicopter crash suicide bomber kills 13 in russia\\'s south eurozone jobless hits fresh record high obama signs up for obamacare lance armstrong confesses all to oprah hushen 300 index closes higher -- oct. 14 us state department faulted over benghazi soccer-france to host australia for first time in october honduran ambassador to colombia sacked after wild party syria must destroy chemical weapons moderate tremor in the central mediterranean three afghans killed in suicide attack suicide bomber kills 9 at pakistan political rally four morsi supporters killed in egypt clashes students take a ride on airwaves pistorius officer dropped from case vinnie jones reveals cancer battle new dozens killed in air strike on bakery in central syria police confirm how suspect was captured destruction of syria\\'s chemical weapons begins un says us drones violate pakistan\\'s sovereignty obama praises mandela \\'inspiration\\' the e-mails - oil firm asked trader about meeting with minister death toll in nigeria police attack rises to 30 australia to scrap soaring national debt ceiling asian markets hit 3-wk high on hopes of us debt deal italian prime minister mario monti resigns south africa admits mistake over \\'schizophrenic\\' mandela signer iran says serious issues remain in nuclear talks seven peacekeepers killed in sudan\\'s darfur us stocks tumble on third day of shutdown guinea votes in long-delayed legislative poll nato: 3 troops killed in afghanistan attack israeli soldier hits palestinian child in hebron un voices alarm over israeli strikes on syria egypt army launches new air raids on sinai militants french forces attack al-qaeda\\'s mali allies egyptian police fire tear gas at brotherhood protesters dozens injured as boeing 777 jet crash lands at san francisco airport 13 children die in fire myanmar mosque fire us senate to vote on fiscal cliff deal as deadline nears man with knife arrested at entrance to buckingham palace 5 people buried in colorado avalanche ban ki-moon to review syria chemical arms accord iraqi president in hospital due to health problem malaysia\\'s long-ruling coalition hangs on to power explosions near the iranian embassy in beirut 19 hurt in new orleans shooting hagel laments \"political\" changes to us defence budget egypt\\'s brotherhood stands ground after killings nato troops kill two afghan children iranian president calls for new nuclear talks 4 nato troops killed in afghanistan typhoon fitow makes landfall in east china mandela to spend christmas in hospital judge enters not guilty plea for james holmes at least 45 killed in spain train crash chris froome rides to tour de france endgame apple app directs drivers to alaska airport runway suspected us drone kills 3 militants in pakistan francis begins papacy with prayer us senate to meet as path out of fiscal impasse still elusive egypt\\'s brotherhood as beleaguered as its leader iraq violence kills 11 protests continue in tense ukraine capital britons released after kidnapping in egypt\\'s sinai -sources israel faces european backlash over settlement plan obama jokes about himself at reporters\\' dinner allen responds to farrow\\'s abuse claims in letter what is the nuclear option? forex &amp; gold 6 march 2013 islamists kill 21 in suicide attacks in niger u.s. has determined syria used chemical weapons snowden\\'s father arrives in moscow pakistani taliban names new leader after drone strike muslim brotherhood supporter dies in cairo clash facebook earnings jump 63% as mobile ads accelerate syria envoy calls for national unity government thirty-seven dead in italy tour bus plunge china stocks end lower thursday indonesia: schoolchildren among 14 killed by indonesia volcano eruption deal reached on new italian government singapore stocks close 0.4% higher maldives holds fresh election for president new world trade center declared tallest building in u.s. piers morgan questioned by police \\'israeli\\' arrested in yemen mossad spy pakistani girls learn a hard lesson egypt\\'s interim president appoints 2 advisors china launches first air-to-air missile from chopper uk confirms fears over syria\\'s chemical weapons egypt crackdown draws condemnation egypt swears in new interim leader car bombing kills 17 in pakistan senior pakistani taliban commander captured in afghanistan driver in spanish train crash faces questions from judge stocks close 0.39% higher us releases initial report on fracking impacts on water russia \\'alone\\' in blaming syrian rebels for chemical attack: us death toll from west chinas violence rises to 35 imran to contest from four na seats trailblazing israeli electric car company better place to fold houston texans head coach gary kubiak hospitalized after collapsing at game pro-pak taliban warlord killed in us drone strike car bomb kills 20 in northwest syria south korean soldiers kill man trying to cross border into north up to 50 dead in spanish train crash five foreigners sentenced to death for drug smuggling in egypt french train derails south of paris former spokesman for u.s. president ronald reagan dies egypt votes on new constitution obama meets mandela family as icon remains in hospital weak earnings drag us stocks lower in early trade three feared dead after helicopter crashes into pub nigeria lawmaker charged over alleged bribery rupee down 8 paise vs dollar in early trade israel\\'s peres urges return to peace talks obama set to speak on syria from white house at 1:15 p.m. edt indian stocks open lower us readies possible solo action against syria brief clashes with police in belfast china quake: death toll rises four arrested as bangladesh building toll rises to 352 ri condemns use of chemical weapons in syria strong new quake hits shattered pak region indian troops kill pakistani soldier along kashmir line of control pope benedict xvi says goodbye to cardinals china’s new carrier extends military modernization drive brazilian leader holds crisis talks on street protests tropical storm andrea zipping up the east coast four dead in indonesia train accident israel advances plan to build 900 settlement homes miss new york wins miss america crown austrian found hoarding 56 stolen skulls in home museum us set for obama inauguration suspected saudi militant dies in lebanese custody man sets himself on fire on the national mall 7 killed in attacks in iraq thousands protest gay marriage india ink: image of the day: january 27 us capitol hill on lockdown after shots fired china\\'s 1st pilot free trade zone opens select images from bangladesh building collapse chinese court upholds death penalties for mekong murderers egypt protesters \\'to be dispersed\\' gas cylinder blast on pakistan school bus kills 17 north korean cargo reveals missile repair trade with cuba israeli forces detain 5 palestinians in west bank protests sweep brazil despite concession angela merkel wins third term in german elections south korean workers start leaving joint factory zone senate to vote on moving ahead on hagel nod 15 killed and scores injured in suicide bombing at russian train station cambodian opposition leader sam rainsy returns to stir up election west hails syria opposition vote to join peace talks obama travels to tornado-ravaged oklahoma syria car bomb kills at least 12 in rebel-held town kerry: $4b palestinian economic plan could work bangladesh building collapse death toll hits 359 dozens dead in central african republic fighting libya threatens army action against oil protesters 2 turkish unions call for strike on monday in protest over police violence [ticker] fitch upgrades greek credit rating gunmen ambush police boat in nigeria oil region russians leaving syria cross into lebanon two u.s. soldiers killed in \"insider\" attack in afghanistan south african icon nelson mandela hospitalized pope francis condemns global indifference to suffering top judge mansour sworn in as egypt interim president blast kills 10 young girls in eastern afghanistan obama to announce gun control plans wednesday syria’s chemical weapons could end up at sea president for early conclusion of eco partnership with sri lanka three freed in centre abuse probe six australians killed in laos plane crash un confirms sarin used in syria attack 7 killed in monster truck crash merkel vies 3rd term in office in germany elections sprinters tyson gay and asafa powell test positive for banned substance pakistan to release most senior afghan taliban prisoner egypt court orders release of mubarak american investigators waiting to question arrested boston bomber bollywood cuts costs by a third as rupee collapse bites women to face higher car insurance premiums china gives us regulators access to audit records singapore stocks end up 0.26 percent china\\'s new pm rejects us hacking claims dzhokhar tsarnaev pleads not guilty to boston bombing charges pictures of the day: 7 august 2013 chinese general\\'s son gets 10 years jail for rape p.g. police seeking driver in crash that killed child egypt to hold presidential elections before parliamentary polls pentagon adjusts plans for more intense attacks on syria east timor bans martial arts clubs amid killings afghan legislators approve new election law egyptian army pushes to attack kidnappers south africans mourn as mandela buried witnesses hear \\'loud booms\\' at boston marathon cryptic crossword - saturday 27th april costa concordia captain to be tried for manslaughter israeli minister slams kerry\\'s boycott warning angelina jolie\\'s aunt dies of breast cancer myanmar’s suu kyi urges party unity amid squabbles 10 things to know for wednesday venezuela\\'s hugo chavez dies of cancer former zambian president arrested us senate confirms yellen as fed\\'s next chair asian shares rally after string of upbeat data officer injured in india anti-rape protests dies cyprus bailout remarks alarm markets faction names bianca ojukwu apga national leader us cannot \\'conclusively determine\\' chemical weapons use in syria twelve killed as gunmen raid village egypt shuts down muslim brotherhood newspaper strong earthquake in western china kills 47 people snowden thanks russia for asylum senate confirms yellen as fed head french forces take key mali town boston bombing suspect buried in virginia \\'large and extremely dangerous\\' tornado heads towards oklahoma city palestinian president assigns academic to form west bank gov\\'t pakistan\\'s malala leaves hospital to await surgery two found dead in swimming pool at essex hotel pakistan condemns us drone strike in shawal area residents return to texas blast site south africa prays for nelson mandela iran\\'s ahmadinejad may face charges over election appearance with aide miliband pledges to strengthen minimum wage singapore stocks close 0.44 pct lower sniper waiting for result of appeal apple shares hit hard on iphone disappointment eu renews sanctions against zimbabwe occupied palestinian territory: palestinians rebuff us peace talks blueprint egypt set to lure gulf investors us-russia reach agreement on syria voting canceled in three provinces in tense thai election obama cancels moscow meeting with putin klci futures traded mixed at mid-day suspected u.s. drone strike kills 5 in pakistan egypt court orders mubarak release hollande \\'threatens legal action\\' after affair allegations iranian exiles report deaths in iraq camp \\'blade runner\\' pistorius to dispute murder charge israeli forces detain 2 in hebron arrest raid egyptians vote on islamist-backed constitution mexico swears in president amid violent protests helicopter crashes near rail station in london indonesian capital prays for metro to ease traffic chaos typhoon survivors raid philippine stores car bomb wounds 15 in hezbollah stronghold in lebanon rf fm urges syrian opposition to assist in immediate release of all foreigners captured in syria us senate confirms janet yellen as us federal reserve chief khan said named as new pakistani taliban leader after hakimullah mehsud killed in drone strike at least 66 killed in bomb blasts in iraq russia destroys over 75% of its chemical weapons stockpile iran earthquake death toll rises suarez set for cup comeback maldives team in india to observe an election pakistan releases top afghan taliban prisoner mixed reactions to nz same-sex marriage tv weatherman fred talbot arrested over sex claims u.s. drone strike kills 5 in pakistan building collapses in india; 25 feared trapped somalia\\'s shebab claims responsibility for nairobi mall attack syrian troops push into strategic rebelheld town israel agrees to release palestinian prisoners dozens die as clashes erupt at morsi rally in cairo thai opposition protesters begin bangkok shutdown spanish train crash driver to be questioned france hails breakthrough after u.s.-russia deal on syria weapons isaf soldier killed in afghan \\'insider attack\\' about 60 crushed to death in ivory coast stampede glasgow helicopter crash search ends three dead in us marathon bomb swiss tourist gang-raped in india india braces for massive cyclone discipline against student gunman thought to have sparked colorado shooting many killed in japan road tunnel collapse no plan to shut petrol pumps at night moily tens of thousands of ukrainians protest in kyiv karzai to visit pakistan for taliban peace talks thieves snatch english channel swimmer\\'s custom-made wheelchair three die after car crash at tian\\'anmen singapore shares open lower on friday obama pledges to reignite economy kenyan forces caused mall collapse pak missions in uae gear up for elections bangladesh building disaster death toll passes 500 algeria hostage crisis ends; death toll unclear egypt ministry again urges end to pro-morsi protests south africa\\'s mandela taken to hospital china yuan strengthens to 6.2689 against usd police question man in deadly la boardwalk crash turkish riot police tear gas taksim square protest chicago shooting shows gap in stepped-up policing feds move to require car-to-car safety communication north korea shuns offer of talks prince charles \\'compares putin to hitler\\' iran warns against military intervention in iraq israel pm accuses iran president of hypocrisy police clash with youth in cairo after anti-morsi protest top diplomats meet in munich at critical time snowden \\'given refugee document by ecuador\\' na president‚äôs message on the world press freedom day eu foreign ministers to discuss syria arms embargo death toll from philippine earthquake rises to 185 stocks to watch at close on monday army jets kill 38 militants in nw pakistan air raids egyptian police fire tear gas at protesters in cairo philippines holds second senator over corruption german envoy optimistic about iran-g5+1 talks renowned spanish flamenco guitarist paco de lucia dies chinese icebreaker changes course towards suspicious objects snowden hits hurdles in search for asylum death toll in building collapse in south india mounts to 47 pakistan imposes temporary ban on 2 tv channels palestinian prisoners arrive at muqata in ramallah thai junta amasses security force to smother bangkok protests aso refuses to resign over nazi comments explosions kill 29 outside two mosques in lebanon\\'s tripoli pakistan fighter jets bomb \\'taliban hideouts\\' gunmen kill eight in second kenya attack u.s. resumes search for missing british sailors after public iraqi bomb attacks kill at least 13 egypt forces set to block access to morsi protest camps nobel author doris lessing dies at 94 japan\\'s opposition party chief criticizes abe\\'s economic policies 3 suspects taken into custody in boston bombing case ukraine\\'s opposition chief wants more protests queen pays tribute to nelson mandela declines in us stock market moderate suspected u.s. drone strike kills 5 in pakistan nypd twitter outreach backfires badly turkish search ends as last missing miners found iran predicts failure of israeli-palestinian peace talks olivia colman wins second bafta award titanic violin nabs record $1.4 million ankeet chavan granted conditional bail for marriage jal\\'s first order from airbus is blow to boeing sienna miller testifies at uk phone hacking trial israelis attack 2 palestinians in jerusalem area eu extends sanctions against russia cuba sees \"major role\" for foreign investment ‚äėglee‚äô star cory monteith found dead in hotel room iranian president makes debut on world stage cameron \\'has no concerns\\' over halal meat world\\'s oldest man dies at 116 death toll in lebanon bombings rises to 47 greek far-right leader imprisoned pending trial bangladesh factory owners arrested as death toll nears 350 4 egyptian soldiers killed in sinai ambush beijing\\'s aircraft carrier returns from south china sea moscow\\'s crimea success could lead to it redrawing ukraine\\'s eastern border nelson mandela dies aged 95 belgian king albert ii to step down in favor of son nazi gestapo chief \\'buried in jewish cemetery\\' swiss vote on highest minimum wage kevin rudd sworn in as australian prime minister easy rider star karen black dies aged 74 coronation street\\'s bill roache arrested red sox beat tigers to reach world series at least 22 dead after china earthquake news is my business glasgow helicopter death toll rises to nine david beckham to retire at end of season afghanistan: suicide bomber kills eight in military bus blast n. korea\\'s kim hails execution of powerful uncle tehelka editor embroiled in sex assault scam iron lady margaret thatcher dies at 87 four morsi supporters killed in egypt clashes u.n. condemns ethnic killings in south sudan oil town feds drop \\'morning-after pill\\' appeal police fire tear gas at protesters in bangkok china stock index futures close lower -- april 23 seven filipinos slain in yemen attack israel ends airstrike case; palestinians critical protesters topple lenin statue in kiev iran \\'thwarts nuclear sabotage attempts\\' china yuan strengthens to 6.1184 against usd tuesday protesters gather in brazil despite concessions queen visits london soldier attack scene india and china troops retreat to de facto border in face-off deal relief in boston as second suspect captured syrian army retakes crusader castle from rebels saudi to give lebanese army $3 billion red cross workers released in ukraine syria envoy says no peace talks without opposition queen to name biggest ever carrier bangla militants escape from prison van in bomb ambush wreckage of air algerie plane carrying 116 people found in mali influential palestinians seek one democratic state dozens killed in russian plane crash u.s. retailers agree to bangladesh plant safety pact us government shutdown begins - live updates suicide bomber kills 14 in afghanistan china launches probe and rover to moon all eyes on khurshid‚äôs trip ... australia cuts rates to record low chinese news agency slams delays in search for jet classic crossword - saturday 1st june n korea test-fires 30 short-range missiles palestinian diplomat dies in prague blast novice \\'steered south korea ferry\\' chinese president meets indian vice president death toll in nairobi attack rises to 59 china\\'s peace ark departs for the philippines thursday iran dissidents \\'killed in iraq\\' james gandolfini dies aged 51 nearly nine million people in \\'severe debt\\' updated - two explosions near finish line of boston marathon twelve killed in bomb blast on pakistani train the new cold war cuba\\'s \\'ladies\\' to pick up eu prize 8 years late fourteen killed in brazil bus accident us: assad used chemical weapons on syria rebels death toll in bangladesh collapse at 194 israeli teens missing in west bank president mourns death of mandela singapore shares open 0.31% higher on monday suicide bomber kills 23 iraqi army recruits thousands evacuated in moscow metro fire 7 killed by shiite al-houthi fighters in northern yemen iran excluded from syria peace talks: un kerry call on congress to end shutdown east ukraine separatists ask to join russia rudd sworn in as new australian pm moon rocks indicate earth\\'s orb born of collision blackberry loses us$965m in q2 egypt strongly opposes military action against syria pro-russia rebels downed malaysian plane: ukraine no argument with jakarta on boats: abbott us believes syria has probably used chemical weapons egypt\\'s opposition criticizes president\\'s speech syrian war seen dragging on for years russia says ballistic missiles fired in mediterranean ukraine\\'s yanukovych says he does not plan to resign flash floods kill 58 in eastern afghanistan investigators probe motives of lax airport shooter janet yellen to become first woman to lead the federal reserve muslim brotherhood banned in egypt more deaths expected in canada oil train explosion philippines defers comment on taiwan fisher attack russia releases greenpeace doctor russian aircraft wreckage found after a year 17 killed in us drone attack on yemen wedding party china manufacturing index at 11-month low: hsbc france to ban child beauty pageants ships train for syrian chemical weapons transport death toll rises to 29 in india\\'s mumbai building collapse extremists claim responsibility for niger attacks pro-russians forces enter ukrainian naval base in crimea body of missing south korean shipping tycoon found in field no update on nelson mandela\\'s condition ukraine: nine people die in kyiv clashes us flying surveillance missions to help find kidnapped nigerian girls prince george is christened at st james\\'s palace monty python to reunite for new show italian foreign minister confers with ghana vp bradley manning-wikileaks case turns to sentencing egypt poll: 98 per cent vote \\'yes\\' for new constitution israeli forces arrest 6 palestinians in overnight west bank raids hague \\'concerns over conduct\\' of zimbabwe election hong kong stocks end higher dignitaries pay tribute to paul desmarais vatican embassy in syria hit by mortar fire north korea blocks access to joint industrial zone \\'western\\' forces attack islamic militant base in somalia hong kong set for huge democracy rally on handover anniversary five children buried alive in bohol landslide 6 killed by hot lava as indonesia volcano erupts at least 11 killed in india building collapse egypt\\'s presidential election begins son of us evangelist kills himself the son of popular us evangelist rick warren has killed himself. italian parliament backs new pm russian lawmakers pass new bill restricting internet nato condemns ukraine crackdown china to investigate eu wine exports conan o\\'brien at the white house correspondents\\' dinner boston bomb suspect charged; religious motive seen asian markets mixed on china trade data world\\'s oldest person dies in japan at 116 foreign exchange rates in india colorado wildfire destroys more than 90 homes as winds worsen earthquake of 6.3 magnitude strikes off indonesia island \\'it\\'s either too late or too early to intervene in syria\\' iran\\'s nuclear negotiating team leaves for kazakhstan u.s factory orders down 0.7 pct in january gunmen surround libya\\'s foreign ministry to push demands typhoon death toll rises to 3633 uganda\\'s president signs anti-gay bill russian parliament allows putin to use military in ukraine bradley manning acquitted of aiding the enemy g7 \\'to intensify russia sanctions\\' rock bands\\' plane makes emergency landing in ill. russian prime minister on second day of crimea visit judge oks force-feeding california inmates gang violence kills 16 in venezuelan prison tropical storm karen targets us gulf coast bangladesh islamists rally against atheist bloggers crash of malaysia airlines flight mh17 in eastern ukraine suicide bomber kills 13 at restaurant in central somalia anthony weiner slips to fourth place in new poll pregnant sudan woman who married a christian man sentenced to death for \\'apostasy\\' us top diplomat kerry\\'s wife rushed to hospital kerry pursuing \\'quiet strategy\\' in mideast peace process north korea says to restart nuclear reactor egyptian court considers mubarak‚äôs release boston bombing suspect charged in hospital bed more rain hampers indian flood rescue a look at major terror attacks in east africa russia responds to ukraine ceasefire kim jong-un executed his \\'worse than a dog\\' uncle colourful support at world cup in brazil mandela remains in hospital south korea ferry crew members stand trial egypt votes on new constitution us drone strike kills six in pakistan officials vietnam detects signals from missing plane birthday of dprk to be celebrated in peru powerful 7.6 quake strikes off solomons india ink: image of the day: may 21 australia leader ousted in snap leadership vote argentina declares mourning for flood victims google releases nexus 5 phone with kit kat bombing aimed at hezbollah hits southern beirut factories that ran on korean cooperation go silent chinese premier meets indian vice president algerian president in france for medical tests islamists still holding some 30 hostages as kenya mall standoff continues manchester city wins second premier league title in three years bodies of mh17 crash victims flown to netherlands egypt policeman killed in sinai attack extension likely for iran nuclear talks fire kills 38 in russian psychiatric institution russia warns it may not sign landmark un arms treaty didier reynders on syria north korea: experts call for dialogue ‚äď and say china must play a part china stocks open higher monday sony xperia z2 and nokia‚äôs x series unveiled new coronavirus can probably can be passed person to person- who mandela back in hospital in ‚äėserious but stable‚äô condition east harlem explosion death toll rises ukrainian prime minister resigns amid protests royal hoax dj takes action against station arsenal v stoke city ‚äď live! tropical storm karen targets us gulf coast workers killed in india building collapse north korea fires three short-range missiles car bomb kills 37 in northwest pakistan malaysia airlines loses contact with plane carrying 239 to beijing malaysians vote in polls for stability or change fire destroys ancient tibetan town in china yahoo agrees to buy tumblr for $1.1 billion cash india starts voting in world\\'s largest election car bomb in northern syria kills at least 12 philippine quake death toll climbs to 73 search ends for missing asylum-seekers ukrainian president orders 7-day ceasefire in the east icc champions trophy: india vs south africa supreme court takes on affirmative action in michigan ban case headlines in major iranian newspapers on sept 30 cyclone leaves trail of destruction in india taliban kill 15 police in west afghanistan thousands rally to support embattled tunisia government south africa\\'s mandela taken to hospital updated - two explosions near finish line of boston marathon at least two killed in southern egypt clash winter storm ion: state-by-state... corpses of 53 men found south of baghdad bomb attacks kill 20 in baghdad\\'s christian areas china sets bo xilai trial date muslims prepare for start of ramadan thousands of britons claim dole in germany suspected u.s. drone strike kills 5 in pakistan obama to sign up for obamacare general electric posts 9% profit drop for third quarter china yuan weakens to 6.1535 against usd russia finds dead lawyer magnitsky guilty in posthumous trial \\'trayvon could have been me\\' china sends largest fleet yet to disputed islands police: explosion in belfast cathedral quarter us postpones missile test over n korea tensions obama to meet privately with family of nelson mandela at least six dead in us shooting rampage gunmen kill 10 in philippine political violence israel downs drone from lebanon israel approves release of first group of palestinian prisoners ahead of peace talks deadly clashes as egypt marks anniversary nato: 5 americans killed in southern afghanistan conmen dressed as women steal cash cleveland kidnapper ariel castro found hanged in prison cell google unveils prototype self-driving car bangladesh garment factory fire \\'kills 8\\' us seeks to reassure wary gulf allies over iran deal ukraine hosts ‚äėunity talks‚äô pakistan\\'s musharraf under arrest in bhutto assassination trial date set for egypt\\'s muslim brotherhood chief red panda‚äôs short-lived zoo escape israeli doctors could be tried abroad for force-feeding palestinian prisoners washington pot shops prepare for historic sales rio airport workers strike on eve of fifa world cup son of top muslim brotherhood leader killed hot-air balloon catches fire in virginia mumbai indians puts t&t in its place kl shares remain higher mid-afternoon amazon launches new device for streaming video palestinian president receives jordanian foreign minister obama nominates new transportation secretary china yuan weakens to 6.1059 against usd french raid wine cellar for austerity auction s korea mps to visit kaesong complex algerian priest to lecture about christian heritage in n. africa headlines in major iranian newspapers on april 5 implications of palestinian reconciliation hijacker arrested after plane lands at geneva airport pcb appoints waqar younis as head coach us makes case for action against syria ankara protesters clash with police puerto rican arrested for production of child pornography ukraine signs eu trade pact as russia finalizes crimea annexation assad warns turkey of \\'heavy price\\' for backing syrian rebels indian stocks close lower indian rape accused face verdicts iran nuclear deal agreed at talks egyptian military spokesman denounces incitement against army snowden sees \\'no chance\\' for us fair trial headlines in major iranian newspapers on dec 30 dozens injured in connecticut train collision queen visits britain\\'s new prince ukraine: three killed in parliament protests ride operator charged in n.c. fair accident transcript reveals confusion over evacuation of south korean ferry fallen us firefighters brought home syria regime agrees to attend peace conference uk vote rejects military action new zealand set to legalise gay marriage singapore stocks end up 0.37 pct venezuelan president to visit china missing plane search turns to vietnamese islands official of malaysia airlines briefs relatives of missing flight passengers about search progress stars pay tribute to cory monteith los angeles airport worker charged with making 9/11 threats cristiano ronaldo hat-trick fires portugal to 2014 world cup finals britain\\'s prince philip set for \\'exploratory\\' surgery italian pilgrims die in bus plunge strong new quake hits shattered pak region syrian opposition offers assad truce in homs for duration of ramadan at least 20 dead in somalia attacks u.n. security council calls for humanitarian ceasefire in gaza chinese shares close higher tuesday car bombs kill 58 in iraqi capital ukrainian protesters back in streets for anti-government rally nigel farage calls on government to let syrian refugees into uk israel\\'s peres urges return to peace talks china yuan strengthens to 6.1184 against usd tuesday radio: israel set to increase palestinian prisoner release morsi\\'s supporters reject plan egypt court sentences 10 brotherhood supporters to death - sources obama condemns killing of 3 israeli teens mel smith dead at 60 and uk mourns a comedy favourite chinese shares close higher tuesday india ink: image of the day: july 2 russian coal mines seek new outlets in china ukraine‚äôs pro-russia protesters demand greater autonomy iraq army fights to retake tikrit iran condemns alleged israeli airstrike on syria fire at south korean bus terminal kills 5 protesters swamp streets to reclaim revolution tokyo stocks open down 0.24% australia returns asylum seekers to sri lanka in sea transfer shankill blast victims to be remembered 118 people killed in twin blasts in nigeria glee star cory monteith found dead in hotel room in canada tokyo stocks close up 0.13pc iran says ready for fresh round of nuclear talks those refused medical cards urged to contact hse world‚äôs largest building opened in west china israeli lightly hurt by stones in west bank death toll from egypt protests rises to 49 syrian opposition agree to landmark peace talks poverty stats doubt modi\\'s development claims pro-russia rebels to hold vote in ukraine georgians vote for new president eu declares hezbollah\\'s military wing terror group germany welcomes iran nuclear agreement gunmen kill nine foreigners in pakistan 2 indian traders stranded in china sent back home california governor declares drought emergency peace talks with palestinians would take months: israel official 17:02 23 killed in iraq car bombings air strikes kills dozens in northern syria chinese tourist abducted from malaysia un inspectors hail progress over syria chemical weapons two arrests made after protest against nigel farage gunmen kill 15 libyan soldiers pictures show completed costa concordia operation iran nuclear talks enter third day protesters gather in brazil despite concessions australian pm kevin rudd calls election for 7 september iran nuclear talks expected to resume this week bangkok tense on thai election eve china ‚äėwill protect interests‚äô of foreign business d.c. votes to decriminalize marijuana many dead as asylum boat sinks off australia north korea\\'s kim hails execution of powerful uncle margaret thatcher dies after stroke israel sanctions palestinians in new blow to peace talks uk sky news cameraman killed in egypt stocks rise in early trading fbi audio expert testifies in zimmerman trial iranian nuclear talks to be extended to november boston bombing suspect to appear in court death toll in india building collapse hits 42 obama announces creation of twin manufacturing hubs five charged with terrorism offences president obama reveals plans to withdraw troops from afghanistan by 2016 ftse bursa malaysia update: 11.30am glasgow helicopter crash search ends quotations in the news philip leaves hospital after 11 days bone fragment \\'could be king alfred\\' israel frees second group of palestinian prisoners two skydivers dead after colliding during us jump \\'iron man\\' jetpacks spark concerns in hawaii israel frees palestinian prisoners france says won\\'t \\'shirk responsibilities\\' in syria china\\'s anger at n. korea overcomes worry over us china yuan strengthens to new high against usd police stop maldives presidential election indian army kill 3 militants in indian-controlled kashmir car bomb kills 20 in northwest syria iran ups oil swap with eastern neighbors turkey president appeals for calm north korea test fires 30 missiles into the sea man dies in co donegal house fire polling stations open at ukrainian presidential election india ink: image of the day: april 21 two french journalists killed in mali gunmen kill nine tourists in pakistan israel and hamas to observe brief gaza truce china\\'s troubled xinjiang hit by more violence relatives scuffle with police after china fire kills 120 iran rejects claim on chlorine bombs india minister\\'s wife died \\'unnatural death\\' after affair rumours burial of boston bombing suspect appears legal 5 killed in s china road cave-in south africa president: mandela is improving syrian civil war in photos abdullah widens lead in afghan presidential poll imran blames rival for colleague murder bangladesh honors factory victims japan defends dolphin hunt after us criticism police fire teargas on venezuelan vote protesters wave of attacks kills at least 95 in iraq top chinese political advisor meets greek pm palestinian diplomat injured in explosion in prague ukraine leader pledges crisis talks 7 killed in attacks in iraq us military presence in east asia us believes syrian government used chemical weapons egypt\\'s muslim brotherhood refuses to back down astrazeneca pays $4.1bn to buy bristol-myers squibb out of diabetes alliance italian fugitive arrested in dominican republic israel carrying out ground offensive in gaza brahimi apologises to syria over lack of peace progress egyptian protesters issue morsi resignation ultimatum 5 things to know about the sochi olympics china stocks open lower on wednesday us delays missile test as tensions rise fire in beijing kills 10 venezuela expels three u.s. diplomats russia claims to have foiled possible terror act 3 chinese tourists killed in pakistan sevens world cup within kenya‚äôs reach austrian found hoarding 56 stolen skulls in home museum egypt launches offensive against sinai militants detroit eligible for bankruptcy protection: u.s. judge british nobel-winning author doris lessing dies israeli government authorises new settlements ahead of talks pakistani taliban chief killed in us drone strike putin signs crimea annexe treaty faa continues ban on us flights to tel aviv four more people arrested over australia\\'s largest illegal tobacco importation syndicate iran\\'s president condemns use of chemical weapons in syria a society fraying at the edges un invites iran to syrian peace conference italy bus crash death toll rises soccer ref punched by player dies angela merkel headed for narrow win in german elections israel detains 37 palestinians as arrest operation continues rebels kill 21 civilians in syria alawite village world sends emergency relief to battered philippines assad says syria will comply with un arms resolution south korean president sorry for ferry response food price hikes raise concerns in iran obama made last-minute decision on syria approval spain princess testifies in historic fraud probe senate confirms obama nominee to key appeals court u.n. rights chief presses egypt on mursi detention us senate confirms janet yellen as us federal reserve chief syrian rebel groups battle each other in north mayawati demands president\\'s rule in kashmir uganda\\'s president signs anti-gay bill boston bombing suspect buried in virginia six dead in philippine restaurant blast china army newspaper hits out at us\\'s prism programme silvio berlusconi expelled from italy\\'s parliament two killed in bahrain car explosion russia warns it will respond if interests attacked in ukraine hosni mubarak retrial adjourned until 8 june egypt protesters defy cabinet threat to end sit-ins couple marry in the uk\\'s first scientology wedding qatar\\'s emir hands power to his son egypt braces for \\'friday of anger\\' after carnage red sox beat tigers 5-2 to advance to world series china lands jade rabbit robot rover on moon ukrainian parliament dismisses president venezuela lawmakers brawl amid election tensions captain of sunken south korean ferry arrested iran nuclear talks enter third day woman dies while riding roller coaster in texas nobel author doris lessing dies at 94 over 100 dead as typhoon slams central philippines first post office savings bank atm opens in chennai israel agrees to 12 hour ceasefire quake of 6.2 magnitude strikes off indonesia\\'s sumatra - usgs british stuntman fell to his death in wing suit mishap what makes india vote? jaipur lit fest debates white diamond breaks record in hong kong auction chinese satellite spots large object in search area hamas urges hizbullah to pull fighters out of syria stocks edge lower following retail earnings police helicopter crashes into scottish pub australian pm says \\'very confident\\' signals are from black box mandela\\'s condition has \\'improved\\' philippe becomes king of belgium india anti-graft party takes charge in new delhi spain approves new restrictive abortion law obama orders syria \\'gas attack\\' inquiry german ambassador\\'s athens residence shot at ukraine\\'s jailed opposition icon tymoshenko walks free oklahoma examines what went wrong in botched execution napolitano elected for second term as italy president un court convicts 6 bosnian croats of atrocities saudi man with pressure cooker arrested at detroit airport north korea says to put us citizen on trial thai protests escalate amid violence egypt imposes state of emergency after 95 people killed sony to sell pc unit and cut jobs man kills 4 in calif. before police shoot him dead n. korea deports elderly american search leader urges caution in findings related to missing malaysian jetliner ukrainian presidency says deal reached at crisis talks jordan elected to take saudi seat on un security council at least 18 killed in iraq mosque bombing police surround protesters in belfast ahead of g8 george zimmerman found not guilty of trayvon martin murder mandela spends third day in hospital one killed in clashes at muslim brotherhood cairo offices saudi women to protest against driving ban russian parliament allows putin to use military in ukraine nelson mandela hospital release reports \\'incorrect\\' world stocks rise on hopes fed to keep stimulus no winners in a war of sanctions world cup hit by new stadium death tata nano and other indian small cars fail crash tests murray ends 77-year wait for british win malaysia airlines plane crashes on ukraine-russia border - live us to determine extent of chemical weapons use by syria the covert war in pakistan russia\\'s putin claims authority to invade ukraine senior cpc official meets top dprk leader\\'s special envoy turkey unrest goes on despite end to park protest pope calls for action on climate change in draft encyclical singapore shares open 0.28% lower on thursday who is jihadi john? headlines in major iranian newspapers on oct 4 us attorney general holder resigns top asian news at 2:30 p.m. gmt how the dow jones industrial average did wednesday us house republicans elect paul ryan as speaker top asian news at 4:00 p.m. gmt singapore shares open 0.83% higher on wednesday china treasury bond futures open higher tuesday us attorney general holder resigns headlines in major iranian newspapers on sept 27 china on high alert for typhoon kalmaegi saudi-led airstrikes hit yemeni capital mali hunts jihadist nightclub killers 7.3 magnitude earthquake strikes nepal tokyo shares open higher over buoyant u.s. market iran\\'s parliament backs nuclear deal hawaii preps for first hurricane in 22 years iraq bombings kill at least 26 sierra leone in ebola lockdown tokyo shares open higher on buoyant u.s. market lewis hamilton takes pole for russian gp un security council hears yemen envoy\\'s final ... markets live: waiting for china data suspected boko haram suicide bombers in nigeria kill 24 the end of the hong kong protests? russian warplanes strike inside syria cctv of gunmen in tunisia museum attack live blog: ukraine in crisis nigeria votes in tight presidential election prince william dons samurai gear on japan tour micronesia vice president to visit china islamic state issues video of beheading of us hostage teenager tests negative for ebola texas sues over syrian refugees new us sanctions target overseas cyber attackers greece bailout uncertainty weighs on global markets rooney helps man united beat everton 3-0 in premier league hard-line jewish leader shot in jerusalem backstage moves intensify as fight against islamic state widens egypt: ipi urges release of al jazeera journalist arrested in berlin occupied palestinian territory: israeli forces continue to shed palestinian blood in opt taiwan coast guard launches new ships as south china sea tensions rise burundi police fire tear gas at protesters ashya\\'s parents arrive for extradition hearing nigeria admits slow response in ebola case thousands cross austria-hungary border kranjcar leaves it late to rescue qpr against moses-inspired stoke oscar pistorius sentenced to 5 years in prison pro-palestinian activists march to un headquarters benzema faces possible charges in sex-tape case all 224 dead in russian airliner mystery crash govt. to hold talks with ftii students li na to announce retirement gunners fire but fail to advance in champions league iranian president praises nuclear deal boko haram disrupts nigerian elections plane crash site search called off for the night obama queries turnbull over china port deal china\\'s generous 1mdb bid seen reaping it big returns in malaysia hezbollah targets qaeda gathering along border with syria south korea reports seven new mers cases obama calls for international front against is north korea to put us citizen on trial hong kong officials resume work as protests thin ebola uk: nhs staff \\'panicked\\' after suspected ebola cases uk leader signals support for airstrikes on is in syria n. korea agrees to talks with south taiwan\\'s president charters plane to pay respects to lee two palestinians die in attacks on israelis ahead of kerry visit thomas cook accused of putting costs before customers narendra modi \\'photoshopped\\' image of chennai floods visit goes viral un chief welcomes peaceful presidential elections in guinea pakistan executions draw international ire two australians killed in kenya after bus crashed into river russian plane reportedly crashes in egypt severe gales as storm clodagh hits britain dozens of egyptians hostages taken by libyan terrorists as revenge for airstrikes president heading to bahrain putin spokesman: doping charges appear unfounded an air plane is taking off. a man is playing a flute. a man is spreading shredded cheese on an uncooked pizza. two men are playing chess. a man seated is playing the cello. two men are fighting. a man is skating. the man is playing the guitar. a woman is playing an acoustic guitar and singing. a person throws a cat on the ceiling. the man spanked the other man with a stick. a woman picks up and holds a baby kangaroo in her arms. a man is playing a bamboo flute. someone is folding a piece of paper. a panda dog is running on the road. a dog is trying to eat the bacon on its back. a polar bear is sliding across the snow. a woman is swimming. a cat is rubbing against a baby. a man is riding on a horse. a man pours wine in a pot. a girl is playing a guitar. a panda slides down a slide. a woman is eating meat. a woman is peeling a potato. a boy falls off his bike. a woman is playing a flute. a hare is running from a eagle. a woman is cooking a breaded pork chop. a girl running is flying a kite. a man rode a mechanical bull. a man is playing a guitar. a woman is dancing and singing in the rain. a man is slicing an onion. a man is pouring oil into a skillet. a lion is playing with two men. a dog is riding a skateboard. a man is carving a statue. a man is cutting an onion. a woman is peeling shrimp. a woman is cooking fish. a woman is playing a guitar. a baby is playing with a doll. a person is slicing some meat. a person is cutting an onion. a woman is playing the violin. a man is playing the guitar. a man is cutting up carrots. a boy is playing a guitar. a man is playing a guitar. a boy is playing a guitar. a boy is playing key board. a man is playing an electric guitar. a dog is licking a baby. a man is cutting and onion. a man is playing the drums. a woman is cutting a red pepper. a man plays the drum. a woman is riding a horse. a man is eating a banana. a man is playing two keyboards. a man cut a tree with an axe. a little boy plays with a toy phone. a man is riding a horse. a man is riding a horse. a squirrel runs around in circles. a man and woman kiss. a man is getting into a car in a garage. a man is talking. a man is playing the guitar. a person is cutting mushrooms with a knife. a tiger is walking around. a person is peeling an onion. a man is playing the trumpet. a woman is peeling an apple. a panda bear is eating some bamboo. a person is peeling an eggplant. the monkey pushed the other monkey. a squirrel is moving in circles. a man ties his shoe. a boy is playing the piano. a dog is eating a piece of watermelon. a woman is chopping broccoli with a knife. a man peeled a potatoe. a man plays a guitar. a man is slicing onion. a woman is swimming underwater. a man and woman is eating. a dog is chasing a ball. the men are playing basketball. a man is riding on a motorcycle. a man is singing and playing a guitar. the man is talking on the phone. a man is exercising. a man is talking. two bays are dancing. a girl is riding a horse. a monkey is riding a bike. a woman is peeling potato. a man is slicing potato. someoen is playing guitar. a woman is slicing ginger. a man is cutting a paper plate. a man is playing the flute. the man is playing the violin. a woman is breading some meat. a man is playing a keyboard piano. the lady cut up a green onion. a woman is boiling noodles in water. lionel ritchie dances while standing on the ceiling. a person is playing the piano. a woman plays on a flute. a boy is looking at a calendar. a woman is chopping onions. a man plays a guitar. a woman is sewing on a machine. a cartoon chef is flipping pancakes. a car is driving down the road. a man is talking on a phone. a man is riding on a horse. a man is eating. a man is playing a flute. a man is playing a piano. a man is dancing. a monkey is swinging from tree to tree. the people got off the train at the station. a dog bounces on a trampoline. a man is playing a trumpet. a man sings and plays the guitar. a woman is slicing a tomato. a man climbs up a rope. a man is climbing a wall. a man and woman are driving down the road in an open air vehicle. a shirtless man is sitting on a chair. two women are wrestling on the floor. a puppy is playing with a tennis ball. a kangaroo is eating. a man is playing a guitar. a man is cutting carpet with a knife. a man is riding a motor scooter. someone is slicing a tomato. a man is talking. a dog licks a baby. a man is slicing a tomato. a man slices potatoes. the woman is dicing garlic. a squirrel runs in circles. a boy is walking across a bridge. a man seated in a room is playing the guitar. a man is playing a flute. a woman is cracking an egg into a bowl. a man guts a fish. the men are putting suitcases into the car\\'s trunk. the man poured oil on the cut tomatoes. a man is slicing a bun. a man is playing a harp. a man and woman are walking arm in arm through a wooded area. a woman picks up a baby kangaroo. a fish is swimming. two women make something in a blender. a person is surfing. a man is stabbing a target. a man is playing a guitar. a man is spreading butter onto bread. a woman is boiling noodles in water. a group of people are dancing. a man is playing flute. a woman is mixing meat. a woman is cutting an onion. a woman is riding a donkey. a doctor rushes a patient on a stretcher. the woman is playing the flute. two pandas are laying together. a baby is laughing and giggling. a boy is playing a piano. a woman is slicing a pepper. the man is dancing. two cats are fighting each other. a person is writing with a pencil. a man is running down a road. a woman is flouring and rolling dough. woman is adding sugar to meat. a woman is pouring water on fish. a little boy is playing a guitar. a cheetah is running across a field. a man is eating a slice of pizza. a monkey is riding on a bus. a man and a woman are riding on a bicycle. a man is cleaning a glass door. a young man is singing while playing the guitar. a young girl is using sign language. a woman is doing her hair. an elderly man is getting into a red car. a large green ball hits a potato. a cat is playing a piano. dogs are swimming in a pool. the man used a machine to chop up a potatoe. a woman is cutting tofu. a herd of caribou are crossing a road. a man is riding a horse. someone is playing a piano. someone is riding a horse. someone is sewing things. a chicken is pecking at a dead mouse. a woman is picking up a kangaroo. a cat is playing with a camera. two men are playing guitar. a man is smearing butter on a slice of garlic bread. a man is running on rope. a woman is cutting a lemon. a man is playing a guitar. a man is cutting a potato. a woman is chopping octopus. a dog is running through water. a man is eating bread. a man is playing a guitar. foxes are eating from a plate. a boy is playing the piano. someone is playing a keyboard. a man is spitting. someoen is peeling a potato. a woman is slicing meat. a man plays an acoustic guitar. a woman is riding an elephant. a woman is kneading dough. a woman is placing skewers onto a rack. a car is driving down the road. smeone is laying down. a man is draining pasta. a woman is exercising. a woman is cutting up some meat. a man is playing a guitar. a man is cleaning the house. a man jumps onto a short wall. runners compete in a race. a man is mixing a bowl. a woman is riding a horse. a woman is slicing cucumber. a woman is taking a bath. a man is slicing a potato. a man is melting butter in a pan. kids are dancing. a man is playing piano. a man is giving an interview. a man is driving a car. a car is backing out of a blocked lane. the man sprinkled cheese on the pizza. a boy plays a piano. a man is playing a guitar. a man is playing a keyboard. a man is riding a mo-pad. a band is playing on a stage. a group of people get off a train. a woman is breading some meat. a dog is walking around a pool. a man is applying butter to bread. a woman is cutting some vegetables. some teenage girls are dancing for the camera. a lion is pacing in a pen. a man is cutting a potato. the horse is running. a man is dancing in rain. a woman is washing a freezer. a man walks across a tight rope. a woman is cutting a jalepeno. a dog swims after a tennis ball. a little kid is running around a fishing pole. a man is walking down a road. a man is making a speech at the podium. a man is riding on a horse. the person is slicing cheese. a man is shooting a gun. a woman is slicing meat with a knife. a woman is feeding her baby with a bottle. a woman is cutting a potato. a man is riding a white horse. a man is riding a horse. a man is shooting off a gun. a man is swinging on a rope. a man is carrying another man on his back. a man shows off a small monkey. a man is folding paper. a person is holding a skunk. a man is driving a car. the man is holding a lemur. zebras are socializing. a woman slices tofu. three men are playing guitars and singing together. elephants spray themselves with water. the dog is standing at the counter. a man drills a hole in a piece of wood. the woman is dicing garlic. a badger is digging the earth. a man is playing a flute. a baby is laughing and giggling. a helicopter lands. a woman is slicing meat. a man is playing a guitar. a woman rides an elephant. a puppy is pushing itself backwards. a woman is breaking a head of garlic into cloves. a dog is walking along the edge of a pool. a woman is mixing a cream in a glass with a spoon. a person is drawing. a woman is pouring batter into a bowl. a man is using a laptop. a woman is riding a water scooter. two people flipped tractor tires in a race. a person riding a mechanical bull a woman is using a sewing machine. a baby is crawling across the floor. a person is playing a piano. a woman is feeding a man. a monkey is teasing a dog at the zoo. a dog is laying on the floor. a man is playing his guitar. the man added seasoning to water in a bowl. a tied man is putting into water. a woman is slicing partially into half of an onion. a woman is carrying a kangaroo. a dog opens a can of food. a man catches a fish. a man is busting concrete. a man is slicing a leave. a child is stuck in a dog house. men are falling into a pool. a woman is swimming. a woman is dancing. a south african airways plane is flying in a blue sky. a bear is fighting wolves. a woman relaxes in an inner tube. a man is kissing a woman in stage. a woman is watching television. a woman is slicing potatoes. a man is playing the guitar. a woman is peeling garlic. a woman is cutting vegetable. a man is slicing a cucumber. a baby plays with a dog and ball. four people are floating on a raft. a man is cutting a potato. a rocket exploded. a dog is pawing at a fly in the carpet before it. a woman is shredding chicken. a person is slicing a tomato. a boy is pouring something from a pitcher. a woman is riding on an elephant. a man is playing the guitar. a dog is walking along a pool. a man cutting butter into a mixing bowl. a man is eating. a man gets knocked off of a horse. a man pops wheelies on a motorcycle. a man is rinsing a steak. two men are playing ping pong. a man is kicking a soccer ball. a person is slicing carrots in half. a person is blow torching cameras. a man is cutting open a box. a man is singing while walking down the sidewalk. a woman is dancing in the street. a woman is cutting some octopus. a woman is slicing up some pork. a baby is playing a guitar. the woman is tapping her fingers on the table. a lion is walking around. a man is performing stunts. a man pours water over a pilots head. a man and a woman shake hands. a woman is wake boarding on a lake. trees are hit by very hard winds. a woman is frying shrimp. the woman is playing the violin. a woman is playing the violin. a person is dicing an onion. a woman is dancing. a woman walks her dog down the street. some people are singing. a cat is licking from a saucer of milk. a woman is applying eyeshadow. two men are fighting using a form of martial arts. an officer is talking to recruits. a man is putting foods in a box. the man used a stenograph. a woman is making noodles. a woman seated is singing a song and playing the guitar too. some men are playing soccer. a man climbs up a rope. a man is taking a picture. a man puts vegetables into a pot. some men are sawing. the man played his guitar. a woman puts rice into a pan. a large amount of penguins are heading to the ocean. someone is handling a bun. a boy is playing a guitar. a man is emptying a plastic container. a man is leading a horse around by it\\'s halter. a piece of paper is being cut. the lady peeled the shrimp. a man tries to read the paper. a man is holding a animal. a monkey pulled a dogs tail. a person is mixing ingredients in a bowl. a woman is slicing a cucumber. a hamster is singing. a man in a hat sings a song. a soccer player scores a goal. a woman is pouring ingredients into a frying pan. a woman splashes around in the ocean\\'s waves. a man sprays another man with water from a hose. a woman is pulling some kind of sticky goo out of a bowl. a man is showing a t shirt. the man poured oil on the tomato slices. the man played his guitar with a friend. someone pours olive oil into a bowl of tomato wedges. a cat is licking a small bottle. a young man is talking to a leaf. a woman is pouring ingredients in a bowl. a cat is crawling under a piece of furniture on it\\'s back. a woman is dancing on a stage. a man is wiping the edge of a bowl off. a nuclear weapon explodes in a desert. a man is talking into a microphone. a young man is dancing. the woman is cracking eggs into a bowl. a woman is dancing in the rain. the ladies are performing a dance. a sea turtle is hunting for fish. the girl is using an eye pencil on her eyelid. a dog is riding on a bicyclists shoulders. a man is spreading out dough. a girl is tapping her finger nails. a man is showing his dog to the camera. a man is walking with several dogs. a person is cleaning a disk. different sets of teams are playing football on a field. an animal is walking on the ground. a man rides a water toy in the water. a man is spreading butter on a tortilla. a person is cutting  boiled egg into pieces. a male and female robot are kissing. the cat teased the dog by touching his head. a rhino is grazing in a field. the dog ran in the water at the beach. a man is doing tricks with a soccer ball. a cat and a boy play together. the dog is playing with the floor cleaner. a couple slow dances. a person is dumping chopped vegetables into a pot on the stove. a horse is running. a young girl is singing on a stage. a man pours cleaner in his sink. a person cuts a big green pepper apart. a woman spices some seafood. a cat is playing on the floor. a girl loses her kite. a woman is frying meat. a monkey is wading across a marsh. a panda bear is eating. the man is writing a letter. a boy is screaming. a boy is doing push ups. someone is cutting a tomato. a onion is being sliced. a woman is grilling pineapples. a truck is going down a hill. a youngster is sitting on a piano. the little girl is putting her hair into a pony tail. a woman cuts tofu into tiny pieces. a baby sneezed and scared another baby. a man is cutting a vegetable. a woman is swimming in the water. a man is playing an acoustic guitar and singing into a microphone. a man is preparing some dish. a woman jumps hurdles on a horse. a boy is sitting in a room playing a piano by lamp light. the man is exercising. a man is playing a flute. a man is holding a slow loris. a rabbit is kissing another rabbit. a hedgehog is biting at a blanket. a man is slicing a white onion with a mandolin slicer. a guinea pig eats a carrot. four young men stand still as a car explodes behind them. the man sat in his suit and smoked. a person is cutting leaves. the deer jumped over the fence. a baby is falling asleep. a man plays the guitar. a cat is pooping into a toilet. a man is moving large rocks. a dog is moving its mouth. a man is riding a bike. a man and a woman are talking to each other. a woman is cutting an onion. a baby is playing with a dog. a man is drawing. a woman is cutting a tomato. a kid is playing a guitar. a woman is cutting through an onion. a toy train strikes a toy car. a man is playing the flute. a cat is opening a drawer and climbing inside. a woman is deep frying food. a woman is cutting an onion. a man is playing a guitar. a man is singing on stage. a woman is riding a donkey. a man is playing a guitar. a woman brushes some shrimp. a man is dancing on the ceiling of a room. a woman is slicing onions with a large knife. a man plays a keyboard. a man is playing the guitar. a woman peels a potato. a man is holding a frog. a man is playing a guitar. a man is playing a flute. a man is playing a guitar. a man is playing a piano. a man is playing a guitar. a man is playing a guitar. two women are hugging on a couch. a man is slicing a cucumber. a kitten is playing with a toy. a dog is barking at a toy. a man folds a tortilla. a kitten is drinking milk. a man is driving a car. a tortoise is walking. a cow is eating hay. a woman is chopping garlic. a man is screaming. a man is playing guitar. a man is cutting a plantain. a woman is peeling a potato. a woman is tapping her fingers. someone is cooking okra in a pan. a man is mixing. a man is playing drums. a man is diving into a pool. a woman is slicing a leek. a boy is playing guitar. the man is dancing. the men are talking. a woman is putting gel on her hair. a man is playing a guitar. a group of people are dancing in concert. the man is shooting a gun. a man plays a piano. someone is slicing a onion. a man is cutting cucumbers. a woman is eating a cupcake. a man is chopping an onion. a baby is playing a guitar. a man is playing the drums. two girls talk on the phone. a man is chopping a tree trunk with an axe. a person is slicing a garlic into pieces. a woman is walking with a dog. a man is talking. someone is pouring milk into a blender. a kitten is playing with a ball. a woman is playing a flute. a girl is playing a flute. a cat is playing a piano. a girl is exercising. a person is slicing octopus. a man and woman are riding a motorcycle. two men are fighting in a cattle pen. a man is pouring oil into a pan. a young girl makes her bed. a cat is playing with a watermelon. a girl is jumping onto a car. a man is running. a cat is playing. a man is dancing. a man is dancing. a man is carrying someone on his shoulder. a woman is slicing a tomato. a woman is slicing a potato. someone is slicing a tomato. a woman is slicing a tomato. two robots are kissing. two boys are playing a video game. a woman is squeezing juice out of a lemon. a man is slicing a tomato. a man is slicing a tomato. a girl is filing her nails. a man walks down a staircase. two people are riding a bike. a woman is playing an electric guitar. a man is playing a guitar. a man and woman is walking in the grand. kangaroo eating. a man is exercising. a man is singing. a animal is eating. a man and woman is dancing in the rain. a man drives a car. a woman grates onions. two men are fighting. a man is driving a car. a man is driving a car. a man is slicing a bun. a woman is cutting meat. the man is slicing bread. a man is playing a piano. a baby elephant eats a sapling. a woman is cracking eggs. a boy is playing a key-board. a boy spanks a man with a plastic sword. a person is cutting an onion into pieces. a man is slicing a line of water bottles with a knife a man is writing on a paper. a woman is slicing a big pepper. a person is eating at a table. a man is playing guitar. a man is playing a harp. the man is walking. the man erased the work on the board. a man is riding a motorcycle through a town. a man is riding a motorcycle. a woman is slicing some onions. a woman is cutting broccoli. a woman is peeling a potato. someone is slicing fruit. a woman is dancing. a man is spitting. a man is mooing. the man played his guitar. a cat addresses the camera. a baby is laughing and crawling on the floor. a woman shoots a shotgun. a woman is dancing in railway station. a woman is exercising. a young boy is playing a wind instrument. a man breaks a bottle with a sword. a woman is cutting potato. a man peels an apple. the man is playing with a skull. a solenodon is walking along the ground. a little girl is playing the piano. a group of men are dancing. a woman is playing guitar. a cat is spun around by a ceiling fan. a girl is playing a flute. a woman is cutting an onion. a monkey brushes a dog. a woman is cutting a potato. a woman is playing a guitar. a woman is straightening her hair. a woman is shooting a gun. the man is eating cereal. a woman is taking a bath. a person crashes on a motorcycle. a man is feeding a mice to a snake. a man and woman are walking through the jungle. the lady poured the rice pudding into a bowl. a man looks out the window. a woman is cutting a lemon. someone is peeling a banana. the comedic mimes performed on stage. a cartoon woman is diving off a board. a woman puts a baby in a trash can. someone is playing paino. a person is quickly chopping mushrooms with a knife. a woman is cracking three eggs into a bowl. a man skateboards on a half pipe. a man is speaking at a podium. a man in a hat is playing a harp. a man is playing a guitar. a person is slicing a shallot. a man is dancing upside-down on the ceiling. two women are shopping. someone is seasoning two raw eggs in a bowl. a gibbon is swinging in the trees. a woman is cutting broccoli. a woman is combing her hair. a man is slicing a potato. a man is dancing. a deer jumps over a cyclone fence. a woman is dancing in the rain. a woman is sitting at a desk. a monkey is playing drums. a woman is picking tomatoes. a boy cuts grass with scissors. a man in a library is talking. a woman is cutting broccoli. a man is walking down a sidewalk. the man is playing the piano with his nose. a cat is playing. the animal is hopping. a man is lifting a barbell. a man runs with a truck. a man is sitting on a rock. a cat is licking its paw. a woman is adding oil to a dish. racers are running down a track. a woman is cutting potatoes. a woman is applying eye liner. a woman is slicing carrots. a rooster pecks at a dead mouse. the woman is slicing a tomato. a man is slicing bread. a woman is cutting big pepper. a woman is riding a horse. a woman is coating a pork chop. a woman is cleaning a shrimp. a man is talking. a woman is making some food. a man is laying on the ground shooting a rifle. a man is pouring pasta onto a plate. a man is singing into a microphone. a man shoots a shotgun. a man is playing a flute. a man is playing a guitar. a man is riding a horse in an arena. a plane is landing on a runway. a woman is lying in a raft. a man is mixing. a woman is hitting a man. a man is laying on the ground. a woman is riding on a horse. a woman is rowing a boat. someone is putting rice in a pan. a man puts pieces of meat into a plastic bag. a boy is playing the trumpet. a man is riding a motorcycle. a woman is cutting a carrot. a woman is slicing a potato. a woman is playing flute. a man is riding a bicycle around a parking lot. a band is playing and singing on a stage. the woman is riding a horse. a man is playing flute. a woman is dancing. a woman is slicing ginger. the tortoise is walking. a man is shooting a gun. the woman is singing. a man is adding oil to car. a dog is eating some water melon. a man is putting papers on a dish. a man and woman walking hold each other. the man slced through a thick rope with a sword. a man is playing a guitar. a person is tearing paper. a rat is running. a woman is talking on a telephone. a woman is peeling a tuber. a women slicing lemons. a man is running on rope. a man is drawing some figures. a man is playing a flute. a man is breaking an egg. a woman is cutting meat. a man is striking clay pots. a man an woman are dancing in the rain. a man is holding huge sunflowers. the bomb exploded in the desert. a american flag is blowing in the wind. a lion is walking around. a man is showing a bread. a woman is slicing some tuna. a dog is barking at an electronic toy duck. a woman is mixing an egg in a bowl. a woman is seasoning a piece of meat. a man is exercising. a man is peeling a banana. a person is playing a keyboard piano. a woman is painting the face of a man. a woman puts chopped eggplant into a skillet. a man is playing a musical instrument. a lion is trying to climb up over a wall. a man is tying a noose. a woman is dancing. the girl is spraying the plants with water. a person is peeling a potato. a woman is chopping garlic. a woman is slicing an onion. a man is dancing. a woman fixes her hair. a soccer player kicks the ball into the goal. a little girl is playing a grand piano on stage. a man is drawing on a digital dry erase board. the monkey swung from branch to branch. two boy are playing on a trampoline. a women slicing green pepper. a man is putting anti-freeze into a car. a man is climbing a rope. a person is playing a piano keyboard. a boy is playing in the mud. a person is slicing cantaloupe. some people are throwing a dummy off a cliff. a potato is being peeled. a woman is playing a guitar on streets. a woman is slicing a pineapple into pieces. a woman adds ingredients to beef. the cook pouring oil into the pan. a man is seasoning some dough in a pan. two boys are playing in the beach. the monkey scratched his tummy. a woman is riding a horse. a man is squeezing water. someone is playing guitar. a guy is mowing the lawn. a person is hitchhiking on a road. the cowboy rode his horse in the desert. a person is performing tricks on a motorcycle. a big cat opens a plastic drawer with his paws and then hops inside. a man is playing a guitar. a woman is slicing a red pepper. a woman is rock climbing. a dog is rolling from side to side. a kid plays the guitar. the man is balancing on the wire. someone is playing with a toad. a dog is watching a store counter. a man is shown slicing a carrot with a knife. a man drills wood. someone is pouring tomato sauce into a pot of meat. a man is petting a tied up dog. a man is drivong a car. a man is playing a trumpet. a live rabbit is playing with a stuffed animal bunny. a woman is ridint a horse. a woman is getting doused in green slime. someone is removing the seeds from a bell pepper. the man took a piece of pepperoni pizza out of the box. a man is adding sliced vegetables to a cooking bowl with water. a man jumps into a wall. the man added seasoning to water in a bowl. a clown is singing. a woman is chopping up garlic. a man is rinsing a large steak. a bmx biker rides along the top of a fence. a man is showing magic. women models are walking down a catwalk. a woman is exercising with a barbell. a man is hiking. a bird picks up a plastic cup containing a liquid with it\\'s beak and puts the cup into a bowl. a car is driving along the road. a man is holding a slow loris. a man is lifting himself. a woman is exercising her abs. a woman is riding a seadoo. a woman is chopping some shiso leaves. a kitten eats some food. a woman is slicing a meat into pieces. a man opens a can and pours the contents into a bowl. a bird is eating from a bowl. a video clip of rihanna leaving a taxi. a man is loading a rifle with bullets. a man is playing a guitar. a man talks on his cell phone. a woman is carrying a wallaby in a bag. a man is walking on a rope. a woman rubs a baby\\'s leg. smeone is laying down. a man is breaking pots. a woman dips a shrimp in batter. the dog played with a bug on the carpet. a jet is flying. a man is riding a horse. a man is eating his food. a person is performing a card trick. one woman hands volleyballs to another woman who serves them. a man is cooking a tortilla in a skillet. a band is playing instruments. the baby is laughing and crawling. a man is cutting a boot with a sword. a person is descaling a fish. one boy is talking with other man. the little girl rode a horse. someone is putting ingredients into a wok. a man is slicing a plastic container with a sword. a man pushes another man into the ocean. someone is playing a gameboy. a man is making a phone call. a panda bear is chewing on a stick. a woman is putting on makeup. a man lifts weights. the women are feeding the animal. ferrets climb down from a shelf. a woman is washing off the top of a freezer. the woman is shooting a rifle. the man is adding seasoning to the beans. a woman is shooting off a gun. a solenodon is walking along the ground. a dog closes a refrigerator door. a woman is abusing her child. the girl applied face makeup to a man. a man pours a plate of shredded cheese into a pot of sauce. a man is delivering a lecture at an event celebrating the game of cricket. a cat is crawling upside down under the couch. a woman slices a fish. a masked man sings. a clown is singing. a boy is running in front of fish hanging on fishing rod. the man is seasoning the vegetables. a man is taking pictures of ant. a woman is putting meat in a pan. a woman falls on a sand castle. a woman is slicing some onions. a girl is riding a bicycle. the sun is rising behind trees. a man is driving a car. a woman is cracking an egg. a man is dancing. a boy is onstage playing the violin. a man is playing a guitar. a woman is peeling a potato. the man drew on the white paper. a cat is rubbing against a baby. a chef is peeling a potato. a small animal is chewing on a finger. a man is peeling an onion. a guy is singing while playing his guitar. two boys are skate boarding. the chef poured oil in the pan. a pig is agitating a lion. a ferret and kitten play together. a guy is playing a trumpet. a band is singing. a guy is talking into a microphone. a man in a suit is standing at a microphone and singing. a car is taking reverse. a man is emptying a plastic container. a woman is cutting up a carrot with a knife. a person is driving a motorcycle on a road. the man is playing the guitar. a man guts a fish. two women are sitting close to each other and talking. a man removes food from a bag. a man ties a noose. the man is riding the horse. a man is loading a rifle. girls are walking on the stage. a man is opening a package containing headphones. a person is kicking a soccer ball back and forth between his feet. a woman is applying eye makeup. a woman is stroking a lemur. a wallaby is licking a woman\\'s hand. a boy plays a handheld game. a man is riding a motorcycle. a man rises from a swamp. a man is petting a dog. the man swept the empty living room. men and women are dancing slowly. a man pours some cooking oil into a pot. a man is taking pictures of a lake. someone is rinsing a large beef steak at the kitchen sink. the cat cleaned his face with his paw. the man tased the food. a woman is slicing egg plant. a man cracks an egg. a man is riding a mechanical bull. a black pet dog runs around in the garden of a house. a woman is walking along a road and a man in a motorcar pulls up beside her. a dog is catching a fish in a river. a woman is dancing to music standing near a bonfire. a woman is cutting shrimps. a dog is pulling a child down a hill. a man wearing a hard hat removes his glasses as he speaks. boys are dancing in front of people. a woman is making a bed. a man is swinging nunchucks. a man breaks a slab of concrete that is lying on a prone man with a sledge hammer. a woman places a container of noodles in a pan of water. a girl is putting on makeup. a baby panda relaxes on some logs. two kids push an inflatable crocodile around in a pool. two women are dancing. a person is peeling a potato. doctors are trying to revive a man. a person grates a potato into a bowl. a boy is trying to say firetruck. a woman places two eggs into a pot of water. a man pours gasoline. a man is putting cheese on a tortilla. a woman is slicing tofu. a person is slicing a meat into pieces. a woman is riding a horse. a boy is playing a key-board between the people. the girl sat on the couch to crochet. a monkey pratices martial arts. a cat is eating a slice of watermelon. a man is kick boxing with a trainer. a little boy is vacuuming the floor. a woman cuts up some meat. a man is riding a motorcycle. a dog is swimming in a pool. a man plays a wooden flute. a man is playing guitar. two green and white trains on tracks. a white cat stands on the floor. a large boat on the sea. red double decker bus driving down street. a passenger train sits in the station. woman at table busy with something. a macintosh computer sitting on the floor. a side view of a horse\\'s head. group of elderly people sitting around a table. a jockey riding a horse in a pen. a man is riding a red motorcycle on the road. a young girl riding a brown horse. a black and white cat playing with a blanket. a black dog standing in a field. a close up view of a bottle of water. a close up of an ostrich face. a sheep grazing in a field. a close up of a cat with its eyes closed. a woman with a surprised look on her face is holding a smiling woman from behind. a small white car parked at the gas station. a person stands on the motorcycle seat and pops a wheelie. a black and white photo of cows in their stalls. a brown horse stands in a lush green field. a black and white lamb with other lambs in the background. a group of people sit around a table with food and beer. a brown horse in a green field. a black and white cow in a pen with hay. the old lady is standing in the kitchen with two cats at her feet. a race care driving along a dirt road. a camouflaged plane sitting on the green grass. two indian women with two indian girls near the water. double decker passenger bus driving with traffic. the skinny cows are standing on the grass. a group of horses grazing in a field. messy computer desk with two monitors. a man lies in a bed in a cluttered room. the tan horse is in the pasture. cow walking under the tree in a pasture. four people sitting at a table. two women sitting outside laughing. a multi-colored bird clings to a wire fence. the white ducks are standing on the ground. a man and two women smiling at the camera while sitting on a blue sofa. a young woman with a black top and a necklace. brown horse standing in middle of grassy field. a cruise ship docked at shore. the black and white cat with yellow eyes lounges in the dirt. a brown and white cow standing in a grassy area with trees behind. a man and women smiling at the camera while standing in a kitchen. a man with glasses and two plastic bottles in the foreground. a black and white photo of a cow under a tree. large green boat floating on water.l. the rear view of a red chevrolet concept car. a person wearing a bike helmet rides a bike on a path through trees. a black and white photo of a motorcycle laying on the ground. black and white cat sleeping on a brown tarp. a smiling woman holding a small baby. a group of horses grazing in a field. three men sitting at the table with beer and food. a person is standing underneath an overpass near a highway. a man is watching tv on the foot of his bed. two bald eagles perched on a branch. domestic cat laying on back of cat litter. a man and woman are posing for the camera. room with several computer monitors. several cardinals stand in the snow. a black car parked in the dirt out in the country. a passenger train waiting in a station. a blackbird sitting on the ground. a black and white dog looking at the camera. a young blonde girl in riding gear sits on top of a gray and white horse. little black and white calf with a tag on its ear. a boy doing a wheelie on a plank with the beach in the background. dining room with wooden dining table set with playmates. the red scooter is sitting on the street in front of the building. a little bird floating in the water. an asian toddler girl sits next to a pot of flowers on a marble post. a woman stands in front of a building in the snow. several sheep grazing in the field. two black and white cows behind a metal gate against a partly cloudy blue sky. a passenger train waiting at the city train station. a white dog runs through a snow covered wood. the train is riding on the tracks in the snow. a bicycle in a dining room. a train on the train tracks. a train on the train tracks. man wearing a bib sitting on a green couch. two bald eagles perched on a branch. young couple sitting on couch. there is a young boy with a red and blue jacket on feeding a sheep. two cats are looking at a window. red double decker bus with hood up. a close-up of a woman with black boots next to a blue motorcycle. a small orange and white dog with a collar and a bell relaxes on a flower print pillow. a group of people sitting around a table with food on it. a black and white photo of a cat lying down. a dark brown horse standing in a field. an apple computer sitting on the floor. a dog sleeping under a table. sail boat sailing on the water. a red sports car driving quickly on a track. small dog sitting next to white wall. a red double decker bus on a city street. a young girl wearing a bike helmet with a bicycle in the background. large cruise ship floating on the water. a bmw motorcycle parked between two cars. a cat looking out of a window. a black and white photo of a cow walking under a tree in a field. a potted plant with only a few sprouting. four people are on a boat on green water. a tan and white dog laying in bed with a yellow coverlet. a room with tan walls and a washer and dryer. a passenger train waiting in a station. a passenger jet flies through the air. a girl wearing a red blouse riding a brown horse. people sitting on acouch. a group of horses grazing in a field. two trains are traveling on the track. a group of people sitting around a table on a porch. a sheep standing near her children. a person jumping a motorbike in the air. many sheep standing on a green hill. sail boat floating on the blue water. smiling woman sitting wearing a viking hat. a red and white double decker bus is parked. a black faced sheep. two small birds perched on a metal bar. wooden cabinets in kitchen. a women wearing a bikini top and jeans. brown horse standing in middle of grassy field. a pot of food is placed in the center of a red tablecloth. a blue jay standing in a grassy field. the white airplane is flying in the blue sky. a train sitting on the tracks in a train yard. a girl sitting in a living chair. train gliding on tracks. two young kids dressed up sitting down on chairs. four people sitting at a table. a woman with a white horse. a group of cows in a field with yellow tags in their ears. a living room with large sofas and a dining table in the background. an orange tabby cat sleeping on the sofa. a large bird is flying through the air. two people padding in a yellow canoe down a river with trees in the background. black train idle on the tracks. a white jeep parked on a street. two men talking in front of a plane. a child sits in a large black leather chair. people stand outside a bookstore. a plane flying near the sunset. red buses are parked by a large white building beside a formal garden. a yellow and orange bird hold on to the side of a cage. two men sailing in a small sailboat. a motorcycle parked next to a car. two police officers standing behind a van with a bus in the background. the white dog is laying on the wooden floor underneath the table. man standing in front of a silver rail car. close up image of a sheep with it\\'s tongue hanging out. a black and white cow standing in the field. a man riding a white horse. a train traveling down the tracks. a small cat laying on a wooden beam looking up at the camera. a bird standing on top of a wooden fencepost. train pulling into a station. five cows grazing in a snow covered field. a woman riding a brown horse. a girl in a red shirt is riding a brown horse. a clear plastic chair in front of book shelves. a dog laying in a pet jacket. a large sheep standing on a hill. a black and white cow standing in the field. a woman in a black hat is standing by the subway. the jockey is wearing purple and riding a brown horse. a man is standing next to a yellow sports car. the man is standing on the sidewalk in front of the horse. man with blue shirt standing in front of a fountain. a sheep standing in a forest. a flat-screen tv sits on the floor. two men sailing in a small sailboat. two rams stand on snowy ground. a room with four computer monitors in a row. the yellow motorcycle is parked on the street. a large passenger jet flying close to the ground. three men in suits sitting at a table. two horses standing in a pen. the white airplane is flying in the sky. a black and white horned cow standing in a field. a black and white image of a cat laying on a rug. a ginger cat sitting on an office chair. a pretty white striped cat with his head hanging off the table. a man and his bicycle laying down on the green grass. white bus parked in grass in front of building. a school bus driving down a road with green trees and grass in the background. a man sits on a bed very close to a small television. close up of the headlights on a blue car. a passenger train sits in the station. a lone cow sits in the cold of the yard. a person dressed in white on a brown horse. a jockey riding a horse in a pen. two dogs sit on a couch with many stuffed animals. a train is running down the track in a rural area. a large black bird is sitting in the water. a cruise ship docked at a coast. a white bus partially in the snow on a public street. a woman pets a dog in a gated yard. a black and white cat gets into a basket of yarn. this is a man riding a mountain bike over rocks on a clear day. a ginger cat sitting on an office chair. a brown horse grazing in a field of green grass. a row of locomotives on a siding in a field. two woman pose in a dining room with a baby. three sheep in middle of gravel road. nine red and white aircraft flying in formation trailing smoke. the blue train is at the station. a baby is sitting in the grass. a red double decker bus is picking up more passengers in a city. two women watching the street with their bikes to see when they may cross. two women in kitchen with one taking a picture. a horse galloping while wearing the number 4. a large bird of prey flying towards the camera. this is a black and white picture of a short squat coca-cola bottle. a yellow bird perched on a branch. a boy looking at a computer screen. red truck spinning tires and emitting smoke from behind. a woman sitting on a sofa holding a baby. two police officers standing behind a van with a bus in the background. four blue and yellow planes in flight. a group of river barges with trees in the background. old green bottle sitting on a table. a train is at a train station. a train parked at a train station. bird sitting on a log in a lake. two birds flying near bird feeders. horse standing in a field. a group of sheep are on a hill. two smiling young women giving the thumbs up sign. a woman sitting on a sofa holding a baby. a doubly decker red bus driving down the road. two women standing outside of a bus. the sheep is standing under the trees. two people sitting at a table at a restaurant. two black and white cows behind a metal gate against a partly cloudy blue sky. a man riding a white horse in an arena. two cows are drinking from a pond. three white sheep in an enclosure. a black dog lies on the grass. a man with a beard and a skullcap and a boy walk along the ocean\\'s shore. a cat on its back looking at the camera. a small black and white goat in a pen looking up at the camera. a woman with her child. a red double decker bus driving down a street. sailboat sailing on a cloudy day. a bird is perched on a person\\'s gloved hand. a girl riding a brown horse. a car parked in front of train tracks. a young blonde girl in riding gear sits on top of a gray and white horse. a group of four people walking past a giant mushroom. a small child in a pink dress sits on a table. than horse standing in a field in front of a fence. a black dog is staring at a sheep. a woman leading a white horse. a train on the train tracks. a black dog looking at a brown sheep in a pen. a home office with three computer monitors and other equipment on a desk. a black and white dog looking at the camera. an aeromexico silver plane is on a runway. a man on a motorbike jumping with the sky behind him. couple sailing in a small sailboat. a blue motorcycle is parked on the sidewalk. several sheep grazing in the field. a man sits looking at a laptop computer on a messy table. two people in a red canoe on a clear lake. a scantily clad woman standing next to a small red vehicle. red double decker bus with hood up. a man fishing on a small boat while on a lake. two elderly women sit at a dinner table with a man. a mostly black train on a track. the red bus is on the street. a wwii fighter plane with its landing gear down. a boat moving in a river. a group of people sit at a table in an italian restaurant. a large boat pulling a small white boat. a close up of a horse wearing a blue halter. the birds are swimming in the water. a siamese cat resting on a white sofa. a person riding a dirt bike in the outdoors. a yellow school bus parked in a field. a bulldog sitting on a yellow chair beside a large waste receptacle. the white sheep is standing on the green hill. woolly sheep at auction house. close up of a white sheep with a black head. a orange and white cat laying on a blanket in a black leather chair. a black and white horned cow standing in a field. a double decker bus drives on a city street. a television and a laptop computer are on in a hotel room. a man is doing a wheelie on a bike. a person wearing a helmet sits on a bicycle on a sunny day. a train traveling down the tracks. a close-up picture of a desk with a computer and papers on it. a woman in riding a brown horse. three men in suits sitting at a table. a woman poses with a baby. four people are sitting around a living room with.snacks. a blue moped parked on the sidewalk. a red double decker bus driving down a street. the train sits at the train station. a woman with a white horse. a man and women smiling at the camera while standing in a kitchen. a cruise ship docked at a coast. two cows cross a paved street. five cows grazing on a patch of grass between two roadways. a black cow and a brown cow standing in front of a small copse of trees in a field. a double decker bus on a city street. person in grassy field tending to sheep. close up of the rear of a red sports car. two women in a clothing store. group of people sitting at table of restaurant. a close-up of a yellow school bus. a brown horse is standing on grass and scrub. close-up of young horse walking next to a larger horse. a women in glasses stands next to a cow in a field. a dog is peeking out of the back of a van. a woman in a blue dress cuts a cake. a couple posing on a red and yellow motorcycle. grey and white cat sitting in bathroom sink. a man is alone on the back of a tandem bicycle. a computer operating on a desk. a small child sits on a cement wall near white flower. a duck floating in the water. a white bus with water and a barge in the background. a blue train in a mountainous area. a yellow boat on shore. a small kitchen and a cluttered table with a blue table cloth. trains inside an indoor station. the cat is standing on the window sill looking at the camera. red and white bus driving down road. a double decker bus on a city street. three cows grazing in a field. the white train is sitting on the tracks. a black and white photo of a cat sitting on a sofa. a young blonde girl wearing a helmet sits with a red bicycle behind her. a group of people sitting around a table on a porch. a black and white cat lies in the dirt. a side view of a horse\\'s head. a wooden yacht on the ocean. a large sheep standing on a hill. a white airplane is on a runway. a tan puppy being held and petted. an elegant pink dining room with wooden furniture. two men in shorts are sitting on a sofa. two dirt bikers riding over dirt hill. a black and white dog looking at the camera. a grey cat with green eyes looking into the camera. two dirt bikers riding over dirt hill. a man and woman posing on a field with a bottle of wine. a black and white cow standing in the field. a red double decker bus driving down a street. a small white cat sitting in a sink. a boy feeding a sheep hay. a girl wearing black shorts and boots is standing next to a blue motorcycle. a close up of a woman holding a white puppy. a sheep stands on a hillside. a bus is on a road with a ferris wheel in the background. a group of elderly people sitting around a dining table. a black and white photo of an old wooden fence near a dirty street. a brown horse stands in tall grass. two men stand with their bicycles outside a shop. man playing game in a store. a group of people sitting around a table with food on it. a women holds a small dog on a leash with chairs in the background. the back of the stop sign is adorned with stickers. a green bike parked outside a book store. a double-decker bus driving in front of a ferris wheel. a black headed sheep covered in thick white wool stands in a pasture with other sheep. a man in a tux on a white horse. two women standing in a living room with a black dog looking towards the camera. two people paddling in a red canoe with trees in the background. close up of the headlights on a blue car. vehicles driving infant of an ornate building. a red and blue plane flying with its landing gears down. a black and white cat sleeps on a purple blanket. road with the rear image of the tail lights of a bus. a group of people sitting around a table on a porch. a woman sitting on a sofa holding a baby. a black and white cat sleeping on its side on a purple blanket. a black and white photo of a bicycle. view of a living room with a dining room in the background. a red and gray train travels through a tunnel amongst the trees. an old red london double decker bus with its hood raised. a woman leading a white horse. a living room with large sofas and a dining table in the background. young couple sitting on a black couch. a person wearing a helmet rides a bike near a white structure. a white train pulling into a station. a green bike parked outside a book store. two women standing in front of tour bus. a blue jay standing in a grassy field. a room with tan walls and a washer and dryer. red double decker bus driving down a street. a black swan flapping its wings on the water. the boy is lying on a couch with a puppy. black and white picture of a cat laying on a rug. a large airplane parked at the airport at night. two men catching a fish in a swamp. eight bottles of harp beer lined up on a wooden floor. a cat looking at the camera. person dressed in blue riding brown horse. the wall-mounted flat-screen tv is showing a movie. bird perched on a flowerpot beside a stucco wall. grey and white cat sitting in bathroom sink. young girl in riding gear on a horse. two women in a sailboat. a small bird perched on an icy branch. two eagles sitting on a long branch. two cats are sitting on the back of a couch and looking out the window in a sea photo. two women sheering a sheep. a young female rider on a brown horse. a group of people sitting at a restaurant table. a white lamb with its nose against a wooden box. a little girl is riding a white and grey horse. a black dog standing in a room being constructed. a black swan flapping its wings on the water. a black and white cat laying on a cat bed. the woman is riding on the brown horse. a small turboprop plane being loaded on the tarmac. a television with a show on. kitchen with wooden table and cabinets. grey and white cat sitting in bathroom sink. couple with newborn baby. bird eating from a bird feeder. a close-up of a sheep with a black head. a small boy laying on a sofa with a dog. a small red and grey bird perched in a tree. yellow scooter parked in an alley way. a train on the train tracks. a close-up of a silver train engine with a red stripe. a woman in a sari drinks something while sitting at a table. a black steam train traveling on the railroad tracks. red sports car on top of white semi truck. a man stands on a platform in front of a silver train. a cyclist in black and white lira speeding past spectators. a small kitchen with items stacked on the shelves and on the counter. a black and white cat laying on the ground in the sun. a women riding a mountain bike on a large concrete area. the cow is grazing in a field. a bald man with a beard pets the nose of a black and white horse at the fence. a man stands next to a yellow corvette. a black and white photo of cattle at a trough. a brown double decker tour bus on a street with a ferris wheel behind it. a flock of birds flying over a body of water. a man stands on a platform in front of a silver train. a small white plane parked in an airport on a cloudy day. a boat is in the water and a small airplane is on the dock. a domestic animal stands in a pen. a computer on the floor. a dog sitting on a yellow chair next to a green dumpster. a large dog stands next to a sheep in a field. a group of elderly people pose around a dining table. three women in indian dresses in a crowded room smiling. a black and white photo of a cat sitting on a sofa. two girls on a guy posing on the bow a boat. a black and white cat laying on the ground in the sun. people ride mopeds in an urban setting. tan domestic cat under black tarp. two green birds flying above the telephone wires. a man stands next to a helmeted man on a motorcycle in an empty parking lot. two cows graze in a field. a bird is perched on a person\\'s gloved hand. a baby in a highchair holds a ketchup packet. a close-up of a brown horse\\'s head. a train in a station. horse standing in a field. the small dog is wearing a sweater and looking up at the camera. the bird is sitting on the branch. a small red and grey bird perched in a tree. two dogs play with purple football. a boat floats in the water. the three children are standing on and by a fence. a black dog walking out of the water with a white ball in his mouth. a young girl wearing a hat and blue jeans is on a swing. a group of people walking on the side of a railroad track. a brown and white dog swims in a backyard swimming pool. a multicolour dog in a red collar crouching on the grass. a dog running through the woods. two dogs are playing in the grass. a little girl holds onto a pole on a city street. man sitting by himself on a pier with a bottle of water. the crouching man is holding a large camera. a man riding a unicycle down a paved road a man and woman dressedin old fashion clothing sit outside at a table. a black dog jumps in the air to catch a toy. a person is diving into clear blue water. the two people have their heads covered with scarves. three dogs run in the snow. a boy with a broken arm is sleeping. a boy does a trick on a skateboard. three dogs are playing in the water. a little girl in a purple shirt and helmet is riding on a scooter. a young girl swinging off a tire swing a group of people ride in a race a brown dog in a superman shirt is laying on a blue blanket. a brown and white dog runs across the grass. a dog sits with its paws on a laptop computer. a girl in glasses is looking over two american flags near a wooded area. a brown and white dog jumping over a red and yellow pole two dogs running through a grassy field. a man in warm clothes swinging on monkey bars at night. two asian men and a woman are relaxing in massage chairs. a little girl plays in a pit of colorful balls. a woman dressed in green is roller skating outside at an event. a gentleman smiling and showing his reflective sunglasses. five people on a sidewalk. a white bear walks along snow-covered ground and casts a shadow on the snow. two dogs are playing in the snow. a woman picking up a large rock. a brown and white dog is running across the grass. a woman is riding a blue bicycle in a park. a man wearing a shirt that says \"gigolo\" is standing at a front desk area with his back to the camera. a white dog on a beach is carrying a stick in its mouth. two brindle dogs running in the grass. a dog running with a stick in it\\'s mouth. a woman plays with a brown dog. a dog is running through a creek with a stick in its mouth. a man wades in the water and watches a water fall. a red dog jumps an catches a tennis ball in its mouth. the man is up in the air. a woman wearing black stands in front of a pickup truck. a dog jumping into a swimming pool. a young boy jumping from one chair to another in his house two dogs playing in the snow. a man going over a jump on his bike with a river in the background dog swimming in the water with a stick in its mouth. a black poodle frolics in the snow. two girls holding sacks are standing in a field. two young boys and one young man run on a beach with water behind them. a group of girls stands wearing jean skirts and superman shirts. a boy wearing a blue life jacket is holding onto the side of a green boat. a brown and black dog jumps for a red ball. the white dog runs through the ocean. a woman in a black apron is standing in front of a mirror. the black and white dog has a stick in his paws. a deer jumping over a fence. a little girl swimming in a pool. a dog walks through the snow. a group of people are standing around a red fire truck. the young boy is jumping into the pool on his belly. a little blonde girl is sitting on a green chair. three children playing on the floor. a man sits on a rock next to a folding deck chair and a fishing pole. a man carries a sign while standing in the rain. a man wearing a blue hat and shirt is riding a white horse. a black dog is running through some water. a man is sledding on an orange slide. a brown dog is running in a field. a dog runs through the snow. a brown dog carrying a frisbee runs through the snow. two people are on a golf course playing golf. a dog playing in the waves with a ball. the toddler is ready to climb the red piece of equipment. two dogs are playing in the grass. a young boy in a blue soccer uniform chasing a ball. a baseball player hitting the ball a man is sky surfing on the water. a boy running through green grass. a young boy and a young girl walking towards each other two people sitting on a dock. two dogs in a stream. a man follows his black and white dog as it takes on an obstacle course. st. bernard dog running in the snowy field. a man in woman dressed warmly pose for a picture. a girl is playing on a swing. a boy plays with a foam noodle toy by a pool. a brown dog running through the grass. a dog jumps into a backyard pool. a child holds a yellow balloon. two snowboarders are in the air over the snow. a black and white dog runs with its mouth open. a child runs through the grass. two blonde girls are sitting next to a statue a girl in an orange shirt lights candles. a dog with a red collar runs in a forest in the middle of winter. a boy who seems ill is being touched in the face by a toddler. a dog shaking water off. a black dog running along the edge of the ocean. a little boy in denim overalls slides down an orange slide. black and white dog in living room standing on hind legs. three people on skis are standing behind a no skiing sign. a man in a white suit walks outside carrying a newspaper. a black dog wearing a blue collar is running through the snow. a brown and white dog running on grass. the girl is on a swing. many children are playing and swimming in the water. a topless woman with her face painted is covered in mud. a brown dog waits for the frisbee to come down before catching it. a black dog runs fast into shallow water. two white dogs are running together. a black dog is running quickly along the ground. an adult male wearing a backpack walks and looks to the left. a black man is walking next to a building in a big city. two dogs are shaking water off. a small dog jumping over an obstacle. a brown dog runs through the grass. a group of people stand and wait to see something. a dog jumping over an obstacle course fence. three ice skaters round a corner. two women walk there dogs at a dog show. a man is lying the grass with long hair and beard. a brown dog runs through the grass. a small child in a yellow shirt is holding their arms out to the sides. a girl wearing a black top is smiling with a silver truck in the background. a guy is going up for a lay-up on a basketball court. two dogs bound across the grass. a woman and three kids play at a park. a dog runs toward the camera with a stick in its mouth. the boy is playing in the sand. a fluffy dog carries a black leash in its mouth. a man is tying a red arm band around another mans arm in the street. a skier is falling face first into the snow. a brown dog is carrying a stick in its mouth. two hockey players in a struggle on the ice. two puppies play with a red chew toy in a field. two dogs play in a field. a man and a woman standing on a city street. a man in a black leather jacket falls asleep on public transportation. a dog leaps over the hurdle. two dogs are wrestling on the ground in the snow. a boy holds a net with a snake in it close to the ground. a grey dog and a tan dog playing on a grassy field. two black dogs in the snow. the black dog leaps off the dock and into the water. a couple walking down the street. three dogs play in the shallows next to a rocky shore. a black and white dog is running in the grass. a man in a black shirt is roller blading past a bench in the city. an elderly woman walking uphill crossing the street. a small dog jumps over a yellow beam. a group of young ladies in bikinis. a woman is getting her hair done at a salon. a man dances on a colorful wall. a wet child is shivering in a towel in front of a pool. the white dog is running along the beach. six dogs walking beside the beach. a man is holding onto handles in the air. a black and tan dog walking through the snow. three dogs are running on the grass. a boy in red slides down an inflatable ride. three dogs run in the snow. two kids playing with a dog. a girl doing a back bend at the beach. two dogs are playing together in the grass. two surfers perform tricks in the waves. two people walking along the shore at sunset. two dogs are wrestling in the grass. a little girl is sitting on santa\\'s lap a black and white dog swims in blue water. a boy jumping in the air on the beach. five men in tuxedos walk down a set of steps a black dog stands in the surf holding a red rubber ball. man and dog standing on rocks next to water four dogs splashing in the water a girl in a cowboy hat with a sheep on a leash. a puppy with big ears chewing on a stick. the girl wearing a blue shirt is running through a science center. two dogs playing in the snow. there are two white dogs and one brown dog chasing a ball. a bunch of bikes racing on a track. the dog carrying a long stick in its mouth. a person sticks their head out of a tent at the top of a mountain. a man in a black hat standing in front of a brick wall and a sign a man playing a white guitar and singing as well a brown dog is playing with a ball in the water. lots of people play in the water at the beach. a closeup of a hummingbird flying. a woman watches a dog jump down the stairs. a man and a woman laughing. the large brown dog is running outside in the dirt. a man in a gray shirt sitting in a field of flowers. the children are running in the snow with fences in the background. the black dog wearing a red collar shakes water off. a dancer posing for the camera in a red and white dress. the large beige dog is running through the grass. a dog runs across the grass. a man is walking on rocks with water flowing around them. a man doing a trick on skateboard three dogs round a bend at a racetrack. an older man stands outside a old boarded up building. a dog jumping into a swimming pool. a dog running through a lot of twigs. three girls holding umbrellas with their backs to the camera. a puppy running along a street. a man in a gray shirt climbs a large rock wall. a tan dog with a black collar barking in the snow. a man wearing suspenders and sunglasses leaps up in the air with his arms and legs spread out to the side. two dogs run through the brush. a dog running through the water. a man and woman sitting back to back outside in the sun. a black man and his dog on the beach. a man is standing on top of rocks overlooking the ocean. a woman wearing a black and blue striped suit is surfing on a wave. woman leading her small dog through an obstacle course. a dog walks on the beach. a young boy is practicing his karate in a gym. the dog is running with a yellow ball in his mouth. two dogs running on the beach a black and white dog running with something in his mouth. a pet playfully investigates the contents of a gift bag. a young man is doing a ski jump with a purple board. a little boy stands with his hands on top of his head a man in an orange jacket raising his hands to the sky in the sand. the baby is wearing a red shirt and walking in a plaza. a man climbs a sheer cliff face. two girls with baseball caps are eating a snack outside. a white and brown dog is playing tug-o-war. a man is playing baseball. a sports fan is wearing face paint in the stands. a skateboarder jumping in the street. a smiling man holds a small child wearing pink and red. a dog is jumping in the snow. the dog with the red collar is bearing it\\'s teeth at the dog with the blue collar. two brown dogs biting each other on sand. a boy does skateboard tricks on a railing. a young girl wearing purple running through water a boy is grinding a skateboard down a concrete wall. a young woman with a knit cap stands against the wall of a domino\\'s pizza. a boy in a robe sits in a chair. a black pit bull dog is running through the dirt. a group of people in dark colored clothing are line dancing on a wooden floor. a young girl laying on a blue inflatable toy a black dog running on a beach. two dogs drink water in a lake. a little boy is petting a tiger that is laying down. a blond child is laying on a branch of a tree in a green field. a man in black on a surfboard riding a wave. a man is climbing the side of a mountain. a white motorcycle is being ridden around a race track. a black dog digging through the snow. a man and a woman laughing. a man standing in the mountains watching a sunset. two little boys are playing on a playground. two dogs nussle one another in the grass near a lake. a woman with a black bag is smoking a cigarette a brown dog is running in the grass. a woman stands against a wall near a video camera. the dog is running on grass. a man wearing a blue shirt makes a grouchy face. two young girls wearing skirts are playing in a garden. a man dressed in a santa suit is climbing up a large concrete building. a girl in a red shirt takes a picture on a phone. man sleeping on the street. three dogs swim in the water. a white dog runs on the sand. a kid runs in the opposite direction of others who were playing a game. a person is riding a dirt bike in a race on a dirt track. a large black and white dog runs in the ocean water a man lies on a street with his headand shoulders under a parked car that is jacked up. man in red jacket standing in front of lighthouse. three dogs swim in the water. a white curly haired dog runs with a stick in it\\'s mouth. a black woman and two black children are sitting in a thatched tent. a young woman in a pink hoodie takes a picture. a man walks two dogs in the city. two dogs running in the dirt the brown and white dog is playing in the snow. a smiling young woman in a tourquoise shirt and bandanna poses at table outdoors. the dogs are running in the snow. a race car driver is driving his car through the mud. a small dog wearing a green sweater and a backpack walks through snow. a group of girls on a beach. two dogs are running in a grassy field the man with a white beard and blue cap is standing in the doorway of a workshop. a black dog and a white dog are standing on snow. the black and white dog runs through the grass. a dog enjoys a romp in the water with mountains and sand in the background. a man on a bike does a very high jump. a brown dog is laying in the snow. two dogs running in the dirt a guy is sitting on his bike with one wheel in the air. a lady fastens someone\\'s ice skates in the snow. a girl is bouncing on her head on a trampoline. a man is walking by trees in front of the city skyline. a boy wearing red and blue swim trunks jumping head first into a swimming pool. three children standing by a pool are covered in foam bubbles. the boy is diving into the pool as the couple watch. a black dog with a red collar plays in the snow. a bird sits in a leafless tree. a dog has an orange ball in its mouth. three young woman jumping into the air to catch a ball. the boy hops from one picnic table to the other in the park. two dogs in snow. a dalmation runs along a beach. a dog runs in the snow. a dog runs across the grassy field. a man in a red striped soccer shirt heads a ball. a dog chases another by a tree. a woman holds a small baby on a skateboard at the beach a black dog playfully bits another dog in a living room setting a beagle walks along the calm shore. a black and white dog is running through grass. the black dog is running on the grass with a toy in it\\'s mouth. a policeman stands in a crosswalk in a city. a black dog and a white dog play in the street together. a black and white dog with a stick is in muddy water. a boy with a metal colander on his head. the man is putting on his shirt near an elevator. a man and a woman kiss. children play in a pool while adults look on. two dogs play together on the bed. a white and brown dog appears to be walking on the water. a man who has fallen asleep on public transportation. a dog is running in a large body of water causing it to splash. a person does tricks on a bike on a ramp surrounded by trees. a boy in a blue t shirt is airborne on a skateboard in a skate park. a girl jumping rope on a sidewalk with a parking garage to the left. a person above their surfboard on the water. the brown dog jumps for a pink frisbee. three dogs race in the snow together. two girls jump out of swings. a man in a jersey stands in front of a large crowd. a shirtless man catches a football a young boy wearing only green shorts poses awkwardly with a brick background. a woman in a red jacket is video taping a natural landscape. a man jumps while on a snowboard. a child in orange is on a boogie board in the waves. four dogs playing in the snow. a child squats behind a wagon with two pumpkins in it. two little orange and white dogs are in the snow. the black dog is running through the grass. a black dog digs in the snow. a dog leaping over a chain. a young woman with a black purse sits on a wooden bench. a black dog and a brown-and-white dog play in a field. several children playing in a ball pit. a white and black dog is running out of a yellow and orange tube. a person doing the back stroke in a swimming pool a brown dog is running though a river. a small light tan dog is running past a large brown dog standing in the grass. a lady holding one dog while another dog is playing in the yard. two black dogs walking through the snow. a black dog is swimming with a ball in it\\'s mouth. a tan dog licks a girls hand while laying down. two homeless young men holding a cardboard sign. a dog splashes in the murky water. the man wearing a blue helmet is riding a polaris. a person standing on a stage in front of a seated crowd a person on a snowmobile in mid jump. two teenage girls are standing on beside the beach listening to ipods. a person with swim cap and goggles taking a breath. two brown dogs are running on the sand. a black poodle is running in the snow. a young girl is on a ride at an amusement park. a brown dog digs in the sand. a woman in a bathing suit walks a dog on the beach. a black and white spotted dog is jumping over the small stream of water. a man on a bike in mid-air two dogs are running through a grassy area. a black and white dog returns a stick in the snow. a large group of people have formed a line outside. a group of children do stretches on colored mats. a group of young people jump up in the air while on the beach. a young boy is twisting a sparkler around in the air. a group of people are standing and sitting around on the ground at night. two dogs playing in the sand at the beach. a man and two women dressed in costumes. two dogs play in the snow. a woman stands with her arms out in a store while another woman holds a camera. a man rollerblading on a metal bar. a group of guys play instruments outside. a snowboarder flies through the air. a wet black dog with a red collar is in the river a little girl in a paisley dress runs across a sandy playground. three boys playing soccer in a field a young man jumps from one balcony to another. the bird has its wings spread as it flies. a dog standing on a beach with a ball nearby. a woman sings into a microphone with a guitar player in the background. a small group of goats in the grass with a black and white dog in the backgroud. a man jumps his bicycle in the air between two rocks. a young girl in a pink dress with something in her hand. a girl in a red dress rides her bike in front of a white fence. a dog pants while standing in the woods. a man in a rowboat is rowing across blue water. the brown and white dogs run through the field. two dogs play with each other outdoors. two mountain climbers stand on the top of a mountain looking around. two kids are playing in a field of red flowers. a young man in red swimming trunks jumped off a large rock into the water. a black dog is running in the grass. two girls dressed in black are sitting in a room making suggestive poses at the camera. a large group of people riding brown and white horses. a child and parent pet a horse. a dog is running through the ocean. cars racing on a dirt track two men walking past a mural of a car. a brown dog squating on grass. a woman in red overalls stands on sidewalk. three dogs run through a field. two puppies play in the grass two children and a black dog are playing out in the snow. a black dog running through water. a woman is walking with a red bag. a dog swimming with a stick in its mouth. a person climbs a snowy hill while a black dog follows. a dog running on the beach the scuba diver is underwater. a trick bicyclist grinds down a handrail. four dogs playing in the snow. a man walking his cow down the side of the road. a dog is biting a mop. a child in front of his own reflection turning towards the camera and smiling. a white dog is standing by a river shaking himself dry. the black and brown dog is running through the snow. a group of people are riding in the back of a truck. a person skiing down a snowy hill. a woman eating a large fish in a restaurant. a child in red and blue floaties looking down at the water. a skateboarder riding up to a slope. people ride up an escalator. trainer runs her dog through training course with green pipe the brown dog is running across the sand. three children are playing soccer in the sand. a man walking a large black horse. two people sit on the end of a dock in the middle of still water. a hockey player is laying on the ice in front of the goal. a skier stands on his hands in the snow in front of a movie camera. a brown dog is running along a grassy stretch divided by strings. a man wearing a black and white shirt jumping on a dogs back a woman in a black and white coat and earmuffs. boy and girl running along the beach. the man and woman sitting on a bench are kissing. a grey dog jumps to bite a green leash. a black and a brown dog running in the grass. a woman is riding her bicycle. some kids play in a field. a laughing boy lies on a pit of blue balls. a surfer is riding a wave. the skateboarder rides the pipe wall at a skater park. dogs in a race. two children walking down a path in the woods. the tan and black dog is running across the grass. two dogs running on grass. two dogs are urinating on the red fire hydrant. a brown dog splashes in the water while carrying a ball in it\\'s mouth. two girls are walking by a tree in front of a brick building. a dog splashes in the murky water. a group of people are riding in the back of a truck. the dog is laying on a bed with a blue sheet. a man in a football uniform is running with a football during a game. a girl stands in a dimly lit area. the man is playing with the shaggy little dog. the tan dog is carrying a green squeak toy in its mouth. a classroom of students watching a presentation. a biker is riding along a track element located with a wooded area. a medium sized brown dog is running through an open white wooded area. the black and white dog swims with a brown object in its mouth. a little girl running at on the shore of a beach. the basketball player holds the ball. a man in a maroon bathing suit swings on a rope on a lake. a man wearing a white suit holding a newspaper walking through the streets. then the captain came back. the problem is simple. pacific requirements . you\\'re asking me to prove a negative? i am ok with medical use!! the prices of everything you own ie assets have gone down. a war in the middle east. originally posted by zaf i give up. imagine a place with % men and % women. there is no chance at a fair trial. nirvana is not oblivion. originally posted by zaf we in britain think differently to americans. if you answer no to  but yes to  then you are probably straight. who does it now only produce enough for  billion? but it seems it would have less \"impact\" if they didn\\'t call him white. my teachers have told me it is bad for you. originally posted by odins eye .nazi is a slang term for the nswp. this is why i support the death penalty. people bent the laws. i have  years of \"neener neener\" rights hi wiggies! you should stop prefixing or suffixing everything with you hate jews. i wood have at least asked if a threesome was out of the question. it\\'s you who makes no sense. more expensive cars. subjective dvorak intensity estimates from tafb and sab increased to  kt. \"satyrs don\\'t exist\" - fine. that\\'s what i find curious. i compared homo phobia with a developmental disorder. i didn\\'t mention restraining order either. eye of the tiger we are all vessels filled with many wonders.  warmed.c from the year prior. their great wealth is protected by the govt. how exactly are they being punished? where does the money come from in the first place? if freedom of speech has consequences then it is not free. my teachers have told me it is bad for you. it\\'s imposing a law. depends on how you define \"extreme\". mexico has zero claim to california. still refusing to answer my questions? you could sign lance berkman at the end of the year i guess? why would the addition of more of jesus words be left out of the canon? we are meant to move. i want to rock and roll by kiss we are all vessels filled with many wonders. a dear friend from ohio sent me this. who makes money off google ad sense? the bottom line is that the video clip doesn\\'t show a gas chamber. \"opinionated and stubborn\" becomes treat with drugs\". what\\'s your definition of nature? could be a simple mistake. neander\\'s revised version\"? should i just wait it out and see how it goes? pacific requirements . you have no witnesses for a missile at the pentagon. i can\\'t believe she is asking you to ask the helpful party guest for money! any woman that wants and abortion can get one. pressing one does send a tone. what was my opinion of firefly in the interim? chuck close we are all vessels filled with many wonders. he definently has supporters. the nazis lowered the minimum age to buy a firearm from  to . we can\\'t do it without you.\" no healthy person needs sex. \"elves don\\'t exist\" - fine. i started it last night xanis. gotta love the ek factoid that \"iran is also a signed of the npt and the iaea. \"satyrs don\\'t exist\" - fine. i have  years of \"neener neener\" rights they are crack ups. therefore you are not a christian. i repeat: and the simple fact today? and morals and honesty have everything to do with it. - wolf i think stories like this are stupid. tropical cyclone formation is not expected. do you not understand what the word \\'led\\' implies? there is no freedom of speech. originally posted by solinvictus ah. how long after the obliteration should it no longer bother the kid? men and women are different yes? as far as legality goes i can use jury nullification. facilitator : and why is she the dumb child? isn\\'t that redundant and repetetive? originally posted by vienna to \\'say\\' what? jingle bell rock by bobby helm we are all vessels filled with many wonders. other people have no confidence at all in teh people running these institutions. it finished as a work of fiction. imagine a place that\\'s % white and % black. if freedom of speech has consequences then it is not free. \"leprechauns don\\'t exist\" - fine. is even worse than talking about it and not doing anything. \"being against using nukes\" means \"not wanting to use nukes\". my great niece is half black. the japanese population is nearly  million. we are all vessels filled with many wonders. i hope everything is ok! those may be my top . the money i spent adopting velociraptor. i\\'d hate to be him too. of course there were no weapons. it\\'s amusing to think it even might be true. does the census have an rear end in a top hat? where is the slant against bush? that\\'s simple logic if it wasn\\'t bollocks it wouldn\\'t be homeopathy. the bailout was bigger than tarp this title is misleading. officers have told me its bad for you. his position is the way it is currently. pacific requirements . you have never met anyone that is pro-abortion? i don\\'t want a president who is charasmatic. i don\\'t have a proposed model. no missile witnesses. officers have told me its bad for you. then he is malevolent. or the  year old boy shot dead with automatic weapons by marijuana dealers. all of the electrical energy ultimately comes from the alternator. how many passengers said they saw an iceberg? imagine a place that\\'s % white and % black. it assumes that methane growth rate accelerates by .%/yr. get a cooling trend from  because of the recent decline. landon memory from cats we are all vessels filled with many wonders. they are not as sovereign as they were before. slanted blogs and when did i do that? how much is spent on abortions services? did the transaction take place? there is no more sperm cell. ergo it offends me when thatcherites call themselves libertarian. the problem is who doesn\\'t have money. i don\\'t believe there was any iceberg at all anywhere near the titanic. gameday for the orioles game is frozen for me. yes what are his charges. was ted bundy a partial psychopath? ooo strike two those who ignore history are doomed to repeat it. its not an official deployment. nutrax the plural of anecdote is not data not well alright just got in. you need to polish up on your logic skills. the one that has three walks home and beats his wife. and i\\'d forgotten what a whiny little bed wetter you are. being drunk is unacceptable. he hasn\\'t been funny since larry bud melman was on the show. ------ ----------- what do we get in return for doing the fighting for them? and i don\\'t fight for marriage. she was a nice lady. why hate people because they are successful? you seem as irritated as henry. hilited your common sense/deductive reasoning thing. -cryptolutheran no. we have a christian in office right now. ann romney has never had to get out and be a part of the workforce. it has never been ejaculated on as far as i know. i said you had gotten soft. the physical evidence does not support your claim. but he said every level. it is mostly just the dutch. eye of the tiger we are all vessels filled with many wonders. nothing is stopping this thing from playing out in court. commiting a crime in a gang is a crime. chuck i\\'d offer iran a deal. it\\'s imposing a law. one word: zombies has annie ever used her sexuality like that? libertarian/anarcho-capitalism: you have two cows. why do people like you put scientist on a pedestal? i then asked: what are they trying to hide? \"would you like to wear your seatbelt?\" to repeat: they are not as sovereign as they were before. i don\\'t see him as evil at all. we are all vessels filled with many wonders. the point is an unarmed child was murdered who was black. religion that doesn\\'t do that i don\\'t have a problem with. everyone in the world at the current \"prosperity\" level of northwest africa. if you answer no to  but yes to  then you are probably straight. my sheriff has told me its bad for you. it\\'s also a stellar performer in terms of blithering idiocy. how would martin or anyone else know his intentions based on his actions? \"get the government into everything?\" hilited your common sense/deductive reasoning thing. jury nullification means a law isn\\'t constitutional? i\\'m \"a bunch of cells.\" mann\\'s work and the hs was all about tree rings. i don\\'t like many flavored drinks. i hope your lo is ok. any woman that wants and abortion can get one. do you see hitler killing jews? your good friend mitt. doesnt mean its a bad option. you need to reread what i wrote. imagine a place that\\'s % white and % black. the judges orders a three-page letter to be filed. this breaks the daily record of  set in . hasn\\'t council tax been frozen for most people? your misogyny is getting messy. wait for the contractions to get stronger and closer together. obama is part of the extreme leftwing. jury nullification means a law isn\\'t constitutional? what conviction would that be? furthermore i found this: so i actually read the op and guess what i found out. the government doesnt have to declare you married before you can be married. democracy has nothing to do with liberty. how many threads do you plan on making? so which system isn\\'t working for us? russians in damascus! chaos is merely people voting. originally posted by eleanor.ellis the theme song to cheers: we are all vessels filled with many wonders. they are not as sovereign as they were before. and morals and honesty have everything to do with it. i be having conversations will cornell west what the hell is this? there is no \"war\" in the middle east. - i didnt say he planned on apprehending him. put a little love in your heart we are all vessels filled with many wonders. i\\'m \"a bunch of cells.\" you are a girl douche. no. jury nullification does not mean that a law is unconstuitutional. voted voted it\\'s definitely not what it used to be. the manufacturer has to convince the government it\\'s safe. again i think you are missing the point on the twain quote. \"goblins don\\'t exist\" - fine. play with fire we are all vessels filled with many wonders. or sin is removed upon entry to heaven. how long after the obliteration should it no longer bother the kid? say what you will we are all vessels filled with many wonders. what will be the response in california? see that makes no sense. refresh your memory: who supposedly operated the homicidal gas chambers? genetic predisposition to alzheimer is inferior genetics. use of force by aggressor. that\\'s what the historical record shows. the theme song to cheers: we are all vessels filled with many wonders. i like watching kids play. why are they looking at each other like that ?!?! are you driving a fucking volt? irreligion that doesn\\'t do that i don\\'t have a problem with. would he be better for american society? hi eots: you fools..bought the  cover-up..hook.. \"pressing the number one does english.\" what conviction where you talking about before? did anyone see the footage of this? red fox standing by. that just isn\\'t how legal reasoning works. he too notified captain lord. are you driving a fucking volt? michigan is a gop controlled state.  foxe was mostly frozen. landon and so this is christmas we are all vessels filled with many wonders. lower than  per cent but not very low. god probably does not exist. i think we all agree on the nature of the change. the bad thing is there\\'s space. your freedom of speech will be no more prohibited than it is today. it is a question that needs to be answered. i purport to value human life very highly. the mosquitoes posts. don\\'t want a president that is compassionate. do you have anything to make it more compelling? time of the season by the zombies we are all vessels filled with many wonders. do we agree that they came down essentially in freefall? pro-choice people do not try to force an abortion on anyone. stop avoiding the question. haiti has been a shithole. i don\\'t believe there was any iceberg at all anywhere near the titanic. the worst part is that he\\'s not even a leafs fan! i am hoping he is into a second term of office. voracek with the goal. because the people had awakened. the california was a cargo ship. the ignorance is yours! the people shouting for justice for trayvon are all hypocrites. how do you know which story is the right one? natalie was a complete fool to have insulted their fan base. obama is bush\\'s fault. i don\\'t prefix or suffix everything with \"you hate jews.\" and you didn\\'t have to. john the baptist was a nazarite from birth. paul did not preach faith without works. everyone in the world at the current \"prosperity\" level of northwest africa. seismic data does not equal duration of collapse. originally posted by lone fox and it\\'s not all iranian related either. i absolutely do believe there was an iceberg in those waters. this is rich coming from a conservative. . satan represents vengeance instead of turning the other cheek! just so long as the tax is paid. islam has always been political. originally posted by vitchilo march  is also the date for the uprising in china. i hope everything is okay. do you understand why non-us residents are also relevant to the statistics? depending on which action furthers their lonny-tunes agenda. so that you will admit and verify that i have made no claim. his \"friends\" say that he was confronted by his car. there is no war in the middle east. pro-life also refers to just \"opposition to abortion\". the theme song to cheers: we are all vessels filled with many wonders. jingle bell rock by bobby helm we are all vessels filled with many wonders. the problem is who doesn\\'t have money. ford didn\\'t accept taxpayer money to save the company. the hindus would say the same thing about the bhagavad ghita. then your confusion doesn\\'t make me a liar either. when muslims are extreme it\\'s terrorism. some believe not slaughtering the unborn is most important. you want others to decide over a woman body. where in the world is the media?? you have no remains of an a- at the pentagon. everyone in the world at the current \"prosperity\" level of northwest africa. my hair is pretty thing tho :/ woops! and i don\\'t fight for marriage. people are responsible for their actions. did the transaction take place? it\\'s not the same thing. put a little love in your heart we are all vessels filled with many wonders. the problem is who doesn\\'t have money. it doesn\\'t say that it didn\\'t participate. look forward to seeing it! originally posted by izzy! candy - thanks for starting us off today. except that they couldn\\'t. if a position is unverifiable; then it should be rejected. everyone in the world at the current \"prosperity\" level of northwest africa. is there a test to own a firearm in the us? i ask again if god does not exist can anything be morally wrong? to be unconsititutional means to violate the constitution. originally posted by muslim girl its not a complete impossibility. this is our country. addie joss cone threw an  game. edited by lashl: edited to properly mask profanity in quoted post. the quote you provide has nothing to do with jury nullification. paranoid got any proof? paul doesn\\'t have a shot. joy to the world we are all vessels filled with many wonders. what if they had a personal bias? specifically gnostic. and parts of the west coast. we were talking about women as war bounty were we not? last night japanese forces attacked the philippine islands. what is your definition of \"soul\"? aye but they are responsible to their constituents. taking advantage has the effect of reinforcing. he said the problem needs to be corrected before the space shuttle fleet is cleared to fly again. \"i think there\\'s a building confidence that the cop is on the beat.\" the no-shows were sens. john kerry of massachusetts and bob graham of florida. he added that genes on the y might play a role in influencing gender-specific differences in disease susceptibility. one of the defining and well-studied characteristics of temperament is how people react to novelty. it is the nation\\'s first large-scale counterterrorism exercise since the sept. 11 terrorist attacks. this report was cleared by the joint intelligence committee. \"this is an extremely heartrending time for the entire brandeis university community. beta versions of nterprise linux services are expected to be available on certain hp proliant servers in july. mitzna and party secretary ophir pines agreed to convene party organizations within 10 days to discuss whether new primaries would be held or a temporary leader appointed. grassley and baucus said they had rejected that approach in their plan. shares of guidant were down 5.3 percent at $40.92 in afternoon trading on the new york stock exchange. obus also denied a defense motion to postpone the sept. 29 trial date. about 20 family members of the victims were invited to the news conference. four of the defendants have pleaded guilty to weapons charges and other counts. but the justices ruled that the police supervisor who repeatedly questioned mr martinez as he screamed in pain did not violate his fifth amendment rights. microsoft has been awarded a patent on a popular instant-messaging feature that shows users when the person on the other end of the conversation is typing a message. kerkowski and fassett\\'s bodies were unearthed at selenski\\'s mount olivet road home on june 5. the transaction will expand callebaut\\'s sales revenues from its consumer products business by around 45 percent to some one-third of total sales. iraq\\'s economy was shattered under former president saddam hussein and by the u.s.-led war to oust him which ended in april. one man had brandished an english-turkish dictionary and pointed to the word \"refugee\". declining issues outnumbered advancers slightly more than 3 to 1 on the new york stock exchange. a new beauty contest kicking off in italy next week will give pixel-perfect pin-ups the chance to steal sultry sophia\\'s sex-symbol status. it is widely expected to give bair formal approval to offer the plane for sale to airlines. there are some who feel like the conditions are such that they can attack us there. defense lawyers had requested a change of venue for two reasons: they argued that massive pretrial publicity had tainted the jury pool against their client. australia\\'s 9 million income taxpayers received surprise tax cuts of between $3 and $11 a week from treasurer peter costello last night. security lights have also been installed on a barn near the front gate. but american troops will not shrink from mounting raids in the locations of their foes that can be pinpointed. moore did not have an immediate response tuesday. \"the steps that the iranians claim to have taken in terms of capturing al-qaida are insufficient. the study results were released at a meeting in seattle of the american thoracic society and also will be published in tomorrow\\'s issue of the new england journal of medicine. chief justice william h. rehnquist and justices antonin scalia and clarence thomas dissented. united has paid $34 million in penalties for failing to meet employment targets. staff writers brandon formby and colleen mccain nelson contributed to this report. the new zealand commerce commission had given westpac no indication whether it would have approved its deal. he added that prosecutors will seek the death penalty. he also objects to the sales and personal income tax increases in the package. the government wanted to revive talks with the liberation tigers of tamil eelam (ltte) to discuss the interim structure. supporters asked a federal court monday to block the removal of a ten commandments monument from the alabama judicial building. fcc chief michael powell presides over hearing monday. tehran has made it clear it will only sign the protocol if a ban on imports of peaceful western nuclear technology is lifted. \"i would rather be talking about positive numbers rather than negative. the democrat\\'s 2000 platform didn\\'t explicitly support gay marriages but backed \"the full inclusion of gay and lesbian families into the life of the nation.\" he was the ace of diamonds in a u.s. deck of cards showing pictures of most-wanted iraqi leaders. half the women received a daily tablet of the combination oestrogen plus progestin while the rest were given a placebo. the atlanta olympic games attack killed one woman and injured more than 100 other people. webtv was sold to microsoft in 1997 for $425 million and today is called msn tv. maj-gen jeffery said he would give his military pension to charity while he served at yarralumla. long lines formed sunday outside gas stations and people rushed to get money from cash machines as israelis braced for the strike\\'s effects. researchers found that sea ice in the arctic is disappearing at a rate of 9 percent each decade. some women also express concern about a society in which more people than ever are turning to cosmetic surgery in a quest for bodily perfection. msnbc.com first reported the cia request on friday. attorneys for both the archdiocese and the plaintiffs began meeting last week to reach the out-of-court settlement. sir richard was speaking after a meeting in london with australian tourism minister joe hockey. greenspan told congress on tuesday the u.s. economy \"could very well be embarking on a period of sustained growth\". police have arrested 21 people in connection with the murder of a young nigerian child whose headless and limbless torso was found floating in the river thames. gagne struck out two in a perfect ninth inning for his 23rd save. she told the inquiry that her husband had received assurances from his line manager and senior ministry officials that when he came forward his name would not be made public. lee boyd malvo will be called as a witness wednesday in a pretrial hearing for fellow sniper suspect john allen muhammad. the unions also staged a five-day strike in march; strikes have preceded eight of the last 10 contracts. the senate judiciary committee on tuesday overcame a significant hurdle in the battle to create a trust fund to pay victims of asbestos exposure but the most difficult obstacles remain. she said she didn\\'t know yet whether she would certify the budget. now she has her first trophy after victory in the us women\\'s amateur public links here on sunday. hundreds of kenyan women claiming they were attacked and raped by british soldiers were granted government legal aid wednesday to pursue their case against the ministry of defense. the company said this impacted earnings by a penny a share. u.s. stocks fell in early morning trade on wednesday as a wave of profit warnings drained some of the optimism that has driven a rally over the past three months. service officials said carlson refused to recuse himself from the case. but other sources close to the sale said vivendi was keeping the door open for further bids in the next day or two. micron\\'s numbers also marked the first quarterly profit in three years for the dram manufacturer. more than 130 people have been arrested and $17 million worth of property seized in an internet fraud sweep announced friday by three u.s. government agencies. albuquerque mayor martin chavez said investigators felt confident that with the arrests they had \"at least one of the fires resolved.\" a cuban architect was sentenced to 20 years in prison friday for using two fake grenades to hijack a passenger plane from cuba to florida in april. it may be dying because entrenched interests are positioning themselves to control the internet\\'s choke-points and they are lobbying the fcc to aid and abet them.\" but church members and observers say they anticipate that the decision here could pose doctrinal problems for some episcopalians who believe the bible prohibits homosexuality. shares of express scripts esrx.o fell about 4 percent to $66.73 on the nasdaq in late morning trade. shevaun pennington disappeared on saturday morning after arranging to meet 31-year-old toby studabaker. but neither he nor peace rules could keep funny cide from drawing away. he said police had identified the bodies of seven of the 14 bombers who launched five almost simultaneous raids friday night. the university of michigan plans to release a new undergraduate admissions policy thursday after its acceptance requirements were rejected by the u.s. supreme court in june. an audiotape aired last week by the arab al-jazeera television network may be the strongest evidence yet that saddam survived the war. but company officials expect the costs of the replacement work to run into the millions of dollars. a woman who underwent such an abortion could not be prosecuted under the bill. democrats dominate the assembly while republicans control the senate. the rally overshadowed ceremonies marking the sixth anniversary of hong kong\\'s return to china on 1 july 1997. israeli soldiers began tearing down settlement outposts in the west bank yesterday - an israeli obligation under a new mideast peace plan. the union said it would reveal later which chain would be targeted. meningitis is an infection of the fluid in a person\\'s spinal cord and around the brain. opec this week is set to pressure independent exporters to back the cartel\\'s next supply cut to prevent the resumption of iraqi exports undercutting oil prices. federal officials said the document remained sealed until thursday morning to allow authorities to make arrests in five western states. \"what is happening here is that people who have opposed this action throughout are trying to find fresh reasons why it was not the right thing to do.\" a spokesman for sco could not be reached for comment this afternoon. amazon and the new york attorney general\\'s office have already settled with one of the alleged e-mail forgers. the british foreign office said it had mediated the two men\\'s release. ridge said that no actual explosives or other harmful substances will be used. she took the highly unusual step of skipping cabinet to attend a meeting with the presidents of rwanda and uganda. the news also comes in conjunction with suns annual javaone developers conference in san francisco. he had been arrested twice before for trespassing and was barred from the complex. oracle chairman larry ellison has hinted that the company could yet again increase its offer for rival peoplesoft. u.s. agriculture secretary ann veneman kicks off the three-day ministerial conference and expo on agricultural science and technology on monday. their belief was based on speculation that estrogen prevents cell damage and improves blood flow. shortness was found twice as often in those with hearing loss. the matter could then be sent to the u.n. security council. dealers said the euro\\'s downward momentum may pick up speed should it break below $1.15. five-time tour de france winner lance armstrong is in denver today for a meeting about surviving cancer. police used pepper spray and rubber bullets to disperse a downtown march and rally last night by activists protesting an annual police intelligence-training seminar. colgate shares were down 30 cents at $56 in morning trade on the new york stock exchange. emily church is london bureau chief of cbs.marketwatch.com. perry has since called two special legislative sessions to try force the redistricting plan through. negotiators said friday they made progress during their latest round of free-trade negotiations between the united states and five central american countries this week in houston. hollywood and the world are gearing up to celebrate legendary entertainer bob hope\\'s 100th birthday on thursday. advancers outnumbered decliners by nearly 8 to 3 on the nyse and more than 11 to 5 on nasdaq. the committee would propose a replacement for the \"robin hood\" school finance system. other countries are owed at least $us80 billion ($108.52 billion). he explained that he found antetonitrus when he came to wits in 2001 while a post-doctoral research assistant at bristol university in britain. gonzales was found guilty of using excessive force by spraying olvera with pepper spray. chief financial officer andy bryant has said that hike had a greater affect volume than officials expected. a spokesman at strong memorial hospital said doud was under evaluation tuesday evening in the emergency room. us officials said downward \"rotor wash\" generated by the hovering helicopter stripped the flag from the tower. a key player in former state treasurer paul silvester\\'s corruption scheme testified on tuesday about kickbacks and bribes silvester traded for state business. he said fda hopes congress and the courts will bring clarity to the situation and some financial relief to consumers — perhaps before the 2004 elections. ernst & young spokesman kenneth kerrigan said the firm admits no wrongdoing. their differences on energy and medicare have become so pointed other members say it is embarrassing to the party. he attributed some of the communication gap to doctors feeling pressed for time; patients cited discomfort discussing financial issues. time magazine named the american soldier its person of the year for 2003. relief is in sight for texans saddled with skyrocketing homeowners insurance premiums. six democrats and two republicans are running for her seat and have qualified for the feb. 3 primary ballot. but they don\\'t realize that until it\\'s too late (of course) because they\\'re potential victims. the euro has slipped as much as four cents since matching a record peak near $1.1935 last week and hitting a record high of 140.90 yen in late may. mr bush arrives on tuesday on the first state visit by an american president. more than 100 officers launched the london raids in the final phase of a two-year operation investigating a cocaine and money laundering ring. the american cancer society and several scientists said the study was flawed in several ways. tatar was being held without bail in armstrong county prison today. the two democrats on the five-member fcc held a news conference to sway opinion against powell and the panel\\'s two other republicans. rice (57-12) and stanford (51-17) will meet in a winner-take-all matchup at 6:05 p.m. monday. closer eric gagne earned his 17th save in as many opportunities as he struck out three of the four batters he faced in the ninth. britain included the accusation in a september 2002 dossier setting out the case for war in iraq. the spacecraft is scheduled to blast off between next wednesday and friday from a launching site in the gobi desert. there’s also at least three suspected cases in illinois and 11 in indiana. intel corp.\\'s second-quarter profits doubled and revenues grew 8 percent from a year ago as the chip-making giant reported stronger-than-expected demand for personal computer microprocessors. the rebels are also calling for the deployment of a u.s.-led peacekeeping force. in 2002 japanese prime minister junichiro koizumi attended an summit in north korea with north korean leader kim jong il. the opposition japanese communist party was against the bill proposing the new law. some officials stated the task would be difficult for asean members because of varied legal and political systems. the cfe treaty is a key european arms control treaty. helmand province is the world\\'s largest producer of opium. the united states said it would stand up to nuclear blackmail and has ruled out negotiations. the meetings lasted 2 days. china is a permanent member of the un security north korea is currently in the process of dismantling its nuclear weapons program. according to court documents -- on 25 july australian television reporter peter lloyd faced 3 new drug charges in singapore. russian president vladimir putin signed a decree suspending russia\\'s participation in the conventional forces in europe treaty due to circumstances that affect the security of the russian federation and require immediate measure. spokesman for the swiss justice ministry folco galli stated that the extradition conditions stipulate that mejri can only be prosecuted on a single charge of falsifying documents for which italian authorities could provide sufficient evidence to prosecute. the attacks occurred after a dispute between the governments of russia and estonia over the relocation of a soviet war memorial. israel remains outside the treaty. russia is a member of the quartet on the middle east. warned that russia would withdraw from the treaty if western nations refuse to ratify its amended version. this was particularly after ethiopia withdraws its forces. iranian officials have increased executions in 2007 as officials enforce a campaign purportedly aimed at promoting virtue and boosting security in society. the rapist was identified as hossein safarlou and had also been convicted of drug trafficking. neighboring kyrgyzstan has also experienced raids by taliban-backed islamic militants in recent years. it is a serious threat to international security. the state scientific center of applied microbiology has been working with western scientists to convert the complex into a biomedical manufacturing site. the official stated that this was a complete technology transfer. 105 inmates are serving sentences for drug trafficking. russia\\'s suspension of obligations under the cfe treaty is temporary. executive director of the arms control association in washington daryl kimball stated the israeli document could affect the debate over india. the treaty is one of several issues causing tense relations between the governments of russia and the u.s. and europe. korobeynichev\\'s laboratory worked with other scientific institutes. lugar and nunn awarded the prime minister a medal. russian military officials stated the decision would depend on whether the united states proceeds with its plan to deploy missile defense components in poland and the czech republic. the agreement was signed during a regular meeting of chiefs of defense staff from the 26 nato allies. international atomic energy association is the united nations watchdog. there is much work to be done. saudi arabia is an absolute monarchy and has a consultative council appointed by the government. kamynin said there will be an exchange of opinions on topical international and regional matters based on a joint working relationship at the heart of the un. a visit to libya by the russian foreign minister was announced. indian and pakistani governments each conducted nuclear tests in may 1998. 1 suspected extremist was provisionally released without bail. the accused will be charged with international drug trafficking. north korea should not act further to aggravate the situation. suspected drug lord known as ‘el taliban’ held in mexico sc dismisses govt\\'s review petition on vodafone tax verdict explosion hits pipeline as assad attacks cities nato soldier killed in s. afghanistan fidel castro celebrates 86th birthday israeli ex-spy boss: no trust in leadership over iran – video u.s. supreme court issues split ruling on arizona immigration law nato leaders commit to afghanistan transition damascus \\'suicide bombing\\' kills 10 australian pm defiant under pressure over leadership obama says clear rules needed to calm south china sea free syrian army moves headquarters from turkey to syria 7 states sue over obama administration\\'s birth control rule greece secures biggest debt deal in history polls open in russian presidential election julian assange plans to run for australian senate sandusky found guilty in child sex abuse trial 7 tibetans self-immolate in china fact check: obama\\'s supreme court remarks saudi women allowed to compete at olympics nigeria: university bombed in north china\\'s wen promises job creation third man arrested in savile sex abuse probe romney names ryan as running mate suicide bombers attack yemen military posts three nato troops killed in one day in afghanistan moscow protest against vladimir putin smaller and quieter french presidential election: first round - live updates australia creates world\\'s largest marine reserves two uk soldiers killed in afghanistan abbas proposed as pm in interim unity government egypt\\'s coptic church prepares to choose pope malawi confirms president mutharika\\'s death mali rebels declare independent \\'azawad\\' lance armstrong plots strategy after loss of titles polls open in france for presidential election mayday: fears for asylum seekers nato says four troops killed in \"insider\" attack in afghan south un security council to vote on up to 300 syria monitors gunman kills six in shooting at sikh temple in wisconsin probe into motor insurance market china state news agency: there\\'s still hope for syria peace au forces intensify attack on somali rebels south korea to boost nuclear power? aol to sell 800 patents to microsoft for $1 billion thousands flock to amsterdam for queen\\'s day middle east: iraq: 17 prisoners escape in kirkuk us navy jet crashes into apartment block woman dies after cliff collapses in dorset u.s. and turkey tighten coordination on syria rep. of congo: 236 dead after arms depot blasts i\\'ll have another wins preakness journalists smuggled out of homs new rules for us secret service mandela released from hospital 180 killed in iran earthquake british christians take complaints to european court turkey seeks to relocate some syrian refugees three al qaeda suspects arrested in spain israel air strikes kill 4 in gaza; death toll now at 38 israel to free palestinian hunger striker hezbollah says it sent drone over israel free syrian army captures syrian officers doctor treating aurora shooting suspect had medical reprimand 6.6 quake rocks indonesia\\'s papua: us geological survey what time is the paralympic opening ceremony? everything you need to know about the big curtain-raiser us school bans hugging iran steps up relief efforts after quakes kill 227 tsunami warning after canada quake 2 dead in shooting outside empire state building french unemployment rate rises to 10 percent sandy strengthens as nears coast; wall street shut halliburton q1 profits rise on strong north america sales 12 killed in u.s. drone strike in nw pakistan china stocks open lower friday tunisia lifts curfew after riots un monitors shot at on way to syrian massacre site soldier killed in afghanistan blast local militia bolsters islamist militants in mali opening ceremony gives olympics a rocking start man dies in french \\'anti-terror operation\\' capello resigns as england manager four palestinians killed in iaf strike pakistan convoy heads to protest us drone strikes sarkozy to sue after gaddafi cash claim bursts into campaign senior cleric: iran will attack tel aviv if israel strikes supreme court possibilities if romney wins election poll: putin to win russia presidential vote syria says troops have begun pullout – video 4 chinese among nigeria plane crash victims venezuela mourns oil refinery blast deaths strong earthquake strikes near acapulco pakistani plane crashes with 130 people on board un orders global sanctions against haqqani network foreign militants killed in somalia in strike on car hurricane sandy takes aim at us east coast panetta: afghanistan tops nato conference topics four men admit london bombs plot israel attacks in gaza strip after rocket fire 12 bodies found at russian jet crash in indonesia syria\\'s tenuous truce takes hold us soldier kills up to 16 afghan civilians in shooting spree rupert murdoch set for second day of grilling barclays boss falls to rate fixing scandal china\\'s yuan advances to 6.3103 against usd wednesday nissan to offer steer-by-wire systems in some infiniti cars teenage tibetan monk dies after setting himself on fire in china tech capital bangalore costliest indian city to live in: survey gusmao powers on in east timor un monitors unable to reach site of syria killings nato strongly condemns syria\\'s downing of turkish jet turkish army stages tank exercises near syria border at least 20 killed in syria saturday syria forces launch aleppo attack gazans fire 89 rockets; cabinet approves reserve call-up johnson re-elected london mayor breivik gets 21-year sentence brother of eastenders actress gemma mccluskie is charged with her murder jersey murder trial: killer \\'hearing voices\\' madoff\\'s brother to plead guilty to fraud polls open across france in presidential election libyan militia takes control of tripoli airport clinton warns kenya on cost of election unrest arkansas justices strike down death penalty mandela discharged from hospital nz to increase exports to china al-shater to run in presidential election in egypt six police officers killed in attacks in dagestan pope rips into dissident priests on celibacy bahrain rejects activists\\' appeal hurricane sandy moves towards us plastic artist calls for greater support for new talents syria launches ground assault in aleppo algerian national turnout of parliamentary vote reaches 44.38 pct security personnel killed in pakistan raid us stocks slip on wall street as greek talks drag on romney to tap ryan as vice presidential running mate nato helicopter makes hard landing in e. afghanistan mubarak\\'s sons face new charges of insider trading india allows pakistan investment bomb kills 19 in northwest pakistan suicide bomber kills 37 at mosque in afghanistan nato soldier killed in afghan blast nadal through to seventh french open final putin wins disputed russian presidential election remains of 167 people found in mexico cave alps attack: girl returns to uk obama takes offensive against romney in debate poland honors president killed in 2010 plane crash thousands gather in moscow for rival rallies google appoints dennis woodside to run motorola mobility hurricane sandy takes aim at us east coast 2 rockets hit eshkol; none injured assange to appeal extradition to uk\\'s top court strong quake hits eastern indonesia syrians hold solution to syria crisis pakistani mob kills man \\'for burning koran\\' u.s. drone strike kills 10 in northwest pakistan: officials salvador dali painting snatched in nyc will putin\\'s election victory in russia be greeted with protests? france\\'s nicolas sarkozy makes his reelection bid official eurozone unemployment at record high in june french socialists win absolute parliament majority dominique strauss-kahn faces questions over french prostitution ring romney eyes us republican primary endgame suspected drone strike kills 4 in pakistan 3 traffic accidents leave 56 dead in china hall of fame beckons for capriati strauss-kahn charged in prostitution vice ring sony forecasts record annual loss of $6.4bn 19 killed in iraq attacks ahead of ramadan end barclays hit by fresh us probe closed roads in armenia eu imposes new sanctions on syrian regime tens of thousands rally against putin\\'s rule (ap) bahrain race goes ahead amid unrest chinese stocks open mixed wednesday sheryl crow has a benign brain tumor afghan parliament approves u.s. partnership us astronaut neil armstrong dies amnesty investigator: syria rebels also committing abuses romney wins florida republican primary joachim gauck elected as german president south africa hosts \\'peace talks\\' in mine standoff santorum wins kansas caucuses first man on moon neil armstrong dies at 82 wa man arrested in police drug raid fla. democrats want extended early voting hours british warship sets sail for falklands progress reported in palestinian prisoner hunger strike talks palestinians: 12 killed in idf strike in northern strip egypt confirms mubarak\\'s pm back in presidency race us marines killed in base attack us helping get arms to syria rebels un observers reach syria massacre village romney pledges to \\'stand with israel\\' on iran threat greek pm calls for may 6 general election government of canada supports women\\'s safety in regina no problem if mulayam forms third front: digvijay bahrain court upholds sentences against uprising leaders plane crash in ghana: how the international media reported it 6 nato troops killed in afghanistan syrian forces kill 54 ahead of annan peace mission bbc director general resigns amid newsnight scandal rick santorum notches a victory in kansas caucuses us pledge to rebuild haiti not being met chinese stocks open mixed wednesday greece to vote on 2013 budget clinton warns kenya on repeat of 2007 vote chaos anti-american fury sweeps middle east over film israeli delegation marches in 2012 olympics opener tokyo stocks open lower wikileaks releasing trove of syria documents officials: gaza man killed in israeli airstrike (ap) mali\\'s president formally resigns 60 killed in nigeria cattle market attack jordan biased over palestinians from syria israel among top arms exporters and importers somali mps to elect new president federer captures 7th wimbledon title al-qaida leader urges kidnapping of westerners chinese stocks close higher midday friday 15 killed in crash in india putin sworn in as russia\\'s president for 6 years tense calm returns to south tel aviv five things to watch in the presidential debate syria blames rebels for houla massacre of over 100 s. sudan accuses sudan of bombing in blow to talks five million citizens get unofficial salary in ukraine minn. terminal reopens after bag causes evacuation westwood in front a dubai desert classic pakistan\\'s pm orders youtube halt over anti-islam film polls close in senegal\\'s presidential election chavez set for more radiotherapy in cuba chinese president concludes state visit to denmark russian orthodox church rallies faithful after criticism clinton warns against undermining grameen bank mali\\'s interim president sworn into office putin \\'wins\\' russia\\'s presidential election u.s. closes embassy in damascus due to syria violence eu sanctions assad\\'s wife; mortars hit homs women testify at air force instructor\\'s sentencing more than 30 striking miners killed in south africa iron dome intercepts two rockets fired at beersheba mali islamists destroy more holy timbuktu sites chinese stocks open higher thursday butler to be tried in \"vatileaks\" case repsol blasts argentina over oil nationalization burma\\'s aung san suu kyi to address parliament on june visit us man recovers car 42 years after theft iran mps say ready to ban oil exports to some eu states at least six dead in pakistan gunfight iranian painter mansoureh hosseini dies romney promises to \\'restore america\\' \\'kony 2012\\' director hospitalized israeli president released from hospital hezbollah calls for more anti-islam film protests tennis: nadal defeats djokovic for monte carlo title obama urges europe to act quickly on crisis choc powder recalled over salmonella concerns raiders kill 38 in latest land clashes in kenya kidnapped uk aid worker killed in pakistan ten rockets from gaza land in southern israel; none hurt five nato soldiers killed in afghanistan press releases: yemeni presidential election bbc faces questions for pulling savile case eurozone unemployment hits record high james murdoch quits role at bskyb science fiction legend ray bradbury dead at 91 us presidential election 2012 four foreign soldiers killed in afghan east un team investigates syrian massacre ap poll: majority harbor prejudice against blacks redskins trade for no. 2 pick china\\'s defence spending to rise 11.2% strong italy quake kills at least six ecuador yet to decide on assange\\'s asylum us offers $10 million for pakistani militant chief 6 nato troops killed in afghanistan osama bin laden movie to be filmed in india egyptians go to polls in historic election tsunami warning after aceh quake u.s. transfers bagram prison to afghan control jeremy hunt clings on as spad quits over news corp emails obama secret service agents sent home blitzbokke beaten by nz team anna yet to decide on contesting state polls sex attack on woman investigated eight more bodies found on ship thoughts on race relations under a black president bairstow hits ton in india tour match wind farm developers using \\'tricks\\' to make turbines look smaller us missiles kill 15 in pakistan: officials nigeria police make arrests after college massacre focus shifts to greece after spain secures bank bailout heavy fighting reported in damascus france\\'s hollande backs greece but urges credible reform the hunger games breaks us box office record british soldier killed in afghanistan spanish dilemma gets more acute two aust soldiers wounded in afghanistan china stocks open lower friday palestinian leadership backs fatah-hamas doha deal romney wins maryland republican primary texas man finds his car 42 years after it was stolen 5 aid workers freed in operation in afghanistan russian court to rule in pussy riot trial israel bars german author grass over poem u.s. says saddened by shooting on afghan civilians east timor votes in presidential election russia tells syria chemical arms threat is unacceptable fitch restores ford credit to investment grade clashes erupt as greek vote nears chinese activist renews call to fight injustice 2 dead in shooting outside empire state building mursi sworn in as egyptian president aid workers freed in afghanistan raid pakistan demolishes osama bin laden hideout sudan accuses israel of airstrike on arms factory negotiators reach deal on congress payroll tax cut bill 100 pro-palestinians seek to enter israel at allenby asia stocks fall ahead of greek debt deal deadline south africa police say they killed 30+ miners who cares about the syrian people? u.s. relaxes deportation rules for young people: napolitano mobster \"whitey\" bulger\\'s girlfriend gets 8 years mauritanian president shot at man sets self afire outside breivik trial us drone in pakistan kills 10 suspected militants wal-mart lowers fee for holiday layaway program iran steps up sensitive nuclear work - iaea brazil\\'s \\'pop-star priest\\' gets mammoth new stage washington: court upholds voting rights act in alabama case putin claims victory in presidential vote clinton a tough act for obama to follow romney chooses ryan as gop running mate european ministers are poised to approve greek rescue ukraine\\'s korobka gets four-year doping ban killer may have filmed france school shooting hong kong stocks open 0.62 pct higher suicide bomber targets nigerian church malaysia to extradite iranian for attack on israelis israel reaches deal with palestinian hunger strikers \\'hunger games\\' sets box office records putin \\'wins\\' russia\\'s presidential election putin to win russia\\'s presidential election libyans transfer weapons to army archbishop of canterbury to step down amid rifts india: maoist rebels in talks on freeing italians city room: empire state building shooting at least 63 dead in pakistan factory blaze penn state football slammed with ncaa sanctions israeli minister wants palestinian leader\\'s ouster nato leader plays down risk of turkey-syria clash girl accused of burning koran bailed u.n. concerned at possible syria chemical weapons \\'life-threatening\\' storms feared for midwest indonesian president to visit australia at least 18 killed in afghan bomb attacks: officials president john evans atta-mills must resign now -npp germany miami heat clinches nba championship japan switches off last nuclear power plant this weekend ryanair chief hails report findings russian air force\\'s 100th anniversary nato soldier killed in afghanistan romney leads santorum in gop super tuesday contests putin sworn in as russia\\'s president for 6 years three killed in horror crash are named two american officers murdered as afghan unrest continues obama addresses secret service scandal japan marks one year since quake and tsunami disaster syrian pm defects to jordan syrian arab republic (the): more than 70 killed in syria ahead of annan return suicide bomber kills 12 in nigeria church uk airline cancels \\'flytilla\\' tickets on israel objections spaniard on trial for cuban dissident’s death peace lies over the south china sea senior journalist killed in pakistan million muppet march planned to defend u.s. backing for pbs syrian opposition council to establish envoy in france romney won\\'t volunteer budget differences facebook boosts size of ipo by 25 percent iran\\'s parliament questions president ahmadinejad afghan suicide car bomb kills at least seven: officials gop presidential hopefuls clash in southern races nato soldier killed in afghanistan rodney king death ruled accidental 2 british soldiers killed in afghan insider attack british red cross doctor kidnapped in pakistan found beheaded china truck accident kills 20 australian pm defiant under pressure over leadership pussy riot verdict greeted with defiance secret service sex scandal \\'regret\\' activists storm syria embassy in kuwait rapturous welcome for aung san suu kyi\\'s historic trip key wants waitangi marae visit to stay norway marks anniversary of breivik\\'s massacre when an ally declines rba delivers another rate cut euro zone to greece: no rescue without reforms obama to meet batman gun victims romney takes lead over obama with convention \"bounce\": reuters/ipsos poll pope’s butler arrested in scandal over vatican leaks anti-putin protesters form human chain george washington\\'s copy of us constitution sells for $9.8m lakers fire mike brown after 1-4 start un assembly to vote on syria resolution us soldier ‘doesn’t recall massacre’ 4 french soldiers reported killed in afghanistan investigators seek answers to whitney houston\\'s death north warns of retaliation for seoul\\'s naval drill plan lesser of two evils triumphs in super bowl two killed in new israeli strike on gaza: medics what is russia thinking on syria? a brief guide four injured in motorway crash dozens killed in kenyan clashes second day of egyptian presidential election actor ben gazzara dies at 81 2 british soldiers killed in afghan insider attack avalanche buries over 100 pakistani soldiers inflation falls to 15-month low susan g komen in u-turn over planned parenthood funding cut forex & gold 19 july 2012 iran says nuclear talks with un \\'constructive\\' usda confirms case of mad cow disease in california bp sells gulf of mexico assets to plains for $5.55 bn uk: 300 potential savile abuse victims emerge armstrong standing down from livestrong u.s. drone strikes kill 16 suspected militants in yemen syrian opposition reports \\'massacre\\' chinese stocks higher at midday friday voters in myanmar hopeful as suu kyi\\'s party claims win obama\\'s big hispanic win worries republicans 4 foreign soldiers killed in afghan east syria opposition unites as israel fires warning shots south africa train crash kills 26 egyptian election result delayed eu moves closer to new iran sanctions dozens arrested in russian tv tower protest norway marks anniversary of massacre senior us general linked to petraeus scandal chinese stocks gain at midday monday n. korea vows to expand nuclear deterrent two nato soldiers killed in afghanistan us stocks open higher despite gdp miss major snowstorm barrels down on central plains u.s. drone strike kills 3 in pakistan chicago teen arrested in chicago car bomb plot david miliband: my brother and a return to old labour syrian regime bids to retake city of aleppo wall street ends mixed oil prices rise on hopes for stimulus stock index futures signal early losses man charged with murder in flat us waives riders for pak aid drone strike kills four suspected militants in pakistan syrian rebels retreat from besieged homs district egypt\\'s mubarak in critical condition assad accuses us of fueling syrian uprising iran and world powers set for nuclear talks british soldier killed in southern afghanistan spain\\'s jobless claims hit new high turkey scrambles jets to syrian border two year doping ban for contador china rocked by twin earthquakes bank of england deputy denies ordering rate-rigging red cross negotiating syria ceasefire to bring aid german parliament endorses greek bailout burma activists say go slow on easing sanctions facebook mobile gains drive revenue growth: reaction \\'india police name 3 iranians in embassy attack\\' heavy fighting rocks eastern syria - residents china yuan retreats to 6.2697 against usd thursday 5 wounded in ohio school shooting indonesia police shoot dead suspected militants in bali romney concedes election to obama in phone call armenia\\'s parliamentary vote a test for president mp sachin tendulkar says no to govt bungalow u.s. navy jet crashes into virginia apartment buildings romney wins illinois primary yahoo names google exec mayer as ceo us soldier accused of killing afghan civilians identified us designates haqqani network as terrorists button boasts best time after first practice rangers voted into third division newark mayor rescues neighbor from burning house a day of rage in bahrain dealbook: stock exchanges prepare to open homs offensive kills 200 funeral set for ohio shooting victim somalia lawmakers to vote for new president french gunman wants to \\'die with weapons in hands\\' 10 rockets in 20 minutes in eshkol regional council may day marked by protests against austerity cuts rebels kill two park rangers in eastern congo at least 73 die in egyptian soccer pitch invasion southwest china quakes kill at least 50 hurricane sandy reaches jamaica remarks with foreign minister koichiro gemba obama aide holds talks in china after syria veto weak earnings drag stocks lower on wall street magnitude 6.3 quake strikes off solomon islands: usgs liquid ammonia leak kills at least 15 in shanghai weiner shrugs off latest online sex scandal death toll rises to 39 in italy coach crash indian pm snubs commonwealth summit syria military police chief defects to rebels boeing stock tumbles after fire on 787 dreamliner white house backs gay marriage teenagers among 5 dead in belgian bus crash seven foreign workers kidnapped in nigeria israel launches airstrike into syria keita wins mali presidential election \\'9 dead\\' in new darfur tribal clash 6 killed in u.s. drone strike in nw pakistan 10 killed in road accident in nw pakistan carney sets high bar to changes at bank of england four arrested as bangladesh building toll rises to 352 suicide bombers attack us base in afghanistan north korea \\'postpones\\' family unions with south korea gunmen kill 11 foreign climbers in pakistan david beckham retires from football matt smith quits bbc’s doctor who g20 summit ends divided over syria 10 killed in iraq bomb attack man \\'who set himself ablaze\\' on national mall dies series of attacks kill 10 police in afghanistan syrian prime minister \\'survives assassination attempt\\' former first lady barbara bush leaves hospital michael schumacher still in a coma fighting for his life following skiing accident eleven killed in china police station attack bradley cooper in talks to play lance armstrong in biopic eu ministers hold crisis talks over horse meat scandal thai opposition announces election boycott brazil held by england 2-2 as maracana re-opens george w bush weighs into immigration debate south korea confirms that north korea has conducted controversial third nuclear test hundreds fall sick in bangladesh factory female suicide bomber kills 16 at russian station ten killed in russia coal mine blast thai protesters storm army headquarters israel launches new airstrike against syria police fire tear gas at protesters in cairo egypt opposition mulls response to morsi dialogue call wrestling to feature in 2020 tokyo olympics may housing starts up 6.8% cuba\\'s castro to take over celac presidency 5.6 magnitude earthquake shakes iran rescuers race to find 20 still trapped in india building collapse daily press briefing: syria islamists attack malian troops in gao britain loses bid to deport radical cleric abu qatada russian parliament to consider ban on u.s. adoptions north korea vows to restart nuclear facilities it\\'s official: deal reached on \"fiscal cliff\" us allies get help to repel iranian computer attacks china stocks close higher on wednesday russia unveils $25bn oil link to pacific dolce and gabbana fined in italian tax case 7.7-magnitude earthquake hits sw pakistan asteroid passes earth in fly-by eu to train mali army to fight northern islamist militants spain turning back the clock on siestas us says syria may have used sarin gas in chemical weapons british pm pushes sri lanka on war crimes zimbabwe: mugabe declared winner in disputed vote indonesia: death toll rises to 11 in indonesia boat capsize egypt court bans muslim brotherhood \\'activities\\' rouhani leads in initial iran count politicians in flag violence talks north korea proposes high-level talks with us indian rape victim dies in singapore hospital egypt bracing for massive protests israel agrees to free 104 palestinian prisoners palestinians\\' first ever un vote symbolic yet historic bangladesh building-collapse death toll climbs to 580 britain summons israeli envoy over settlements hamas in mixed-sex school \\'ban\\' navy panel urges ouster of officer who faked death turkish prime minister signals return to hardline on protesters factbox: what to look for in obama\\'s state of the union speech google \\'are playing international tax game\\' iraq backs egypt crackdown on mohamed morsi supporters russia gives initial approval to adoption ban kosovo: 3 get jail time in organ trafficking case gunman among 7 dead after fla. apartment shootout thousands protest gay marriage in france car bombs kill at least 49 in iraq air strikes wound civilians in syria\\'s deraa militants kill 6 soldiers in northwest pakistan workers protest after bangladesh building collapse missing cruise passenger is a nsw ambo diana and fayed death info received new the deaths of princess diana and dodi al fayed are being looked at again by police after they received information. snowden releases first russia video chinese shares close higher friday rafa nadal to miss australian open india’s modi promises tough stance against pakistan egypt court orders release of mubarak boy scouts of america delays vote on lifting ban on gays car bombing kills 14 in northern iraq joran van der sloots plans to get married in peru prison tokyo stocks close down 1.53% china stock index futures close lower -- jan. 24 pictures of the day: 11 april 2013 two palestinians killed in an israeli air strike on gaza u.s. expels venezuelan diplomats stuart hall admits sex assaults on children stansted: ryanair reports 13% rise in annual profits but warns of slower growth this year stocks to watch at close on thursday 7.7-magnitude earthquake hits sw pakistan report of two explosions at finish line of boston marathon italian journalist picked as presidential candidate gov\\'t committee approves release of 26 palestinian prisoners obama meets zuma and pays tribute to mandela u.s. senate set to vote on gun control bill car bombings kill 13 civilians in iraqi capital syria talks agree military aid to rebels series of deadly attacks strikes iraq egypt president declares state of emergency in three cities turkish police fire teargas at protesters in istanbul saudi-born nigerian charged with terrorism in new york eu receives 2012 nobel peace prize san fermin bull-running festival starts former cia officer sentenced to 30 months in prison for info leak singapore stocks close 0.44 pct lower pakistan-un report reveals alarming levels of drug use 7.2 magnitude earthquake strikes philippines bangladesh: fugitive sentenced to death by war crimes tribunal alleged cop killer died from gunshot musharraf arrested in pakistan iran nuclear talks in geneva spur high hopes 12 militants killed in afghan raids: ministry north korea launches short-range missiles thai protesters block polling stations in bangkok hugo chavez: venezuelan officials for unity nato says north korea nuclear test is grave threat to world peace north korea confirms third nuclear test indian stocks open lower macau gambling revenue hits record us$38b in 2012 nelson mandela dies: live coverage some county officials pave the way for same-sex marriage us air force helicopter crew killed in british crash tokyo wins race to host 2020 olympics malaysia detains australian lawmaker at airport north korea launches short-range missiles eu ministers \\'determined\\' to resolve horsemeat scandal u.s. concerns grow about syria\\'s chemical weapons 12 killed in bus accident in pakistan chinese yuan weakens to 6.2816 against usd russia invites syrian opposition for talks egyptians vote on new constitution former england great tom finney dies at 91 car bomb hits libyan foreign ministry in benghazi roadside bomb kills 3 policemen in afghanistan syria talks for cameron and putin french-led troops control access to timbuktu nato solider dies in afghanistan gunmen kill 11 foreign climbers in pakistan north korea blocks access to joint industrial zone most french support military operation in mali egyptians vote on constitution change senate leaders appear close to us debt ceiling deal 4.3-magnitude earthquake jolts sw china chairman of british no-frills airline easyjet to step down japan urges u.s. to quickly handle budget deadlock suicide bomber kills 11 in afghanistan senate judiciary committee nearing final big decisions in shaping immigration bill nato troops killed in afghan \\'insider attack\\' man arrested on suspicion of murder after stabbing in suffolk tunisia opposition leader slain; protests erupt un chief presses for major boost in syrian aid stocks slump on wall street protests and appeals for calm after zimmerman acquitted of trayvon martin murder nsa whistleblower edward snowden leaves hong kong on flight to moscow all eyes on capriles as venezuela election set radio prankster in tears over nurse’s death n. korea looks set to delay controversial rocket launch gates blast rocks obama administration jeff bezos pays $250 million for the washington post brooks pleads not guilty at phone hacking hearing purge of kim uncle sends chilling message to north korea’s elite south africa\\'s former pm nelson mandela back in hospital obama pledges to make new health care law work fresh rain brings more flooding thousands protest gay marriage in paris zambia arrests ex-leader banda over oil deal iran nuclear talks start in geneva thai protesters besiege more ministries amazon\\'s bezos buys washington post for $250-m obama encourages boy scouts to end ban on gays car bomb kills four in hezbollah beirut bastion: minister arab league welcomes us-russian deal on syria gun battles in central african capital create fresh panic germany ready to help syria chemical mission exclusive-update 1-egypt pro-mursi alliance signals flexibility in talks david beckham retires from football 5.0-magnitude quake jolts japan lara plans visit to nepal taliban prison break: 250 militants escape after attack on pakistan jail nato protesters convicted on non-terrorism charges at least 33 dead as big quake hits pakistan egypt\\'s interior minister survives bomb attack china yuan weakens to 6.1818 against usd tuesday cameron loses parliamentary vote on syria military action egypt freezes muslim brotherhood funds russian meteorite leaves building gaping open tony abbott sworn in as australia pm egypt\\'s military cracks down on muslim brotherhood assembly meets amid chavez crisis syria opposition agrees to talks suicide bombers kill 3 soldiers in pakistan ukraine protesters topple lenin statue kabul bank heads sentenced for corruption us drone strike kills seven in north waziristan briton jailed for 10 years for selling fake bomb detectors china police seek eight suspects over crash suicide bomber kills 16 in russia’s volgograd eu jobless hits fresh record americans scramble to sign up for obamacare by deadline lance armstrong confesses to doping in oprah interview hushen 300 index closes lower -- march 12 state dept security chief resigns after benghazi nra official to face questions for first time since controversial remarks honduras ambassador resigns after alleged embassy orgy libya ‘destroys last chemical weapons’ iran: moderate candidate wins presidential vote three afghans dead in new blast at us base in east afghanistan suicide bomber kills guard at us embassy in turkey dozens injured as morsi supporters clash with security forces 5.5-magnitude quake hits off taiwan pistorius officer on attempted murder charges vinnie jones reveals he has skin cancer \\'dozens killed\\' in syrian air strike on bakery raid on boston marathon bombing suspect captured on film destruction of syria\\'s chemical weapons could prove difficult un: us drone strikes violate pakistan\\'s sovereignty obama hails mandela\\'s inspiration effect oil firm asked rogue trader about meeting with minister death toll in kenya bus attack rises to six australian pm insists no argument with indonesia asian stocks hit three-week highs on hopes of u.s. debt deal \\'palestinian prime minister fayyad resigns\\' south africa admits possible \\'mistake\\' over deaf signer at mandela memorial iran vows to preserve \"peaceful\" nuclear program peacekeeper killed in abyei clash stocks fall on third day of government shutdown equatoguineans vote in legislative polls nato troops killed in afghan \\'insider attack\\' israeli soldiers kill palestinian woman in west bank israeli official confirms second air strike at syria egypt launches new assault against sinai militants a battle to retake north mali: hundreds of french troops drive back al-qaida-linked rebels india: tear gas fired at gang rape protesters asiana air boeing 777 crash lands at san francisco airport myanmar police say 13 children die in electrical fire at mosque fiscal cliff: house delays vote on fiscal cliff deal - live man charged after buckingham palace arrest \\'5 snowboarders killed in colorado avalanche\\' ban to review syria chemical arms accord iraqi president in hospital after suffering stroke malaysia\\'s ruling coalition wins majority two blasts near iranian embassy in beirut police: 19 hurt in nola mother\\'s day shooting hagel defends proposed cuts in defense spending egypt: muslim brotherhood stands behind morsi nato strike kills 11 afghan children iranian minister blames west for failed nuke talks eight nato troops killed in afghanistan typhoon fitow slams into southeastern china mandela movie to open this month in south africa not guilty plea for james holmes – but insanity option still on table at least 13 killed in triple car bombings in iraq\\'s diyala chris brown concerts cancelled new apple app sends drivers to airport u.s. drone kills 4 militants in pakistan pope francis slips out of vatican for prayers us senate has rare sunday session days amid fiscal impasse egypt\\'s muslim brotherhood set for mass march iraq violence kills seven protests continue in brazil bedouin release two britons seized in egypt\\'s sinai israel called to account over latest settlement plans by european countries obama pokes fun at critics during press dinner allen defends self against farrow\\'s abuse claims photos show n. korea nuclear readiness forex & gold 12 march 2013 car bombs kill 20 in turkish town near syrian border un votes to eliminate syria\\'s chemical weapons edward snowden\\'s father in moscow pakistani taleban chief killed in us drone strike muslim brotherhood supporters die in egypt clashes facebook profits jump as user base expands syria envoy calls for political change to end conflict thirty dead in italian bus plunge china stocks close lower on thursday indonesia: six dead in indonesian volcanic eruption italy to swear in new coalition government indian stocks open higher maldives holds fresh presidential election one world trade center named tallest us building piers morgan interviewed by police in hacking case israeli forces detain 2 in hebron arrest raid pakistani girl shot by taliban appears on video egypt\\'s interim president swears in new cabinet china court sentences bo xilai to life imprisonment for corruption end \\'near\\' for syria\\'s chemical weapons egypt: egypt crackdown sparks global outrage egypt army cracks down on brotherhood suicide bomber kills 10 in pakistan pakistan shi\\'ites demand protection from militants train driver in spain crash questioned by judge singapore stocks close 0.31 pct lower men in china detained after taking girls to hotel russia asks un to consider its inquiry of syria chemical arms use urgent: death toll from ne china fire rises to 112 imran khan to contest elections from four na seats trailblazing israeli electric car company to fold texans coach gary kubiak in stable condition after collapse taliban commander killed in us drone strike car bomb in northern syria kills 20 north korea shuts last remaining hotline to south over 70 dead in spanish high-speed train crash egypt sentences pakistani amid 5 to death for drug smuggling french train passengers tell of crash ordeal former reagan spokesman larry speakes dies at 74 egyptians vote on divisive constitution obamas to meet mandela family wont visit hospital weak earnings drag stocks lower on wall street three feared dead after helicopter pub crash nigerian mp charged with accepting $3m bribe rupee up 22 paise against dollar in early trade israel\\'s peres calls for return to peace talks obama to deliver statement on syria at white house at 1:15 pm indian stocks close lower us makes case for action against syria mourners clash with police in tunisia china flu death toll rises to six owner arrested as bangladesh building toll reaches 372 questions arise over chemical weapons claims in syria powerful new earthquake hits shattered pakistan region indian troops raid pakistani military post pope benedict xvi departs vatican for last time chinese vice premier meets australian governor-general brazil leader promises reform vote tropical storm andrea to slide up east coast five dead as indonesia train collides with fuel truck israel unveils plans for new settler homes miss new york is crowned miss america austrian man charged after 56 human skulls are found at his home us house backs new sanctions before iran inauguration suspected us drone kills 6 militants in yemen man sets himself on fire at washington\\'s national mall 27 killed in attacks across iraq thousands protest gay marriage in france india ink: image of the day: march 20 watch live: us capitol on lockdown after reports of shots fired shanghai free trade zone begins operation at least 200 killed in bangladesh building collapse court upholds death sentences for mekong murderers abduction teacher to be sentenced deadly gas cylinder blast hits pakistan school bus n korean ship carrying cuba missiles seized israeli forces arrest five palestinians across west bank protests planned across brazil despite concessions merkel wins big in germany election south korean workers set to leave joint factory zone benedict comes home to new house and new pope suicide bomber kills 14 at russian train station cambodia opposition head turns to parliament in poll bid syrian opposition to name delegation for talks obama visits tornado hit oklahoma sinai car bomb kills at least 10 egyptian soldiers kerry: no deal yet in nuclear talks with iran indian building collapse death toll rises to 72 98 dead in central african republic after clashes bomb threat forces evacuation at princeton turkey unrest: unions call for strike over police crackdown moody\\'s upgrades greek credit rating sudanese police block protest at human rights commission russia delivers humanitarian aid to syrian refugees in lebanon 8 soldiers killed in bomb attack in nw pakistan south africa\\'s nelson mandela hospitalized pope francis commemorates dead migrants at lampedusa justice adly mansour sworn in as egypt interim president blast kills nine in southern afghanistan: officials obama to set out gun control plans us to destroy syria chemical weapon stockpile at sea pakistan pm for deeper economic ties with sri lanka three storey building collapses in ebute meta dozens killed in laos plane crash \\'war crime\\': u.n. finds sarin used in syria chemical weapons attack 6 killed in mexico ‘monster truck’ crash merkel wins big in germany election us sprinter tyson gay tests positive for banned substance pakistan to release senior taliban commander on saturday egypt court orders mubarak freed police converge on street in search for boston bomb suspect bollywood cuts costs as rupee crisis bites women drivers to face insurance premium rise china opposes us arms sales to taiwan singapore stocks end up 0.11 pct china premier li rejects \\'groundless\\' us hacking accusations dzhokhar tsarnaev charged in boston marathon bombing picture of the day  son of chinese army singers gets 10 years\\' jail for gang rape police seek gunmen in new orleans mother\\'s day parade shooting egypt\\'s interim president swears in new cabinet pope thanks public for joining his syria vigil east timor bans martial arts schools amid killings afghan president approves new electon law egypt\\'s morsi rules out talks as hostage video appears south africa holds state funeral for mandela report of two explosions at finish line of boston marathon quiz crossword - saturday 27th april costa concordia survivors detail experience one year later israeli minister slams kerry’s boycott warning angelina jolie and the complex truth about breast cancer  suu kyi urges party unity amid squabbles 10 things to know for today venezuelan president hugo chavez dies of cancer at 58 zambia\\'s ex-president rupiah banda arrested us senate confirms janet yellen as new central bank chief asian markets up on strong us jobs data indian policeman injured in gang-rape protest dies why cyprus bailout is nothing more than usual euro nonsense bianca ojukwu becomes apga national leader u.s. sees no conclusive evidence of chemical arms use by syria five killed in blasts in india egypt: muslim brotherhood deputy head arrested strong earthquake in western china kills at least 75 snowden thanks russia for granting asylum us senate confirms yellen as fed\\'s next chair french forces seize key town boston bomb suspect buried in virginia cemetery mom and baby among five killed as tornadoes rake oklahoma city area palestinian president wants israelis to talk peace malala leaves british hospital man and woman found dead in essex hotel swimming pool pakistan condemns us drone strike in miranshah residents return to fallujah south africa unites in prayer and song for nelson mandela ahmadinejad may face charges over election appearance portugal-china to strengthen scientific research ties singapore stocks close 0.5 pct higher new glories for china in striving for renewal apple stock plunges 11% after earnings disappointment eu lifts diamond sanctions against zimbabwe occupied palestinian territory: palestinians face a route to nowhere egypt seeks to lure investors ... us-russia reach agreement on syria weapons cambodian opposition rejects hun sen election win obama canceled meeting with putin kl shares mixed at mid-day us drone strike kills at least ten in pakistan egypt court turns down mubarak\\'s release request françois hollande threatens legal action over affair claims at least 47 iranian exiles killed at iraq\\'s camp ashraf pistorius cop on seven attempted murder charges israeli credibility on line over iran nuclear challenge \\'judge at polls directs voters on egypt constitution vote\\' former new mexico gov. richardson pressing north korean test ban helicopter crashes in london jakarta prays for metro to ease traffic chaos typhoon bopha kills 15 in s. philippines car bomb rocks hezbollah stronghold in lebanon s korea opposition candidate closes poll gap senate confirms janet yellen as next federal reserve chair pakistani taliban chief hakimullah mehsud killed in drone strike at least 47 killed in baquba blasts britain sees evidence assad could use chemical weapons algeria hostage death toll rises french set for mali ground combat testimony in trial of former fm liberman begins pakistan releases seven afghan taliban fighters new zealand legalizes same-sex marriage weatherman fred talbot held over \\'sex abuse\\' pakistan drone strike kills up to six india building collapse kills 14; dozens trapped syrian rebels claim responsibility for killings in lebanon syrian army pushes assault on rebel-held town israel releases 26 more palestinian prisoners more than 70 dead in clashes at morsi rallies in egypt thai protesters launch bangkok \\'shutdown\\' spanish train driver garzon to be questioned by judge france welcomes us-russia deal on syria british soldier shot dead in afghan ‘insider attack’ 61 dead in ivory coast stampede glasgow helicopter crash: at least six dead taliban denies involvement in boston marathon bombing swiss tourist gang-raped in india india issues red alert for cyclone phailin discipline against student thought to be key to motive many killed in syrian air strike india govt rejects proposal to shut petrol pumps at night tens of thousands line up to cast votes in bhutan afghan president extends visit to pakistan for taliban talks thieves steal channel swimmer\\'s wheelchair three killed in crash at tiananmen square singapore shares open higher on thursday obama to press congress to act on economy official says kenyan forces caused mall collapse islamist parties in egypt unite for elections bangladesh building collapse: death toll climbs to 580 algeria hostage crisis ends in bloodbath egypt: child killed in cairo clashes after pro-morsi protest south africa: mandela remains in hospital china yuan strengthens to new high against usd police arrest suspect in deadly la driving attack turkish riot police enter taksim square chicago shooting shows gap in stepped-up policing guatemala overturns former dictator\\'s genocide conviction north korea shoots 2 rockets prince charles \\'compares vladimir putin to adolf hitler\\' explosion near damascus military airport greek pm accuses coalition of hypocrisy egypt: police clash with pro-morsi protesters top diplomats discuss iran\\'s nuclear program snowden poised to fly out of moscow pakistan marks world press freedom day eu foreign ministers seek solution on syria arms death toll from philippines quake rises to 144 stocks to watch on monday u.s. drone kills 4 militants in pakistan police fire tear gas at protesters in cairo philippines recovering after powerful typhoon iran \\'cautiously optimistic\\' about future nuclear talks spanish flamenco guitarist paco de lucia dies at 66 chinese search plane finds \\'suspicious objects\\' snowden\\'s hits hurdles in search for asylum 4 killed in building collapse in southern india pakistan dismisses case against fbi agent pakistani prisoner assaulted in jammu jail thai junta security forces stay in barracks as protests dwindle spanish pm refuses to resign over corruption scandal 2 explosions rock city in northern lebanon pakistan wants arms supply to syrian sides stopped gunmen \\'kill 15\\' in second kenya attack us coast guard suspends search for missing british sailors iraqi car bomb near church kills at least 14 egyptian forces move to clear pro-morsi protest camps nobel laureate doris lessing dies at 94 zimbabwe‚äôs opposition mdc party challenges robert mugabe‚äôs election win boston police say 3 taken into custody in marathon bombing ukraine protesters topple lenin statue south africa\\'s rugby fraternity mourns mandela tech sell-off sends asian stock markets lower u.s. drone strike kills 5 in pakistan nypd\\'s twitter campaign backfires turkish search ends as last missing miners found tentative deal reached to resume israeli-palestinian talks - us baftas 2013: olivia colman picks up two awards titanic violin sells for $1.7 million ankeet chavan granted bail to get married japan airlines orders 31 airbus a350s valued at $9.5 bn sienna miller attacks press for ‚äėtitillating‚äô reports at hacking trial settlers beat up palestinian in jerusalem nigeria drops arms trafficking charges against russian sailors house set to vote on plan to reopen government cory monteith found dead: canadian ‚äėglee‚äô star was 31 iran presidential candidate says western sanctions should be broken veterans health probe confirms cover-up of care delays world\\'s oldest ever man dies aged 116 1 suspect arrested after lebanon car bombings kill 45 greek far-right leader imprisoned pending trial bangladesh factory owners arrested 3 egyptian soldiers killed in sinai car bombing china sends carrier to south china sea merkel: russian actions could lead to a catastrophe nelson mandela dies at age 95 belgium king albert ii \\'to abdicate\\' nazi chief buried in jewish cemetary swiss cast ballots on world\\'s highest minimum wage rudd sworn in as australia\\'s new prime minister easy rider actress karen black dies of cancer coronation street stars hail \\'amazing\\' new set red sox beat tigers 5-2 to advance to world series at least 89 dead in china earthquakes a new ipad is coming earthquake death toll rises to 260 david beckham retires from football roadside bomb \\'kills eight afghan soldiers\\' north korea\\'s kim seen behind sacking of powerful uncle tehelka editor steps down after allegations of sexual misconduct former british pm margaret thatcher dies at 87 thousands of morsi supporters gather in egypt un condemns ethnic killings in south sudan us to allow morning-after pill for girls of any age police fire tear gas at protesters china stock index futures close higher -- dec. 4 syrian soldiers killed in bomb attack israeli gunboats fire at palestinian fishermen ukraine protesters topple lenin statue in kiev iran says detects sabotage at nuclear facility china yuan strengthens to 6.168 against usd monday protests continue in ukraine despite concessions queen elizabeth ii visits barracks of uk soldier slain last week india says china agrees retreat to de facto border in faceoff deal police confirm how suspect was captured syrian army retakes historic crusader castle saudi arabia to grant lebanese army $3 billion red cross members kidnapped in syria syria: cameron and obama move west closer to intervention queen names giant aircraft carrier bangladesh prison van ambushed wreckage from airalgerie flight ah5017 found in mali arab league backs palestinian stance in peace talks ten killed in alaska plane crash 70 retailers agree to new bangladesh factory safety pact government shutdown begins over health care feud suicide blast kills 1 in afghan capital china launches first moon rover mission eu finance ministers‚äô talks b... australia cuts interest rate to record low 2.75% ten chinese vessels on standby for jet search classic crossword - saturday 20th april n. korea fires short-range missiles palestinian diplomat killed in explosion in prague south korea ferry captain arrested chinese president meets u.s. state secretary death toll from egypt violence rises to 638 china sends aid team to philippines france loses influence in europe nelson mandela dies aged 95 britain\\'s debt timebomb: nine million are in \\'serious debt\\' report of two explosions at finish line of boston marathon five killed by bomb blast in east india a new cold war? cuba\\'s \\'ladies\\' to pick up eu prize 8 years later two killed in arizona skydiving accident assad agrees to hand over chemical weapons at least 200 killed in bangladesh building collapse israel finds bodies of three missing teens in west bank world mourns passing of mandela singapore shares open lower on monday suicide bomber kills 13 iraqi army recruits in baghdad thousands evacuated after fire breaks out in moscow metro at least 5 killed in sectarian conflict in north yemen many killed in syrian air strike brazil\\'s congress approves internet legislation crimean parliament votes to join russia muslims in hiding as sectarian ... indian minister killed in head-on collision blackberry loses $965m in 2nd quarter reactions to the prospect of military action against syria russia preparing counterproposals over ukraine no agreement at iran nuclear talks us believes syrian government used chemical weapons pakistan\\'s opposition party boycotts presidential elections syria regime releases hundreds of prisoners israel says it carried out joint missile test with us in mediterranean ukraine opposition demands yanukovich resign bomb wounds 16 in eastern afghanistan investigators probe motives of los angeles airport shooter us senate confirms janet yellen as us federal reserve chief military holds upper hand in egypt five dead in canada train crash bin laden\\'s continuing sway shown in kenya mall attack russian court releases greenpeace ship doctor on bail russia evacuates embassy in libya after attack u.s. drone mistakenly kills 14 in yemen wedding convoy china manufacturing expands in september facebook to test mobile payments service un adopts syrian chemical weapons resolution death toll rises to 12 in indonesia mine collapse greek militant group claims responsibility for golden dawn killings crimean forces storm ukrainian navy headquarters sewol ferry disaster: body of south korean shipping tycoon found nelson mandela\\'s condition improves ukraine pressured over kiev clashes us surveillance aircraft join hunt for kidnapped nigerian girls prince george christened in london monty python to reunite on stage belgian prime minister sends condolences to victims manning wikileaks case turns to sentencing phase egypt holding key vote on constitution israel classifies jerusalem natives as noncitizens zimbabwe: \\'grave concerns\\' over election indian stocks open higher stars pay tribute to james garner vatican embassy in syria hit by mortar; no injuries north korea blocks access to key industrial zone western powers scramble to befriend modi hong kong set for huge democracy rally nine children die in attack in afghanistan attack five dead in indonesian eruption at least 66 killed in bomb blasts in iraq egypt issues long-waited presidential election law son of popular us evangelist warren kills himself train derailment kills 4 in new york russia says ballistic \\'objects\\' fired in mediterranean thai bonds best in region christie investigation heats up obama and o\\'brien cast their versions of d.c. white house correspondents\\' dinner boston bombing suspect charged in hospital bed asian markets slump on central bank stimulus fears jiroemon kimura: world\\'s oldest person dies aged 116 foreign exchange rates in singapore colorado wildfire may be biggest property destroyer in state history earthquake of 6 magnitude strikes thailand un chief: inspectors need 4 days to conclude probe in syria iran\\'s nuclear quest \\'has cost tehran over $100 billion\\' german factory orders rebound in january gunmen surround libyan foreign ministry to push demands egyptian death toll rises to 638 uganda\\'s president signs harsh anti-gay law russia has no intention to incorporate southeastern ukraine: fm wikileaks soldier bradley manning acquitted of aiding the enemy ukraine fears russian invasion rock bands\\' plane makes emergency landing in ill. russia warns against setting preconditions for syria u.s. judge approves force-feeding californian inmates on hunger strik sixteen killed in venezuela prison tropical storm karen poised to make landfall bangladeshi islamists rally to demand action against atheist bloggers malaysia airlines plane crashes on ukraine-russia border suicide bomber kills at least 4 in kabul weiner falls to fourth in new nyc mayoral poll sudan frees christian woman sentenced to death for apostasy us secretary of state john kerry‚äôs wife rushed to hospital kerry meets israeli leaders to push mideast peace north korea offers talks: complex may re-open egypt court orders mubarak release one week later: boston honors bombing victims; suspect unable to speak us tourist gang-raped in northern india: police un security council slams deadly terrorist attack in kenyan capital cyprus probes ukraine assets nkorea executes kim jong un\\' uncle merkel to attend world cup final mandela remains in \\'intensive care\\' sewol ferry crew faces trial egyptians voting on new constitution u.s. drone kills 4 militants in pakistan china expands search area for missing plane curiosity rover celebrates 1 year on mars powerful 6.9 quake strikes off california coast india ink: image of the day: january 16 australian pm gillard ousted in leadership vote parents demands common forms for nursery admissions google redesigns search results on pcs explosion hits hezbollah area south of beirut north and south korea break their silence with talks hezbollah urges to elect new lebanese president algerian president in france for medical tests after minor stroke death toll rises as kenya mall siege continues manchester city win english premier league title mh17 dead flown back to netherlands egyptian soldiers killed in sinai attack oil slips below $108 ahead of iran nuclear talks 38 feared dead in russian psychiatric hospital fire un closes in on landmark arms treaty obama\\'s day: prime time on syria north korea cuts last ties with south by barring joint industrial park china stocks close lower on thursday court orders political ban on italy‚äôs berlusconi who: new virus can probably pass person to person nelson mandela returns to hospital in ‚äėserious but stable‚äô condition mexico storm death toll continues to rise british prime minister condemns murder of teens taliban bombs us base in afghanistan tottenham v manchester city ‚äď live!  tropical storm karen weakens as it nears u.s. gulf coast 76 killed in bangladesh building collapse n. korea fires short-range missiles bomb kills three in northwest pakistan malaysia airlines plane vanishes on flight to beijing malaysia elections: malaysians vote with power at stake for first time fire destroys tibetan town in china yahoo to buy tumblr for $1.1 billion india voters kick off world‚äôs biggest election syrian airstrikes kill at least 18 in aleppo death toll in philippines quake jumps to 85 search narrowed for missing man uganda\\'s president museveni agrees to sign anti-gays bill champions trophy: india v south africalive supreme court to hear michigan affirmative action case headlines in major iranian newspapers on nov 21 cyclone phailin evacuation kept indian villagers alive us drone kills two in eastern afghanistan thousands gather to support islamist government in tunisia nelson mandela taken to hospital two explosions at boston marathon finish line at least 18 killed in north caucasus train station blast winter storm janus: state-by-state... iraqi officials: 50 bodies found south of baghdad bombs kill 35 in baghdad christian area china bo xilai trial in fourth day muslims pray for end to divisions thousands of white-clad amsterdammers march for mh17 suspected us drone targets islamic seminary in pakistan obama visits tornado hit oklahoma ge posts 9% profit drop for third quarter china yuan strengthens to new high against usd russia convicts dead lawyer magnitsky in posthumous trial trayvon martin could have been ... china ships enter waters off disputed islands explosion in kabul a suicide attack in diplomatic area embassies staying put in n. korea despite tension obama to meet with mandela family at least 20 dead in somalia attacks five killed in philippines volcano eruption israel shoots down drone from lebanon syrian opposition confirms participation in peace talks violent clashes mark anniversary of egypt uprising roadside bomb kills 3 policemen in southern afghanistan cctv: york conmen dress as women to trick pensioners cleveland kidnapper ariel castro found hanging in his cell google unveils concept self-driving car bangladesh garment factory collapse kills 149 hagel seeks to reassure jittery gulf allies after iran deal pope hits out at ‚äėwar to sell arms‚äô in syria pakistan\\'s musharraf arrives at court for first time syria\\'s muslim brotherhood faces uphill battle india‚äôs march to mars israel\\'s west bank control \\'costing palestinian economy billions\\' washington pot shops prepare for historic sales rio de janeiro airport workers strike on eve of world cup egypt arrests muslim brotherhood leader badie hot air balloon \\'catches fire and crashes\\' indonesians vote for president in tight race kl shares continue uptrend mid-afternoon amazon unveils new fire tv streaming video box palestinian arrested for sexually harassing young girls obama to meet embattled veterans secretary china yuan strengthens to 6.1070 against usd friday us praises ukraine deal; calls for concrete action s. korea demands talks with n. korea on closed factory telstra applies to list china site in ny headlines in major iranian newspapers on august 18 belgian king to address nation amid abdication speculation hijacked aircraft lands in geneva waqar younis back as pakistan coach saudi urges u.n. action against israel strikes on syria peru protesters clash with police indian guru arrested on suspicion of rape ukraine\\'s top court dismisses crimea\\'s independence as \"unconstitutional\" cabinet at war over arming syrian rebels hong kong stocks close 2.33% higher indian rape accused found guilty iran nuclear deal sealed after decades-long dispute labor ministry announcement due on monday snowden sees \"no chance\" to get fair trial in u.s. headlines in major iranian newspapers on july 6 indian minister killed in head-on collision queen meets britain\\'s new baby prince ukraine president calls talks to end protests n.c. state fair ride operator arrested after accident transcript reveals confusion over ferry evacuation wall street ends slightly lower russia: syria agrees to participate in conference britain rejects syria military action new zealand votes to legalise same-sex marriage singapore stocks close 0.41 pct higher senegalese president to visit china missing malaysia airlines plane \\'crashes off vietnam\\' malaysia airlines investigating co-pilot on missing flight stars pay tribute to james garner los angeles airport worker charged over 9/11 threats ronaldo hat-trick fires portugal to world cup uk\\'s prince philip hospitalized passengers dead in italy bus plunge powerful new earthquake hits shattered pakistan region syrian opposition offers assad\\'s forces truce for duration of ramadan at least 60 die in iraq prison attack u.n. security council calls for unconditional cease-fire in gaza chinese shares close lower on wednesday car bombings kill 13 civilians in iraqi capital ukraine protesters topple lenin statue in kiev \\'no plans\\' to resettle syrian refugees in the uk gonsalves keeps up pressure on dom rep china yuan weakens to 6.1510 against usd us: israel to delay palestinian prisoner release morsi supporters march in egypt turkish pm tells supporters to prepare for rallies bodies of missing israeli teens found in west bank griff rhys jones: mel smith was \\'a force for life\\' chinese stocks close lower thursday india ink: image of the day: march 4 russian foreign minister to meet un chief sudanese protesters demand the regime\\'s ouster iraq army claims victory in tikrit democrats face divide over a strike on syria s korea bus station fire kills seven egypt: protesters storm muslim brotherhood\\'s hq tokyo stocks open up 0.52% australia: australia hands asylum-seekers back to sri lanka crocodile victim\\'s body recovered ten killed in new blast in russia \\'glee\\' star cory monteith found dead tokyo stocks close 0.75pc down iran\\'s khamenei renews support for nuclear talks hse boss defends medical-card plan italy‚äôs centre-left splinters in presidential vote israeli troops kill palestinian in west bank raid death toll from egypt violence rises to 638 syria opposition pressed to attend talks gm to start taking recall compensation claims aug 1 syria rebels: we killed hezbollah men in lebanon ally of georgia\\'s billionaire pm to be president -exit polls eu puts hezbollah military wing on terror list syria welcomes iran\\'s nuclear deal gunmen kill nine tourists in pakistan 46 indian nurses stranded in iraq return home california governor declares drought emergency as wildfires continue to burn 3yo palestinian girl killed in israeli raid 11 children killed in syria bombings ukraine will not give \\'an inch\\' over crimea china returns 10 children abducted from vietnam u.s. has not concluded syria used chemical weapons -white house kerry vows progress after latest intensive mideast trip gunmen kill 3 lebanese troops near syria timelapse of costa concordia operation iran nuclear talks enter crucial third day protests sweep brazil despite concession australian pm rudd calls sept. 7 poll uk: iran nuclear talks at a serious point bangladesh: crackdown escalates ahead of election obama in ‚äėdirect‚äô confrontation with putin on ukraine dc votes to decriminalize pot mandela spends third day in hospital north korean intrigue: the execution of power margaret thatcher dies at 87 israel to release palestinian prisoners as part of deal to revive peace talks sky news cameraman killed in egypt stocks inch higher in early trading jury selection begins in zimmerman\\'s trial iran nuclear talks extended to november 24 boston bombing suspect buried toll from india building collapse hits 25 us stocks retreat on manufacturing data five people charged with terror offences us government shutdown: obama tells republicans to lift threat to us economy if they want talks ftse bursa malaysia update: 3.00pm glasgow helicopter crash: woman pc is victim quotations of the day mandela leaves hospital after 10 days remains in winchester could be king alfred the great israel releases 26 palestinian prisoners two skydivers dead after colliding during jump in arizona \\'iron man\\' jetpacks spark concerns israel releases 26 palestinian prisoners france urges eu to be united on syria china\\'s anger at north korea overcomes worry over u.s. stealth flights china yuan weakens to 6.1705 against usd keita wins mali presidential election indian troops kill militant commander in indian-controlled kashmir car bomb kills 40 in northwest pakistan iran urges rapid release of diplomat texas house provisionally approves abortion law n korea \\'fires 100 shells\\' into the sea woman dies in co cork house fire nominations open for e.tv ghana most influential awards india ink: image of the day: may 2 france confirms two french journalists killed in mali gunmen attack hotel in remote pakistani province israel and hamas \\'accept temporary truce\\' china\\'s online population rises to 618 mln angry families demand answers after china plant fire kills 119 iran rejects mko claim on nuclear site minister\\'s wife\\'s death \\'unnatural\\' \\'ready to go home:\\' last boston bombing victim leaves the hospital 02:41 156 killed in china earthquake afghan president delays signing us deal syrian civil war peace talks at risk from iran invitation explosions heard near afghan presidential palace pakistans imran blames rival for killing party member retailers back bangladesh factory safety pact japan defends dolphin hunts after criticism from us chavez heir maduro wins venezuela\\'s presidency suicide attack kills at least 12 in northern iraq top chinese political advisor meets yemeni president palestinian ambassador injured in apartment blast ukraine leader pledges crisis talks 16 killed in series of attacks in iraq nato ups military presence amid russian threat us suspects syria used chemical weapons egyptian court sentences muslim brotherhood leader to life in prison astrazeneca to buy bristol out of diabetes venture for up to $4.1 billion australian icebreaker arrives in east antarctica for new rescue bid israel launches ground offensive in gaza mediator apologizes to syrians for lack of peace progress ukraine protesters battle police in new clashes 7 things to know about ethanol china\\'s stocks close lower on monday william hague: us decision to halt missile test \\'sensible\\' fire in beijing kills ten venezuela expels 3 u.s. diplomats russia says ballistic \\'objects\\' fired in mediterranean seven kidnappers killed in southern nigeria clash of styles in court opens trial in young man‚äôs death stolen skulls found in home museum egypt launches offensive against sinai insurgents detroit eligible for bankruptcy protection nobel prize winning author doris lessing dies israel approves new settlement homes ahead of peace talks funeral for pakistan taliban chief \\'set to take place\\' 09:32 putin signs off crimea annexation faa lifts ban on u.s. flights to tel aviv police target illegal tobacco syndicate probe alleged use of chemical weapons in syria old tv alignments crack at the edges un: iran invited to attend syrian peace conference starbucks clears college degree path for workers police: utah soccer referee punched by player dies malawi\\'s new president sworn in after disputed elections israel criticizes palestinian stance on settlers bomb kills 18 civilians in afghanistan typhoon haiyan: world sends relief to battered philippines syria\\'s assad vows to comply with u.n. resolution s. korean president \\'sorry\\' for ferry disaster american chris horner wins tour of spain obama mulls limited military action in syria spain princess testifies in historic fraud probe senate approves obama nominee to key appeals court un rights chief presses egypt on morsi detention senate confirms janet yellen as next federal reserve chair syrian rebel groups battle each other in north mayawati demands presidents rule in jammu and kashmir uganda\\'s president signs harsh anti-gay law boston bomb suspect buried in virginia cemetery 6 killed in philippines restaurant blast china army newspaper slams us\\'s prism program silvio berlusconi expelled from parliament two killed in bahrain car blast russia warns it will \\'respond\\' if interests in ukraine attacked mubarak retrial adjourned to june egypt protesters defy cabinet threat couple get married in britain\\'s first scientology wedding qatari emir hands power to son tamim egypt braces for friday of anger after bloody crackdown red sox beat tigers to reach world series china lands robot rover on moon ukraine\\'s parliament votes to dismiss president venezuela lawmakers brawl over election captain of capsized s korean ferry arrested iran nuclear talks enter crucial third day woman dies riding roller coaster at texas amusement park nobel prize winning author doris lessing dies at least 100 dead as typhoon batters philippines india\\'s first post office savings bank atm inaugurated in chennai israel agrees to 24-hour gaza truce earthquake of 6.9 magnitude strikes off indonesia island british stuntman dies in wingsuit mishap in alps what makes india vote? debate at jaipur literature festival white diamond fetches record $34m at hk auction malaysia: chinese satellite found object in ocean hamas calls on hezbollah to pull forces out of syria stocks edge lower after earnings from retailers police helicopter crashes on top of bar in glasgow australian pm confident sounds are from flight 370 mandela\\'s condition has \\'worsened over past 48 hours\\' philippe ascends throne of divided belgium india\\'s anti-graft party forms government in delhi spanish government approves tight restrictions on abortion un urges syria gas attack inspection shots fired at german ambassador\\'s residence in athens ukraine\\'s opposition chief wants more protests okla. inmate dies of heart attack after botched execution italian president napolitano elected for second term un war crimes court convicts six bosnians croats saudi man traveling with pressure cooker arrested north korea says detained american tourist to face trial thai protesters call general strike egypt announces one-month state of emergency nationwide sony to axe pc unit in major business overhaul police: gunman killed 6 in california shootings north korea deports detained us war veteran searchers hoping pings come from lost malaysian airliner ukraine rivals sign deal to end crisis jordan elected to un security council seat that saudi arabia rejected more than 60 killed at iraq funeral peaceful anti-g8 protest held in belfast george zimmerman verdict propels cable news into talkradio mode mandela in hospital for 3rd day egypt: protesters storm muslim brotherhood\\'s hq saudi women drive in protest with little problem president obama warns russia to stay out of ukraine nelson mandela goes home after hospital stay fed expected to maintain stimulus the impact of sanctions on russia worker dies at world cup stadium how does world\\'s cheapest car do in crash test? murray wins wimbledon title ends britains 77year agony us: russia massing troops on ukraine border what we know so far about chemical weapons in syria\\'s civil war new major earthquake rocks southwest pakistan kremlin: putin yet to decide on using russian troops in ukraine north korean leader sends \\'special envoy\\' to china turkish pm erdogan says \"duty\" to order crackdown on istanbul park protest pope urges action on climate change in draft encyclical singapore shares open 0.19% higher on thursday who was \\'jihadi john?\\' headlines in several iranian newspapers on oct 19 us attorney general eric holder to resign top asian news 1:25 p.m. gmt how the dow jones industrial average fared on monday us house republicans eye reluctant ryan for speaker top asian news 8:39 a.m. gmt singapore shares open 0.06% lower on tuesday china treasury bond futures close mixed wednesday attorney general eric holder to resign headlines in several iranian newspapers on oct 19 china issues yellow alert for typhoon kalmaegi saudi airstrikes in yemen\\'s capital kill 29 militants attack un as mali hunts jihadist nightclub killers 6.6-magnitude earthquake strikes off indonesia tokyo shares open higher tracing u.s. gains iran hardliners attack nuclear deal hawaii bracing as first hurricane in 22 years approaches iraq suicide bomber kills at least 12 sierra leone reaches final day of ebola lockdown tokyo shares open higher following strong u.s. performance lewis hamilton wins inaugural russian gp un security council urges yemen\\'s houthis to end... markets live: china drags suspected boko haram attacks kill dozens in nigeria uk \\'concern\\' over hong kong protests russian roulette in syria 19 killed in tunis museum attack live blog: iraq in turmoil guineans go to the polls in presidential elections prince william of britain arrives in beijing vice president of bolivia to visit china islamic state posts second propaganda video of uk hostage texas hospital worker tests positive for ebola turkey \\'exploits\\' syrian refugees china disagrees with u.s. sanctions program on overseas cyber attackers greece concerns drag on asia markets west ham beats newcastle 2-0 in premier league israeli leader urges calm in jerusalem mixed progress reported in fight against islamic state egypt sentences al jazeera journalists to jail occupied palestinian territory: israel warns on security as gaza truce talks resume chinese military reaches out amid south china sea tensions montenegrin police fire teargas to disperse opposition ashya king\\'s parents freed from jail in spain us ramps up response to ebola crisis thousands of russians stranded abroad harry kane leaves it late to rescue a point for tottenham hotspur \\'bookkeeper of auschwitz\\' sentenced to four years in prison pro-palestinian activists prepare flotilla to break gaza blockade menendez faces possible corruption charges heat flash detected at time of russian airliner crash cameron to hold talks with sturgeon on uk future us senator ted cruz to announce presidential bid epl clubs out to avoid champions league woes iran arrests several spies near nuclear plant press awash with nigeria\\\\\\'s general elections tour de france pack sets off for stage 15 spanish bulls gore seven to death china keeps an eye on visiting tiger freed by russian president belarus tightens security along the border with ukraine south korean woman in contact with mers patient dies obama vows to save iraqis stranded on mountain n korea hit with new us sanctions hong kong student leaders mull protest retreat uk says investigating 2 suspected mers cases why cyprus backs cameron\\'s push for uk air strikes in syria johor crowns its fifth sultan poland president loses to challenger palestinian official slams israel\\'s stone-throwing bill university of florida frat accused of spitting on wounded war veterans pm narendra modi speaks of non-discrimination and equality un chief condemns attack against peacekeepers in mali pakistan protests ceasefire violations by india permalink to two killed in germany train accident pilot killed as us jet crashes in england merkel pledges nato solidarity with latvia egyptian boat crash death toll rises as more bodies found in nile president xi: china to continue help to fight ebola the latest on severe weather: 1 dead in texas after tornado'"
            ]
          },
          "metadata": {
            "tags": []
          },
          "execution_count": 94
        }
      ]
    },
    {
      "cell_type": "markdown",
      "metadata": {
        "id": "hojNai7Fgqxm"
      },
      "source": [
        "##Tokenization"
      ]
    },
    {
      "cell_type": "code",
      "metadata": {
        "colab": {
          "base_uri": "https://localhost:8080/"
        },
        "id": "zkT3ESKCgEeT",
        "outputId": "99d0d7cb-77ff-406d-b047-19df9ce72cb5"
      },
      "source": [
        "tokens_TF_idf=nltk.wordpunct_tokenize(d_string)\n",
        "print(len(tokens_TF_idf))"
      ],
      "execution_count": null,
      "outputs": [
        {
          "output_type": "stream",
          "text": [
            "75441\n"
          ],
          "name": "stdout"
        }
      ]
    },
    {
      "cell_type": "markdown",
      "metadata": {
        "id": "pRy5Q9ZCg1va"
      },
      "source": [
        "##Preprocessing"
      ]
    },
    {
      "cell_type": "code",
      "metadata": {
        "id": "n9TC77EsguNn"
      },
      "source": [
        "def preprocess(text):\n",
        "      updated = re.sub('<[^<]+?>', '', text) # html tags\n",
        "      updated = re.sub(r'\\W', ' ', str(text)) # Remove all the special characters\n",
        "      updated = re.sub(r'\\s+[a-zA-Z]\\s+', ' ', text) # remove all single characters\n",
        "      updated = re.sub(r'\\^[a-zA-Z]\\s+', ' ', text) # Remove single characters from the start\n",
        "      updated = re.sub(r'\\s+', ' ', text, flags=re.I) # substituting multiple spaces with single space\n",
        "      updated = re.sub(r'^b\\s+', '', text) # removing prefixed b \n",
        "      table = str.maketrans({key: None for key in string.punctuation})\n",
        "      updated = text.translate(table)\n",
        "      return updated"
      ],
      "execution_count": null,
      "outputs": []
    },
    {
      "cell_type": "code",
      "metadata": {
        "colab": {
          "base_uri": "https://localhost:8080/"
        },
        "id": "q_1NP0Jzg6BI",
        "outputId": "21173ea2-1b00-403b-fb80-ba0748bfd678"
      },
      "source": [
        "import re\n",
        "\n",
        "d_string = [preprocess(sent) for sent in df]\n",
        "d_string"
      ],
      "execution_count": null,
      "outputs": [
        {
          "output_type": "execute_result",
          "data": {
            "text/plain": [
              "['a plane is taking off',\n",
              " 'a man is playing a large flute',\n",
              " 'a man is spreading shreded cheese on a pizza',\n",
              " 'three men are playing chess',\n",
              " 'a man is playing the cello',\n",
              " 'some men are fighting',\n",
              " 'a man is smoking',\n",
              " 'the man is playing the piano',\n",
              " 'a man is playing on a guitar and singing',\n",
              " 'a person is throwing a cat on to the ceiling',\n",
              " 'the man hit the other man with a stick',\n",
              " 'a woman picks up and holds a baby kangaroo',\n",
              " 'a man is playing a flute',\n",
              " 'a person is folding a piece of paper',\n",
              " 'a man is running on the road',\n",
              " 'a dog is trying to get bacon off his back',\n",
              " 'the polar bear is sliding on the snow',\n",
              " 'a woman is writing',\n",
              " 'a cat is rubbing against babys face',\n",
              " 'the man is riding a horse',\n",
              " 'a man pours oil into a pot',\n",
              " 'a man is playing a guitar',\n",
              " 'a panda is sliding down a slide',\n",
              " 'a woman is eating something',\n",
              " 'a woman peels a potato',\n",
              " 'the boy fell off his bike',\n",
              " 'the woman is playing the flute',\n",
              " 'a rabbit is running from an eagle',\n",
              " 'the woman is frying a breaded pork chop',\n",
              " 'a girl is flying a kite',\n",
              " 'a man is riding a mechanical bull',\n",
              " 'the man is playing the guitar',\n",
              " 'a woman is dancing and singing with other women',\n",
              " 'a man is slicing a bun',\n",
              " 'a man is pouring oil into a pan',\n",
              " 'a lion is playing with people',\n",
              " 'a dog rides a skateboard',\n",
              " 'someone is carving a statue',\n",
              " 'a woman is slicing an onion',\n",
              " 'a woman peels shrimp',\n",
              " 'a woman is frying fish',\n",
              " 'a woman is playing an electric guitar',\n",
              " 'a baby tiger is playing with a ball',\n",
              " 'a person is slicing a tomato',\n",
              " 'a person cuts an onion',\n",
              " 'a man is playing the piano',\n",
              " 'a woman is playing the flute',\n",
              " 'a man is cutting up a potato',\n",
              " 'a kid is playing guitar',\n",
              " 'a boy is playing guitar',\n",
              " 'a man is playing guitar',\n",
              " 'a little boy is playing a keyboard',\n",
              " 'a man is playing a guitar',\n",
              " 'a dog licks a baby',\n",
              " 'a woman is slicing an onion',\n",
              " 'a man is playing the guitar',\n",
              " 'a woman is slicing a pepper',\n",
              " 'a man is playing the drums',\n",
              " 'a woman rides a horse',\n",
              " 'a man is eating a banana by a tree',\n",
              " 'a cat is playing a key board',\n",
              " 'a man chops down a tree with an axe',\n",
              " 'a kid plays with a toy phone',\n",
              " 'a man is riding a motorcycle',\n",
              " 'a man is riding a motorcycle',\n",
              " 'a squirrel is spinning around in circles',\n",
              " 'a man and a woman are kissing',\n",
              " 'a man is getting into a car',\n",
              " 'a man is dancing',\n",
              " 'a man is playing the guitar and singing',\n",
              " 'a person is cutting mushrooms',\n",
              " 'a tiger cub is making a sound',\n",
              " 'a person is slicing onions',\n",
              " 'a man is playing the piano',\n",
              " 'a woman is peeling a potato',\n",
              " 'a pankda is eating bamboo',\n",
              " 'a person is peeling an onion',\n",
              " 'a monkey pushes another monkey',\n",
              " 'a squirrel runs around in circles',\n",
              " 'a man is tying his shoe',\n",
              " 'a boy is singing and playing the piano',\n",
              " 'a dog is eating water melon',\n",
              " 'a woman is chopping broccoli',\n",
              " 'a man is peeling a potato',\n",
              " 'a woman is playing a guitar',\n",
              " 'a woman is slicing tomato',\n",
              " 'a man swims underwater',\n",
              " 'a man and woman are talking',\n",
              " 'a small dog is chasing a yoga ball',\n",
              " 'the men are playing cricket',\n",
              " 'a man rides off on a motorcycle',\n",
              " 'a man is playing a guitar',\n",
              " 'the man talked on the telephone',\n",
              " 'a man is fishing',\n",
              " 'a man is levitating',\n",
              " 'two boys are driving',\n",
              " 'a man is riding on a horse',\n",
              " 'a man is riding a bicycle',\n",
              " 'a man is slicing potatoes',\n",
              " 'a woman is peeling a potato',\n",
              " 'a man is playing a guitar',\n",
              " 'a woman is slicing a leek',\n",
              " 'the man cut a paper plate',\n",
              " 'the man is playing the guitar',\n",
              " 'a man is playing the piano',\n",
              " 'a woman is slicing up some meat',\n",
              " 'a man is playing on his keyboard',\n",
              " 'the lady chopped up the green onions',\n",
              " 'someone is sitring noodles in water',\n",
              " 'lionel richie is dancing on the ceiling',\n",
              " 'a man is playing a piano',\n",
              " 'a woman is playing flute',\n",
              " 'a boy is checking a calender',\n",
              " 'a woman is cutting an onion',\n",
              " 'a man is playing guitar',\n",
              " 'a woman is using a sewing machine',\n",
              " 'a woman is flipping pancakes',\n",
              " 'a man is running on the road',\n",
              " 'a man is riding on a horse',\n",
              " 'a man is riding a bike',\n",
              " 'a woman is dancing',\n",
              " 'a man is playing a piano',\n",
              " 'a man is playing a flute',\n",
              " 'a man is spinning',\n",
              " 'a monkey is swinging from limb to limb',\n",
              " 'the people got off the train',\n",
              " 'a dog is jumping on a trampoline',\n",
              " 'a boy is playing an instrument',\n",
              " 'a woman plays the guitar',\n",
              " 'a woman is picking a can',\n",
              " 'a man is climbing a rope',\n",
              " 'a man is lifting a car',\n",
              " 'a man and woman are driving down the street in a jeep',\n",
              " 'the shirtless man sat in a chair',\n",
              " 'two women are wrestling',\n",
              " 'the puppy played with a blue tennis ball',\n",
              " 'a kangroo is eating something',\n",
              " 'a cat is playing a piano',\n",
              " 'the man cut some carpet with a knife',\n",
              " 'a woman is riding a motorized scooter down a road',\n",
              " 'someone is slicing a vegetable',\n",
              " 'a woman is dancing',\n",
              " 'a dog licks up a babys drool',\n",
              " 'a man is rowing a boat',\n",
              " 'a man cuts up potatos',\n",
              " 'a woman is chopping up garlic',\n",
              " 'an animal run in circles',\n",
              " 'a man is walking slowly across a rope bridge',\n",
              " 'a man is playing the guitar',\n",
              " 'a man plays the flute',\n",
              " 'a woman cracks two eggs into a glass bowl',\n",
              " 'a man is cutting a fish',\n",
              " 'two men are packing suitcases into the trunk of a car',\n",
              " 'a man pours oil on some tomatos',\n",
              " 'a man is slicing something',\n",
              " 'a man is paddling a canoe',\n",
              " 'a man and woman are walking together through the woods',\n",
              " 'the woman picked up the kangaroo',\n",
              " 'fish are swimming',\n",
              " 'two women mix something in a food processor',\n",
              " 'a person is surfing a large wave',\n",
              " 'a man is playing a guitar',\n",
              " 'a man is playing a flute in a band',\n",
              " 'the man spread butter on the loaf of bread',\n",
              " 'a person is boiling noodles',\n",
              " 'a group of people dance on a hill',\n",
              " 'a man is dancing outside',\n",
              " 'a woman is feeding a man',\n",
              " 'a man is putting a pan into an oven',\n",
              " 'a woman is sitting at a desk',\n",
              " 'medics transport a patient on a stretcher',\n",
              " 'a woman is playing a flute on stage',\n",
              " 'two baby pandas are playing',\n",
              " 'a baby is laughing',\n",
              " 'a man is playing a guitar',\n",
              " 'a man is folding paper',\n",
              " 'three women are dancing',\n",
              " 'the cats are playing with each other',\n",
              " 'a person is writing',\n",
              " 'a man is running',\n",
              " 'the woman is rolling dough',\n",
              " 'a woman is adding spices on a meat',\n",
              " 'a woman is adding oil on fishes',\n",
              " 'a young boy is holding a guitar',\n",
              " 'a cheetah is running',\n",
              " 'the man is eating pizza',\n",
              " 'an orangutan is riding a bus',\n",
              " 'a man and a woman talk in a diner',\n",
              " 'a man is playing a guitar',\n",
              " 'a girl is singing and playing a guitar',\n",
              " 'a girl is communicating with sign language',\n",
              " 'a woman is doing weight exercises',\n",
              " 'a man is getting inside a car',\n",
              " 'a big green ball knocks a potato over',\n",
              " 'a cat is playing keyboards',\n",
              " 'two dogs swim in a pool',\n",
              " 'the man used a chopper to chop the onion',\n",
              " 'a woman slices tofu',\n",
              " 'a herd of deer are crossing the street',\n",
              " 'the person is riding the horse',\n",
              " 'someone is feeding a animal',\n",
              " 'someone is slicing tortilas',\n",
              " 'someone is mixing ingrediants',\n",
              " 'a rooster pecks at a dead mouse',\n",
              " 'a woman holds a kangaroo',\n",
              " 'a man is playing with frogs',\n",
              " 'two men are talking',\n",
              " 'a man spreads butter on a big piece of bread',\n",
              " 'a man is running across a high wire',\n",
              " 'a man is mowing a lawn',\n",
              " 'a man is opening a door',\n",
              " 'a man is slicing a potato into pieces',\n",
              " 'the woman is cutting cooked octopus',\n",
              " 'a man is punching through boards',\n",
              " 'a man is dancing',\n",
              " 'someone is playing a piano',\n",
              " 'two foxes are eating from a plate on a brick patio',\n",
              " 'a boy is playing a keyboard',\n",
              " 'a person plays a keyboard',\n",
              " 'a man is shooting a gun',\n",
              " 'someone is slicing an onion',\n",
              " 'a man is swimming',\n",
              " 'a man is playing the guitar',\n",
              " 'a woman is slicing a pumpkin',\n",
              " 'a woman is dancing',\n",
              " 'a woman is cracking eggs into a bowl',\n",
              " 'a car is moving through a road',\n",
              " 'someone is greasing a pan',\n",
              " 'a man is playing guitar',\n",
              " 'a woman is drinking vodka',\n",
              " 'a woman is cutting meat into pieces',\n",
              " 'a man is rinsing a steak',\n",
              " 'a man is selling items',\n",
              " 'a man is jumping a wall',\n",
              " 'runners race around a track',\n",
              " 'a man is kicking a soccer ball',\n",
              " 'a woman is frying something',\n",
              " 'a cat is licking a sucker',\n",
              " 'a woman is dancing by a fire',\n",
              " 'the man is slicing a fish open',\n",
              " 'butter is melting in a pan',\n",
              " 'three boys are dancing',\n",
              " 'a woman is playing a game with a man',\n",
              " 'the man is driving a white car',\n",
              " 'a man drove his car',\n",
              " 'a car backs out of a space',\n",
              " 'a man puts some cheese on a pizza',\n",
              " 'the boy is playing the piano',\n",
              " 'the man played his guitar',\n",
              " 'a man is riding a horse',\n",
              " 'a man is walking on a rope',\n",
              " 'a girl is playing a flute',\n",
              " 'people step off a train',\n",
              " 'a woman is sewing on a machine',\n",
              " 'a dog is looking into swimming pool',\n",
              " 'a man is buttering a piece of bread',\n",
              " 'a man is cutting tomatoes into pieces',\n",
              " 'three teenage girls danced in the room',\n",
              " 'a lion is walking',\n",
              " 'a man shooting a car',\n",
              " 'a black horse is running around',\n",
              " 'a woman is deveining shrimp',\n",
              " 'a man is riding a horse',\n",
              " 'a man walks down a path',\n",
              " 'a man is slicing a potato',\n",
              " 'a dog is barking at a ball',\n",
              " 'a kid runs away from a fish swinging around on a fishing pole',\n",
              " 'a man is walking along a path through wilderness',\n",
              " 'an elderly man is speaking at a podium',\n",
              " 'a man riding a horse in slow motion',\n",
              " 'a person is cutting some burrata cheese',\n",
              " 'the man is shooting an automatic rifle',\n",
              " 'a man is crushing garlic with the back of a knife',\n",
              " 'a woman is filing her fingernails with an emery board',\n",
              " 'a man is riding a skateboard',\n",
              " 'a woman is taking a shower',\n",
              " 'a  man is dancing',\n",
              " 'a man is rowing a boat',\n",
              " 'a man is swinging from a rope attached to the ceiling',\n",
              " 'a woman is riding a horse on a beach',\n",
              " 'a man holds a small animal in one hand',\n",
              " 'a person is folding a square paper piece',\n",
              " 'a person is frying meat in a pan',\n",
              " 'a chimpanzee is hurting a woman',\n",
              " 'the woman is peeling shrimp',\n",
              " 'two zebras are playing',\n",
              " 'a woman is slicing butter',\n",
              " 'some men are playing guitars',\n",
              " 'the elephants sprayed water on themselves',\n",
              " 'a dog sat at the counter of a store',\n",
              " 'someone drills a hole in a strip of wood with a power drill',\n",
              " 'a woman is slicing some vegetables',\n",
              " 'a badger is burrowing a hole',\n",
              " 'a woman is water skiing on a lake',\n",
              " 'a girl is playing a violin',\n",
              " 'a helicopter is landing on a helipad',\n",
              " 'a woman is cutting up a chicken',\n",
              " 'a woman is cutting a cucumber',\n",
              " 'a woman rides an elephant in front of an adoring crowd',\n",
              " 'a puppy is sliding backwards along the floor',\n",
              " 'a woman splits garlic cloves',\n",
              " 'a dog is looking into swimming pool',\n",
              " 'a woman mixes a beauty treatment in a glass',\n",
              " 'a man is drawing a picture',\n",
              " 'a woman is picking tomatoes',\n",
              " 'a man is looking at a computer monitor',\n",
              " 'the boy is riding a tricycle',\n",
              " 'two men compete in a tire rolling race',\n",
              " 'a person is cutting a meat',\n",
              " 'a man is playing a violin',\n",
              " 'the baby crawled through the doorway',\n",
              " 'a man is playing keyboard',\n",
              " 'a man is smelling two pizzas',\n",
              " 'a monkey pulls the tail of a dog',\n",
              " 'a dog lies on his back on a wooden floor',\n",
              " 'a woman is frying something in the pan',\n",
              " 'a man puts seasoning in a bowl of water',\n",
              " 'an elderly woman is pouring oil into a frying pan',\n",
              " 'a woman is chopping an onion',\n",
              " 'the woman picked up the kangaroo',\n",
              " 'a dog biting on a can',\n",
              " 'a woman is deboning a fish',\n",
              " 'a man is mowing grass',\n",
              " 'a cat is watching a tv',\n",
              " 'the boy is stuck in the door of the doghouse',\n",
              " 'people flip into a swimming pool',\n",
              " 'a woman swims underwater',\n",
              " 'a man is playing a guitar',\n",
              " 'an airplane is flying in the air',\n",
              " 'a bear is running from two dogs',\n",
              " 'a woman is resting in a floating raft',\n",
              " 'a man is dieing in an operating room',\n",
              " 'a man is holding a leaf',\n",
              " 'a person is riding a horse',\n",
              " 'a woman is slicing octopus',\n",
              " 'a man is breaking water jugs',\n",
              " 'a man is playing a guitar',\n",
              " 'a girl is eating a cupcake',\n",
              " 'the little girl played on the grass with a dog and a ball',\n",
              " 'people ride and paddle a raft',\n",
              " 'the lady cut up a potatoe',\n",
              " 'the missile exploded',\n",
              " 'a dog is playing in the snow',\n",
              " 'a woman is dancing with other women',\n",
              " 'a boy is pushing a van',\n",
              " 'a boy is making some dance steps',\n",
              " 'a woman is opening a soda and drinking it',\n",
              " 'a man is assembling speaker parts',\n",
              " 'the dog walked along the edge of the pool',\n",
              " 'butter is being put into a bowl',\n",
              " 'raccoons are eating',\n",
              " 'someone fell off a horse',\n",
              " 'a woman peels an apple',\n",
              " 'a man is taking some math classes',\n",
              " 'animals are playing in water',\n",
              " 'a man is riding a horse and jumping over obstacles',\n",
              " 'a person is doing pencil tricks with his hand',\n",
              " 'the person lit the cameras on fire',\n",
              " 'the man is slicing the tape from the box',\n",
              " 'a man is fishing in the river',\n",
              " 'a man is riding a bike',\n",
              " 'a man is doing pushups',\n",
              " 'a man is playing guitar',\n",
              " 'the little boy is singing and playing the guitar',\n",
              " 'a woman is powdering her face',\n",
              " 'a woman is peeling a potato',\n",
              " 'a woman is firing a rifle',\n",
              " 'a woman puts a garland over a mans shoulders',\n",
              " 'an old woman is shaking hand with a man',\n",
              " 'the woman is waterskiing',\n",
              " 'trees are bending in storm',\n",
              " 'a man and woman is riding in a car',\n",
              " 'a man is moving a tree limb',\n",
              " 'a man plays a piano',\n",
              " 'a person pours oil on a skillet',\n",
              " 'the animal is eating',\n",
              " 'the woman is walking her dog',\n",
              " 'a group of people sing',\n",
              " 'the cat is drinking milk',\n",
              " 'a girl is making eyelid',\n",
              " 'two men are fighting',\n",
              " 'the military officer barked at the recruits',\n",
              " 'the man is putting chicken into the container',\n",
              " 'a man is tying on a stenographers machine',\n",
              " 'a woman is adding pasta to a pot of water',\n",
              " 'a woman is lying on a blanket on a rock and reading a book',\n",
              " 'two puppies are playing with each other',\n",
              " 'a man is running on a field',\n",
              " 'a man is hugging someone',\n",
              " 'someone is pouring ingrediants into a pot',\n",
              " 'a couple are walking',\n",
              " 'a person is playing a guitar',\n",
              " 'a person is adding food in a pan',\n",
              " 'a group of penguins is walking',\n",
              " 'a man is playing a guitar',\n",
              " 'a dog is jumping on a trampoline',\n",
              " 'a man is shaking a container over a kitchen sink',\n",
              " 'a man is walking with a horse',\n",
              " 'paper is being cut with scissors',\n",
              " 'a person peels shrimp',\n",
              " 'a man is playing a guitar',\n",
              " 'a man making a bed in a hotel',\n",
              " 'the dog pulled the dogs tail and then his leg',\n",
              " 'a woman beats two eggs in a bowl',\n",
              " 'a man is jumping rope outside',\n",
              " 'a person is slicing some onions',\n",
              " 'a woman holds a kangaroo',\n",
              " 'soccer players are kicking a soccer ball into the goal',\n",
              " 'a woman is cooking something',\n",
              " 'a woman is swimming in the beach',\n",
              " 'a man is carrying another man',\n",
              " 'the woman is putting paste into a dish',\n",
              " 'a man is holding up and talking about a gray you tube tshirt',\n",
              " 'someone pours olive oil into a bowl of tomato wedges',\n",
              " 'a man is playing the guitar',\n",
              " 'someone is boiling okra in a pot',\n",
              " 'a person is peeling a potato',\n",
              " 'a cat is jumping into a box',\n",
              " 'the woman is seasoning the oil',\n",
              " 'a cat is sliding upside down under a couch',\n",
              " 'a woman dances while a man plays the keyboard',\n",
              " 'a chef is cleaning up a bowl of soup',\n",
              " 'an explosion is booming in the desert',\n",
              " 'a woman slices a lemon',\n",
              " 'an overweight man is skipping rope',\n",
              " 'the lady cracked two raw eggs',\n",
              " 'a man sharpens a pencil using a knife',\n",
              " 'plastic toys are floating in water',\n",
              " 'the turtle followed the fish',\n",
              " 'the woman is pencilling on eye shadow',\n",
              " 'a man is tying his shoe',\n",
              " 'a woman is slicing meat with a knife',\n",
              " 'a dog is running on the ground',\n",
              " 'a man is petting a tied up dog',\n",
              " 'a woman is walking on an open ground with a pet dog as some other dogs follow them',\n",
              " 'a woman is mincing some garlic',\n",
              " 'two teams are playing soccer',\n",
              " 'a rat like creature is smelling around',\n",
              " 'two sumo ringers are fighting each other',\n",
              " 'a man lays on the ground and aims a rifle',\n",
              " 'a woman is chopping a hard egg',\n",
              " 'two robots share a kiss',\n",
              " 'a cat is trying to touch a dog',\n",
              " 'the rhino grazed on the grass',\n",
              " 'the man drove his little red car around the traffic',\n",
              " 'a man is cutting bread',\n",
              " 'a cat rapidly swats a kid in the head',\n",
              " 'a cat is playing in a box',\n",
              " 'the couple danced in the church',\n",
              " 'a man is patting an alligator on the mouth',\n",
              " 'a person checks some rice pudding',\n",
              " 'a woman is stirring two eggs in a glass bowl',\n",
              " 'the man is playing the drums',\n",
              " 'a man is slicing a pepper',\n",
              " 'a woman is speaking in sign language',\n",
              " 'a boy is crawling into a dog house',\n",
              " 'the girl flew her kite while she ran up a hill',\n",
              " 'a woman is placing food in a pot of hot water',\n",
              " 'a small monkey walks through water',\n",
              " 'a man is riding a bike',\n",
              " 'a young man is singing and playing the piano',\n",
              " 'a boy takes off his sunglasses',\n",
              " 'a girl is playing a piano',\n",
              " 'the lady sliced a tomatoe',\n",
              " 'someone is holding a hedgehog',\n",
              " 'a woman peels a potato',\n",
              " 'a cat is drinking some water',\n",
              " 'a person is putting salt and pepper on a piece of pork',\n",
              " 'the man sat in his chair and stared',\n",
              " 'a woman is dicing a potato',\n",
              " 'a baby is crawling happily',\n",
              " 'a person is frying a meat in the pan',\n",
              " 'a man is looking out of a window',\n",
              " 'a man seated is playing the guitar',\n",
              " 'a woman is slicing an onion with a knife',\n",
              " 'a rider is running and jumping her horse',\n",
              " 'a boy is playing a keyboard',\n",
              " 'two men are fighting',\n",
              " 'a man is playing a wooden flute while several other men play bongo drums',\n",
              " 'a person is petting a monkey',\n",
              " 'two cartoon rabbits are kissing',\n",
              " 'the hedgehog chewed on the towel',\n",
              " 'a cat is licking himself',\n",
              " 'a small guinea pig is gnawing and eating a piece of carrot on the floor',\n",
              " 'four boys are standing in front of the burning car',\n",
              " 'a man is smoking',\n",
              " 'a woman is adding sauce to some food',\n",
              " 'three children are eating their food',\n",
              " 'a submarine is going through water',\n",
              " 'a man is running on a street',\n",
              " 'a person is slicing an onion',\n",
              " 'a badger is digging in the dirt',\n",
              " 'a woman is slicing big pepper',\n",
              " 'a man is riding a bicycle',\n",
              " 'a man and a woman are kissing each other',\n",
              " 'a woman is slicing an onion',\n",
              " 'a small boy is playing with a dog',\n",
              " 'the man is drawing',\n",
              " 'a man is cutting a potato',\n",
              " 'a boy is playing a guitar',\n",
              " 'a woman is cutting an onion',\n",
              " 'a toy train is striking a toy car',\n",
              " 'a man is playing the guitar',\n",
              " 'a cat opens a drawer and climbs inside',\n",
              " 'a woman is frying a food',\n",
              " 'a man is dicing an onion',\n",
              " 'a girl is playing a guitar',\n",
              " 'a girl is singing on stage',\n",
              " 'a woman is riding a horse',\n",
              " 'a girl is playing a guitar',\n",
              " 'a woman is brushing some shrimp',\n",
              " 'a man is dancing on the ceiling',\n",
              " 'a woman thinly slices an onion with a large knife',\n",
              " 'a man is playing a keyboard',\n",
              " 'a man plays the guitar',\n",
              " 'a woman is peeling a potato',\n",
              " 'a woman is handling a frog',\n",
              " 'a man is playing a flute',\n",
              " 'a man is playing a guitar',\n",
              " 'a man is playing a piano',\n",
              " 'a man is playing a guitar',\n",
              " 'a man is playing a flute',\n",
              " 'a man is playing a flute',\n",
              " 'two women are on a couch',\n",
              " 'someone is slicing a cucumber',\n",
              " 'a kitten is playing with a blue rope toy',\n",
              " 'the dog is barking at the toy',\n",
              " 'a person folds a tortilla',\n",
              " 'a cat is drinking milk',\n",
              " 'a person is driving a car',\n",
              " 'a turtle is walking',\n",
              " 'a cow is eating grass',\n",
              " 'a woman is chopping broccoli',\n",
              " 'a man is crying',\n",
              " 'the man is playing the guitar',\n",
              " 'a man is cutting an onion',\n",
              " 'a man is slicing a potato',\n",
              " 'a woman is tapping her fingers on a table',\n",
              " 'someone is boiling okra in a pot',\n",
              " 'a man is smoking',\n",
              " 'the man is playing the drums',\n",
              " 'a man dives into a pool',\n",
              " 'a woman is cutting a leak',\n",
              " 'a little boy is playing a guitar',\n",
              " 'a woman is dancing',\n",
              " 'women are talking',\n",
              " 'a girl is putting gel in her hair',\n",
              " 'a kid is playing guitar',\n",
              " 'a group of people are marching in place',\n",
              " 'the woman is shooting a machine gun',\n",
              " 'a man played the piano',\n",
              " 'a woman is slicing an onion',\n",
              " 'a man is slicing a cucumber',\n",
              " 'a girl is eating a cupcake',\n",
              " 'a woman is cutting an onion',\n",
              " 'the man is playing a guitar',\n",
              " 'a man is playing the guitar',\n",
              " 'two little girls talk on the telephone',\n",
              " 'a man is chopping a log with an axe',\n",
              " 'a person is cutting a capsicum into pieces',\n",
              " 'a man is talking with a woman',\n",
              " 'the man is walking',\n",
              " 'someone is pouring oil into a skillet',\n",
              " 'a small kitten is playing a ball',\n",
              " 'a man is playing a guitar',\n",
              " 'a girl is playing a violin',\n",
              " 'a man is playing two pianos',\n",
              " 'a man is exercising',\n",
              " 'a person is slicing a scallop',\n",
              " 'a man and a woman are riding on their bicycles',\n",
              " 'two men are fighting in a cow pasture',\n",
              " 'a woman is adding oil to a pan',\n",
              " 'a girl makes up her bed',\n",
              " 'the cat played with a watermelon',\n",
              " 'a girl jumps on a car',\n",
              " 'a man is praying',\n",
              " 'a car is parking',\n",
              " 'a man is running',\n",
              " 'a man is singing',\n",
              " 'a man is carrying another man over his shoulder',\n",
              " 'a woman is peeling a potato',\n",
              " 'a woman is cutting a tomato',\n",
              " 'someone is peeling a potato',\n",
              " 'a woman is peeling a potato',\n",
              " 'two robots kiss',\n",
              " 'two boys on a couch are playing video games',\n",
              " 'a woman is squeezing a lemon',\n",
              " 'a woman is slicing an onion',\n",
              " 'a woman is slicing a carrot',\n",
              " 'a girl is styling her hair',\n",
              " 'a man walking down the stairs',\n",
              " 'two people are riding a motorcycle',\n",
              " 'a man is playing a guitar',\n",
              " 'a man is playing a guitar and singing',\n",
              " 'a man is walking in the rain',\n",
              " 'a kangaroo is eating',\n",
              " 'a man is fishing',\n",
              " 'a woman is swimming',\n",
              " 'a woman is eating',\n",
              " 'a boy and a girl is dancing in the rain',\n",
              " 'a man is driving a car',\n",
              " 'a woman is grating onion',\n",
              " 'two roosters are fighting',\n",
              " 'a man is riding a horse',\n",
              " 'a man is riding a horse',\n",
              " 'a man is shooting a gun',\n",
              " 'a woman is cutting an onion',\n",
              " 'the woman is slicing herbs',\n",
              " 'a boy is playing the piano',\n",
              " 'a baby elephant is eating',\n",
              " 'a woman is cracking eggs into a bowl',\n",
              " 'a person is playing the keyboard',\n",
              " 'a boy whacks a man with a sword',\n",
              " 'a person is slicing a carrot into pieces',\n",
              " 'a man sliced through a bunch of water bottles with a knife',\n",
              " 'a man is writing in a book',\n",
              " 'a woman is slicing a garlic',\n",
              " 'a person is making a bed',\n",
              " 'a man is playing keyboard',\n",
              " 'a man is playing a violin',\n",
              " 'the woman is smoking',\n",
              " 'the man erased what the other man had on the board',\n",
              " 'a man is riding a motorcycle',\n",
              " 'a man is riding a motorcycle on the highway',\n",
              " 'a woman is slicing up some meat',\n",
              " 'a woman cuts up broccoli',\n",
              " 'a man is playing a piano',\n",
              " 'someone is slicing a tomato',\n",
              " 'a woman is dancing in a cage',\n",
              " 'a woman is swimming',\n",
              " 'a man is running',\n",
              " 'the man is playing the guitar',\n",
              " 'a cat stares into the camera',\n",
              " 'the baby is laughing and crawling',\n",
              " 'a woman is shooting a gun',\n",
              " 'a woman is dancing in the rain',\n",
              " 'a woman is dancing',\n",
              " 'a kid is playing an instrument',\n",
              " 'someone slices a bottle with a sword',\n",
              " 'a woman is cutting an apple',\n",
              " 'the man is peeling an apple',\n",
              " 'the man is playing the guitar',\n",
              " 'an animal is walking on the ground',\n",
              " 'a little girl is playing a grand piano on stage',\n",
              " 'a group of people dancing',\n",
              " 'a man plays a guitar',\n",
              " 'a cat swings on a ceiling fan',\n",
              " 'a woman is playing the flute',\n",
              " 'the woman is dicing onions',\n",
              " 'a monkey is brushing a bull dog',\n",
              " 'a woman is slicing a onion',\n",
              " 'a man is playing the piano',\n",
              " 'a woman is washing her hands',\n",
              " 'a woman fires a shotgun',\n",
              " 'a man is eating a bowl of cereal',\n",
              " 'a woman is bathing into bathtub',\n",
              " 'a motorcyclist crashes on his motorcycle',\n",
              " 'a man is dangling a mouse near a snake',\n",
              " 'a man and a woman are walking in the woods',\n",
              " 'a person pours some rice pudding into a bowl',\n",
              " 'a man stares out a window',\n",
              " 'a woman is firing a rifle',\n",
              " 'a man is eating a banana',\n",
              " 'the men are performing on stage',\n",
              " 'a cartoon woman dives into a pool',\n",
              " 'the lady put the baby int a trashcan',\n",
              " 'someone is frying meat',\n",
              " 'a man is rapidly chopping some mushrooms using a knife',\n",
              " 'a woman is adding ingredients to a bowl',\n",
              " 'a skateboarder does tricks on a halfpipe',\n",
              " 'a man is speaking on a stage',\n",
              " 'a man is playing a guitar',\n",
              " 'a man is playing on his keyboard',\n",
              " 'a person is cutting a potato',\n",
              " 'a man is dancing on the ceiling of a room',\n",
              " 'two men are dancing',\n",
              " 'someone is seasoning eggs',\n",
              " 'a man is swinging in a rope',\n",
              " 'a man is cutting tomatoes',\n",
              " 'a woman is boiling shrimp',\n",
              " 'a man cuts a potato',\n",
              " 'a man is dancing on the road',\n",
              " 'the deer jumped over the fence',\n",
              " 'a girl dances in the rain',\n",
              " 'a woman is writing a letter',\n",
              " 'a gorilla is playing the drums',\n",
              " 'a woman is riding on a horse',\n",
              " 'the boy cut the grass by the curb with scissors',\n",
              " 'a man with glasses is talking',\n",
              " 'a woman is cutting some flowers',\n",
              " 'a person is walking down a stone path',\n",
              " 'a man plays the keyboard with his nose',\n",
              " 'a man is playing guitar',\n",
              " 'a animal is eating',\n",
              " 'a man is lifting weights',\n",
              " 'a man is running with a bus',\n",
              " 'a man is climbing a rope',\n",
              " 'a cat is playing the piano',\n",
              " 'a woman is dancing in the rain',\n",
              " 'men are running a race',\n",
              " 'a man is cutting tomatoes into pieces',\n",
              " 'a man is playing a flute',\n",
              " 'a woman is cutting potatoes',\n",
              " 'a chicken is pecking at a dead mouse',\n",
              " 'the woman is thinly slicing a cucumber',\n",
              " 'a person is slicing a bread pieces',\n",
              " 'a woman is cutting a squash',\n",
              " 'a woman is adding oil on fishes',\n",
              " 'a woman is grating carrots',\n",
              " 'someone is cleaning a animal',\n",
              " 'a man is talking on the phone',\n",
              " 'a woman is smoking',\n",
              " 'a man laying down and shooting a gun',\n",
              " 'a man is being put into an abulance',\n",
              " 'a man is diving into a swimming pool',\n",
              " 'a man is firing a shot gun',\n",
              " 'a man playing the guitar',\n",
              " 'a man is peeling potato',\n",
              " 'the woman is riding a horse',\n",
              " 'an airplane moves along a runway',\n",
              " 'a woman is slipping in the watertub',\n",
              " 'a man is mowing a lawn',\n",
              " 'a woman is peeling a potato',\n",
              " 'a man is playing piano',\n",
              " 'a woman is doing ballet',\n",
              " 'a woman is cutting an onion',\n",
              " 'a woman is stirring rice in a pot',\n",
              " 'a woman puts slabs of meat in a pan',\n",
              " 'the boy played his trumpet',\n",
              " 'a person is riding a horse',\n",
              " 'a woman is slicing an onion',\n",
              " 'a man is slicing vegetables',\n",
              " 'a cat is playing',\n",
              " 'a man is riding a bicycle',\n",
              " 'a band is performing on a stage',\n",
              " 'the woman is slicing fish cake',\n",
              " 'a man is eating bread',\n",
              " 'a woman is cooking shrimp',\n",
              " 'a woman is dancing',\n",
              " 'a big turtle is walking',\n",
              " 'a man is burning a flag',\n",
              " 'the man is pushing the van',\n",
              " 'a man is eating wood',\n",
              " 'a dog is speaking to the camera',\n",
              " 'a man is putting two paper towels on a paper plate',\n",
              " 'a man and woman are walking',\n",
              " 'a man is cutting a rope with a sword',\n",
              " 'the man is singing and playing the guitar',\n",
              " 'a man is cutting a paper',\n",
              " 'a man is dancing',\n",
              " 'two boys are talking on the phone',\n",
              " 'a man is playing guitar',\n",
              " 'a woman is slicing an onion',\n",
              " 'a woman is riding a horse',\n",
              " 'a man is playing soccer',\n",
              " 'a woman is peeling an orange',\n",
              " 'someone is cracking an egg open',\n",
              " 'a man is cutting a snake to cook',\n",
              " 'a woman is scraping a carrot',\n",
              " 'a man and woman are bollywood dancing',\n",
              " 'a woman is cutting flowers',\n",
              " 'the man danced in the diner',\n",
              " 'american flag is waving',\n",
              " 'a lion is walking in an enclosed area',\n",
              " 'a woman is slicing a lemon',\n",
              " 'a woman is playing the flute',\n",
              " 'the dog is barking at the toy',\n",
              " 'a woman is adding an egg and stirring',\n",
              " 'a woman covers a piece of meat with flour',\n",
              " 'a man does floor exercises',\n",
              " 'a man is slicing a potatoe',\n",
              " 'someone is playing piano',\n",
              " 'the woman is putting makeup on the man',\n",
              " 'the woman droppped eggplant into the pan',\n",
              " 'a man plays a trumpet',\n",
              " 'a tiger trys to climb the wall',\n",
              " 'a man is preparing a hanging rope',\n",
              " 'a woman dances on a stage',\n",
              " 'the girl is riding the horse',\n",
              " 'a person is frying',\n",
              " 'a man is shooting a pistol',\n",
              " 'a woman is swinging her arms',\n",
              " 'a man is walking outside',\n",
              " 'a man dries his hands',\n",
              " 'a soccer player is kicking the soccer ball into the goal from a long way down the field',\n",
              " 'a girl is playing the piano',\n",
              " 'a man is drawing some figures',\n",
              " 'the monkey is hanging from the trees',\n",
              " 'some children are jumping on trampoline',\n",
              " 'a woman with a knife is slicing a pepper',\n",
              " 'a man is adding oil to car',\n",
              " 'a man is slicing a carrot by a machine',\n",
              " 'a boy played a keyboard',\n",
              " 'a cat is playing with an antenna',\n",
              " 'a woman is slicing pumpkin',\n",
              " 'the people threw the dummy over the cliff edge',\n",
              " 'a gun is being fired',\n",
              " 'a woman is cutting a plastic sheet',\n",
              " 'a woman cuts a pineapple',\n",
              " 'a woman is adding spices on a meat',\n",
              " 'a person is adding oil in the pan',\n",
              " 'a cook seasons some dough',\n",
              " 'a boy is running on a beach',\n",
              " 'a baby monkey scratches itself',\n",
              " 'a boy is riding a bike on a gate',\n",
              " 'a man is doing a card trick',\n",
              " 'a man is playing the piano',\n",
              " 'a man is mowing grass',\n",
              " 'a person is mixing water and flour',\n",
              " 'the two dogs were in the pen',\n",
              " 'a man is riding on one wheel on a motorcycle',\n",
              " 'a cat opens a drawer and climbs inside',\n",
              " 'a man is opening a box using a knife',\n",
              " 'a man is kicking oots of water',\n",
              " 'a man is eating',\n",
              " 'a puppy is repeatedly rolling from side to side while on its back',\n",
              " 'a young boy sings and plays a guitar',\n",
              " 'the woman is peeling lemon',\n",
              " 'a man is playing the trumpet',\n",
              " 'a dog is looking around',\n",
              " 'a woman is slicing an onion',\n",
              " 'the man drilled holes into the wood',\n",
              " 'someone is cutting a circle out of a pink sheet of paper',\n",
              " 'a man is playing flute',\n",
              " 'a man is placing meat in a bag',\n",
              " 'a girl is eating a cupcake',\n",
              " 'a rabbit is sniffing and pawing a stuffed rabbit',\n",
              " 'a man is buttering bread',\n",
              " 'a woman is squeezing some cucumber slices',\n",
              " 'a man is taking out the insides of a green pepper',\n",
              " 'a man takes a piece of pepperoni pizza out of a pizza box and puts it on the lid after he closes the box',\n",
              " 'the man added vegetables to the broth in the pot',\n",
              " 'the man ran and jumped against the wall',\n",
              " 'the man is seasoning the sausages',\n",
              " 'a clown is singing and people are dancing',\n",
              " 'a woman is feeding an aardvark',\n",
              " 'a person is rinsing a steak off with water',\n",
              " 'a boy rode his bike on top of a metal fence',\n",
              " 'a man is throwing knives at a tree',\n",
              " 'girls are walking on the stage',\n",
              " 'a woman is doing weight exercises',\n",
              " 'a man is peeling a potato',\n",
              " 'a large bird standing on a table picks up a plastic glass containing liquid and places it in a bowl of something',\n",
              " 'a woman is in the rain',\n",
              " 'a woman is hitting a man',\n",
              " 'a woman is riding an elephant',\n",
              " 'a man is lifting weights',\n",
              " 'a person is riding a jetski in the waves',\n",
              " 'a woman is wearing headphones',\n",
              " 'a kitten is eating its food from a plate',\n",
              " 'a woman is reading a lifestyle magazine',\n",
              " 'a man is pouring chili into a bowl',\n",
              " 'the bird ate the food in the tree from a bowl',\n",
              " 'a group of girls are exiting a taxi',\n",
              " 'a woman is seasoning a piece of meat',\n",
              " 'a man is chopping coriander leaf',\n",
              " 'a man takes a slice of pizza',\n",
              " 'a man is placing meat inside a plastic bag',\n",
              " 'a rabbi is talking',\n",
              " 'a man rides a horse',\n",
              " 'a man is playing guitar',\n",
              " 'a man is slicing a bun',\n",
              " 'a man  is driving a car',\n",
              " 'a dog is pawing at a fly in the carpet before it',\n",
              " 'a dog is barking',\n",
              " 'a monkey is walking on a bed',\n",
              " 'a woman is cooking broccoli',\n",
              " 'a man is frying a tortilla',\n",
              " 'a woman serving volleyballs over a net',\n",
              " 'a man is slicing cucumber with a knife',\n",
              " 'a man is playing an electronic keyboard',\n",
              " 'a man is playing a violin',\n",
              " 'a man severs the toe of an empty leather boot using a sword',\n",
              " 'the person is removing the scales from the fish',\n",
              " 'people are walking in the garden',\n",
              " 'a young child rides a horse',\n",
              " 'a person is cutting garlic into pieces with a knife',\n",
              " 'a man is folding a piece of paper',\n",
              " 'the man was pushed into the water',\n",
              " 'a boy is upset playing video games',\n",
              " 'a man makes a call on a cell phone',\n",
              " 'a man is speaking on a phone',\n",
              " 'a woman is applying cosmetics to her face',\n",
              " 'the man lifted barbells',\n",
              " 'a woman feeds an animal by hand',\n",
              " 'several ferrets climb out of their cage',\n",
              " 'a young woman is playing the flute',\n",
              " 'a woman shoots a shotgun',\n",
              " 'a person is adding chili powder to chili with beans',\n",
              " 'a woman rapidly fires a handgun',\n",
              " 'a person is slicing an onion',\n",
              " 'a dog is opening a fridge',\n",
              " 'a woman is holding a dancing baby up',\n",
              " 'a woman is doing a joker make up on a man',\n",
              " 'the lady added cheese to the sauce',\n",
              " 'a man is giving a lecture on a podium',\n",
              " 'the cat shimmied under the bed',\n",
              " 'a woman is chopping garlic',\n",
              " 'a man is cutting grass',\n",
              " 'a man is cutting grass',\n",
              " 'a boy runs away from his fishing line',\n",
              " 'the man played haki sak in the office',\n",
              " 'a man is carrying another man on his back',\n",
              " 'meat is dropped into a pan',\n",
              " 'a woman is cutting scallions',\n",
              " 'a man is slam dunking a ball',\n",
              " 'a machine is sharpening a pencil',\n",
              " 'a woman is brushing her feet',\n",
              " 'a man is cleaning the windows',\n",
              " 'a person is stirring rice',\n",
              " 'a man puts a knife in a vice',\n",
              " 'a boy plays violin on stage',\n",
              " 'a woman cuts a pink loaf with a knife',\n",
              " 'a man is adding pork chops to a pan',\n",
              " 'the men are fighting each other',\n",
              " 'a man is catching a ball',\n",
              " 'a girl is reading a newspaper',\n",
              " 'a slow loris bites a persons fingers',\n",
              " 'a man is walking along a path through wilderness',\n",
              " 'the man played his guitar',\n",
              " 'some men are skating on the road',\n",
              " 'a man pours liquid into a pan',\n",
              " 'a boy is playing piano and singing',\n",
              " 'a cat and a ferret are playing',\n",
              " 'a monkey is walking through the water',\n",
              " 'a woman is putting on makeup',\n",
              " 'a dog is driving a car',\n",
              " 'the man sang on stage into the microphone',\n",
              " 'a car backs out of a space',\n",
              " 'a man is holding a frog',\n",
              " 'a man is traveling in a boat',\n",
              " 'the man rode his motorcycle down the highway',\n",
              " 'a man is dicing an onion',\n",
              " 'a man performs on a stage',\n",
              " 'the women are sitiing down',\n",
              " 'a man removes a couple of toaster scrambles from a plastic packet',\n",
              " 'a woman is dancing by a fire',\n",
              " 'a man is meditating',\n",
              " 'a boy is cutting paper',\n",
              " 'the man talked on the telephone',\n",
              " 'a man is playing the guitar and singing',\n",
              " 'the soccer player kicked the ball side to side between his legs',\n",
              " 'an animal is walking',\n",
              " 'someone is scratching an animals belly',\n",
              " 'a man is lifting heavy weights',\n",
              " 'a boy is playing with a toy',\n",
              " 'a man dives off of a cliff',\n",
              " 'a man is coming out into the water',\n",
              " 'a man and woman dance',\n",
              " 'a man is sweeping the floor of a house using a long broom',\n",
              " 'a group of couples are dancing',\n",
              " 'a man is scaling a fish',\n",
              " 'the man set up his camera to take sunset pictures at the beach',\n",
              " 'someone is holding and petting a baby tiger',\n",
              " 'the man is playing the guitar',\n",
              " 'the man did pushups on a wall',\n",
              " 'a woman cuts up a vegetable',\n",
              " 'a person breaks an egg into a small bowl',\n",
              " 'a man is playing keyboards',\n",
              " 'a dog is running around a yard',\n",
              " 'a child is walking down the street as a jeep pulls up',\n",
              " 'a man is adding oil to a pot',\n",
              " 'the girl danced in front of the bonfire',\n",
              " 'a man is chopping butter into a container',\n",
              " 'a girl is dragged downhill by a dog',\n",
              " 'the man took off his sunglasses while talking',\n",
              " 'the two men did a funny skit with a boxer in front of a crowd of people',\n",
              " 'the girl is tiding up her bed',\n",
              " 'someoen is cooking onions',\n",
              " 'the man is using a sledghammer to break the concrete block that is on the other man',\n",
              " 'the lady put the dried noodles in the hot water to cook',\n",
              " 'the girls danced on the stage',\n",
              " 'a panda bear is laying down',\n",
              " 'two kids are playing in a swimming pool with a green colored crocodile float',\n",
              " 'a couple of policewomen are singing karaoke',\n",
              " 'a man is putting broccoli into water',\n",
              " 'the doctor was helping the patient',\n",
              " 'some is grating onion into water',\n",
              " 'a baby is talking',\n",
              " 'a woman boils eggs',\n",
              " 'a woman puts ingredients in a whisked egg',\n",
              " 'a woman is slicing mango',\n",
              " 'a girl is slicing a butter into two pieces',\n",
              " 'a man is playing the guitar',\n",
              " 'a man is opening a package containing headphones',\n",
              " 'a girl is playing a guitar',\n",
              " 'a little girl plays the violin on a beach',\n",
              " 'a monkey is karate kicking at someones gloved hand',\n",
              " 'a female applies something to he hair with her hands',\n",
              " 'a man is karate kicking at another man wearing protective boxing gloves',\n",
              " 'the man is playing the wooden flute',\n",
              " 'a young woman is playing a guitar',\n",
              " 'the men are playing soccer',\n",
              " 'a woman is running on the beach',\n",
              " 'a man is straining pasta',\n",
              " 'pandas play on a swing',\n",
              " 'two green and white trains sitting on the tracks',\n",
              " 'a small white cat with glowing eyes standing underneath a chair',\n",
              " 'a large boat in the water at the marina',\n",
              " 'a bus driving in a street',\n",
              " ...]"
            ]
          },
          "metadata": {
            "tags": []
          },
          "execution_count": 97
        }
      ]
    },
    {
      "cell_type": "markdown",
      "metadata": {
        "id": "tjhDYFdXhFPU"
      },
      "source": [
        "#Lemmatization"
      ]
    },
    {
      "cell_type": "code",
      "metadata": {
        "id": "ZhWgT_Qag8cY"
      },
      "source": [
        "def lemmatize(d1_tokens):\n",
        "    lz = WordNetLemmatizer()\n",
        "    lemmatized = [lz.lemmatize(t) for t in d1_tokens]\n",
        "    return list(set(lemmatized))"
      ],
      "execution_count": null,
      "outputs": []
    },
    {
      "cell_type": "markdown",
      "metadata": {
        "id": "B-8se4oThLU-"
      },
      "source": [
        "##Stopwords "
      ]
    },
    {
      "cell_type": "code",
      "metadata": {
        "id": "BzuydazJhIt5"
      },
      "source": [
        "en_stop = set(nltk.corpus.stopwords.words('english'))\n",
        "#from nltk.stem import WordNetLemmatizer\n",
        "#stemmer = WordNetLemmatizer()"
      ],
      "execution_count": null,
      "outputs": []
    },
    {
      "cell_type": "markdown",
      "metadata": {
        "id": "UnSwaK9QhR8y"
      },
      "source": [
        "##Tokenization"
      ]
    },
    {
      "cell_type": "code",
      "metadata": {
        "id": "fpkoEds4hPy-"
      },
      "source": [
        "d_string=tokens_TF_idf"
      ],
      "execution_count": null,
      "outputs": []
    },
    {
      "cell_type": "code",
      "metadata": {
        "id": "r-d0a050hWfi"
      },
      "source": [
        "tokens = [sent.split() for sent in df]\n",
        "for i in range(len(tokens)):\n",
        "  tokens[i] = [stemmer.lemmatize(word) for word in tokens[i]]\n",
        "  #tokens[i] = [word for word in tokens[i] if word not in en_stop]\n",
        "  tokens[i] = [word for word in tokens[i] if len(word) > 2]"
      ],
      "execution_count": null,
      "outputs": []
    },
    {
      "cell_type": "code",
      "metadata": {
        "colab": {
          "base_uri": "https://localhost:8080/"
        },
        "id": "P-Ii0Nh2hY8N",
        "outputId": "88d206e0-cb9e-4498-b679-3b0ce7090e81"
      },
      "source": [
        "tokens_with_stop = tokens\n",
        "#tokens_without_stop = tokens\n",
        "tokens_with_stop"
      ],
      "execution_count": null,
      "outputs": [
        {
          "output_type": "execute_result",
          "data": {
            "text/plain": [
              "[['plane', 'taking', 'off.'],\n",
              " ['man', 'playing', 'large', 'flute.'],\n",
              " ['man', 'spreading', 'shreded', 'cheese', 'pizza.'],\n",
              " ['three', 'men', 'are', 'playing', 'chess.'],\n",
              " ['man', 'playing', 'the', 'cello.'],\n",
              " ['some', 'men', 'are', 'fighting.'],\n",
              " ['man', 'smoking.'],\n",
              " ['the', 'man', 'playing', 'the', 'piano.'],\n",
              " ['man', 'playing', 'guitar', 'and', 'singing.'],\n",
              " ['person', 'throwing', 'cat', 'the', 'ceiling.'],\n",
              " ['the', 'man', 'hit', 'the', 'other', 'man', 'with', 'stick.'],\n",
              " ['woman', 'pick', 'and', 'hold', 'baby', 'kangaroo.'],\n",
              " ['man', 'playing', 'flute.'],\n",
              " ['person', 'folding', 'piece', 'paper.'],\n",
              " ['man', 'running', 'the', 'road.'],\n",
              " ['dog', 'trying', 'get', 'bacon', 'off', 'his', 'back.'],\n",
              " ['the', 'polar', 'bear', 'sliding', 'the', 'snow.'],\n",
              " ['woman', 'writing.'],\n",
              " ['cat', 'rubbing', 'against', \"baby's\", 'face.'],\n",
              " ['the', 'man', 'riding', 'horse.'],\n",
              " ['man', 'pours', 'oil', 'into', 'pot.'],\n",
              " ['man', 'playing', 'guitar.'],\n",
              " ['panda', 'sliding', 'down', 'slide.'],\n",
              " ['woman', 'eating', 'something.'],\n",
              " ['woman', 'peel', 'potato.'],\n",
              " ['the', 'boy', 'fell', 'off', 'his', 'bike.'],\n",
              " ['the', 'woman', 'playing', 'the', 'flute.'],\n",
              " ['rabbit', 'running', 'from', 'eagle.'],\n",
              " ['the', 'woman', 'frying', 'breaded', 'pork', 'chop.'],\n",
              " ['girl', 'flying', 'kite.'],\n",
              " ['man', 'riding', 'mechanical', 'bull.'],\n",
              " ['the', 'man', 'playing', 'the', 'guitar.'],\n",
              " ['woman', 'dancing', 'and', 'singing', 'with', 'other', 'women.'],\n",
              " ['man', 'slicing', 'bun.'],\n",
              " ['man', 'pouring', 'oil', 'into', 'pan.'],\n",
              " ['lion', 'playing', 'with', 'people.'],\n",
              " ['dog', 'ride', 'skateboard.'],\n",
              " ['someone', 'carving', 'statue.'],\n",
              " ['woman', 'slicing', 'onion.'],\n",
              " ['woman', 'peel', 'shrimp.'],\n",
              " ['woman', 'frying', 'fish.'],\n",
              " ['woman', 'playing', 'electric', 'guitar.'],\n",
              " ['baby', 'tiger', 'playing', 'with', 'ball.'],\n",
              " ['person', 'slicing', 'tomato.'],\n",
              " ['person', 'cut', 'onion.'],\n",
              " ['man', 'playing', 'the', 'piano.'],\n",
              " ['woman', 'playing', 'the', 'flute.'],\n",
              " ['man', 'cutting', 'potato.'],\n",
              " ['kid', 'playing', 'guitar.'],\n",
              " ['boy', 'playing', 'guitar.'],\n",
              " ['man', 'playing', 'guitar.'],\n",
              " ['little', 'boy', 'playing', 'keyboard.'],\n",
              " ['man', 'playing', 'guitar.'],\n",
              " ['dog', 'lick', 'baby.'],\n",
              " ['woman', 'slicing', 'onion.'],\n",
              " ['man', 'playing', 'the', 'guitar.'],\n",
              " ['woman', 'slicing', 'pepper.'],\n",
              " ['man', 'playing', 'the', 'drums.'],\n",
              " ['woman', 'ride', 'horse.'],\n",
              " ['man', 'eating', 'banana', 'tree.'],\n",
              " ['cat', 'playing', 'key', 'board.'],\n",
              " ['man', 'chop', 'down', 'tree', 'with', 'axe.'],\n",
              " ['kid', 'play', 'with', 'toy', 'phone.'],\n",
              " ['man', 'riding', 'motorcycle.'],\n",
              " ['man', 'riding', 'motorcycle.'],\n",
              " ['squirrel', 'spinning', 'around', 'circles.'],\n",
              " ['man', 'and', 'woman', 'are', 'kissing.'],\n",
              " ['man', 'getting', 'into', 'car.'],\n",
              " ['man', 'dancing.'],\n",
              " ['man', 'playing', 'the', 'guitar', 'and', 'singing.'],\n",
              " ['person', 'cutting', 'mushrooms.'],\n",
              " ['tiger', 'cub', 'making', 'sound.'],\n",
              " ['person', 'slicing', 'onions.'],\n",
              " ['man', 'playing', 'the', 'piano.'],\n",
              " ['woman', 'peeling', 'potato.'],\n",
              " ['pankda', 'eating', 'bamboo.'],\n",
              " ['person', 'peeling', 'onion.'],\n",
              " ['monkey', 'push', 'another', 'monkey.'],\n",
              " ['squirrel', 'run', 'around', 'circles.'],\n",
              " ['man', 'tying', 'his', 'shoe.'],\n",
              " ['boy', 'singing', 'and', 'playing', 'the', 'piano.'],\n",
              " ['dog', 'eating', 'water', 'melon.'],\n",
              " ['woman', 'chopping', 'broccoli.'],\n",
              " ['man', 'peeling', 'potato.'],\n",
              " ['woman', 'playing', 'guitar.'],\n",
              " ['woman', 'slicing', 'tomato.'],\n",
              " ['man', 'swim', 'underwater.'],\n",
              " ['man', 'and', 'woman', 'are', 'talking.'],\n",
              " ['small', 'dog', 'chasing', 'yoga', 'ball.'],\n",
              " ['the', 'men', 'are', 'playing', 'cricket.'],\n",
              " ['man', 'ride', 'off', 'motorcycle.'],\n",
              " ['man', 'playing', 'guitar.'],\n",
              " ['the', 'man', 'talked', 'the', 'telephone.'],\n",
              " ['man', 'fishing.'],\n",
              " ['man', 'levitating.'],\n",
              " ['two', 'boy', 'are', 'driving.'],\n",
              " ['man', 'riding', 'horse.'],\n",
              " ['man', 'riding', 'bicycle.'],\n",
              " ['man', 'slicing', 'potatoes.'],\n",
              " ['woman', 'peeling', 'potato.'],\n",
              " ['man', 'playing', 'guitar.'],\n",
              " ['woman', 'slicing', 'leek.'],\n",
              " ['the', 'man', 'cut', 'paper', 'plate.'],\n",
              " ['the', 'man', 'playing', 'the', 'guitar.'],\n",
              " ['man', 'playing', 'the', 'piano.'],\n",
              " ['woman', 'slicing', 'some', 'meat.'],\n",
              " ['man', 'playing', 'his', 'keyboard.'],\n",
              " ['the', 'lady', 'chopped', 'the', 'green', 'onions.'],\n",
              " ['someone', 'sitring', 'noodle', 'water.'],\n",
              " ['lionel', 'richie', 'dancing', 'the', 'ceiling.'],\n",
              " ['man', 'playing', 'piano.'],\n",
              " ['woman', 'playing', 'flute.'],\n",
              " ['boy', 'checking', 'calender.'],\n",
              " ['woman', 'cutting', 'onion.'],\n",
              " ['man', 'playing', 'guitar.'],\n",
              " ['woman', 'using', 'sewing', 'machine.'],\n",
              " ['woman', 'flipping', 'pancakes.'],\n",
              " ['man', 'running', 'the', 'road.'],\n",
              " ['man', 'riding', 'horse.'],\n",
              " ['man', 'riding', 'bike.'],\n",
              " ['woman', 'dancing.'],\n",
              " ['man', 'playing', 'piano.'],\n",
              " ['man', 'playing', 'flute.'],\n",
              " ['man', 'spinning.'],\n",
              " ['monkey', 'swinging', 'from', 'limb', 'limb.'],\n",
              " ['the', 'people', 'got', 'off', 'the', 'train.'],\n",
              " ['dog', 'jumping', 'trampoline.'],\n",
              " ['boy', 'playing', 'instrument.'],\n",
              " ['woman', 'play', 'the', 'guitar.'],\n",
              " ['woman', 'picking', 'can.'],\n",
              " ['man', 'climbing', 'rope.'],\n",
              " ['man', 'lifting', 'car.'],\n",
              " ['man', 'and', 'woman', 'are', 'driving', 'down', 'the', 'street', 'jeep.'],\n",
              " ['the', 'shirtless', 'man', 'sat', 'chair.'],\n",
              " ['two', 'woman', 'are', 'wrestling.'],\n",
              " ['the', 'puppy', 'played', 'with', 'blue', 'tennis', 'ball.'],\n",
              " ['kangroo', 'eating', 'something.'],\n",
              " ['cat', 'playing', 'piano.'],\n",
              " ['the', 'man', 'cut', 'some', 'carpet', 'with', 'knife.'],\n",
              " ['woman', 'riding', 'motorized', 'scooter', 'down', 'road.'],\n",
              " ['someone', 'slicing', 'vegetable.'],\n",
              " ['woman', 'dancing.'],\n",
              " ['dog', 'lick', \"baby's\", 'drool.'],\n",
              " ['man', 'rowing', 'boat.'],\n",
              " ['man', 'cut', 'potatos.'],\n",
              " ['woman', 'chopping', 'garlic.'],\n",
              " ['animal', 'run', 'circles.'],\n",
              " ['man', 'walking', 'slowly', 'across', 'rope', 'bridge.'],\n",
              " ['man', 'playing', 'the', 'guitar.'],\n",
              " ['man', 'play', 'the', 'flute.'],\n",
              " ['woman', 'crack', 'two', 'egg', 'into', 'glass', 'bowl.'],\n",
              " ['man', 'cutting', 'fish.'],\n",
              " ['two', 'men', 'are', 'packing', 'suitcase', 'into', 'the', 'trunk', 'car.'],\n",
              " ['man', 'pours', 'oil', 'some', 'tomatos.'],\n",
              " ['man', 'slicing', 'something.'],\n",
              " ['man', 'paddling', 'canoe.'],\n",
              " ['man',\n",
              "  'and',\n",
              "  'woman',\n",
              "  'are',\n",
              "  'walking',\n",
              "  'together',\n",
              "  'through',\n",
              "  'the',\n",
              "  'woods.'],\n",
              " ['the', 'woman', 'picked', 'the', 'kangaroo.'],\n",
              " ['fish', 'are', 'swimming.'],\n",
              " ['two', 'woman', 'mix', 'something', 'food', 'processor.'],\n",
              " ['person', 'surfing', 'large', 'wave.'],\n",
              " ['man', 'playing', 'guitar.'],\n",
              " ['man', 'playing', 'flute', 'band.'],\n",
              " ['the', 'man', 'spread', 'butter', 'the', 'loaf', 'bread.'],\n",
              " ['person', 'boiling', 'noodles.'],\n",
              " ['group', 'people', 'dance', 'hill.'],\n",
              " ['man', 'dancing', 'outside.'],\n",
              " ['woman', 'feeding', 'man.'],\n",
              " ['man', 'putting', 'pan', 'into', 'oven.'],\n",
              " ['woman', 'sitting', 'desk.'],\n",
              " ['medic', 'transport', 'patient', 'stretcher.'],\n",
              " ['woman', 'playing', 'flute', 'stage.'],\n",
              " ['two', 'baby', 'panda', 'are', 'playing.'],\n",
              " ['baby', 'laughing.'],\n",
              " ['man', 'playing', 'guitar.'],\n",
              " ['man', 'folding', 'paper.'],\n",
              " ['three', 'woman', 'are', 'dancing.'],\n",
              " ['the', 'cat', 'are', 'playing', 'with', 'each', 'other.'],\n",
              " ['person', 'writing.'],\n",
              " ['man', 'running.'],\n",
              " ['the', 'woman', 'rolling', 'dough.'],\n",
              " ['woman', 'adding', 'spice', 'meat.'],\n",
              " ['woman', 'adding', 'oil', 'fishes.'],\n",
              " ['young', 'boy', 'holding', 'guitar.'],\n",
              " ['cheetah', 'running.'],\n",
              " ['the', 'man', 'eating', 'pizza.'],\n",
              " ['orangutan', 'riding', 'bus.'],\n",
              " ['man', 'and', 'woman', 'talk', 'diner.'],\n",
              " ['man', 'playing', 'guitar.'],\n",
              " ['girl', 'singing', 'and', 'playing', 'guitar.'],\n",
              " ['girl', 'communicating', 'with', 'sign', 'language.'],\n",
              " ['woman', 'doing', 'weight', 'exercises.'],\n",
              " ['man', 'getting', 'inside', 'car.'],\n",
              " ['big', 'green', 'ball', 'knock', 'potato', 'over.'],\n",
              " ['cat', 'playing', 'keyboards.'],\n",
              " ['two', 'dog', 'swim', 'pool.'],\n",
              " ['the', 'man', 'used', 'chopper', 'chop', 'the', 'onion.'],\n",
              " ['woman', 'slice', 'tofu.'],\n",
              " ['herd', 'deer', 'are', 'crossing', 'the', 'street.'],\n",
              " ['the', 'person', 'riding', 'the', 'horse.'],\n",
              " ['someone', 'feeding', 'animal.'],\n",
              " ['someone', 'slicing', \"tortila's.\"],\n",
              " ['someone', 'mixing', 'ingrediants.'],\n",
              " ['rooster', 'peck', 'dead', 'mouse.'],\n",
              " ['woman', 'hold', 'kangaroo.'],\n",
              " ['man', 'playing', 'with', 'frog'],\n",
              " ['two', 'men', 'are', 'talking.'],\n",
              " ['man', 'spread', 'butter', 'big', 'piece', 'bread.'],\n",
              " ['man', 'running', 'across', 'high', 'wire.'],\n",
              " ['man', 'mowing', 'lawn.'],\n",
              " ['man', 'opening', 'door.'],\n",
              " ['man', 'slicing', 'potato', 'into', 'pieces.'],\n",
              " ['the', 'woman', 'cutting', 'cooked', 'octopus.'],\n",
              " ['man', 'punching', 'through', 'boards.'],\n",
              " ['man', 'dancing.'],\n",
              " ['someone', 'playing', 'piano.'],\n",
              " ['two', 'fox', 'are', 'eating', 'from', 'plate', 'brick', 'patio.'],\n",
              " ['boy', 'playing', 'key-board.'],\n",
              " ['person', 'play', 'keyboard.'],\n",
              " ['man', 'shooting', 'gun.'],\n",
              " ['someone', 'slicing', 'onion.'],\n",
              " ['man', 'swimming.'],\n",
              " ['man', 'playing', 'the', 'guitar.'],\n",
              " ['woman', 'slicing', 'pumpkin.'],\n",
              " ['woman', 'dancing.'],\n",
              " ['woman', 'cracking', 'egg', 'into', 'bowl.'],\n",
              " ['car', 'moving', 'through', 'road.'],\n",
              " ['someone', 'greasing', 'pan.'],\n",
              " ['man', 'playing', 'guitar.'],\n",
              " ['woman', 'drinking', 'vodka.'],\n",
              " ['woman', 'cutting', 'meat', 'into', 'pieces.'],\n",
              " ['man', 'rinsing', 'steak.'],\n",
              " ['man', 'selling', 'items.'],\n",
              " ['man', 'jumping', 'wall.'],\n",
              " ['runner', 'race', 'around', 'track.'],\n",
              " ['man', 'kicking', 'soccer', 'ball.'],\n",
              " ['woman', 'frying', 'something.'],\n",
              " ['cat', 'licking', 'sucker.'],\n",
              " ['woman', 'dancing', 'fire.'],\n",
              " ['the', 'man', 'slicing', 'fish', 'open.'],\n",
              " ['butter', 'melting', 'pan.'],\n",
              " ['three', 'boy', 'are', 'dancing.'],\n",
              " ['woman', 'playing', 'game', 'with', 'man.'],\n",
              " ['the', 'man', 'driving', 'white', 'car.'],\n",
              " ['man', 'drove', 'his', 'car.'],\n",
              " ['car', 'back', 'out', 'space.'],\n",
              " ['man', 'put', 'some', 'cheese', 'pizza.'],\n",
              " ['the', 'boy', 'playing', 'the', 'piano.'],\n",
              " ['the', 'man', 'played', 'his', 'guitar.'],\n",
              " ['man', 'riding', 'horse.'],\n",
              " ['man', 'walking', 'rope.'],\n",
              " ['girl', 'playing', 'flute.'],\n",
              " ['people', 'step', 'off', 'train.'],\n",
              " ['woman', 'sewing', 'machine.'],\n",
              " ['dog', 'looking', 'into', 'swimming', 'pool.'],\n",
              " ['man', 'buttering', 'piece', 'bread.'],\n",
              " ['man', 'cutting', 'tomato', 'into', 'pieces.'],\n",
              " ['three', 'teenage', 'girl', 'danced', 'the', 'room.'],\n",
              " ['lion', 'walking.'],\n",
              " ['man', 'shooting', 'car.'],\n",
              " ['black', 'horse', 'running', 'around.'],\n",
              " ['woman', 'deveining', 'shrimp.'],\n",
              " ['man', 'riding', 'horse.'],\n",
              " ['man', 'walk', 'down', 'path.'],\n",
              " ['man', 'slicing', 'potato.'],\n",
              " ['dog', 'barking', 'ball.'],\n",
              " ['kid',\n",
              "  'run',\n",
              "  'away',\n",
              "  'from',\n",
              "  'fish',\n",
              "  'swinging',\n",
              "  'around',\n",
              "  'fishing',\n",
              "  'pole.'],\n",
              " ['man', 'walking', 'along', 'path', 'through', 'wilderness.'],\n",
              " ['elderly', 'man', 'speaking', 'podium.'],\n",
              " ['man', 'riding', 'horse', 'slow', 'motion.'],\n",
              " ['person', 'cutting', 'some', 'burrata', 'cheese.'],\n",
              " ['the', 'man', 'shooting', 'automatic', 'rifle.'],\n",
              " ['man', 'crushing', 'garlic', 'with', 'the', 'back', 'knife.'],\n",
              " ['woman', 'filing', 'her', 'fingernail', 'with', 'emery', 'board.'],\n",
              " ['man', 'riding', 'skateboard.'],\n",
              " ['woman', 'taking', 'shower.'],\n",
              " ['man', 'dancing.'],\n",
              " ['man', 'rowing', 'boat.'],\n",
              " ['man', 'swinging', 'from', 'rope', 'attached', 'the', 'ceiling.'],\n",
              " ['woman', 'riding', 'horse', 'beach.'],\n",
              " ['man', 'hold', 'small', 'animal', 'one', 'hand.'],\n",
              " ['person', 'folding', 'square', 'paper', 'piece.'],\n",
              " ['person', 'frying', 'meat', 'pan.'],\n",
              " ['chimpanzee', 'hurting', 'woman.'],\n",
              " ['the', 'woman', 'peeling', 'shrimp.'],\n",
              " ['two', 'zebra', 'are', 'playing.'],\n",
              " ['woman', 'slicing', 'butter.'],\n",
              " ['some', 'men', 'are', 'playing', 'guitars.'],\n",
              " ['the', 'elephant', 'sprayed', 'water', 'themselves.'],\n",
              " ['dog', 'sat', 'the', 'counter', 'store.'],\n",
              " ['someone', 'drill', 'hole', 'strip', 'wood', 'with', 'power', 'drill.'],\n",
              " ['woman', 'slicing', 'some', 'vegetables.'],\n",
              " ['badger', 'burrowing', 'hole.'],\n",
              " ['woman', 'water', 'skiing', 'lake.'],\n",
              " ['girl', 'playing', 'violin.'],\n",
              " ['helicopter', 'landing', 'helipad.'],\n",
              " ['woman', 'cutting', 'chicken.'],\n",
              " ['woman', 'cutting', 'cucumber.'],\n",
              " ['woman', 'ride', 'elephant', 'front', 'adoring', 'crowd.'],\n",
              " ['puppy', 'sliding', 'backwards', 'along', 'the', 'floor.'],\n",
              " ['woman', 'split', 'garlic', 'cloves.'],\n",
              " ['dog', 'looking', 'into', 'swimming', 'pool.'],\n",
              " ['woman', 'mix', 'beauty', 'treatment', 'glass.'],\n",
              " ['man', 'drawing', 'picture.'],\n",
              " ['woman', 'picking', 'tomatoes.'],\n",
              " ['man', 'looking', 'computer', 'monitor.'],\n",
              " ['the', 'boy', 'riding', 'tricycle.'],\n",
              " ['two', 'men', 'compete', 'tire', 'rolling', 'race.'],\n",
              " ['person', 'cutting', 'meat.'],\n",
              " ['man', 'playing', 'violin.'],\n",
              " ['the', 'baby', 'crawled', 'through', 'the', 'doorway.'],\n",
              " ['man', 'playing', 'keyboard.'],\n",
              " ['man', 'smelling', 'two', 'pizzas.'],\n",
              " ['monkey', 'pull', 'the', 'tail', 'dog.'],\n",
              " ['dog', 'lie', 'his', 'back', 'wooden', 'floor.'],\n",
              " ['woman', 'frying', 'something', 'the', 'pan.'],\n",
              " ['man', 'put', 'seasoning', 'bowl', 'water.'],\n",
              " ['elderly', 'woman', 'pouring', 'oil', 'into', 'frying', 'pan.'],\n",
              " ['woman', 'chopping', 'onion.'],\n",
              " ['the', 'woman', 'picked', 'the', 'kangaroo.'],\n",
              " ['dog', 'biting', 'can.'],\n",
              " ['woman', 'deboning', 'fish.'],\n",
              " ['man', 'mowing', 'grass.'],\n",
              " ['cat', 'watching', 'tv.'],\n",
              " ['the', 'boy', 'stuck', 'the', 'door', 'the', 'doghouse.'],\n",
              " ['people', 'flip', 'into', 'swimming', 'pool.'],\n",
              " ['woman', 'swim', 'underwater.'],\n",
              " ['man', 'playing', 'guitar.'],\n",
              " ['airplane', 'flying', 'the', 'air.'],\n",
              " ['bear', 'running', 'from', 'two', 'dogs.'],\n",
              " ['woman', 'resting', 'floating', 'raft.'],\n",
              " ['man', 'dieing', 'operating', 'room.'],\n",
              " ['man', 'holding', 'leaf.'],\n",
              " ['person', 'riding', 'horse.'],\n",
              " ['woman', 'slicing', 'octopus.'],\n",
              " ['man', 'breaking', 'water', 'jugs.'],\n",
              " ['man', 'playing', 'guitar.'],\n",
              " ['girl', 'eating', 'cupcake.'],\n",
              " ['the',\n",
              "  'little',\n",
              "  'girl',\n",
              "  'played',\n",
              "  'the',\n",
              "  'grass',\n",
              "  'with',\n",
              "  'dog',\n",
              "  'and',\n",
              "  'ball.'],\n",
              " ['people', 'ride', 'and', 'paddle', 'raft.'],\n",
              " ['the', 'lady', 'cut', 'potatoe.'],\n",
              " ['the', 'missile', 'exploded.'],\n",
              " ['dog', 'playing', 'the', 'snow.'],\n",
              " ['woman', 'dancing', 'with', 'other', 'women.'],\n",
              " ['boy', 'pushing', 'van.'],\n",
              " ['boy', 'making', 'some', 'dance', 'steps.'],\n",
              " ['woman', 'opening', 'soda', 'and', 'drinking', 'it.'],\n",
              " ['man', 'assembling', 'speaker', 'parts.'],\n",
              " ['the', 'dog', 'walked', 'along', 'the', 'edge', 'the', 'pool.'],\n",
              " ['butter', 'being', 'put', 'into', 'bowl.'],\n",
              " ['raccoon', 'are', 'eating.'],\n",
              " ['someone', 'fell', 'off', 'horse.'],\n",
              " ['woman', 'peel', 'apple.'],\n",
              " ['man', 'taking', 'some', 'math', 'classes.'],\n",
              " ['animal', 'are', 'playing', 'water.'],\n",
              " ['man', 'riding', 'horse', 'and', 'jumping', 'over', 'obstacles.'],\n",
              " ['person', 'doing', 'pencil', 'trick', 'with', 'his', 'hand.'],\n",
              " ['the', 'person', 'lit', 'the', 'camera', 'fire.'],\n",
              " ['the', 'man', 'slicing', 'the', 'tape', 'from', 'the', 'box.'],\n",
              " ['man', 'fishing', 'the', 'river.'],\n",
              " ['man', 'riding', 'bike.'],\n",
              " ['man', 'doing', 'push-ups.'],\n",
              " ['man', 'playing', 'guitar.'],\n",
              " ['the', 'little', 'boy', 'singing', 'and', 'playing', 'the', 'guitar.'],\n",
              " ['woman', 'powdering', 'her', 'face.'],\n",
              " ['woman', 'peeling', 'potato.'],\n",
              " ['woman', 'firing', 'rifle.'],\n",
              " ['woman', 'put', 'garland', 'over', \"man's\", 'shoulders.'],\n",
              " ['old', 'woman', 'shaking', 'hand', 'with', 'man.'],\n",
              " ['the', 'woman', 'waterskiing.'],\n",
              " ['tree', 'are', 'bending', 'storm.'],\n",
              " ['man', 'and', 'woman', 'riding', 'car.'],\n",
              " ['man', 'moving', 'tree', 'limb.'],\n",
              " ['man', 'play', 'piano.'],\n",
              " ['person', 'pours', 'oil', 'skillet.'],\n",
              " ['the', 'animal', 'eating.'],\n",
              " ['the', 'woman', 'walking', 'her', 'dog.'],\n",
              " ['group', 'people', 'sing.'],\n",
              " ['the', 'cat', 'drinking', 'milk.'],\n",
              " ['girl', 'making', 'eyelid.'],\n",
              " ['two', 'men', 'are', 'fighting.'],\n",
              " ['the', 'military', 'officer', 'barked', 'the', 'recruits.'],\n",
              " ['the', 'man', 'putting', 'chicken', 'into', 'the', 'container.'],\n",
              " ['man', 'tying', 'stenographer', 'machine.'],\n",
              " ['woman', 'adding', 'pasta', 'pot', 'water.'],\n",
              " ['woman', 'lying', 'blanket', 'rock', 'and', 'reading', 'book.'],\n",
              " ['two', 'puppy', 'are', 'playing', 'with', 'each', 'other.'],\n",
              " ['man', 'running', 'field.'],\n",
              " ['man', 'hugging', 'someone.'],\n",
              " ['someone', 'pouring', 'ingrediants', 'into', 'pot.'],\n",
              " ['couple', 'are', 'walking.'],\n",
              " ['person', 'playing', 'guitar.'],\n",
              " ['person', 'adding', 'food', 'pan.'],\n",
              " ['group', 'penguin', 'walking.'],\n",
              " ['man', 'playing', 'guitar.'],\n",
              " ['dog', 'jumping', 'trampoline.'],\n",
              " ['man', 'shaking', 'container', 'over', 'kitchen', 'sink.'],\n",
              " ['man', 'walking', 'with', 'horse.'],\n",
              " ['paper', 'being', 'cut', 'with', 'scissors.'],\n",
              " ['person', 'peel', 'shrimp.'],\n",
              " ['man', 'playing', 'guitar.'],\n",
              " ['man', 'making', 'bed', 'hotel.'],\n",
              " ['the', 'dog', 'pulled', 'the', 'dog', 'tail', 'and', 'then', 'his', 'leg.'],\n",
              " ['woman', 'beat', 'two', 'egg', 'bowl.'],\n",
              " ['man', 'jumping', 'rope', 'outside.'],\n",
              " ['person', 'slicing', 'some', 'onions.'],\n",
              " ['woman', 'hold', 'kangaroo.'],\n",
              " ['soccer',\n",
              "  'player',\n",
              "  'are',\n",
              "  'kicking',\n",
              "  'soccer',\n",
              "  'ball',\n",
              "  'into',\n",
              "  'the',\n",
              "  'goal.'],\n",
              " ['woman', 'cooking', 'something.'],\n",
              " ['woman', 'swimming', 'the', 'beach.'],\n",
              " ['man', 'carrying', 'another', 'man.'],\n",
              " ['the', 'woman', 'putting', 'paste', 'into', 'dish.'],\n",
              " ['man',\n",
              "  'holding',\n",
              "  'and',\n",
              "  'talking',\n",
              "  'about',\n",
              "  'gray',\n",
              "  'you',\n",
              "  'tube',\n",
              "  't-shirt.'],\n",
              " ['someone', 'pours', 'olive', 'oil', 'into', 'bowl', 'tomato', 'wedges.'],\n",
              " ['man', 'playing', 'the', 'guitar.'],\n",
              " ['someone', 'boiling', 'okra', 'pot.'],\n",
              " ['person', 'peeling', 'potato.'],\n",
              " ['cat', 'jumping', 'into', 'box.'],\n",
              " ['the', 'woman', 'seasoning', 'the', 'oil.'],\n",
              " ['cat', 'sliding', 'upside', 'down', 'under', 'couch.'],\n",
              " ['woman', 'dance', 'while', 'man', 'play', 'the', 'keyboard.'],\n",
              " ['chef', 'cleaning', 'bowl', 'soup.'],\n",
              " ['explosion', 'booming', 'the', 'desert.'],\n",
              " ['woman', 'slice', 'lemon.'],\n",
              " ['overweight', 'man', 'skipping', 'rope.'],\n",
              " ['the', 'lady', 'cracked', 'two', 'raw', 'eggs.'],\n",
              " ['man', 'sharpens', 'pencil', 'using', 'knife.'],\n",
              " ['plastic', 'toy', 'are', 'floating', 'water.'],\n",
              " ['the', 'turtle', 'followed', 'the', 'fish.'],\n",
              " ['the', 'woman', 'pencilling', 'eye', 'shadow.'],\n",
              " ['man', 'tying', 'his', 'shoe.'],\n",
              " ['woman', 'slicing', 'meat', 'with', 'knife.'],\n",
              " ['dog', 'running', 'the', 'ground.'],\n",
              " ['man', 'petting', 'tied', 'dog.'],\n",
              " ['woman',\n",
              "  'walking',\n",
              "  'open',\n",
              "  'ground',\n",
              "  'with',\n",
              "  'pet',\n",
              "  'dog',\n",
              "  'some',\n",
              "  'other',\n",
              "  'dog',\n",
              "  'follow',\n",
              "  'them.'],\n",
              " ['woman', 'mincing', 'some', 'garlic.'],\n",
              " ['two', 'team', 'are', 'playing', 'soccer.'],\n",
              " ['rat', 'like', 'creature', 'smelling', 'around.'],\n",
              " ['two', 'sumo', 'ringer', 'are', 'fighting', 'each', 'other.'],\n",
              " ['man', 'lay', 'the', 'ground', 'and', 'aim', 'rifle.'],\n",
              " ['woman', 'chopping', 'hard', 'egg.'],\n",
              " ['two', 'robot', 'share', 'kiss.'],\n",
              " ['cat', 'trying', 'touch', 'dog.'],\n",
              " ['the', 'rhino', 'grazed', 'the', 'grass.'],\n",
              " ['the',\n",
              "  'man',\n",
              "  'drove',\n",
              "  'his',\n",
              "  'little',\n",
              "  'red',\n",
              "  'car',\n",
              "  'around',\n",
              "  'the',\n",
              "  'traffic.'],\n",
              " ['man', 'cutting', 'bread.'],\n",
              " ['cat', 'rapidly', 'swat', 'kid', 'the', 'head.'],\n",
              " ['cat', 'playing', 'box.'],\n",
              " ['the', 'couple', 'danced', 'the', 'church.'],\n",
              " ['man', 'patting', 'alligator', 'the', 'mouth.'],\n",
              " ['person', 'check', 'some', 'rice', 'pudding.'],\n",
              " ['woman', 'stirring', 'two', 'egg', 'glass', 'bowl.'],\n",
              " ['the', 'man', 'playing', 'the', 'drums.'],\n",
              " ['man', 'slicing', 'pepper.'],\n",
              " ['woman', 'speaking', 'sign', 'language.'],\n",
              " ['boy', 'crawling', 'into', 'dog', 'house.'],\n",
              " ['the', 'girl', 'flew', 'her', 'kite', 'while', 'she', 'ran', 'hill.'],\n",
              " ['woman', 'placing', 'food', 'pot', 'hot', 'water.'],\n",
              " ['small', 'monkey', 'walk', 'through', 'water.'],\n",
              " ['man', 'riding', 'bike.'],\n",
              " ['young', 'man', 'singing', 'and', 'playing', 'the', 'piano.'],\n",
              " ['boy', 'take', 'off', 'his', 'sunglasses.'],\n",
              " ['girl', 'playing', 'piano.'],\n",
              " ['the', 'lady', 'sliced', 'tomatoe.'],\n",
              " ['someone', 'holding', 'hedgehog.'],\n",
              " ['woman', 'peel', 'potato.'],\n",
              " ['cat', 'drinking', 'some', 'water.'],\n",
              " ['person', 'putting', 'salt', 'and', 'pepper', 'piece', 'pork.'],\n",
              " ['the', 'man', 'sat', 'his', 'chair', 'and', 'stared.'],\n",
              " ['woman', 'dicing', 'potato.'],\n",
              " ['baby', 'crawling', 'happily.'],\n",
              " ['person', 'frying', 'meat', 'the', 'pan.'],\n",
              " ['man', 'looking', 'out', 'window.'],\n",
              " ['man', 'seated', 'playing', 'the', 'guitar.'],\n",
              " ['woman', 'slicing', 'onion', 'with', 'knife.'],\n",
              " ['rider', 'running', 'and', 'jumping', 'her', 'horse.'],\n",
              " ['boy', 'playing', 'key-board.'],\n",
              " ['two', 'men', 'are', 'fighting.'],\n",
              " ['man',\n",
              "  'playing',\n",
              "  'wooden',\n",
              "  'flute',\n",
              "  'while',\n",
              "  'several',\n",
              "  'other',\n",
              "  'men',\n",
              "  'play',\n",
              "  'bongo',\n",
              "  'drums.'],\n",
              " ['person', 'petting', 'monkey.'],\n",
              " ['two', 'cartoon', 'rabbit', 'are', 'kissing.'],\n",
              " ['the', 'hedgehog', 'chewed', 'the', 'towel.'],\n",
              " ['cat', 'licking', 'himself.'],\n",
              " ['small',\n",
              "  'guinea',\n",
              "  'pig',\n",
              "  'gnawing',\n",
              "  'and',\n",
              "  'eating',\n",
              "  'piece',\n",
              "  'carrot',\n",
              "  'the',\n",
              "  'floor.'],\n",
              " ['four', 'boy', 'are', 'standing', 'front', 'the', 'burning', 'car.'],\n",
              " ['man', 'smoking.'],\n",
              " ['woman', 'adding', 'sauce', 'some', 'food.'],\n",
              " ['three', 'child', 'are', 'eating', 'their', 'food.'],\n",
              " ['submarine', 'going', 'through', 'water.'],\n",
              " ['man', 'running', 'street.'],\n",
              " ['person', 'slicing', 'onion.'],\n",
              " ['badger', 'digging', 'the', 'dirt.'],\n",
              " ['woman', 'slicing', 'big', 'pepper.'],\n",
              " ['man', 'riding', 'bicycle.'],\n",
              " ['man', 'and', 'woman', 'are', 'kissing', 'each', 'other.'],\n",
              " ['woman', 'slicing', 'onion.'],\n",
              " ['small', 'boy', 'playing', 'with', 'dog.'],\n",
              " ['the', 'man', 'drawing.'],\n",
              " ['man', 'cutting', 'potato.'],\n",
              " ['boy', 'playing', 'guitar.'],\n",
              " ['woman', 'cutting', 'onion.'],\n",
              " ['toy', 'train', 'striking', 'toy', 'car.'],\n",
              " ['man', 'playing', 'the', 'guitar.'],\n",
              " ['cat', 'open', 'drawer', 'and', 'climb', 'inside.'],\n",
              " ['woman', 'frying', 'food.'],\n",
              " ['man', 'dicing', 'onion.'],\n",
              " ['girl', 'playing', 'guitar.'],\n",
              " ['girl', 'singing', 'stage.'],\n",
              " ['woman', 'riding', 'horse.'],\n",
              " ['girl', 'playing', 'guitar.'],\n",
              " ['woman', 'brushing', 'some', 'shrimp.'],\n",
              " ['man', 'dancing', 'the', 'ceiling.'],\n",
              " ['woman', 'thinly', 'slice', 'onion', 'with', 'large', 'knife.'],\n",
              " ['man', 'playing', 'keyboard.'],\n",
              " ['man', 'play', 'the', 'guitar.'],\n",
              " ['woman', 'peeling', 'potato.'],\n",
              " ['woman', 'handling', 'frog.'],\n",
              " ['man', 'playing', 'flute.'],\n",
              " ['man', 'playing', 'guitar.'],\n",
              " ['man', 'playing', 'piano.'],\n",
              " ['man', 'playing', 'guitar.'],\n",
              " ['man', 'playing', 'flute.'],\n",
              " ['man', 'playing', 'flute.'],\n",
              " ['two', 'woman', 'are', 'couch.'],\n",
              " ['someone', 'slicing', 'cucumber.'],\n",
              " ['kitten', 'playing', 'with', 'blue', 'rope', 'toy.'],\n",
              " ['the', 'dog', 'barking', 'the', 'toy.'],\n",
              " ['person', 'fold', 'tortilla.'],\n",
              " ['cat', 'drinking', 'milk.'],\n",
              " ['person', 'driving', 'car.'],\n",
              " ['turtle', 'walking.'],\n",
              " ['cow', 'eating', 'grass.'],\n",
              " ['woman', 'chopping', 'broccoli.'],\n",
              " ['man', 'crying.'],\n",
              " ['the', 'man', 'playing', 'the', 'guitar.'],\n",
              " ['man', 'cutting', 'onion.'],\n",
              " ['man', 'slicing', 'potato.'],\n",
              " ['woman', 'tapping', 'her', 'finger', 'table.'],\n",
              " ['someone', 'boiling', 'okra', 'pot.'],\n",
              " ['man', 'smoking.'],\n",
              " ['the', 'man', 'playing', 'the', 'drums.'],\n",
              " ['man', 'dive', 'into', 'pool.'],\n",
              " ['woman', 'cutting', 'leak.'],\n",
              " ['little', 'boy', 'playing', 'guitar.'],\n",
              " ['woman', 'dancing.'],\n",
              " ['woman', 'are', 'talking.'],\n",
              " ['girl', 'putting', 'gel', 'her', 'hair.'],\n",
              " ['kid', 'playing', 'guitar.'],\n",
              " ['group', 'people', 'are', 'marching', 'place.'],\n",
              " ['the', 'woman', 'shooting', 'machine', 'gun.'],\n",
              " ['man', 'played', 'the', 'piano.'],\n",
              " ['woman', 'slicing', 'onion.'],\n",
              " ['man', 'slicing', 'cucumber.'],\n",
              " ['girl', 'eating', 'cupcake.'],\n",
              " ['woman', 'cutting', 'onion.'],\n",
              " ['the', 'man', 'playing', 'guitar.'],\n",
              " ['man', 'playing', 'the', 'guitar.'],\n",
              " ['two', 'little', 'girl', 'talk', 'the', 'telephone.'],\n",
              " ['man', 'chopping', 'log', 'with', 'axe.'],\n",
              " ['person', 'cutting', 'capsicum', 'into', 'pieces.'],\n",
              " ['man', 'talking', 'with', 'woman.'],\n",
              " ['the', 'man', 'walking.'],\n",
              " ['someone', 'pouring', 'oil', 'into', 'skillet.'],\n",
              " ['small', 'kitten', 'playing', 'ball.'],\n",
              " ['man', 'playing', 'guitar.'],\n",
              " ['girl', 'playing', 'violin.'],\n",
              " ['man', 'playing', 'two', 'pianos.'],\n",
              " ['man', 'exercising.'],\n",
              " ['person', 'slicing', 'scallop.'],\n",
              " ['man', 'and', 'woman', 'are', 'riding', 'their', 'bicycles.'],\n",
              " ['two', 'men', 'are', 'fighting', 'cow', 'pasture.'],\n",
              " ['woman', 'adding', 'oil', 'pan.'],\n",
              " ['girl', 'make', 'her', 'bed.'],\n",
              " ['the', 'cat', 'played', 'with', 'watermelon.'],\n",
              " ['girl', 'jump', 'car.'],\n",
              " ['man', 'praying.'],\n",
              " ['car', 'parking.'],\n",
              " ['man', 'running.'],\n",
              " ['man', 'singing.'],\n",
              " ['man', 'carrying', 'another', 'man', 'over', 'his', 'shoulder.'],\n",
              " ['woman', 'peeling', 'potato.'],\n",
              " ['woman', 'cutting', 'tomato.'],\n",
              " ['someone', 'peeling', 'potato.'],\n",
              " ['woman', 'peeling', 'potato.'],\n",
              " ['two', 'robot', 'kiss.'],\n",
              " ['two', 'boy', 'couch', 'are', 'playing', 'video', 'games.'],\n",
              " ['woman', 'squeezing', 'lemon.'],\n",
              " ['woman', 'slicing', 'onion.'],\n",
              " ['woman', 'slicing', 'carrot.'],\n",
              " ['girl', 'styling', 'her', 'hair.'],\n",
              " ['man', 'walking', 'down', 'the', 'stairs.'],\n",
              " ['two', 'people', 'are', 'riding', 'motorcycle.'],\n",
              " ['man', 'playing', 'guitar.'],\n",
              " ['man', 'playing', 'guitar', 'and', 'singing.'],\n",
              " ['man', 'walking', 'the', 'rain.'],\n",
              " ['kangaroo', 'eating.'],\n",
              " ['man', 'fishing.'],\n",
              " ['woman', 'swimming.'],\n",
              " ['woman', 'eating.'],\n",
              " ['boy', 'and', 'girl', 'dancing', 'the', 'rain.'],\n",
              " ['man', 'driving', 'car.'],\n",
              " ['woman', 'grating', 'onion.'],\n",
              " ['two', 'rooster', 'are', 'fighting.'],\n",
              " ['man', 'riding', 'horse.'],\n",
              " ['man', 'riding', 'horse.'],\n",
              " ['man', 'shooting', 'gun.'],\n",
              " ['woman', 'cutting', 'onion.'],\n",
              " ['the', 'woman', 'slicing', 'herbs.'],\n",
              " ['boy', 'playing', 'the', 'piano.'],\n",
              " ['baby', 'elephant', 'eating.'],\n",
              " ['woman', 'cracking', 'egg', 'into', 'bowl.'],\n",
              " ['person', 'playing', 'the', 'keyboard.'],\n",
              " ['boy', 'whack', 'man', 'with', 'sword.'],\n",
              " ['person', 'slicing', 'carrot', 'into', 'pieces.'],\n",
              " ['man', 'sliced', 'through', 'bunch', 'water', 'bottle', 'with', 'knife.'],\n",
              " ['man', 'writing', 'book.'],\n",
              " ['woman', 'slicing', 'garlic.'],\n",
              " ['person', 'making', 'bed.'],\n",
              " ['man', 'playing', 'keyboard.'],\n",
              " ['man', 'playing', 'violin.'],\n",
              " ['the', 'woman', 'smoking.'],\n",
              " ['the',\n",
              "  'man',\n",
              "  'erased',\n",
              "  'what',\n",
              "  'the',\n",
              "  'other',\n",
              "  'man',\n",
              "  'had',\n",
              "  'the',\n",
              "  'board.'],\n",
              " ['man', 'riding', 'motorcycle.'],\n",
              " ['man', 'riding', 'motorcycle', 'the', 'highway.'],\n",
              " ['woman', 'slicing', 'some', 'meat.'],\n",
              " ['woman', 'cut', 'broccoli.'],\n",
              " ['man', 'playing', 'piano.'],\n",
              " ['someone', 'slicing', 'tomato.'],\n",
              " ['woman', 'dancing', 'cage.'],\n",
              " ['woman', 'swimming.'],\n",
              " ['man', 'running.'],\n",
              " ['the', 'man', 'playing', 'the', 'guitar.'],\n",
              " ['cat', 'stare', 'into', 'the', 'camera.'],\n",
              " ['the', 'baby', 'laughing', 'and', 'crawling.'],\n",
              " ['woman', 'shooting', 'gun.'],\n",
              " ['woman', 'dancing', 'the', 'rain.'],\n",
              " ['woman', 'dancing.'],\n",
              " ['kid', 'playing', 'instrument.'],\n",
              " ['someone', 'slice', 'bottle', 'with', 'sword.'],\n",
              " ['woman', 'cutting', 'apple.'],\n",
              " ['the', 'man', 'peeling', 'apple.'],\n",
              " ['the', 'man', 'playing', 'the', 'guitar.'],\n",
              " ['animal', 'walking', 'the', 'ground.'],\n",
              " ['little', 'girl', 'playing', 'grand', 'piano', 'stage.'],\n",
              " ['group', 'people', 'dancing'],\n",
              " ['man', 'play', 'guitar.'],\n",
              " ['cat', 'swing', 'ceiling', 'fan.'],\n",
              " ['woman', 'playing', 'the', 'flute.'],\n",
              " ['the', 'woman', 'dicing', 'onions.'],\n",
              " ['monkey', 'brushing', 'bull', 'dog.'],\n",
              " ['woman', 'slicing', 'onion.'],\n",
              " ['man', 'playing', 'the', 'piano.'],\n",
              " ['woman', 'washing', 'her', 'hands.'],\n",
              " ['woman', 'fire', 'shotgun.'],\n",
              " ['man', 'eating', 'bowl', 'cereal.'],\n",
              " ['woman', 'bathing', 'into', 'bath-tub.'],\n",
              " ['motorcyclist', 'crash', 'his', 'motorcycle.'],\n",
              " ['man', 'dangling', 'mouse', 'near', 'snake.'],\n",
              " ['man', 'and', 'woman', 'are', 'walking', 'the', 'woods.'],\n",
              " ['person', 'pours', 'some', 'rice', 'pudding', 'into', 'bowl.'],\n",
              " ['man', 'stare', 'out', 'window.'],\n",
              " ['woman', 'firing', 'rifle.'],\n",
              " ['man', 'eating', 'banana.'],\n",
              " ['the', 'men', 'are', 'performing', 'stage.'],\n",
              " ['cartoon', 'woman', 'dive', 'into', 'pool.'],\n",
              " ['the', 'lady', 'put', 'the', 'baby', 'int', 'trashcan.'],\n",
              " ['someone', 'frying', 'meat.'],\n",
              " ['man', 'rapidly', 'chopping', 'some', 'mushroom', 'using', 'knife.'],\n",
              " ['woman', 'adding', 'ingredient', 'bowl.'],\n",
              " ['skateboarder', 'doe', 'trick', 'half-pipe.'],\n",
              " ['man', 'speaking', 'stage.'],\n",
              " ['man', 'playing', 'guitar.'],\n",
              " ['man', 'playing', 'his', 'keyboard.'],\n",
              " ['person', 'cutting', 'potato.'],\n",
              " ['man', 'dancing', 'the', 'ceiling', 'room.'],\n",
              " ['two', 'men', 'are', 'dancing.'],\n",
              " ['someone', 'seasoning', 'eggs.'],\n",
              " ['man', 'swinging', 'rope.'],\n",
              " ['man', 'cutting', 'tomatoes.'],\n",
              " ['woman', 'boiling', 'shrimp.'],\n",
              " ['man', 'cut', 'potato.'],\n",
              " ['man', 'dancing', 'the', 'road.'],\n",
              " ['the', 'deer', 'jumped', 'over', 'the', 'fence.'],\n",
              " ['girl', 'dance', 'the', 'rain.'],\n",
              " ['woman', 'writing', 'letter.'],\n",
              " ['gorilla', 'playing', 'the', 'drums.'],\n",
              " ['woman', 'riding', 'horse.'],\n",
              " ['the', 'boy', 'cut', 'the', 'grass', 'the', 'curb', 'with', 'scissors.'],\n",
              " ['man', 'with', 'glass', 'talking.'],\n",
              " ['woman', 'cutting', 'some', 'flowers.'],\n",
              " ['person', 'walking', 'down', 'stone', 'path.'],\n",
              " ['man', 'play', 'the', 'keyboard', 'with', 'his', 'nose.'],\n",
              " ['man', 'playing', 'guitar.'],\n",
              " ['animal', 'eating.'],\n",
              " ['man', 'lifting', 'weights.'],\n",
              " ['man', 'running', 'with', 'bus.'],\n",
              " ['man', 'climbing', 'rope.'],\n",
              " ['cat', 'playing', 'the', 'piano.'],\n",
              " ['woman', 'dancing', 'the', 'rain.'],\n",
              " ['men', 'are', 'running', 'race.'],\n",
              " ['man', 'cutting', 'tomato', 'into', 'pieces.'],\n",
              " ['man', 'playing', 'flute.'],\n",
              " ['woman', 'cutting', 'potatoes.'],\n",
              " ['chicken', 'pecking', 'dead', 'mouse.'],\n",
              " ['the', 'woman', 'thinly', 'slicing', 'cucumber.'],\n",
              " ['person', 'slicing', 'bread', 'pieces.'],\n",
              " ['woman', 'cutting', 'squash.'],\n",
              " ['woman', 'adding', 'oil', 'fishes.'],\n",
              " ['woman', 'grating', 'carrots.'],\n",
              " ['someone', 'cleaning', 'animal.'],\n",
              " ['man', 'talking', 'the', 'phone.'],\n",
              " ['woman', 'smoking.'],\n",
              " ['man', 'laying', 'down', 'and', 'shooting', 'gun'],\n",
              " ['man', 'being', 'put', 'into', 'abulance.'],\n",
              " ['man', 'diving', 'into', 'swimming', 'pool.'],\n",
              " ['man', 'firing', 'shot', 'gun.'],\n",
              " ['man', 'playing', 'the', 'guitar.'],\n",
              " ['man', 'peeling', 'potato.'],\n",
              " ['the', 'woman', 'riding', 'horse.'],\n",
              " ['airplane', 'move', 'along', 'runway.'],\n",
              " ['woman', 'slipping', 'the', 'water-tub.'],\n",
              " ['man', 'mowing', 'lawn.'],\n",
              " ['woman', 'peeling', 'potato.'],\n",
              " ['man', 'playing', 'piano.'],\n",
              " ['woman', 'doing', 'ballet.'],\n",
              " ['woman', 'cutting', 'onion.'],\n",
              " ['woman', 'stirring', 'rice', 'pot.'],\n",
              " ['woman', 'put', 'slab', 'meat', 'pan.'],\n",
              " ['the', 'boy', 'played', 'his', 'trumpet.'],\n",
              " ['person', 'riding', 'horse.'],\n",
              " ['woman', 'slicing', 'onion.'],\n",
              " ['man', 'slicing', 'vegetables.'],\n",
              " ['cat', 'playing.'],\n",
              " ['man', 'riding', 'bicycle.'],\n",
              " ['band', 'performing', 'stage.'],\n",
              " ['the', 'woman', 'slicing', 'fish', 'cake.'],\n",
              " ['man', 'eating', 'bread.'],\n",
              " ['woman', 'cooking', 'shrimp.'],\n",
              " ['woman', 'dancing.'],\n",
              " ['big', 'turtle', 'walking.'],\n",
              " ['man', 'burning', 'flag.'],\n",
              " ['the', 'man', 'pushing', 'the', 'van.'],\n",
              " ['man', 'eating', 'wood.'],\n",
              " ['dog', 'speaking', 'the', 'camera.'],\n",
              " ['man', 'putting', 'two', 'paper', 'towel', 'paper', 'plate.'],\n",
              " ['man', 'and', 'woman', 'are', 'walking.'],\n",
              " ['man', 'cutting', 'rope', 'with', 'sword.'],\n",
              " ['the', 'man', 'singing', 'and', 'playing', 'the', 'guitar.'],\n",
              " ['man', 'cutting', 'paper.'],\n",
              " ['man', 'dancing.'],\n",
              " ['two', 'boy', 'are', 'talking', 'the', 'phone.'],\n",
              " ['man', 'playing', 'guitar.'],\n",
              " ['woman', 'slicing', 'onion.'],\n",
              " ['woman', 'riding', 'horse.'],\n",
              " ['man', 'playing', 'soccer.'],\n",
              " ['woman', 'peeling', 'orange.'],\n",
              " ['someone', 'cracking', 'egg', 'open.'],\n",
              " ['man', 'cutting', 'snake', 'cook.'],\n",
              " ['woman', 'scraping', 'carrot.'],\n",
              " ['man', 'and', 'woman', 'are', 'bollywood', 'dancing.'],\n",
              " ['woman', 'cutting', 'flowers.'],\n",
              " ['the', 'man', 'danced', 'the', 'diner.'],\n",
              " ['american', 'flag', 'waving.'],\n",
              " ['lion', 'walking', 'enclosed', 'area.'],\n",
              " ['woman', 'slicing', 'lemon.'],\n",
              " ['woman', 'playing', 'the', 'flute.'],\n",
              " ['the', 'dog', 'barking', 'the', 'toy.'],\n",
              " ['woman', 'adding', 'egg', 'and', 'stirring.'],\n",
              " ['woman', 'cover', 'piece', 'meat', 'with', 'flour.'],\n",
              " ['man', 'doe', 'floor', 'exercises.'],\n",
              " ['man', 'slicing', 'potatoe.'],\n",
              " ['someone', 'playing', 'piano.'],\n",
              " ['the', 'woman', 'putting', 'makeup', 'the', 'man.'],\n",
              " ['the', 'woman', 'droppped', 'eggplant', 'into', 'the', 'pan.'],\n",
              " ['man', 'play', 'trumpet.'],\n",
              " ['tiger', 'try', 'climb', 'the', 'wall.'],\n",
              " ['man', 'preparing', 'hanging', 'rope.'],\n",
              " ['woman', 'dance', 'stage.'],\n",
              " ['the', 'girl', 'riding', 'the', 'horse.'],\n",
              " ['person', 'frying.'],\n",
              " ['man', 'shooting', 'pistol.'],\n",
              " ['woman', 'swinging', 'her', 'arms.'],\n",
              " ['man', 'walking', 'outside.'],\n",
              " ['man', 'dry', 'his', 'hands.'],\n",
              " ['soccer',\n",
              "  'player',\n",
              "  'kicking',\n",
              "  'the',\n",
              "  'soccer',\n",
              "  'ball',\n",
              "  'into',\n",
              "  'the',\n",
              "  'goal',\n",
              "  'from',\n",
              "  'long',\n",
              "  'way',\n",
              "  'down',\n",
              "  'the',\n",
              "  'field.'],\n",
              " ['girl', 'playing', 'the', 'piano.'],\n",
              " ['man', 'drawing', 'some', 'figures.'],\n",
              " ['the', 'monkey', 'hanging', 'from', 'the', 'trees.'],\n",
              " ['some', 'child', 'are', 'jumping', 'trampoline.'],\n",
              " ['woman', 'with', 'knife', 'slicing', 'pepper.'],\n",
              " ['man', 'adding', 'oil', 'car.'],\n",
              " ['man', 'slicing', 'carrot', 'machine.'],\n",
              " ['boy', 'played', 'keyboard.'],\n",
              " ['cat', 'playing', 'with', 'antenna.'],\n",
              " ['woman', 'slicing', 'pumpkin.'],\n",
              " ['the', 'people', 'threw', 'the', 'dummy', 'over', 'the', 'cliff', 'edge.'],\n",
              " ['gun', 'being', 'fired.'],\n",
              " ['woman', 'cutting', 'plastic', 'sheet.'],\n",
              " ['woman', 'cut', 'pineapple.'],\n",
              " ['woman', 'adding', 'spice', 'meat.'],\n",
              " ['person', 'adding', 'oil', 'the', 'pan.'],\n",
              " ['cook', 'season', 'some', 'dough.'],\n",
              " ['boy', 'running', 'beach.'],\n",
              " ['baby', 'monkey', 'scratch', 'itself.'],\n",
              " ['boy', 'riding', 'bike', 'gate.'],\n",
              " ['man', 'doing', 'card', 'trick.'],\n",
              " ['man', 'playing', 'the', 'piano.'],\n",
              " ['man', 'mowing', 'grass.'],\n",
              " ['person', 'mixing', 'water', 'and', 'flour.'],\n",
              " ['the', 'two', 'dog', 'were', 'the', 'pen.'],\n",
              " ['man', 'riding', 'one', 'wheel', 'motorcycle.'],\n",
              " ['cat', 'open', 'drawer', 'and', 'climb', 'inside.'],\n",
              " ['man', 'opening', 'box', 'using', 'knife.'],\n",
              " ['man', 'kicking', 'oots', 'water.'],\n",
              " ['man', 'eating.'],\n",
              " ['puppy', 'repeatedly', 'rolling', 'from', 'side', 'side', 'while', 'back.'],\n",
              " ['young', 'boy', 'sings', 'and', 'play', 'guitar.'],\n",
              " ['the', 'woman', 'peeling', 'lemon.'],\n",
              " ['man', 'playing', 'the', 'trumpet.'],\n",
              " ['dog', 'looking', 'around'],\n",
              " ['woman', 'slicing', 'onion.'],\n",
              " ['the', 'man', 'drilled', 'hole', 'into', 'the', 'wood.'],\n",
              " ['someone', 'cutting', 'circle', 'out', 'pink', 'sheet', 'paper.'],\n",
              " ['man', 'playing', 'flute.'],\n",
              " ['man', 'placing', 'meat', 'bag.'],\n",
              " ['girl', 'eating', 'cupcake.'],\n",
              " ['rabbit', 'sniffing', 'and', 'pawing', 'stuffed', 'rabbit.'],\n",
              " ['man', 'buttering', 'bread.'],\n",
              " ['woman', 'squeezing', 'some', 'cucumber', 'slices.'],\n",
              " ['man', 'taking', 'out', 'the', 'inside', 'green', 'pepper.'],\n",
              " ['man',\n",
              "  'take',\n",
              "  'piece',\n",
              "  'pepperoni',\n",
              "  'pizza',\n",
              "  'out',\n",
              "  'pizza',\n",
              "  'box',\n",
              "  'and',\n",
              "  'put',\n",
              "  'the',\n",
              "  'lid',\n",
              "  'after',\n",
              "  'close',\n",
              "  'the',\n",
              "  'box.'],\n",
              " ['the', 'man', 'added', 'vegetable', 'the', 'broth', 'the', 'pot.'],\n",
              " ['the', 'man', 'ran', 'and', 'jumped', 'against', 'the', 'wall.'],\n",
              " ['the', 'man', 'seasoning', 'the', 'sausages.'],\n",
              " ['clown', 'singing', 'and', 'people', 'are', 'dancing.'],\n",
              " ['woman', 'feeding', 'aardvark.'],\n",
              " ['person', 'rinsing', 'steak', 'off', 'with', 'water.'],\n",
              " ['boy', 'rode', 'his', 'bike', 'top', 'metal', 'fence.'],\n",
              " ['man', 'throwing', 'knife', 'tree.'],\n",
              " ['girl', 'are', 'walking', 'the', 'stage.'],\n",
              " ['woman', 'doing', 'weight', 'exercises.'],\n",
              " ['man', 'peeling', 'potato.'],\n",
              " ['large',\n",
              "  'bird',\n",
              "  'standing',\n",
              "  'table',\n",
              "  'pick',\n",
              "  'plastic',\n",
              "  'glass',\n",
              "  'containing',\n",
              "  'liquid',\n",
              "  'and',\n",
              "  'place',\n",
              "  'bowl',\n",
              "  'something.'],\n",
              " ['woman', 'the', 'rain.'],\n",
              " ['woman', 'hitting', 'man.'],\n",
              " ['woman', 'riding', 'elephant.'],\n",
              " ['man', 'lifting', 'weights.'],\n",
              " ['person', 'riding', 'jetski', 'the', 'waves.'],\n",
              " ['woman', 'wearing', 'headphones.'],\n",
              " ['kitten', 'eating', 'food', 'from', 'plate.'],\n",
              " ['woman', 'reading', 'lifestyle', 'magazine.'],\n",
              " ['man', 'pouring', 'chili', 'into', 'bowl.'],\n",
              " ['the', 'bird', 'ate', 'the', 'food', 'the', 'tree', 'from', 'bowl.'],\n",
              " ['group', 'girl', 'are', 'exiting', 'taxi.'],\n",
              " ['woman', 'seasoning', 'piece', 'meat.'],\n",
              " ['man', 'chopping', 'coriander', 'leaf.'],\n",
              " ['man', 'take', 'slice', 'pizza.'],\n",
              " ['man', 'placing', 'meat', 'inside', 'plastic', 'bag.'],\n",
              " ['rabbi', 'talking.'],\n",
              " ['man', 'ride', 'horse.'],\n",
              " ['man', 'playing', 'guitar.'],\n",
              " ['man', 'slicing', 'bun.'],\n",
              " ['man', 'driving', 'car.'],\n",
              " ['dog', 'pawing', 'fly', 'the', 'carpet', 'before', 'it.'],\n",
              " ['dog', 'barking.'],\n",
              " ['monkey', 'walking', 'bed.'],\n",
              " ['woman', 'cooking', 'broccoli.'],\n",
              " ['man', 'frying', 'tortilla.'],\n",
              " ['woman', 'serving', 'volleyball', 'over', 'net.'],\n",
              " ['man', 'slicing', 'cucumber', 'with', 'knife.'],\n",
              " ['man', 'playing', 'electronic', 'keyboard.'],\n",
              " ['man', 'playing', 'violin.'],\n",
              " ['man',\n",
              "  'severs',\n",
              "  'the',\n",
              "  'toe',\n",
              "  'empty',\n",
              "  'leather',\n",
              "  'boot',\n",
              "  'using',\n",
              "  'sword.'],\n",
              " ['the', 'person', 'removing', 'the', 'scale', 'from', 'the', 'fish.'],\n",
              " ['people', 'are', 'walking', 'the', 'garden.'],\n",
              " ['young', 'child', 'ride', 'horse.'],\n",
              " ['person', 'cutting', 'garlic', 'into', 'piece', 'with', 'knife.'],\n",
              " ['man', 'folding', 'piece', 'paper.'],\n",
              " ['the', 'man', 'pushed', 'into', 'the', 'water.'],\n",
              " ['boy', 'upset', 'playing', 'video', 'games.'],\n",
              " ['man', 'make', 'call', 'cell', 'phone.'],\n",
              " ['man', 'speaking', 'phone.'],\n",
              " ['woman', 'applying', 'cosmetic', 'her', 'face.'],\n",
              " ['the', 'man', 'lifted', 'barbells.'],\n",
              " ['woman', 'feed', 'animal', 'hand.'],\n",
              " ['several', 'ferret', 'climb', 'out', 'their', 'cage.'],\n",
              " ['young', 'woman', 'playing', 'the', 'flute.'],\n",
              " ['woman', 'shoot', 'shotgun.'],\n",
              " ['person', 'adding', 'chili', 'powder', 'chili', 'with', 'beans.'],\n",
              " ['woman', 'rapidly', 'fire', 'handgun.'],\n",
              " ['person', 'slicing', 'onion.'],\n",
              " ['dog', 'opening', 'fridge.'],\n",
              " ['woman', 'holding', 'dancing', 'baby', 'up.'],\n",
              " ['woman', 'doing', 'joker', 'make', 'man.'],\n",
              " ['the', 'lady', 'added', 'cheese', 'the', 'sauce.'],\n",
              " ['man', 'giving', 'lecture', 'podium.'],\n",
              " ['the', 'cat', 'shimmied', 'under', 'the', 'bed.'],\n",
              " ['woman', 'chopping', 'garlic.'],\n",
              " ['man', 'cutting', 'grass.'],\n",
              " ['man', 'cutting', 'grass.'],\n",
              " ['boy', 'run', 'away', 'from', 'his', 'fishing', 'line.'],\n",
              " ['the', 'man', 'played', 'haki', 'sak', 'the', 'office.'],\n",
              " ['man', 'carrying', 'another', 'man', 'his', 'back.'],\n",
              " ['meat', 'dropped', 'into', 'pan.'],\n",
              " ['woman', 'cutting', 'scallions.'],\n",
              " ['man', 'slam', 'dunking', 'ball.'],\n",
              " ['machine', 'sharpening', 'pencil.'],\n",
              " ['woman', 'brushing', 'her', 'feet.'],\n",
              " ['man', 'cleaning', 'the', 'windows.'],\n",
              " ['person', 'stirring', 'rice.'],\n",
              " ['man', 'put', 'knife', 'vice.'],\n",
              " ['boy', 'play', 'violin', 'stage.'],\n",
              " ['woman', 'cut', 'pink', 'loaf', 'with', 'knife.'],\n",
              " ['man', 'adding', 'pork', 'chop', 'pan.'],\n",
              " ['the', 'men', 'are', 'fighting', 'each', 'other.'],\n",
              " ['man', 'catching', 'ball.'],\n",
              " ['girl', 'reading', 'newspaper.'],\n",
              " ['slow', 'loris', 'bite', 'person', 'fingers.'],\n",
              " ['man', 'walking', 'along', 'path', 'through', 'wilderness.'],\n",
              " ['the', 'man', 'played', 'his', 'guitar.'],\n",
              " ['some', 'men', 'are', 'skating', 'the', 'road.'],\n",
              " ['man', 'pours', 'liquid', 'into', 'pan.'],\n",
              " ['boy', 'playing', 'piano', 'and', 'singing.'],\n",
              " ['cat', 'and', 'ferret', 'are', 'playing.'],\n",
              " ['monkey', 'walking', 'through', 'the', 'water.'],\n",
              " ['woman', 'putting', 'makeup.'],\n",
              " ['dog', 'driving', 'car.'],\n",
              " ['the', 'man', 'sang', 'stage', 'into', 'the', 'microphone.'],\n",
              " ['car', 'back', 'out', 'space.'],\n",
              " ['man', 'holding', 'frog.'],\n",
              " ['man', 'traveling', 'boat.'],\n",
              " ['the', 'man', 'rode', 'his', 'motorcycle', 'down', 'the', 'highway.'],\n",
              " ['man', 'dicing', 'onion.'],\n",
              " ['man', 'performs', 'stage.'],\n",
              " ['the', 'woman', 'are', 'sitiing', 'down.'],\n",
              " ['man',\n",
              "  'remove',\n",
              "  'couple',\n",
              "  'toaster',\n",
              "  'scramble',\n",
              "  'from',\n",
              "  'plastic',\n",
              "  'packet.'],\n",
              " ['woman', 'dancing', 'fire.'],\n",
              " ['man', 'meditating.'],\n",
              " ['boy', 'cutting', 'paper.'],\n",
              " ['the', 'man', 'talked', 'the', 'telephone.'],\n",
              " ['man', 'playing', 'the', 'guitar', 'and', 'singing.'],\n",
              " ['the',\n",
              "  'soccer',\n",
              "  'player',\n",
              "  'kicked',\n",
              "  'the',\n",
              "  'ball',\n",
              "  'side',\n",
              "  'side',\n",
              "  'between',\n",
              "  'his',\n",
              "  'legs.'],\n",
              " ['animal', 'walking.'],\n",
              " ['someone', 'scratching', 'animal', 'belly.'],\n",
              " ['man', 'lifting', 'heavy', 'weights.'],\n",
              " ['boy', 'playing', 'with', 'toy.'],\n",
              " ['man', 'dive', 'off', 'cliff.'],\n",
              " ['man', 'coming', 'out', 'into', 'the', 'water.'],\n",
              " ['man', 'and', 'woman', 'dance.'],\n",
              " ['man', 'sweeping', 'the', 'floor', 'house', 'using', 'long', 'broom.'],\n",
              " ['group', 'couple', 'are', 'dancing.'],\n",
              " ['man', 'scaling', 'fish.'],\n",
              " ['the',\n",
              "  'man',\n",
              "  'set',\n",
              "  'his',\n",
              "  'camera',\n",
              "  'take',\n",
              "  'sunset',\n",
              "  'picture',\n",
              "  'the',\n",
              "  'beach.'],\n",
              " ['someone', 'holding', 'and', 'petting', 'baby', 'tiger.'],\n",
              " ['the', 'man', 'playing', 'the', 'guitar.'],\n",
              " ['the', 'man', 'did', 'pushup', 'wall.'],\n",
              " ['woman', 'cut', 'vegetable.'],\n",
              " ['person', 'break', 'egg', 'into', 'small', 'bowl.'],\n",
              " ['man', 'playing', 'keyboards.'],\n",
              " ['dog', 'running', 'around', 'yard.'],\n",
              " ['child', 'walking', 'down', 'the', 'street', 'jeep', 'pull', 'up.'],\n",
              " ['man', 'adding', 'oil', 'pot.'],\n",
              " ['the', 'girl', 'danced', 'front', 'the', 'bonfire.'],\n",
              " ['man', 'chopping', 'butter', 'into', 'container.'],\n",
              " ['girl', 'dragged', 'downhill', 'dog.'],\n",
              " ['the', 'man', 'took', 'off', 'his', 'sunglass', 'while', 'talking.'],\n",
              " ['the',\n",
              "  'two',\n",
              "  'men',\n",
              "  'did',\n",
              "  'funny',\n",
              "  'skit',\n",
              "  'with',\n",
              "  'boxer',\n",
              "  'front',\n",
              "  'crowd',\n",
              "  'people.'],\n",
              " ['the', 'girl', 'tiding', 'her', 'bed.'],\n",
              " ['someoen', 'cooking', 'onions.'],\n",
              " ['the',\n",
              "  'man',\n",
              "  'using',\n",
              "  'sledghammer',\n",
              "  'break',\n",
              "  'the',\n",
              "  'concrete',\n",
              "  'block',\n",
              "  'that',\n",
              "  'the',\n",
              "  'other',\n",
              "  'man.'],\n",
              " ['the',\n",
              "  'lady',\n",
              "  'put',\n",
              "  'the',\n",
              "  'dried',\n",
              "  'noodle',\n",
              "  'the',\n",
              "  'hot',\n",
              "  'water',\n",
              "  'cook.'],\n",
              " ['the', 'girl', 'danced', 'the', 'stage.'],\n",
              " ['panda', 'bear', 'laying', 'down.'],\n",
              " ['two',\n",
              "  'kid',\n",
              "  'are',\n",
              "  'playing',\n",
              "  'swimming',\n",
              "  'pool',\n",
              "  'with',\n",
              "  'green',\n",
              "  'colored',\n",
              "  'crocodile',\n",
              "  'float.'],\n",
              " ['couple', 'policewoman', 'are', 'singing', 'karaoke.'],\n",
              " ['man', 'putting', 'broccoli', 'into', 'water.'],\n",
              " ['the', 'doctor', 'helping', 'the', 'patient.'],\n",
              " ['some', 'grating', 'onion', 'into', 'water.'],\n",
              " ['baby', 'talking.'],\n",
              " ['woman', 'boil', 'eggs.'],\n",
              " ['woman', 'put', 'ingredient', 'whisked', 'egg.'],\n",
              " ['woman', 'slicing', 'mango.'],\n",
              " ['girl', 'slicing', 'butter', 'into', 'two', 'pieces.'],\n",
              " ['man', 'playing', 'the', 'guitar.'],\n",
              " ['man', 'opening', 'package', 'containing', 'headphones.'],\n",
              " ['girl', 'playing', 'guitar.'],\n",
              " ['little', 'girl', 'play', 'the', 'violin', 'beach.'],\n",
              " ['monkey', 'karate', 'kicking', \"someone's\", 'gloved', 'hand.'],\n",
              " ['female', 'applies', 'something', 'hair', 'with', 'her', 'hands.'],\n",
              " ['man',\n",
              "  'karate',\n",
              "  'kicking',\n",
              "  'another',\n",
              "  'man',\n",
              "  'wearing',\n",
              "  'protective',\n",
              "  'boxing',\n",
              "  'gloves.'],\n",
              " ['the', 'man', 'playing', 'the', 'wooden', 'flute.'],\n",
              " ['young', 'woman', 'playing', 'guitar.'],\n",
              " ['the', 'men', 'are', 'playing', 'soccer.'],\n",
              " ['woman', 'running', 'the', 'beach.'],\n",
              " ['man', 'straining', 'pasta.'],\n",
              " [\"panda's\", 'play', 'swing.'],\n",
              " ['two', 'green', 'and', 'white', 'train', 'sitting', 'the', 'tracks.'],\n",
              " ['small',\n",
              "  'white',\n",
              "  'cat',\n",
              "  'with',\n",
              "  'glowing',\n",
              "  'eye',\n",
              "  'standing',\n",
              "  'underneath',\n",
              "  'chair.'],\n",
              " ['large', 'boat', 'the', 'water', 'the', 'marina.'],\n",
              " ['bus', 'driving', 'street.'],\n",
              " ...]"
            ]
          },
          "metadata": {
            "tags": []
          },
          "execution_count": 102
        }
      ]
    },
    {
      "cell_type": "code",
      "metadata": {
        "id": "CHjYGatYhbKe"
      },
      "source": [
        "#d1_lemmas = lemmatize(tokens_with_stop)\n",
        "#len(d1_lemmas)\n",
        "#d2_lemmas = lemmatize(tokens_without_stop)\n",
        "#len(d2_lemmas)"
      ],
      "execution_count": null,
      "outputs": []
    },
    {
      "cell_type": "code",
      "metadata": {
        "id": "F6C2gmbnhj_B"
      },
      "source": [
        "STOP = set(nltk.corpus.stopwords.words(\"english\"))"
      ],
      "execution_count": null,
      "outputs": []
    },
    {
      "cell_type": "code",
      "metadata": {
        "id": "Zjhzt5zchl94"
      },
      "source": [
        "import nltk\n",
        "class SentenceModel:\n",
        "\n",
        "    def __init__(self, sentence):\n",
        "        self.raw = sentence\n",
        "        normalized_sentence = sentence.replace(\"‘\", \"'\").replace(\"’\", \"'\")\n",
        "        self.tokens = [t.lower() for t in nltk.word_tokenize(normalized_sentence)]\n",
        "        self.tokens_without_stop = [t for t in self.tokens if t not in STOP]"
      ],
      "execution_count": null,
      "outputs": []
    },
    {
      "cell_type": "markdown",
      "metadata": {
        "id": "vujZIkL-hqXi"
      },
      "source": [
        "##Cosine Similarity"
      ]
    },
    {
      "cell_type": "code",
      "metadata": {
        "id": "kb1BYVoWlwAJ"
      },
      "source": [
        "import collections"
      ],
      "execution_count": null,
      "outputs": []
    },
    {
      "cell_type": "code",
      "metadata": {
        "id": "Xc094qoIhod2"
      },
      "source": [
        "def run_cosine_similarity(sentences1, sentences2, model=None, use_stoplist=False, doc_freqs=None):\n",
        "    if doc_freqs is not None:\n",
        "        N = doc_freqs[\"NUM_DOCS\"]\n",
        "\n",
        "    sims = []\n",
        "    for (sent1, sent2) in zip(sentences1, sentences2):\n",
        "\n",
        "        tokens1 = sent1.tokens_without_stop if use_stoplist else sent1.tokens\n",
        "        tokens2 = sent2.tokens_without_stop if use_stoplist else sent2.tokens\n",
        "        \n",
        "        tokens1 = [token for token in tokens1 if token in model]\n",
        "        tokens2 = [token for token in tokens2 if token in model]\n",
        "\n",
        "        if len(tokens1) == 0 or len(tokens2) == 0:\n",
        "            sims.append(0)\n",
        "            continue\n",
        "\n",
        "        tokfreqs1 = collections.Counter(tokens1)\n",
        "        tokfreqs2 = collections.Counter(tokens2)\n",
        "\n",
        "        weights1 = [tokfreqs1[token] * math.log(N / (doc_freqs.get(token, 0) + 1))\n",
        "                    for token in tokfreqs1] if doc_freqs else None\n",
        "        weights2 = [tokfreqs2[token] * math.log(N / (doc_freqs.get(token, 0) + 1))\n",
        "                    for token in tokfreqs2] if doc_freqs else None\n",
        "\n",
        "        embedding1 = np.average([model[token] for token in tokfreqs1], axis=0, weights=weights1).reshape(1, -1)\n",
        "        embedding2 = np.average([model[token] for token in tokfreqs2], axis=0, weights=weights2).reshape(1, -1)\n",
        "\n",
        "        sim = cosine_similarity(embedding1, embedding2)[0][0]\n",
        "        sims.append(sim)\n",
        "\n",
        "    return sims\n",
        "    "
      ],
      "execution_count": null,
      "outputs": []
    },
    {
      "cell_type": "markdown",
      "metadata": {
        "id": "h50dqd3ShwXz"
      },
      "source": [
        "##Word Mover's Distance"
      ]
    },
    {
      "cell_type": "code",
      "metadata": {
        "id": "RRx9rVE8hvSg"
      },
      "source": [
        "from sklearn import preprocessing\n",
        "def run_wmd_similarity(sentences1, sentences2, model, use_stoplist=False):\n",
        "    sims = []\n",
        "    for (sent1, sent2) in zip(sentences1, sentences2):\n",
        "\n",
        "        tokens1 = sent1.tokens_without_stop if use_stoplist else sent1.tokens\n",
        "        tokens2 = sent2.tokens_without_stop if use_stoplist else sent2.tokens\n",
        "\n",
        "        tokens1 = [token for token in tokens1 if token in model]\n",
        "        tokens2 = [token for token in tokens2 if token in model]\n",
        "\n",
        "        if len(tokens1) == 0 or len(tokens2) == 0:\n",
        "            tokens1 = [token for token in sent1.tokens if token in model]\n",
        "            tokens2 = [token for token in sent2.tokens if token in model]\n",
        "\n",
        "        sims.append(model.wmdistance(tokens1, tokens2))\n",
        "    \n",
        "    \n",
        "    x_array = np.array(sims)\n",
        "    print(x_array)\n",
        "    normalized_arr = preprocessing.normalize([x_array])\n",
        "    sims=normalized_arr[0].tolist()\n",
        "    return sims"
      ],
      "execution_count": null,
      "outputs": []
    },
    {
      "cell_type": "markdown",
      "metadata": {
        "id": "9FDkYu0Wh3e_"
      },
      "source": [
        "##Smoooth Inverse Frequency"
      ]
    },
    {
      "cell_type": "code",
      "metadata": {
        "id": "sNQg-XfjiSUW"
      },
      "source": [
        "from nltk.tokenize import word_tokenize\n",
        "from nltk.probability import FreqDist"
      ],
      "execution_count": null,
      "outputs": []
    },
    {
      "cell_type": "code",
      "metadata": {
        "colab": {
          "base_uri": "https://localhost:8080/"
        },
        "id": "T9Q9NIPLh1eB",
        "outputId": "aa40bc3e-6a0d-4c27-896e-d65243f49610"
      },
      "source": [
        "list1=[]\n",
        "[list1.append(i) for sent_1 in tokens_with_stop for i in sent_1]\n",
        "print(len(list1))\n",
        "\n",
        "[list1.append(i) for sent_2 in tokens_with_stop for i in sent_2]\n",
        "print(len(list1))\n",
        "frequencies = FreqDist(list1)"
      ],
      "execution_count": null,
      "outputs": [
        {
          "output_type": "stream",
          "text": [
            "50297\n",
            "100594\n"
          ],
          "name": "stdout"
        }
      ]
    },
    {
      "cell_type": "code",
      "metadata": {
        "id": "_b4TSX2oh_48"
      },
      "source": [
        "from sklearn.decomposition import TruncatedSVD\n",
        "from sklearn.metrics.pairwise import cosine_similarity\n",
        "\n",
        "def remove_first_principal_component(X):\n",
        "    svd = TruncatedSVD(n_components=1, n_iter=7, random_state=0)\n",
        "    print(X)\n",
        "    print(type(X))\n",
        "    svd.fit(X)\n",
        "    pc = svd.components_\n",
        "    XX = X - X.dot(pc.transpose()) * pc\n",
        "    return XX\n",
        "\n",
        "\n",
        "def run_sif_similarity(sentences1, sentences2, model, freqs={}, use_stoplist=False, a=1):\n",
        "    total_freq = sum(freqs.values())\n",
        "\n",
        "    embeddings = []\n",
        "\n",
        "    # SIF \n",
        "\n",
        "    for (sent1, sent2) in zip(sentences1, sentences2):\n",
        "        tokens1 = sent1.tokens_with_stop if use_stoplist else sent1.tokens\n",
        "        tokens2 = sent2.tokens_with_stop if use_stoplist else sent2.tokens\n",
        "\n",
        "        tokens1 = [token for token in tokens1 if token in model]\n",
        "        tokens2 = [token for token in tokens2 if token in model]\n",
        "\n",
        "        weights1 = [a / (a + freqs.get(token, 0) / total_freq) for token in tokens1]\n",
        "        weights2 = [a / (a + freqs.get(token, 0) / total_freq) for token in tokens2]\n",
        "\n",
        "        embedding1 = np.average([model[token] for token in tokens1], axis=0, weights=weights1)\n",
        "        embedding2 = np.average([model[token] for token in tokens2], axis=0, weights=weights2)\n",
        "\n",
        "        embeddings.append(embedding1)\n",
        "        embeddings.append(embedding2)\n",
        "\n",
        "    embeddings = remove_first_principal_component(np.array(embeddings))\n",
        "    sims = [cosine_similarity(embeddings[idx * 2].reshape(1, -1),\n",
        "                              embeddings[idx * 2 + 1].reshape(1, -1))[0][0]\n",
        "            for idx in range(int(len(embeddings) / 2))]\n",
        "\n",
        "    return sims\n",
        "      "
      ],
      "execution_count": null,
      "outputs": []
    },
    {
      "cell_type": "markdown",
      "metadata": {
        "id": "Ai8mYZh4Pf7e"
      },
      "source": [
        "##Not Pretrained Word2vec"
      ]
    },
    {
      "cell_type": "code",
      "metadata": {
        "id": "ocTpZv39PfGR"
      },
      "source": [
        "import gensim\n",
        "from gensim.models import Word2Vec,KeyedVectors"
      ],
      "execution_count": null,
      "outputs": []
    },
    {
      "cell_type": "code",
      "metadata": {
        "id": "q-Siy5PbPl5J"
      },
      "source": [
        "k_model = Word2Vec(tokens_with_stop,min_count=1, size = 300) "
      ],
      "execution_count": null,
      "outputs": []
    },
    {
      "cell_type": "code",
      "metadata": {
        "colab": {
          "base_uri": "https://localhost:8080/"
        },
        "id": "dPZeq-w2PoJ_",
        "outputId": "3f02dce5-d0c4-47d4-ddfc-06658ff98af9"
      },
      "source": [
        "k_model.most_similar('kid', topn=10)"
      ],
      "execution_count": null,
      "outputs": [
        {
          "output_type": "stream",
          "text": [
            "/usr/local/lib/python3.6/dist-packages/ipykernel_launcher.py:1: DeprecationWarning: Call to deprecated `most_similar` (Method will be removed in 4.0.0, use self.wv.most_similar() instead).\n",
            "  \"\"\"Entry point for launching an IPython kernel.\n"
          ],
          "name": "stderr"
        },
        {
          "output_type": "execute_result",
          "data": {
            "text/plain": [
              "[('man', 0.9990785121917725),\n",
              " ('with', 0.9990723133087158),\n",
              " ('boy', 0.9990658164024353),\n",
              " ('girl', 0.9990582466125488),\n",
              " ('the', 0.9990513324737549),\n",
              " ('for', 0.9990378618240356),\n",
              " ('two', 0.9990339279174805),\n",
              " ('his', 0.9990324378013611),\n",
              " ('police', 0.9990317821502686),\n",
              " ('over', 0.9990310668945312)]"
            ]
          },
          "metadata": {
            "tags": []
          },
          "execution_count": 204
        }
      ]
    },
    {
      "cell_type": "code",
      "metadata": {
        "colab": {
          "base_uri": "https://localhost:8080/"
        },
        "id": "SzpETZ6KPrYl",
        "outputId": "37dc5345-0104-4220-9b79-a0d1c252f576"
      },
      "source": [
        "words = list(k_model.wv.vocab)\n",
        "words"
      ],
      "execution_count": null,
      "outputs": [
        {
          "output_type": "execute_result",
          "data": {
            "text/plain": [
              "['plane',\n",
              " 'taking',\n",
              " 'off.',\n",
              " 'man',\n",
              " 'playing',\n",
              " 'large',\n",
              " 'flute.',\n",
              " 'spreading',\n",
              " 'shreded',\n",
              " 'cheese',\n",
              " 'pizza.',\n",
              " 'three',\n",
              " 'men',\n",
              " 'are',\n",
              " 'chess.',\n",
              " 'the',\n",
              " 'cello.',\n",
              " 'some',\n",
              " 'fighting.',\n",
              " 'smoking.',\n",
              " 'piano.',\n",
              " 'guitar',\n",
              " 'and',\n",
              " 'singing.',\n",
              " 'person',\n",
              " 'throwing',\n",
              " 'cat',\n",
              " 'ceiling.',\n",
              " 'hit',\n",
              " 'other',\n",
              " 'with',\n",
              " 'stick.',\n",
              " 'woman',\n",
              " 'pick',\n",
              " 'hold',\n",
              " 'baby',\n",
              " 'kangaroo.',\n",
              " 'folding',\n",
              " 'piece',\n",
              " 'paper.',\n",
              " 'running',\n",
              " 'road.',\n",
              " 'dog',\n",
              " 'trying',\n",
              " 'get',\n",
              " 'bacon',\n",
              " 'off',\n",
              " 'his',\n",
              " 'back.',\n",
              " 'polar',\n",
              " 'bear',\n",
              " 'sliding',\n",
              " 'snow.',\n",
              " 'writing.',\n",
              " 'rubbing',\n",
              " 'against',\n",
              " \"baby's\",\n",
              " 'face.',\n",
              " 'riding',\n",
              " 'horse.',\n",
              " 'pours',\n",
              " 'oil',\n",
              " 'into',\n",
              " 'pot.',\n",
              " 'guitar.',\n",
              " 'panda',\n",
              " 'down',\n",
              " 'slide.',\n",
              " 'eating',\n",
              " 'something.',\n",
              " 'peel',\n",
              " 'potato.',\n",
              " 'boy',\n",
              " 'fell',\n",
              " 'bike.',\n",
              " 'rabbit',\n",
              " 'from',\n",
              " 'eagle.',\n",
              " 'frying',\n",
              " 'breaded',\n",
              " 'pork',\n",
              " 'chop.',\n",
              " 'girl',\n",
              " 'flying',\n",
              " 'kite.',\n",
              " 'mechanical',\n",
              " 'bull.',\n",
              " 'dancing',\n",
              " 'singing',\n",
              " 'women.',\n",
              " 'slicing',\n",
              " 'bun.',\n",
              " 'pouring',\n",
              " 'pan.',\n",
              " 'lion',\n",
              " 'people.',\n",
              " 'ride',\n",
              " 'skateboard.',\n",
              " 'someone',\n",
              " 'carving',\n",
              " 'statue.',\n",
              " 'onion.',\n",
              " 'shrimp.',\n",
              " 'fish.',\n",
              " 'electric',\n",
              " 'tiger',\n",
              " 'ball.',\n",
              " 'tomato.',\n",
              " 'cut',\n",
              " 'cutting',\n",
              " 'kid',\n",
              " 'little',\n",
              " 'keyboard.',\n",
              " 'lick',\n",
              " 'baby.',\n",
              " 'pepper.',\n",
              " 'drums.',\n",
              " 'banana',\n",
              " 'tree.',\n",
              " 'key',\n",
              " 'board.',\n",
              " 'chop',\n",
              " 'tree',\n",
              " 'axe.',\n",
              " 'play',\n",
              " 'toy',\n",
              " 'phone.',\n",
              " 'motorcycle.',\n",
              " 'squirrel',\n",
              " 'spinning',\n",
              " 'around',\n",
              " 'circles.',\n",
              " 'kissing.',\n",
              " 'getting',\n",
              " 'car.',\n",
              " 'dancing.',\n",
              " 'mushrooms.',\n",
              " 'cub',\n",
              " 'making',\n",
              " 'sound.',\n",
              " 'onions.',\n",
              " 'peeling',\n",
              " 'pankda',\n",
              " 'bamboo.',\n",
              " 'monkey',\n",
              " 'push',\n",
              " 'another',\n",
              " 'monkey.',\n",
              " 'run',\n",
              " 'tying',\n",
              " 'shoe.',\n",
              " 'water',\n",
              " 'melon.',\n",
              " 'chopping',\n",
              " 'broccoli.',\n",
              " 'swim',\n",
              " 'underwater.',\n",
              " 'talking.',\n",
              " 'small',\n",
              " 'chasing',\n",
              " 'yoga',\n",
              " 'cricket.',\n",
              " 'talked',\n",
              " 'telephone.',\n",
              " 'fishing.',\n",
              " 'levitating.',\n",
              " 'two',\n",
              " 'driving.',\n",
              " 'bicycle.',\n",
              " 'potatoes.',\n",
              " 'leek.',\n",
              " 'paper',\n",
              " 'plate.',\n",
              " 'meat.',\n",
              " 'lady',\n",
              " 'chopped',\n",
              " 'green',\n",
              " 'sitring',\n",
              " 'noodle',\n",
              " 'water.',\n",
              " 'lionel',\n",
              " 'richie',\n",
              " 'checking',\n",
              " 'calender.',\n",
              " 'using',\n",
              " 'sewing',\n",
              " 'machine.',\n",
              " 'flipping',\n",
              " 'pancakes.',\n",
              " 'spinning.',\n",
              " 'swinging',\n",
              " 'limb',\n",
              " 'limb.',\n",
              " 'people',\n",
              " 'got',\n",
              " 'train.',\n",
              " 'jumping',\n",
              " 'trampoline.',\n",
              " 'instrument.',\n",
              " 'picking',\n",
              " 'can.',\n",
              " 'climbing',\n",
              " 'rope.',\n",
              " 'lifting',\n",
              " 'driving',\n",
              " 'street',\n",
              " 'jeep.',\n",
              " 'shirtless',\n",
              " 'sat',\n",
              " 'chair.',\n",
              " 'wrestling.',\n",
              " 'puppy',\n",
              " 'played',\n",
              " 'blue',\n",
              " 'tennis',\n",
              " 'kangroo',\n",
              " 'carpet',\n",
              " 'knife.',\n",
              " 'motorized',\n",
              " 'scooter',\n",
              " 'vegetable.',\n",
              " 'drool.',\n",
              " 'rowing',\n",
              " 'boat.',\n",
              " 'potatos.',\n",
              " 'garlic.',\n",
              " 'animal',\n",
              " 'walking',\n",
              " 'slowly',\n",
              " 'across',\n",
              " 'rope',\n",
              " 'bridge.',\n",
              " 'crack',\n",
              " 'egg',\n",
              " 'glass',\n",
              " 'bowl.',\n",
              " 'packing',\n",
              " 'suitcase',\n",
              " 'trunk',\n",
              " 'tomatos.',\n",
              " 'paddling',\n",
              " 'canoe.',\n",
              " 'together',\n",
              " 'through',\n",
              " 'woods.',\n",
              " 'picked',\n",
              " 'fish',\n",
              " 'swimming.',\n",
              " 'mix',\n",
              " 'something',\n",
              " 'food',\n",
              " 'processor.',\n",
              " 'surfing',\n",
              " 'wave.',\n",
              " 'flute',\n",
              " 'band.',\n",
              " 'spread',\n",
              " 'butter',\n",
              " 'loaf',\n",
              " 'bread.',\n",
              " 'boiling',\n",
              " 'noodles.',\n",
              " 'group',\n",
              " 'dance',\n",
              " 'hill.',\n",
              " 'outside.',\n",
              " 'feeding',\n",
              " 'man.',\n",
              " 'putting',\n",
              " 'pan',\n",
              " 'oven.',\n",
              " 'sitting',\n",
              " 'desk.',\n",
              " 'medic',\n",
              " 'transport',\n",
              " 'patient',\n",
              " 'stretcher.',\n",
              " 'stage.',\n",
              " 'playing.',\n",
              " 'laughing.',\n",
              " 'each',\n",
              " 'other.',\n",
              " 'running.',\n",
              " 'rolling',\n",
              " 'dough.',\n",
              " 'adding',\n",
              " 'spice',\n",
              " 'fishes.',\n",
              " 'young',\n",
              " 'holding',\n",
              " 'cheetah',\n",
              " 'orangutan',\n",
              " 'bus.',\n",
              " 'talk',\n",
              " 'diner.',\n",
              " 'communicating',\n",
              " 'sign',\n",
              " 'language.',\n",
              " 'doing',\n",
              " 'weight',\n",
              " 'exercises.',\n",
              " 'inside',\n",
              " 'big',\n",
              " 'ball',\n",
              " 'knock',\n",
              " 'potato',\n",
              " 'over.',\n",
              " 'keyboards.',\n",
              " 'pool.',\n",
              " 'used',\n",
              " 'chopper',\n",
              " 'slice',\n",
              " 'tofu.',\n",
              " 'herd',\n",
              " 'deer',\n",
              " 'crossing',\n",
              " 'street.',\n",
              " 'animal.',\n",
              " \"tortila's.\",\n",
              " 'mixing',\n",
              " 'ingrediants.',\n",
              " 'rooster',\n",
              " 'peck',\n",
              " 'dead',\n",
              " 'mouse.',\n",
              " 'frog',\n",
              " 'high',\n",
              " 'wire.',\n",
              " 'mowing',\n",
              " 'lawn.',\n",
              " 'opening',\n",
              " 'door.',\n",
              " 'pieces.',\n",
              " 'cooked',\n",
              " 'octopus.',\n",
              " 'punching',\n",
              " 'boards.',\n",
              " 'fox',\n",
              " 'plate',\n",
              " 'brick',\n",
              " 'patio.',\n",
              " 'key-board.',\n",
              " 'shooting',\n",
              " 'gun.',\n",
              " 'pumpkin.',\n",
              " 'cracking',\n",
              " 'car',\n",
              " 'moving',\n",
              " 'greasing',\n",
              " 'drinking',\n",
              " 'vodka.',\n",
              " 'meat',\n",
              " 'rinsing',\n",
              " 'steak.',\n",
              " 'selling',\n",
              " 'items.',\n",
              " 'wall.',\n",
              " 'runner',\n",
              " 'race',\n",
              " 'track.',\n",
              " 'kicking',\n",
              " 'soccer',\n",
              " 'licking',\n",
              " 'sucker.',\n",
              " 'fire.',\n",
              " 'open.',\n",
              " 'melting',\n",
              " 'game',\n",
              " 'white',\n",
              " 'drove',\n",
              " 'back',\n",
              " 'out',\n",
              " 'space.',\n",
              " 'put',\n",
              " 'step',\n",
              " 'looking',\n",
              " 'swimming',\n",
              " 'buttering',\n",
              " 'tomato',\n",
              " 'teenage',\n",
              " 'danced',\n",
              " 'room.',\n",
              " 'walking.',\n",
              " 'black',\n",
              " 'horse',\n",
              " 'around.',\n",
              " 'deveining',\n",
              " 'walk',\n",
              " 'path.',\n",
              " 'barking',\n",
              " 'away',\n",
              " 'fishing',\n",
              " 'pole.',\n",
              " 'along',\n",
              " 'path',\n",
              " 'wilderness.',\n",
              " 'elderly',\n",
              " 'speaking',\n",
              " 'podium.',\n",
              " 'slow',\n",
              " 'motion.',\n",
              " 'burrata',\n",
              " 'cheese.',\n",
              " 'automatic',\n",
              " 'rifle.',\n",
              " 'crushing',\n",
              " 'garlic',\n",
              " 'filing',\n",
              " 'her',\n",
              " 'fingernail',\n",
              " 'emery',\n",
              " 'shower.',\n",
              " 'attached',\n",
              " 'beach.',\n",
              " 'one',\n",
              " 'hand.',\n",
              " 'square',\n",
              " 'piece.',\n",
              " 'chimpanzee',\n",
              " 'hurting',\n",
              " 'woman.',\n",
              " 'zebra',\n",
              " 'butter.',\n",
              " 'guitars.',\n",
              " 'elephant',\n",
              " 'sprayed',\n",
              " 'themselves.',\n",
              " 'counter',\n",
              " 'store.',\n",
              " 'drill',\n",
              " 'hole',\n",
              " 'strip',\n",
              " 'wood',\n",
              " 'power',\n",
              " 'drill.',\n",
              " 'vegetables.',\n",
              " 'badger',\n",
              " 'burrowing',\n",
              " 'hole.',\n",
              " 'skiing',\n",
              " 'lake.',\n",
              " 'violin.',\n",
              " 'helicopter',\n",
              " 'landing',\n",
              " 'helipad.',\n",
              " 'chicken.',\n",
              " 'cucumber.',\n",
              " 'front',\n",
              " 'adoring',\n",
              " 'crowd.',\n",
              " 'backwards',\n",
              " 'floor.',\n",
              " 'split',\n",
              " 'cloves.',\n",
              " 'beauty',\n",
              " 'treatment',\n",
              " 'glass.',\n",
              " 'drawing',\n",
              " 'picture.',\n",
              " 'tomatoes.',\n",
              " 'computer',\n",
              " 'monitor.',\n",
              " 'tricycle.',\n",
              " 'compete',\n",
              " 'tire',\n",
              " 'race.',\n",
              " 'crawled',\n",
              " 'doorway.',\n",
              " 'smelling',\n",
              " 'pizzas.',\n",
              " 'pull',\n",
              " 'tail',\n",
              " 'dog.',\n",
              " 'lie',\n",
              " 'wooden',\n",
              " 'seasoning',\n",
              " 'bowl',\n",
              " 'biting',\n",
              " 'deboning',\n",
              " 'grass.',\n",
              " 'watching',\n",
              " 'tv.',\n",
              " 'stuck',\n",
              " 'door',\n",
              " 'doghouse.',\n",
              " 'flip',\n",
              " 'airplane',\n",
              " 'air.',\n",
              " 'dogs.',\n",
              " 'resting',\n",
              " 'floating',\n",
              " 'raft.',\n",
              " 'dieing',\n",
              " 'operating',\n",
              " 'leaf.',\n",
              " 'breaking',\n",
              " 'jugs.',\n",
              " 'cupcake.',\n",
              " 'grass',\n",
              " 'paddle',\n",
              " 'potatoe.',\n",
              " 'missile',\n",
              " 'exploded.',\n",
              " 'pushing',\n",
              " 'van.',\n",
              " 'steps.',\n",
              " 'soda',\n",
              " 'it.',\n",
              " 'assembling',\n",
              " 'speaker',\n",
              " 'parts.',\n",
              " 'walked',\n",
              " 'edge',\n",
              " 'being',\n",
              " 'raccoon',\n",
              " 'eating.',\n",
              " 'apple.',\n",
              " 'math',\n",
              " 'classes.',\n",
              " 'over',\n",
              " 'obstacles.',\n",
              " 'pencil',\n",
              " 'trick',\n",
              " 'lit',\n",
              " 'camera',\n",
              " 'tape',\n",
              " 'box.',\n",
              " 'river.',\n",
              " 'push-ups.',\n",
              " 'powdering',\n",
              " 'firing',\n",
              " 'garland',\n",
              " \"man's\",\n",
              " 'shoulders.',\n",
              " 'old',\n",
              " 'shaking',\n",
              " 'hand',\n",
              " 'waterskiing.',\n",
              " 'bending',\n",
              " 'storm.',\n",
              " 'skillet.',\n",
              " 'sing.',\n",
              " 'milk.',\n",
              " 'eyelid.',\n",
              " 'military',\n",
              " 'officer',\n",
              " 'barked',\n",
              " 'recruits.',\n",
              " 'chicken',\n",
              " 'container.',\n",
              " 'stenographer',\n",
              " 'pasta',\n",
              " 'pot',\n",
              " 'lying',\n",
              " 'blanket',\n",
              " 'rock',\n",
              " 'reading',\n",
              " 'book.',\n",
              " 'field.',\n",
              " 'hugging',\n",
              " 'someone.',\n",
              " 'ingrediants',\n",
              " 'couple',\n",
              " 'penguin',\n",
              " 'container',\n",
              " 'kitchen',\n",
              " 'sink.',\n",
              " 'scissors.',\n",
              " 'bed',\n",
              " 'hotel.',\n",
              " 'pulled',\n",
              " 'then',\n",
              " 'leg.',\n",
              " 'beat',\n",
              " 'player',\n",
              " 'goal.',\n",
              " 'cooking',\n",
              " 'carrying',\n",
              " 'paste',\n",
              " 'dish.',\n",
              " 'talking',\n",
              " 'about',\n",
              " 'gray',\n",
              " 'you',\n",
              " 'tube',\n",
              " 't-shirt.',\n",
              " 'olive',\n",
              " 'wedges.',\n",
              " 'okra',\n",
              " 'oil.',\n",
              " 'upside',\n",
              " 'under',\n",
              " 'couch.',\n",
              " 'while',\n",
              " 'chef',\n",
              " 'cleaning',\n",
              " 'soup.',\n",
              " 'explosion',\n",
              " 'booming',\n",
              " 'desert.',\n",
              " 'lemon.',\n",
              " 'overweight',\n",
              " 'skipping',\n",
              " 'cracked',\n",
              " 'raw',\n",
              " 'eggs.',\n",
              " 'sharpens',\n",
              " 'plastic',\n",
              " 'turtle',\n",
              " 'followed',\n",
              " 'pencilling',\n",
              " 'eye',\n",
              " 'shadow.',\n",
              " 'ground.',\n",
              " 'petting',\n",
              " 'tied',\n",
              " 'open',\n",
              " 'ground',\n",
              " 'pet',\n",
              " 'follow',\n",
              " 'them.',\n",
              " 'mincing',\n",
              " 'team',\n",
              " 'soccer.',\n",
              " 'rat',\n",
              " 'like',\n",
              " 'creature',\n",
              " 'sumo',\n",
              " 'ringer',\n",
              " 'fighting',\n",
              " 'lay',\n",
              " 'aim',\n",
              " 'hard',\n",
              " 'egg.',\n",
              " 'robot',\n",
              " 'share',\n",
              " 'kiss.',\n",
              " 'touch',\n",
              " 'rhino',\n",
              " 'grazed',\n",
              " 'red',\n",
              " 'traffic.',\n",
              " 'rapidly',\n",
              " 'swat',\n",
              " 'head.',\n",
              " 'church.',\n",
              " 'patting',\n",
              " 'alligator',\n",
              " 'mouth.',\n",
              " 'check',\n",
              " 'rice',\n",
              " 'pudding.',\n",
              " 'stirring',\n",
              " 'crawling',\n",
              " 'house.',\n",
              " 'flew',\n",
              " 'kite',\n",
              " 'she',\n",
              " 'ran',\n",
              " 'placing',\n",
              " 'hot',\n",
              " 'take',\n",
              " 'sunglasses.',\n",
              " 'sliced',\n",
              " 'tomatoe.',\n",
              " 'hedgehog.',\n",
              " 'salt',\n",
              " 'pepper',\n",
              " 'pork.',\n",
              " 'chair',\n",
              " 'stared.',\n",
              " 'dicing',\n",
              " 'happily.',\n",
              " 'window.',\n",
              " 'seated',\n",
              " 'onion',\n",
              " 'rider',\n",
              " 'several',\n",
              " 'bongo',\n",
              " 'cartoon',\n",
              " 'hedgehog',\n",
              " 'chewed',\n",
              " 'towel.',\n",
              " 'himself.',\n",
              " 'guinea',\n",
              " 'pig',\n",
              " 'gnawing',\n",
              " 'carrot',\n",
              " 'four',\n",
              " 'standing',\n",
              " 'burning',\n",
              " 'sauce',\n",
              " 'food.',\n",
              " 'child',\n",
              " 'their',\n",
              " 'submarine',\n",
              " 'going',\n",
              " 'digging',\n",
              " 'dirt.',\n",
              " 'kissing',\n",
              " 'drawing.',\n",
              " 'train',\n",
              " 'striking',\n",
              " 'drawer',\n",
              " 'climb',\n",
              " 'inside.',\n",
              " 'brushing',\n",
              " 'thinly',\n",
              " 'handling',\n",
              " 'frog.',\n",
              " 'kitten',\n",
              " 'toy.',\n",
              " 'fold',\n",
              " 'tortilla.',\n",
              " 'cow',\n",
              " 'crying.',\n",
              " 'tapping',\n",
              " 'finger',\n",
              " 'table.',\n",
              " 'dive',\n",
              " 'leak.',\n",
              " 'gel',\n",
              " 'hair.',\n",
              " 'marching',\n",
              " 'place.',\n",
              " 'machine',\n",
              " 'log',\n",
              " 'capsicum',\n",
              " 'pianos.',\n",
              " 'exercising.',\n",
              " 'scallop.',\n",
              " 'bicycles.',\n",
              " 'pasture.',\n",
              " 'make',\n",
              " 'bed.',\n",
              " 'watermelon.',\n",
              " 'jump',\n",
              " 'praying.',\n",
              " 'parking.',\n",
              " 'shoulder.',\n",
              " 'couch',\n",
              " 'video',\n",
              " 'games.',\n",
              " 'squeezing',\n",
              " 'carrot.',\n",
              " 'styling',\n",
              " 'stairs.',\n",
              " 'rain.',\n",
              " 'kangaroo',\n",
              " 'grating',\n",
              " 'herbs.',\n",
              " 'whack',\n",
              " 'sword.',\n",
              " 'bunch',\n",
              " 'bottle',\n",
              " 'writing',\n",
              " 'erased',\n",
              " 'what',\n",
              " 'had',\n",
              " 'motorcycle',\n",
              " 'highway.',\n",
              " 'cage.',\n",
              " 'stare',\n",
              " 'camera.',\n",
              " 'laughing',\n",
              " 'crawling.',\n",
              " 'grand',\n",
              " 'piano',\n",
              " 'swing',\n",
              " 'ceiling',\n",
              " 'fan.',\n",
              " 'bull',\n",
              " 'washing',\n",
              " 'hands.',\n",
              " 'fire',\n",
              " 'shotgun.',\n",
              " 'cereal.',\n",
              " 'bathing',\n",
              " 'bath-tub.',\n",
              " 'motorcyclist',\n",
              " 'crash',\n",
              " 'dangling',\n",
              " 'mouse',\n",
              " 'near',\n",
              " 'snake.',\n",
              " 'pudding',\n",
              " 'banana.',\n",
              " 'performing',\n",
              " 'int',\n",
              " 'trashcan.',\n",
              " 'mushroom',\n",
              " 'ingredient',\n",
              " 'skateboarder',\n",
              " 'doe',\n",
              " 'half-pipe.',\n",
              " 'jumped',\n",
              " 'fence.',\n",
              " 'letter.',\n",
              " 'gorilla',\n",
              " 'curb',\n",
              " 'flowers.',\n",
              " 'stone',\n",
              " 'keyboard',\n",
              " 'nose.',\n",
              " 'weights.',\n",
              " 'pecking',\n",
              " 'bread',\n",
              " 'squash.',\n",
              " 'carrots.',\n",
              " 'laying',\n",
              " 'gun',\n",
              " 'abulance.',\n",
              " 'diving',\n",
              " 'shot',\n",
              " 'move',\n",
              " 'runway.',\n",
              " 'slipping',\n",
              " 'water-tub.',\n",
              " 'ballet.',\n",
              " 'slab',\n",
              " 'trumpet.',\n",
              " 'band',\n",
              " 'cake.',\n",
              " 'flag.',\n",
              " 'wood.',\n",
              " 'towel',\n",
              " 'orange.',\n",
              " 'snake',\n",
              " 'cook.',\n",
              " 'scraping',\n",
              " 'bollywood',\n",
              " 'american',\n",
              " 'flag',\n",
              " 'waving.',\n",
              " 'enclosed',\n",
              " 'area.',\n",
              " 'stirring.',\n",
              " 'cover',\n",
              " 'flour.',\n",
              " 'floor',\n",
              " 'makeup',\n",
              " 'droppped',\n",
              " 'eggplant',\n",
              " 'try',\n",
              " 'preparing',\n",
              " 'hanging',\n",
              " 'frying.',\n",
              " 'pistol.',\n",
              " 'arms.',\n",
              " 'dry',\n",
              " 'goal',\n",
              " 'long',\n",
              " 'way',\n",
              " 'figures.',\n",
              " 'trees.',\n",
              " 'knife',\n",
              " 'antenna.',\n",
              " 'threw',\n",
              " 'dummy',\n",
              " 'cliff',\n",
              " 'edge.',\n",
              " 'fired.',\n",
              " 'sheet.',\n",
              " 'pineapple.',\n",
              " 'cook',\n",
              " 'season',\n",
              " 'scratch',\n",
              " 'itself.',\n",
              " 'bike',\n",
              " 'gate.',\n",
              " 'card',\n",
              " 'trick.',\n",
              " 'were',\n",
              " 'pen.',\n",
              " 'wheel',\n",
              " 'box',\n",
              " 'oots',\n",
              " 'repeatedly',\n",
              " 'side',\n",
              " 'sings',\n",
              " 'drilled',\n",
              " 'circle',\n",
              " 'pink',\n",
              " 'sheet',\n",
              " 'bag.',\n",
              " 'sniffing',\n",
              " 'pawing',\n",
              " 'stuffed',\n",
              " 'rabbit.',\n",
              " 'cucumber',\n",
              " 'slices.',\n",
              " 'pepperoni',\n",
              " 'pizza',\n",
              " 'lid',\n",
              " 'after',\n",
              " 'close',\n",
              " 'added',\n",
              " 'vegetable',\n",
              " 'broth',\n",
              " 'sausages.',\n",
              " 'clown',\n",
              " 'aardvark.',\n",
              " 'steak',\n",
              " 'rode',\n",
              " 'top',\n",
              " 'metal',\n",
              " 'bird',\n",
              " 'table',\n",
              " 'containing',\n",
              " 'liquid',\n",
              " 'place',\n",
              " 'hitting',\n",
              " 'elephant.',\n",
              " 'jetski',\n",
              " 'waves.',\n",
              " 'wearing',\n",
              " 'headphones.',\n",
              " 'lifestyle',\n",
              " 'magazine.',\n",
              " 'chili',\n",
              " 'ate',\n",
              " 'exiting',\n",
              " 'taxi.',\n",
              " 'coriander',\n",
              " 'rabbi',\n",
              " 'fly',\n",
              " 'before',\n",
              " 'barking.',\n",
              " 'serving',\n",
              " 'volleyball',\n",
              " 'net.',\n",
              " 'electronic',\n",
              " 'severs',\n",
              " 'toe',\n",
              " 'empty',\n",
              " 'leather',\n",
              " 'boot',\n",
              " 'removing',\n",
              " 'scale',\n",
              " 'garden.',\n",
              " 'pushed',\n",
              " 'upset',\n",
              " 'call',\n",
              " 'cell',\n",
              " 'applying',\n",
              " 'cosmetic',\n",
              " 'lifted',\n",
              " 'barbells.',\n",
              " 'feed',\n",
              " 'ferret',\n",
              " 'shoot',\n",
              " 'powder',\n",
              " 'beans.',\n",
              " 'handgun.',\n",
              " 'fridge.',\n",
              " 'up.',\n",
              " 'joker',\n",
              " 'sauce.',\n",
              " 'giving',\n",
              " 'lecture',\n",
              " 'shimmied',\n",
              " 'line.',\n",
              " 'haki',\n",
              " 'sak',\n",
              " 'office.',\n",
              " 'dropped',\n",
              " 'scallions.',\n",
              " 'slam',\n",
              " 'dunking',\n",
              " 'sharpening',\n",
              " 'pencil.',\n",
              " 'feet.',\n",
              " 'windows.',\n",
              " 'rice.',\n",
              " 'vice.',\n",
              " 'violin',\n",
              " 'catching',\n",
              " 'newspaper.',\n",
              " 'loris',\n",
              " 'bite',\n",
              " 'fingers.',\n",
              " 'skating',\n",
              " 'makeup.',\n",
              " 'sang',\n",
              " 'stage',\n",
              " 'microphone.',\n",
              " 'traveling',\n",
              " 'performs',\n",
              " 'sitiing',\n",
              " 'down.',\n",
              " 'remove',\n",
              " 'toaster',\n",
              " 'scramble',\n",
              " 'packet.',\n",
              " 'meditating.',\n",
              " 'kicked',\n",
              " 'between',\n",
              " 'legs.',\n",
              " 'scratching',\n",
              " 'belly.',\n",
              " ...]"
            ]
          },
          "metadata": {
            "tags": []
          },
          "execution_count": 205
        }
      ]
    },
    {
      "cell_type": "code",
      "metadata": {
        "colab": {
          "base_uri": "https://localhost:8080/"
        },
        "id": "qcRIk_B-Pun3",
        "outputId": "940ac70d-1f8e-4846-f643-05590dda5ec9"
      },
      "source": [
        "print(\"Here is the vocabulary size... %d\" %len(words))"
      ],
      "execution_count": null,
      "outputs": [
        {
          "output_type": "stream",
          "text": [
            "Here is the vocabulary size... 8487\n"
          ],
          "name": "stdout"
        }
      ]
    },
    {
      "cell_type": "markdown",
      "metadata": {
        "id": "zadnUUgNQMkr"
      },
      "source": [
        "#Evaluation Metrics"
      ]
    },
    {
      "cell_type": "code",
      "metadata": {
        "id": "Rw9CVDrIRjSh"
      },
      "source": [
        "def remove_first_principal_component(X):\n",
        "    svd = TruncatedSVD(n_components=1, n_iter=7, random_state=0)\n",
        "    print(X)\n",
        "    print(type(X))\n",
        "    svd.fit(X)\n",
        "    pc = svd.components_\n",
        "    XX = X - X.dot(pc.transpose()) * pc\n",
        "    return XX\n",
        "\n",
        "\n",
        "def run_sif_similarity(sentences1, sentences2, model, freqs={}, use_stoplist=False, a=1):\n",
        "    total_freq = sum(freqs.values())\n",
        "\n",
        "    embeddings = []\n",
        "\n",
        "    # SIF \n",
        "\n",
        "    for (sent1, sent2) in zip(sentences1, sentences2):\n",
        "        tokens1 = sent1.tokens_without_stop if use_stoplist else sent1.tokens\n",
        "        tokens2 = sent2.tokens_without_stop if use_stoplist else sent2.tokens\n",
        "\n",
        "        tokens1 = [token for token in tokens1 if token in model]\n",
        "        tokens2 = [token for token in tokens2 if token in model]\n",
        "\n",
        "        weights1 = [a / (a + freqs.get(token, 0) / total_freq) for token in tokens1]\n",
        "        weights2 = [a / (a + freqs.get(token, 0) / total_freq) for token in tokens2]\n",
        "\n",
        "        embedding1 = np.average([model[token] for token in tokens1], axis=0, weights=weights1)\n",
        "        embedding2 = np.average([model[token] for token in tokens2], axis=0, weights=weights2)\n",
        "\n",
        "        embeddings.append(embedding1)\n",
        "        embeddings.append(embedding2)\n",
        "\n",
        "    embeddings = remove_first_principal_component(np.array(embeddings))\n",
        "    sims = [cosine_similarity(embeddings[idx * 2].reshape(1, -1),\n",
        "                              embeddings[idx * 2 + 1].reshape(1, -1))[0][0]\n",
        "            for idx in range(int(len(embeddings) / 2))]\n",
        "\n",
        "    return sims\n",
        "                "
      ],
      "execution_count": null,
      "outputs": []
    },
    {
      "cell_type": "code",
      "metadata": {
        "id": "Z8TJ6W-uSHMv"
      },
      "source": [
        "import nltk\n",
        "class SentenceModel:\n",
        "\n",
        "    def __init__(self, sentence):\n",
        "        self.raw = sentence\n",
        "        normalized_sentence = sentence.replace(\"‘\", \"'\").replace(\"’\", \"'\")\n",
        "        self.tokens = [t for t in nltk.word_tokenize(normalized_sentence)]\n",
        "        self.tokens_without_stop = [t for t in self.tokens if t not in STOP]"
      ],
      "execution_count": null,
      "outputs": []
    },
    {
      "cell_type": "code",
      "metadata": {
        "colab": {
          "base_uri": "https://localhost:8080/"
        },
        "id": "OHGQbQeBRz4L",
        "outputId": "e8c36260-48ac-4889-d2ed-0a64dd399457"
      },
      "source": [
        "list1=[]\n",
        "[list1.append(i) for sent_1 in tokens_with_stop for i in sent_1]\n",
        "print(len(list1))\n",
        "\n",
        "#[list1.append(i) for sent_2 in tokens_with_stop for i in sent_2]\n",
        "#print(len(list1))\n",
        "frequencies = FreqDist(list1)"
      ],
      "execution_count": null,
      "outputs": [
        {
          "output_type": "stream",
          "text": [
            "50297\n"
          ],
          "name": "stdout"
        }
      ]
    },
    {
      "cell_type": "code",
      "metadata": {
        "colab": {
          "base_uri": "https://localhost:8080/"
        },
        "id": "QrHEWSxnQJxz",
        "outputId": "e66802e9-d8d3-4149-bf76-42a699ebb070"
      },
      "source": [
        "sentences1 = [SentenceModel(s) for s in train_data['sent_1']] \n",
        "sentences2 = [SentenceModel(s) for s in train_data['sent_2']]\n",
        "#sims = run_cosine_similarity(sentences1,sentences2, model=k_model, use_stoplist=False) # cosine \n",
        "#sims = run_wmd_similarity(sentences1,sentences2, model=k_model, use_stoplist=False) #word mover distance\n",
        "sims = run_sif_similarity(sentences1,sentences2, freqs=frequencies, model=k_model, use_stoplist=False)\n",
        "#sims = run_context_avg_benchmark(sentences1, sentences2, model=elmo, use_stoplist=False, doc_freqs=None)\n",
        "print(sims)\n",
        "train_data[\"predicted_sim\"] = pd.Series(sims).values\n",
        "train_data[\"diff\"] = np.sqrt((train_data[\"predicted_sim\"] - train_data[\"sim\"])**2)\n",
        "train_data = train_data.sort_values(\"diff\", ascending=False)\n",
        "\n",
        "pearson_correlation = scipy.stats.pearsonr(sims, train_data['sim'])[0]\n",
        "spearman_correlation = scipy.stats.spearmanr(sims, train_data['sim'])[0]\n",
        "rmse = np.sqrt(sklearn.metrics.mean_squared_error(sims, train_data['sim']))\n",
        "textstr = 'RMSE=%.3f\\nPearson Correlation=%.3f\\nSpearman Correlation=%.3f'%(rmse, pearson_correlation, spearman_correlation)\n",
        "train_data['predicted_sim'] = pd.Series(sims).values\n",
        "train_data = train_data.sort_values('sim')\n",
        "id = list(range(0, len(train_data.index)))\n",
        "train_data['id'] = pd.Series(id).values"
      ],
      "execution_count": null,
      "outputs": [
        {
          "output_type": "stream",
          "text": [
            "/usr/local/lib/python3.6/dist-packages/ipykernel_launcher.py:22: DeprecationWarning: Call to deprecated `__contains__` (Method will be removed in 4.0.0, use self.wv.__contains__() instead).\n",
            "/usr/local/lib/python3.6/dist-packages/ipykernel_launcher.py:23: DeprecationWarning: Call to deprecated `__contains__` (Method will be removed in 4.0.0, use self.wv.__contains__() instead).\n",
            "/usr/local/lib/python3.6/dist-packages/ipykernel_launcher.py:28: DeprecationWarning: Call to deprecated `__getitem__` (Method will be removed in 4.0.0, use self.wv.__getitem__() instead).\n",
            "/usr/local/lib/python3.6/dist-packages/ipykernel_launcher.py:29: DeprecationWarning: Call to deprecated `__getitem__` (Method will be removed in 4.0.0, use self.wv.__getitem__() instead).\n"
          ],
          "name": "stderr"
        },
        {
          "output_type": "stream",
          "text": [
            "[[-0.06167487 -0.00390098  0.03621622 ... -0.10723854  0.10732547\n",
            "   0.04330771]\n",
            " [-0.04285756 -0.0025047   0.02493475 ... -0.07577809  0.07477502\n",
            "   0.03056773]\n",
            " [-0.02802699 -0.00156341  0.01642769 ... -0.04925372  0.04810251\n",
            "   0.02007923]\n",
            " ...\n",
            " [-0.12815091 -0.00832238  0.07487372 ... -0.22320685  0.22269743\n",
            "   0.09166833]\n",
            " [-0.08706667 -0.00552026  0.05150707 ... -0.15473656  0.15194919\n",
            "   0.06255747]\n",
            " [-0.08706667 -0.00552026  0.05150707 ... -0.15473656  0.15194919\n",
            "   0.06255747]]\n",
            "<class 'numpy.ndarray'>\n",
            "[-0.03531213260178596, -0.03447024126347341, 0.6218682352752054, -0.20091834406407733, 0.24714066697605097, -0.09146530151908776, -0.2472647830509176, 0.09161069079433319, 0.09179660510214604, -0.08977792824384065, 0.200931009134617, 0.00635390537954375, 0.3121212218621004, -0.2909599712221139, 0.09416134141587194, -0.2011684368204804, -0.27507143114251853, 0.5489686862500457, 0.0951884441493368, 0.43359438070018513, 0.33339027545399097, 0.4987288699328385, 0.6205907357164998, -0.24587901615380284, -0.06170983703912871, -0.2766894698339296, -0.061609432601627365, 0.03596374410493962, -0.006277818567909328, -0.08621623462314348, 0.2467000860195955, -0.015254168906623997, 0.2760493648789908, -0.086460604941554, 0.04733169728325753, 0.5526159918912755, 0.08671540611803957, 0.619298236400853, 0.4408462041505699, 0.2757213401875905, 0.061020295570493925, -0.035389272371211804, 0.08455912999981836, -0.09589556131804565, 0.6322061860032504, 0.17457578978704696, 0.5446535936003291, 0.05890026129833781, -0.27299793672458184, 0.5038858897722372, 0.27289414539535134, -0.10294893109978905, 0.6521626665871686, 0.05978789153768335, 0.10302893575207016, -0.042071020193396265, 0.056472423664426015, 0.030875609575819987, 0.34050355328048904, 0.10569097416257962, 0.34171988472873627, 0.0676040130951199, 0.3421913500129089, 0.5050023823142584, 0.4288384708590748, 0.17536278690459872, 0.27447139067704146, -0.09716924818375354, 0.04190660804038135, 0.041982369772293957, 0.42529412656154353, 0.6348138823811394, 0.09798443958223695, 0.6366202535326523, 0.6375052272068032, 0.09924176225681994, 0.034069141667443695, 0.3359816921172078, 0.42205505401972737, 0.2488702015876805, 0.09873842530940553, 0.060796727332733176, 0.0604147747330535, 0.03252800281637534, 0.20184450202989646, -0.23134120598143343, 0.056155290587539104, 0.4434807728868687, 0.08452428479786724, 0.24054738554090843, 0.07035583908808939, 0.32054855615515493, 0.4716717321322472, 0.06699836929319208, 0.48143880789482923, -0.3172310538445722, -0.19692272442351505, 0.5785423057557925, 0.48511830731028127, 0.566766816575821, 0.48556820198749157, 0.03739533238763686, 0.2365583224511809, 0.5850509983267448, 0.1898344667701031, 0.5665041119667077, 0.586062641315076, 0.07332469650941832, -0.07498769174375895, -0.19206875449040176, 0.4730592831507881, 0.039073040713851724, -0.23991418029554798, 0.19683883654896053, 0.5722798889140807, 0.2834626373697623, 0.06901595026457438, 0.5723855810532252, 0.3188144849394006, 0.5779970562658915, 0.03843355345297316, -0.06742132075042191, 0.193885430993397, 0.4734345082149141, -0.03807905093718049, 0.2826379196068175, 0.31923331729136595, 0.19355378425940653, 0.2395280285302194, 0.47558922593779807, 0.036243306832367934, 0.2859317907222239, -0.07582666751798658, -0.011331956910670354, 0.1983398918802048, -0.2795905194828649, 0.6008315788132044, 0.31454553736128243, 0.6024082556628517, 0.04075831532842985, 0.232206819474508, 0.453122999364039, 0.18651393502443342, 0.44978824919943966, -0.08304147459958428, 0.18521686128791884, 0.0834867613879893, 0.4947657547833366, 0.608399968896351, -0.06319252781014403, -0.18456690333467024, 0.6049063543229329, -0.23651132312772757, 0.31550266005237165, 0.3269483678438865, 0.32513868864215606, 0.2862820560783731, 0.5648633426132837, 0.23547832583804926, 0.4590110700863399, 0.4857269949536998, -0.0779568073202656, 0.5617931959516657, 0.23458301011463167, 0.2354619185775395, 0.07863220447107544, 0.23513127370537173, 0.4551792221654885, -0.011621868284507226, 0.5987379059046588, 0.01137817682218634, 0.5996397920594848, -0.0641222206025135, 0.31684445906036013, 0.2518991196980655, 0.4122449656380674, -0.1720379684262633, 0.129616470292399, 0.21209214215573965, 0.13040107267782464, 0.3587683468145702, -0.1315316404106621, 0.7556736230382843, 0.35996754434232664, -0.023381681493771678, 0.30299550114577756, 0.1521004085148135, -0.13463340015957617, 0.13474348860587226, 0.21294149062945225, 0.0017951873674087004, 0.5302783398924679, -0.02294822890417295, 0.5300175112367373, 0.3793433184545307, 0.5330608318799306, 0.023433175135791493, 0.7424055769049764, -0.125380234778527, 0.3576809662064018, -0.04295373138740475, 0.7306249955617804, 0.41172878844322247, 0.22380949305187112, 0.12662444122501776, -0.12672433895255372, 0.7699698639409276, -0.02378008642054007, 0.15544764850882953, 0.7370801178397673, 0.1551052684492493, 0.1274776115074457, -0.3584352358880217, 0.04342287204764011, 0.15478380758488572, 0.5333353845209396, 0.5136107449968903, 0.7232800618417835, -0.1484987930272933, 0.7776751963156124, 0.3667673365608583, 0.8496367971036871, -0.21677220969792568, 0.5205462439092424, 0.14143203944837596, 0.8653373205000877, 0.8708075225131596, 0.877389313717552, 0.21710658922803877, 0.8920151963657995, 0.21885680109992006, 0.020025477029067932, -0.048389932826290644, 0.1421780574986621, 0.9365945737672344, -0.01685390140024688, -0.14228294679895795, 0.04887859729574135, 0.21941012040081048, 0.8391757013755627, 0.3016756601190264, 0.7776942203231395, 0.7805059457975692, -0.21490575443530638, 0.00967821863534287, 0.7814841701441003, -0.14659245027067927, 0.045956700431613505, 0.2985459878030369, 0.02293091998949121, 0.04668905531326069, 0.36910375724877986, -0.1397122994432511, 0.1447037830507478, 0.14434141959798627, 0.36819654238934807, 0.2646755185341806, -0.1399602876192716, -0.009221317570413399, 0.21509856511116213, 0.7223347833780944, 0.7307822142291319, -0.024593641275823603, 0.10945720389378354, 0.40407936172374836, 0.10954552742541245, -0.11025235481591095, 0.3472878750257502, 0.6767821029260298, -0.11038148182529912, 0.167796249281619, 0.2564467376818935, 0.04244465027750203, 0.028515670674262784, 0.010184266362181876, 0.16604189563257474, 0.6813267498078731, -0.16541625311911326, 0.6823945532460177, -0.028046822772389905, 0.3566215859967218, 0.6843820193908068, -0.05402559902280678, 0.3989397985246379, 0.5106274171372475, 0.16864287187373736, 0.6597001222682397, -0.006602594271500523, 0.6603150073115708, 0.5400450043432093, 0.20503719491925537, 0.6629802530649603, 0.004815803826122994, -0.029836705475356183, -0.17164213553832944, 0.17132428124725016, 0.2721977701661794, 0.5078656062685005, -0.042325628005964844, 0.20587666267030963, 0.6699998664835675, 0.3057466497278415, 0.6706455792227862, -0.10841448663810876, 0.6709983961956684, 0.05463638387023376, 0.11671450254041467, 0.2836601231443766, 0.511532618338633, 0.11729236899806297, 0.6970854012821974, 0.39371730421300205, 0.6870521219749535, -0.11971519613857358, 0.3530576209523314, -0.1198763790766822, 0.5127981706844049, 0.35353108499515956, 0.7064275051029666, 0.7072011639036315, 0.5355597522526484, 0.3902996456790687, 0.3551321958633431, 0.121483547721525, 0.00775645184882511, 0.20858504254278967, 0.1219888267048955, 0.3949239224311516, 0.16493180059043366, 0.3518102519079664, 0.052697142364472184, -0.11677950528449932, 0.15756148843381637, 0.12391066394651076, 0.39485152957127395, 0.3963377709065993, 0.12149114942700869, 0.6917087711232422, 0.16328622069229212, 0.22415239398015563, 0.15988925864755463, 0.11687600493442438, 0.16403139171648126, 0.040855954640936706, -0.0759970742883762, 0.07441342822350275, 0.2559701407052908, 0.2505651789692346, 0.6029790426197605, 0.5980654472377029, 0.5677052278906222, 0.10391015206275554, 0.575937602412829, -0.011051903408199936, 0.27818585830311776, 0.0826167592304264, 0.6004474286988715, 0.3380922853840567, 0.5346413823290473, 0.6051262546432395, 0.24404410486858036, -0.31252821123969765, 0.40020415766497114, 0.11855439378653308, -0.06271509093876039, -0.08947582013933351, 0.07724309537634158, 0.376005415311199, 0.4945624745293414, 0.8482458249809817, 0.3206003218958575, 0.6931852508963148, 0.281676177523654, 0.22663439879094716, 0.8290573045832696, 0.7874053472130323, 0.8283346495407634, 0.6679374273054866, 0.3674600064194483, 0.6479225539007114, 0.2249716208085624, 0.18847005127919803, 0.8294474564953307, 0.6361872390052912, 0.8876873165817204, 0.4562353661529875, 0.9404979521976543, 0.23339243726277153, 0.36112744700548455, 0.7548868769367485, 0.04151645474360141, 0.04303363228133414, 0.06911179042485141, 0.11352384314455685, 0.42325727335430463, 0.20941680841809596, 0.7084384522646602, 0.3628978867509325, 0.019884124299068124, 0.6280050325886498, 0.6309546777666637, 0.4997885710111931, -0.13041340970909232, 0.14784130085978034, 0.4499575210209095, 0.4518674301594094, 0.6258513477537386, -0.14569154762101572, -0.1294205794419575, 0.4715642466576853, 0.8154337880494495, 0.3802405358910572, 0.07327318448545089, 0.6678022319301958, 0.5723422468776759, -0.09172471814992825, -0.21495454325610494, 0.23853045709882062, 0.8365318818555374, 0.08919404294988216, 0.6070439855398578, 0.6424589334147074, 0.12301884365131693, 0.11137137125689062, 0.044167208775627624, 0.24080346023765226, 0.525450705729333, -0.12385550301674417, 0.1392271698007647, 0.23772207764438902, 0.027846562542484073, 0.46519914002042373, 0.464852465695233, 0.4686368309279858, 0.200198246850117, 0.6013885595134835, 0.43275974419364344, 0.46270122913920014, 0.22128704035767993, 0.21694533364016066, 0.2948535240200523, 0.2306471245595682, 0.2124587004703232, 0.45679321792246225, 0.5948987073057654, 0.5983445661937318, 0.598441830618103, 0.44338583464106646, 0.4385953652408645, 0.29099915679773014, 0.1296287605783581, 0.2956320831065805, -0.0480674383352274, 0.4378651405449317, 0.4460755962416936, -0.06682377917985852, 0.2751304751019526, 0.4800094632488235, 0.1603665843949447, 0.27855526695084065, 0.5733716817616801, 0.5723093757899193, 3.1821629091288176e-05, 0.5326629422861685, 0.39553598686652636, 0.2669736040784992, 0.5705579340567721, 0.535933248917675, 0.5688904706056309, 0.5675525818650021, 0.5668055724616784, 0.5663592100952257, 0.0019060331114416921, 0.3968965223707281, 0.40612791124589026, 0.2695655963837357, 0.5555503581927306, 0.16263597699664006, 0.07859101389684238, 0.16603394288361048, 0.2632591684370597, 0.42984912850914514, 0.48612895522619276, 0.5899541471843297, 0.4864784875671274, 0.1872384612203057, 0.5858628622783957, 0.253981004007941, 0.13721691129127742, 0.1377802982497864, 0.43188791841126906, 0.1484709308166002, 0.5824167234547951, -0.09593755217192573, 0.4146236423434287, 0.4141722551305629, 0.17420975618563897, 0.17419898751453633, 0.5121131581526343, 0.5144432992388969, -0.010146554031810102, 0.4180300476079332, -0.02110571283315147, 0.06392865642219933, 0.32036132762433184, 0.7876948037005855, 0.6535881268738144, 0.7859473144465682, 0.6501756637052647, 0.3637263461926848, 0.6499358590538831, 0.6471927317267737, 0.04049445646429763, 0.11015129544768257, 0.3321593189757685, 0.6329142698053736, 0.8606546971275918, 0.8610486097501828, 0.31140463636620913, 0.6246740529359396, 0.33505784295190305, 0.08202060294825506, 0.7877370289101073, 0.8313640802476002, 0.8273060372249644, 0.66752971628816, 0.3275894396717093, 0.7125130394681736, 0.801448795329522, 0.11427767301597878, 0.35576076106468163, 0.6946677643292556, 0.6894436551452353, 0.7221545739292298, 0.6219688483432646, 0.3580192857489828, 0.7270987421385962, 0.35437336765478933, 0.6847207073205968, 0.7878493891596566, 0.6799518667701535, 0.7292143926741921, 0.6746061153697431, 0.7667656201313496, 0.6854578475618458, 0.7715439656881219, 0.7118017037559135, 0.3398918343258651, 0.9405541137637674, 0.6069446399815525, 0.9436751625851291, 0.6103077792929886, 0.1773355505748115, 0.6322435057072723, 0.8930544972174148, 0.3415539036134372, 0.8393265432762634, 0.6801537297765731, 0.7120484670698601, 0.8393265432762634, 0.5565242227875188, 0.8047100146817601, 0.8398042167830306, 0.5458453538007351, 0.6784635229024055, 0.8413254117131547, 0.5874658008040088, 0.024238633688117753, 0.20032508808941477, 0.6866818855732205, 0.32592158733483984, 0.6374700720683323, 0.4766516401985342, 0.29096014720538926, 0.6835778330432862, 0.026073803043670747, 0.18534549461332245, 0.6842784585713783, 0.8178470382061384, 0.20036914678565057, 0.6811884552867115, 0.37136728839431105, 0.5864624854548207, 0.5697416373171821, 0.82889400416032, 0.4778588360155206, 0.816615079061054, 0.16053482189560125, 0.49896660289970407, 0.2745672416743699, 0.6786318475690574, 0.6118518216581671, 0.09545711001629197, 0.8814928226587067, 0.4694658909503669, 0.25452976617547857, 0.18541301656032005, 0.7015802510265997, 0.5742574320012753, 0.44115721427368537, 0.6392522736202897, 0.5383626111077616, 0.577636212659844, 0.34005059551879346, 0.34184786651868443, 0.8646374354388786, 0.7692501987681515, 0.7736409839488427, -0.45344379706366705, 0.717000399353625, 0.015986533126116174, 0.00023411774972167287, 0.8291058972190593, 0.5991496473632297, 0.7188095258240834, 0.1709155504398672, 0.8756437192568072, 0.6894451877639582, 0.7043621019398303, 0.5794059716221672, 0.5838297267523075, 0.2728215533385551, 0.04941179927168447, 0.851336822019344, 0.3681921328311523, -0.047446639747600945, -0.0016188864337270336, 0.2361684912476635, 0.22940571834533188, 0.5248489255188852, 0.8059428289579722, 0.9202449523458807, 0.6531298761784039, 0.3012539772072539, 0.8353687290666751, 0.6537479466082917, 0.48310806066411316, 0.9318193477479136, 0.9406534284444061, 0.32522542968239554, 0.4273200650582451, 0.2995441518894824, 0.2439058513798787, 0.9437696092308765, 0.5161030059453368, 0.09098129434816221, 0.39526696160438757, 0.6565609138489197, 0.9557450161820674, 0.13668438632382773, 0.17253576218896632, 0.2609753037618977, 0.3444105561307938, 0.6212459115851814, 0.8483029221726966, -0.0655320582891085, 0.021388991809356245, 0.5636038082784296, 0.20677068568295368, 0.8291660395742174, 0.4857448157268163, 0.6160004671793078, 0.6727270522047304, 0.4492802386757653, 0.09015422703181447, 0.7855142084420633, 0.813363852064564, 0.6353040495143947, 0.23163403523031612, 0.6327557242249194, 0.724364947083594, 0.6077281521709128, 0.44768030016794835, 0.32062744428238343, 0.5261779484561888, 0.8942708095470058, 0.7270502101065558, 0.5793701022296454, 0.3962457955790795, 0.4170652026072814, 0.5091295038213012, 0.5915251594740921, 0.09978904683705958, 0.07441605955099652, 0.4395877863291369, 0.851633244333552, -0.10723861965043846, 0.6073873876018182, 0.4412418141486176, 0.1926665322242158, -0.019432701467004404, 0.6808379031969197, 0.7668671802287869, 0.4936352110867414, 0.7496201726191505, 0.5573900138517396, 0.5492626674558377, 0.7938567076453195, 0.8926166131226562, 0.5909462599972966, 0.6212027202696261, 0.460213720452241, 0.619673505667455, 0.04570491563267445, 0.28612394328466634, 0.5380271674975221, 0.6113984912328697, 0.5418854492104342, 0.8991936353558725, 0.8873756490639045, 0.7808850425305249, 0.6144086847677711, 0.6866430475442926, 0.5995434446899179, 0.795181585998606, 0.777439508389755, 0.5809636647735955, 0.3461740972135517, 0.5981516242431214, 0.757932113245019, 0.491913680504781, -0.019432701467004404, 0.6159812202088372, 0.4032203843282792, 0.5962174612648097, 0.5959037804990278, 0.2521331322945747, 0.4867152469557675, 0.8391198206381006, 0.7560459771078498, 0.8941343914118457, 0.5154593485236842, 0.7555284284921824, 0.9009381332038113, 0.34602590320772697, 0.8511839202548643, 0.6872884404292917, 0.3310507349697566, 0.692674255593321, 0.935160253397398, 0.8218872524306291, 0.6550966595719613, 0.5046495079510271, 0.6540635129911927, 0.2990925875961995, 0.6538245722725984, 0.5321523342800705, 0.34981005223397743, 0.9289899417484966, 0.15194971470720067, 0.9200216495734781, 0.35799151196258217, 0.395368444775312, 0.6536042530827689, 0.721535105520324, 0.8307056517511048, 0.8311361967797084, 0.6938210438908354, 0.6703321758845254, 0.10586690906973982, 0.6689188225538982, 0.8516216212746958, 0.5071870774405587, 0.5249868462696401, 0.5217177020242093, 0.5066723336414627, 0.5555886719151284, 0.6642397047074519, 0.2690119874157225, 0.38888026808270604, 0.2688909137593541, -0.041796176479444475, -0.3853432185538472, 0.3630256291269531, 0.6436572118420988, 0.7174729224456488, 0.5108747961925846, 0.6284642877099604, 0.5758105944316599, 0.6779541246801526, 0.8109235404651067, 0.7358335689373208, 0.9130610012393866, 0.9154606773515269, 0.6287878830066173, 0.49945726449335465, 0.7410917682779962, 0.7405324811109988, 0.23179818727764379, 0.4225823466655804, 0.5364354700967356, 0.7397372176001282, 0.7390089183786838, 0.30114042914879985, 0.7391506234057148, 0.7425701529883402, 0.29139032396877873, 0.4425049011340905, 0.4435523906224984, 0.7431905123726669, 0.3561894384392255, 0.5352629450172385, 0.8146606788735232, 0.7049295686569949, 0.6549536946157041, 0.6047542704549076, 0.5971689526516997, 0.8714471081015329, 0.29770486322249734, 0.5982732201932431, 0.8786835859035731, 0.6171798106565581, 0.5474391398386067, 0.5339238832395036, 0.8759275094380126, 0.6173237318097429, 0.9116150754272172, 0.47387817682968403, 0.6262000296590846, 0.4500520821073117, 0.8736840347844096, 0.6269728919663056, 0.8895433274828906, 0.6262479836956146, 0.6272802401692754, 0.5886230528233106, 0.30645532952982435, 0.6072787326196742, 0.6115672089537606, 0.9033701544772585, 0.8970243206062587, 0.8566828713518108, 0.8562460101743372, -0.1972710330449117, 0.8593053911717143, 0.6122652920326365, 0.5526158956807942, 0.09324888908912456, 0.36655050844091414, 0.5378344847321831, 0.6128799809983658, 0.6196011355126039, 0.37215091487183066, 0.02796271079492097, 0.2999197483950903, 0.3722632891097101, 0.8710674713767352, 0.8689059083749361, 0.6231012349528103, 0.3666590669166216, 0.550652464915597, 0.9113385246112453, 0.30795066769024043, 0.32062744428238343, 0.8406778360122109, 0.8957397529776797, 0.46027332997563647, 0.09959449775395565, 0.5927447508264588, 0.5443419375598544, 0.3738994357446022, -0.060424633361350094, 0.6230861965934549, 0.18872664022195879, 0.8316842311615289, 0.9999999999999998, 0.7449120400351401, 0.40175691338768404, 0.4298802293582335, 0.401681586856221, 0.4301602795357228, 0.05489746534391799, 0.7501027240533431, 0.24119991852137018, 0.1391087562307253, 0.5707210643085802, 0.3383063462806063, 0.43167311593903734, 0.7439865814990475, 0.48960482200692856, 0.4676488460645115, 0.9702999137384535, 0.13636912834772508, 0.7583223108047888, 0.691635404239155, 0.6909093077322283, 0.2404950878191419, 0.13545397992418284, 0.26464403618299126, 0.3330385453169742, 0.7627569266304322, 0.9173062251775693, 0.26542326543315015, 0.6965128461298427, 0.9573794300261483, 0.4922835783082096, 1.0000000000000002, 0.7227741898502402, -0.32254686091915147, 0.15260245701899147, 0.34305204145913604, 0.4171455565283759, 0.7250532436468207, 0.7257514854883577, -0.10134726493086083, 0.7269045135537059, 0.5017033497112144, 0.414219785254505, 0.71562233568544, 0.7312550929678073, 0.7040380472909799, 0.7147391405989241, 0.7137463924172296, 0.2213416261706105, -0.16373567338360012, 0.735972019841563, 0.40687162875043353, 0.7366046467944393, 0.42617985177683, 0.2036727708782473, 0.7412716792564734, 0.562572197661446, 0.7047651692270253, 0.5099337177016602, 0.5106946473957337, 0.73302240843923, 0.5176767494812169, 0.48512476396544396, 0.7688324811662648, 0.800453243782383, 0.4426706105213776, 0.6817001686654981, 0.8033318309906551, 0.013875014453971329, 0.3269059777544102, 0.9316282541320394, 0.8074282405756154, 0.6440817656554344, 0.4451718195431197, 0.44627603471082566, 0.6413962361341095, 0.9309042292618367, 0.8183728717653634, 0.2894742665850081, 0.8214096496777371, 0.3827520207798434, 0.3245718756797248, 0.8265647872543689, 0.8267274740288431, 0.47564706146478947, 0.46383965618556156, 0.4668997354295869, 0.17448388061939213, -0.047582420903335414, 0.8277153785025712, 0.8312619630402102, 0.6303269562223667, 0.8313313357338158, 0.07282626840532762, 0.7984710003560673, 0.4788620171926256, 0.7970290168226252, 0.6813141990530319, 0.18745667546483072, 0.6767683529202628, 0.7724550245836553, 0.6757566941068722, 0.13094932250343982, 0.6752816656310103, 0.675069516579712, 0.4404792182128063, 0.7778290756951838, 0.5764145183375701, 0.5192208109117048, 0.48089993942873693, 0.6568040626334757, 0.7967082981109012, 0.6684960955331966, -0.04085097773690636, 0.7954732323379631, 0.788456560027299, 0.6617883520027571, 0.5391131282206642, 0.5391131282206642, 0.3718555159891329, 0.9999999999999998, 0.6327628186631843, 0.21932885473764377, 1.0000000000000007, 0.36661161733533726, 0.37056654921294413, 0.9999999999999999, 0.619189588049722, 0.6292686150717085, 0.9651646425231848, -0.0221386647463712, 0.10331250231293182, 0.6242846300945116, 0.6077212733551345, 0.6060318225308093, 0.9742633005075318, 0.76291069297337, 0.6054700119559888, 0.9222173266767808, 0.008526231722733852, 0.5664048680762723, 0.6969950456973242, 0.6948799781489153, 0.8398905754816863, -0.0016417283612195305, 0.84038198099687, 0.4831267105885146, 0.6907233227372465, 0.1588481815208164, 0.6872793562770029, 0.1588481815208164, 0.6870974434546236, 0.7388017516195998, 0.686231229400367, 0.4850390251940133, 0.8534872703564024, 0.682210790270047, 0.6810404783171022, 0.8597013100194337, 0.7374630963868541, 0.4576431042118202, 0.2385657131615833, 0.7039944567588774, 0.8006183418429234, 0.7321042951685769, 0.43788173931801966, 0.726092046749537, 0.524063982536006, 0.7223475832968176, 0.8079380055569663, 0.7972940017360558, 0.7207665938829984, 0.7181196286577166, 0.8120995467063973, 0.47388266739766094, 0.81341525397516, 0.8172582857138031, 0.8186833539910449, 0.709153845755027, 0.5621396393815076, 0.5639433889643635, 0.7063815441474468, 0.16528257228553275, 0.7041016506863055, 0.7033273964675988, 0.43791436393356636, 0.5533930901088383, 0.4410626071188299, 0.46445127308162504, 0.41322395722336813, 0.4904908516401416, 0.5806209781770006, 0.3457209026837136, 0.7754557582204797, 0.5446384391009356, 0.4643950688356509, 0.8988345148219856, 0.7594586292382774, 0.1928668209090155, 0.5862102506163333, 0.6467942115620468, 0.49438750536553294, 0.9146989056080176, 0.6426117425643615, 0.4561902087867755, 0.45921054528392596, 0.07246494800453385, 0.7642491371175735, 0.19163388714854956, 0.5700102427583084, 0.8935272151079116, 0.3438789058990652, 0.23608399650270206, 0.7899060448119698, -0.07117734277865989, 0.4210533660031683, 0.4874215180660689, 0.7441699044417297, 0.8687787634115394, 0.3365313557258868, 0.6668430747759443, 0.8741304621234732, 0.7510575964263284, 0.7825034046959727, 0.533437760400252, 0.44442360397166997, 0.5147730917867973, 0.8851223085327665, 0.886463180988102, 0.5485057099604432, 0.4460771365553856, 0.14018551835845114, 0.13788409719198552, 0.890283890908384, 0.527296960522644, 0.563677264455529, 0.272115853923593, 0.23129051655205862, 0.20570554572211217, 0.4393476550876658, 0.8842214589685042, 0.7206708447207896, 0.42393389969349665, 0.14309318725525408, 0.8808895144627681, 0.614655290860778, 0.614655290860778, 0.595989430186952, 0.529380240164936, 0.5300648017664045, 0.11901550610384835, 0.6207953326861912, 0.5313074799734874, 0.6238984786804406, 0.5788345312109469, 0.6442552160397711, 0.5522308564758412, 0.5519915830247569, 0.6296696017734128, 0.5377502506884598, 0.6299360878973419, 0.05297618403855367, 0.455484635597709, 0.6149553816558999, 0.5147007425104175, 0.5680072891065473, 0.5972883657563318, 0.4289917174169044, 0.43419453778057987, 0.5121121123439885, 0.42730581289139197, 0.5701074846585827, 0.6054074840406668, 0.6058757696703176, 0.5582823259001869, 0.46351248586912425, 0.12371221792037171, 0.5925915748010333, 0.6370118763476679, 0.6111564462252345, 0.5916251661337109, 0.4608407192869088, 0.4562114419903357, 0.011794605552577088, 0.5457279045257795, 0.3954052260970571, 0.9214487728873829, 0.21370909010793776, 0.9273026295551527, 0.7673183724411561, 0.7719149884220143, 0.39113274743816323, 0.9305068616195834, 0.6809127422338846, 0.3947412681993829, 0.7802504657390128, 0.9346573303512483, 0.7559410623089905, 0.7820606498761594, 0.8407043444671074, 0.6775039400945616, 0.9357560142096212, 0.7879623870870407, 0.3978742916103071, 0.3101257869622882, 0.39831442119900756, 0.239270114009367, 0.9443655294495034, 0.6713968629434907, 0.3210176015408268, 0.7822747931785811, 0.6885921633362265, 0.3880938856286775, 0.9208749896066293, 0.7076555717624778, 0.36876906116825464, 0.8937641756350774, 0.8822984660517359, 0.7205621657115073, 0.3650712927459062, 0.8805517197016637, 0.8728637839920871, 0.7009256000427098, 0.8993965649573442, 0.38126839361902753, 0.9072320315913204, 0.6942083717340265, 0.9072320315913204, 0.35230419344755987, 0.8632540379894232, 0.17394576118065125, 0.6929573984707521, 0.20958508584333416, 0.7525780320361761, 0.691553129526698, 0.6911468586791396, 0.9201046840424468, 0.6893127687845934, 0.7536775653943343, 0.7893400123932963, 0.7907909753418562, 0.7126689642632723, 0.9512339232060792, 0.798997002492911, 0.6556501707981331, 0.41335778553552344, 0.9608782531577243, 0.3067751097264067, 0.9481236438507834, 0.651965652013186, 0.4161438737381946, 0.807734352617635, 0.3303977082356659, 0.1411783835195926, 0.6485999404182877, 0.6485579862183732, 0.9729282937013324, 0.6483056387170569, 0.8254631364744967, 0.9999999999999997, 0.8148457417758973, 0.8164915157341247, 0.42217794482122106, 0.9727255505249033, 0.8322654881010157, 0.41595025665187413, 0.9591837050376116, 0.6654930691819243, 0.6653389395797495, 0.6660620719894002, 0.3210176015408268, 0.8421469818050648, 0.2711031299451452, 0.4878946655318785, 0.623599448111058, 0.659807164403273, 0.7872400197844506, 0.49762504388242507, 0.5102532774741394, 0.37704740468517245, 0.6263056276557022, 0.5411423950917641, 0.845530608273467, 0.3325084728343516, 0.28807861324334805, 0.7178910912648426, 0.7178910912648426, 0.7178910912648426, 0.9839714430114627, 0.9839714430114627, 0.9666508837398032, 0.8746058585467011, 0.24349244015957713, 0.39431987869524704, 0.7817345063021869, 0.39407682762474777, 0.835184753254785, 0.2766000040542075, 0.4131674374429001, 0.8570632853420189, 0.754424853135369, 0.4111585183737663, 0.922324794078157, 0.8295228403064375, 0.8641286872907473, 0.5526072992420403, 0.5040421445373696, 0.8540503779366013, 0.7681306483332856, 0.7684140005878413, 0.6478879011764571, 0.7743415582805663, 0.012969111120110635, 0.03901756052504023, 0.39309519810996224, 0.5502891659691573, 0.2677548896611969, 0.840453068184447, 0.36891336752823745, 0.8117160093002377, 0.6299359826049674, 0.8872353153905377, 0.8224823005273612, 0.8028254197452331, 0.6852614843895644, 0.8191376950274083, 0.8384502116040873, 0.8384191556831301, 0.819887868061826, 0.8379847764605102, 0.7532310405421532, 0.5196864043841807, 0.8406570446879844, 0.6381336091136612, 0.7944422309247081, 0.8494938364195279, 0.833574151502295, 0.3580400171258953, 0.6056935215413962, 0.8669031470511749, 0.8954187663055331, 0.5138511293012419, 0.7934306887669557, 0.5245204971914661, 0.8447311485530256, 0.3341885468241643, 0.3891324932094546, 0.8254420249328108, 0.6245093779020794, 0.8408985761918761, 0.8499775578177657, 0.8144502538425802, 0.562572197661446, 0.7193785346779213, 0.7156371198304059, 0.7410684419493097, 0.5912271109559315, 0.4518691746061921, 0.9688561851271584, 0.49486145237724544, 0.9440393090666193, 0.7370949825395905, 0.6594886134945684, 0.1661518228302915, 0.6971719334831715, 0.7235890674098522, 0.4561365402933561, 0.4824009153175979, 0.673750214104075, 0.9859826683198005, 0.9500095811082225, 0.9508811106031546, 0.9999999999999998, 0.732495786327051, 0.9667911251660176, 0.49173661110757866, 0.7289236534223087, 0.6660122469001077, 0.5763337063085778, 0.48848170325424295, 0.4922800391710093, 0.9694770808635577, 0.3508496134780564, 0.6561358040135162, 0.4958116669244711, 0.9330049353054243, 0.46008984442722106, 0.569800952652356, 0.17571893663632468, 0.9346256888090263, 0.7417376191801743, 0.45979686354488253, 0.35659031909295624, 0.7176835462576363, 0.9750189516097667, 0.7469733566122814, 0.7176835462576363, 0.932501658431355, 0.9727355636165829, 0.6916329196665472, 0.951890554871411, 0.4309252021372569, 0.7097842318424956, 0.8334990827694438, 0.9044886607238223, 0.9562079607244689, 0.6732200380820603, 0.7622092877006093, 0.8488422290535201, 0.38890907002272923, 0.9162367823754534, 0.12050824607485817, 0.6508870917991812, 0.6491343615264978, 0.4864328579811977, 0.7200011539640626, 0.900340361046404, 0.38861562943615174, 0.7915677447521422, 0.9412191681404167, 0.9705199236414456, 0.8661180499446405, 0.8647396807028159, 0.48200524692054864, 0.8673007749241762, 0.7112711294075917, 0.7488752514509504, 0.7571407721083793, 0.5660475999115726, 0.9190378975636639, 0.9188913916131234, 0.48111235223739546, 0.9216269040595464, 0.925950646042241, 0.3498301132877167, 0.11533718424331309, 0.9136785160965497, 0.8884360656225035, 0.06854526938323706, 0.721622751555073, 0.8910361636715821, 0.3857468314503758, 0.9034752495193559, 0.8855554955824645, -0.1759010275350222, 0.6550516128156528, 0.5859165688785389, 0.5031383566940741, 0.8968453221976599, 0.6529039251122343, 0.8990837435704816, 0.5885901471654839, 0.8843521667335202, 0.3122753862423041, 0.7329342115400699, 0.4850555716788282, 0.48576662197318204, 0.6304650821970676, 0.8742072061407052, 0.6642370786635627, 0.14758434677763813, 0.6296726555024746, 0.6628225445918619, 0.7106867445487381, 0.48860215207335733, 0.7399691990163176, 0.369741582082713, 0.1284797649279474, 0.36284070700824445, 0.8803262840170172, 0.5697415956581204, 0.875820412191802, 0.9030333593404788, 0.8603168822174367, 0.17184435167146297, 0.437645753239841, 0.8187532306907664, 0.9794234077795321, 0.8206120812040615, 0.8232458214922169, 0.43859236467376406, 0.6010045739420482, 0.6355360340680182, 0.86109003242124, 0.9456285690466112, 0.8281290244201659, 0.4656255952872077, 0.9872361242674821, 0.7764619584365668, 0.8144832566142532, 0.7814868979719117, 0.8112641103685821, 0.79565910709499, 0.9690497210569549, 0.9651501484542441, 0.44987773467523073, 0.5431454430167899, 0.6027935517194778, 0.539144814261274, 0.6953059984331922, 0.4584528896958793, 0.44452138227563265, 0.6024769163402017, 0.545504011548662, 0.9767304575578319, 0.5456194283803625, 0.39697407982564753, 0.6809088049184687, 0.7031963394017915, 0.5332064108185557, 0.8516956899102542, 0.16247857381509756, 0.3727809825303966, 0.7627090769131611, 0.7616852984795304, 0.7063823619356209, 0.24762834204783885, 0.423846769522351, 0.5606211776196468, 0.8600834972135697, 0.16162749168753007, 0.8366257258099532, 0.11952179144818526, 0.767729375793877, 0.768965454612209, 0.8373566191894315, 0.4399870249136711, 0.6918131602165467, 0.1502438059257788, 0.9694770808635577, 0.40340327524212166, 0.4381553427400834, 0.3784101980557894, 0.639052920927076, 0.9666508837398032, 0.43660149145927385, 0.6781523292782621, 0.42079877186642994, 0.9666508837398032, 0.6450429208072705, 0.6282798104882457, 0.3783259517353263, 0.43617556171450533, 0.4260413960082272, 1.0, 0.6405179641432106, 0.9539595765810049, 0.6406189570763954, 0.11793906234005902, 0.6895655858179981, 0.6895544458849227, 0.9553759589478922, 0.15966175892901693, 0.9520886620119748, 0.6531906928832119, 0.9722893351302251, 0.6688353059216403, 0.9705199236414456, 0.6491083515226073, 0.6492411658854695, 0.9500220212861351, 0.6757842178128111, 0.9705063795465677, 0.9999999999999998, 0.36582522896319597, 0.9701572211279283, 0.9999999999999996, 0.9666508837398032, 0.7655458936867316, 0.5905166498253559, 0.3045968700851837, 0.4952241967223813, 0.837095863929258, 0.7310160226789147, 0.2178528998318762, 0.7306109737095605, 0.4892311367972938, 0.4875170205503157, 0.5573333946682298, 0.48392675110158057, 0.4832528910740238, 0.07156621654168763, 0.5570696828837357, 0.3191274322176379, 0.32051360824534114, 0.7267584442960436, 0.7823756115812198, 0.8646394660561746, 0.8669946055766217, -0.06712371803200566, 0.2881669253482842, 0.7819253300122734, 0.41191027430470734, 0.8259581548588617, 0.8253560706084908, 0.30157375395032204, 0.8231043666674622, 0.8013902816581358, 0.7999532696060512, 0.40765754569962076, 0.4068573094384546, 0.7955860170576966, -0.0019088068957983564, 0.5102451457091574, 0.7929563829942878, 0.7457885260045681, 0.8110557693008256, 0.05614100736995154, 0.8731356305717173, 0.05842036421354235, 0.2943129453168804, 0.5049959332320662, 0.8155498776649808, 0.8167877326612829, 0.8182641851073039, 0.5751002868729574, 0.5609055543875787, 0.7374790092985146, 0.8216870974262461, 0.8221857802918678, 0.7355292321639088, 0.7408822322987078, 0.7807166255987696, 0.28391119794814784, 0.4681507405897214, 0.9060019725648277, 0.9060658402523079, 0.9066174088004624, 0.09208085427395084, 0.17961975544416942, 0.5947504660523873, 0.3983063933887339, 0.35348479663548277, 0.4553484392799143, 0.7625878172036124, 0.7067509435528813, 0.45240011242686884, 0.6086313457129618, 0.6088332637398516, 0.17961975544416942, 0.6092137947148464, 0.7053064429125628, 0.9146470952411451, 0.9162937061450469, 0.6153260420864206, 0.6078716791131717, 0.9265440849374522, 0.6167546714061801, 0.5531633225640051, 0.46513553058712176, 0.3355526247922697, 0.8899824492652196, 0.7642759117753014, 0.08507540938831616, 0.603112702119753, 0.19917620356490054, 0.7660609681980272, 0.895536281769254, 0.7127700946385876, 0.7745500068162641, 0.9354130011878247, 0.7601366302014867, 0.34276945260005864, 0.8800457076733456, 0.5355426517804335, 0.6208610527933274, 0.46584625796361173, 0.4427517089368827, 0.5903358721009122, 0.5903358721009122, 0.692406368485895, 0.5824794378356136, 0.6030318270759928, 0.7022642758383877, 0.5841362308010807, 0.5601661167891498, 0.448795037876984, 0.5985225407586435, 0.5625250434458124, 0.5644076514257593, 0.5792440650816967, 0.29190521656310314, 0.6985578133432627, 0.28365757672866315, 0.5671512186136944, 0.6971392734676934, 0.6984458197514819, 0.44998181811937593, 0.4176333042154015, 0.6667395184922941, 0.6221160182405244, 0.5513082779993297, 0.5034562332625856, 0.23865888264737287, 0.5000657626936569, 0.3812066312214503, 0.4005357128303535, 0.6424368912074286, 0.49652424612467855, 0.6433658845958511, 0.6741170823765377, 0.6740477763292646, 0.390407510136128, 0.6584408845616685, 0.6619787608384151, 0.6632098958783496, 0.6645908689856612, 0.5060033417222171, 0.5096931672390894, 0.6333521560079585, 0.5119657360095855, 0.5512068863947002, 0.5509701120315711, 0.689662646063668, 0.6084443921353815, 0.33132416850157914, 0.540472076255331, 0.5397983428602614, 0.6059101589751368, 0.685504502706743, 0.4821410841487149, 0.35300441483698847, 0.35901205556110366, 0.5207408867348917, 0.5174412469264029, 0.5163194538145691, 0.4282560372012134, 0.6204278435058915, 0.3471500542112387, 0.4359311558240127, 0.7986988805195835, 0.975998169439092, 0.8343410012006044, 0.9760006658158054, 0.9799752673538685, 0.8346725421716517, 0.9821926764995619, 0.9120157252345805, 0.7344823284496325, 0.9875452541442886, 1.0, 0.9747657552708645, 0.9999999999999999, 0.909699030024108, 0.9069018753915556, 0.8057537745383048, 0.9065826375025203, 0.7919131488322774, 0.8420879543229346, 0.8439849484265813, 0.8990395333316962, 0.8975946247741388, 0.7105777345268334, 0.9097956727492126, 0.7880714752109128, 0.97357740350458, 0.7149052500289481, 0.9511234333590393, 0.7797343995685873, 0.8190274830000407, 0.950251336031393, 0.9454614050206572, 0.8226003114422591, 0.9403252764649324, 0.7261012307688642, 0.9370035222595442, 0.8275535231989386, 0.9681767052658304, 0.9339443742661548, 0.9685725481955512, 0.7850722293391637, 0.8278533038238911, 0.09409500543421115, 0.9289861809307508, 0.9277723539910132, 0.9257132765216939, 0.9232545173077467, 0.7694486529847767, 0.9710806872520177, -0.037773570907677086, 0.8471964474307329, 0.8013597249487802, 0.8402654491987472, 0.742673651586237, 0.8002560251778723, 0.7552428109329669, 0.8813161969511144, 0.026828024809121612, 0.8899643944228316, 0.8804607289134518, 0.8595971804827326, 0.8603046857706199, 0.892558907929069, 0.015003252081246707, 0.7084341116602314, 0.8668748844730869, 0.8684595947308139, 0.868778546704371, 0.8690217132165677, 0.7481717848982331, 0.3150940527829849, 0.647157611963769, 0.28402996204949144, 0.6776905973956237, 0.4500741515978338, 0.5669737148847128, 0.8863445439899541, 0.5385892922848909, 0.42214807761527545, 0.608308747417458, 0.7778944595201168, 0.45018665585869316, 0.3025951498745594, 0.5014460252729818, 0.8091408459460903, 0.2817579078520989, 0.34358545524576, 0.6338754188531458, 0.9410016451141497, 0.36424777176168394, 0.49039092152801933, 0.7808444232570759, 0.26240594170386894, 0.8925475472584716, 0.4022424172825114, 0.7845514373832698, 0.2692749459771595, 0.8676111064562572, 0.5687324776789743, 0.9346354047337876, 0.8679711759125889, 0.37092559274763215, 0.8126369436392292, 0.4777727905246096, 0.04076917334846519, 0.9780151967832006, 0.8181911983593223, 0.9135705191095389, 0.4911091077333519, 0.9371386058860457, 0.04727488895895611, 0.35065122305288104, 0.27138091827412, 0.3519872455293937, 0.7198818956965809, 0.7198425094310247, 0.8616123247478885, 0.9120285402500878, 0.6595596720888848, 0.5751002868729574, 0.6899580961685744, 0.9418204088103078, 0.7809611903568202, 0.9661321431538176, 0.903079176335462, 0.597269657323104, 0.5925330579117716, 0.5663720780749971, 0.9524086516454583, 0.5925330579117716, 0.7754937903277862, 0.703849676252951, 0.8951085632390527, 0.9494920016843931, 0.3971187638280959, 0.7959657566444914, 0.8940459963895666, 0.8792041810226895, 0.6774350093935875, 0.8183118344702318, 0.8070467539714432, 0.7098003108489802, 0.9357682433339843, 0.9204441142155795, 0.9301146621785324, 0.8095397090366836, 0.29661983879647236, 0.7770852236562724, 0.49016342063386015, 0.2660450928655115, 0.5670017257435919, 0.9567250445001808, 0.9552885282393561, 0.4682579731374576, 0.29118575856568674, 0.9212760796407088, 0.9543982803115787, 0.8046767647458961, 0.6754251696872794, 0.7466087777075049, 0.6371425657542885, 0.4315130828469936, 0.5103443749907767, -0.14080258626761893, 0.43152858798724314, 0.7421961570985516, 0.4594271484599332, 0.8200113728471167, 0.34358545524576, 0.6266214139617649, 0.6438579368278352, 0.13408056688976705, 0.6524648616481037, 0.5254608663202989, 0.3448199988622881, 0.6522384562313015, 0.6244595961325164, 0.7366071910802768, 0.7561949491374509, 0.4331281159595985, 0.6449048346423243, 0.1090246452439886, 0.63753339860629, 0.7538892380710063, 0.44017984511395863, 0.3300126839895652, 0.8359513448578945, 0.4409707305964938, 0.6371818450421576, 1.0, 0.8477705617345299, 0.6223316065081417, 0.7591703425660515, 0.8301321005756439, 0.8293951513370055, 0.7459454741637974, 0.47737379673826247, 0.8457840357631508, 1.0000000000000002, 0.8401539747107318, 0.4414328713325379, 0.7987313526911767, 0.7987313526911767, 0.7987313526911767, 0.36410042231489076, 0.02820744909326638, 0.7515938687921004, 0.7467720668686582, 0.8284472867701297, 0.7136155140820246, 0.46529460368886544, 0.8637540699931667, 0.8284472867701297, 0.2746346135696261, 0.15052770079733085, 0.22118352241547004, 0.234024748220057, 0.33857023814048, -0.01694247636209283, 0.6250431560937169, 0.6326772933204329, 0.3701267028144052, 0.9124252764841616, 0.17404674922327942, 0.35566291848444526, 0.29563156965416176, 0.9337457379509168, 0.4197078486814207, 0.5210390576252154, 0.8466356970331297, 0.7171331261896924, 0.7897474101750546, 0.9668770287301908, 0.6054219434629562, 0.3008502558506206, 0.8802801615766112, 0.8320905785027976, 0.33225692909789256, 0.6036162266979341, 0.9425774922221117, 0.3046408913409974, 0.8216921203373055, 0.6185583269316278, 0.6052856748909216, 0.5428913647425919, 0.6036271958101309, 0.41503509967793845, 0.8358559792812773, 0.48515148634866717, 0.1645970396877001, 0.6701725761496268, 0.9289217713510335, 0.5921515386634917, 0.9605957960102506, 0.30655113061473327, 0.8394560784260254, 0.5529724089542245, 0.8185966573799112, 0.8719920618813866, 0.9264234526244772, 0.9771285292748582, 0.5276647203184074, 0.871937141113958, 0.738181896427998, 0.9307905829872637, 0.6295515523098784, 0.7769977259744713, 0.32400685946031454, 0.8165045836697857, 0.19656811929365742, 0.48916799618629997, 0.7810359244319331, 0.5955269940781891, 0.8843178353112988, 0.7902223346874558, 0.9330776622123492, 0.8392769687486304, 0.6048445424857615, 0.5916994627054181, 0.8936345977994845, 0.7979858571977785, 0.2837646288827689, 0.8606046034118544, 0.7558230041830194, 0.5011866546116224, 0.28275303466983215, 0.8935401787553123, 0.17584681542586694, 0.8791452106440855, 0.9500891450594999, 0.38606532798038895, 0.4559479951171819, 0.8299246567067902, 0.4566265169882004, 0.5795012592716066, 0.6467913105523155, 0.6469203249244359, 0.8004646019139992, 0.5712482176383146, 0.5189624098942369, 0.610900392291131, 0.8964416417333292, 0.569005874038783, 0.649618486201619, 0.6494991598363751, 0.6961451188972789, 0.8280884748903142, 0.7254488665429747, 0.015579695080034017, 0.5774768885974454, 0.6756120721261858, 0.3120269656335344, 0.7848498283096694, 0.7670584079137198, 0.642483729491087, 0.7522101211401174, 0.44859745820338803, 0.47797350631134805, 0.8478981662511649, 0.8478981662511649, 0.7927236419177858, 0.6874355218103853, 0.40282394647386044, 0.22711504821083392, 0.8759642006657666, 0.03588432934290878, 0.6378514993311938, 0.22820817042232827, 0.5641831489196468, 0.6172246269596501, 0.3818452242396651, 1.0000000000000002, 0.78415544269503, 0.8104053144714312, 0.5855434653829278, 0.8103571880965379, 0.3830118498001692, 0.22905005995835415, 0.7057309481001256, 0.4328703042977307, 0.4847711539553662, 0.7030395098622355, 0.9102922117998835, 0.5273989701724814, 0.2232866742208967, 0.49385407775228785, 0.662871161564918, 0.6980701418575384, 0.7044427929964777, 0.5218140006533466, 0.5707773912731419, -0.1490233224351147, 0.8155208336689379, 0.5414756631439953, 0.3018109427229612, 0.5452585747830935, 0.29706951906074197, 0.40716911066210254, 0.7118522002278397, 0.6545127754112965, 0.7148921909986522, 0.9155890216396556, 0.8721879707031704, 0.4625432828629379, 0.8700343074162661, 0.45913314110281506, 0.42875052939661107, 0.9764958059951399, 0.39248393252993247, 0.954209761971014, 0.889016690600225, 0.39161217103982543, 0.9533948607139405, 0.9321327648764115, 0.681040724801181, 0.6812582402141011, 0.9489403734156822, 0.905675306376309, 0.6936525021389942, 0.8930468526866685, 0.9466650697343488, 0.6849375198983217, 0.6860364514813532, 0.9450233641739685, 0.17601151566158868, 0.6872852983968045, 0.9414472361615137, 0.8997753599133272, 0.381679855614037, 0.7379750790076446, 0.9356587900134418, 0.9359951695747925, 0.6908506736931815, 0.6776554806837866, 0.45774526745994765, 0.420272515922067, 0.9555118713126869, 0.41084597655176414, 0.5495941551584688, 0.7082023376588858, 0.9137547664824767, 0.9212857500030767, 0.9212857500030767, 0.9212857500030767, 0.8788394967329023, 0.9222337222263974, 0.2072731319426877, 0.7538269415809667, 0.6705384999422439, 0.8836405506852534, 0.96178843594269, 0.6718328134140102, 0.9611414047343267, 0.7024066959542878, 0.7490894603867249, 0.7259609747784288, 0.7474927996954418, 0.7470998861781106, 0.7008457417416991, 0.674953351594169, 0.7005078665860378, 0.41969664387357175, 0.9280358220027175, 0.41810966827679735, 0.8260305989817498, 0.6525853959297166, 0.8030956567546473, 0.6086079200156205, 0.3163614084231847, 0.4818139862248608, 0.5460396826734158, 0.6060432851320868, 0.8069883536452624, 0.8072023302845757, 0.7901491792740857, 0.5154602417843643, 0.4830639543318082, 0.8611415055476527, 0.8341351472788507, 0.47689041558812956, 0.8338954202596167, 0.8338757321939596, 0.6021669879630221, 0.8105791896911171, 0.5200773337572092, 0.5955320841164354, 0.8152685087007193, 0.862420720447456, 0.6414812676862595, 0.8155505082556029, 0.09735970040749468, 0.6111022773943869, 0.5475415649775939, 0.4931397638207845, 0.3315247070409893, 0.4955641179092883, 0.2717283812204151, 0.7860346436618701, 0.6315921810076234, 0.7859175320809355, 0.6234404089948394, 0.7858926134486142, 0.7818421328748102, 0.7664617434070085, 0.5001722323992023, 0.6334973614099632, 0.5023878369139987, 0.8437928932960853, 0.7841060451278224, 0.09375624328311129, 0.7830342674757158, 0.8426635605048042, 0.7822234246094567, 0.782196527345959, 0.6226154193974622, 0.7730519111784897, 0.49134200786176196, 0.29938053694315087, 0.7690568844326985, 0.6485637110622199, 0.7705159946239925, 0.3495288251623772, 0.5782310409517236, 0.9999999999999999, 0.5444512043970853, -0.10057815818734171, 0.7665339580183455, 0.7704127479613878, 0.5311002340855027, 0.7689516391596708, 1.0, 0.6476094063089707, 0.8284098876904284, 0.5885435023143407, 1.0, 0.8215245796908751, 0.869063176481365, 0.923828221364728, 0.6209946312121308, 0.0866108401973402, 0.3167014283411393, 0.7774491710382277, -0.15757363189858362, 0.7773444874036983, 0.7301107000072907, 0.9600138397402738, 0.5439462372251334, 0.6551073854751404, 0.9361259090975756, 0.657742212415953, 0.6252343235231149, 0.5936121780618235, 0.6529044513292681, 0.9374992300624867, 0.4714550805945294, 0.6528709023983361, 0.5871168192252175, 0.8632653789495356, 0.7189795962484328, 0.9589914387437395, 0.5315416952021774, 0.5965334175689083, 0.9584637397647991, 0.8313971054476085, 0.5823935162116329, 0.7831350071272488, 0.4790430320012906, 0.8894210155507752, 0.8891595039362834, 0.21004611118247984, 0.6639873824518968, 0.10818597774641879, 0.7541500893029202, 0.8340960677537878, 0.9591260050705122, 0.4764001487631217, 0.9580247245290828, 0.6197591798484283, 0.2674412908853916, 0.47578667262209484, 0.24275335147161092, 0.6201210223251515, 0.5371533586360274, 0.8678625294642993, 0.7244539898930284, 0.5484728572336109, 0.9854779242210621, 0.5406593222767816, 0.7306933084553121, 0.9624641485352378, 0.4256694213471958, 0.8746583145775445, 0.9469729843229493, 0.7678637411523778, 0.43897294987416036, 0.969068701264867, 0.7612656178234039, 0.5703777658171805, 0.5574367692288726, 0.6421023563759687, 0.8703084932805185, 0.6413935631330667, 0.9494394518034925, 0.7378009900557007, 0.5691004098742638, 0.9665170811217654, 0.5603427713551806, 0.5610123974813566, 0.8720306289971271, 0.7422821787004923, 0.8715618669129231, -0.01707400924036186, 0.23507094591242614, 0.8550884041466961, 0.8565860520481873, 0.7459454741637974, 0.6332615477199072, 0.8523714397204002, 0.9551490147956361, 0.7683493872647539, 0.9714325221569046, 0.5722398995143315, 0.35817432759641543, 0.5974828666853789, 0.5660774974476803, 0.9552939446681284, 0.974137455045377, 0.8445368549807855, 0.5521752253890309, 0.6468880997177542, 0.46679508554341204, 0.4279999721238207, 0.9733656475385132, 0.5531721430494755, 0.25583252847073396, 0.4663872192819507, 0.9730260408258576, 0.9730182071697512, 0.9729844855826199, -0.07744144331446857, 0.7355571020413009, 0.9612211761470685, 0.748082084848813, 0.43092448306867054, 0.9718415883528254, 0.7608199328509102, 0.2539636179999001, 0.5555118558894543, 0.35847530664314486, 0.352547308476597, 0.8062277191251461, 0.3698886565114759, 0.6778584987401173, 0.18074992328203893, 0.37989519679523187, 0.7087306283405259, 0.7930276951847923, 0.9213712231929099, 0.7913344964393884, 0.7101131872735127, 0.1963444824949513, 0.6874695338136826, 0.17858259938780002, 0.9035104094079012, 0.5168809296502245, 0.911855781281698, 0.27604951272901446, 0.19861582354258248, 0.6982717288013887, 0.9257371831586905, 0.6980163921588747, 0.8237632076236584, 0.8109719258153666, 0.40589435502191656, 0.6000848303525561, 0.4052062842278656, 0.9188135897735367, 0.9018135432401019, 0.8158189928381422, 0.49479976275285137, 0.40194373847368825, 0.49449869962714893, 0.40250393268847895, 0.8158189928381422, 0.5187078630677184, 0.6107193344358832, 0.18199988827492086, 0.796838250462539, 0.3853043513288199, 0.403706125594642, 0.7008598085268155, 0.700547541079389, 0.6792540160658465, 0.8184520115838299, 0.7954200377892354, 0.3857266749568315, 0.40050450891344347, 0.9141927161916757, 0.7081769381589409, 0.8243427337502283, 0.6835596627266403, 0.39552438785551075, 0.9999999999999998, 0.785536328651551, 0.37229643542734275, 0.6702050369743321, 0.3929201474942274, 0.2729864904041098, 0.6952673228588255, 0.3921584515684763, 0.8096552332042539, 0.5838098803033842, 0.526421552180113, 0.6938791230588542, 0.5287914146199277, 0.5109314332961765, 0.8054977851931376, 1.0000000000000004, 0.39804902327523534, 0.5031177547554692, 0.9275529552930074, 1.0000000000000002, 0.8059693145356621, 0.6926672645130842, 0.6924275153893855, 0.8253827275085194, 0.8034420500544904, 0.7485085046720752, 0.7485085046720752, 0.8983547253906172, 0.7043674034337362, 0.4983959809187368, 0.794894570740041, 0.44031253453849645, 0.7240637229859628, 0.5395060265199, 0.9999999999999999, 0.733464227033352, 0.5492220467988732, 0.5495996620185953, 0.7968446300704966, 0.9126624872616658, 0.7954876281158746, 0.8049687167004588, 0.555505060782305, 0.5548853787884858, 0.6770570807311369, 0.5381341531128784, 0.6022264313546241, 0.06479734106293171, 0.8055890586829035, 0.7336609389886243, 0.9122320333269608, 0.4987318523782368, 0.4793175674105132, 0.6609417199455236, 0.3767638775986775, 0.790284126463805, 0.5521605944449697, 0.9501653973338657, -0.030167515812219516, 0.4921002541179161, 0.2105946818638861, 0.32822815183666665, 0.6127632249935964, 0.9094089059843544, 0.8984534940714461, 0.7896986215061109, -0.03889926453022517, 0.43815136412616046, 0.737111546194548, 0.43814494356308126, 0.7372752347973826, 0.7897133053466862, 0.9114976686846543, 0.6071059054548985, 0.908114236392688, 0.7831605903053526, 0.8042081859291194, 0.22142444790096252, 0.49574587092482386, 0.7402639447301937, 0.674635438738802, 0.01854892074405739, 0.8024741921093921, 0.3346435598883739, 0.9537496558480945, 0.8408411064124731, 0.38391091386489284, 0.8963758583526403, 0.4363605161498283, 0.6730518899615402, 0.7270719555025339, 0.9541325158717315, 0.4929954314115238, 0.6849487733194138, 0.5966492745800601, 0.877282635227373, 0.13641540168205377, 0.9255725645867638, 0.6984218723570168, 0.5270119104308562, 0.3444310113942724, 0.8190590767782566, 0.17202177479523884, 0.8799065087662543, 0.3998194841215208, 0.8176313360685667, 0.936019978154879, 0.8171936474407459, 0.7693484482807382, 0.7522895997812097, 0.5868919469378671, 0.5653139868490927, 0.9763051239757378, 0.8557784598844363, 0.5144487454622948, 0.46476403004707173, 0.7543833858117976, 0.5782680331636589, 0.9320452793248218, 0.570678327666679, 0.8236016789982759, 0.9321772109456454, 0.8246777866825625, 0.8716073849066808, 0.31025805984629734, 0.7055408683556167, 0.34695328168405576, 0.14940400631934164, 0.3089946320638876, 0.4139030202243193, 0.8214975612825292, 0.8741759266330371, 0.703047872605085, 0.3129769245242249, 0.5252028796386106, 0.5253390934959536, 0.712712469025295, 0.8196744205731492, 0.41749197552945216, 0.7155658060851519, 0.8150142312099641, 0.36355994761205185, 0.8353401792695238, 0.4215225694772336, 0.7187795651484533, 0.5943996473830389, 0.6855906773084622, 0.47030393901774054, 0.747231560344092, 0.8574355931049013, 0.9168289479110625, 0.36432663502219004, 0.9408985969704674, 0.9408985969704674, 0.7207562261405106, 0.986107783815085, 0.9868862268856868, 0.5026204215720661, 0.7456594998682052, 0.5569160931871281, 0.9874495302035889, 0.7578802379227242, 0.92220698219697, 0.9269207846751188, 0.5897227177752047, 0.509782622364619, 0.9624481393426637, 0.7495930741454566, 0.6909601733537685, 0.7183802894793978, 0.9383199846404775, 0.9381597199119263, 0.9596107656353751, 0.7504425328783942, 0.884935763751512, 0.9178332887122096, 0.9399308680843793, 0.8851486486232797, 0.8851687497907075, 0.9591152439241167, 0.9403588459868797, 0.963595510568448, 0.6916102464796293, 0.2484096796093357, 0.7559070965123883, 0.7399385648734448, 0.7812647801794219, 0.7662854023038816, 0.2693948086608212, 0.5178166326154973, 0.7195906969088923, 0.6635536263045164, 0.4360321680231367, 0.8690173571701886, 0.9025432894879654, 0.8453447666371979, 0.3933261077409137, 0.9999999999999999, 0.8735666290042281, 0.904971927999489, 0.349977539701316, 0.8093350801938821, 0.3689971494205895, 0.8879624783815444, 0.44974052153612654, 0.8294390577363352, 0.8647398182369286, 0.2630299829407864, 0.4199825109554898, 0.5582875930797827, 0.9670902280361117, 0.9186113835435823, 0.7082146035887079, 0.19817407057516012, 0.9169731314785075, 0.3494833538478994, 0.5487932091864428, 0.7756782632048274, 0.7877117874047503, 0.8821203799165955, 0.8822120410572835, 0.4046973107961971, 0.36881778204125326, 0.36860894649397535, 0.8817752784229566, 0.550217451895518, 0.7800812104643374, 0.9376362859049534, 0.9268222806377829, 0.43387358768693507, 0.4029764385796797, 0.9890466067743197, 0.46531987287336324, 0.3092076754228844, 0.39737767024090964, 0.8939417732282696, 0.7671777895073172, 0.9215873355684878, 0.9419251329339314, 0.6292139622485198, 0.1629891805821978, 0.8901091005944883, 0.6297332874726351, 0.589680542063682, 0.8839676225303629, 0.9854190972012162, 0.15998754279834076, 0.7712650552820168, 0.9416543661250131, 0.8140499705409443, 0.8865321414856677, 0.588039645398715, 0.8865067084651843, 0.813000918823946, 0.5867912484793801, 0.6784582964215805, 0.7078850282685519, 0.37149631074648254, 0.7069982470565498, 0.14468041981622207, 0.26284267957152546, 0.8788908816785619, 0.5552842424092513, 0.2785918435305353, 0.8697235691209124, 0.7925969352903274, 0.714470211175351, 0.9359383669253569, 0.6416052521876316, 0.794539054428934, 0.7958207851028616, 0.7177923383930077, 0.2781174168921665, 0.8660502464347685, 0.7978050316498101, 0.864214311354405, 0.4960521088249884, 0.7151127352659182, 0.9338028422581858, 0.5581003610474301, 0.07080555093767478, 0.7161078759577714, 0.7160929638599339, 0.5592313965649856, 0.09674251220653174, 0.5690519612386911, 0.5004353265116245, 0.7900700907324055, 0.637635394495895, 0.29956565599944573, 0.937076534679268, 0.6377523888154922, 0.7222123488709811, 0.5012076398242803, 0.7222065700392379, 0.807784434589518, 0.5526886117573617, 0.3628226491283319, 0.6795521800455947, 0.7875200976932246, 0.7879665026461041, 0.40952040762696157, 0.7201766746743036, 1.0, 0.4279003329813744, 0.8057513086263698, 0.27553249982187433, 0.9999999999999994, 0.554569897887174, 0.1194766754260307, 0.8719227311881793, 0.6373867772609101, 0.733829745393095, 0.4368873433197655, 0.7385725358979919, 0.8447137830515978, 0.537577651925158, 0.9750485048876835, 0.8447494978726162, 0.20985269276966903, 0.6071609240373866, 0.6607511662768317, 0.7380017669850429, 0.6220776943701788, 0.8219732377228478, 0.9735520240585412, 0.6835654769082862, 0.9081353342192107, 0.5994118089106704, 0.8218759422705597, 0.6151075068657658, 0.3295901871743404, 0.8224812197900458, 0.9026467180111551, 0.9739362365804735, 0.8382008007672901, 0.9822166783707924, 0.9008886674569327, 0.18786073930057373, 0.9783342776430172, 0.6959533316814167, 0.9437611653920139, 0.9747900951111378, 0.44708192696761223, 0.7606254822169225, 0.700473864229642, 0.843250777220289, 0.6154395524324334, 0.215501591388885, 0.8997747109139622, 0.6887846820559689, 0.7446616738690258, 0.6990034754082156, 0.943132183458842, 0.9450640694032219, 0.3140892021095906, 0.4124769054731247, 0.9715611771832796, 0.19969896679063076, 0.3879827140391098, 0.905383749389998, 0.5970995629711058, 0.9702177152820876, 0.7633303585571863, 0.8960398754631597, 0.18339564523676222, 0.9468438110007276, 0.6680955871995641, 0.4508625456321853, 0.8197173006375128, 0.6136867395907827, 0.7500017141199525, 0.605405568217282, 0.8963671309543061, 0.8341539124925695, 0.9645555105909327, 0.5319211928032753, 0.28295736921509557, 0.3817610568978391, 0.43682147324711185, 0.8883838809468001, 0.8018323802557505, 0.30710036834542426, 0.5325392364333121, 0.9545269002269943, 0.7630012255277984, -0.06864099112831032, 0.7247311298766052, 0.31461625517381625, 0.887941247768938, 0.6744264430193029, 0.841109887172767, 0.3695763583550934, 0.17424181126504232, 0.6424811894938728, 0.43852601289772, 0.5491256632770576, 0.6198915756254594, 0.8795228197913961, 0.3031404471629103, 0.831874526406868, 0.5385200080147522, 0.012394002687001042, 0.39549160864975375, 0.6085294845429285, 0.18507207307245893, 0.47837023616877655, 0.42766469463728496, 0.6799354901529341, 0.9541776898308366, 0.6110611287805238, 0.7744612998254111, 0.6487922442943823, 0.7868978129248898, 0.7301056063700786, 0.6548624428639747, 0.7164692192827884, 0.8382586914331227, 0.9524540998862644, 0.9040811151326626, 0.9502627434012065, 0.9498953811240767, 0.9737837740243797, 0.6104009670691757, 0.6053511538710648, 0.7585459553789864, 0.9082482126743959, 0.9733900627422957, 0.7077585219127377, 0.9093551475390581, 0.9728475820805144, 0.952709656078325, 0.6091001100112372, 0.952709656078325, 0.9107518872297911, 0.8345944723055155, 0.4328486006017443, 0.2583243422297377, 0.7824114585735414, 0.8131104867406087, 0.28585372333413045, 0.8124428721137215, 0.28520704595630186, 0.8118971219534236, 0.811771723957339, 0.19794153604745607, 0.9269691638888716, 0.6710686656655125, 0.47745388814340894, 0.9625004984571367, 0.6370186096214128, 0.6641567165283712, 0.7755564890748946, 1.0000000000000002, 0.6368129231968376, 0.9999999999999997, 0.6644833726852317, 0.9353829052129885, 0.632880583630536, 0.9353829052129885, 0.21084935990479725, 0.8062449365215414, 0.6342568907677287, 0.9345553516617218, 0.8052953757693466, 0.6671145943698942, 0.6651154760013358, 0.77306627703478, 0.9254887016051042, 0.4816244684550659, 0.9242160758826101, 0.9240057452466606, 0.48433797159856895, 0.972089338358058, 0.7158645201280066, 0.9178332887122094, 0.6153260420864206, 0.7816227981954884, 0.5219506421525387, 0.7952907548620696, 0.9429514665964911, 0.9709787884879116, 0.4696625317678007, 0.9416334967878028, 0.7811327460112347, 0.6437515273640718, 0.9153054841498112, 0.5207282535995859, 0.6771538437893728, 0.9397837020061294, 0.6768470031250616, 0.6766794736813317, 0.4447106380979094, 0.9675748877549093, 0.9215302774117147, 0.5015503911236247, 0.6413389244602633, 0.9575756547638782, 0.4189169012621282, 0.6239873173531347, 0.8157703807488289, 0.7996169125965435, 0.7977059856556475, 0.7555881807849444, 0.7863351497623969, 0.7526849957761532, 0.6910332131829309, 0.9011190292803887, 0.4577745180370782, 0.5516434220174979, 0.8538072290835288, 0.3511834933838765, 0.5974184182549425, 0.6925524461974619, 0.8663944287293528, 0.35314600778639976, 0.46444820413060406, 0.6854325027383544, 0.842880457433634, 0.8919108579475724, 0.3646816323896309, 0.884955762999264, 0.8771248577106545, 0.6931616672043902, 0.8949311809293019, 0.8900415226361832, 0.34805712328511196, 0.8620692656049148, 0.8850555963401007, 0.8441555619636535, 0.5679640047541218, 0.9770223389332862, 0.5593986031898741, 0.5452092999059712, 0.7380621670463504, 0.8469106674634267, 0.8793718697866996, 0.38244271827464854, 0.7481374772377838, 0.8818549992662865, 0.7015521825568225, 0.8632103859144206, 0.6866752216115134, 0.8982477446768375, 0.5805748346791398, 0.5596402986176565, 0.36480716318565065, 0.8415272363569039, 0.6878439037875619, 0.35260821701948386, 0.684833055248628, 0.8946939702815734, 0.7266034220871452, 0.8627904379354078, 0.8862273626335319, 0.8736327482466282, 0.7277159247066441, 0.8607168788493871, 0.6990043189193478, 0.3493876184303837, 0.7440198443810279, 0.7028218236665567, 0.8526804384098747, 0.6531107682735765, 0.7365151931020141, 0.965586746820262, 0.9454486187351729, 0.5531924698309691, 0.9558246140807947, 0.3205330930906929, 0.6853137481292875, 0.6015671590806866, 0.36767121738189384, 0.2807304431088073, 0.7106535324738014, 0.7188465183571912, 0.503190248544565, 0.7528718535487696, 0.3771957785965935, 0.9868431611085541, 0.4999131117787003, 0.17697256643701245, 0.6288031214863877, 0.62853817193602, 0.9733830687319657, 0.1403907524459665, 0.5096259732660721, 0.5188828703003497, 0.8691619400290992, 0.4912512109586079, 0.3301555133005931, 0.9640865440859369, 0.7092364845079231, 0.3830972056657202, 0.8678637820400718, 0.8121303891945946, 0.47719240470089097, 0.3331080353478121, 0.7299567649687894, 0.7123307272339165, 0.6356010353445858, 0.9288821802510653, 0.7542280789259095, 0.629831183517701, 0.9526881521621569, 0.9526881521621569, 0.39695751243671284, 0.7901633683594911, 0.5238634128793658, 0.9622735420661832, 0.6628982888270902, 0.8580799193348789, -0.09924327222809981, 0.3833763286039271, 0.7143464812022889, 0.9369104479016183, 0.9622735420661832, 0.5238144691193536, 0.6599322910592914, 0.8361115933923496, 0.804972722057342, 0.6620598036805604, 0.9225749702309378, 0.7549091982070083, 0.9057943093664574, 0.8578810123177221, 0.48497658398723725, 0.684093788845314, 0.4475387369974561, 0.9060219471105139, 0.682609258807405, 0.6997834675495622, 0.729410271230253, 0.7314996141086955, 0.5498834269240321, 0.30909723528087063, 0.7864363012463714, 0.5178767971246049, 0.49692633669258274, 0.9286558151531961, 0.041755281697040125, 0.5438804423264458, 1.0, 0.24692859041303966, 0.9760877299175771, 0.9282584459660015, 0.7330462560464213, 0.039554069223210774, 0.6745659415130797, 0.8156344983189208, 0.49767754445625556, 0.5930052899204225, 0.813586617748543, 0.7060696869612877, 0.7523954109080573, 0.8996106954367473, 0.7557430967074602, 0.6760442785998669, 0.3146870636049257, 0.7048344723306951, 0.49206399400260586, 0.8963114130662476, 0.7023196222310283, 0.8093008189241783, 0.8555252415279212, 0.780972804132133, 0.9630085096849635, 0.5957759322795518, 0.5864025717772845, 0.8546099252899814, 0.806616738267405, 0.6278431313040886, 0.8921647094124492, 0.9770922783620154, 0.8538152741543655, 0.41591745279027775, 0.6802616985635483, 0.415181579290703, 0.8075286644943536, 0.07580368944944284, 0.6388776372675999, 0.23712527219400156, 0.3944116498196566, 0.8948299303680051, 0.7566949736731884, 0.6251695621419218, 0.45451911498829145, 0.6245051557124927, 0.7462247259394771, 0.8502856789553888, 0.7389754435428257, 0.9794457875803904, 0.40891703767366977, -0.010380215523153189, 0.9213189158220713, 0.9864533924464313, 0.6501839046672431, 0.8241275448141989, 0.9513842781482827, 0.7416718824364832, 0.8853170167530366, 0.6345035508384832, 0.7496530697978232, 0.7634527593850964, 0.688575053275943, 0.19457958146195842, 0.8777731840813063, 0.9526414453497224, 0.3746407811188067, 0.6374403031125012, 0.6369920647962096, 0.9092451595584194, 0.9092451595584194, 0.9858309385746917, 0.6517838922274898, 0.7931610749691929, 0.8866484774438977, 0.8694010112269429, 0.9400963986486508, 0.8311318241596962, 0.8891304492899822, 0.9884238367232998, 0.8292078613933965, 0.8298485788551868, 0.4324817933144707, 0.9462940412425316, 0.947690087455738, 0.8292037095882988, 0.7423910723558027, 0.9478229335916941, 0.8833837579551502, 0.4277207988846746, 0.9172030554634206, 0.8734622644776506, 0.7225606135036754, 0.9483386301286291, 0.7213071729940175, 0.8842868019239877, 0.5795732444590603, 0.8305064132059325, 0.8712059991876412, 0.8847349863384635, 0.7472684315510143, 0.8848011859828026, 0.9416334967878028, 0.8867594166000744, 0.6374492675751099, 0.8779796442724688, 0.9903349376878343, 0.8283020053125852, 0.6062935997710374, 0.2825216417196084, 0.8873334046963316, 0.656038780657912, 0.4450996329140779, 0.7768472978659678, 0.5356333004536993, 0.8220792213072735, 0.6399349421434223, 0.8219189771453038, 0.8627133650828703, 0.780080277649114, 0.4884095505229412, 0.40188699115841087, 0.9586654049996515, 0.8022433836974313, 0.7240667402803725, 0.9381358750539098, 0.9587064723476977, 0.6554182875281281, 0.207158168819208, 0.6907039901008986, 0.9555625393109727, 0.8230255810479484, 0.956373938734731, 0.4436782396359449, 0.8668054561672545, 0.9084697560403715, 0.8823585702432684, 0.7599576234192099, 0.20251840325256967, 0.878241541499436, 0.8780998374230731, 0.6419041682680197, 0.878015800885463, 0.7971699301793624, 0.9478681170070983, 0.9862272117132305, 0.7087457356915438, 0.12840507976781013, 0.6132472429822696, 0.7282018040616338, 0.6183379364878827, 0.9529041218625064, 0.9666432503854477, 0.8685585358546917, 0.8069117618808662, 0.7887187487751042, 0.4984780407431321, 0.7839658386605602, 0.8691556317033287, 0.955617866393969, 0.8554365913745668, 0.9540564643848807, 0.5596581243292292, 0.855939540120691, 0.29558854876625035, 0.7173318393961438, 0.8173417851986949, 0.5836974315705111, 0.9546118118134357, 0.3536860185673961, 0.5104132363671617, 0.3518335191460431, 0.5677697612646603, 0.3528226117042599, 0.7176077763537235, 0.5839118095840562, 0.9526733960728154, 0.8652521483681119, 0.9598256128323858, 0.7305183305747633, 0.8722574078570303, 0.8195207241776581, 0.5327606276283041, 0.6371661381076166, 0.8604022112049079, 0.7270197269433901, 0.6516511722894428, 0.3313116018617817, 0.3319337860747638, 0.7865434916884442, 0.8609813230241188, 0.5134740879231215, 0.9452156719675123, 0.9457430125987915, 0.8735712881404716, 0.8129896009089879, 0.8740217219123414, 0.5042227527510001, 0.6375976036053259, 0.9612774830849075, 0.7384064040865249, 0.8202973116078318, -0.09235211323968286, 0.637909777237767, 0.5037114860155452, 0.9490064437604399, 0.8807231439852696, 0.8777609869246324, 0.9641157573859422, 0.32662431608512676, 0.015336417700977876, 0.8123388583291701, 0.8213183873595147, 0.29620815470134565, 0.8137990128481383, 0.8702769259912727, 0.6483853976553848, 0.6486085164101782, 0.9577329634194406, 0.8588905151044022, 0.7818829045227771, 0.7879433154958442, 0.728805557110228, 0.8594990065811076, 0.9645724601762983, 0.582289482864912, 0.7404493351272413, 0.7404267502810454, 0.29691957500278277, 0.9431511495338605, 0.5631314244852128, 0.8786047888542112, 0.30727889438772477, 0.8715800886559001, 0.8600484847450296, 0.4099437130982239, 0.8139160400642201, 0.8839517169448375, 0.6953602353273762, 0.4838946181892101, 0.2433962717352707, 0.6941799526490764, 0.7679326091495066, 0.8143131634694472, 0.7945913026960406, 0.6927989808617283, 0.8105139327756389, 0.8402300214089488, 0.8668709841939748, 0.39067328224564385, 0.5439555464607796, 0.9265462386977622, 0.8401380899896571, 0.6058913655535877, 0.9260511207753092, 0.6070951028512336, 0.692611297515842, 0.23984028193016746, 0.7858572324326004, 0.9278955270814774, 0.8996099462059649, 0.5257721160424134, 0.8999647833501859, 0.756922052230101, 0.7702431216302649, 1.0000000000000002, 0.4513549078563437, 0.4645675925845776, 0.7584628277263904, 0.7948498518772835, 0.9286483735324047, 0.4857020064671903, 0.6715791091358186, 0.6015482862140108, 0.9280005785958682, 0.9279514278561447, 0.3831727578868986, 0.6969619914364942, 0.5271921038221827, 0.4667452015878899, 0.9251707040990308, 0.67484524099019, 0.6154868981669129, 0.8373319219722287, 0.9173887566381114, 0.20276690510808032, 0.9224481137372508, 0.9183552782900838, 0.9183811247002852, 0.6815035600352191, 0.6145720426490765, 0.8371625817130125, 0.7852688472185941, 0.4119751299561344, 0.7637542635870805, 0.6169095053508937, 0.1864009717214872, 0.7937007993377077, 0.6795005051078122, 0.9206337127806326, 0.46933701959907415, 0.6773190671880828, 0.6840292126723521, 0.7938248463017294, 0.9797898050236155, 0.23089555179556298, 0.910497273139194, 0.6096454649810317, 0.6752662619624888, 0.6197385005124558, 0.8389626279212434, 0.6105565391223732, 0.9884238367232998, 0.6190988994128579, 0.17782501700543385, 0.9144206298075879, 0.6768470031250616, 0.3998535598616315, 0.7855988887907702, 0.9870971512659457, 0.7969369792593312, 0.9152223585100943, 0.7619827319692858, 0.5257689104193872, 0.5514887827836449, 1.0, 0.7006607544742406, 0.9367872945149176, 0.8883135806369908, 0.8265392077862165, 0.7490978201861699, 0.8046495248237735, 0.7107223648291331, 0.6306218534421373, 0.8511182896639028, 0.7103196349750089, 0.42768090526328945, 0.6306084199150525, 0.5568594116880932, 0.9704157652862461, 0.9707903562344717, 0.9339194926735166, 0.2762773406165609, 0.7499924186104805, 0.8276846416199081, 0.7121173974785676, 0.9373147506022084, 0.9393892550755434, 0.8533794868784842, 0.6608296977492345, 0.5594771193913401, 0.06733824447344193, 0.5319748842855065, 0.3581286779153881, 0.8511926578325113, 0.7139381785302636, 0.8864120316754827, 0.8526060900532836, 0.2867679880450139, 0.8872400301090615, 0.7127369985172883, 0.7954270148809692, 0.747970147769435, 0.9379117838013253, 0.8470888976739044, 0.7178723041342, 0.9725035422851384, 0.9743303470128009, 0.27083884236440076, 0.6687725184157873, 0.8459578245594374, 0.7986400589405627, 0.7539270542248677, 0.7017476942770732, 0.48852267912745395, 0.7718637332136443, 0.931550882821612, 0.4895097450924407, 0.42614576381450253, 0.8446265867932383, 0.5547377936552648, 0.8938321890284812, 0.5988364317181389, 0.11646639022733114, 0.6702196893728186, 0.7057808446303004, 0.4620632891347547, 0.7547290970535018, 0.6849487733194138, 0.8536741372625357, 0.8536741372625357, 0.6907804389386824, 0.34078834658452445, 0.8025370477720997, 0.3527352224677732, 0.33018832068656195, 0.8760754059390765, 0.7839434703289887, 0.9010017033189496, 0.795238189696587, 0.8422427869965362, -0.04318340373770104, 0.7874015621781997, 0.7970375820001014, 0.8637540988260429, 0.7954512254570819, 0.8926656014044038, 0.17571937232949467, 0.8762437375685248, 0.8433351425461415, 0.5565155386186632, 0.7927913504614267, 0.8528786171761935, 0.5519948981757037, 0.8866080307768808, 0.7934360427000329, 0.9038968904544956, 0.7786373864164765, 0.5743987293899575, 0.7994742207496628, 0.7821779435102753, 0.1600005099984558, 0.8260963493915013, 0.800953446001255, 0.8737733746386622, 0.5936372031315005, 0.7938812564142567, 0.18600442906239453, 0.8622881817171149, 0.8744192689399288, 0.8708580394046562, 0.19483033048313594, 0.26134718829265063, 0.26905607444914686, 0.5601420517828898, 0.9641345090201235, 0.9436377039088775, 0.9279382924468431, 0.9618971834532116, 0.5366887007522168, 0.7172352196094209, 0.9627835780270794, 0.716389943860955, 0.9269497359531094, 0.9262701203894065, 0.754712970760226, 0.7547290970535018, 0.7142445878174988, 0.9665678519468386, 0.9246603952426319, 0.8499842666194297, 0.7113508981018221, 0.4596110887389223, 0.6240424645933564, 0.38496741733665557, 0.3885591976107391, 0.700697075076539, 0.67237034428433, 0.7018107778435166, 0.4930284462171267, 0.6285064871769316, 0.9776451406085872, 0.9764927856768579, 0.6707814506484719, 0.6683588255613535, 0.49931751281526643, 0.9719338233122827, 0.759094903476651, 0.702903593503521, 0.8512656951099057, 0.4002323056260523, 0.7202185960265775, 0.7314009843084778, 0.7426341087584607, 0.5280591287418441, 0.7413273687949378, 0.945031603308689, 0.9393451395325766, 0.937262819223966, 0.9442655339669315, 0.9438164722432427, 0.9399775749022238, 0.7399239580447471, 0.9437673048233506, 0.9431102333949563, 0.6402554011700311, 0.7358686833518918, 0.6222361442880346, 0.43407136068348057, 0.6487328304729911, 0.40149706911002336, 0.7487888843124589, 0.8337853499242854, 0.956398381998994, 0.9316322864240308, 0.5123611439530917, 0.9366979415236898, 0.5335646216323254, 0.6506921336001587, 0.5162224715286794, 0.9353829052129885, 0.935551751558623, 0.7290982061183527, 0.41095273323218146, 0.7459695377682625, 0.5392170223633064, 0.5049447102524548, 0.6740727325157109, 0.9161468277584424, 0.9161160652038798, 0.9160948745502219, 0.9073189738936979, 0.772261990582857, 0.480510176291742, 0.9070773981171829, 0.9106920621187605, 0.48303213032891595, 0.9082752401557858, 0.9896021755080449, 0.9148396188690753, 0.67430591630192, 0.9144896156035929, 0.37460888786273566, 0.8380410605436861, 0.9999999999999998, 0.7664329949269245, 0.5486867057078239, 0.768972777023737, 0.9897185947029173, 0.5448892348133956, 0.6850208349749832, 0.9999999999999999, 0.6772488811728476, 1.0, 0.8409037075921176, 0.690277807500931, 0.9170313433488837, 0.763412820167084, 0.3587041562919312, 0.9999999999999998, 0.5445323614575822, 0.8105010510365418, 0.5213920517432129, 0.6234499435328889, 0.8095374122247795, 0.8226803374487891, 0.9863177366645648, 0.7746368957322226, 0.9140157812164752, 0.8366088158750029, 0.3389623176426687, 0.7050537668171671, 0.43039291360568116, 0.9391500745510397, 0.45965919042786, 0.5730408706556581, 0.9609111204104925, 0.7783672457864568, -0.06602712968224705, 0.3848183810717235, 0.8377351297040446, 0.8760687032469557, 0.6955818929305344, 0.4411568228076688, 0.7602623302689098, 0.9513022534628182, 0.9165606811037568, 0.2771670300218808, 0.6470785535499537, 0.8989754822313941, 0.8859183951386919, 0.6727062341484465, 0.7608735866205101, 0.8944959671520294, 0.2796202587878622, 0.7626213735701481, 0.9172489015837665, 0.9704717908783752, 0.9026759842504906, 0.5731128425611947, 0.94690275589179, 0.8941333125035503, 0.46126038404319686, 0.6282960685744923, 0.3320485883450824, 0.3978130435555112, 0.8143131634694472, 0.34597241802589057, 0.77557996567708, 0.6476972189061456, 0.46644926364037803, 0.5618819666002818, 0.782203116358214, 0.6851468332895152, 0.7266459569236734, 0.6074515391056381, 0.35023040742470024, 0.8096210136823387, 0.6699573452095219, 0.8334889805451828, 0.6899179182962664, 0.8613362051475677, 0.7662552976910119, 0.6471731865086179, 0.7660853698517066, 0.30619597671905724, 0.9732883146187665, 0.3559307193828861, 0.8938862224444539, 0.6973221402447926, 0.9515502299723009, 0.9608668549127511, 0.706053379642643, 0.5143206704074879, 0.3756815924636613, 0.8702123304875965, 0.909023225049533, 0.90942451834732, 0.7504611528560764, 0.8687058907452175, 0.6397715599496945, 0.9615878939301089, 0.7979327725973069, 0.8501825967578818, 0.9630352133219874, 0.7372748279908808, 0.5045593639085584, 1.0000000000000002, 0.6186198970584589, 0.8549511108437642, 0.5942314461523306, 0.8192439633012678, 0.8916243635293578, 0.37782087898004385, 0.8023581007247146, 0.8196336521931371, 0.4215348841089525, 0.90312766908145, 0.3772885120935773, 0.4218373843588376, 0.42085088801636233, 0.8914154919455554, 0.38159670158883485, 0.8642814068279598, 0.8552064718364473, 0.8933242375424778, 0.41226878187455557, 0.8244203256233112, 0.7030731797956103, 0.515108219266201, 0.7189432683745204, 0.9316937122387685, 0.655043772759005, 0.6980861622539537, 0.6545239912937846, 0.5927545518573246, 0.26222122030754375, 0.9571273725829625, -0.019343023684705966, 0.6681210243035719, 0.6971821395895169, 0.6971821395895169, 0.26615453996575, 0.4893841139614567, 0.7563641317190056, 0.3681298371322374, 0.6152029188336311, 0.75629510579386, 0.7771874112017374, 0.9637490139189238, 0.9117267954677896, 0.7960874330966403, 0.8255670243859604, 0.5450490668497232, 0.5457679354866052, 0.7541052574760436, 0.6664870233900593, 0.6240122309487064, 0.4930284462171267, 0.5970235324066129, 0.5932393815164212, 0.5932148287326197, 0.8455822608714566, 0.9809672420929345, 0.9145335203650424, 0.13217730632180358, 0.2503681051435761, 0.7026168327243312, -0.05761273550125305, 0.8333193617605075, 0.9627904518763232, 0.4489702908180007, 0.9809672420929345, 0.9809672420929345, 0.9137152164358885, 0.9182961340158461, 0.07074659946296193, 0.7905092175989958, 0.8943730090840357, 0.9280379441253872, 0.8460281623808648, 0.9559856817212822, 0.704212017232159, 1.0000000000000004, 0.9815368471694189, 0.884267980998109, 0.9703234958318863, 0.7871542352674793, 0.9685248834895842, 0.8317002538200192, 0.5907433177730954, 0.7361323771131593, 1.0000000000000004, 0.857655092485004, 0.8286561247993391, 0.882748889307071, 0.8387300754188379, 0.6427121043968764, 0.5918589392414374, 0.6619509527265243, 0.7734811487656438, 0.8277822678806286, 1.0000000000000002, 0.751559253641574, 0.7984881873337469, 0.9999999999999998, 0.740618733869809, 0.47515650506061274, 0.9999999999999999, 0.9999999999999998, 0.27825805996268715, 0.925292319397887, 0.9191486768881318, 0.6821780583768702, 0.5373457509505868, 0.8352311010059843, 0.8962075469508384, 0.18593389476036376, 0.9999999999999999, 0.7948967644098746, 0.6367398552306938, 0.7822000653297873, 0.2813873941149136, 0.8612780776497767, 0.9041215404919173, 0.9242762162093091, 0.4790955184530435, 0.7066751788340371, 0.7070879931218459, 0.9801512721695919, 0.780316062857246, 0.6646892402736814, 0.7383492643489875, 0.6654223336755003, 0.4743844185401266, 0.7791280098878959, 0.9222417336095204, 0.90810234475105, 0.7406524873590705, 0.8729505628815117, 0.6515902167089946, 0.7495095564129255, 0.8109133305449747, 0.44858894900847374, 0.6315919469290001, 0.7453416750105808, 0.7844839536718885, 0.977610440900669, 0.9911174152205192, 0.7244173113305297, 0.6590840305829122, 0.4956201847822835, 0.9646072180614811, 0.6901921660076213, 0.7187052086456901, 0.7461391527972158, 0.9643996221871647, 0.8147007512699439, 1.0000000000000002, 0.9020178037632275, 0.7221331752966751, 0.3697299835020411, 0.8509017408215253, 0.9889421685181702, 0.8783958071660649, 0.9631818866786468, 0.6474366265312167, 0.8780545773665502, 0.7661555451613457, 0.8059770931150592, 0.502830754110352, 0.9928086796404105, 0.7317144491005987, 0.3476767977745675, 0.8811056187005767, 0.34822291646323356, 0.8810638251732233, 0.8179359362520675, 0.7452309822208836, 0.8246192147014436, 0.6675729882026689, 0.9399518435439349, 0.9591420352695487, 0.9144440071112457, 0.9252439346254622, 0.7293043930028208, 0.8806387226319532, 0.6702865182299234, 0.8532089873506526, 0.9835105350029755, 0.8198432429789061, 0.8779478354231276, 0.8483507943999117, 0.8770336707586693, 0.7312231295087159, 0.7306548813711345, 0.7068374960788143, 0.4682952232601234, 0.7629805673247815, 0.9284090642308976, 0.9693885704135898, 0.8300903163477051, 1.0000000000000002, 0.7473817116383012, 0.8386227127048853, 0.856043322096517, 0.5496382686987022, 0.5884771921425029, 0.7910207258353986, 0.588115989078985, 0.9019367401932745, 0.7891249823883172, 0.8162845144555245, 0.5906706484098571, 0.8942427019203202, 0.48033593592428603, 0.8079384054982455, 0.8089822118201616, 0.968506652509066, 0.8898906920060267, 0.47091243793941495, 0.9480392583356966, 0.8104277060207021, 0.9409756781824992, 0.4897448373802663, 0.7343945904103145, 0.9677268147356088, 0.8131787088908045, 0.8869423656555677, 0.797400304454685, 0.9393053284983177, 0.8206199631139618, 0.5072559262208206, 0.8200449918053669, 0.9372808780066142, 0.8991705525460518, 0.18654210859850406, 0.9735937960406044, 0.593892664192129, 0.11653353676994661, 0.7947312198144781, 0.7362712065206849, 0.7960332434107454, 0.7970255275788991, 0.8151701714962495, 0.9380258471306389, 0.8798827213679694, 0.42241406820919325, 0.7868154170645087, 0.6543207791732473, 0.8449758126960217, 0.7730279923773155, 0.5620149180057974, 0.5232292282732814, 0.7166951181062711, 0.5665944822145227, 0.9968190364967177, 0.8686678492486971, 0.9112352395631401, 0.522044670434974, 0.8699845895029923, 0.9962106142636376, 0.8705991202866419, 0.9597690018995377, 0.651177808750629, 0.6552264169493609, 0.8643339625368893, 0.9203128268871693, 0.8582402194803176, 0.7106821248550874, 0.9180805062832157, 0.8605144270487075, 0.40453455813619504, 0.40104443555738, 0.8534630362610723, 0.9740754375129195, 0.9199154820304555, 0.9999999999999999, 0.9999999999999993, 1.0000000000000002, 0.6843252388709429, 0.8629251527601395, 0.920260692399818, 0.8504491788871203, 0.8714750357185784, 0.8332643147101482, 0.8722563603590442, 0.8321534592494467, 0.7032144657208637, 0.6251219270832111, 0.7023025306041566, 0.9062865306348119, 0.7024504605335451, 0.8751763647689538, 0.6576685331474885, 0.9602611614460865, 0.9241434056175525, 0.327927557377702, 0.7475362469487598, 0.6230166871733971, 0.6789642125030037, 0.9663756609912586, 0.9084040826040999, 0.6918440662240097, 0.9577081877324558, 0.9908107167002527, 0.9086172379971367, 0.8793834293965455, 0.7843992361617279, 0.8774648933972907, 0.7563812741103891, 0.8753669170671553, 0.9251546839270975, 0.9999999999999993, 1.0000000000000007, 0.9892607922326955, 1.0000000000000002, 0.9999999999999994, 1.0000000000000002, 1.0, 1.0000000000000004, 0.9891772932687279, 1.0000000000000004, 1.0, 1.0, 1.0, 0.9999999999999998, 0.9867243454627176, 1.0000000000000002, 0.9999999999999998, 0.9999999999999998, 1.0000000000000002, 1.0000000000000002, 1.0000000000000004, 0.9999999999999997, 0.9999999999999993, 0.9999999999999996, 1.0000000000000002, 1.0000000000000002, -0.1427624257243081, 0.9793020055769748, 0.7719107427759989, 0.7690582270503917, 0.768802723084333, 0.7668489066890372, 0.7646253737570314, 0.7604116509214492, 0.7566150855376381, 0.7543827675966261, 0.7730279923773155, 0.7479702051698212, 0.745668128564145, 0.74032533900469, 0.7310993994714359, 0.7265996262043118, 0.7206645444942773, 0.7192530265803082, 0.7185126335478299, 0.7169734133541236, 0.7464643017737733, 0.713298309699697, 0.7740039293184364, 0.7763371609110641, 0.8162578213557613, 0.8145517741411588, 0.8132708586584402, 0.8125804302607937, 0.8098963020332808, 0.8095301634288584, 0.8040640669488914, 0.800999384343864, 0.774854477598095, 0.8005316013328322, 0.7995862048949274, 0.7941953978904033, 0.7895679344877623, 0.7892341366064658, 0.7873782892242767, 0.9999999999999998, 0.7850695532223996, 0.7832719072985583, 0.8004251974536, 0.7065551324482903, 0.705406450410852, 0.702235913207819, 0.5635032377893239, 0.5566016185111609, 0.5565651925879302, 0.5565094194470083, 0.5541168248144115, 0.5489243043276131, 0.5030575138893905, 0.49622875587198567, 0.5684829891100691, 0.49456084375892334, 0.4806173085492391, 0.4764195110706619, 0.3399272376560536, 0.3364577778908407, 0.3123188855114693, 0.25573690695531714, 0.1842890576358115, 0.05532521827659144, 0.482331814990031, 0.5694254821564966, 0.5779508012737089, 0.5828840424312974, 0.6946688599803053, 0.6927989808617283, 0.6918356632910491, 0.6788060583067124, 0.6749105704381585, 0.6712488919943954, 0.6611560190060274, 0.6604576381258028, 0.660266765192728, 0.6471581967935525, 0.6189790859233063, 0.6175220242686844, 0.6141792052767573, 0.6095409720593948, 0.6081924632932768, 0.5997341004925726, 0.5912385831824164, 0.5870994017215228, 0.5865351387844149, 0.8162578213557613, 0.817512635015675, 0.8194572110042855, 0.8216386183852236, 0.9385547608059978, 0.9379398017365718, 0.9378402832358244, 0.9377937464842081, 0.9368373397499359, 0.9349642648527713, 0.9349198994203513, 0.9311735121037756, 0.9389114203969391, 0.9308454407547814, 0.929510226103133, 0.9290240640637509, 0.928710634537591, 0.9285753436430032, 0.9284577877280692, 0.9275432160213241, 0.9271432952719432, 0.9259843151341142, 0.9300144611040934, 0.9391313235341794, 0.9392860198079203, 0.9409242569284534, 0.9768337506261159, 0.9761996356812607, 0.9754457908020454, 0.9649114004148169, 0.9633018938769975, 0.9632907589167281, 0.9632907589167281, 0.96191935280554, 0.9596662313918368, 0.9595393921273913, 0.9589573961303032, 0.9573639996871626, 0.9548901907136251, 0.9538749757685866, 0.9524450153382575, 0.9499495330117466, 0.9498737049108784, 0.9417222283396556, 0.9416191952188435, 0.9251546839270975, 0.9837025249790358, 0.9224448240684312, 0.9207511416087423, 0.8600379364496364, 0.8590273887068468, 0.8562282065654386, 0.8532089873506526, 0.8494130064529554, 0.8489714263495624, 0.8453007931967937, 0.8401042979236742, 0.8624673888942687, 0.8393018010035169, 0.8364193623769607, 0.8364193623769607, 0.8327899518732822, 0.8326793152755689, 0.832339255253419, 0.8305818833830858, 0.8281037670107095, 0.8242785550366433, 0.8392709093966578, 0.8693375275028716, 0.8694691140927036, 0.8726216381086815, 0.9206913757864539, 0.9205574400490921, 0.9184277588932668, 0.9172510228002161, 0.9117609392949385, 0.9113040861071592, 0.9092723257805565, 0.9045036204702803, 0.9003496674664189, 0.8981377329545595, 0.8955486758104169, 0.894876554975262, 0.8929311498031836, 0.8905303973006292, 0.88482410159096, 0.883065303257766, 0.8810164885987655, 0.8805182172349055, 0.8731341523855284, 0.9208443676289324, 1.0]\n"
          ],
          "name": "stdout"
        }
      ]
    },
    {
      "cell_type": "code",
      "metadata": {
        "colab": {
          "base_uri": "https://localhost:8080/"
        },
        "id": "2JvSObvhQyCV",
        "outputId": "984ff15d-a5d6-4f02-dfba-ef60bf1df00d"
      },
      "source": [
        "print(textstr)"
      ],
      "execution_count": null,
      "outputs": [
        {
          "output_type": "stream",
          "text": [
            "RMSE=0.390\n",
            "Pearson Correlation=0.186\n",
            "Spearman Correlation=0.176\n"
          ],
          "name": "stdout"
        }
      ]
    },
    {
      "cell_type": "markdown",
      "metadata": {
        "id": "sRGb7nPXikEn"
      },
      "source": [
        "# Google News Pre-Trained Word2Vec Model Implementation"
      ]
    },
    {
      "cell_type": "code",
      "metadata": {
        "colab": {
          "base_uri": "https://localhost:8080/"
        },
        "id": "yUvCeI7liaD7",
        "outputId": "950d2f52-ce23-41a8-d25b-21b80fb43515"
      },
      "source": [
        "!wget -P /root/input/ -c \"https://s3.amazonaws.com/dl4j-distribution/GoogleNews-vectors-negative300.bin.gz\""
      ],
      "execution_count": null,
      "outputs": [
        {
          "output_type": "stream",
          "text": [
            "--2021-02-01 16:03:48--  https://s3.amazonaws.com/dl4j-distribution/GoogleNews-vectors-negative300.bin.gz\n",
            "Resolving s3.amazonaws.com (s3.amazonaws.com)... 52.216.90.30\n",
            "Connecting to s3.amazonaws.com (s3.amazonaws.com)|52.216.90.30|:443... connected.\n",
            "HTTP request sent, awaiting response... 416 Requested Range Not Satisfiable\n",
            "\n",
            "    The file is already fully retrieved; nothing to do.\n",
            "\n"
          ],
          "name": "stdout"
        }
      ]
    },
    {
      "cell_type": "code",
      "metadata": {
        "id": "HXUQ5piOimkC"
      },
      "source": [
        "EMBEDDING_FILE = '/root/input/GoogleNews-vectors-negative300.bin.gz'"
      ],
      "execution_count": null,
      "outputs": []
    },
    {
      "cell_type": "code",
      "metadata": {
        "id": "_VYnQsriirws"
      },
      "source": [
        "import gensim"
      ],
      "execution_count": null,
      "outputs": []
    },
    {
      "cell_type": "code",
      "metadata": {
        "id": "7hSL94wOiuCa"
      },
      "source": [
        "google_pretrained_model = gensim.models.KeyedVectors.load_word2vec_format(EMBEDDING_FILE, binary=True)"
      ],
      "execution_count": null,
      "outputs": []
    },
    {
      "cell_type": "markdown",
      "metadata": {
        "id": "dt924ssyjIST"
      },
      "source": [
        "##Evaluation metrics"
      ]
    },
    {
      "cell_type": "code",
      "metadata": {
        "id": "3wVQ8B55kTmt"
      },
      "source": [
        "import scipy\n",
        "import sklearn\n",
        "import collections"
      ],
      "execution_count": null,
      "outputs": []
    },
    {
      "cell_type": "code",
      "metadata": {
        "id": "jlUwtqqRiwGh"
      },
      "source": [
        "sentences1 = [SentenceModel(s) for s in train_data['sent_1']] \n",
        "sentences2 = [SentenceModel(s) for s in train_data['sent_2']]\n",
        "sims = run_cosine_similarity(sentences1,sentences2, model=google_pretrained_model, use_stoplist=False) # cosine \n",
        "#sims = run_wmd_similarity(sentences1,sentences2, model=google_pretrained_model, use_stoplist=False) #word mover distance\n",
        "#sims = run_sif_similarity(sentences1,sentences2, freqs=frequencies, model=google_pretrained_model, use_stoplist=False)\n",
        "train_data[\"predicted_sim\"] = pd.Series(sims).values\n",
        "train_data[\"diff\"] = np.sqrt((train_data[\"predicted_sim\"] - train_data[\"sim\"])**2)\n",
        "train_data = train_data.sort_values(\"diff\", ascending=False)\n",
        "\n",
        "pearson_correlation = scipy.stats.pearsonr(sims, train_data['sim'])[0]\n",
        "spearman_correlation = scipy.stats.spearmanr(sims, train_data['sim'])[0]\n",
        "rmse = np.sqrt(sklearn.metrics.mean_squared_error(sims,train_data['sim']))\n",
        "textstr = 'RMSE=%.3f\\nPearson Correlation=%.3f\\nSpearman Correlation=%.3f'%(rmse, pearson_correlation, spearman_correlation)\n",
        "train_data['predicted_sim'] = pd.Series(sims).values\n",
        "train_data = train_data.sort_values('sim')\n",
        "id = list(range(0, len(train_data.index)))\n",
        "train_data['id'] = pd.Series(id).values"
      ],
      "execution_count": null,
      "outputs": []
    },
    {
      "cell_type": "code",
      "metadata": {
        "colab": {
          "base_uri": "https://localhost:8080/"
        },
        "id": "OV7qo5WHjzCv",
        "outputId": "b76490de-46b6-4442-d691-13ece29e9c8e"
      },
      "source": [
        "# sif\n",
        "print(textstr)"
      ],
      "execution_count": null,
      "outputs": [
        {
          "output_type": "stream",
          "text": [
            "RMSE=0.581\n",
            "Pearson Correlation=0.587\n",
            "Spearman Correlation=0.594\n"
          ],
          "name": "stdout"
        }
      ]
    },
    {
      "cell_type": "code",
      "metadata": {
        "colab": {
          "base_uri": "https://localhost:8080/"
        },
        "id": "ALwKPxrtkw4q",
        "outputId": "eaad7a70-54ba-4dc6-c667-0dd5563d09cc"
      },
      "source": [
        "# cosine\n",
        "print(textstr)"
      ],
      "execution_count": null,
      "outputs": [
        {
          "output_type": "stream",
          "text": [
            "RMSE=0.352\n",
            "Pearson Correlation=0.546\n",
            "Spearman Correlation=0.538\n"
          ],
          "name": "stdout"
        }
      ]
    },
    {
      "cell_type": "code",
      "metadata": {
        "colab": {
          "base_uri": "https://localhost:8080/"
        },
        "id": "eRMqxWpykzFH",
        "outputId": "36ec58bc-1739-4a74-dd92-def91447eb05"
      },
      "source": [
        "# wmd\n",
        "print(textstr)"
      ],
      "execution_count": null,
      "outputs": [
        {
          "output_type": "stream",
          "text": [
            "RMSE=0.581\n",
            "Pearson Correlation=0.578\n",
            "Spearman Correlation=0.585\n"
          ],
          "name": "stdout"
        }
      ]
    },
    {
      "cell_type": "markdown",
      "metadata": {
        "id": "XaQkGAwsr1Tl"
      },
      "source": [
        "##Glove 6GB Stanford Data"
      ]
    },
    {
      "cell_type": "code",
      "metadata": {
        "id": "cyPvaCkEr0iw"
      },
      "source": [
        "import numpy as np\n",
        "from scipy import spatial\n",
        "import matplotlib.pyplot as plt\n",
        "from sklearn.manifold import TSNE"
      ],
      "execution_count": null,
      "outputs": []
    },
    {
      "cell_type": "code",
      "metadata": {
        "colab": {
          "base_uri": "https://localhost:8080/"
        },
        "id": "o7MvZa2Au3aA",
        "outputId": "efd4b7b9-41a2-4c97-9ead-ee07b11e2a59"
      },
      "source": [
        "!wget http://nlp.stanford.edu/data/glove.6B.zip"
      ],
      "execution_count": null,
      "outputs": [
        {
          "output_type": "stream",
          "text": [
            "--2021-02-01 16:09:40--  http://nlp.stanford.edu/data/glove.6B.zip\n",
            "Resolving nlp.stanford.edu (nlp.stanford.edu)... 171.64.67.140\n",
            "Connecting to nlp.stanford.edu (nlp.stanford.edu)|171.64.67.140|:80... connected.\n",
            "HTTP request sent, awaiting response... 302 Found\n",
            "Location: https://nlp.stanford.edu/data/glove.6B.zip [following]\n",
            "--2021-02-01 16:09:40--  https://nlp.stanford.edu/data/glove.6B.zip\n",
            "Connecting to nlp.stanford.edu (nlp.stanford.edu)|171.64.67.140|:443... connected.\n",
            "HTTP request sent, awaiting response... 301 Moved Permanently\n",
            "Location: http://downloads.cs.stanford.edu/nlp/data/glove.6B.zip [following]\n",
            "--2021-02-01 16:09:40--  http://downloads.cs.stanford.edu/nlp/data/glove.6B.zip\n",
            "Resolving downloads.cs.stanford.edu (downloads.cs.stanford.edu)... 171.64.64.22\n",
            "Connecting to downloads.cs.stanford.edu (downloads.cs.stanford.edu)|171.64.64.22|:80... connected.\n",
            "HTTP request sent, awaiting response... 200 OK\n",
            "Length: 862182613 (822M) [application/zip]\n",
            "Saving to: ‘glove.6B.zip.1’\n",
            "\n",
            "glove.6B.zip.1      100%[===================>] 822.24M  2.01MB/s    in 6m 28s  \n",
            "\n",
            "2021-02-01 16:16:08 (2.12 MB/s) - ‘glove.6B.zip.1’ saved [862182613/862182613]\n",
            "\n"
          ],
          "name": "stdout"
        }
      ]
    },
    {
      "cell_type": "code",
      "metadata": {
        "colab": {
          "base_uri": "https://localhost:8080/"
        },
        "id": "0ZiVTIPZmM_v",
        "outputId": "82ec9237-3aef-4909-e7e2-9837be4fc276"
      },
      "source": [
        "!unzip glove*.zip"
      ],
      "execution_count": null,
      "outputs": [
        {
          "output_type": "stream",
          "text": [
            "Archive:  glove.6B.zip\n",
            "replace glove.6B.50d.txt? [y]es, [n]o, [A]ll, [N]one, [r]ename: n\n",
            "replace glove.6B.100d.txt? [y]es, [n]o, [A]ll, [N]one, [r]ename: n\n",
            "replace glove.6B.200d.txt? [y]es, [n]o, [A]ll, [N]one, [r]ename: n\n",
            "replace glove.6B.300d.txt? [y]es, [n]o, [A]ll, [N]one, [r]ename: n\n"
          ],
          "name": "stdout"
        }
      ]
    },
    {
      "cell_type": "code",
      "metadata": {
        "colab": {
          "base_uri": "https://localhost:8080/"
        },
        "id": "jcEnC45N0lNT",
        "outputId": "6d130b22-c058-4b76-8649-6ed800ea2122"
      },
      "source": [
        "%ls"
      ],
      "execution_count": null,
      "outputs": [
        {
          "output_type": "stream",
          "text": [
            "glove.6B.100d.txt  glove.6B.50d.txt  \u001b[0m\u001b[01;34msample_data\u001b[0m/  sts_train.csv\n",
            "glove.6B.200d.txt  glove.6B.zip      sts_dev.csv   word2vec.txt\n",
            "glove.6B.300d.txt  glove.6B.zip.1    sts_test.csv\n"
          ],
          "name": "stdout"
        }
      ]
    },
    {
      "cell_type": "code",
      "metadata": {
        "colab": {
          "base_uri": "https://localhost:8080/"
        },
        "id": "dAXC7Jd49QHY",
        "outputId": "7237a7bb-1af5-4250-abe3-47adc54d5247"
      },
      "source": [
        "from gensim.scripts.glove2word2vec import glove2word2vec\n",
        "glove_input_file = 'glove.6B.300d.txt'\n",
        "word2vec_output_file = 'word2vec.txt'\n",
        "glove2word2vec(glove_input_file,word2vec_output_file)"
      ],
      "execution_count": null,
      "outputs": [
        {
          "output_type": "execute_result",
          "data": {
            "text/plain": [
              "(400000, 300)"
            ]
          },
          "metadata": {
            "tags": []
          },
          "execution_count": 270
        }
      ]
    },
    {
      "cell_type": "code",
      "metadata": {
        "id": "nlZBEeJT3pC-"
      },
      "source": [
        "from gensim.models import KeyedVectors"
      ],
      "execution_count": null,
      "outputs": []
    },
    {
      "cell_type": "code",
      "metadata": {
        "id": "0AHMSmySAzN3"
      },
      "source": [
        "#import chardet\n",
        "#with open(filename, 'rb') as rawdata:\n",
        "#    result = chardet.detect(rawdata.read(100000))\n",
        "#result"
      ],
      "execution_count": null,
      "outputs": []
    },
    {
      "cell_type": "code",
      "metadata": {
        "id": "xct1eGYl33Vw"
      },
      "source": [
        "glove_model = KeyedVectors.load_word2vec_format(word2vec_output_file,binary=False)"
      ],
      "execution_count": null,
      "outputs": []
    },
    {
      "cell_type": "code",
      "metadata": {
        "id": "ljrbVTYzev9j"
      },
      "source": [
        "sentences1 = [SentenceModel(s) for s in train_data['sent_1']] \n",
        "sentences2 = [SentenceModel(s) for s in train_data['sent_2']]\n",
        "sims = run_cosine_similarity(sentences1,sentences2, model=glove_model, use_stoplist=False) # cosine \n",
        "#sims = run_wmd_similarity(sentences1,sentences2, model=glove_model, use_stoplist=False) #word mover distance\n",
        "#sims = run_sif_similarity(sentences1,sentences2, freqs=frequencies, model=glove_model, use_stoplist=False)\n",
        "#sims = run_context_avg_benchmark(sentences1, sentences2, model=elmo, use_stoplist=False, doc_freqs=None)\n",
        "\n",
        "train_data[\"predicted_sim\"] = pd.Series(sims).values\n",
        "train_data[\"diff\"] = np.sqrt((train_data[\"predicted_sim\"] - train_data[\"sim\"])**2)\n",
        "train_data = train_data.sort_values(\"diff\", ascending=False)\n",
        "\n",
        "pearson_correlation = scipy.stats.pearsonr(sims, train_data['sim'])[0]\n",
        "spearman_correlation = scipy.stats.spearmanr(sims, train_data['sim'])[0]\n",
        "rmse = np.sqrt(sklearn.metrics.mean_squared_error(sims, train_data['sim']))\n",
        "textstr = 'RMSE=%.3f\\nPearson Correlation=%.3f\\nSpearman Correlation=%.3f'%(rmse, pearson_correlation, spearman_correlation)\n",
        "train_data['predicted_sim'] = pd.Series(sims).values\n",
        "train_data = train_data.sort_values('sim')\n",
        "id = list(range(0, len(train_data.index)))\n",
        "train_data['id'] = pd.Series(id).values"
      ],
      "execution_count": null,
      "outputs": []
    },
    {
      "cell_type": "code",
      "metadata": {
        "colab": {
          "base_uri": "https://localhost:8080/"
        },
        "id": "Qla6GQRwe2CA",
        "outputId": "deda4aa1-a8e2-47a9-857a-cbad747d1a32"
      },
      "source": [
        "#cosine\n",
        "print(textstr)"
      ],
      "execution_count": null,
      "outputs": [
        {
          "output_type": "stream",
          "text": [
            "RMSE=0.448\n",
            "Pearson Correlation=0.513\n",
            "Spearman Correlation=0.539\n"
          ],
          "name": "stdout"
        }
      ]
    },
    {
      "cell_type": "code",
      "metadata": {
        "colab": {
          "base_uri": "https://localhost:8080/"
        },
        "id": "OlfEPfhOf1lo",
        "outputId": "e5ef8172-5f03-42c6-fa8e-626729180a76"
      },
      "source": [
        "#wmd\n",
        "print(textstr)"
      ],
      "execution_count": null,
      "outputs": [
        {
          "output_type": "stream",
          "text": [
            "RMSE=0.582\n",
            "Pearson Correlation=0.511\n",
            "Spearman Correlation=0.514\n"
          ],
          "name": "stdout"
        }
      ]
    },
    {
      "cell_type": "code",
      "metadata": {
        "colab": {
          "base_uri": "https://localhost:8080/"
        },
        "id": "RVFDGwJvf8cR",
        "outputId": "f0d92758-a97a-48e8-d5c2-29e8a006d125"
      },
      "source": [
        "#sif\n",
        "print(textstr)"
      ],
      "execution_count": null,
      "outputs": [
        {
          "output_type": "stream",
          "text": [
            "RMSE=0.341\n",
            "Pearson Correlation=0.385\n",
            "Spearman Correlation=0.366\n"
          ],
          "name": "stdout"
        }
      ]
    },
    {
      "cell_type": "code",
      "metadata": {
        "id": "9zh6Ka9Mf-Xq",
        "colab": {
          "base_uri": "https://localhost:8080/"
        },
        "outputId": "f56a772f-0ebb-41fe-a510-f516873a06c3"
      },
      "source": [
        "#context_avg_benchmark\n",
        "print(textstr)"
      ],
      "execution_count": null,
      "outputs": [
        {
          "output_type": "stream",
          "text": [
            "RMSE=0.448\n",
            "Pearson Correlation=0.514\n",
            "Spearman Correlation=0.537\n"
          ],
          "name": "stdout"
        }
      ]
    },
    {
      "cell_type": "markdown",
      "metadata": {
        "id": "vNyYHuFo_dFH"
      },
      "source": [
        "##Fastext Implementation"
      ]
    },
    {
      "cell_type": "code",
      "metadata": {
        "id": "R6YAF2wZ_cws",
        "colab": {
          "base_uri": "https://localhost:8080/"
        },
        "outputId": "3ce6729d-c176-4707-fd42-91d526bc9cd1"
      },
      "source": [
        "from keras.preprocessing.text import Tokenizer\n",
        "from gensim.models.fasttext import FastText\n",
        "import matplotlib.pyplot as plt\n",
        "%matplotlib inline"
      ],
      "execution_count": null,
      "outputs": [
        {
          "output_type": "stream",
          "text": [
            "/usr/local/lib/python3.6/dist-packages/requests/__init__.py:91: RequestsDependencyWarning: urllib3 (1.26.3) or chardet (3.0.4) doesn't match a supported version!\n",
            "  RequestsDependencyWarning)\n"
          ],
          "name": "stderr"
        }
      ]
    },
    {
      "cell_type": "code",
      "metadata": {
        "id": "W5T42N4D_m1x"
      },
      "source": [
        "embedding_size = 600 # 300-dimensional vector\n",
        "window_size = 2 #the size of the number of words occurring before and after the word based on which the word representations will be learned for the word.\n",
        "min_word = 1 # the minimum frequency of a word in the corpus for which the word representations will be generated\n",
        "down_sampling = 1e-2 # the most frequently occurring word will be down-sampled by a number specified by the down_sampling attribute."
      ],
      "execution_count": null,
      "outputs": []
    },
    {
      "cell_type": "code",
      "metadata": {
        "colab": {
          "base_uri": "https://localhost:8080/"
        },
        "id": "8XrK5xs5_qjP",
        "outputId": "097b2598-07a7-4198-ad63-576e43b4bc4c"
      },
      "source": [
        "%%time\n",
        "ft_model = FastText(tokens_with_stop,\n",
        "                      size=embedding_size,\n",
        "                      window=window_size,\n",
        "                      min_count=min_word,\n",
        "                      sample=down_sampling,\n",
        "                      sg=1,\n",
        "                      iter=300)"
      ],
      "execution_count": null,
      "outputs": [
        {
          "output_type": "stream",
          "text": [
            "CPU times: user 5min 12s, sys: 1.65 s, total: 5min 13s\n",
            "Wall time: 2min 53s\n"
          ],
          "name": "stdout"
        }
      ]
    },
    {
      "cell_type": "code",
      "metadata": {
        "id": "iPI28-iE_ucf",
        "colab": {
          "base_uri": "https://localhost:8080/"
        },
        "outputId": "04c1845b-be5c-4e49-9fbc-3716f8bd334c"
      },
      "source": [
        "print(ft_model.wv['boys'])"
      ],
      "execution_count": null,
      "outputs": [
        {
          "output_type": "stream",
          "text": [
            "[-4.30121511e-01  1.72607854e-01  1.81661006e-02 -3.44695836e-01\n",
            " -8.92655775e-02 -1.72672346e-01 -4.62903053e-01  2.13939369e-01\n",
            "  5.78550637e-01  2.68133253e-01 -3.91713619e-01  3.59264880e-01\n",
            "  1.06132112e-01  3.53481680e-01 -5.70119023e-01 -4.77841705e-01\n",
            "  6.32219613e-01 -5.46326228e-05  1.15542911e-01 -8.41032922e-01\n",
            "  1.08018398e-01  6.31932497e-01  3.38709474e-01 -1.13413393e-01\n",
            " -1.21095059e-02  5.07718146e-01 -1.63327247e-01  3.99124503e-01\n",
            "  4.40216959e-02 -1.75517872e-01  3.76814455e-01 -4.23145890e-01\n",
            "  8.80078852e-01 -7.20885023e-02  3.42553020e-01 -3.45991403e-01\n",
            " -1.65268674e-01 -1.81480646e-02  3.75378728e-01 -6.40119463e-02\n",
            "  2.08709881e-01  5.86360037e-01  2.97744602e-01  6.01304829e-01\n",
            " -2.60850489e-01  1.28296301e-01  6.76441491e-02  2.05675960e-01\n",
            "  1.45819783e-01 -6.01552129e-02 -2.39994004e-01  3.65452409e-01\n",
            " -1.41844526e-01 -4.82615232e-01  4.55742985e-01 -1.89637780e-01\n",
            " -1.37833580e-01 -3.52824420e-01  3.07345599e-01 -2.27100104e-02\n",
            " -5.46243966e-01  2.10373878e-01  2.49162719e-01 -2.82958776e-01\n",
            " -3.20346504e-01 -1.81379318e-01  1.65738195e-01 -6.12016730e-02\n",
            "  2.08143473e-01 -1.11764289e-01  4.03918833e-01  1.65216178e-01\n",
            " -1.48631513e-01 -4.11147833e-01 -4.37798530e-01 -3.18754353e-02\n",
            " -7.27697432e-01 -4.59229350e-01  2.67578393e-01 -2.67992169e-02\n",
            "  3.26156348e-01  1.37726426e-01  4.73217368e-02 -2.23879516e-01\n",
            "  3.01102791e-02 -1.57523826e-01 -1.32351384e-01  2.03847870e-01\n",
            " -9.02109563e-01 -8.84880498e-02 -2.63119102e-01 -5.16225517e-01\n",
            "  3.09504241e-01 -1.50556624e-01  2.80602098e-01  4.18977886e-01\n",
            " -5.21912761e-02 -1.64972171e-01 -1.34230822e-01 -1.19887516e-02\n",
            " -4.79632258e-01  7.09073693e-02  8.31893533e-02 -1.72145307e-01\n",
            " -1.04843616e-01  2.17208061e-02 -3.02403241e-01 -4.52602386e-01\n",
            "  3.28570306e-01 -3.34146053e-01  4.52839494e-01 -5.64685941e-01\n",
            " -3.13479394e-01  2.57556051e-01  6.41435683e-02 -2.67246932e-01\n",
            "  2.31545672e-01  9.65123400e-02 -1.26350567e-01 -7.47044012e-02\n",
            "  4.75140847e-02  2.25968257e-01 -1.96855083e-01 -9.06166434e-02\n",
            " -2.64534861e-01 -1.35974750e-01  8.03554118e-01  3.36618990e-01\n",
            " -6.30322814e-01  1.05139919e-01 -2.96347886e-01  1.78895891e-01\n",
            "  4.48973805e-01  2.38576815e-01  7.59136736e-01  8.17698464e-02\n",
            "  2.73064580e-02  2.30142593e-01 -3.38855311e-02 -2.02383354e-01\n",
            " -3.27065498e-01 -3.72237772e-01 -3.75841051e-01  1.28871322e-01\n",
            " -3.82179141e-01 -5.98271608e-01 -1.97123960e-02  4.59506154e-01\n",
            " -2.47413591e-01 -1.06803991e-01  1.08657777e-02  2.16219902e-01\n",
            "  3.50030899e-01 -7.63095677e-01  3.88536721e-01 -3.69279057e-01\n",
            "  1.58704430e-01 -1.43838882e-01  2.42996678e-01 -1.33477256e-01\n",
            "  4.17738527e-01 -7.83199146e-02  2.07222655e-01 -2.36868802e-02\n",
            " -1.10043734e-02 -1.05203129e-01  2.10626181e-02  1.33751088e-03\n",
            "  3.67723405e-02  3.40568453e-01  7.03002512e-02 -2.36999914e-01\n",
            "  3.19461972e-02  3.09269369e-01 -2.15741277e-01 -3.37905496e-01\n",
            " -1.50959967e-02 -2.72522420e-01 -5.13802767e-02 -1.15039229e-01\n",
            " -2.50929564e-01 -1.87041759e-01  1.60544410e-01  2.87854493e-01\n",
            " -5.51583529e-01  3.67708653e-02 -6.52783960e-02  1.31872877e-01\n",
            " -1.11760207e-01 -2.55431738e-02 -1.42133459e-01 -3.66232634e-01\n",
            "  1.29306808e-01  3.81320983e-01  1.97785065e-01 -1.22356661e-01\n",
            " -7.77964294e-01  1.27477527e-01  1.45172980e-03  1.77251637e-01\n",
            " -4.27087873e-01 -4.78791565e-01  5.01784794e-02  3.91780585e-03\n",
            " -4.74533578e-03  2.86161751e-01  6.52437806e-02 -1.07985117e-01\n",
            "  2.80363470e-01 -4.21490312e-01 -4.36947316e-01  2.46347591e-01\n",
            " -6.48124591e-02 -3.51282120e-01 -1.83153644e-01 -1.22704722e-01\n",
            " -1.43300518e-01 -4.71615195e-01  1.32389843e-01  1.33846747e-02\n",
            " -1.01688713e-01  1.30124107e-01  1.28655598e-01  2.06817165e-01\n",
            " -7.81886429e-02  8.17252338e-01 -5.06337404e-01 -3.74521017e-01\n",
            "  2.15724576e-02  3.60698369e-03 -6.08945727e-01  7.46183768e-02\n",
            "  5.13913520e-02 -2.71714535e-02  8.46771374e-02  1.70535445e-01\n",
            "  1.14040226e-01  5.60074598e-02 -8.39700043e-01  4.86935705e-01\n",
            " -5.13678491e-02  2.75828928e-01 -2.51740575e-01 -5.21337986e-01\n",
            "  1.64480641e-01 -4.08174008e-01  1.31247446e-01 -5.72626710e-01\n",
            "  2.57944912e-01  1.93165794e-01  1.05757415e-01  7.05256164e-01\n",
            " -5.41759968e-01 -2.56203920e-01  6.03524089e-01  3.57609123e-01\n",
            " -2.17859730e-01 -6.57055750e-02  8.36790204e-02 -7.21066520e-02\n",
            "  1.41224667e-01 -1.50023699e-01 -4.28151011e-01 -4.19804543e-01\n",
            "  4.62322235e-01  5.44783890e-01  1.99639753e-01  1.14760995e-01\n",
            " -1.86715469e-01  2.14190960e-01  1.27861738e-01  1.05146341e-01\n",
            "  1.09209538e-01 -5.79224408e-01 -9.24319252e-02 -3.73747349e-02\n",
            "  1.49664516e-02  8.30710903e-02  4.00928020e-01  2.14850232e-01\n",
            "  5.00810564e-01 -5.85840046e-02 -4.38136101e-01 -3.76015641e-02\n",
            " -6.80322170e-01  2.08232358e-01  1.67424083e-02 -5.49895704e-01\n",
            " -4.67125028e-01  5.99096596e-01  3.91747087e-01 -1.90883815e-01\n",
            "  5.05282544e-04 -2.49903843e-01  9.30121168e-02  3.78350973e-01\n",
            "  3.03770274e-01 -6.99727952e-01 -2.66188651e-01 -1.56693056e-01\n",
            " -6.60640076e-02  1.08904861e-01  1.62118360e-01  5.54667234e-01\n",
            "  3.08976322e-01  3.67120504e-02  3.86740804e-01  9.53573644e-01\n",
            " -8.56023505e-02 -3.45516056e-01 -8.53632868e-04 -4.88010645e-02\n",
            " -5.98721206e-01  1.20269917e-01  4.14582044e-01  2.09517375e-01\n",
            "  2.91861504e-01  3.53544831e-01 -1.83058783e-01 -2.55077451e-01\n",
            " -1.55212805e-01  5.86638413e-02  3.13737631e-01 -3.44550520e-01\n",
            "  4.16837037e-02 -2.16538131e-01  2.08819564e-02 -3.09093326e-01\n",
            " -3.52672368e-01 -4.34421785e-02  1.81138977e-01  2.74745464e-01\n",
            " -1.80847719e-01 -3.95027012e-01  6.26849592e-01  2.93758869e-01\n",
            " -2.96978146e-01 -4.94535595e-01  2.83174485e-01  3.47270697e-01\n",
            "  4.66612965e-01  2.64965415e-01  3.17015238e-02  1.29352137e-01\n",
            "  2.06179902e-01 -2.82211930e-01  4.78848368e-01  1.35090172e-01\n",
            " -3.57081443e-01 -8.76542628e-02  1.54139742e-01  3.85626227e-01\n",
            "  7.98339024e-02 -5.78242838e-02  1.76941529e-01 -3.90007310e-02\n",
            "  6.57904446e-01  2.00842679e-01  5.78739524e-01  1.27723590e-01\n",
            "  1.44980982e-01 -1.61146820e-01  2.91180521e-01 -6.81590363e-02\n",
            " -5.76695085e-01  6.70915246e-02  1.27566472e-01 -2.64516503e-01\n",
            " -4.51569110e-02 -1.08471222e-01 -8.69550779e-02  2.61073530e-01\n",
            "  2.53337830e-01  3.86472315e-01  1.94374785e-01  4.32767682e-02\n",
            " -3.23588967e-01  1.98322058e-01 -5.02501838e-02 -3.60997170e-01\n",
            " -9.23345909e-02  7.84881040e-02 -3.80429137e-03  5.19018412e-01\n",
            " -4.17111725e-01  4.06278640e-01  6.86470807e-01  4.44075137e-01\n",
            "  3.72587532e-01 -3.13940883e-01  3.26641560e-01  2.52095107e-02\n",
            "  2.90193483e-02  1.94245130e-02 -1.97737440e-01 -3.66279393e-01\n",
            "  2.37580538e-01 -3.61966848e-01  2.85714805e-01  2.49720767e-01\n",
            " -4.59639341e-01 -5.73456585e-02  5.49234927e-01  5.88610530e-01\n",
            " -1.91696003e-01  2.93939054e-01 -2.85001934e-01 -3.57023627e-01\n",
            "  6.95568323e-03 -2.47332349e-01  3.01375657e-01 -3.03332090e-01\n",
            " -2.52658397e-01  6.43810555e-02 -1.07656218e-01 -2.67014265e-01\n",
            " -3.13835025e-01  1.15720453e-02  7.29275525e-01 -2.92462587e-01\n",
            "  8.46947804e-02  5.13316154e-01 -2.74107337e-01  5.27158499e-01\n",
            "  3.86635303e-01  6.53072521e-02 -4.66009289e-01 -3.80362459e-02\n",
            "  4.05118436e-01 -3.98744792e-01  1.38138399e-01  1.76727340e-01\n",
            " -5.48285723e-01  4.77175236e-01  7.98142105e-02 -2.35051975e-01\n",
            " -3.19088921e-02  5.65760620e-02  5.71873844e-01  4.66423839e-01\n",
            "  9.69427004e-02 -1.80275321e-01 -1.05329454e-01 -1.47028878e-01\n",
            "  2.25964382e-01  4.29517299e-01  3.57619673e-01  2.50978857e-01\n",
            " -3.46199363e-01 -2.32210144e-01 -2.14392945e-01  2.97279935e-02\n",
            " -2.34352335e-01  1.29665151e-01  2.55692393e-01 -2.59664804e-01\n",
            " -2.17658713e-01 -6.46809563e-02 -2.54313517e-02 -1.33651584e-01\n",
            " -1.84654176e-01  2.28944704e-01  5.86794205e-02 -2.62454212e-01\n",
            " -2.55664736e-01 -2.51606613e-01 -7.53200576e-02  6.01681530e-01\n",
            "  4.29361492e-01 -9.74380448e-02 -1.12240799e-01 -3.45164500e-02\n",
            "  1.21483654e-01  5.74049592e-01  2.83090025e-01 -7.62030929e-02\n",
            "  6.34233475e-01  3.20365995e-01 -1.91696182e-01  2.58341551e-01\n",
            " -9.33976173e-01  6.86333597e-01  3.42025787e-01  1.35301724e-01\n",
            "  2.19876722e-01  2.01491341e-01 -2.56891400e-01  1.84774742e-01\n",
            " -6.86154902e-01 -8.74683321e-01  4.41618592e-01 -5.37936628e-01\n",
            " -8.97703543e-02  5.94347179e-01  9.19553116e-02  1.20906681e-02\n",
            "  6.98918819e-01 -2.10698798e-01  3.26130360e-01  8.48138928e-02\n",
            "  9.01130214e-02  3.38272303e-01  6.89389557e-02 -2.33915210e-01\n",
            "  6.07239008e-02 -1.03868358e-01  4.35331494e-01 -2.84846395e-01\n",
            " -2.64115036e-02  1.89138174e-01 -3.83822992e-02 -3.51508230e-01\n",
            "  1.50387958e-01 -1.36091501e-01  5.17393410e-01 -2.46223863e-02\n",
            " -4.64406282e-01  3.10576588e-01  4.64938551e-01  3.19005340e-01\n",
            " -1.43587023e-01 -2.52791256e-01 -2.17710599e-01 -9.04883072e-02\n",
            " -2.19504729e-01 -1.36191010e-01 -1.17664345e-01 -2.96385854e-01\n",
            " -1.24104768e-01 -9.25239325e-01  1.43250331e-01  3.19943666e-01\n",
            " -7.56306946e-02  7.29639307e-02  4.56588864e-01 -1.50745109e-01\n",
            " -3.03072989e-01 -1.96256921e-01 -4.96729583e-01  1.03585392e-01\n",
            "  2.19434604e-01  2.21974775e-01 -1.18995070e-01 -1.71974719e-01\n",
            " -9.11019221e-02  1.18242195e-02  7.54714251e-01  3.74538988e-01\n",
            "  4.66966033e-01 -3.22022796e-01  2.52015591e-01 -3.17405552e-01\n",
            "  2.11050987e-01 -2.34944094e-02 -2.65968353e-01  3.43822807e-01\n",
            " -3.78626734e-01  2.93968946e-01 -5.28409421e-01 -1.05919160e-01\n",
            "  5.72709322e-01 -4.14709240e-01  3.07100236e-01 -7.25208282e-01\n",
            "  2.53971606e-01  3.11024517e-01 -3.77788067e-01 -4.83213902e-01\n",
            " -4.27909166e-01 -3.80167931e-01 -1.50414824e-01  3.58280152e-01\n",
            "  2.00718746e-01 -3.93001944e-01  2.17534542e-01 -2.42434308e-01\n",
            "  2.13697553e-02  1.08593129e-01  3.18161696e-01  2.65102595e-01\n",
            "  8.87469947e-02 -2.45744690e-01 -1.40877560e-01 -2.31908605e-01\n",
            "  1.23265314e+00  3.00014049e-01  1.16171040e-01  5.73422611e-02\n",
            " -3.80615920e-01  6.35477901e-01  7.86710322e-01 -1.36359587e-01\n",
            "  4.44699317e-01 -2.51634791e-03 -5.46142571e-02  8.44674110e-02\n",
            " -2.05024764e-01  7.87257910e-01 -8.97516668e-01  3.43218036e-02]\n"
          ],
          "name": "stdout"
        }
      ]
    },
    {
      "cell_type": "code",
      "metadata": {
        "id": "YiFw2p_mA2PH",
        "colab": {
          "base_uri": "https://localhost:8080/"
        },
        "outputId": "37270deb-454d-4068-cacc-606a809db277"
      },
      "source": [
        "ft_model.wv.most_similar('kids', topn=10)"
      ],
      "execution_count": null,
      "outputs": [
        {
          "output_type": "execute_result",
          "data": {
            "text/plain": [
              "[('kidnap', 0.8639825582504272),\n",
              " ('kid?', 0.842186450958252),\n",
              " ('kid', 0.8040497899055481),\n",
              " ('kidnapper', 0.8006162643432617),\n",
              " ('kidnapping', 0.7761582732200623),\n",
              " ('kidnapped', 0.7532916069030762),\n",
              " ('kirkuk', 0.6674091219902039),\n",
              " ('gorilla', 0.6641888618469238),\n",
              " ('utah', 0.6529474258422852),\n",
              " ('17:02', 0.6427211761474609)]"
            ]
          },
          "metadata": {
            "tags": []
          },
          "execution_count": 47
        }
      ]
    },
    {
      "cell_type": "code",
      "metadata": {
        "id": "MM0rukD2brXH"
      },
      "source": [
        "import scipy\n",
        "import sklearn"
      ],
      "execution_count": null,
      "outputs": []
    },
    {
      "cell_type": "code",
      "metadata": {
        "id": "Eihghp1OCYVW",
        "colab": {
          "base_uri": "https://localhost:8080/"
        },
        "outputId": "daaaba33-e5ea-42b1-d09d-267e840b8a1d"
      },
      "source": [
        "sentences1 = [SentenceModel(s) for s in train_data['sent_1']] \n",
        "sentences2 = [SentenceModel(s) for s in train_data['sent_2']]\n",
        "#sims = run_cosine_similarity(sentences1,sentences2, model=ft_model, use_stoplist=False) # cosine \n",
        "#sims = run_wmd_similarity(sentences1,sentences2, model=ft_model, use_stoplist=False) #word mover distance\n",
        "sims = run_sif_similarity(sentences1,sentences2, freqs=frequencies, model=ft_model, use_stoplist=False)\n",
        "#sims = run_context_avg_benchmark(sentences1, sentences2, model=ft_model, use_stoplist=False, doc_freqs=None)\n",
        "\n",
        "train_data[\"predicted_sim\"] = pd.Series(sims).values\n",
        "train_data[\"diff\"] = np.sqrt((train_data[\"predicted_sim\"] - train_data[\"sim\"])**2)\n",
        "train_data = train_data.sort_values(\"diff\", ascending=False)\n",
        "\n",
        "pearson_correlation = scipy.stats.pearsonr(sims, train_data['sim'])[0]\n",
        "spearman_correlation = scipy.stats.spearmanr(sims, train_data['sim'])[0]\n",
        "rmse = np.sqrt(sklearn.metrics.mean_squared_error(sims, train_data['sim']))\n",
        "textstr = 'RMSE=%.3f\\nPearson Correlation=%.3f\\nSpearman Correlation=%.3f'%(rmse, pearson_correlation, spearman_correlation)\n",
        "train_data['predicted_sim'] = pd.Series(sims).values\n",
        "train_data = train_data.sort_values('sim')\n",
        "id = list(range(0, len(train_data.index)))\n",
        "train_data['id'] = pd.Series(id).values"
      ],
      "execution_count": null,
      "outputs": [
        {
          "output_type": "stream",
          "text": [
            "/usr/local/lib/python3.6/dist-packages/ipykernel_launcher.py:25: DeprecationWarning: Call to deprecated `__contains__` (Method will be removed in 4.0.0, use self.wv.__contains__() instead).\n",
            "/usr/local/lib/python3.6/dist-packages/ipykernel_launcher.py:26: DeprecationWarning: Call to deprecated `__contains__` (Method will be removed in 4.0.0, use self.wv.__contains__() instead).\n",
            "/usr/local/lib/python3.6/dist-packages/ipykernel_launcher.py:31: DeprecationWarning: Call to deprecated `__getitem__` (Method will be removed in 4.0.0, use self.wv.__getitem__() instead).\n",
            "/usr/local/lib/python3.6/dist-packages/ipykernel_launcher.py:32: DeprecationWarning: Call to deprecated `__getitem__` (Method will be removed in 4.0.0, use self.wv.__getitem__() instead).\n"
          ],
          "name": "stderr"
        },
        {
          "output_type": "stream",
          "text": [
            "[[-0.21649692  0.153238    0.1876192  ...  0.50441034 -0.56400823\n",
            "  -0.5019977 ]\n",
            " [-0.47442714  0.04667097  0.2722521  ...  0.6815372  -0.83959678\n",
            "  -0.53832997]\n",
            " [-0.58613855 -0.11351376  0.18899568 ...  0.81920911 -0.68582263\n",
            "  -0.44959054]\n",
            " ...\n",
            " [-0.35746244  0.0227856   0.10367497 ...  0.76530211 -0.43316531\n",
            "  -0.40436473]\n",
            " [-0.20872965  0.21440904  0.15270556 ...  0.47475642 -0.63818025\n",
            "  -0.47168839]\n",
            " [-0.20872965  0.21440904  0.15270556 ...  0.47475642 -0.63818025\n",
            "  -0.47168839]]\n",
            "<class 'numpy.ndarray'>\n"
          ],
          "name": "stdout"
        }
      ]
    },
    {
      "cell_type": "code",
      "metadata": {
        "colab": {
          "base_uri": "https://localhost:8080/"
        },
        "id": "0vriWDeWDKaY",
        "outputId": "cab9ee08-c167-4783-9c75-f9558596e83d"
      },
      "source": [
        "print(textstr)"
      ],
      "execution_count": null,
      "outputs": [
        {
          "output_type": "stream",
          "text": [
            "RMSE=0.388\n",
            "Pearson Correlation=0.176\n",
            "Spearman Correlation=0.168\n"
          ],
          "name": "stdout"
        }
      ]
    },
    {
      "cell_type": "markdown",
      "metadata": {
        "id": "26YhBdTYhBug"
      },
      "source": [
        "## Elmo"
      ]
    },
    {
      "cell_type": "code",
      "metadata": {
        "colab": {
          "base_uri": "https://localhost:8080/",
          "height": 1000
        },
        "id": "4DAggETWg6oh",
        "outputId": "73317c7d-2272-4796-cb5a-2ae082fad1c5"
      },
      "source": [
        "!pip install flair"
      ],
      "execution_count": null,
      "outputs": [
        {
          "output_type": "stream",
          "text": [
            "Requirement already satisfied: flair in /usr/local/lib/python3.6/dist-packages (0.7)\n",
            "Requirement already satisfied: tqdm>=4.26.0 in /usr/local/lib/python3.6/dist-packages (from flair) (4.41.1)\n",
            "Requirement already satisfied: langdetect in /usr/local/lib/python3.6/dist-packages (from flair) (1.0.8)\n",
            "Requirement already satisfied: regex in /usr/local/lib/python3.6/dist-packages (from flair) (2019.12.20)\n",
            "Requirement already satisfied: bpemb>=0.3.2 in /usr/local/lib/python3.6/dist-packages (from flair) (0.3.2)\n",
            "Requirement already satisfied: ftfy in /usr/local/lib/python3.6/dist-packages (from flair) (5.8)\n",
            "Requirement already satisfied: lxml in /usr/local/lib/python3.6/dist-packages (from flair) (4.2.6)\n",
            "Requirement already satisfied: python-dateutil>=2.6.1 in /usr/local/lib/python3.6/dist-packages (from flair) (2.8.1)\n",
            "Requirement already satisfied: mpld3==0.3 in /usr/local/lib/python3.6/dist-packages (from flair) (0.3)\n",
            "Requirement already satisfied: janome in /usr/local/lib/python3.6/dist-packages (from flair) (0.4.1)\n",
            "Requirement already satisfied: torch>=1.1.0 in /usr/local/lib/python3.6/dist-packages (from flair) (1.7.0+cu101)\n",
            "Requirement already satisfied: sentencepiece<=0.1.91 in /usr/local/lib/python3.6/dist-packages (from flair) (0.1.91)\n",
            "Requirement already satisfied: segtok>=1.5.7 in /usr/local/lib/python3.6/dist-packages (from flair) (1.5.10)\n",
            "Requirement already satisfied: matplotlib>=2.2.3 in /usr/local/lib/python3.6/dist-packages (from flair) (3.2.2)\n",
            "Requirement already satisfied: transformers<=3.5.1,>=3.5.0 in /usr/local/lib/python3.6/dist-packages (from flair) (3.5.1)\n",
            "Requirement already satisfied: gdown in /usr/local/lib/python3.6/dist-packages (from flair) (3.6.4)\n",
            "Requirement already satisfied: scikit-learn>=0.21.3 in /usr/local/lib/python3.6/dist-packages (from flair) (0.22.2.post1)\n",
            "Requirement already satisfied: tabulate in /usr/local/lib/python3.6/dist-packages (from flair) (0.8.7)\n",
            "Requirement already satisfied: konoha<5.0.0,>=4.0.0 in /usr/local/lib/python3.6/dist-packages (from flair) (4.6.2)\n",
            "Requirement already satisfied: hyperopt>=0.1.1 in /usr/local/lib/python3.6/dist-packages (from flair) (0.1.2)\n",
            "Requirement already satisfied: gensim<=3.8.3,>=3.4.0 in /usr/local/lib/python3.6/dist-packages (from flair) (3.6.0)\n",
            "Requirement already satisfied: deprecated>=1.2.4 in /usr/local/lib/python3.6/dist-packages (from flair) (1.2.11)\n",
            "Requirement already satisfied: sqlitedict>=1.6.0 in /usr/local/lib/python3.6/dist-packages (from flair) (1.7.0)\n",
            "Requirement already satisfied: six in /usr/local/lib/python3.6/dist-packages (from langdetect->flair) (1.15.0)\n",
            "Requirement already satisfied: requests in /usr/local/lib/python3.6/dist-packages (from bpemb>=0.3.2->flair) (2.23.0)\n",
            "Requirement already satisfied: numpy in /usr/local/lib/python3.6/dist-packages (from bpemb>=0.3.2->flair) (1.19.5)\n",
            "Requirement already satisfied: wcwidth in /usr/local/lib/python3.6/dist-packages (from ftfy->flair) (0.2.5)\n",
            "Requirement already satisfied: dataclasses in /usr/local/lib/python3.6/dist-packages (from torch>=1.1.0->flair) (0.8)\n",
            "Requirement already satisfied: future in /usr/local/lib/python3.6/dist-packages (from torch>=1.1.0->flair) (0.16.0)\n",
            "Requirement already satisfied: typing-extensions in /usr/local/lib/python3.6/dist-packages (from torch>=1.1.0->flair) (3.7.4.3)\n",
            "Requirement already satisfied: kiwisolver>=1.0.1 in /usr/local/lib/python3.6/dist-packages (from matplotlib>=2.2.3->flair) (1.3.1)\n",
            "Requirement already satisfied: cycler>=0.10 in /usr/local/lib/python3.6/dist-packages (from matplotlib>=2.2.3->flair) (0.10.0)\n",
            "Requirement already satisfied: pyparsing!=2.0.4,!=2.1.2,!=2.1.6,>=2.0.1 in /usr/local/lib/python3.6/dist-packages (from matplotlib>=2.2.3->flair) (2.4.7)\n",
            "Requirement already satisfied: tokenizers==0.9.3 in /usr/local/lib/python3.6/dist-packages (from transformers<=3.5.1,>=3.5.0->flair) (0.9.3)\n",
            "Requirement already satisfied: protobuf in /usr/local/lib/python3.6/dist-packages (from transformers<=3.5.1,>=3.5.0->flair) (3.12.4)\n",
            "Requirement already satisfied: sacremoses in /usr/local/lib/python3.6/dist-packages (from transformers<=3.5.1,>=3.5.0->flair) (0.0.43)\n",
            "Requirement already satisfied: packaging in /usr/local/lib/python3.6/dist-packages (from transformers<=3.5.1,>=3.5.0->flair) (20.8)\n",
            "Requirement already satisfied: filelock in /usr/local/lib/python3.6/dist-packages (from transformers<=3.5.1,>=3.5.0->flair) (3.0.12)\n",
            "Requirement already satisfied: scipy>=0.17.0 in /usr/local/lib/python3.6/dist-packages (from scikit-learn>=0.21.3->flair) (1.4.1)\n",
            "Requirement already satisfied: joblib>=0.11 in /usr/local/lib/python3.6/dist-packages (from scikit-learn>=0.21.3->flair) (1.0.0)\n",
            "Requirement already satisfied: overrides==3.0.0 in /usr/local/lib/python3.6/dist-packages (from konoha<5.0.0,>=4.0.0->flair) (3.0.0)\n",
            "Requirement already satisfied: networkx in /usr/local/lib/python3.6/dist-packages (from hyperopt>=0.1.1->flair) (2.5)\n",
            "Requirement already satisfied: pymongo in /usr/local/lib/python3.6/dist-packages (from hyperopt>=0.1.1->flair) (3.11.2)\n",
            "Requirement already satisfied: smart-open>=1.2.1 in /usr/local/lib/python3.6/dist-packages (from gensim<=3.8.3,>=3.4.0->flair) (4.1.2)\n",
            "Requirement already satisfied: wrapt<2,>=1.10 in /usr/local/lib/python3.6/dist-packages (from deprecated>=1.2.4->flair) (1.12.1)\n",
            "Collecting urllib3!=1.25.0,!=1.25.1,<1.26,>=1.21.1\n",
            "\u001b[?25l  Downloading https://files.pythonhosted.org/packages/56/aa/4ef5aa67a9a62505db124a5cb5262332d1d4153462eb8fd89c9fa41e5d92/urllib3-1.25.11-py2.py3-none-any.whl (127kB)\n",
            "\u001b[K     |████████████████████████████████| 133kB 7.5MB/s \n",
            "\u001b[?25hRequirement already satisfied: certifi>=2017.4.17 in /usr/local/lib/python3.6/dist-packages (from requests->bpemb>=0.3.2->flair) (2020.12.5)\n",
            "Requirement already satisfied: idna<3,>=2.5 in /usr/local/lib/python3.6/dist-packages (from requests->bpemb>=0.3.2->flair) (2.10)\n",
            "Requirement already satisfied: chardet<4,>=3.0.2 in /usr/local/lib/python3.6/dist-packages (from requests->bpemb>=0.3.2->flair) (3.0.4)\n",
            "Requirement already satisfied: setuptools in /usr/local/lib/python3.6/dist-packages (from protobuf->transformers<=3.5.1,>=3.5.0->flair) (51.3.3)\n",
            "Requirement already satisfied: click in /usr/local/lib/python3.6/dist-packages (from sacremoses->transformers<=3.5.1,>=3.5.0->flair) (7.1.2)\n",
            "Requirement already satisfied: decorator>=4.3.0 in /usr/local/lib/python3.6/dist-packages (from networkx->hyperopt>=0.1.1->flair) (4.4.2)\n",
            "\u001b[31mERROR: datascience 0.10.6 has requirement folium==0.2.1, but you'll have folium 0.8.3 which is incompatible.\u001b[0m\n",
            "Installing collected packages: urllib3\n",
            "  Found existing installation: urllib3 1.26.3\n",
            "    Uninstalling urllib3-1.26.3:\n",
            "      Successfully uninstalled urllib3-1.26.3\n",
            "Successfully installed urllib3-1.25.11\n"
          ],
          "name": "stdout"
        },
        {
          "output_type": "display_data",
          "data": {
            "application/vnd.colab-display-data+json": {
              "pip_warning": {
                "packages": [
                  "urllib3"
                ]
              }
            }
          },
          "metadata": {
            "tags": []
          }
        }
      ]
    },
    {
      "cell_type": "code",
      "metadata": {
        "id": "pfu9eeQ8hNSW"
      },
      "source": [
        "from flair.embeddings import ELMoEmbeddings "
      ],
      "execution_count": null,
      "outputs": []
    },
    {
      "cell_type": "code",
      "metadata": {
        "colab": {
          "base_uri": "https://localhost:8080/"
        },
        "id": "u67Vo06xhTBv",
        "outputId": "c7f6792d-7910-46d0-e52d-8aa7b265241c"
      },
      "source": [
        "!pip install allennlp==0.9.0"
      ],
      "execution_count": null,
      "outputs": [
        {
          "output_type": "stream",
          "text": [
            "Requirement already satisfied: allennlp==0.9.0 in /usr/local/lib/python3.6/dist-packages (0.9.0)\n",
            "Requirement already satisfied: conllu==1.3.1 in /usr/local/lib/python3.6/dist-packages (from allennlp==0.9.0) (1.3.1)\n",
            "Requirement already satisfied: jsonnet>=0.10.0; sys_platform != \"win32\" in /usr/local/lib/python3.6/dist-packages (from allennlp==0.9.0) (0.17.0)\n",
            "Requirement already satisfied: ftfy in /usr/local/lib/python3.6/dist-packages (from allennlp==0.9.0) (5.8)\n",
            "Requirement already satisfied: numpy in /usr/local/lib/python3.6/dist-packages (from allennlp==0.9.0) (1.19.5)\n",
            "Requirement already satisfied: unidecode in /usr/local/lib/python3.6/dist-packages (from allennlp==0.9.0) (1.1.2)\n",
            "Requirement already satisfied: torch>=1.2.0 in /usr/local/lib/python3.6/dist-packages (from allennlp==0.9.0) (1.7.0+cu101)\n",
            "Requirement already satisfied: pytest in /usr/local/lib/python3.6/dist-packages (from allennlp==0.9.0) (3.6.4)\n",
            "Requirement already satisfied: parsimonious>=0.8.0 in /usr/local/lib/python3.6/dist-packages (from allennlp==0.9.0) (0.8.1)\n",
            "Requirement already satisfied: flask-cors>=3.0.7 in /usr/local/lib/python3.6/dist-packages (from allennlp==0.9.0) (3.0.10)\n",
            "Requirement already satisfied: h5py in /usr/local/lib/python3.6/dist-packages (from allennlp==0.9.0) (2.10.0)\n",
            "Requirement already satisfied: tqdm>=4.19 in /usr/local/lib/python3.6/dist-packages (from allennlp==0.9.0) (4.41.1)\n",
            "Requirement already satisfied: flaky in /usr/local/lib/python3.6/dist-packages (from allennlp==0.9.0) (3.7.0)\n",
            "Requirement already satisfied: jsonpickle in /usr/local/lib/python3.6/dist-packages (from allennlp==0.9.0) (1.5.1)\n",
            "Requirement already satisfied: editdistance in /usr/local/lib/python3.6/dist-packages (from allennlp==0.9.0) (0.5.3)\n",
            "Requirement already satisfied: sqlparse>=0.2.4 in /usr/local/lib/python3.6/dist-packages (from allennlp==0.9.0) (0.4.1)\n",
            "Requirement already satisfied: pytorch-transformers==1.1.0 in /usr/local/lib/python3.6/dist-packages (from allennlp==0.9.0) (1.1.0)\n",
            "Requirement already satisfied: gevent>=1.3.6 in /usr/local/lib/python3.6/dist-packages (from allennlp==0.9.0) (21.1.2)\n",
            "Requirement already satisfied: pytz>=2017.3 in /usr/local/lib/python3.6/dist-packages (from allennlp==0.9.0) (2018.9)\n",
            "Requirement already satisfied: flask>=1.0.2 in /usr/local/lib/python3.6/dist-packages (from allennlp==0.9.0) (1.1.2)\n",
            "Requirement already satisfied: word2number>=1.1 in /usr/local/lib/python3.6/dist-packages (from allennlp==0.9.0) (1.1)\n",
            "Requirement already satisfied: requests>=2.18 in /usr/local/lib/python3.6/dist-packages (from allennlp==0.9.0) (2.23.0)\n",
            "Requirement already satisfied: responses>=0.7 in /usr/local/lib/python3.6/dist-packages (from allennlp==0.9.0) (0.12.1)\n",
            "Requirement already satisfied: tensorboardX>=1.2 in /usr/local/lib/python3.6/dist-packages (from allennlp==0.9.0) (2.1)\n",
            "Requirement already satisfied: nltk in /usr/local/lib/python3.6/dist-packages (from allennlp==0.9.0) (3.2.5)\n",
            "Requirement already satisfied: overrides in /usr/local/lib/python3.6/dist-packages (from allennlp==0.9.0) (3.0.0)\n",
            "Requirement already satisfied: numpydoc>=0.8.0 in /usr/local/lib/python3.6/dist-packages (from allennlp==0.9.0) (1.1.0)\n",
            "Requirement already satisfied: scipy in /usr/local/lib/python3.6/dist-packages (from allennlp==0.9.0) (1.4.1)\n",
            "Requirement already satisfied: scikit-learn in /usr/local/lib/python3.6/dist-packages (from allennlp==0.9.0) (0.22.2.post1)\n",
            "Requirement already satisfied: spacy<2.2,>=2.1.0 in /usr/local/lib/python3.6/dist-packages (from allennlp==0.9.0) (2.1.9)\n",
            "Requirement already satisfied: pytorch-pretrained-bert>=0.6.0 in /usr/local/lib/python3.6/dist-packages (from allennlp==0.9.0) (0.6.2)\n",
            "Requirement already satisfied: boto3 in /usr/local/lib/python3.6/dist-packages (from allennlp==0.9.0) (1.16.63)\n",
            "Requirement already satisfied: matplotlib>=2.2.3 in /usr/local/lib/python3.6/dist-packages (from allennlp==0.9.0) (3.2.2)\n",
            "Requirement already satisfied: wcwidth in /usr/local/lib/python3.6/dist-packages (from ftfy->allennlp==0.9.0) (0.2.5)\n",
            "Requirement already satisfied: typing-extensions in /usr/local/lib/python3.6/dist-packages (from torch>=1.2.0->allennlp==0.9.0) (3.7.4.3)\n",
            "Requirement already satisfied: future in /usr/local/lib/python3.6/dist-packages (from torch>=1.2.0->allennlp==0.9.0) (0.16.0)\n",
            "Requirement already satisfied: dataclasses in /usr/local/lib/python3.6/dist-packages (from torch>=1.2.0->allennlp==0.9.0) (0.8)\n",
            "Requirement already satisfied: six>=1.10.0 in /usr/local/lib/python3.6/dist-packages (from pytest->allennlp==0.9.0) (1.15.0)\n",
            "Requirement already satisfied: more-itertools>=4.0.0 in /usr/local/lib/python3.6/dist-packages (from pytest->allennlp==0.9.0) (8.6.0)\n",
            "Requirement already satisfied: pluggy<0.8,>=0.5 in /usr/local/lib/python3.6/dist-packages (from pytest->allennlp==0.9.0) (0.7.1)\n",
            "Requirement already satisfied: atomicwrites>=1.0 in /usr/local/lib/python3.6/dist-packages (from pytest->allennlp==0.9.0) (1.4.0)\n",
            "Requirement already satisfied: setuptools in /usr/local/lib/python3.6/dist-packages (from pytest->allennlp==0.9.0) (51.3.3)\n",
            "Requirement already satisfied: py>=1.5.0 in /usr/local/lib/python3.6/dist-packages (from pytest->allennlp==0.9.0) (1.10.0)\n",
            "Requirement already satisfied: attrs>=17.4.0 in /usr/local/lib/python3.6/dist-packages (from pytest->allennlp==0.9.0) (20.3.0)\n",
            "Requirement already satisfied: importlib-metadata; python_version < \"3.8\" in /usr/local/lib/python3.6/dist-packages (from jsonpickle->allennlp==0.9.0) (3.4.0)\n",
            "Requirement already satisfied: regex in /usr/local/lib/python3.6/dist-packages (from pytorch-transformers==1.1.0->allennlp==0.9.0) (2019.12.20)\n",
            "Requirement already satisfied: sentencepiece in /usr/local/lib/python3.6/dist-packages (from pytorch-transformers==1.1.0->allennlp==0.9.0) (0.1.91)\n",
            "Requirement already satisfied: zope.event in /usr/local/lib/python3.6/dist-packages (from gevent>=1.3.6->allennlp==0.9.0) (4.5.0)\n",
            "Requirement already satisfied: zope.interface in /usr/local/lib/python3.6/dist-packages (from gevent>=1.3.6->allennlp==0.9.0) (5.2.0)\n",
            "Requirement already satisfied: greenlet<2.0,>=0.4.17; platform_python_implementation == \"CPython\" in /usr/local/lib/python3.6/dist-packages (from gevent>=1.3.6->allennlp==0.9.0) (1.0.0)\n",
            "Requirement already satisfied: itsdangerous>=0.24 in /usr/local/lib/python3.6/dist-packages (from flask>=1.0.2->allennlp==0.9.0) (1.1.0)\n",
            "Requirement already satisfied: Werkzeug>=0.15 in /usr/local/lib/python3.6/dist-packages (from flask>=1.0.2->allennlp==0.9.0) (1.0.1)\n",
            "Requirement already satisfied: click>=5.1 in /usr/local/lib/python3.6/dist-packages (from flask>=1.0.2->allennlp==0.9.0) (7.1.2)\n",
            "Requirement already satisfied: Jinja2>=2.10.1 in /usr/local/lib/python3.6/dist-packages (from flask>=1.0.2->allennlp==0.9.0) (2.11.2)\n",
            "Requirement already satisfied: urllib3!=1.25.0,!=1.25.1,<1.26,>=1.21.1 in /usr/local/lib/python3.6/dist-packages (from requests>=2.18->allennlp==0.9.0) (1.25.11)\n",
            "Requirement already satisfied: chardet<4,>=3.0.2 in /usr/local/lib/python3.6/dist-packages (from requests>=2.18->allennlp==0.9.0) (3.0.4)\n",
            "Requirement already satisfied: certifi>=2017.4.17 in /usr/local/lib/python3.6/dist-packages (from requests>=2.18->allennlp==0.9.0) (2020.12.5)\n",
            "Requirement already satisfied: idna<3,>=2.5 in /usr/local/lib/python3.6/dist-packages (from requests>=2.18->allennlp==0.9.0) (2.10)\n",
            "Requirement already satisfied: protobuf>=3.8.0 in /usr/local/lib/python3.6/dist-packages (from tensorboardX>=1.2->allennlp==0.9.0) (3.12.4)\n",
            "Requirement already satisfied: sphinx>=1.6.5 in /usr/local/lib/python3.6/dist-packages (from numpydoc>=0.8.0->allennlp==0.9.0) (1.8.5)\n",
            "Requirement already satisfied: joblib>=0.11 in /usr/local/lib/python3.6/dist-packages (from scikit-learn->allennlp==0.9.0) (1.0.0)\n",
            "Requirement already satisfied: srsly<1.1.0,>=0.0.6 in /usr/local/lib/python3.6/dist-packages (from spacy<2.2,>=2.1.0->allennlp==0.9.0) (1.0.5)\n",
            "Requirement already satisfied: wasabi<1.1.0,>=0.2.0 in /usr/local/lib/python3.6/dist-packages (from spacy<2.2,>=2.1.0->allennlp==0.9.0) (0.8.1)\n",
            "Requirement already satisfied: preshed<2.1.0,>=2.0.1 in /usr/local/lib/python3.6/dist-packages (from spacy<2.2,>=2.1.0->allennlp==0.9.0) (2.0.1)\n",
            "Requirement already satisfied: thinc<7.1.0,>=7.0.8 in /usr/local/lib/python3.6/dist-packages (from spacy<2.2,>=2.1.0->allennlp==0.9.0) (7.0.8)\n",
            "Requirement already satisfied: blis<0.3.0,>=0.2.2 in /usr/local/lib/python3.6/dist-packages (from spacy<2.2,>=2.1.0->allennlp==0.9.0) (0.2.4)\n",
            "Requirement already satisfied: plac<1.0.0,>=0.9.6 in /usr/local/lib/python3.6/dist-packages (from spacy<2.2,>=2.1.0->allennlp==0.9.0) (0.9.6)\n",
            "Requirement already satisfied: murmurhash<1.1.0,>=0.28.0 in /usr/local/lib/python3.6/dist-packages (from spacy<2.2,>=2.1.0->allennlp==0.9.0) (1.0.5)\n",
            "Requirement already satisfied: cymem<2.1.0,>=2.0.2 in /usr/local/lib/python3.6/dist-packages (from spacy<2.2,>=2.1.0->allennlp==0.9.0) (2.0.5)\n",
            "Requirement already satisfied: jmespath<1.0.0,>=0.7.1 in /usr/local/lib/python3.6/dist-packages (from boto3->allennlp==0.9.0) (0.10.0)\n",
            "Requirement already satisfied: s3transfer<0.4.0,>=0.3.0 in /usr/local/lib/python3.6/dist-packages (from boto3->allennlp==0.9.0) (0.3.4)\n",
            "Requirement already satisfied: botocore<1.20.0,>=1.19.63 in /usr/local/lib/python3.6/dist-packages (from boto3->allennlp==0.9.0) (1.19.63)\n",
            "Requirement already satisfied: cycler>=0.10 in /usr/local/lib/python3.6/dist-packages (from matplotlib>=2.2.3->allennlp==0.9.0) (0.10.0)\n",
            "Requirement already satisfied: python-dateutil>=2.1 in /usr/local/lib/python3.6/dist-packages (from matplotlib>=2.2.3->allennlp==0.9.0) (2.8.1)\n",
            "Requirement already satisfied: kiwisolver>=1.0.1 in /usr/local/lib/python3.6/dist-packages (from matplotlib>=2.2.3->allennlp==0.9.0) (1.3.1)\n",
            "Requirement already satisfied: pyparsing!=2.0.4,!=2.1.2,!=2.1.6,>=2.0.1 in /usr/local/lib/python3.6/dist-packages (from matplotlib>=2.2.3->allennlp==0.9.0) (2.4.7)\n",
            "Requirement already satisfied: zipp>=0.5 in /usr/local/lib/python3.6/dist-packages (from importlib-metadata; python_version < \"3.8\"->jsonpickle->allennlp==0.9.0) (3.4.0)\n",
            "Requirement already satisfied: MarkupSafe>=0.23 in /usr/local/lib/python3.6/dist-packages (from Jinja2>=2.10.1->flask>=1.0.2->allennlp==0.9.0) (1.1.1)\n",
            "Requirement already satisfied: packaging in /usr/local/lib/python3.6/dist-packages (from sphinx>=1.6.5->numpydoc>=0.8.0->allennlp==0.9.0) (20.8)\n",
            "Requirement already satisfied: sphinxcontrib-websupport in /usr/local/lib/python3.6/dist-packages (from sphinx>=1.6.5->numpydoc>=0.8.0->allennlp==0.9.0) (1.2.4)\n",
            "Requirement already satisfied: babel!=2.0,>=1.3 in /usr/local/lib/python3.6/dist-packages (from sphinx>=1.6.5->numpydoc>=0.8.0->allennlp==0.9.0) (2.9.0)\n",
            "Requirement already satisfied: snowballstemmer>=1.1 in /usr/local/lib/python3.6/dist-packages (from sphinx>=1.6.5->numpydoc>=0.8.0->allennlp==0.9.0) (2.1.0)\n",
            "Requirement already satisfied: alabaster<0.8,>=0.7 in /usr/local/lib/python3.6/dist-packages (from sphinx>=1.6.5->numpydoc>=0.8.0->allennlp==0.9.0) (0.7.12)\n",
            "Requirement already satisfied: imagesize in /usr/local/lib/python3.6/dist-packages (from sphinx>=1.6.5->numpydoc>=0.8.0->allennlp==0.9.0) (1.2.0)\n",
            "Requirement already satisfied: Pygments>=2.0 in /usr/local/lib/python3.6/dist-packages (from sphinx>=1.6.5->numpydoc>=0.8.0->allennlp==0.9.0) (2.6.1)\n",
            "Requirement already satisfied: docutils>=0.11 in /usr/local/lib/python3.6/dist-packages (from sphinx>=1.6.5->numpydoc>=0.8.0->allennlp==0.9.0) (0.16)\n",
            "Requirement already satisfied: sphinxcontrib-serializinghtml in /usr/local/lib/python3.6/dist-packages (from sphinxcontrib-websupport->sphinx>=1.6.5->numpydoc>=0.8.0->allennlp==0.9.0) (1.1.4)\n"
          ],
          "name": "stdout"
        }
      ]
    },
    {
      "cell_type": "code",
      "metadata": {
        "id": "ZtqM5sXahfGP"
      },
      "source": [
        "elmo = ELMoEmbeddings('original')"
      ],
      "execution_count": null,
      "outputs": []
    },
    {
      "cell_type": "code",
      "metadata": {
        "id": "25gTa_WphjpQ"
      },
      "source": [
        "df_elmo=train_data[:500]"
      ],
      "execution_count": null,
      "outputs": []
    },
    {
      "cell_type": "code",
      "metadata": {
        "colab": {
          "base_uri": "https://localhost:8080/"
        },
        "id": "DHCjS_zMiIa3",
        "outputId": "3aeba641-ff28-4865-ed3e-9d871082ac7f"
      },
      "source": [
        "df_elmo[\"sent_1\"] = df_elmo['sent_1'].str.replace('[^\\w\\s]','')\n",
        "df_elmo[\"sent_2\"] = df_elmo['sent_2'].str.replace('[^\\w\\s]','')"
      ],
      "execution_count": null,
      "outputs": [
        {
          "output_type": "stream",
          "text": [
            "/usr/local/lib/python3.6/dist-packages/ipykernel_launcher.py:1: SettingWithCopyWarning: \n",
            "A value is trying to be set on a copy of a slice from a DataFrame.\n",
            "Try using .loc[row_indexer,col_indexer] = value instead\n",
            "\n",
            "See the caveats in the documentation: https://pandas.pydata.org/pandas-docs/stable/user_guide/indexing.html#returning-a-view-versus-a-copy\n",
            "  \"\"\"Entry point for launching an IPython kernel.\n",
            "/usr/local/lib/python3.6/dist-packages/ipykernel_launcher.py:2: SettingWithCopyWarning: \n",
            "A value is trying to be set on a copy of a slice from a DataFrame.\n",
            "Try using .loc[row_indexer,col_indexer] = value instead\n",
            "\n",
            "See the caveats in the documentation: https://pandas.pydata.org/pandas-docs/stable/user_guide/indexing.html#returning-a-view-versus-a-copy\n",
            "  \n"
          ],
          "name": "stderr"
        }
      ]
    },
    {
      "cell_type": "code",
      "metadata": {
        "id": "VOTOdEgujBwO"
      },
      "source": [
        "from flair.data import Sentence"
      ],
      "execution_count": null,
      "outputs": []
    },
    {
      "cell_type": "code",
      "metadata": {
        "colab": {
          "base_uri": "https://localhost:8080/"
        },
        "id": "PmLDX32bJbFj",
        "outputId": "f309169f-7910-472a-b056-8b79b1a00668"
      },
      "source": [
        "list1=[]\n",
        "[list1.append(i) for sent_1 in tokens_with_stop for i in sent_1]\n",
        "len(list1)\n",
        "frequencies = FreqDist(list1)\n",
        "print(frequencies)"
      ],
      "execution_count": null,
      "outputs": [
        {
          "output_type": "stream",
          "text": [
            "<FreqDist with 8487 samples and 50297 outcomes>\n"
          ],
          "name": "stdout"
        }
      ]
    },
    {
      "cell_type": "code",
      "metadata": {
        "id": "-gKs7m58JZCx"
      },
      "source": [
        "import numpy as np\n",
        "from flair.data import Sentence\n",
        "from sklearn.decomposition import TruncatedSVD\n",
        "from sklearn.metrics.pairwise import cosine_similarity\n",
        "\n",
        "\n",
        "def remove_first_principal_component(X):\n",
        "    svd = TruncatedSVD(n_components=1, n_iter=7, random_state=0)\n",
        "    svd.fit(X)\n",
        "    pc = svd.components_\n",
        "    XX = X - X.dot(pc.transpose()) * pc\n",
        "    return XX"
      ],
      "execution_count": null,
      "outputs": []
    },
    {
      "cell_type": "code",
      "metadata": {
        "id": "8eiXL4EVil7z"
      },
      "source": [
        "def run_context_sif_benchmark(sentences1, sentences2, model, freqs={}, use_stoplist=False, a=0.001):\n",
        "    total_freq = sum(freqs.values())\n",
        "\n",
        "    embeddings = []\n",
        "\n",
        "    # SIF requires us to first collect all sentence embeddings and then perform\n",
        "    # common component analysis.\n",
        "    for (sent1, sent2) in zip(sentences1, sentences2):\n",
        "        tokens1 = sent1.tokens_without_stop if use_stoplist else sent1.tokens\n",
        "        tokens2 = sent2.tokens_without_stop if use_stoplist else sent2.tokens\n",
        "\n",
        "        flair_tokens1 = sent1.tokens\n",
        "        flair_tokens2 = sent2.tokens\n",
        "\n",
        "        flair_sent1 = Sentence(\" \".join(flair_tokens1))\n",
        "        flair_sent2 = Sentence(\" \".join(flair_tokens2))\n",
        "\n",
        "        model.embed(flair_sent1)\n",
        "        model.embed(flair_sent2)\n",
        "\n",
        "        embeddings_map1 = {}\n",
        "        embeddings_map2 = {}\n",
        "\n",
        "        for token in flair_sent1:\n",
        "            embeddings_map1[token.text] = np.array(token.embedding.data.tolist())\n",
        "\n",
        "        for token in flair_sent2:\n",
        "            embeddings_map2[token.text] = np.array(token.embedding.data.tolist())\n",
        "\n",
        "        tokens1 = [token for token in tokens1]\n",
        "        tokens2 = [token for token in tokens2]\n",
        "\n",
        "        weights1 = [a / (a + freqs.get(token, 0) / total_freq) for token in tokens1]\n",
        "        weights2 = [a / (a + freqs.get(token, 0) / total_freq) for token in tokens2]\n",
        "\n",
        "        embedding1 = np.average([embeddings_map1[token] for token in tokens1], axis=0, weights=weights1)\n",
        "        embedding2 = np.average([embeddings_map2[token] for token in tokens2], axis=0, weights=weights2)\n",
        "\n",
        "        embeddings.append(embedding1)\n",
        "        embeddings.append(embedding2)\n",
        "\n",
        "    embeddings = remove_first_principal_component(np.array(embeddings))\n",
        "    sims = [cosine_similarity(embeddings[idx * 2].reshape(1, -1),\n",
        "                              embeddings[idx * 2 + 1].reshape(1, -1))[0][0]\n",
        "            for idx in range(int(len(embeddings) / 2))]\n",
        "\n",
        "    return sims"
      ],
      "execution_count": null,
      "outputs": []
    },
    {
      "cell_type": "code",
      "metadata": {
        "id": "9mp0RLaEiLvl"
      },
      "source": [
        "sentences1 = [SentenceModel(s) for s in df_elmo['sent_1']] \n",
        "sentences2 = [SentenceModel(s) for s in df_elmo['sent_2']]\n",
        "\n",
        "#sims = run_context_avg_benchmark(sentences1, sentences2, model=elmo, use_stoplist=False, doc_freqs=None)\n",
        "sims = run_context_sif_benchmark(sentences1, sentences2, model=elmo, freqs=frequencies, use_stoplist=False, a=0.001)\n",
        "df_elmo[\"predicted_sim\"] = pd.Series(sims).values\n",
        "\n",
        "df_elmo[\"diff\"] = np.sqrt((df_elmo[\"predicted_sim\"] - df_elmo[\"sim\"])**2)\n",
        "\n",
        "df_elmo = df_elmo.sort_values(\"sim\", ascending=False)"
      ],
      "execution_count": null,
      "outputs": []
    },
    {
      "cell_type": "code",
      "metadata": {
        "id": "WK4CSjtCNCrB"
      },
      "source": [
        "import sklearn"
      ],
      "execution_count": null,
      "outputs": []
    },
    {
      "cell_type": "code",
      "metadata": {
        "id": "2404MQ_viUBO"
      },
      "source": [
        "import scipy\n",
        "from math import sqrt \n",
        "from sklearn.metrics import mean_squared_error\n",
        "pearson_correlation = scipy.stats.pearsonr(sims, df_elmo['sim'])[0]\n",
        "spearman_correlation = scipy.stats.spearmanr(sims, df_elmo['sim'])[0]\n",
        "rmse = np.sqrt(sklearn.metrics.mean_squared_error(sims, df_elmo['sim']))\n",
        "textstr = 'RMSE=%.3f\\nPearson Correlation=%.3f\\nSpearman Correlation=%.3f'%(rmse, pearson_correlation, spearman_correlation)\n"
      ],
      "execution_count": null,
      "outputs": []
    },
    {
      "cell_type": "code",
      "metadata": {
        "colab": {
          "base_uri": "https://localhost:8080/"
        },
        "id": "JZLwvVoVkV3s",
        "outputId": "12022a15-1aab-47e6-87fe-662461e3a943"
      },
      "source": [
        "print(textstr)"
      ],
      "execution_count": null,
      "outputs": [
        {
          "output_type": "stream",
          "text": [
            "RMSE=0.283\n",
            "Pearson Correlation=0.192\n",
            "Spearman Correlation=0.242\n"
          ],
          "name": "stdout"
        }
      ]
    },
    {
      "cell_type": "code",
      "metadata": {
        "id": "O7S2EipxkYV6"
      },
      "source": [
        "df_elmo = df_elmo.sort_values(\"diff\", ascending=False)"
      ],
      "execution_count": null,
      "outputs": []
    },
    {
      "cell_type": "code",
      "metadata": {
        "colab": {
          "base_uri": "https://localhost:8080/",
          "height": 415
        },
        "id": "yNuiA-RVkaXu",
        "outputId": "3fc129a0-929e-42a1-b1f3-5a9ccbcdf31f"
      },
      "source": [
        "df_elmo[:100]"
      ],
      "execution_count": null,
      "outputs": [
        {
          "output_type": "execute_result",
          "data": {
            "text/html": [
              "<div>\n",
              "<style scoped>\n",
              "    .dataframe tbody tr th:only-of-type {\n",
              "        vertical-align: middle;\n",
              "    }\n",
              "\n",
              "    .dataframe tbody tr th {\n",
              "        vertical-align: top;\n",
              "    }\n",
              "\n",
              "    .dataframe thead th {\n",
              "        text-align: right;\n",
              "    }\n",
              "</style>\n",
              "<table border=\"1\" class=\"dataframe\">\n",
              "  <thead>\n",
              "    <tr style=\"text-align: right;\">\n",
              "      <th></th>\n",
              "      <th>sim</th>\n",
              "      <th>sent_1</th>\n",
              "      <th>sent_2</th>\n",
              "      <th>predicted_sim</th>\n",
              "      <th>diff</th>\n",
              "      <th>id</th>\n",
              "    </tr>\n",
              "  </thead>\n",
              "  <tbody>\n",
              "    <tr>\n",
              "      <th>4085</th>\n",
              "      <td>0.00</td>\n",
              "      <td>live blog ukraine in crisis</td>\n",
              "      <td>live blog iraq in turmoil</td>\n",
              "      <td>0.869628</td>\n",
              "      <td>0.869628</td>\n",
              "      <td>305</td>\n",
              "    </tr>\n",
              "    <tr>\n",
              "      <th>3014</th>\n",
              "      <td>0.04</td>\n",
              "      <td>69 magnitude earthquake hits new zealand</td>\n",
              "      <td>56 magnitude earthquake shakes iran</td>\n",
              "      <td>0.836300</td>\n",
              "      <td>0.796300</td>\n",
              "      <td>382</td>\n",
              "    </tr>\n",
              "    <tr>\n",
              "      <th>4105</th>\n",
              "      <td>0.00</td>\n",
              "      <td>oscar pistorius sentenced to 5 years in prison</td>\n",
              "      <td>bookkeeper of auschwitz sentenced to four year...</td>\n",
              "      <td>0.763204</td>\n",
              "      <td>0.763204</td>\n",
              "      <td>276</td>\n",
              "    </tr>\n",
              "    <tr>\n",
              "      <th>3948</th>\n",
              "      <td>0.00</td>\n",
              "      <td>5 things to know about the sochi olympics</td>\n",
              "      <td>7 things to know about ethanol</td>\n",
              "      <td>0.763006</td>\n",
              "      <td>0.763006</td>\n",
              "      <td>220</td>\n",
              "    </tr>\n",
              "    <tr>\n",
              "      <th>3406</th>\n",
              "      <td>0.00</td>\n",
              "      <td>residents return to texas blast site</td>\n",
              "      <td>residents return to fallujah</td>\n",
              "      <td>0.751559</td>\n",
              "      <td>0.751559</td>\n",
              "      <td>319</td>\n",
              "    </tr>\n",
              "    <tr>\n",
              "      <th>...</th>\n",
              "      <td>...</td>\n",
              "      <td>...</td>\n",
              "      <td>...</td>\n",
              "      <td>...</td>\n",
              "      <td>...</td>\n",
              "      <td>...</td>\n",
              "    </tr>\n",
              "    <tr>\n",
              "      <th>749</th>\n",
              "      <td>0.00</td>\n",
              "      <td>a man is dancing</td>\n",
              "      <td>a rat is running</td>\n",
              "      <td>0.386410</td>\n",
              "      <td>0.386410</td>\n",
              "      <td>266</td>\n",
              "    </tr>\n",
              "    <tr>\n",
              "      <th>2915</th>\n",
              "      <td>0.04</td>\n",
              "      <td>pc david rathband twin brothers fears for his ...</td>\n",
              "      <td>david miliband my brother and a return to old ...</td>\n",
              "      <td>0.424467</td>\n",
              "      <td>0.384467</td>\n",
              "      <td>367</td>\n",
              "    </tr>\n",
              "    <tr>\n",
              "      <th>3409</th>\n",
              "      <td>0.00</td>\n",
              "      <td>miliband pledges to strengthen minimum wage</td>\n",
              "      <td>portugalchina to strengthen scientific researc...</td>\n",
              "      <td>0.383059</td>\n",
              "      <td>0.383059</td>\n",
              "      <td>16</td>\n",
              "    </tr>\n",
              "    <tr>\n",
              "      <th>1106</th>\n",
              "      <td>0.00</td>\n",
              "      <td>a girl in a red shirt is riding a brown horse</td>\n",
              "      <td>a tan and white dog laying in bed with a yello...</td>\n",
              "      <td>0.379373</td>\n",
              "      <td>0.379373</td>\n",
              "      <td>264</td>\n",
              "    </tr>\n",
              "    <tr>\n",
              "      <th>1778</th>\n",
              "      <td>0.04</td>\n",
              "      <td>the boy is looking up at the girl as another g...</td>\n",
              "      <td>the boy is diving into the pool as the couple ...</td>\n",
              "      <td>0.410426</td>\n",
              "      <td>0.370426</td>\n",
              "      <td>360</td>\n",
              "    </tr>\n",
              "  </tbody>\n",
              "</table>\n",
              "<p>100 rows × 6 columns</p>\n",
              "</div>"
            ],
            "text/plain": [
              "       sim                                             sent_1  ...      diff   id\n",
              "4085  0.00                        live blog ukraine in crisis  ...  0.869628  305\n",
              "3014  0.04           69 magnitude earthquake hits new zealand  ...  0.796300  382\n",
              "4105  0.00     oscar pistorius sentenced to 5 years in prison  ...  0.763204  276\n",
              "3948  0.00          5 things to know about the sochi olympics  ...  0.763006  220\n",
              "3406  0.00               residents return to texas blast site  ...  0.751559  319\n",
              "...    ...                                                ...  ...       ...  ...\n",
              "749   0.00                                   a man is dancing  ...  0.386410  266\n",
              "2915  0.04  pc david rathband twin brothers fears for his ...  ...  0.384467  367\n",
              "3409  0.00        miliband pledges to strengthen minimum wage  ...  0.383059   16\n",
              "1106  0.00      a girl in a red shirt is riding a brown horse  ...  0.379373  264\n",
              "1778  0.04  the boy is looking up at the girl as another g...  ...  0.370426  360\n",
              "\n",
              "[100 rows x 6 columns]"
            ]
          },
          "metadata": {
            "tags": []
          },
          "execution_count": 92
        }
      ]
    },
    {
      "cell_type": "code",
      "metadata": {
        "id": "rIGCRtNjOOaN"
      },
      "source": [
        "from collections import Counter"
      ],
      "execution_count": null,
      "outputs": []
    },
    {
      "cell_type": "code",
      "metadata": {
        "id": "vB8zRLirkcMS"
      },
      "source": [
        "from tqdm import tqdm\n",
        "from flair.data import Sentence\n",
        "def run_context_avg_benchmark(sentences1, sentences2, model=None, use_stoplist=False, doc_freqs=None):\n",
        "    if doc_freqs is not None:\n",
        "        N = doc_freqs[\"NUM_DOCS\"]\n",
        "\n",
        "    sims = []\n",
        "    print(sims)\n",
        "    for (sent1, sent2) in tqdm(zip(sentences1, sentences2), total=len(sentences1)):\n",
        "      \n",
        "      tokens1 = sent1.tokens_without_stop if use_stoplist else sent1.tokens\n",
        "      tokens2 = sent2.tokens_without_stop if use_stoplist else sent2.tokens\n",
        "\n",
        "      flair_tokens1 = sent1.tokens\n",
        "      flair_tokens2 = sent2.tokens\n",
        "\n",
        "      flair_sent1 = Sentence(\" \".join(flair_tokens1))\n",
        "      flair_sent2 = Sentence(\" \".join(flair_tokens2))\n",
        "      \n",
        "      model.embed(flair_sent1)\n",
        "      model.embed(flair_sent2)\n",
        "\n",
        "      embeddings_map1 = {}\n",
        "      embeddings_map2 = {}\n",
        "\n",
        "      for token in flair_sent1:\n",
        "        embeddings_map1[token.text] = np.array(token.embedding.data.tolist())\n",
        "\n",
        "      for token in flair_sent2:\n",
        "        embeddings_map2[token.text] = np.array(token.embedding.data.tolist())\n",
        "\n",
        "      if len(tokens1) == 0 or len(tokens2) == 0:\n",
        "        sims.append(0)\n",
        "        continue\n",
        "\n",
        "      tokfreqs1 = Counter(tokens1)\n",
        "      tokfreqs2 = Counter(tokens2)\n",
        "\n",
        "      weights1 = [tokfreqs1[token] * math.log(N / (doc_freqs.get(token, 0) + 1)) \n",
        "                  for token in tokfreqs1 if token in embeddings_map1] if doc_freqs else None\n",
        "      weights2 = [tokfreqs2[token] * math.log(N / (doc_freqs.get(token, 0) + 1))\n",
        "                  for token in tokfreqs2 if token in embeddings_map2] if doc_freqs else None\n",
        "\n",
        "      embedding1 = np.average([embeddings_map1[token] for token in tokfreqs1 if token in embeddings_map1], axis=0, weights=weights1).reshape(1, -1)\n",
        "      embedding2 = np.average([embeddings_map2[token] for token in tokfreqs2 if token in embeddings_map2], axis=0, weights=weights2).reshape(1, -1)\n",
        "\n",
        "      sim = cosine_similarity(embedding1, embedding2)[0][0]\n",
        "      \n",
        "      sims.append(sim)\n",
        "    print(sims)\n",
        "    return sims"
      ],
      "execution_count": null,
      "outputs": []
    },
    {
      "cell_type": "markdown",
      "metadata": {
        "id": "Xw8TTovTmdvJ"
      },
      "source": [
        "##Bert Embeddings"
      ]
    },
    {
      "cell_type": "code",
      "metadata": {
        "id": "fjcykWnPvx3j",
        "colab": {
          "base_uri": "https://localhost:8080/",
          "height": 225
        },
        "outputId": "17cb073f-b44a-42bf-d539-08de80152c9b"
      },
      "source": [
        "display(train_data['sim'])"
      ],
      "execution_count": null,
      "outputs": [
        {
          "output_type": "display_data",
          "data": {
            "text/plain": [
              "0       1.00\n",
              "1       0.76\n",
              "2       0.76\n",
              "3       0.52\n",
              "4       0.85\n",
              "        ... \n",
              "4132    0.40\n",
              "4133    0.00\n",
              "4134    0.00\n",
              "4135    0.00\n",
              "4136    0.00\n",
              "Name: sim, Length: 4137, dtype: float64"
            ]
          },
          "metadata": {
            "tags": []
          }
        }
      ]
    },
    {
      "cell_type": "code",
      "metadata": {
        "colab": {
          "base_uri": "https://localhost:8080/"
        },
        "id": "iNxwB23WDPuR",
        "outputId": "aae4df01-e050-4ee2-958b-9027233b04d3"
      },
      "source": [
        "df1 = train_data['sent_1'].values\n",
        "len(df1)\n",
        "df1"
      ],
      "execution_count": null,
      "outputs": [
        {
          "output_type": "execute_result",
          "data": {
            "text/plain": [
              "array(['a plane is taking off.', 'a man is playing a large flute.',\n",
              "       'a man is spreading shreded cheese on a pizza.', ...,\n",
              "       'dozens of egyptians hostages taken by libyan terrorists as revenge for airstrikes',\n",
              "       'president heading to bahrain',\n",
              "       'putin spokesman: doping charges appear unfounded'], dtype=object)"
            ]
          },
          "metadata": {
            "tags": []
          },
          "execution_count": 113
        }
      ]
    },
    {
      "cell_type": "code",
      "metadata": {
        "colab": {
          "base_uri": "https://localhost:8080/"
        },
        "id": "h8EQ5khSDTjO",
        "outputId": "2a04589b-6b54-48b6-aa3e-dbb0a2644ce9"
      },
      "source": [
        "df2 = train_data['sent_2'].values\n",
        "len(df2)\n",
        "df2"
      ],
      "execution_count": null,
      "outputs": [
        {
          "output_type": "execute_result",
          "data": {
            "text/plain": [
              "array(['an air plane is taking off.', 'a man is playing a flute.',\n",
              "       'a man is spreading shredded cheese on an uncooked pizza.', ...,\n",
              "       'egyptian boat crash death toll rises as more bodies found in nile',\n",
              "       'president xi: china to continue help to fight ebola',\n",
              "       'the latest on severe weather: 1 dead in texas after tornado'],\n",
              "      dtype=object)"
            ]
          },
          "metadata": {
            "tags": []
          },
          "execution_count": 114
        }
      ]
    },
    {
      "cell_type": "code",
      "metadata": {
        "colab": {
          "base_uri": "https://localhost:8080/"
        },
        "id": "Gm8zW2hpDVlI",
        "outputId": "c90aba6a-56d6-40a8-ba42-a5fc2eee230f"
      },
      "source": [
        "pip install -U sentence-transformers"
      ],
      "execution_count": null,
      "outputs": [
        {
          "output_type": "stream",
          "text": [
            "Requirement already up-to-date: sentence-transformers in /usr/local/lib/python3.6/dist-packages (0.4.1.2)\n",
            "Requirement already satisfied, skipping upgrade: scikit-learn in /usr/local/lib/python3.6/dist-packages (from sentence-transformers) (0.22.2.post1)\n",
            "Requirement already satisfied, skipping upgrade: torch>=1.6.0 in /usr/local/lib/python3.6/dist-packages (from sentence-transformers) (1.7.0+cu101)\n",
            "Requirement already satisfied, skipping upgrade: scipy in /usr/local/lib/python3.6/dist-packages (from sentence-transformers) (1.4.1)\n",
            "Requirement already satisfied, skipping upgrade: transformers<5.0.0,>=3.1.0 in /usr/local/lib/python3.6/dist-packages (from sentence-transformers) (4.2.2)\n",
            "Requirement already satisfied, skipping upgrade: tqdm in /usr/local/lib/python3.6/dist-packages (from sentence-transformers) (4.41.1)\n",
            "Requirement already satisfied, skipping upgrade: sentencepiece in /usr/local/lib/python3.6/dist-packages (from sentence-transformers) (0.1.95)\n",
            "Requirement already satisfied, skipping upgrade: numpy in /usr/local/lib/python3.6/dist-packages (from sentence-transformers) (1.19.5)\n",
            "Requirement already satisfied, skipping upgrade: nltk in /usr/local/lib/python3.6/dist-packages (from sentence-transformers) (3.2.5)\n",
            "Requirement already satisfied, skipping upgrade: joblib>=0.11 in /usr/local/lib/python3.6/dist-packages (from scikit-learn->sentence-transformers) (1.0.0)\n",
            "Requirement already satisfied, skipping upgrade: dataclasses in /usr/local/lib/python3.6/dist-packages (from torch>=1.6.0->sentence-transformers) (0.8)\n",
            "Requirement already satisfied, skipping upgrade: future in /usr/local/lib/python3.6/dist-packages (from torch>=1.6.0->sentence-transformers) (0.16.0)\n",
            "Requirement already satisfied, skipping upgrade: typing-extensions in /usr/local/lib/python3.6/dist-packages (from torch>=1.6.0->sentence-transformers) (3.7.4.3)\n",
            "Requirement already satisfied, skipping upgrade: filelock in /usr/local/lib/python3.6/dist-packages (from transformers<5.0.0,>=3.1.0->sentence-transformers) (3.0.12)\n",
            "Requirement already satisfied, skipping upgrade: requests in /usr/local/lib/python3.6/dist-packages (from transformers<5.0.0,>=3.1.0->sentence-transformers) (2.23.0)\n",
            "Requirement already satisfied, skipping upgrade: sacremoses in /usr/local/lib/python3.6/dist-packages (from transformers<5.0.0,>=3.1.0->sentence-transformers) (0.0.43)\n",
            "Requirement already satisfied, skipping upgrade: tokenizers==0.9.4 in /usr/local/lib/python3.6/dist-packages (from transformers<5.0.0,>=3.1.0->sentence-transformers) (0.9.4)\n",
            "Requirement already satisfied, skipping upgrade: packaging in /usr/local/lib/python3.6/dist-packages (from transformers<5.0.0,>=3.1.0->sentence-transformers) (20.8)\n",
            "Requirement already satisfied, skipping upgrade: regex!=2019.12.17 in /usr/local/lib/python3.6/dist-packages (from transformers<5.0.0,>=3.1.0->sentence-transformers) (2019.12.20)\n",
            "Requirement already satisfied, skipping upgrade: importlib-metadata; python_version < \"3.8\" in /usr/local/lib/python3.6/dist-packages (from transformers<5.0.0,>=3.1.0->sentence-transformers) (3.4.0)\n",
            "Requirement already satisfied, skipping upgrade: six in /usr/local/lib/python3.6/dist-packages (from nltk->sentence-transformers) (1.15.0)\n",
            "Requirement already satisfied, skipping upgrade: chardet<4,>=3.0.2 in /usr/local/lib/python3.6/dist-packages (from requests->transformers<5.0.0,>=3.1.0->sentence-transformers) (3.0.4)\n",
            "Requirement already satisfied, skipping upgrade: idna<3,>=2.5 in /usr/local/lib/python3.6/dist-packages (from requests->transformers<5.0.0,>=3.1.0->sentence-transformers) (2.10)\n",
            "Requirement already satisfied, skipping upgrade: certifi>=2017.4.17 in /usr/local/lib/python3.6/dist-packages (from requests->transformers<5.0.0,>=3.1.0->sentence-transformers) (2020.12.5)\n",
            "Requirement already satisfied, skipping upgrade: urllib3!=1.25.0,!=1.25.1,<1.26,>=1.21.1 in /usr/local/lib/python3.6/dist-packages (from requests->transformers<5.0.0,>=3.1.0->sentence-transformers) (1.24.3)\n",
            "Requirement already satisfied, skipping upgrade: click in /usr/local/lib/python3.6/dist-packages (from sacremoses->transformers<5.0.0,>=3.1.0->sentence-transformers) (7.1.2)\n",
            "Requirement already satisfied, skipping upgrade: pyparsing>=2.0.2 in /usr/local/lib/python3.6/dist-packages (from packaging->transformers<5.0.0,>=3.1.0->sentence-transformers) (2.4.7)\n",
            "Requirement already satisfied, skipping upgrade: zipp>=0.5 in /usr/local/lib/python3.6/dist-packages (from importlib-metadata; python_version < \"3.8\"->transformers<5.0.0,>=3.1.0->sentence-transformers) (3.4.0)\n"
          ],
          "name": "stdout"
        }
      ]
    },
    {
      "cell_type": "code",
      "metadata": {
        "id": "NkZfHlp6DZ9l"
      },
      "source": [
        "from sentence_transformers import SentenceTransformer, util\n",
        "bert_model = SentenceTransformer('bert-base-nli-stsb-mean-tokens')"
      ],
      "execution_count": null,
      "outputs": []
    },
    {
      "cell_type": "code",
      "metadata": {
        "id": "DQuGEKQbDerj"
      },
      "source": [
        "#Compute embedding for both lists\n",
        "embedd_1 = bert_model.encode(df1, convert_to_tensor=True)\n",
        "embedd_2 = bert_model.encode(df2, convert_to_tensor=True)"
      ],
      "execution_count": null,
      "outputs": []
    },
    {
      "cell_type": "code",
      "metadata": {
        "id": "5pYV97vYDvTi"
      },
      "source": [
        "from scipy.spatial.distance import cosine\n",
        "sims=[]\n",
        "for i in range(0,len(embedd_2)):\n",
        "  sim=(1-cosine(embedd_1[i],embedd_2[i]))\n",
        "  sims.append(sim)"
      ],
      "execution_count": null,
      "outputs": []
    },
    {
      "cell_type": "code",
      "metadata": {
        "id": "XWpg3O62D3kg"
      },
      "source": [
        "# #Output the pairs with their score\n",
        "# for i in range(len(df1)):\n",
        "#     print(\"{} \\t\\t {} \\t\\t Score: {:.4f}\".format(df1[i], df2[i], cosine_scores[i][i]))"
      ],
      "execution_count": null,
      "outputs": []
    },
    {
      "cell_type": "code",
      "metadata": {
        "id": "6taceOf5EdlC"
      },
      "source": [
        "import scipy,sklearn"
      ],
      "execution_count": null,
      "outputs": []
    },
    {
      "cell_type": "code",
      "metadata": {
        "id": "4jQakoGnD6E2"
      },
      "source": [
        "train_data[\"predicted_sim\"] = pd.Series(sims).values\n",
        "train_data[\"diff\"] = np.sqrt((train_data[\"predicted_sim\"] - train_data[\"sim\"])**2)\n",
        "# train_data = train_data.sort_values(\"diff\", ascending=False)\n",
        "pearson_correlation = scipy.stats.pearsonr(sims, train_data['sim'])[0]\n",
        "spearman_correlation = scipy.stats.spearmanr(sims, train_data['sim'])[0]\n",
        "rmse = np.sqrt(sklearn.metrics.mean_squared_error(sims, train_data['sim']))\n",
        "textstr = 'RMSE=%.3f\\nPearson Correlation=%.3f\\nSpearman Correlation=%.3f'%(rmse, pearson_correlation, spearman_correlation)\n",
        "train_data['predicted_sim'] = pd.Series(sims).values\n",
        "train_data = train_data.sort_values('sim')\n",
        "id = list(range(0, len(train_data.index)))\n",
        "train_data['id'] = pd.Series(id).values"
      ],
      "execution_count": null,
      "outputs": []
    },
    {
      "cell_type": "code",
      "metadata": {
        "colab": {
          "base_uri": "https://localhost:8080/"
        },
        "id": "R05BEzqGEccP",
        "outputId": "864e570d-a04c-425d-83f4-22f01080f86d"
      },
      "source": [
        "print(textstr)"
      ],
      "execution_count": null,
      "outputs": [
        {
          "output_type": "stream",
          "text": [
            "RMSE=0.436\n",
            "Pearson Correlation=0.069\n",
            "Spearman Correlation=0.067\n"
          ],
          "name": "stdout"
        }
      ]
    },
    {
      "cell_type": "code",
      "metadata": {
        "colab": {
          "base_uri": "https://localhost:8080/"
        },
        "id": "47JGHa4HEnVd",
        "outputId": "51dcd2be-036b-47d1-ae15-52f4d4afa32c"
      },
      "source": [
        "print(textstr)"
      ],
      "execution_count": null,
      "outputs": [
        {
          "output_type": "stream",
          "text": [
            "RMSE=0.055\n",
            "Pearson Correlation=0.990\n",
            "Spearman Correlation=0.990\n"
          ],
          "name": "stdout"
        }
      ]
    },
    {
      "cell_type": "code",
      "metadata": {
        "colab": {
          "base_uri": "https://localhost:8080/",
          "height": 415
        },
        "id": "TkO4hj7yEqdh",
        "outputId": "0f433859-6bee-4623-9dc2-96cf97e6d8ff"
      },
      "source": [
        "train_data"
      ],
      "execution_count": null,
      "outputs": [
        {
          "output_type": "execute_result",
          "data": {
            "text/html": [
              "<div>\n",
              "<style scoped>\n",
              "    .dataframe tbody tr th:only-of-type {\n",
              "        vertical-align: middle;\n",
              "    }\n",
              "\n",
              "    .dataframe tbody tr th {\n",
              "        vertical-align: top;\n",
              "    }\n",
              "\n",
              "    .dataframe thead th {\n",
              "        text-align: right;\n",
              "    }\n",
              "</style>\n",
              "<table border=\"1\" class=\"dataframe\">\n",
              "  <thead>\n",
              "    <tr style=\"text-align: right;\">\n",
              "      <th></th>\n",
              "      <th>sim</th>\n",
              "      <th>sent_1</th>\n",
              "      <th>sent_2</th>\n",
              "      <th>predicted_sim</th>\n",
              "      <th>diff</th>\n",
              "      <th>id</th>\n",
              "    </tr>\n",
              "  </thead>\n",
              "  <tbody>\n",
              "    <tr>\n",
              "      <th>4136</th>\n",
              "      <td>0.0</td>\n",
              "      <td>putin spokesman: doping charges appear unfounded</td>\n",
              "      <td>the latest on severe weather: 1 dead in texas ...</td>\n",
              "      <td>-0.020427</td>\n",
              "      <td>0.020427</td>\n",
              "      <td>0</td>\n",
              "    </tr>\n",
              "    <tr>\n",
              "      <th>862</th>\n",
              "      <td>0.0</td>\n",
              "      <td>a man  is driving a car.</td>\n",
              "      <td>a woman dips a shrimp in batter.</td>\n",
              "      <td>-0.006125</td>\n",
              "      <td>0.006125</td>\n",
              "      <td>1</td>\n",
              "    </tr>\n",
              "    <tr>\n",
              "      <th>3508</th>\n",
              "      <td>0.0</td>\n",
              "      <td>japan's opposition party chief criticizes abe'...</td>\n",
              "      <td>zimbabwe‚äôs opposition mdc party challenges r...</td>\n",
              "      <td>-0.026820</td>\n",
              "      <td>0.026820</td>\n",
              "      <td>2</td>\n",
              "    </tr>\n",
              "    <tr>\n",
              "      <th>865</th>\n",
              "      <td>0.0</td>\n",
              "      <td>a monkey is walking on a bed.</td>\n",
              "      <td>a man is riding a horse.</td>\n",
              "      <td>-0.038889</td>\n",
              "      <td>0.038889</td>\n",
              "      <td>3</td>\n",
              "    </tr>\n",
              "    <tr>\n",
              "      <th>867</th>\n",
              "      <td>0.0</td>\n",
              "      <td>a man is frying a tortilla.</td>\n",
              "      <td>a person is performing a card trick.</td>\n",
              "      <td>-0.005880</td>\n",
              "      <td>0.005880</td>\n",
              "      <td>4</td>\n",
              "    </tr>\n",
              "    <tr>\n",
              "      <th>...</th>\n",
              "      <td>...</td>\n",
              "      <td>...</td>\n",
              "      <td>...</td>\n",
              "      <td>...</td>\n",
              "      <td>...</td>\n",
              "      <td>...</td>\n",
              "    </tr>\n",
              "    <tr>\n",
              "      <th>3368</th>\n",
              "      <td>1.0</td>\n",
              "      <td>china's new pm rejects us hacking claims</td>\n",
              "      <td>china premier li rejects 'groundless' us hacki...</td>\n",
              "      <td>0.918536</td>\n",
              "      <td>0.081464</td>\n",
              "      <td>4132</td>\n",
              "    </tr>\n",
              "    <tr>\n",
              "      <th>873</th>\n",
              "      <td>1.0</td>\n",
              "      <td>the person is removing the scales from the fish.</td>\n",
              "      <td>a person is descaling a fish.</td>\n",
              "      <td>0.914639</td>\n",
              "      <td>0.085361</td>\n",
              "      <td>4133</td>\n",
              "    </tr>\n",
              "    <tr>\n",
              "      <th>3938</th>\n",
              "      <td>1.0</td>\n",
              "      <td>ukraine leader pledges crisis talks</td>\n",
              "      <td>ukraine leader pledges crisis talks</td>\n",
              "      <td>1.000000</td>\n",
              "      <td>0.000000</td>\n",
              "      <td>4134</td>\n",
              "    </tr>\n",
              "    <tr>\n",
              "      <th>1528</th>\n",
              "      <td>1.0</td>\n",
              "      <td>a black poodle plays in the snow.</td>\n",
              "      <td>a black poodle frolics in the snow.</td>\n",
              "      <td>0.965921</td>\n",
              "      <td>0.034079</td>\n",
              "      <td>4135</td>\n",
              "    </tr>\n",
              "    <tr>\n",
              "      <th>0</th>\n",
              "      <td>1.0</td>\n",
              "      <td>a plane is taking off.</td>\n",
              "      <td>an air plane is taking off.</td>\n",
              "      <td>0.987216</td>\n",
              "      <td>0.012784</td>\n",
              "      <td>4136</td>\n",
              "    </tr>\n",
              "  </tbody>\n",
              "</table>\n",
              "<p>4137 rows × 6 columns</p>\n",
              "</div>"
            ],
            "text/plain": [
              "      sim                                             sent_1  ...      diff    id\n",
              "4136  0.0   putin spokesman: doping charges appear unfounded  ...  0.020427     0\n",
              "862   0.0                           a man  is driving a car.  ...  0.006125     1\n",
              "3508  0.0  japan's opposition party chief criticizes abe'...  ...  0.026820     2\n",
              "865   0.0                      a monkey is walking on a bed.  ...  0.038889     3\n",
              "867   0.0                        a man is frying a tortilla.  ...  0.005880     4\n",
              "...   ...                                                ...  ...       ...   ...\n",
              "3368  1.0           china's new pm rejects us hacking claims  ...  0.081464  4132\n",
              "873   1.0   the person is removing the scales from the fish.  ...  0.085361  4133\n",
              "3938  1.0                ukraine leader pledges crisis talks  ...  0.000000  4134\n",
              "1528  1.0                  a black poodle plays in the snow.  ...  0.034079  4135\n",
              "0     1.0                             a plane is taking off.  ...  0.012784  4136\n",
              "\n",
              "[4137 rows x 6 columns]"
            ]
          },
          "metadata": {
            "tags": []
          },
          "execution_count": 60
        }
      ]
    },
    {
      "cell_type": "code",
      "metadata": {
        "colab": {
          "base_uri": "https://localhost:8080/"
        },
        "id": "X9j-wRmEEuwT",
        "outputId": "b73b75e4-d795-4452-b5e0-2d1d75200552"
      },
      "source": [
        "from sentence_transformers import SentenceTransformer, util\n",
        "model = SentenceTransformer('stsb-distilbert-base')\n",
        "\n",
        "# Two lists of sentences\n",
        "sentences1 = ['The cat sits outside',\n",
        "             'A man is playing guitar',\n",
        "             'The new movie is awesome']\n",
        "\n",
        "sentences2 = ['The dog plays in the garden',\n",
        "              'A woman watches TV',\n",
        "              'The new movie is so great']\n",
        "\n",
        "#Compute embedding for both lists\n",
        "embeddings1 = model.encode(sentences1, convert_to_tensor=True)\n",
        "embeddings2 = model.encode(sentences2, convert_to_tensor=True)\n",
        "\n",
        "#Compute cosine-similarits\n",
        "cosine_scores = util.pytorch_cos_sim(embeddings1, embeddings2)\n",
        "\n",
        "#Output the pairs with their score\n",
        "for i in range(len(sentences1)):\n",
        "  print(\"{} \\t\\t {} \\t\\t Score: {:.4f}\".format(sentences1[i], sentences2[i], cosine_scores[i][i]))"
      ],
      "execution_count": null,
      "outputs": [
        {
          "output_type": "stream",
          "text": [
            "100%|██████████| 245M/245M [00:33<00:00, 7.36MB/s]\n"
          ],
          "name": "stderr"
        },
        {
          "output_type": "stream",
          "text": [
            "The cat sits outside \t\t The dog plays in the garden \t\t Score: 0.2166\n",
            "A man is playing guitar \t\t A woman watches TV \t\t Score: -0.0146\n",
            "The new movie is awesome \t\t The new movie is so great \t\t Score: 0.9816\n"
          ],
          "name": "stdout"
        }
      ]
    },
    {
      "cell_type": "code",
      "metadata": {
        "colab": {
          "base_uri": "https://localhost:8080/"
        },
        "id": "OiG97YvlE3bZ",
        "outputId": "f7ede535-f93c-4c1d-bb6e-e115913e72e3"
      },
      "source": [
        "cosine_scores"
      ],
      "execution_count": null,
      "outputs": [
        {
          "output_type": "execute_result",
          "data": {
            "text/plain": [
              "tensor([[ 0.2166,  0.1837, -0.0393],\n",
              "        [-0.2488, -0.0146,  0.0590],\n",
              "        [-0.1100,  0.0797,  0.9816]])"
            ]
          },
          "metadata": {
            "tags": []
          },
          "execution_count": 62
        }
      ]
    },
    {
      "cell_type": "code",
      "metadata": {
        "colab": {
          "base_uri": "https://localhost:8080/"
        },
        "id": "_3TZrTFsFDHm",
        "outputId": "463b1df1-258f-4700-e4c4-fdbac0726319"
      },
      "source": [
        "embeddings1"
      ],
      "execution_count": null,
      "outputs": [
        {
          "output_type": "execute_result",
          "data": {
            "text/plain": [
              "tensor([[ 0.5530, -0.0816,  0.2483,  ..., -0.2009, -0.5957, -0.8301],\n",
              "        [-0.5679, -0.6925, -0.1982,  ...,  1.0700, -0.6926, -1.2325],\n",
              "        [ 0.4037,  0.1574,  0.3715,  ...,  0.2966,  0.2992, -0.4972]])"
            ]
          },
          "metadata": {
            "tags": []
          },
          "execution_count": 63
        }
      ]
    },
    {
      "cell_type": "code",
      "metadata": {
        "id": "rnFrSy3gFIOF"
      },
      "source": [
        ""
      ],
      "execution_count": null,
      "outputs": []
    }
  ]
}